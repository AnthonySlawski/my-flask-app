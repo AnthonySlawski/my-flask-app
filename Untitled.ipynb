{
 "cells": [
  {
   "cell_type": "code",
   "execution_count": 9,
   "id": "dde926d0",
   "metadata": {
    "scrolled": true
   },
   "outputs": [
    {
     "name": "stdout",
     "output_type": "stream",
     "text": [
      "Fitting 5 folds for each of 9 candidates, totalling 45 fits\n"
     ]
    },
    {
     "data": {
      "application/vnd.plotly.v1+json": {
       "config": {
        "plotlyServerURL": "https://plot.ly"
       },
       "data": [
        {
         "domain": {
          "x": [
           0,
           0.4
          ],
          "y": [
           0.5,
           1
          ]
         },
         "gauge": {
          "axis": {
           "range": [
            0,
            100
           ]
          },
          "bar": {
           "color": "rgb(226, 255, 0)",
           "thickness": 0.3
          },
          "bgcolor": "white",
          "steps": [
           {
            "color": "rgba(255, 0, 0, 0.3)",
            "range": [
             0,
             1
            ]
           },
           {
            "color": "rgba(255, 5, 0, 0.3)",
            "range": [
             1,
             2
            ]
           },
           {
            "color": "rgba(255, 10, 0, 0.3)",
            "range": [
             2,
             3
            ]
           },
           {
            "color": "rgba(255, 15, 0, 0.3)",
            "range": [
             3,
             4
            ]
           },
           {
            "color": "rgba(255, 20, 0, 0.3)",
            "range": [
             4,
             5
            ]
           },
           {
            "color": "rgba(255, 25, 0, 0.3)",
            "range": [
             5,
             6
            ]
           },
           {
            "color": "rgba(255, 30, 0, 0.3)",
            "range": [
             6,
             7
            ]
           },
           {
            "color": "rgba(255, 35, 0, 0.3)",
            "range": [
             7,
             8
            ]
           },
           {
            "color": "rgba(255, 40, 0, 0.3)",
            "range": [
             8,
             9
            ]
           },
           {
            "color": "rgba(255, 45, 0, 0.3)",
            "range": [
             9,
             10
            ]
           },
           {
            "color": "rgba(255, 51, 0, 0.3)",
            "range": [
             10,
             11
            ]
           },
           {
            "color": "rgba(255, 56, 0, 0.3)",
            "range": [
             11,
             12
            ]
           },
           {
            "color": "rgba(255, 61, 0, 0.3)",
            "range": [
             12,
             13
            ]
           },
           {
            "color": "rgba(255, 66, 0, 0.3)",
            "range": [
             13,
             14
            ]
           },
           {
            "color": "rgba(255, 71, 0, 0.3)",
            "range": [
             14,
             15
            ]
           },
           {
            "color": "rgba(255, 76, 0, 0.3)",
            "range": [
             15,
             16
            ]
           },
           {
            "color": "rgba(255, 81, 0, 0.3)",
            "range": [
             16,
             17
            ]
           },
           {
            "color": "rgba(255, 86, 0, 0.3)",
            "range": [
             17,
             18
            ]
           },
           {
            "color": "rgba(255, 91, 0, 0.3)",
            "range": [
             18,
             19
            ]
           },
           {
            "color": "rgba(255, 96, 0, 0.3)",
            "range": [
             19,
             20
            ]
           },
           {
            "color": "rgba(255, 102, 0, 0.3)",
            "range": [
             20,
             21
            ]
           },
           {
            "color": "rgba(255, 107, 0, 0.3)",
            "range": [
             21,
             22
            ]
           },
           {
            "color": "rgba(255, 112, 0, 0.3)",
            "range": [
             22,
             23
            ]
           },
           {
            "color": "rgba(255, 117, 0, 0.3)",
            "range": [
             23,
             24
            ]
           },
           {
            "color": "rgba(255, 122, 0, 0.3)",
            "range": [
             24,
             25
            ]
           },
           {
            "color": "rgba(255, 127, 0, 0.3)",
            "range": [
             25,
             26
            ]
           },
           {
            "color": "rgba(255, 132, 0, 0.3)",
            "range": [
             26,
             27
            ]
           },
           {
            "color": "rgba(255, 137, 0, 0.3)",
            "range": [
             27,
             28
            ]
           },
           {
            "color": "rgba(255, 142, 0, 0.3)",
            "range": [
             28,
             29
            ]
           },
           {
            "color": "rgba(255, 147, 0, 0.3)",
            "range": [
             29,
             30
            ]
           },
           {
            "color": "rgba(255, 153, 0, 0.3)",
            "range": [
             30,
             31
            ]
           },
           {
            "color": "rgba(255, 158, 0, 0.3)",
            "range": [
             31,
             32
            ]
           },
           {
            "color": "rgba(255, 163, 0, 0.3)",
            "range": [
             32,
             33
            ]
           },
           {
            "color": "rgba(255, 168, 0, 0.3)",
            "range": [
             33,
             34
            ]
           },
           {
            "color": "rgba(255, 173, 0, 0.3)",
            "range": [
             34,
             35
            ]
           },
           {
            "color": "rgba(255, 178, 0, 0.3)",
            "range": [
             35,
             36
            ]
           },
           {
            "color": "rgba(255, 183, 0, 0.3)",
            "range": [
             36,
             37
            ]
           },
           {
            "color": "rgba(255, 188, 0, 0.3)",
            "range": [
             37,
             38
            ]
           },
           {
            "color": "rgba(255, 193, 0, 0.3)",
            "range": [
             38,
             39
            ]
           },
           {
            "color": "rgba(255, 198, 0, 0.3)",
            "range": [
             39,
             40
            ]
           },
           {
            "color": "rgba(255, 204, 0, 0.3)",
            "range": [
             40,
             41
            ]
           },
           {
            "color": "rgba(255, 209, 0, 0.3)",
            "range": [
             41,
             42
            ]
           },
           {
            "color": "rgba(255, 214, 0, 0.3)",
            "range": [
             42,
             43
            ]
           },
           {
            "color": "rgba(255, 219, 0, 0.3)",
            "range": [
             43,
             44
            ]
           },
           {
            "color": "rgba(255, 224, 0, 0.3)",
            "range": [
             44,
             45
            ]
           },
           {
            "color": "rgba(255, 229, 0, 0.3)",
            "range": [
             45,
             46
            ]
           },
           {
            "color": "rgba(255, 234, 0, 0.3)",
            "range": [
             46,
             47
            ]
           },
           {
            "color": "rgba(255, 239, 0, 0.3)",
            "range": [
             47,
             48
            ]
           },
           {
            "color": "rgba(255, 244, 0, 0.3)",
            "range": [
             48,
             49
            ]
           },
           {
            "color": "rgba(255, 249, 0, 0.3)",
            "range": [
             49,
             50
            ]
           },
           {
            "color": "rgba(255, 255, 0, 0.3)",
            "range": [
             50,
             51
            ]
           },
           {
            "color": "rgba(249, 255, 0, 0.3)",
            "range": [
             51,
             52
            ]
           },
           {
            "color": "rgba(244, 255, 0, 0.3)",
            "range": [
             52,
             53
            ]
           },
           {
            "color": "rgba(239, 255, 0, 0.3)",
            "range": [
             53,
             54
            ]
           },
           {
            "color": "rgba(234, 255, 0, 0.3)",
            "range": [
             54,
             55
            ]
           },
           {
            "color": "rgba(229, 255, 0, 0.3)",
            "range": [
             55,
             56
            ]
           },
           {
            "color": "rgba(224, 255, 0, 0.3)",
            "range": [
             56,
             57
            ]
           },
           {
            "color": "rgba(219, 255, 0, 0.3)",
            "range": [
             57,
             58
            ]
           },
           {
            "color": "rgba(214, 255, 0, 0.3)",
            "range": [
             58,
             59
            ]
           },
           {
            "color": "rgba(209, 255, 0, 0.3)",
            "range": [
             59,
             60
            ]
           },
           {
            "color": "rgba(204, 255, 0, 0.3)",
            "range": [
             60,
             61
            ]
           },
           {
            "color": "rgba(198, 255, 0, 0.3)",
            "range": [
             61,
             62
            ]
           },
           {
            "color": "rgba(193, 255, 0, 0.3)",
            "range": [
             62,
             63
            ]
           },
           {
            "color": "rgba(188, 255, 0, 0.3)",
            "range": [
             63,
             64
            ]
           },
           {
            "color": "rgba(183, 255, 0, 0.3)",
            "range": [
             64,
             65
            ]
           },
           {
            "color": "rgba(178, 255, 0, 0.3)",
            "range": [
             65,
             66
            ]
           },
           {
            "color": "rgba(173, 255, 0, 0.3)",
            "range": [
             66,
             67
            ]
           },
           {
            "color": "rgba(168, 255, 0, 0.3)",
            "range": [
             67,
             68
            ]
           },
           {
            "color": "rgba(163, 255, 0, 0.3)",
            "range": [
             68,
             69
            ]
           },
           {
            "color": "rgba(158, 255, 0, 0.3)",
            "range": [
             69,
             70
            ]
           },
           {
            "color": "rgba(153, 255, 0, 0.3)",
            "range": [
             70,
             71
            ]
           },
           {
            "color": "rgba(147, 255, 0, 0.3)",
            "range": [
             71,
             72
            ]
           },
           {
            "color": "rgba(142, 255, 0, 0.3)",
            "range": [
             72,
             73
            ]
           },
           {
            "color": "rgba(137, 255, 0, 0.3)",
            "range": [
             73,
             74
            ]
           },
           {
            "color": "rgba(132, 255, 0, 0.3)",
            "range": [
             74,
             75
            ]
           },
           {
            "color": "rgba(127, 255, 0, 0.3)",
            "range": [
             75,
             76
            ]
           },
           {
            "color": "rgba(122, 255, 0, 0.3)",
            "range": [
             76,
             77
            ]
           },
           {
            "color": "rgba(117, 255, 0, 0.3)",
            "range": [
             77,
             78
            ]
           },
           {
            "color": "rgba(112, 255, 0, 0.3)",
            "range": [
             78,
             79
            ]
           },
           {
            "color": "rgba(107, 255, 0, 0.3)",
            "range": [
             79,
             80
            ]
           },
           {
            "color": "rgba(102, 255, 0, 0.3)",
            "range": [
             80,
             81
            ]
           },
           {
            "color": "rgba(96, 255, 0, 0.3)",
            "range": [
             81,
             82
            ]
           },
           {
            "color": "rgba(91, 255, 0, 0.3)",
            "range": [
             82,
             83
            ]
           },
           {
            "color": "rgba(86, 255, 0, 0.3)",
            "range": [
             83,
             84
            ]
           },
           {
            "color": "rgba(81, 255, 0, 0.3)",
            "range": [
             84,
             85
            ]
           },
           {
            "color": "rgba(76, 255, 0, 0.3)",
            "range": [
             85,
             86
            ]
           },
           {
            "color": "rgba(71, 255, 0, 0.3)",
            "range": [
             86,
             87
            ]
           },
           {
            "color": "rgba(66, 255, 0, 0.3)",
            "range": [
             87,
             88
            ]
           },
           {
            "color": "rgba(61, 255, 0, 0.3)",
            "range": [
             88,
             89
            ]
           },
           {
            "color": "rgba(56, 255, 0, 0.3)",
            "range": [
             89,
             90
            ]
           },
           {
            "color": "rgba(50, 255, 0, 0.3)",
            "range": [
             90,
             91
            ]
           },
           {
            "color": "rgba(45, 255, 0, 0.3)",
            "range": [
             91,
             92
            ]
           },
           {
            "color": "rgba(40, 255, 0, 0.3)",
            "range": [
             92,
             93
            ]
           },
           {
            "color": "rgba(35, 255, 0, 0.3)",
            "range": [
             93,
             94
            ]
           },
           {
            "color": "rgba(30, 255, 0, 0.3)",
            "range": [
             94,
             95
            ]
           },
           {
            "color": "rgba(25, 255, 0, 0.3)",
            "range": [
             95,
             96
            ]
           },
           {
            "color": "rgba(20, 255, 0, 0.3)",
            "range": [
             96,
             97
            ]
           },
           {
            "color": "rgba(15, 255, 0, 0.3)",
            "range": [
             97,
             98
            ]
           },
           {
            "color": "rgba(10, 255, 0, 0.3)",
            "range": [
             98,
             99
            ]
           },
           {
            "color": "rgba(5, 255, 0, 0.3)",
            "range": [
             99,
             100
            ]
           }
          ]
         },
         "mode": "gauge+number",
         "title": {
          "text": "Overall Percentile"
         },
         "type": "indicator",
         "value": 55.6
        },
        {
         "domain": {
          "x": [
           0.6,
           1
          ],
          "y": [
           0.5,
           1
          ]
         },
         "gauge": {
          "axis": {
           "range": [
            0,
            100
           ]
          },
          "bar": {
           "color": "rgb(0, 255, 0)",
           "thickness": 0.3
          },
          "bgcolor": "white",
          "steps": [
           {
            "color": "rgba(255, 0, 0, 0.3)",
            "range": [
             0,
             1
            ]
           },
           {
            "color": "rgba(255, 5, 0, 0.3)",
            "range": [
             1,
             2
            ]
           },
           {
            "color": "rgba(255, 10, 0, 0.3)",
            "range": [
             2,
             3
            ]
           },
           {
            "color": "rgba(255, 15, 0, 0.3)",
            "range": [
             3,
             4
            ]
           },
           {
            "color": "rgba(255, 20, 0, 0.3)",
            "range": [
             4,
             5
            ]
           },
           {
            "color": "rgba(255, 25, 0, 0.3)",
            "range": [
             5,
             6
            ]
           },
           {
            "color": "rgba(255, 30, 0, 0.3)",
            "range": [
             6,
             7
            ]
           },
           {
            "color": "rgba(255, 35, 0, 0.3)",
            "range": [
             7,
             8
            ]
           },
           {
            "color": "rgba(255, 40, 0, 0.3)",
            "range": [
             8,
             9
            ]
           },
           {
            "color": "rgba(255, 45, 0, 0.3)",
            "range": [
             9,
             10
            ]
           },
           {
            "color": "rgba(255, 51, 0, 0.3)",
            "range": [
             10,
             11
            ]
           },
           {
            "color": "rgba(255, 56, 0, 0.3)",
            "range": [
             11,
             12
            ]
           },
           {
            "color": "rgba(255, 61, 0, 0.3)",
            "range": [
             12,
             13
            ]
           },
           {
            "color": "rgba(255, 66, 0, 0.3)",
            "range": [
             13,
             14
            ]
           },
           {
            "color": "rgba(255, 71, 0, 0.3)",
            "range": [
             14,
             15
            ]
           },
           {
            "color": "rgba(255, 76, 0, 0.3)",
            "range": [
             15,
             16
            ]
           },
           {
            "color": "rgba(255, 81, 0, 0.3)",
            "range": [
             16,
             17
            ]
           },
           {
            "color": "rgba(255, 86, 0, 0.3)",
            "range": [
             17,
             18
            ]
           },
           {
            "color": "rgba(255, 91, 0, 0.3)",
            "range": [
             18,
             19
            ]
           },
           {
            "color": "rgba(255, 96, 0, 0.3)",
            "range": [
             19,
             20
            ]
           },
           {
            "color": "rgba(255, 102, 0, 0.3)",
            "range": [
             20,
             21
            ]
           },
           {
            "color": "rgba(255, 107, 0, 0.3)",
            "range": [
             21,
             22
            ]
           },
           {
            "color": "rgba(255, 112, 0, 0.3)",
            "range": [
             22,
             23
            ]
           },
           {
            "color": "rgba(255, 117, 0, 0.3)",
            "range": [
             23,
             24
            ]
           },
           {
            "color": "rgba(255, 122, 0, 0.3)",
            "range": [
             24,
             25
            ]
           },
           {
            "color": "rgba(255, 127, 0, 0.3)",
            "range": [
             25,
             26
            ]
           },
           {
            "color": "rgba(255, 132, 0, 0.3)",
            "range": [
             26,
             27
            ]
           },
           {
            "color": "rgba(255, 137, 0, 0.3)",
            "range": [
             27,
             28
            ]
           },
           {
            "color": "rgba(255, 142, 0, 0.3)",
            "range": [
             28,
             29
            ]
           },
           {
            "color": "rgba(255, 147, 0, 0.3)",
            "range": [
             29,
             30
            ]
           },
           {
            "color": "rgba(255, 153, 0, 0.3)",
            "range": [
             30,
             31
            ]
           },
           {
            "color": "rgba(255, 158, 0, 0.3)",
            "range": [
             31,
             32
            ]
           },
           {
            "color": "rgba(255, 163, 0, 0.3)",
            "range": [
             32,
             33
            ]
           },
           {
            "color": "rgba(255, 168, 0, 0.3)",
            "range": [
             33,
             34
            ]
           },
           {
            "color": "rgba(255, 173, 0, 0.3)",
            "range": [
             34,
             35
            ]
           },
           {
            "color": "rgba(255, 178, 0, 0.3)",
            "range": [
             35,
             36
            ]
           },
           {
            "color": "rgba(255, 183, 0, 0.3)",
            "range": [
             36,
             37
            ]
           },
           {
            "color": "rgba(255, 188, 0, 0.3)",
            "range": [
             37,
             38
            ]
           },
           {
            "color": "rgba(255, 193, 0, 0.3)",
            "range": [
             38,
             39
            ]
           },
           {
            "color": "rgba(255, 198, 0, 0.3)",
            "range": [
             39,
             40
            ]
           },
           {
            "color": "rgba(255, 204, 0, 0.3)",
            "range": [
             40,
             41
            ]
           },
           {
            "color": "rgba(255, 209, 0, 0.3)",
            "range": [
             41,
             42
            ]
           },
           {
            "color": "rgba(255, 214, 0, 0.3)",
            "range": [
             42,
             43
            ]
           },
           {
            "color": "rgba(255, 219, 0, 0.3)",
            "range": [
             43,
             44
            ]
           },
           {
            "color": "rgba(255, 224, 0, 0.3)",
            "range": [
             44,
             45
            ]
           },
           {
            "color": "rgba(255, 229, 0, 0.3)",
            "range": [
             45,
             46
            ]
           },
           {
            "color": "rgba(255, 234, 0, 0.3)",
            "range": [
             46,
             47
            ]
           },
           {
            "color": "rgba(255, 239, 0, 0.3)",
            "range": [
             47,
             48
            ]
           },
           {
            "color": "rgba(255, 244, 0, 0.3)",
            "range": [
             48,
             49
            ]
           },
           {
            "color": "rgba(255, 249, 0, 0.3)",
            "range": [
             49,
             50
            ]
           },
           {
            "color": "rgba(255, 255, 0, 0.3)",
            "range": [
             50,
             51
            ]
           },
           {
            "color": "rgba(249, 255, 0, 0.3)",
            "range": [
             51,
             52
            ]
           },
           {
            "color": "rgba(244, 255, 0, 0.3)",
            "range": [
             52,
             53
            ]
           },
           {
            "color": "rgba(239, 255, 0, 0.3)",
            "range": [
             53,
             54
            ]
           },
           {
            "color": "rgba(234, 255, 0, 0.3)",
            "range": [
             54,
             55
            ]
           },
           {
            "color": "rgba(229, 255, 0, 0.3)",
            "range": [
             55,
             56
            ]
           },
           {
            "color": "rgba(224, 255, 0, 0.3)",
            "range": [
             56,
             57
            ]
           },
           {
            "color": "rgba(219, 255, 0, 0.3)",
            "range": [
             57,
             58
            ]
           },
           {
            "color": "rgba(214, 255, 0, 0.3)",
            "range": [
             58,
             59
            ]
           },
           {
            "color": "rgba(209, 255, 0, 0.3)",
            "range": [
             59,
             60
            ]
           },
           {
            "color": "rgba(204, 255, 0, 0.3)",
            "range": [
             60,
             61
            ]
           },
           {
            "color": "rgba(198, 255, 0, 0.3)",
            "range": [
             61,
             62
            ]
           },
           {
            "color": "rgba(193, 255, 0, 0.3)",
            "range": [
             62,
             63
            ]
           },
           {
            "color": "rgba(188, 255, 0, 0.3)",
            "range": [
             63,
             64
            ]
           },
           {
            "color": "rgba(183, 255, 0, 0.3)",
            "range": [
             64,
             65
            ]
           },
           {
            "color": "rgba(178, 255, 0, 0.3)",
            "range": [
             65,
             66
            ]
           },
           {
            "color": "rgba(173, 255, 0, 0.3)",
            "range": [
             66,
             67
            ]
           },
           {
            "color": "rgba(168, 255, 0, 0.3)",
            "range": [
             67,
             68
            ]
           },
           {
            "color": "rgba(163, 255, 0, 0.3)",
            "range": [
             68,
             69
            ]
           },
           {
            "color": "rgba(158, 255, 0, 0.3)",
            "range": [
             69,
             70
            ]
           },
           {
            "color": "rgba(153, 255, 0, 0.3)",
            "range": [
             70,
             71
            ]
           },
           {
            "color": "rgba(147, 255, 0, 0.3)",
            "range": [
             71,
             72
            ]
           },
           {
            "color": "rgba(142, 255, 0, 0.3)",
            "range": [
             72,
             73
            ]
           },
           {
            "color": "rgba(137, 255, 0, 0.3)",
            "range": [
             73,
             74
            ]
           },
           {
            "color": "rgba(132, 255, 0, 0.3)",
            "range": [
             74,
             75
            ]
           },
           {
            "color": "rgba(127, 255, 0, 0.3)",
            "range": [
             75,
             76
            ]
           },
           {
            "color": "rgba(122, 255, 0, 0.3)",
            "range": [
             76,
             77
            ]
           },
           {
            "color": "rgba(117, 255, 0, 0.3)",
            "range": [
             77,
             78
            ]
           },
           {
            "color": "rgba(112, 255, 0, 0.3)",
            "range": [
             78,
             79
            ]
           },
           {
            "color": "rgba(107, 255, 0, 0.3)",
            "range": [
             79,
             80
            ]
           },
           {
            "color": "rgba(102, 255, 0, 0.3)",
            "range": [
             80,
             81
            ]
           },
           {
            "color": "rgba(96, 255, 0, 0.3)",
            "range": [
             81,
             82
            ]
           },
           {
            "color": "rgba(91, 255, 0, 0.3)",
            "range": [
             82,
             83
            ]
           },
           {
            "color": "rgba(86, 255, 0, 0.3)",
            "range": [
             83,
             84
            ]
           },
           {
            "color": "rgba(81, 255, 0, 0.3)",
            "range": [
             84,
             85
            ]
           },
           {
            "color": "rgba(76, 255, 0, 0.3)",
            "range": [
             85,
             86
            ]
           },
           {
            "color": "rgba(71, 255, 0, 0.3)",
            "range": [
             86,
             87
            ]
           },
           {
            "color": "rgba(66, 255, 0, 0.3)",
            "range": [
             87,
             88
            ]
           },
           {
            "color": "rgba(61, 255, 0, 0.3)",
            "range": [
             88,
             89
            ]
           },
           {
            "color": "rgba(56, 255, 0, 0.3)",
            "range": [
             89,
             90
            ]
           },
           {
            "color": "rgba(50, 255, 0, 0.3)",
            "range": [
             90,
             91
            ]
           },
           {
            "color": "rgba(45, 255, 0, 0.3)",
            "range": [
             91,
             92
            ]
           },
           {
            "color": "rgba(40, 255, 0, 0.3)",
            "range": [
             92,
             93
            ]
           },
           {
            "color": "rgba(35, 255, 0, 0.3)",
            "range": [
             93,
             94
            ]
           },
           {
            "color": "rgba(30, 255, 0, 0.3)",
            "range": [
             94,
             95
            ]
           },
           {
            "color": "rgba(25, 255, 0, 0.3)",
            "range": [
             95,
             96
            ]
           },
           {
            "color": "rgba(20, 255, 0, 0.3)",
            "range": [
             96,
             97
            ]
           },
           {
            "color": "rgba(15, 255, 0, 0.3)",
            "range": [
             97,
             98
            ]
           },
           {
            "color": "rgba(10, 255, 0, 0.3)",
            "range": [
             98,
             99
            ]
           },
           {
            "color": "rgba(5, 255, 0, 0.3)",
            "range": [
             99,
             100
            ]
           }
          ]
         },
         "mode": "gauge+number",
         "title": {
          "text": "Best Attribute: Behavioral Observations"
         },
         "type": "indicator",
         "value": 100
        },
        {
         "domain": {
          "x": [
           0.3,
           0.7
          ],
          "y": [
           0,
           0.4
          ]
         },
         "gauge": {
          "axis": {
           "range": [
            0,
            100
           ]
          },
          "bar": {
           "color": "rgb(255, 51, 0)",
           "thickness": 0.3
          },
          "bgcolor": "white",
          "steps": [
           {
            "color": "rgba(255, 0, 0, 0.3)",
            "range": [
             0,
             1
            ]
           },
           {
            "color": "rgba(255, 5, 0, 0.3)",
            "range": [
             1,
             2
            ]
           },
           {
            "color": "rgba(255, 10, 0, 0.3)",
            "range": [
             2,
             3
            ]
           },
           {
            "color": "rgba(255, 15, 0, 0.3)",
            "range": [
             3,
             4
            ]
           },
           {
            "color": "rgba(255, 20, 0, 0.3)",
            "range": [
             4,
             5
            ]
           },
           {
            "color": "rgba(255, 25, 0, 0.3)",
            "range": [
             5,
             6
            ]
           },
           {
            "color": "rgba(255, 30, 0, 0.3)",
            "range": [
             6,
             7
            ]
           },
           {
            "color": "rgba(255, 35, 0, 0.3)",
            "range": [
             7,
             8
            ]
           },
           {
            "color": "rgba(255, 40, 0, 0.3)",
            "range": [
             8,
             9
            ]
           },
           {
            "color": "rgba(255, 45, 0, 0.3)",
            "range": [
             9,
             10
            ]
           },
           {
            "color": "rgba(255, 51, 0, 0.3)",
            "range": [
             10,
             11
            ]
           },
           {
            "color": "rgba(255, 56, 0, 0.3)",
            "range": [
             11,
             12
            ]
           },
           {
            "color": "rgba(255, 61, 0, 0.3)",
            "range": [
             12,
             13
            ]
           },
           {
            "color": "rgba(255, 66, 0, 0.3)",
            "range": [
             13,
             14
            ]
           },
           {
            "color": "rgba(255, 71, 0, 0.3)",
            "range": [
             14,
             15
            ]
           },
           {
            "color": "rgba(255, 76, 0, 0.3)",
            "range": [
             15,
             16
            ]
           },
           {
            "color": "rgba(255, 81, 0, 0.3)",
            "range": [
             16,
             17
            ]
           },
           {
            "color": "rgba(255, 86, 0, 0.3)",
            "range": [
             17,
             18
            ]
           },
           {
            "color": "rgba(255, 91, 0, 0.3)",
            "range": [
             18,
             19
            ]
           },
           {
            "color": "rgba(255, 96, 0, 0.3)",
            "range": [
             19,
             20
            ]
           },
           {
            "color": "rgba(255, 102, 0, 0.3)",
            "range": [
             20,
             21
            ]
           },
           {
            "color": "rgba(255, 107, 0, 0.3)",
            "range": [
             21,
             22
            ]
           },
           {
            "color": "rgba(255, 112, 0, 0.3)",
            "range": [
             22,
             23
            ]
           },
           {
            "color": "rgba(255, 117, 0, 0.3)",
            "range": [
             23,
             24
            ]
           },
           {
            "color": "rgba(255, 122, 0, 0.3)",
            "range": [
             24,
             25
            ]
           },
           {
            "color": "rgba(255, 127, 0, 0.3)",
            "range": [
             25,
             26
            ]
           },
           {
            "color": "rgba(255, 132, 0, 0.3)",
            "range": [
             26,
             27
            ]
           },
           {
            "color": "rgba(255, 137, 0, 0.3)",
            "range": [
             27,
             28
            ]
           },
           {
            "color": "rgba(255, 142, 0, 0.3)",
            "range": [
             28,
             29
            ]
           },
           {
            "color": "rgba(255, 147, 0, 0.3)",
            "range": [
             29,
             30
            ]
           },
           {
            "color": "rgba(255, 153, 0, 0.3)",
            "range": [
             30,
             31
            ]
           },
           {
            "color": "rgba(255, 158, 0, 0.3)",
            "range": [
             31,
             32
            ]
           },
           {
            "color": "rgba(255, 163, 0, 0.3)",
            "range": [
             32,
             33
            ]
           },
           {
            "color": "rgba(255, 168, 0, 0.3)",
            "range": [
             33,
             34
            ]
           },
           {
            "color": "rgba(255, 173, 0, 0.3)",
            "range": [
             34,
             35
            ]
           },
           {
            "color": "rgba(255, 178, 0, 0.3)",
            "range": [
             35,
             36
            ]
           },
           {
            "color": "rgba(255, 183, 0, 0.3)",
            "range": [
             36,
             37
            ]
           },
           {
            "color": "rgba(255, 188, 0, 0.3)",
            "range": [
             37,
             38
            ]
           },
           {
            "color": "rgba(255, 193, 0, 0.3)",
            "range": [
             38,
             39
            ]
           },
           {
            "color": "rgba(255, 198, 0, 0.3)",
            "range": [
             39,
             40
            ]
           },
           {
            "color": "rgba(255, 204, 0, 0.3)",
            "range": [
             40,
             41
            ]
           },
           {
            "color": "rgba(255, 209, 0, 0.3)",
            "range": [
             41,
             42
            ]
           },
           {
            "color": "rgba(255, 214, 0, 0.3)",
            "range": [
             42,
             43
            ]
           },
           {
            "color": "rgba(255, 219, 0, 0.3)",
            "range": [
             43,
             44
            ]
           },
           {
            "color": "rgba(255, 224, 0, 0.3)",
            "range": [
             44,
             45
            ]
           },
           {
            "color": "rgba(255, 229, 0, 0.3)",
            "range": [
             45,
             46
            ]
           },
           {
            "color": "rgba(255, 234, 0, 0.3)",
            "range": [
             46,
             47
            ]
           },
           {
            "color": "rgba(255, 239, 0, 0.3)",
            "range": [
             47,
             48
            ]
           },
           {
            "color": "rgba(255, 244, 0, 0.3)",
            "range": [
             48,
             49
            ]
           },
           {
            "color": "rgba(255, 249, 0, 0.3)",
            "range": [
             49,
             50
            ]
           },
           {
            "color": "rgba(255, 255, 0, 0.3)",
            "range": [
             50,
             51
            ]
           },
           {
            "color": "rgba(249, 255, 0, 0.3)",
            "range": [
             51,
             52
            ]
           },
           {
            "color": "rgba(244, 255, 0, 0.3)",
            "range": [
             52,
             53
            ]
           },
           {
            "color": "rgba(239, 255, 0, 0.3)",
            "range": [
             53,
             54
            ]
           },
           {
            "color": "rgba(234, 255, 0, 0.3)",
            "range": [
             54,
             55
            ]
           },
           {
            "color": "rgba(229, 255, 0, 0.3)",
            "range": [
             55,
             56
            ]
           },
           {
            "color": "rgba(224, 255, 0, 0.3)",
            "range": [
             56,
             57
            ]
           },
           {
            "color": "rgba(219, 255, 0, 0.3)",
            "range": [
             57,
             58
            ]
           },
           {
            "color": "rgba(214, 255, 0, 0.3)",
            "range": [
             58,
             59
            ]
           },
           {
            "color": "rgba(209, 255, 0, 0.3)",
            "range": [
             59,
             60
            ]
           },
           {
            "color": "rgba(204, 255, 0, 0.3)",
            "range": [
             60,
             61
            ]
           },
           {
            "color": "rgba(198, 255, 0, 0.3)",
            "range": [
             61,
             62
            ]
           },
           {
            "color": "rgba(193, 255, 0, 0.3)",
            "range": [
             62,
             63
            ]
           },
           {
            "color": "rgba(188, 255, 0, 0.3)",
            "range": [
             63,
             64
            ]
           },
           {
            "color": "rgba(183, 255, 0, 0.3)",
            "range": [
             64,
             65
            ]
           },
           {
            "color": "rgba(178, 255, 0, 0.3)",
            "range": [
             65,
             66
            ]
           },
           {
            "color": "rgba(173, 255, 0, 0.3)",
            "range": [
             66,
             67
            ]
           },
           {
            "color": "rgba(168, 255, 0, 0.3)",
            "range": [
             67,
             68
            ]
           },
           {
            "color": "rgba(163, 255, 0, 0.3)",
            "range": [
             68,
             69
            ]
           },
           {
            "color": "rgba(158, 255, 0, 0.3)",
            "range": [
             69,
             70
            ]
           },
           {
            "color": "rgba(153, 255, 0, 0.3)",
            "range": [
             70,
             71
            ]
           },
           {
            "color": "rgba(147, 255, 0, 0.3)",
            "range": [
             71,
             72
            ]
           },
           {
            "color": "rgba(142, 255, 0, 0.3)",
            "range": [
             72,
             73
            ]
           },
           {
            "color": "rgba(137, 255, 0, 0.3)",
            "range": [
             73,
             74
            ]
           },
           {
            "color": "rgba(132, 255, 0, 0.3)",
            "range": [
             74,
             75
            ]
           },
           {
            "color": "rgba(127, 255, 0, 0.3)",
            "range": [
             75,
             76
            ]
           },
           {
            "color": "rgba(122, 255, 0, 0.3)",
            "range": [
             76,
             77
            ]
           },
           {
            "color": "rgba(117, 255, 0, 0.3)",
            "range": [
             77,
             78
            ]
           },
           {
            "color": "rgba(112, 255, 0, 0.3)",
            "range": [
             78,
             79
            ]
           },
           {
            "color": "rgba(107, 255, 0, 0.3)",
            "range": [
             79,
             80
            ]
           },
           {
            "color": "rgba(102, 255, 0, 0.3)",
            "range": [
             80,
             81
            ]
           },
           {
            "color": "rgba(96, 255, 0, 0.3)",
            "range": [
             81,
             82
            ]
           },
           {
            "color": "rgba(91, 255, 0, 0.3)",
            "range": [
             82,
             83
            ]
           },
           {
            "color": "rgba(86, 255, 0, 0.3)",
            "range": [
             83,
             84
            ]
           },
           {
            "color": "rgba(81, 255, 0, 0.3)",
            "range": [
             84,
             85
            ]
           },
           {
            "color": "rgba(76, 255, 0, 0.3)",
            "range": [
             85,
             86
            ]
           },
           {
            "color": "rgba(71, 255, 0, 0.3)",
            "range": [
             86,
             87
            ]
           },
           {
            "color": "rgba(66, 255, 0, 0.3)",
            "range": [
             87,
             88
            ]
           },
           {
            "color": "rgba(61, 255, 0, 0.3)",
            "range": [
             88,
             89
            ]
           },
           {
            "color": "rgba(56, 255, 0, 0.3)",
            "range": [
             89,
             90
            ]
           },
           {
            "color": "rgba(50, 255, 0, 0.3)",
            "range": [
             90,
             91
            ]
           },
           {
            "color": "rgba(45, 255, 0, 0.3)",
            "range": [
             91,
             92
            ]
           },
           {
            "color": "rgba(40, 255, 0, 0.3)",
            "range": [
             92,
             93
            ]
           },
           {
            "color": "rgba(35, 255, 0, 0.3)",
            "range": [
             93,
             94
            ]
           },
           {
            "color": "rgba(30, 255, 0, 0.3)",
            "range": [
             94,
             95
            ]
           },
           {
            "color": "rgba(25, 255, 0, 0.3)",
            "range": [
             95,
             96
            ]
           },
           {
            "color": "rgba(20, 255, 0, 0.3)",
            "range": [
             96,
             97
            ]
           },
           {
            "color": "rgba(15, 255, 0, 0.3)",
            "range": [
             97,
             98
            ]
           },
           {
            "color": "rgba(10, 255, 0, 0.3)",
            "range": [
             98,
             99
            ]
           },
           {
            "color": "rgba(5, 255, 0, 0.3)",
            "range": [
             99,
             100
            ]
           }
          ]
         },
         "mode": "gauge+number",
         "title": {
          "text": "Worst Attribute: Similarities"
         },
         "type": "indicator",
         "value": 10
        }
       ],
       "layout": {
        "annotations": [
         {
          "align": "center",
          "font": {
           "size": 12
          },
          "showarrow": false,
          "text": "Positive behavioral observations indicating good behavior and focus.",
          "x": 1.03,
          "y": 0.6
         },
         {
          "align": "center",
          "font": {
           "size": 12
          },
          "showarrow": false,
          "text": "Challenges in verbal reasoning and forming concepts.",
          "x": 0.5,
          "y": 0.03
         },
         {
          "align": "center",
          "bgcolor": "lightyellow",
          "bordercolor": "black",
          "borderpad": 10,
          "borderwidth": 1,
          "font": {
           "color": "black",
           "size": 14
          },
          "opacity": 0.8,
          "showarrow": false,
          "text": "<b>Dyslexia Diagnosis:</b> No Dyslexia",
          "x": 0.001,
          "xref": "paper",
          "y": 1.01,
          "yref": "paper"
         }
        ],
        "autosize": false,
        "height": 800,
        "margin": {
         "b": 50,
         "l": 50,
         "r": 50,
         "t": 50
        },
        "template": {
         "data": {
          "bar": [
           {
            "error_x": {
             "color": "#2a3f5f"
            },
            "error_y": {
             "color": "#2a3f5f"
            },
            "marker": {
             "line": {
              "color": "#E5ECF6",
              "width": 0.5
             },
             "pattern": {
              "fillmode": "overlay",
              "size": 10,
              "solidity": 0.2
             }
            },
            "type": "bar"
           }
          ],
          "barpolar": [
           {
            "marker": {
             "line": {
              "color": "#E5ECF6",
              "width": 0.5
             },
             "pattern": {
              "fillmode": "overlay",
              "size": 10,
              "solidity": 0.2
             }
            },
            "type": "barpolar"
           }
          ],
          "carpet": [
           {
            "aaxis": {
             "endlinecolor": "#2a3f5f",
             "gridcolor": "white",
             "linecolor": "white",
             "minorgridcolor": "white",
             "startlinecolor": "#2a3f5f"
            },
            "baxis": {
             "endlinecolor": "#2a3f5f",
             "gridcolor": "white",
             "linecolor": "white",
             "minorgridcolor": "white",
             "startlinecolor": "#2a3f5f"
            },
            "type": "carpet"
           }
          ],
          "choropleth": [
           {
            "colorbar": {
             "outlinewidth": 0,
             "ticks": ""
            },
            "type": "choropleth"
           }
          ],
          "contour": [
           {
            "colorbar": {
             "outlinewidth": 0,
             "ticks": ""
            },
            "colorscale": [
             [
              0,
              "#0d0887"
             ],
             [
              0.1111111111111111,
              "#46039f"
             ],
             [
              0.2222222222222222,
              "#7201a8"
             ],
             [
              0.3333333333333333,
              "#9c179e"
             ],
             [
              0.4444444444444444,
              "#bd3786"
             ],
             [
              0.5555555555555556,
              "#d8576b"
             ],
             [
              0.6666666666666666,
              "#ed7953"
             ],
             [
              0.7777777777777778,
              "#fb9f3a"
             ],
             [
              0.8888888888888888,
              "#fdca26"
             ],
             [
              1,
              "#f0f921"
             ]
            ],
            "type": "contour"
           }
          ],
          "contourcarpet": [
           {
            "colorbar": {
             "outlinewidth": 0,
             "ticks": ""
            },
            "type": "contourcarpet"
           }
          ],
          "heatmap": [
           {
            "colorbar": {
             "outlinewidth": 0,
             "ticks": ""
            },
            "colorscale": [
             [
              0,
              "#0d0887"
             ],
             [
              0.1111111111111111,
              "#46039f"
             ],
             [
              0.2222222222222222,
              "#7201a8"
             ],
             [
              0.3333333333333333,
              "#9c179e"
             ],
             [
              0.4444444444444444,
              "#bd3786"
             ],
             [
              0.5555555555555556,
              "#d8576b"
             ],
             [
              0.6666666666666666,
              "#ed7953"
             ],
             [
              0.7777777777777778,
              "#fb9f3a"
             ],
             [
              0.8888888888888888,
              "#fdca26"
             ],
             [
              1,
              "#f0f921"
             ]
            ],
            "type": "heatmap"
           }
          ],
          "heatmapgl": [
           {
            "colorbar": {
             "outlinewidth": 0,
             "ticks": ""
            },
            "colorscale": [
             [
              0,
              "#0d0887"
             ],
             [
              0.1111111111111111,
              "#46039f"
             ],
             [
              0.2222222222222222,
              "#7201a8"
             ],
             [
              0.3333333333333333,
              "#9c179e"
             ],
             [
              0.4444444444444444,
              "#bd3786"
             ],
             [
              0.5555555555555556,
              "#d8576b"
             ],
             [
              0.6666666666666666,
              "#ed7953"
             ],
             [
              0.7777777777777778,
              "#fb9f3a"
             ],
             [
              0.8888888888888888,
              "#fdca26"
             ],
             [
              1,
              "#f0f921"
             ]
            ],
            "type": "heatmapgl"
           }
          ],
          "histogram": [
           {
            "marker": {
             "pattern": {
              "fillmode": "overlay",
              "size": 10,
              "solidity": 0.2
             }
            },
            "type": "histogram"
           }
          ],
          "histogram2d": [
           {
            "colorbar": {
             "outlinewidth": 0,
             "ticks": ""
            },
            "colorscale": [
             [
              0,
              "#0d0887"
             ],
             [
              0.1111111111111111,
              "#46039f"
             ],
             [
              0.2222222222222222,
              "#7201a8"
             ],
             [
              0.3333333333333333,
              "#9c179e"
             ],
             [
              0.4444444444444444,
              "#bd3786"
             ],
             [
              0.5555555555555556,
              "#d8576b"
             ],
             [
              0.6666666666666666,
              "#ed7953"
             ],
             [
              0.7777777777777778,
              "#fb9f3a"
             ],
             [
              0.8888888888888888,
              "#fdca26"
             ],
             [
              1,
              "#f0f921"
             ]
            ],
            "type": "histogram2d"
           }
          ],
          "histogram2dcontour": [
           {
            "colorbar": {
             "outlinewidth": 0,
             "ticks": ""
            },
            "colorscale": [
             [
              0,
              "#0d0887"
             ],
             [
              0.1111111111111111,
              "#46039f"
             ],
             [
              0.2222222222222222,
              "#7201a8"
             ],
             [
              0.3333333333333333,
              "#9c179e"
             ],
             [
              0.4444444444444444,
              "#bd3786"
             ],
             [
              0.5555555555555556,
              "#d8576b"
             ],
             [
              0.6666666666666666,
              "#ed7953"
             ],
             [
              0.7777777777777778,
              "#fb9f3a"
             ],
             [
              0.8888888888888888,
              "#fdca26"
             ],
             [
              1,
              "#f0f921"
             ]
            ],
            "type": "histogram2dcontour"
           }
          ],
          "mesh3d": [
           {
            "colorbar": {
             "outlinewidth": 0,
             "ticks": ""
            },
            "type": "mesh3d"
           }
          ],
          "parcoords": [
           {
            "line": {
             "colorbar": {
              "outlinewidth": 0,
              "ticks": ""
             }
            },
            "type": "parcoords"
           }
          ],
          "pie": [
           {
            "automargin": true,
            "type": "pie"
           }
          ],
          "scatter": [
           {
            "marker": {
             "colorbar": {
              "outlinewidth": 0,
              "ticks": ""
             }
            },
            "type": "scatter"
           }
          ],
          "scatter3d": [
           {
            "line": {
             "colorbar": {
              "outlinewidth": 0,
              "ticks": ""
             }
            },
            "marker": {
             "colorbar": {
              "outlinewidth": 0,
              "ticks": ""
             }
            },
            "type": "scatter3d"
           }
          ],
          "scattercarpet": [
           {
            "marker": {
             "colorbar": {
              "outlinewidth": 0,
              "ticks": ""
             }
            },
            "type": "scattercarpet"
           }
          ],
          "scattergeo": [
           {
            "marker": {
             "colorbar": {
              "outlinewidth": 0,
              "ticks": ""
             }
            },
            "type": "scattergeo"
           }
          ],
          "scattergl": [
           {
            "marker": {
             "colorbar": {
              "outlinewidth": 0,
              "ticks": ""
             }
            },
            "type": "scattergl"
           }
          ],
          "scattermapbox": [
           {
            "marker": {
             "colorbar": {
              "outlinewidth": 0,
              "ticks": ""
             }
            },
            "type": "scattermapbox"
           }
          ],
          "scatterpolar": [
           {
            "marker": {
             "colorbar": {
              "outlinewidth": 0,
              "ticks": ""
             }
            },
            "type": "scatterpolar"
           }
          ],
          "scatterpolargl": [
           {
            "marker": {
             "colorbar": {
              "outlinewidth": 0,
              "ticks": ""
             }
            },
            "type": "scatterpolargl"
           }
          ],
          "scatterternary": [
           {
            "marker": {
             "colorbar": {
              "outlinewidth": 0,
              "ticks": ""
             }
            },
            "type": "scatterternary"
           }
          ],
          "surface": [
           {
            "colorbar": {
             "outlinewidth": 0,
             "ticks": ""
            },
            "colorscale": [
             [
              0,
              "#0d0887"
             ],
             [
              0.1111111111111111,
              "#46039f"
             ],
             [
              0.2222222222222222,
              "#7201a8"
             ],
             [
              0.3333333333333333,
              "#9c179e"
             ],
             [
              0.4444444444444444,
              "#bd3786"
             ],
             [
              0.5555555555555556,
              "#d8576b"
             ],
             [
              0.6666666666666666,
              "#ed7953"
             ],
             [
              0.7777777777777778,
              "#fb9f3a"
             ],
             [
              0.8888888888888888,
              "#fdca26"
             ],
             [
              1,
              "#f0f921"
             ]
            ],
            "type": "surface"
           }
          ],
          "table": [
           {
            "cells": {
             "fill": {
              "color": "#EBF0F8"
             },
             "line": {
              "color": "white"
             }
            },
            "header": {
             "fill": {
              "color": "#C8D4E3"
             },
             "line": {
              "color": "white"
             }
            },
            "type": "table"
           }
          ]
         },
         "layout": {
          "annotationdefaults": {
           "arrowcolor": "#2a3f5f",
           "arrowhead": 0,
           "arrowwidth": 1
          },
          "autotypenumbers": "strict",
          "coloraxis": {
           "colorbar": {
            "outlinewidth": 0,
            "ticks": ""
           }
          },
          "colorscale": {
           "diverging": [
            [
             0,
             "#8e0152"
            ],
            [
             0.1,
             "#c51b7d"
            ],
            [
             0.2,
             "#de77ae"
            ],
            [
             0.3,
             "#f1b6da"
            ],
            [
             0.4,
             "#fde0ef"
            ],
            [
             0.5,
             "#f7f7f7"
            ],
            [
             0.6,
             "#e6f5d0"
            ],
            [
             0.7,
             "#b8e186"
            ],
            [
             0.8,
             "#7fbc41"
            ],
            [
             0.9,
             "#4d9221"
            ],
            [
             1,
             "#276419"
            ]
           ],
           "sequential": [
            [
             0,
             "#0d0887"
            ],
            [
             0.1111111111111111,
             "#46039f"
            ],
            [
             0.2222222222222222,
             "#7201a8"
            ],
            [
             0.3333333333333333,
             "#9c179e"
            ],
            [
             0.4444444444444444,
             "#bd3786"
            ],
            [
             0.5555555555555556,
             "#d8576b"
            ],
            [
             0.6666666666666666,
             "#ed7953"
            ],
            [
             0.7777777777777778,
             "#fb9f3a"
            ],
            [
             0.8888888888888888,
             "#fdca26"
            ],
            [
             1,
             "#f0f921"
            ]
           ],
           "sequentialminus": [
            [
             0,
             "#0d0887"
            ],
            [
             0.1111111111111111,
             "#46039f"
            ],
            [
             0.2222222222222222,
             "#7201a8"
            ],
            [
             0.3333333333333333,
             "#9c179e"
            ],
            [
             0.4444444444444444,
             "#bd3786"
            ],
            [
             0.5555555555555556,
             "#d8576b"
            ],
            [
             0.6666666666666666,
             "#ed7953"
            ],
            [
             0.7777777777777778,
             "#fb9f3a"
            ],
            [
             0.8888888888888888,
             "#fdca26"
            ],
            [
             1,
             "#f0f921"
            ]
           ]
          },
          "colorway": [
           "#636efa",
           "#EF553B",
           "#00cc96",
           "#ab63fa",
           "#FFA15A",
           "#19d3f3",
           "#FF6692",
           "#B6E880",
           "#FF97FF",
           "#FECB52"
          ],
          "font": {
           "color": "#2a3f5f"
          },
          "geo": {
           "bgcolor": "white",
           "lakecolor": "white",
           "landcolor": "#E5ECF6",
           "showlakes": true,
           "showland": true,
           "subunitcolor": "white"
          },
          "hoverlabel": {
           "align": "left"
          },
          "hovermode": "closest",
          "mapbox": {
           "style": "light"
          },
          "paper_bgcolor": "white",
          "plot_bgcolor": "#E5ECF6",
          "polar": {
           "angularaxis": {
            "gridcolor": "white",
            "linecolor": "white",
            "ticks": ""
           },
           "bgcolor": "#E5ECF6",
           "radialaxis": {
            "gridcolor": "white",
            "linecolor": "white",
            "ticks": ""
           }
          },
          "scene": {
           "xaxis": {
            "backgroundcolor": "#E5ECF6",
            "gridcolor": "white",
            "gridwidth": 2,
            "linecolor": "white",
            "showbackground": true,
            "ticks": "",
            "zerolinecolor": "white"
           },
           "yaxis": {
            "backgroundcolor": "#E5ECF6",
            "gridcolor": "white",
            "gridwidth": 2,
            "linecolor": "white",
            "showbackground": true,
            "ticks": "",
            "zerolinecolor": "white"
           },
           "zaxis": {
            "backgroundcolor": "#E5ECF6",
            "gridcolor": "white",
            "gridwidth": 2,
            "linecolor": "white",
            "showbackground": true,
            "ticks": "",
            "zerolinecolor": "white"
           }
          },
          "shapedefaults": {
           "line": {
            "color": "#2a3f5f"
           }
          },
          "ternary": {
           "aaxis": {
            "gridcolor": "white",
            "linecolor": "white",
            "ticks": ""
           },
           "baxis": {
            "gridcolor": "white",
            "linecolor": "white",
            "ticks": ""
           },
           "bgcolor": "#E5ECF6",
           "caxis": {
            "gridcolor": "white",
            "linecolor": "white",
            "ticks": ""
           }
          },
          "title": {
           "x": 0.05
          },
          "xaxis": {
           "automargin": true,
           "gridcolor": "white",
           "linecolor": "white",
           "ticks": "",
           "title": {
            "standoff": 15
           },
           "zerolinecolor": "white",
           "zerolinewidth": 2
          },
          "yaxis": {
           "automargin": true,
           "gridcolor": "white",
           "linecolor": "white",
           "ticks": "",
           "title": {
            "standoff": 15
           },
           "zerolinecolor": "white",
           "zerolinewidth": 2
          }
         }
        },
        "title": {
         "text": "Student Performance Summary"
        },
        "width": 1000
       }
      },
      "text/html": [
       "<div>                            <div id=\"1ad7a1ae-04aa-433b-b0ae-e45c3cccfdd4\" class=\"plotly-graph-div\" style=\"height:800px; width:1000px;\"></div>            <script type=\"text/javascript\">                require([\"plotly\"], function(Plotly) {                    window.PLOTLYENV=window.PLOTLYENV || {};                                    if (document.getElementById(\"1ad7a1ae-04aa-433b-b0ae-e45c3cccfdd4\")) {                    Plotly.newPlot(                        \"1ad7a1ae-04aa-433b-b0ae-e45c3cccfdd4\",                        [{\"domain\":{\"x\":[0,0.4],\"y\":[0.5,1]},\"gauge\":{\"axis\":{\"range\":[0,100]},\"bar\":{\"color\":\"rgb(226, 255, 0)\",\"thickness\":0.3},\"bgcolor\":\"white\",\"steps\":[{\"color\":\"rgba(255, 0, 0, 0.3)\",\"range\":[0,1]},{\"color\":\"rgba(255, 5, 0, 0.3)\",\"range\":[1,2]},{\"color\":\"rgba(255, 10, 0, 0.3)\",\"range\":[2,3]},{\"color\":\"rgba(255, 15, 0, 0.3)\",\"range\":[3,4]},{\"color\":\"rgba(255, 20, 0, 0.3)\",\"range\":[4,5]},{\"color\":\"rgba(255, 25, 0, 0.3)\",\"range\":[5,6]},{\"color\":\"rgba(255, 30, 0, 0.3)\",\"range\":[6,7]},{\"color\":\"rgba(255, 35, 0, 0.3)\",\"range\":[7,8]},{\"color\":\"rgba(255, 40, 0, 0.3)\",\"range\":[8,9]},{\"color\":\"rgba(255, 45, 0, 0.3)\",\"range\":[9,10]},{\"color\":\"rgba(255, 51, 0, 0.3)\",\"range\":[10,11]},{\"color\":\"rgba(255, 56, 0, 0.3)\",\"range\":[11,12]},{\"color\":\"rgba(255, 61, 0, 0.3)\",\"range\":[12,13]},{\"color\":\"rgba(255, 66, 0, 0.3)\",\"range\":[13,14]},{\"color\":\"rgba(255, 71, 0, 0.3)\",\"range\":[14,15]},{\"color\":\"rgba(255, 76, 0, 0.3)\",\"range\":[15,16]},{\"color\":\"rgba(255, 81, 0, 0.3)\",\"range\":[16,17]},{\"color\":\"rgba(255, 86, 0, 0.3)\",\"range\":[17,18]},{\"color\":\"rgba(255, 91, 0, 0.3)\",\"range\":[18,19]},{\"color\":\"rgba(255, 96, 0, 0.3)\",\"range\":[19,20]},{\"color\":\"rgba(255, 102, 0, 0.3)\",\"range\":[20,21]},{\"color\":\"rgba(255, 107, 0, 0.3)\",\"range\":[21,22]},{\"color\":\"rgba(255, 112, 0, 0.3)\",\"range\":[22,23]},{\"color\":\"rgba(255, 117, 0, 0.3)\",\"range\":[23,24]},{\"color\":\"rgba(255, 122, 0, 0.3)\",\"range\":[24,25]},{\"color\":\"rgba(255, 127, 0, 0.3)\",\"range\":[25,26]},{\"color\":\"rgba(255, 132, 0, 0.3)\",\"range\":[26,27]},{\"color\":\"rgba(255, 137, 0, 0.3)\",\"range\":[27,28]},{\"color\":\"rgba(255, 142, 0, 0.3)\",\"range\":[28,29]},{\"color\":\"rgba(255, 147, 0, 0.3)\",\"range\":[29,30]},{\"color\":\"rgba(255, 153, 0, 0.3)\",\"range\":[30,31]},{\"color\":\"rgba(255, 158, 0, 0.3)\",\"range\":[31,32]},{\"color\":\"rgba(255, 163, 0, 0.3)\",\"range\":[32,33]},{\"color\":\"rgba(255, 168, 0, 0.3)\",\"range\":[33,34]},{\"color\":\"rgba(255, 173, 0, 0.3)\",\"range\":[34,35]},{\"color\":\"rgba(255, 178, 0, 0.3)\",\"range\":[35,36]},{\"color\":\"rgba(255, 183, 0, 0.3)\",\"range\":[36,37]},{\"color\":\"rgba(255, 188, 0, 0.3)\",\"range\":[37,38]},{\"color\":\"rgba(255, 193, 0, 0.3)\",\"range\":[38,39]},{\"color\":\"rgba(255, 198, 0, 0.3)\",\"range\":[39,40]},{\"color\":\"rgba(255, 204, 0, 0.3)\",\"range\":[40,41]},{\"color\":\"rgba(255, 209, 0, 0.3)\",\"range\":[41,42]},{\"color\":\"rgba(255, 214, 0, 0.3)\",\"range\":[42,43]},{\"color\":\"rgba(255, 219, 0, 0.3)\",\"range\":[43,44]},{\"color\":\"rgba(255, 224, 0, 0.3)\",\"range\":[44,45]},{\"color\":\"rgba(255, 229, 0, 0.3)\",\"range\":[45,46]},{\"color\":\"rgba(255, 234, 0, 0.3)\",\"range\":[46,47]},{\"color\":\"rgba(255, 239, 0, 0.3)\",\"range\":[47,48]},{\"color\":\"rgba(255, 244, 0, 0.3)\",\"range\":[48,49]},{\"color\":\"rgba(255, 249, 0, 0.3)\",\"range\":[49,50]},{\"color\":\"rgba(255, 255, 0, 0.3)\",\"range\":[50,51]},{\"color\":\"rgba(249, 255, 0, 0.3)\",\"range\":[51,52]},{\"color\":\"rgba(244, 255, 0, 0.3)\",\"range\":[52,53]},{\"color\":\"rgba(239, 255, 0, 0.3)\",\"range\":[53,54]},{\"color\":\"rgba(234, 255, 0, 0.3)\",\"range\":[54,55]},{\"color\":\"rgba(229, 255, 0, 0.3)\",\"range\":[55,56]},{\"color\":\"rgba(224, 255, 0, 0.3)\",\"range\":[56,57]},{\"color\":\"rgba(219, 255, 0, 0.3)\",\"range\":[57,58]},{\"color\":\"rgba(214, 255, 0, 0.3)\",\"range\":[58,59]},{\"color\":\"rgba(209, 255, 0, 0.3)\",\"range\":[59,60]},{\"color\":\"rgba(204, 255, 0, 0.3)\",\"range\":[60,61]},{\"color\":\"rgba(198, 255, 0, 0.3)\",\"range\":[61,62]},{\"color\":\"rgba(193, 255, 0, 0.3)\",\"range\":[62,63]},{\"color\":\"rgba(188, 255, 0, 0.3)\",\"range\":[63,64]},{\"color\":\"rgba(183, 255, 0, 0.3)\",\"range\":[64,65]},{\"color\":\"rgba(178, 255, 0, 0.3)\",\"range\":[65,66]},{\"color\":\"rgba(173, 255, 0, 0.3)\",\"range\":[66,67]},{\"color\":\"rgba(168, 255, 0, 0.3)\",\"range\":[67,68]},{\"color\":\"rgba(163, 255, 0, 0.3)\",\"range\":[68,69]},{\"color\":\"rgba(158, 255, 0, 0.3)\",\"range\":[69,70]},{\"color\":\"rgba(153, 255, 0, 0.3)\",\"range\":[70,71]},{\"color\":\"rgba(147, 255, 0, 0.3)\",\"range\":[71,72]},{\"color\":\"rgba(142, 255, 0, 0.3)\",\"range\":[72,73]},{\"color\":\"rgba(137, 255, 0, 0.3)\",\"range\":[73,74]},{\"color\":\"rgba(132, 255, 0, 0.3)\",\"range\":[74,75]},{\"color\":\"rgba(127, 255, 0, 0.3)\",\"range\":[75,76]},{\"color\":\"rgba(122, 255, 0, 0.3)\",\"range\":[76,77]},{\"color\":\"rgba(117, 255, 0, 0.3)\",\"range\":[77,78]},{\"color\":\"rgba(112, 255, 0, 0.3)\",\"range\":[78,79]},{\"color\":\"rgba(107, 255, 0, 0.3)\",\"range\":[79,80]},{\"color\":\"rgba(102, 255, 0, 0.3)\",\"range\":[80,81]},{\"color\":\"rgba(96, 255, 0, 0.3)\",\"range\":[81,82]},{\"color\":\"rgba(91, 255, 0, 0.3)\",\"range\":[82,83]},{\"color\":\"rgba(86, 255, 0, 0.3)\",\"range\":[83,84]},{\"color\":\"rgba(81, 255, 0, 0.3)\",\"range\":[84,85]},{\"color\":\"rgba(76, 255, 0, 0.3)\",\"range\":[85,86]},{\"color\":\"rgba(71, 255, 0, 0.3)\",\"range\":[86,87]},{\"color\":\"rgba(66, 255, 0, 0.3)\",\"range\":[87,88]},{\"color\":\"rgba(61, 255, 0, 0.3)\",\"range\":[88,89]},{\"color\":\"rgba(56, 255, 0, 0.3)\",\"range\":[89,90]},{\"color\":\"rgba(50, 255, 0, 0.3)\",\"range\":[90,91]},{\"color\":\"rgba(45, 255, 0, 0.3)\",\"range\":[91,92]},{\"color\":\"rgba(40, 255, 0, 0.3)\",\"range\":[92,93]},{\"color\":\"rgba(35, 255, 0, 0.3)\",\"range\":[93,94]},{\"color\":\"rgba(30, 255, 0, 0.3)\",\"range\":[94,95]},{\"color\":\"rgba(25, 255, 0, 0.3)\",\"range\":[95,96]},{\"color\":\"rgba(20, 255, 0, 0.3)\",\"range\":[96,97]},{\"color\":\"rgba(15, 255, 0, 0.3)\",\"range\":[97,98]},{\"color\":\"rgba(10, 255, 0, 0.3)\",\"range\":[98,99]},{\"color\":\"rgba(5, 255, 0, 0.3)\",\"range\":[99,100]}]},\"mode\":\"gauge+number\",\"title\":{\"text\":\"Overall Percentile\"},\"value\":55.6,\"type\":\"indicator\"},{\"domain\":{\"x\":[0.6,1],\"y\":[0.5,1]},\"gauge\":{\"axis\":{\"range\":[0,100]},\"bar\":{\"color\":\"rgb(0, 255, 0)\",\"thickness\":0.3},\"bgcolor\":\"white\",\"steps\":[{\"color\":\"rgba(255, 0, 0, 0.3)\",\"range\":[0,1]},{\"color\":\"rgba(255, 5, 0, 0.3)\",\"range\":[1,2]},{\"color\":\"rgba(255, 10, 0, 0.3)\",\"range\":[2,3]},{\"color\":\"rgba(255, 15, 0, 0.3)\",\"range\":[3,4]},{\"color\":\"rgba(255, 20, 0, 0.3)\",\"range\":[4,5]},{\"color\":\"rgba(255, 25, 0, 0.3)\",\"range\":[5,6]},{\"color\":\"rgba(255, 30, 0, 0.3)\",\"range\":[6,7]},{\"color\":\"rgba(255, 35, 0, 0.3)\",\"range\":[7,8]},{\"color\":\"rgba(255, 40, 0, 0.3)\",\"range\":[8,9]},{\"color\":\"rgba(255, 45, 0, 0.3)\",\"range\":[9,10]},{\"color\":\"rgba(255, 51, 0, 0.3)\",\"range\":[10,11]},{\"color\":\"rgba(255, 56, 0, 0.3)\",\"range\":[11,12]},{\"color\":\"rgba(255, 61, 0, 0.3)\",\"range\":[12,13]},{\"color\":\"rgba(255, 66, 0, 0.3)\",\"range\":[13,14]},{\"color\":\"rgba(255, 71, 0, 0.3)\",\"range\":[14,15]},{\"color\":\"rgba(255, 76, 0, 0.3)\",\"range\":[15,16]},{\"color\":\"rgba(255, 81, 0, 0.3)\",\"range\":[16,17]},{\"color\":\"rgba(255, 86, 0, 0.3)\",\"range\":[17,18]},{\"color\":\"rgba(255, 91, 0, 0.3)\",\"range\":[18,19]},{\"color\":\"rgba(255, 96, 0, 0.3)\",\"range\":[19,20]},{\"color\":\"rgba(255, 102, 0, 0.3)\",\"range\":[20,21]},{\"color\":\"rgba(255, 107, 0, 0.3)\",\"range\":[21,22]},{\"color\":\"rgba(255, 112, 0, 0.3)\",\"range\":[22,23]},{\"color\":\"rgba(255, 117, 0, 0.3)\",\"range\":[23,24]},{\"color\":\"rgba(255, 122, 0, 0.3)\",\"range\":[24,25]},{\"color\":\"rgba(255, 127, 0, 0.3)\",\"range\":[25,26]},{\"color\":\"rgba(255, 132, 0, 0.3)\",\"range\":[26,27]},{\"color\":\"rgba(255, 137, 0, 0.3)\",\"range\":[27,28]},{\"color\":\"rgba(255, 142, 0, 0.3)\",\"range\":[28,29]},{\"color\":\"rgba(255, 147, 0, 0.3)\",\"range\":[29,30]},{\"color\":\"rgba(255, 153, 0, 0.3)\",\"range\":[30,31]},{\"color\":\"rgba(255, 158, 0, 0.3)\",\"range\":[31,32]},{\"color\":\"rgba(255, 163, 0, 0.3)\",\"range\":[32,33]},{\"color\":\"rgba(255, 168, 0, 0.3)\",\"range\":[33,34]},{\"color\":\"rgba(255, 173, 0, 0.3)\",\"range\":[34,35]},{\"color\":\"rgba(255, 178, 0, 0.3)\",\"range\":[35,36]},{\"color\":\"rgba(255, 183, 0, 0.3)\",\"range\":[36,37]},{\"color\":\"rgba(255, 188, 0, 0.3)\",\"range\":[37,38]},{\"color\":\"rgba(255, 193, 0, 0.3)\",\"range\":[38,39]},{\"color\":\"rgba(255, 198, 0, 0.3)\",\"range\":[39,40]},{\"color\":\"rgba(255, 204, 0, 0.3)\",\"range\":[40,41]},{\"color\":\"rgba(255, 209, 0, 0.3)\",\"range\":[41,42]},{\"color\":\"rgba(255, 214, 0, 0.3)\",\"range\":[42,43]},{\"color\":\"rgba(255, 219, 0, 0.3)\",\"range\":[43,44]},{\"color\":\"rgba(255, 224, 0, 0.3)\",\"range\":[44,45]},{\"color\":\"rgba(255, 229, 0, 0.3)\",\"range\":[45,46]},{\"color\":\"rgba(255, 234, 0, 0.3)\",\"range\":[46,47]},{\"color\":\"rgba(255, 239, 0, 0.3)\",\"range\":[47,48]},{\"color\":\"rgba(255, 244, 0, 0.3)\",\"range\":[48,49]},{\"color\":\"rgba(255, 249, 0, 0.3)\",\"range\":[49,50]},{\"color\":\"rgba(255, 255, 0, 0.3)\",\"range\":[50,51]},{\"color\":\"rgba(249, 255, 0, 0.3)\",\"range\":[51,52]},{\"color\":\"rgba(244, 255, 0, 0.3)\",\"range\":[52,53]},{\"color\":\"rgba(239, 255, 0, 0.3)\",\"range\":[53,54]},{\"color\":\"rgba(234, 255, 0, 0.3)\",\"range\":[54,55]},{\"color\":\"rgba(229, 255, 0, 0.3)\",\"range\":[55,56]},{\"color\":\"rgba(224, 255, 0, 0.3)\",\"range\":[56,57]},{\"color\":\"rgba(219, 255, 0, 0.3)\",\"range\":[57,58]},{\"color\":\"rgba(214, 255, 0, 0.3)\",\"range\":[58,59]},{\"color\":\"rgba(209, 255, 0, 0.3)\",\"range\":[59,60]},{\"color\":\"rgba(204, 255, 0, 0.3)\",\"range\":[60,61]},{\"color\":\"rgba(198, 255, 0, 0.3)\",\"range\":[61,62]},{\"color\":\"rgba(193, 255, 0, 0.3)\",\"range\":[62,63]},{\"color\":\"rgba(188, 255, 0, 0.3)\",\"range\":[63,64]},{\"color\":\"rgba(183, 255, 0, 0.3)\",\"range\":[64,65]},{\"color\":\"rgba(178, 255, 0, 0.3)\",\"range\":[65,66]},{\"color\":\"rgba(173, 255, 0, 0.3)\",\"range\":[66,67]},{\"color\":\"rgba(168, 255, 0, 0.3)\",\"range\":[67,68]},{\"color\":\"rgba(163, 255, 0, 0.3)\",\"range\":[68,69]},{\"color\":\"rgba(158, 255, 0, 0.3)\",\"range\":[69,70]},{\"color\":\"rgba(153, 255, 0, 0.3)\",\"range\":[70,71]},{\"color\":\"rgba(147, 255, 0, 0.3)\",\"range\":[71,72]},{\"color\":\"rgba(142, 255, 0, 0.3)\",\"range\":[72,73]},{\"color\":\"rgba(137, 255, 0, 0.3)\",\"range\":[73,74]},{\"color\":\"rgba(132, 255, 0, 0.3)\",\"range\":[74,75]},{\"color\":\"rgba(127, 255, 0, 0.3)\",\"range\":[75,76]},{\"color\":\"rgba(122, 255, 0, 0.3)\",\"range\":[76,77]},{\"color\":\"rgba(117, 255, 0, 0.3)\",\"range\":[77,78]},{\"color\":\"rgba(112, 255, 0, 0.3)\",\"range\":[78,79]},{\"color\":\"rgba(107, 255, 0, 0.3)\",\"range\":[79,80]},{\"color\":\"rgba(102, 255, 0, 0.3)\",\"range\":[80,81]},{\"color\":\"rgba(96, 255, 0, 0.3)\",\"range\":[81,82]},{\"color\":\"rgba(91, 255, 0, 0.3)\",\"range\":[82,83]},{\"color\":\"rgba(86, 255, 0, 0.3)\",\"range\":[83,84]},{\"color\":\"rgba(81, 255, 0, 0.3)\",\"range\":[84,85]},{\"color\":\"rgba(76, 255, 0, 0.3)\",\"range\":[85,86]},{\"color\":\"rgba(71, 255, 0, 0.3)\",\"range\":[86,87]},{\"color\":\"rgba(66, 255, 0, 0.3)\",\"range\":[87,88]},{\"color\":\"rgba(61, 255, 0, 0.3)\",\"range\":[88,89]},{\"color\":\"rgba(56, 255, 0, 0.3)\",\"range\":[89,90]},{\"color\":\"rgba(50, 255, 0, 0.3)\",\"range\":[90,91]},{\"color\":\"rgba(45, 255, 0, 0.3)\",\"range\":[91,92]},{\"color\":\"rgba(40, 255, 0, 0.3)\",\"range\":[92,93]},{\"color\":\"rgba(35, 255, 0, 0.3)\",\"range\":[93,94]},{\"color\":\"rgba(30, 255, 0, 0.3)\",\"range\":[94,95]},{\"color\":\"rgba(25, 255, 0, 0.3)\",\"range\":[95,96]},{\"color\":\"rgba(20, 255, 0, 0.3)\",\"range\":[96,97]},{\"color\":\"rgba(15, 255, 0, 0.3)\",\"range\":[97,98]},{\"color\":\"rgba(10, 255, 0, 0.3)\",\"range\":[98,99]},{\"color\":\"rgba(5, 255, 0, 0.3)\",\"range\":[99,100]}]},\"mode\":\"gauge+number\",\"title\":{\"text\":\"Best Attribute: Behavioral Observations\"},\"value\":100,\"type\":\"indicator\"},{\"domain\":{\"x\":[0.3,0.7],\"y\":[0,0.4]},\"gauge\":{\"axis\":{\"range\":[0,100]},\"bar\":{\"color\":\"rgb(255, 51, 0)\",\"thickness\":0.3},\"bgcolor\":\"white\",\"steps\":[{\"color\":\"rgba(255, 0, 0, 0.3)\",\"range\":[0,1]},{\"color\":\"rgba(255, 5, 0, 0.3)\",\"range\":[1,2]},{\"color\":\"rgba(255, 10, 0, 0.3)\",\"range\":[2,3]},{\"color\":\"rgba(255, 15, 0, 0.3)\",\"range\":[3,4]},{\"color\":\"rgba(255, 20, 0, 0.3)\",\"range\":[4,5]},{\"color\":\"rgba(255, 25, 0, 0.3)\",\"range\":[5,6]},{\"color\":\"rgba(255, 30, 0, 0.3)\",\"range\":[6,7]},{\"color\":\"rgba(255, 35, 0, 0.3)\",\"range\":[7,8]},{\"color\":\"rgba(255, 40, 0, 0.3)\",\"range\":[8,9]},{\"color\":\"rgba(255, 45, 0, 0.3)\",\"range\":[9,10]},{\"color\":\"rgba(255, 51, 0, 0.3)\",\"range\":[10,11]},{\"color\":\"rgba(255, 56, 0, 0.3)\",\"range\":[11,12]},{\"color\":\"rgba(255, 61, 0, 0.3)\",\"range\":[12,13]},{\"color\":\"rgba(255, 66, 0, 0.3)\",\"range\":[13,14]},{\"color\":\"rgba(255, 71, 0, 0.3)\",\"range\":[14,15]},{\"color\":\"rgba(255, 76, 0, 0.3)\",\"range\":[15,16]},{\"color\":\"rgba(255, 81, 0, 0.3)\",\"range\":[16,17]},{\"color\":\"rgba(255, 86, 0, 0.3)\",\"range\":[17,18]},{\"color\":\"rgba(255, 91, 0, 0.3)\",\"range\":[18,19]},{\"color\":\"rgba(255, 96, 0, 0.3)\",\"range\":[19,20]},{\"color\":\"rgba(255, 102, 0, 0.3)\",\"range\":[20,21]},{\"color\":\"rgba(255, 107, 0, 0.3)\",\"range\":[21,22]},{\"color\":\"rgba(255, 112, 0, 0.3)\",\"range\":[22,23]},{\"color\":\"rgba(255, 117, 0, 0.3)\",\"range\":[23,24]},{\"color\":\"rgba(255, 122, 0, 0.3)\",\"range\":[24,25]},{\"color\":\"rgba(255, 127, 0, 0.3)\",\"range\":[25,26]},{\"color\":\"rgba(255, 132, 0, 0.3)\",\"range\":[26,27]},{\"color\":\"rgba(255, 137, 0, 0.3)\",\"range\":[27,28]},{\"color\":\"rgba(255, 142, 0, 0.3)\",\"range\":[28,29]},{\"color\":\"rgba(255, 147, 0, 0.3)\",\"range\":[29,30]},{\"color\":\"rgba(255, 153, 0, 0.3)\",\"range\":[30,31]},{\"color\":\"rgba(255, 158, 0, 0.3)\",\"range\":[31,32]},{\"color\":\"rgba(255, 163, 0, 0.3)\",\"range\":[32,33]},{\"color\":\"rgba(255, 168, 0, 0.3)\",\"range\":[33,34]},{\"color\":\"rgba(255, 173, 0, 0.3)\",\"range\":[34,35]},{\"color\":\"rgba(255, 178, 0, 0.3)\",\"range\":[35,36]},{\"color\":\"rgba(255, 183, 0, 0.3)\",\"range\":[36,37]},{\"color\":\"rgba(255, 188, 0, 0.3)\",\"range\":[37,38]},{\"color\":\"rgba(255, 193, 0, 0.3)\",\"range\":[38,39]},{\"color\":\"rgba(255, 198, 0, 0.3)\",\"range\":[39,40]},{\"color\":\"rgba(255, 204, 0, 0.3)\",\"range\":[40,41]},{\"color\":\"rgba(255, 209, 0, 0.3)\",\"range\":[41,42]},{\"color\":\"rgba(255, 214, 0, 0.3)\",\"range\":[42,43]},{\"color\":\"rgba(255, 219, 0, 0.3)\",\"range\":[43,44]},{\"color\":\"rgba(255, 224, 0, 0.3)\",\"range\":[44,45]},{\"color\":\"rgba(255, 229, 0, 0.3)\",\"range\":[45,46]},{\"color\":\"rgba(255, 234, 0, 0.3)\",\"range\":[46,47]},{\"color\":\"rgba(255, 239, 0, 0.3)\",\"range\":[47,48]},{\"color\":\"rgba(255, 244, 0, 0.3)\",\"range\":[48,49]},{\"color\":\"rgba(255, 249, 0, 0.3)\",\"range\":[49,50]},{\"color\":\"rgba(255, 255, 0, 0.3)\",\"range\":[50,51]},{\"color\":\"rgba(249, 255, 0, 0.3)\",\"range\":[51,52]},{\"color\":\"rgba(244, 255, 0, 0.3)\",\"range\":[52,53]},{\"color\":\"rgba(239, 255, 0, 0.3)\",\"range\":[53,54]},{\"color\":\"rgba(234, 255, 0, 0.3)\",\"range\":[54,55]},{\"color\":\"rgba(229, 255, 0, 0.3)\",\"range\":[55,56]},{\"color\":\"rgba(224, 255, 0, 0.3)\",\"range\":[56,57]},{\"color\":\"rgba(219, 255, 0, 0.3)\",\"range\":[57,58]},{\"color\":\"rgba(214, 255, 0, 0.3)\",\"range\":[58,59]},{\"color\":\"rgba(209, 255, 0, 0.3)\",\"range\":[59,60]},{\"color\":\"rgba(204, 255, 0, 0.3)\",\"range\":[60,61]},{\"color\":\"rgba(198, 255, 0, 0.3)\",\"range\":[61,62]},{\"color\":\"rgba(193, 255, 0, 0.3)\",\"range\":[62,63]},{\"color\":\"rgba(188, 255, 0, 0.3)\",\"range\":[63,64]},{\"color\":\"rgba(183, 255, 0, 0.3)\",\"range\":[64,65]},{\"color\":\"rgba(178, 255, 0, 0.3)\",\"range\":[65,66]},{\"color\":\"rgba(173, 255, 0, 0.3)\",\"range\":[66,67]},{\"color\":\"rgba(168, 255, 0, 0.3)\",\"range\":[67,68]},{\"color\":\"rgba(163, 255, 0, 0.3)\",\"range\":[68,69]},{\"color\":\"rgba(158, 255, 0, 0.3)\",\"range\":[69,70]},{\"color\":\"rgba(153, 255, 0, 0.3)\",\"range\":[70,71]},{\"color\":\"rgba(147, 255, 0, 0.3)\",\"range\":[71,72]},{\"color\":\"rgba(142, 255, 0, 0.3)\",\"range\":[72,73]},{\"color\":\"rgba(137, 255, 0, 0.3)\",\"range\":[73,74]},{\"color\":\"rgba(132, 255, 0, 0.3)\",\"range\":[74,75]},{\"color\":\"rgba(127, 255, 0, 0.3)\",\"range\":[75,76]},{\"color\":\"rgba(122, 255, 0, 0.3)\",\"range\":[76,77]},{\"color\":\"rgba(117, 255, 0, 0.3)\",\"range\":[77,78]},{\"color\":\"rgba(112, 255, 0, 0.3)\",\"range\":[78,79]},{\"color\":\"rgba(107, 255, 0, 0.3)\",\"range\":[79,80]},{\"color\":\"rgba(102, 255, 0, 0.3)\",\"range\":[80,81]},{\"color\":\"rgba(96, 255, 0, 0.3)\",\"range\":[81,82]},{\"color\":\"rgba(91, 255, 0, 0.3)\",\"range\":[82,83]},{\"color\":\"rgba(86, 255, 0, 0.3)\",\"range\":[83,84]},{\"color\":\"rgba(81, 255, 0, 0.3)\",\"range\":[84,85]},{\"color\":\"rgba(76, 255, 0, 0.3)\",\"range\":[85,86]},{\"color\":\"rgba(71, 255, 0, 0.3)\",\"range\":[86,87]},{\"color\":\"rgba(66, 255, 0, 0.3)\",\"range\":[87,88]},{\"color\":\"rgba(61, 255, 0, 0.3)\",\"range\":[88,89]},{\"color\":\"rgba(56, 255, 0, 0.3)\",\"range\":[89,90]},{\"color\":\"rgba(50, 255, 0, 0.3)\",\"range\":[90,91]},{\"color\":\"rgba(45, 255, 0, 0.3)\",\"range\":[91,92]},{\"color\":\"rgba(40, 255, 0, 0.3)\",\"range\":[92,93]},{\"color\":\"rgba(35, 255, 0, 0.3)\",\"range\":[93,94]},{\"color\":\"rgba(30, 255, 0, 0.3)\",\"range\":[94,95]},{\"color\":\"rgba(25, 255, 0, 0.3)\",\"range\":[95,96]},{\"color\":\"rgba(20, 255, 0, 0.3)\",\"range\":[96,97]},{\"color\":\"rgba(15, 255, 0, 0.3)\",\"range\":[97,98]},{\"color\":\"rgba(10, 255, 0, 0.3)\",\"range\":[98,99]},{\"color\":\"rgba(5, 255, 0, 0.3)\",\"range\":[99,100]}]},\"mode\":\"gauge+number\",\"title\":{\"text\":\"Worst Attribute: Similarities\"},\"value\":10,\"type\":\"indicator\"}],                        {\"template\":{\"data\":{\"bar\":[{\"error_x\":{\"color\":\"#2a3f5f\"},\"error_y\":{\"color\":\"#2a3f5f\"},\"marker\":{\"line\":{\"color\":\"#E5ECF6\",\"width\":0.5},\"pattern\":{\"fillmode\":\"overlay\",\"size\":10,\"solidity\":0.2}},\"type\":\"bar\"}],\"barpolar\":[{\"marker\":{\"line\":{\"color\":\"#E5ECF6\",\"width\":0.5},\"pattern\":{\"fillmode\":\"overlay\",\"size\":10,\"solidity\":0.2}},\"type\":\"barpolar\"}],\"carpet\":[{\"aaxis\":{\"endlinecolor\":\"#2a3f5f\",\"gridcolor\":\"white\",\"linecolor\":\"white\",\"minorgridcolor\":\"white\",\"startlinecolor\":\"#2a3f5f\"},\"baxis\":{\"endlinecolor\":\"#2a3f5f\",\"gridcolor\":\"white\",\"linecolor\":\"white\",\"minorgridcolor\":\"white\",\"startlinecolor\":\"#2a3f5f\"},\"type\":\"carpet\"}],\"choropleth\":[{\"colorbar\":{\"outlinewidth\":0,\"ticks\":\"\"},\"type\":\"choropleth\"}],\"contour\":[{\"colorbar\":{\"outlinewidth\":0,\"ticks\":\"\"},\"colorscale\":[[0.0,\"#0d0887\"],[0.1111111111111111,\"#46039f\"],[0.2222222222222222,\"#7201a8\"],[0.3333333333333333,\"#9c179e\"],[0.4444444444444444,\"#bd3786\"],[0.5555555555555556,\"#d8576b\"],[0.6666666666666666,\"#ed7953\"],[0.7777777777777778,\"#fb9f3a\"],[0.8888888888888888,\"#fdca26\"],[1.0,\"#f0f921\"]],\"type\":\"contour\"}],\"contourcarpet\":[{\"colorbar\":{\"outlinewidth\":0,\"ticks\":\"\"},\"type\":\"contourcarpet\"}],\"heatmap\":[{\"colorbar\":{\"outlinewidth\":0,\"ticks\":\"\"},\"colorscale\":[[0.0,\"#0d0887\"],[0.1111111111111111,\"#46039f\"],[0.2222222222222222,\"#7201a8\"],[0.3333333333333333,\"#9c179e\"],[0.4444444444444444,\"#bd3786\"],[0.5555555555555556,\"#d8576b\"],[0.6666666666666666,\"#ed7953\"],[0.7777777777777778,\"#fb9f3a\"],[0.8888888888888888,\"#fdca26\"],[1.0,\"#f0f921\"]],\"type\":\"heatmap\"}],\"heatmapgl\":[{\"colorbar\":{\"outlinewidth\":0,\"ticks\":\"\"},\"colorscale\":[[0.0,\"#0d0887\"],[0.1111111111111111,\"#46039f\"],[0.2222222222222222,\"#7201a8\"],[0.3333333333333333,\"#9c179e\"],[0.4444444444444444,\"#bd3786\"],[0.5555555555555556,\"#d8576b\"],[0.6666666666666666,\"#ed7953\"],[0.7777777777777778,\"#fb9f3a\"],[0.8888888888888888,\"#fdca26\"],[1.0,\"#f0f921\"]],\"type\":\"heatmapgl\"}],\"histogram\":[{\"marker\":{\"pattern\":{\"fillmode\":\"overlay\",\"size\":10,\"solidity\":0.2}},\"type\":\"histogram\"}],\"histogram2d\":[{\"colorbar\":{\"outlinewidth\":0,\"ticks\":\"\"},\"colorscale\":[[0.0,\"#0d0887\"],[0.1111111111111111,\"#46039f\"],[0.2222222222222222,\"#7201a8\"],[0.3333333333333333,\"#9c179e\"],[0.4444444444444444,\"#bd3786\"],[0.5555555555555556,\"#d8576b\"],[0.6666666666666666,\"#ed7953\"],[0.7777777777777778,\"#fb9f3a\"],[0.8888888888888888,\"#fdca26\"],[1.0,\"#f0f921\"]],\"type\":\"histogram2d\"}],\"histogram2dcontour\":[{\"colorbar\":{\"outlinewidth\":0,\"ticks\":\"\"},\"colorscale\":[[0.0,\"#0d0887\"],[0.1111111111111111,\"#46039f\"],[0.2222222222222222,\"#7201a8\"],[0.3333333333333333,\"#9c179e\"],[0.4444444444444444,\"#bd3786\"],[0.5555555555555556,\"#d8576b\"],[0.6666666666666666,\"#ed7953\"],[0.7777777777777778,\"#fb9f3a\"],[0.8888888888888888,\"#fdca26\"],[1.0,\"#f0f921\"]],\"type\":\"histogram2dcontour\"}],\"mesh3d\":[{\"colorbar\":{\"outlinewidth\":0,\"ticks\":\"\"},\"type\":\"mesh3d\"}],\"parcoords\":[{\"line\":{\"colorbar\":{\"outlinewidth\":0,\"ticks\":\"\"}},\"type\":\"parcoords\"}],\"pie\":[{\"automargin\":true,\"type\":\"pie\"}],\"scatter\":[{\"marker\":{\"colorbar\":{\"outlinewidth\":0,\"ticks\":\"\"}},\"type\":\"scatter\"}],\"scatter3d\":[{\"line\":{\"colorbar\":{\"outlinewidth\":0,\"ticks\":\"\"}},\"marker\":{\"colorbar\":{\"outlinewidth\":0,\"ticks\":\"\"}},\"type\":\"scatter3d\"}],\"scattercarpet\":[{\"marker\":{\"colorbar\":{\"outlinewidth\":0,\"ticks\":\"\"}},\"type\":\"scattercarpet\"}],\"scattergeo\":[{\"marker\":{\"colorbar\":{\"outlinewidth\":0,\"ticks\":\"\"}},\"type\":\"scattergeo\"}],\"scattergl\":[{\"marker\":{\"colorbar\":{\"outlinewidth\":0,\"ticks\":\"\"}},\"type\":\"scattergl\"}],\"scattermapbox\":[{\"marker\":{\"colorbar\":{\"outlinewidth\":0,\"ticks\":\"\"}},\"type\":\"scattermapbox\"}],\"scatterpolar\":[{\"marker\":{\"colorbar\":{\"outlinewidth\":0,\"ticks\":\"\"}},\"type\":\"scatterpolar\"}],\"scatterpolargl\":[{\"marker\":{\"colorbar\":{\"outlinewidth\":0,\"ticks\":\"\"}},\"type\":\"scatterpolargl\"}],\"scatterternary\":[{\"marker\":{\"colorbar\":{\"outlinewidth\":0,\"ticks\":\"\"}},\"type\":\"scatterternary\"}],\"surface\":[{\"colorbar\":{\"outlinewidth\":0,\"ticks\":\"\"},\"colorscale\":[[0.0,\"#0d0887\"],[0.1111111111111111,\"#46039f\"],[0.2222222222222222,\"#7201a8\"],[0.3333333333333333,\"#9c179e\"],[0.4444444444444444,\"#bd3786\"],[0.5555555555555556,\"#d8576b\"],[0.6666666666666666,\"#ed7953\"],[0.7777777777777778,\"#fb9f3a\"],[0.8888888888888888,\"#fdca26\"],[1.0,\"#f0f921\"]],\"type\":\"surface\"}],\"table\":[{\"cells\":{\"fill\":{\"color\":\"#EBF0F8\"},\"line\":{\"color\":\"white\"}},\"header\":{\"fill\":{\"color\":\"#C8D4E3\"},\"line\":{\"color\":\"white\"}},\"type\":\"table\"}]},\"layout\":{\"annotationdefaults\":{\"arrowcolor\":\"#2a3f5f\",\"arrowhead\":0,\"arrowwidth\":1},\"autotypenumbers\":\"strict\",\"coloraxis\":{\"colorbar\":{\"outlinewidth\":0,\"ticks\":\"\"}},\"colorscale\":{\"diverging\":[[0,\"#8e0152\"],[0.1,\"#c51b7d\"],[0.2,\"#de77ae\"],[0.3,\"#f1b6da\"],[0.4,\"#fde0ef\"],[0.5,\"#f7f7f7\"],[0.6,\"#e6f5d0\"],[0.7,\"#b8e186\"],[0.8,\"#7fbc41\"],[0.9,\"#4d9221\"],[1,\"#276419\"]],\"sequential\":[[0.0,\"#0d0887\"],[0.1111111111111111,\"#46039f\"],[0.2222222222222222,\"#7201a8\"],[0.3333333333333333,\"#9c179e\"],[0.4444444444444444,\"#bd3786\"],[0.5555555555555556,\"#d8576b\"],[0.6666666666666666,\"#ed7953\"],[0.7777777777777778,\"#fb9f3a\"],[0.8888888888888888,\"#fdca26\"],[1.0,\"#f0f921\"]],\"sequentialminus\":[[0.0,\"#0d0887\"],[0.1111111111111111,\"#46039f\"],[0.2222222222222222,\"#7201a8\"],[0.3333333333333333,\"#9c179e\"],[0.4444444444444444,\"#bd3786\"],[0.5555555555555556,\"#d8576b\"],[0.6666666666666666,\"#ed7953\"],[0.7777777777777778,\"#fb9f3a\"],[0.8888888888888888,\"#fdca26\"],[1.0,\"#f0f921\"]]},\"colorway\":[\"#636efa\",\"#EF553B\",\"#00cc96\",\"#ab63fa\",\"#FFA15A\",\"#19d3f3\",\"#FF6692\",\"#B6E880\",\"#FF97FF\",\"#FECB52\"],\"font\":{\"color\":\"#2a3f5f\"},\"geo\":{\"bgcolor\":\"white\",\"lakecolor\":\"white\",\"landcolor\":\"#E5ECF6\",\"showlakes\":true,\"showland\":true,\"subunitcolor\":\"white\"},\"hoverlabel\":{\"align\":\"left\"},\"hovermode\":\"closest\",\"mapbox\":{\"style\":\"light\"},\"paper_bgcolor\":\"white\",\"plot_bgcolor\":\"#E5ECF6\",\"polar\":{\"angularaxis\":{\"gridcolor\":\"white\",\"linecolor\":\"white\",\"ticks\":\"\"},\"bgcolor\":\"#E5ECF6\",\"radialaxis\":{\"gridcolor\":\"white\",\"linecolor\":\"white\",\"ticks\":\"\"}},\"scene\":{\"xaxis\":{\"backgroundcolor\":\"#E5ECF6\",\"gridcolor\":\"white\",\"gridwidth\":2,\"linecolor\":\"white\",\"showbackground\":true,\"ticks\":\"\",\"zerolinecolor\":\"white\"},\"yaxis\":{\"backgroundcolor\":\"#E5ECF6\",\"gridcolor\":\"white\",\"gridwidth\":2,\"linecolor\":\"white\",\"showbackground\":true,\"ticks\":\"\",\"zerolinecolor\":\"white\"},\"zaxis\":{\"backgroundcolor\":\"#E5ECF6\",\"gridcolor\":\"white\",\"gridwidth\":2,\"linecolor\":\"white\",\"showbackground\":true,\"ticks\":\"\",\"zerolinecolor\":\"white\"}},\"shapedefaults\":{\"line\":{\"color\":\"#2a3f5f\"}},\"ternary\":{\"aaxis\":{\"gridcolor\":\"white\",\"linecolor\":\"white\",\"ticks\":\"\"},\"baxis\":{\"gridcolor\":\"white\",\"linecolor\":\"white\",\"ticks\":\"\"},\"bgcolor\":\"#E5ECF6\",\"caxis\":{\"gridcolor\":\"white\",\"linecolor\":\"white\",\"ticks\":\"\"}},\"title\":{\"x\":0.05},\"xaxis\":{\"automargin\":true,\"gridcolor\":\"white\",\"linecolor\":\"white\",\"ticks\":\"\",\"title\":{\"standoff\":15},\"zerolinecolor\":\"white\",\"zerolinewidth\":2},\"yaxis\":{\"automargin\":true,\"gridcolor\":\"white\",\"linecolor\":\"white\",\"ticks\":\"\",\"title\":{\"standoff\":15},\"zerolinecolor\":\"white\",\"zerolinewidth\":2}}},\"annotations\":[{\"align\":\"center\",\"font\":{\"size\":12},\"showarrow\":false,\"text\":\"Positive behavioral observations indicating good behavior and focus.\",\"x\":1.03,\"y\":0.6},{\"align\":\"center\",\"font\":{\"size\":12},\"showarrow\":false,\"text\":\"Challenges in verbal reasoning and forming concepts.\",\"x\":0.5,\"y\":0.03},{\"align\":\"center\",\"bgcolor\":\"lightyellow\",\"bordercolor\":\"black\",\"borderpad\":10,\"borderwidth\":1,\"font\":{\"color\":\"black\",\"size\":14},\"opacity\":0.8,\"showarrow\":false,\"text\":\"<b>Dyslexia Diagnosis:</b> No Dyslexia\",\"x\":0.001,\"xref\":\"paper\",\"y\":1.01,\"yref\":\"paper\"}],\"margin\":{\"l\":50,\"r\":50,\"b\":50,\"t\":50},\"title\":{\"text\":\"Student Performance Summary\"},\"autosize\":false,\"width\":1000,\"height\":800},                        {\"responsive\": true}                    ).then(function(){\n",
       "                            \n",
       "var gd = document.getElementById('1ad7a1ae-04aa-433b-b0ae-e45c3cccfdd4');\n",
       "var x = new MutationObserver(function (mutations, observer) {{\n",
       "        var display = window.getComputedStyle(gd).display;\n",
       "        if (!display || display === 'none') {{\n",
       "            console.log([gd, 'removed!']);\n",
       "            Plotly.purge(gd);\n",
       "            observer.disconnect();\n",
       "        }}\n",
       "}});\n",
       "\n",
       "// Listen for the removal of the full notebook cells\n",
       "var notebookContainer = gd.closest('#notebook-container');\n",
       "if (notebookContainer) {{\n",
       "    x.observe(notebookContainer, {childList: true});\n",
       "}}\n",
       "\n",
       "// Listen for the clearing of the current output cell\n",
       "var outputEl = gd.closest('.output');\n",
       "if (outputEl) {{\n",
       "    x.observe(outputEl, {childList: true});\n",
       "}}\n",
       "\n",
       "                        })                };                });            </script>        </div>"
      ]
     },
     "metadata": {},
     "output_type": "display_data"
    }
   ],
   "source": [
    "import pandas as pd\n",
    "import numpy as np\n",
    "import matplotlib.pyplot as plt\n",
    "import seaborn as sns\n",
    "from sklearn.model_selection import train_test_split, GridSearchCV, StratifiedKFold, learning_curve\n",
    "from sklearn.pipeline import Pipeline\n",
    "from sklearn.preprocessing import StandardScaler, Normalizer\n",
    "from sklearn.decomposition import PCA\n",
    "from sklearn.ensemble import RandomForestClassifier\n",
    "from sklearn.metrics import classification_report, recall_score\n",
    "import plotly.graph_objects as go\n",
    "\n",
    "def load_data(file_path):\n",
    "    # Load the original CSV file and remove the specified columns\n",
    "    Data = pd.read_csv(file_path).drop(columns=[\"Subtest\"])\n",
    "    # Replace 'No Dyslexia' with 0, 'Mild' with 1, and 'Severe' with 2\n",
    "    Data.replace({'No Dyslexia': 0, 'Mild': 1, 'Severe': 2}, inplace=True)\n",
    "    # Separate the features (X) and the target (y)\n",
    "    X = Data.iloc[0:25].values.T.astype(float)  # Transpose X to ensure rows are samples and columns are features\n",
    "    y = Data.iloc[25].values.astype(int)  # Ensure y is an array of integers\n",
    "    return X, y\n",
    "\n",
    "def create_pipeline():\n",
    "    # Define the pipeline with scaling, normalization, PCA, and the classifier\n",
    "    pipeline = Pipeline([\n",
    "        ('scaler', StandardScaler()),       # Standardize features by removing the mean and scaling to unit variance\n",
    "        ('normalizer', Normalizer()),       # Normalize samples individually to unit norm\n",
    "        ('pca', PCA()),                     # PCA for dimensionality reduction\n",
    "        ('classifier', RandomForestClassifier(random_state=42))  # RandomForest classifier\n",
    "    ])\n",
    "    return pipeline\n",
    "\n",
    "def ensure_numeric_data(data):\n",
    "    \"\"\"\n",
    "    Ensures all data in the DataFrame is numeric, converting where necessary.\n",
    "\n",
    "    Parameters:\n",
    "    data (pd.DataFrame): The DataFrame to convert.\n",
    "\n",
    "    Returns:\n",
    "    pd.DataFrame: A DataFrame with all columns converted to numeric.\n",
    "    \"\"\"\n",
    "    for column in data.columns:\n",
    "        data[column] = pd.to_numeric(data[column], errors='coerce')\n",
    "    return data\n",
    "\n",
    "def calculate_overall_percentile(data_point):\n",
    "    \"\"\"\n",
    "    Calculates the overall percentile (mean of all attributes).\n",
    "\n",
    "    Parameters:\n",
    "    data_point (np.array): Array of student attributes.\n",
    "\n",
    "    Returns:\n",
    "    float: The mean percentile value.\n",
    "    \"\"\"\n",
    "    return np.mean(data_point)\n",
    "\n",
    "def train_model(X, y):\n",
    "    # Split the data into training and testing sets using stratified split\n",
    "    X_train, X_test, y_train, y_test = train_test_split(X, y, test_size=0.2, random_state=42, stratify=y)\n",
    "    \n",
    "    pipeline = create_pipeline()\n",
    "\n",
    "    # Define the parameter grid\n",
    "    param_grid = {\n",
    "        'pca__n_components': [2, 3, 4],\n",
    "        'classifier__n_estimators': [10, 50, 100]\n",
    "    }\n",
    "\n",
    "    # Create the GridSearchCV object with recall as the scoring metric and stratified k-fold cross-validation\n",
    "    grid_search = GridSearchCV(pipeline, param_grid, cv=StratifiedKFold(n_splits=5), scoring='recall_macro', verbose=1)\n",
    "\n",
    "    # Fit the grid search to the training data\n",
    "    grid_search.fit(X_train, y_train)\n",
    "\n",
    "    # Predict on the test set using the best estimator\n",
    "    best_pipeline = grid_search.best_estimator_\n",
    "\n",
    "    # Predict on the test set using the refitted best estimator\n",
    "    y_pred = best_pipeline.predict(X_test)\n",
    "\n",
    "    # Evaluate the model using recall\n",
    "    recall = recall_score(y_test, y_pred, average='macro')\n",
    "    report = classification_report(y_test, y_pred)\n",
    "\n",
    "    # Extract feature importance from the best estimator if it has the attribute\n",
    "    if hasattr(best_pipeline.named_steps['classifier'], 'feature_importances_'):\n",
    "        feature_importance = best_pipeline.named_steps['classifier'].feature_importances_\n",
    "\n",
    "    return best_pipeline, X_train, X_test, y_train, y_test\n",
    "\n",
    "\n",
    "\n",
    "def predict_student_class(pipeline, student_data, labels):\n",
    "    \"\"\"\n",
    "    Predicts the class for a new student using the provided pipeline.\n",
    "\n",
    "    Parameters:\n",
    "    pipeline: The trained model pipeline for predictions.\n",
    "    student_data (np.array): The student data for prediction.\n",
    "    labels (dict): Mapping of class indices to descriptive labels.\n",
    "\n",
    "    Returns:\n",
    "    str: The predicted class label.\n",
    "    \"\"\"\n",
    "    prediction = pipeline.predict(student_data)\n",
    "    return labels[prediction[0]]\n",
    "\n",
    "def identify_best_worst_attributes(data_point, attribute_names):\n",
    "    \"\"\"\n",
    "    Identifies the best and worst attributes based on their values.\n",
    "\n",
    "    Parameters:\n",
    "    data_point (np.array): Array of student attributes.\n",
    "    attribute_names (list): List of attribute names.\n",
    "\n",
    "    Returns:\n",
    "    tuple: Best attribute name, worst attribute name, best attribute index, worst attribute index.\n",
    "    \"\"\"\n",
    "    best_index = np.argmax(data_point)\n",
    "    worst_index = np.argmin(data_point)\n",
    "    return attribute_names[best_index], attribute_names[worst_index], best_index, worst_index\n",
    "\n",
    "def get_attribute_description(attribute, descriptions, best=True):\n",
    "    \"\"\"\n",
    "    Retrieves the description of an attribute based on its performance.\n",
    "\n",
    "    Parameters:\n",
    "    attribute (str): The attribute name.\n",
    "    descriptions (dict): Dictionary of attribute descriptions.\n",
    "    best (bool): Whether to get the positive (best) or negative (worst) description.\n",
    "\n",
    "    Returns:\n",
    "    str: The description for the attribute.\n",
    "    \"\"\"\n",
    "    return descriptions[attribute]['positive'] if best else descriptions[attribute]['negative']\n",
    "\n",
    "def get_color(value):\n",
    "    \"\"\"\n",
    "    Determines the color based on the percentile value.\n",
    "\n",
    "    Parameters:\n",
    "    value (float): The percentile value.\n",
    "\n",
    "    Returns:\n",
    "    str: The RGB color string.\n",
    "    \"\"\"\n",
    "    if value < 50:\n",
    "        return f\"rgb({255}, {int((value / 50) * 255)}, 0)\"\n",
    "    else:\n",
    "        return f\"rgb({int((1 - (value - 50) / 50) * 255)}, 255, 0)\"\n",
    "\n",
    "def create_percentile_gauge(title, value, domain):\n",
    "    \"\"\"\n",
    "    Creates a gauge for displaying a percentile value with a semi-transparent gradient background.\n",
    "\n",
    "    Parameters:\n",
    "    title (str): The title of the gauge.\n",
    "    value (float): The value to display on the gauge.\n",
    "    domain (dict): The domain for positioning the gauge.\n",
    "\n",
    "    Returns:\n",
    "    go.Indicator: A Plotly Indicator for the gauge.\n",
    "    \"\"\"\n",
    "    gradient_steps = []\n",
    "    for i in range(100):\n",
    "        if i < 50:\n",
    "            color = f\"rgba({255}, {int((i / 50) * 255)}, 0, 0.3)\"  # Red to Yellow gradient with opacity\n",
    "        else:\n",
    "            color = f\"rgba({int((1 - (i - 50) / 50) * 255)}, 255, 0, 0.3)\"  # Yellow to Green gradient with opacity\n",
    "        gradient_steps.append({'range': [i, i + 1], 'color': color})\n",
    "\n",
    "    return go.Indicator(\n",
    "        mode=\"gauge+number\",\n",
    "        value=value,\n",
    "        title={'text': title},\n",
    "        gauge={\n",
    "            'axis': {'range': [0, 100]},\n",
    "            'bar': {'color': get_color(value), 'thickness': 0.3},  # Adjust bar thickness\n",
    "            'bgcolor': 'white',  # White background for clarity\n",
    "            'steps': gradient_steps,\n",
    "        },\n",
    "        domain=domain\n",
    "    )\n",
    "\n",
    "\n",
    "def plot_student_performance(overall_percentile, best_attribute, best_percentile, worst_attribute, worst_percentile, best_desc, worst_desc, prediction_label):\n",
    "    \"\"\"\n",
    "    Plots the student's performance summary using gauges.\n",
    "\n",
    "    Parameters:\n",
    "    overall_percentile (float): Overall percentile score.\n",
    "    best_attribute (str): Name of the best attribute.\n",
    "    best_percentile (float): Percentile score of the best attribute.\n",
    "    worst_attribute (str): Name of the worst attribute.\n",
    "    worst_percentile (float): Percentile score of the worst attribute.\n",
    "    best_desc (str): Description of the best attribute.\n",
    "    worst_desc (str): Description of the worst attribute.\n",
    "    prediction_label (str): Predicted class label.\n",
    "    \"\"\"\n",
    "    fig = go.Figure()\n",
    "\n",
    "    # Overall Percentile Gauge\n",
    "    fig.add_trace(create_percentile_gauge(\"Overall Percentile\", overall_percentile, {'x': [0, 0.4], 'y': [0.5, 1]}))\n",
    "\n",
    "    # Best Attribute Gauge\n",
    "    fig.add_trace(create_percentile_gauge(f\"Best Attribute: {best_attribute}\", best_percentile, {'x': [0.6, 1], 'y': [0.5, 1]}))\n",
    "\n",
    "    # Worst Attribute Gauge\n",
    "    fig.add_trace(create_percentile_gauge(f\"Worst Attribute: {worst_attribute}\", worst_percentile, {'x': [0.3, 0.7], 'y': [0, 0.4]}))\n",
    "\n",
    "    fig.add_annotation(\n",
    "        x=1.03, y=0.6,\n",
    "        text=best_desc,\n",
    "        showarrow=False,\n",
    "        font=dict(size=12),\n",
    "        align=\"center\"\n",
    "    )\n",
    "\n",
    "    fig.add_annotation(\n",
    "        x=0.5, y=0.03,\n",
    "        text=worst_desc,\n",
    "        showarrow=False,\n",
    "        font=dict(size=12),\n",
    "        align=\"center\"\n",
    "    )\n",
    "\n",
    "    fig.update_layout(\n",
    "        title='Student Performance Summary',\n",
    "        autosize=False,\n",
    "        width=1000,\n",
    "        height=800,\n",
    "        margin=dict(l=50, r=50, b=50, t=50),\n",
    "    )\n",
    "    fig.add_annotation(\n",
    "        x=0.001, y=1.01,\n",
    "        text=f\"<b>Dyslexia Diagnosis:</b> {prediction_label}\",\n",
    "        showarrow=False,\n",
    "        font=dict(size=14, color=\"black\"),\n",
    "        align=\"center\",\n",
    "        xref=\"paper\",\n",
    "        yref=\"paper\",\n",
    "        bordercolor=\"black\",\n",
    "        borderwidth=1,\n",
    "        borderpad=10,\n",
    "        bgcolor=\"lightyellow\",\n",
    "        opacity=0.8\n",
    "    )\n",
    "    fig.show()\n",
    "\n",
    "def main():\n",
    "    file_path = r\"C:\\Users\\antho\\OneDrive - University College Dublin\\ACM20030 1\\ALPACA\\MASTER_DATA.csv\"\n",
    "    \n",
    "    # Load and preprocess data\n",
    "    X, y = load_data(file_path)\n",
    "    Data = pd.DataFrame(X)\n",
    "    ensure_numeric_data(Data)\n",
    "\n",
    "    # Train the model\n",
    "    best_pipeline, X_train, X_test, y_train, y_test = train_model(X, y)\n",
    "\n",
    "    # Example new data point for prediction\n",
    "    new_student = np.array([[10, 20, 30, 40, 50, 60, 70, 80, 90, 10, 20, 30, 40, 50, 60, 70, 80, 90, 100, 90, 80, 70, 60, 50, 40]])\n",
    "\n",
    "    # Mapping of prediction to descriptive labels\n",
    "    dyslexia_labels = {0: 'No Dyslexia', 1: 'Mild Dyslexia', 2: 'Severe Dyslexia'}\n",
    "\n",
    "    # Predict the class for the new student\n",
    "    prediction_label = predict_student_class(best_pipeline, new_student, dyslexia_labels)\n",
    "\n",
    "    # Calculate the overall percentile\n",
    "    overall_percentile = calculate_overall_percentile(new_student)\n",
    "\n",
    "    # Attribute names\n",
    "    attribute_names = [\n",
    "        'Similarities', 'Vocabulary', 'Comprehension', 'Block Design', 'Visual Puzzles',\n",
    "        'Matrix Reasoning', 'Figure Weights', 'Digit Span', 'Picture Span', 'Coding',\n",
    "        'Symbol Search', 'Phonological Processing', 'Word Decoding', 'Reading Fluency',\n",
    "        'Reading Comprehension', 'Expressive Vocabulary', 'Receptive Vocabulary',\n",
    "        'Teacher Reports', 'Behavioral Observations'\n",
    "    ]\n",
    "\n",
    "    # Define attribute descriptions and their implications\n",
    "    attribute_descriptions = {\n",
    "        'Similarities': {\n",
    "            'description': 'Measures verbal reasoning and concept formation.',\n",
    "            'positive': 'Strong skills in verbal reasoning and forming concepts.',\n",
    "            'negative': 'Challenges in verbal reasoning and forming concepts.'\n",
    "        },\n",
    "        'Vocabulary': {\n",
    "            'description': 'Assesses word knowledge and verbal concept formation.',\n",
    "            'positive': 'Rich vocabulary and strong word knowledge.',\n",
    "            'negative': 'Limited vocabulary and struggles with word knowledge.'\n",
    "        },\n",
    "        'Comprehension': {\n",
    "            'description': 'Evaluates understanding of social situations and common sense.',\n",
    "            'positive': 'Good understanding of social situations and common sense.',\n",
    "            'negative': 'Difficulty understanding social situations and common sense.'\n",
    "        },\n",
    "        'Block Design': {\n",
    "            'description': 'Tests spatial visualization and problem-solving skills.',\n",
    "            'positive': 'Strong spatial visualization and problem-solving skills.',\n",
    "            'negative': 'Challenges with spatial visualization and problem-solving.'\n",
    "        },\n",
    "        'Visual Puzzles': {\n",
    "            'description': 'Measures nonverbal reasoning and problem-solving ability.',\n",
    "            'positive': 'Excellent nonverbal reasoning and problem-solving abilities.',\n",
    "            'negative': 'Struggles with nonverbal reasoning and problem-solving.'\n",
    "        },\n",
    "        'Matrix Reasoning': {\n",
    "            'description': 'Assesses visual-spatial reasoning and fluid intelligence.',\n",
    "            'positive': 'Strong visual-spatial reasoning and fluid intelligence.',\n",
    "            'negative': 'Difficulty with visual-spatial reasoning and fluid intelligence.'\n",
    "        },\n",
    "        'Figure Weights': {\n",
    "            'description': 'Tests quantitative reasoning and visual-perceptual skills.',\n",
    "            'positive': 'Good quantitative reasoning and visual-perceptual skills.',\n",
    "            'negative': 'Challenges in quantitative reasoning and visual-perceptual skills.'\n",
    "        },\n",
    "        'Digit Span': {\n",
    "            'description': 'Measures attention, concentration, and mental control.',\n",
    "            'positive': 'Strong attention, concentration, and mental control.',\n",
    "            'negative': 'Difficulty with attention, concentration, and mental control.'\n",
    "        },\n",
    "        'Picture Span': {\n",
    "            'description': 'Evaluates visual working memory.',\n",
    "            'positive': 'Strong visual working memory.',\n",
    "            'negative': 'Weak visual working memory.'\n",
    "        },\n",
    "        'Coding': {\n",
    "            'description': 'Tests processing speed and short-term visual memory.',\n",
    "            'positive': 'Fast processing speed and good short-term visual memory.',\n",
    "            'negative': 'Slow processing speed and poor short-term visual memory.'\n",
    "        },\n",
    "        'Symbol Search': {\n",
    "            'description': 'Measures processing speed and visual-motor coordination.',\n",
    "            'positive': 'Strong processing speed and visual-motor coordination.',\n",
    "            'negative': 'Challenges with processing speed and visual-motor coordination.'\n",
    "        },\n",
    "        'Phonological Processing': {\n",
    "            'description': 'Assesses phonemic awareness, a key skill for reading.',\n",
    "            'positive': 'Good phonemic awareness, aiding in reading skills.',\n",
    "            'negative': 'Weak phonemic awareness, hindering reading skills.'\n",
    "        },\n",
    "        'Word Decoding': {\n",
    "            'description': 'Tests ability to decode written words, essential for reading.',\n",
    "            'positive': 'Strong word decoding skills, essential for reading.',\n",
    "            'negative': 'Poor word decoding skills, affecting reading ability.'\n",
    "        },\n",
    "        'Reading Fluency': {\n",
    "            'description': 'Measures speed and accuracy of reading aloud.',\n",
    "            'positive': 'Fluent and accurate reading aloud.',\n",
    "            'negative': 'Slow and inaccurate reading aloud.'\n",
    "        },\n",
    "        'Reading Comprehension': {\n",
    "            'description': 'Assesses understanding of written text.',\n",
    "            'positive': 'Good understanding of written text.',\n",
    "            'negative': 'Difficulty understanding written text.'\n",
    "        },\n",
    "        'Expressive Vocabulary': {\n",
    "            'description': 'Evaluates ability to use words to convey meaning.',\n",
    "            'positive': 'Strong ability to use words effectively.',\n",
    "            'negative': 'Challenges in using words to convey meaning.'\n",
    "        },\n",
    "        'Receptive Vocabulary': {\n",
    "            'description': 'Measures understanding of spoken words.',\n",
    "            'positive': 'Good understanding of spoken words.',\n",
    "            'negative': 'Poor understanding of spoken words.'\n",
    "        },\n",
    "        'Teacher Reports': {\n",
    "            'description': 'Observations from teachers regarding student behavior and performance.',\n",
    "            'positive': 'Positive teacher reports indicating good behavior and performance.',\n",
    "            'negative': 'Negative teacher reports indicating issues with behavior and performance.'\n",
    "        },\n",
    "        'Behavioral Observations': {\n",
    "            'description': 'General behavioral observations during testing.',\n",
    "            'positive': 'Positive behavioral observations indicating good behavior and focus.',\n",
    "            'negative': 'Negative behavioral observations indicating issues with behavior and focus.'\n",
    "        }\n",
    "    }\n",
    "\n",
    "    # Identify the best and worst attributes\n",
    "    best_attribute, worst_attribute, best_index, worst_index = identify_best_worst_attributes(new_student[0], attribute_names)\n",
    "\n",
    "    # Calculate the percentile rank for the best and worst attributes\n",
    "    best_attribute_percentile = new_student[0, best_index]\n",
    "    worst_attribute_percentile = new_student[0, worst_index]\n",
    "\n",
    "    # Best and worst attribute descriptions\n",
    "    best_attribute_description = get_attribute_description(best_attribute, attribute_descriptions, best=True)\n",
    "    worst_attribute_description = get_attribute_description(worst_attribute, attribute_descriptions, best=False)\n",
    "\n",
    "\n",
    "    # Plot student performance\n",
    "    plot_student_performance(\n",
    "        overall_percentile, \n",
    "        best_attribute, \n",
    "        best_attribute_percentile, \n",
    "        worst_attribute, \n",
    "        worst_attribute_percentile, \n",
    "        best_attribute_description, \n",
    "        worst_attribute_description, \n",
    "        prediction_label\n",
    "    )\n",
    "\n",
    "# Call the main function to execute the script\n",
    "if __name__ == \"__main__\":\n",
    "    main()\n"
   ]
  },
  {
   "cell_type": "code",
   "execution_count": 14,
   "id": "40b47a70",
   "metadata": {},
   "outputs": [
    {
     "name": "stdout",
     "output_type": "stream",
     "text": [
      "Fitting 5 folds for each of 9 candidates, totalling 45 fits\n",
      "Please enter the student's percentile scores for the following attributes:\n",
      "Enter percentile for Block Design: 12\n",
      "Enter percentile for Similarities: 12\n",
      "Enter percentile for Matrix Reasoning: 12\n",
      "Enter percentile for Digit Span: 12\n",
      "Enter percentile for Coding: 12\n",
      "Enter percentile for Vocabulary: 12\n",
      "Enter percentile for Figure Weights: 12\n",
      "Enter percentile for Visual Puzzles: 12\n",
      "Enter percentile for Picture Span: 12\n",
      "Enter percentile for Symbol Search: 12\n",
      "Enter percentile for Information: 12\n",
      "Enter percentile for Picture Concepts: 12\n",
      "Enter percentile for Letter-Number Sequencing: 12\n",
      "Enter percentile for Cancellation: 12\n",
      "Enter percentile for Comprehension: 12\n",
      "Enter percentile for Arithmetic: 12\n",
      "Enter percentile for Letter Sound Knowledge: 12\n",
      "Enter percentile for Early Word Recognition: 12\n",
      "Enter percentile for Sound Deletion: 12\n",
      "Enter percentile for Sound Isolation: 12\n",
      "Enter percentile for Single Word Reading: 12\n",
      "Enter percentile for Reading Accuracy: 12\n",
      "Enter percentile for Reading Rate: 12\n",
      "Enter percentile for Reading Comprehension: 12\n",
      "Enter percentile for Fluency: 12\n"
     ]
    },
    {
     "data": {
      "application/vnd.plotly.v1+json": {
       "config": {
        "plotlyServerURL": "https://plot.ly"
       },
       "data": [
        {
         "domain": {
          "x": [
           0,
           0.4
          ],
          "y": [
           0.5,
           1
          ]
         },
         "gauge": {
          "axis": {
           "range": [
            0,
            100
           ]
          },
          "bar": {
           "color": "rgb(255, 61, 0)",
           "thickness": 0.3
          },
          "bgcolor": "white",
          "steps": [
           {
            "color": "rgba(255, 0, 0, 0.3)",
            "range": [
             0,
             1
            ]
           },
           {
            "color": "rgba(255, 5, 0, 0.3)",
            "range": [
             1,
             2
            ]
           },
           {
            "color": "rgba(255, 10, 0, 0.3)",
            "range": [
             2,
             3
            ]
           },
           {
            "color": "rgba(255, 15, 0, 0.3)",
            "range": [
             3,
             4
            ]
           },
           {
            "color": "rgba(255, 20, 0, 0.3)",
            "range": [
             4,
             5
            ]
           },
           {
            "color": "rgba(255, 25, 0, 0.3)",
            "range": [
             5,
             6
            ]
           },
           {
            "color": "rgba(255, 30, 0, 0.3)",
            "range": [
             6,
             7
            ]
           },
           {
            "color": "rgba(255, 35, 0, 0.3)",
            "range": [
             7,
             8
            ]
           },
           {
            "color": "rgba(255, 40, 0, 0.3)",
            "range": [
             8,
             9
            ]
           },
           {
            "color": "rgba(255, 45, 0, 0.3)",
            "range": [
             9,
             10
            ]
           },
           {
            "color": "rgba(255, 51, 0, 0.3)",
            "range": [
             10,
             11
            ]
           },
           {
            "color": "rgba(255, 56, 0, 0.3)",
            "range": [
             11,
             12
            ]
           },
           {
            "color": "rgba(255, 61, 0, 0.3)",
            "range": [
             12,
             13
            ]
           },
           {
            "color": "rgba(255, 66, 0, 0.3)",
            "range": [
             13,
             14
            ]
           },
           {
            "color": "rgba(255, 71, 0, 0.3)",
            "range": [
             14,
             15
            ]
           },
           {
            "color": "rgba(255, 76, 0, 0.3)",
            "range": [
             15,
             16
            ]
           },
           {
            "color": "rgba(255, 81, 0, 0.3)",
            "range": [
             16,
             17
            ]
           },
           {
            "color": "rgba(255, 86, 0, 0.3)",
            "range": [
             17,
             18
            ]
           },
           {
            "color": "rgba(255, 91, 0, 0.3)",
            "range": [
             18,
             19
            ]
           },
           {
            "color": "rgba(255, 96, 0, 0.3)",
            "range": [
             19,
             20
            ]
           },
           {
            "color": "rgba(255, 102, 0, 0.3)",
            "range": [
             20,
             21
            ]
           },
           {
            "color": "rgba(255, 107, 0, 0.3)",
            "range": [
             21,
             22
            ]
           },
           {
            "color": "rgba(255, 112, 0, 0.3)",
            "range": [
             22,
             23
            ]
           },
           {
            "color": "rgba(255, 117, 0, 0.3)",
            "range": [
             23,
             24
            ]
           },
           {
            "color": "rgba(255, 122, 0, 0.3)",
            "range": [
             24,
             25
            ]
           },
           {
            "color": "rgba(255, 127, 0, 0.3)",
            "range": [
             25,
             26
            ]
           },
           {
            "color": "rgba(255, 132, 0, 0.3)",
            "range": [
             26,
             27
            ]
           },
           {
            "color": "rgba(255, 137, 0, 0.3)",
            "range": [
             27,
             28
            ]
           },
           {
            "color": "rgba(255, 142, 0, 0.3)",
            "range": [
             28,
             29
            ]
           },
           {
            "color": "rgba(255, 147, 0, 0.3)",
            "range": [
             29,
             30
            ]
           },
           {
            "color": "rgba(255, 153, 0, 0.3)",
            "range": [
             30,
             31
            ]
           },
           {
            "color": "rgba(255, 158, 0, 0.3)",
            "range": [
             31,
             32
            ]
           },
           {
            "color": "rgba(255, 163, 0, 0.3)",
            "range": [
             32,
             33
            ]
           },
           {
            "color": "rgba(255, 168, 0, 0.3)",
            "range": [
             33,
             34
            ]
           },
           {
            "color": "rgba(255, 173, 0, 0.3)",
            "range": [
             34,
             35
            ]
           },
           {
            "color": "rgba(255, 178, 0, 0.3)",
            "range": [
             35,
             36
            ]
           },
           {
            "color": "rgba(255, 183, 0, 0.3)",
            "range": [
             36,
             37
            ]
           },
           {
            "color": "rgba(255, 188, 0, 0.3)",
            "range": [
             37,
             38
            ]
           },
           {
            "color": "rgba(255, 193, 0, 0.3)",
            "range": [
             38,
             39
            ]
           },
           {
            "color": "rgba(255, 198, 0, 0.3)",
            "range": [
             39,
             40
            ]
           },
           {
            "color": "rgba(255, 204, 0, 0.3)",
            "range": [
             40,
             41
            ]
           },
           {
            "color": "rgba(255, 209, 0, 0.3)",
            "range": [
             41,
             42
            ]
           },
           {
            "color": "rgba(255, 214, 0, 0.3)",
            "range": [
             42,
             43
            ]
           },
           {
            "color": "rgba(255, 219, 0, 0.3)",
            "range": [
             43,
             44
            ]
           },
           {
            "color": "rgba(255, 224, 0, 0.3)",
            "range": [
             44,
             45
            ]
           },
           {
            "color": "rgba(255, 229, 0, 0.3)",
            "range": [
             45,
             46
            ]
           },
           {
            "color": "rgba(255, 234, 0, 0.3)",
            "range": [
             46,
             47
            ]
           },
           {
            "color": "rgba(255, 239, 0, 0.3)",
            "range": [
             47,
             48
            ]
           },
           {
            "color": "rgba(255, 244, 0, 0.3)",
            "range": [
             48,
             49
            ]
           },
           {
            "color": "rgba(255, 249, 0, 0.3)",
            "range": [
             49,
             50
            ]
           },
           {
            "color": "rgba(255, 255, 0, 0.3)",
            "range": [
             50,
             51
            ]
           },
           {
            "color": "rgba(249, 255, 0, 0.3)",
            "range": [
             51,
             52
            ]
           },
           {
            "color": "rgba(244, 255, 0, 0.3)",
            "range": [
             52,
             53
            ]
           },
           {
            "color": "rgba(239, 255, 0, 0.3)",
            "range": [
             53,
             54
            ]
           },
           {
            "color": "rgba(234, 255, 0, 0.3)",
            "range": [
             54,
             55
            ]
           },
           {
            "color": "rgba(229, 255, 0, 0.3)",
            "range": [
             55,
             56
            ]
           },
           {
            "color": "rgba(224, 255, 0, 0.3)",
            "range": [
             56,
             57
            ]
           },
           {
            "color": "rgba(219, 255, 0, 0.3)",
            "range": [
             57,
             58
            ]
           },
           {
            "color": "rgba(214, 255, 0, 0.3)",
            "range": [
             58,
             59
            ]
           },
           {
            "color": "rgba(209, 255, 0, 0.3)",
            "range": [
             59,
             60
            ]
           },
           {
            "color": "rgba(204, 255, 0, 0.3)",
            "range": [
             60,
             61
            ]
           },
           {
            "color": "rgba(198, 255, 0, 0.3)",
            "range": [
             61,
             62
            ]
           },
           {
            "color": "rgba(193, 255, 0, 0.3)",
            "range": [
             62,
             63
            ]
           },
           {
            "color": "rgba(188, 255, 0, 0.3)",
            "range": [
             63,
             64
            ]
           },
           {
            "color": "rgba(183, 255, 0, 0.3)",
            "range": [
             64,
             65
            ]
           },
           {
            "color": "rgba(178, 255, 0, 0.3)",
            "range": [
             65,
             66
            ]
           },
           {
            "color": "rgba(173, 255, 0, 0.3)",
            "range": [
             66,
             67
            ]
           },
           {
            "color": "rgba(168, 255, 0, 0.3)",
            "range": [
             67,
             68
            ]
           },
           {
            "color": "rgba(163, 255, 0, 0.3)",
            "range": [
             68,
             69
            ]
           },
           {
            "color": "rgba(158, 255, 0, 0.3)",
            "range": [
             69,
             70
            ]
           },
           {
            "color": "rgba(153, 255, 0, 0.3)",
            "range": [
             70,
             71
            ]
           },
           {
            "color": "rgba(147, 255, 0, 0.3)",
            "range": [
             71,
             72
            ]
           },
           {
            "color": "rgba(142, 255, 0, 0.3)",
            "range": [
             72,
             73
            ]
           },
           {
            "color": "rgba(137, 255, 0, 0.3)",
            "range": [
             73,
             74
            ]
           },
           {
            "color": "rgba(132, 255, 0, 0.3)",
            "range": [
             74,
             75
            ]
           },
           {
            "color": "rgba(127, 255, 0, 0.3)",
            "range": [
             75,
             76
            ]
           },
           {
            "color": "rgba(122, 255, 0, 0.3)",
            "range": [
             76,
             77
            ]
           },
           {
            "color": "rgba(117, 255, 0, 0.3)",
            "range": [
             77,
             78
            ]
           },
           {
            "color": "rgba(112, 255, 0, 0.3)",
            "range": [
             78,
             79
            ]
           },
           {
            "color": "rgba(107, 255, 0, 0.3)",
            "range": [
             79,
             80
            ]
           },
           {
            "color": "rgba(102, 255, 0, 0.3)",
            "range": [
             80,
             81
            ]
           },
           {
            "color": "rgba(96, 255, 0, 0.3)",
            "range": [
             81,
             82
            ]
           },
           {
            "color": "rgba(91, 255, 0, 0.3)",
            "range": [
             82,
             83
            ]
           },
           {
            "color": "rgba(86, 255, 0, 0.3)",
            "range": [
             83,
             84
            ]
           },
           {
            "color": "rgba(81, 255, 0, 0.3)",
            "range": [
             84,
             85
            ]
           },
           {
            "color": "rgba(76, 255, 0, 0.3)",
            "range": [
             85,
             86
            ]
           },
           {
            "color": "rgba(71, 255, 0, 0.3)",
            "range": [
             86,
             87
            ]
           },
           {
            "color": "rgba(66, 255, 0, 0.3)",
            "range": [
             87,
             88
            ]
           },
           {
            "color": "rgba(61, 255, 0, 0.3)",
            "range": [
             88,
             89
            ]
           },
           {
            "color": "rgba(56, 255, 0, 0.3)",
            "range": [
             89,
             90
            ]
           },
           {
            "color": "rgba(50, 255, 0, 0.3)",
            "range": [
             90,
             91
            ]
           },
           {
            "color": "rgba(45, 255, 0, 0.3)",
            "range": [
             91,
             92
            ]
           },
           {
            "color": "rgba(40, 255, 0, 0.3)",
            "range": [
             92,
             93
            ]
           },
           {
            "color": "rgba(35, 255, 0, 0.3)",
            "range": [
             93,
             94
            ]
           },
           {
            "color": "rgba(30, 255, 0, 0.3)",
            "range": [
             94,
             95
            ]
           },
           {
            "color": "rgba(25, 255, 0, 0.3)",
            "range": [
             95,
             96
            ]
           },
           {
            "color": "rgba(20, 255, 0, 0.3)",
            "range": [
             96,
             97
            ]
           },
           {
            "color": "rgba(15, 255, 0, 0.3)",
            "range": [
             97,
             98
            ]
           },
           {
            "color": "rgba(10, 255, 0, 0.3)",
            "range": [
             98,
             99
            ]
           },
           {
            "color": "rgba(5, 255, 0, 0.3)",
            "range": [
             99,
             100
            ]
           }
          ]
         },
         "mode": "gauge+number",
         "title": {
          "text": "Overall Percentile"
         },
         "type": "indicator",
         "value": 12
        },
        {
         "domain": {
          "x": [
           0.6,
           1
          ],
          "y": [
           0.5,
           1
          ]
         },
         "gauge": {
          "axis": {
           "range": [
            0,
            100
           ]
          },
          "bar": {
           "color": "rgb(255, 61, 0)",
           "thickness": 0.3
          },
          "bgcolor": "white",
          "steps": [
           {
            "color": "rgba(255, 0, 0, 0.3)",
            "range": [
             0,
             1
            ]
           },
           {
            "color": "rgba(255, 5, 0, 0.3)",
            "range": [
             1,
             2
            ]
           },
           {
            "color": "rgba(255, 10, 0, 0.3)",
            "range": [
             2,
             3
            ]
           },
           {
            "color": "rgba(255, 15, 0, 0.3)",
            "range": [
             3,
             4
            ]
           },
           {
            "color": "rgba(255, 20, 0, 0.3)",
            "range": [
             4,
             5
            ]
           },
           {
            "color": "rgba(255, 25, 0, 0.3)",
            "range": [
             5,
             6
            ]
           },
           {
            "color": "rgba(255, 30, 0, 0.3)",
            "range": [
             6,
             7
            ]
           },
           {
            "color": "rgba(255, 35, 0, 0.3)",
            "range": [
             7,
             8
            ]
           },
           {
            "color": "rgba(255, 40, 0, 0.3)",
            "range": [
             8,
             9
            ]
           },
           {
            "color": "rgba(255, 45, 0, 0.3)",
            "range": [
             9,
             10
            ]
           },
           {
            "color": "rgba(255, 51, 0, 0.3)",
            "range": [
             10,
             11
            ]
           },
           {
            "color": "rgba(255, 56, 0, 0.3)",
            "range": [
             11,
             12
            ]
           },
           {
            "color": "rgba(255, 61, 0, 0.3)",
            "range": [
             12,
             13
            ]
           },
           {
            "color": "rgba(255, 66, 0, 0.3)",
            "range": [
             13,
             14
            ]
           },
           {
            "color": "rgba(255, 71, 0, 0.3)",
            "range": [
             14,
             15
            ]
           },
           {
            "color": "rgba(255, 76, 0, 0.3)",
            "range": [
             15,
             16
            ]
           },
           {
            "color": "rgba(255, 81, 0, 0.3)",
            "range": [
             16,
             17
            ]
           },
           {
            "color": "rgba(255, 86, 0, 0.3)",
            "range": [
             17,
             18
            ]
           },
           {
            "color": "rgba(255, 91, 0, 0.3)",
            "range": [
             18,
             19
            ]
           },
           {
            "color": "rgba(255, 96, 0, 0.3)",
            "range": [
             19,
             20
            ]
           },
           {
            "color": "rgba(255, 102, 0, 0.3)",
            "range": [
             20,
             21
            ]
           },
           {
            "color": "rgba(255, 107, 0, 0.3)",
            "range": [
             21,
             22
            ]
           },
           {
            "color": "rgba(255, 112, 0, 0.3)",
            "range": [
             22,
             23
            ]
           },
           {
            "color": "rgba(255, 117, 0, 0.3)",
            "range": [
             23,
             24
            ]
           },
           {
            "color": "rgba(255, 122, 0, 0.3)",
            "range": [
             24,
             25
            ]
           },
           {
            "color": "rgba(255, 127, 0, 0.3)",
            "range": [
             25,
             26
            ]
           },
           {
            "color": "rgba(255, 132, 0, 0.3)",
            "range": [
             26,
             27
            ]
           },
           {
            "color": "rgba(255, 137, 0, 0.3)",
            "range": [
             27,
             28
            ]
           },
           {
            "color": "rgba(255, 142, 0, 0.3)",
            "range": [
             28,
             29
            ]
           },
           {
            "color": "rgba(255, 147, 0, 0.3)",
            "range": [
             29,
             30
            ]
           },
           {
            "color": "rgba(255, 153, 0, 0.3)",
            "range": [
             30,
             31
            ]
           },
           {
            "color": "rgba(255, 158, 0, 0.3)",
            "range": [
             31,
             32
            ]
           },
           {
            "color": "rgba(255, 163, 0, 0.3)",
            "range": [
             32,
             33
            ]
           },
           {
            "color": "rgba(255, 168, 0, 0.3)",
            "range": [
             33,
             34
            ]
           },
           {
            "color": "rgba(255, 173, 0, 0.3)",
            "range": [
             34,
             35
            ]
           },
           {
            "color": "rgba(255, 178, 0, 0.3)",
            "range": [
             35,
             36
            ]
           },
           {
            "color": "rgba(255, 183, 0, 0.3)",
            "range": [
             36,
             37
            ]
           },
           {
            "color": "rgba(255, 188, 0, 0.3)",
            "range": [
             37,
             38
            ]
           },
           {
            "color": "rgba(255, 193, 0, 0.3)",
            "range": [
             38,
             39
            ]
           },
           {
            "color": "rgba(255, 198, 0, 0.3)",
            "range": [
             39,
             40
            ]
           },
           {
            "color": "rgba(255, 204, 0, 0.3)",
            "range": [
             40,
             41
            ]
           },
           {
            "color": "rgba(255, 209, 0, 0.3)",
            "range": [
             41,
             42
            ]
           },
           {
            "color": "rgba(255, 214, 0, 0.3)",
            "range": [
             42,
             43
            ]
           },
           {
            "color": "rgba(255, 219, 0, 0.3)",
            "range": [
             43,
             44
            ]
           },
           {
            "color": "rgba(255, 224, 0, 0.3)",
            "range": [
             44,
             45
            ]
           },
           {
            "color": "rgba(255, 229, 0, 0.3)",
            "range": [
             45,
             46
            ]
           },
           {
            "color": "rgba(255, 234, 0, 0.3)",
            "range": [
             46,
             47
            ]
           },
           {
            "color": "rgba(255, 239, 0, 0.3)",
            "range": [
             47,
             48
            ]
           },
           {
            "color": "rgba(255, 244, 0, 0.3)",
            "range": [
             48,
             49
            ]
           },
           {
            "color": "rgba(255, 249, 0, 0.3)",
            "range": [
             49,
             50
            ]
           },
           {
            "color": "rgba(255, 255, 0, 0.3)",
            "range": [
             50,
             51
            ]
           },
           {
            "color": "rgba(249, 255, 0, 0.3)",
            "range": [
             51,
             52
            ]
           },
           {
            "color": "rgba(244, 255, 0, 0.3)",
            "range": [
             52,
             53
            ]
           },
           {
            "color": "rgba(239, 255, 0, 0.3)",
            "range": [
             53,
             54
            ]
           },
           {
            "color": "rgba(234, 255, 0, 0.3)",
            "range": [
             54,
             55
            ]
           },
           {
            "color": "rgba(229, 255, 0, 0.3)",
            "range": [
             55,
             56
            ]
           },
           {
            "color": "rgba(224, 255, 0, 0.3)",
            "range": [
             56,
             57
            ]
           },
           {
            "color": "rgba(219, 255, 0, 0.3)",
            "range": [
             57,
             58
            ]
           },
           {
            "color": "rgba(214, 255, 0, 0.3)",
            "range": [
             58,
             59
            ]
           },
           {
            "color": "rgba(209, 255, 0, 0.3)",
            "range": [
             59,
             60
            ]
           },
           {
            "color": "rgba(204, 255, 0, 0.3)",
            "range": [
             60,
             61
            ]
           },
           {
            "color": "rgba(198, 255, 0, 0.3)",
            "range": [
             61,
             62
            ]
           },
           {
            "color": "rgba(193, 255, 0, 0.3)",
            "range": [
             62,
             63
            ]
           },
           {
            "color": "rgba(188, 255, 0, 0.3)",
            "range": [
             63,
             64
            ]
           },
           {
            "color": "rgba(183, 255, 0, 0.3)",
            "range": [
             64,
             65
            ]
           },
           {
            "color": "rgba(178, 255, 0, 0.3)",
            "range": [
             65,
             66
            ]
           },
           {
            "color": "rgba(173, 255, 0, 0.3)",
            "range": [
             66,
             67
            ]
           },
           {
            "color": "rgba(168, 255, 0, 0.3)",
            "range": [
             67,
             68
            ]
           },
           {
            "color": "rgba(163, 255, 0, 0.3)",
            "range": [
             68,
             69
            ]
           },
           {
            "color": "rgba(158, 255, 0, 0.3)",
            "range": [
             69,
             70
            ]
           },
           {
            "color": "rgba(153, 255, 0, 0.3)",
            "range": [
             70,
             71
            ]
           },
           {
            "color": "rgba(147, 255, 0, 0.3)",
            "range": [
             71,
             72
            ]
           },
           {
            "color": "rgba(142, 255, 0, 0.3)",
            "range": [
             72,
             73
            ]
           },
           {
            "color": "rgba(137, 255, 0, 0.3)",
            "range": [
             73,
             74
            ]
           },
           {
            "color": "rgba(132, 255, 0, 0.3)",
            "range": [
             74,
             75
            ]
           },
           {
            "color": "rgba(127, 255, 0, 0.3)",
            "range": [
             75,
             76
            ]
           },
           {
            "color": "rgba(122, 255, 0, 0.3)",
            "range": [
             76,
             77
            ]
           },
           {
            "color": "rgba(117, 255, 0, 0.3)",
            "range": [
             77,
             78
            ]
           },
           {
            "color": "rgba(112, 255, 0, 0.3)",
            "range": [
             78,
             79
            ]
           },
           {
            "color": "rgba(107, 255, 0, 0.3)",
            "range": [
             79,
             80
            ]
           },
           {
            "color": "rgba(102, 255, 0, 0.3)",
            "range": [
             80,
             81
            ]
           },
           {
            "color": "rgba(96, 255, 0, 0.3)",
            "range": [
             81,
             82
            ]
           },
           {
            "color": "rgba(91, 255, 0, 0.3)",
            "range": [
             82,
             83
            ]
           },
           {
            "color": "rgba(86, 255, 0, 0.3)",
            "range": [
             83,
             84
            ]
           },
           {
            "color": "rgba(81, 255, 0, 0.3)",
            "range": [
             84,
             85
            ]
           },
           {
            "color": "rgba(76, 255, 0, 0.3)",
            "range": [
             85,
             86
            ]
           },
           {
            "color": "rgba(71, 255, 0, 0.3)",
            "range": [
             86,
             87
            ]
           },
           {
            "color": "rgba(66, 255, 0, 0.3)",
            "range": [
             87,
             88
            ]
           },
           {
            "color": "rgba(61, 255, 0, 0.3)",
            "range": [
             88,
             89
            ]
           },
           {
            "color": "rgba(56, 255, 0, 0.3)",
            "range": [
             89,
             90
            ]
           },
           {
            "color": "rgba(50, 255, 0, 0.3)",
            "range": [
             90,
             91
            ]
           },
           {
            "color": "rgba(45, 255, 0, 0.3)",
            "range": [
             91,
             92
            ]
           },
           {
            "color": "rgba(40, 255, 0, 0.3)",
            "range": [
             92,
             93
            ]
           },
           {
            "color": "rgba(35, 255, 0, 0.3)",
            "range": [
             93,
             94
            ]
           },
           {
            "color": "rgba(30, 255, 0, 0.3)",
            "range": [
             94,
             95
            ]
           },
           {
            "color": "rgba(25, 255, 0, 0.3)",
            "range": [
             95,
             96
            ]
           },
           {
            "color": "rgba(20, 255, 0, 0.3)",
            "range": [
             96,
             97
            ]
           },
           {
            "color": "rgba(15, 255, 0, 0.3)",
            "range": [
             97,
             98
            ]
           },
           {
            "color": "rgba(10, 255, 0, 0.3)",
            "range": [
             98,
             99
            ]
           },
           {
            "color": "rgba(5, 255, 0, 0.3)",
            "range": [
             99,
             100
            ]
           }
          ]
         },
         "mode": "gauge+number",
         "title": {
          "text": "Best Attribute: Block Design"
         },
         "type": "indicator",
         "value": 12
        },
        {
         "domain": {
          "x": [
           0.3,
           0.7
          ],
          "y": [
           0,
           0.4
          ]
         },
         "gauge": {
          "axis": {
           "range": [
            0,
            100
           ]
          },
          "bar": {
           "color": "rgb(255, 61, 0)",
           "thickness": 0.3
          },
          "bgcolor": "white",
          "steps": [
           {
            "color": "rgba(255, 0, 0, 0.3)",
            "range": [
             0,
             1
            ]
           },
           {
            "color": "rgba(255, 5, 0, 0.3)",
            "range": [
             1,
             2
            ]
           },
           {
            "color": "rgba(255, 10, 0, 0.3)",
            "range": [
             2,
             3
            ]
           },
           {
            "color": "rgba(255, 15, 0, 0.3)",
            "range": [
             3,
             4
            ]
           },
           {
            "color": "rgba(255, 20, 0, 0.3)",
            "range": [
             4,
             5
            ]
           },
           {
            "color": "rgba(255, 25, 0, 0.3)",
            "range": [
             5,
             6
            ]
           },
           {
            "color": "rgba(255, 30, 0, 0.3)",
            "range": [
             6,
             7
            ]
           },
           {
            "color": "rgba(255, 35, 0, 0.3)",
            "range": [
             7,
             8
            ]
           },
           {
            "color": "rgba(255, 40, 0, 0.3)",
            "range": [
             8,
             9
            ]
           },
           {
            "color": "rgba(255, 45, 0, 0.3)",
            "range": [
             9,
             10
            ]
           },
           {
            "color": "rgba(255, 51, 0, 0.3)",
            "range": [
             10,
             11
            ]
           },
           {
            "color": "rgba(255, 56, 0, 0.3)",
            "range": [
             11,
             12
            ]
           },
           {
            "color": "rgba(255, 61, 0, 0.3)",
            "range": [
             12,
             13
            ]
           },
           {
            "color": "rgba(255, 66, 0, 0.3)",
            "range": [
             13,
             14
            ]
           },
           {
            "color": "rgba(255, 71, 0, 0.3)",
            "range": [
             14,
             15
            ]
           },
           {
            "color": "rgba(255, 76, 0, 0.3)",
            "range": [
             15,
             16
            ]
           },
           {
            "color": "rgba(255, 81, 0, 0.3)",
            "range": [
             16,
             17
            ]
           },
           {
            "color": "rgba(255, 86, 0, 0.3)",
            "range": [
             17,
             18
            ]
           },
           {
            "color": "rgba(255, 91, 0, 0.3)",
            "range": [
             18,
             19
            ]
           },
           {
            "color": "rgba(255, 96, 0, 0.3)",
            "range": [
             19,
             20
            ]
           },
           {
            "color": "rgba(255, 102, 0, 0.3)",
            "range": [
             20,
             21
            ]
           },
           {
            "color": "rgba(255, 107, 0, 0.3)",
            "range": [
             21,
             22
            ]
           },
           {
            "color": "rgba(255, 112, 0, 0.3)",
            "range": [
             22,
             23
            ]
           },
           {
            "color": "rgba(255, 117, 0, 0.3)",
            "range": [
             23,
             24
            ]
           },
           {
            "color": "rgba(255, 122, 0, 0.3)",
            "range": [
             24,
             25
            ]
           },
           {
            "color": "rgba(255, 127, 0, 0.3)",
            "range": [
             25,
             26
            ]
           },
           {
            "color": "rgba(255, 132, 0, 0.3)",
            "range": [
             26,
             27
            ]
           },
           {
            "color": "rgba(255, 137, 0, 0.3)",
            "range": [
             27,
             28
            ]
           },
           {
            "color": "rgba(255, 142, 0, 0.3)",
            "range": [
             28,
             29
            ]
           },
           {
            "color": "rgba(255, 147, 0, 0.3)",
            "range": [
             29,
             30
            ]
           },
           {
            "color": "rgba(255, 153, 0, 0.3)",
            "range": [
             30,
             31
            ]
           },
           {
            "color": "rgba(255, 158, 0, 0.3)",
            "range": [
             31,
             32
            ]
           },
           {
            "color": "rgba(255, 163, 0, 0.3)",
            "range": [
             32,
             33
            ]
           },
           {
            "color": "rgba(255, 168, 0, 0.3)",
            "range": [
             33,
             34
            ]
           },
           {
            "color": "rgba(255, 173, 0, 0.3)",
            "range": [
             34,
             35
            ]
           },
           {
            "color": "rgba(255, 178, 0, 0.3)",
            "range": [
             35,
             36
            ]
           },
           {
            "color": "rgba(255, 183, 0, 0.3)",
            "range": [
             36,
             37
            ]
           },
           {
            "color": "rgba(255, 188, 0, 0.3)",
            "range": [
             37,
             38
            ]
           },
           {
            "color": "rgba(255, 193, 0, 0.3)",
            "range": [
             38,
             39
            ]
           },
           {
            "color": "rgba(255, 198, 0, 0.3)",
            "range": [
             39,
             40
            ]
           },
           {
            "color": "rgba(255, 204, 0, 0.3)",
            "range": [
             40,
             41
            ]
           },
           {
            "color": "rgba(255, 209, 0, 0.3)",
            "range": [
             41,
             42
            ]
           },
           {
            "color": "rgba(255, 214, 0, 0.3)",
            "range": [
             42,
             43
            ]
           },
           {
            "color": "rgba(255, 219, 0, 0.3)",
            "range": [
             43,
             44
            ]
           },
           {
            "color": "rgba(255, 224, 0, 0.3)",
            "range": [
             44,
             45
            ]
           },
           {
            "color": "rgba(255, 229, 0, 0.3)",
            "range": [
             45,
             46
            ]
           },
           {
            "color": "rgba(255, 234, 0, 0.3)",
            "range": [
             46,
             47
            ]
           },
           {
            "color": "rgba(255, 239, 0, 0.3)",
            "range": [
             47,
             48
            ]
           },
           {
            "color": "rgba(255, 244, 0, 0.3)",
            "range": [
             48,
             49
            ]
           },
           {
            "color": "rgba(255, 249, 0, 0.3)",
            "range": [
             49,
             50
            ]
           },
           {
            "color": "rgba(255, 255, 0, 0.3)",
            "range": [
             50,
             51
            ]
           },
           {
            "color": "rgba(249, 255, 0, 0.3)",
            "range": [
             51,
             52
            ]
           },
           {
            "color": "rgba(244, 255, 0, 0.3)",
            "range": [
             52,
             53
            ]
           },
           {
            "color": "rgba(239, 255, 0, 0.3)",
            "range": [
             53,
             54
            ]
           },
           {
            "color": "rgba(234, 255, 0, 0.3)",
            "range": [
             54,
             55
            ]
           },
           {
            "color": "rgba(229, 255, 0, 0.3)",
            "range": [
             55,
             56
            ]
           },
           {
            "color": "rgba(224, 255, 0, 0.3)",
            "range": [
             56,
             57
            ]
           },
           {
            "color": "rgba(219, 255, 0, 0.3)",
            "range": [
             57,
             58
            ]
           },
           {
            "color": "rgba(214, 255, 0, 0.3)",
            "range": [
             58,
             59
            ]
           },
           {
            "color": "rgba(209, 255, 0, 0.3)",
            "range": [
             59,
             60
            ]
           },
           {
            "color": "rgba(204, 255, 0, 0.3)",
            "range": [
             60,
             61
            ]
           },
           {
            "color": "rgba(198, 255, 0, 0.3)",
            "range": [
             61,
             62
            ]
           },
           {
            "color": "rgba(193, 255, 0, 0.3)",
            "range": [
             62,
             63
            ]
           },
           {
            "color": "rgba(188, 255, 0, 0.3)",
            "range": [
             63,
             64
            ]
           },
           {
            "color": "rgba(183, 255, 0, 0.3)",
            "range": [
             64,
             65
            ]
           },
           {
            "color": "rgba(178, 255, 0, 0.3)",
            "range": [
             65,
             66
            ]
           },
           {
            "color": "rgba(173, 255, 0, 0.3)",
            "range": [
             66,
             67
            ]
           },
           {
            "color": "rgba(168, 255, 0, 0.3)",
            "range": [
             67,
             68
            ]
           },
           {
            "color": "rgba(163, 255, 0, 0.3)",
            "range": [
             68,
             69
            ]
           },
           {
            "color": "rgba(158, 255, 0, 0.3)",
            "range": [
             69,
             70
            ]
           },
           {
            "color": "rgba(153, 255, 0, 0.3)",
            "range": [
             70,
             71
            ]
           },
           {
            "color": "rgba(147, 255, 0, 0.3)",
            "range": [
             71,
             72
            ]
           },
           {
            "color": "rgba(142, 255, 0, 0.3)",
            "range": [
             72,
             73
            ]
           },
           {
            "color": "rgba(137, 255, 0, 0.3)",
            "range": [
             73,
             74
            ]
           },
           {
            "color": "rgba(132, 255, 0, 0.3)",
            "range": [
             74,
             75
            ]
           },
           {
            "color": "rgba(127, 255, 0, 0.3)",
            "range": [
             75,
             76
            ]
           },
           {
            "color": "rgba(122, 255, 0, 0.3)",
            "range": [
             76,
             77
            ]
           },
           {
            "color": "rgba(117, 255, 0, 0.3)",
            "range": [
             77,
             78
            ]
           },
           {
            "color": "rgba(112, 255, 0, 0.3)",
            "range": [
             78,
             79
            ]
           },
           {
            "color": "rgba(107, 255, 0, 0.3)",
            "range": [
             79,
             80
            ]
           },
           {
            "color": "rgba(102, 255, 0, 0.3)",
            "range": [
             80,
             81
            ]
           },
           {
            "color": "rgba(96, 255, 0, 0.3)",
            "range": [
             81,
             82
            ]
           },
           {
            "color": "rgba(91, 255, 0, 0.3)",
            "range": [
             82,
             83
            ]
           },
           {
            "color": "rgba(86, 255, 0, 0.3)",
            "range": [
             83,
             84
            ]
           },
           {
            "color": "rgba(81, 255, 0, 0.3)",
            "range": [
             84,
             85
            ]
           },
           {
            "color": "rgba(76, 255, 0, 0.3)",
            "range": [
             85,
             86
            ]
           },
           {
            "color": "rgba(71, 255, 0, 0.3)",
            "range": [
             86,
             87
            ]
           },
           {
            "color": "rgba(66, 255, 0, 0.3)",
            "range": [
             87,
             88
            ]
           },
           {
            "color": "rgba(61, 255, 0, 0.3)",
            "range": [
             88,
             89
            ]
           },
           {
            "color": "rgba(56, 255, 0, 0.3)",
            "range": [
             89,
             90
            ]
           },
           {
            "color": "rgba(50, 255, 0, 0.3)",
            "range": [
             90,
             91
            ]
           },
           {
            "color": "rgba(45, 255, 0, 0.3)",
            "range": [
             91,
             92
            ]
           },
           {
            "color": "rgba(40, 255, 0, 0.3)",
            "range": [
             92,
             93
            ]
           },
           {
            "color": "rgba(35, 255, 0, 0.3)",
            "range": [
             93,
             94
            ]
           },
           {
            "color": "rgba(30, 255, 0, 0.3)",
            "range": [
             94,
             95
            ]
           },
           {
            "color": "rgba(25, 255, 0, 0.3)",
            "range": [
             95,
             96
            ]
           },
           {
            "color": "rgba(20, 255, 0, 0.3)",
            "range": [
             96,
             97
            ]
           },
           {
            "color": "rgba(15, 255, 0, 0.3)",
            "range": [
             97,
             98
            ]
           },
           {
            "color": "rgba(10, 255, 0, 0.3)",
            "range": [
             98,
             99
            ]
           },
           {
            "color": "rgba(5, 255, 0, 0.3)",
            "range": [
             99,
             100
            ]
           }
          ]
         },
         "mode": "gauge+number",
         "title": {
          "text": "Worst Attribute: Block Design"
         },
         "type": "indicator",
         "value": 12
        }
       ],
       "layout": {
        "annotations": [
         {
          "align": "center",
          "font": {
           "size": 12
          },
          "showarrow": false,
          "text": "Strong spatial visualization and problem-solving skills.",
          "x": 1.03,
          "y": 0.6
         },
         {
          "align": "center",
          "font": {
           "size": 12
          },
          "showarrow": false,
          "text": "Challenges with spatial visualization and problem-solving.",
          "x": 0.5,
          "y": 0.03
         },
         {
          "align": "center",
          "bgcolor": "lightyellow",
          "bordercolor": "black",
          "borderpad": 10,
          "borderwidth": 1,
          "font": {
           "color": "black",
           "size": 14
          },
          "opacity": 0.8,
          "showarrow": false,
          "text": "<b>Dyslexia Diagnosis:</b> No Dyslexia",
          "x": 0.001,
          "xref": "paper",
          "y": 1.01,
          "yref": "paper"
         }
        ],
        "autosize": false,
        "height": 800,
        "margin": {
         "b": 50,
         "l": 50,
         "r": 50,
         "t": 50
        },
        "template": {
         "data": {
          "bar": [
           {
            "error_x": {
             "color": "#2a3f5f"
            },
            "error_y": {
             "color": "#2a3f5f"
            },
            "marker": {
             "line": {
              "color": "#E5ECF6",
              "width": 0.5
             },
             "pattern": {
              "fillmode": "overlay",
              "size": 10,
              "solidity": 0.2
             }
            },
            "type": "bar"
           }
          ],
          "barpolar": [
           {
            "marker": {
             "line": {
              "color": "#E5ECF6",
              "width": 0.5
             },
             "pattern": {
              "fillmode": "overlay",
              "size": 10,
              "solidity": 0.2
             }
            },
            "type": "barpolar"
           }
          ],
          "carpet": [
           {
            "aaxis": {
             "endlinecolor": "#2a3f5f",
             "gridcolor": "white",
             "linecolor": "white",
             "minorgridcolor": "white",
             "startlinecolor": "#2a3f5f"
            },
            "baxis": {
             "endlinecolor": "#2a3f5f",
             "gridcolor": "white",
             "linecolor": "white",
             "minorgridcolor": "white",
             "startlinecolor": "#2a3f5f"
            },
            "type": "carpet"
           }
          ],
          "choropleth": [
           {
            "colorbar": {
             "outlinewidth": 0,
             "ticks": ""
            },
            "type": "choropleth"
           }
          ],
          "contour": [
           {
            "colorbar": {
             "outlinewidth": 0,
             "ticks": ""
            },
            "colorscale": [
             [
              0,
              "#0d0887"
             ],
             [
              0.1111111111111111,
              "#46039f"
             ],
             [
              0.2222222222222222,
              "#7201a8"
             ],
             [
              0.3333333333333333,
              "#9c179e"
             ],
             [
              0.4444444444444444,
              "#bd3786"
             ],
             [
              0.5555555555555556,
              "#d8576b"
             ],
             [
              0.6666666666666666,
              "#ed7953"
             ],
             [
              0.7777777777777778,
              "#fb9f3a"
             ],
             [
              0.8888888888888888,
              "#fdca26"
             ],
             [
              1,
              "#f0f921"
             ]
            ],
            "type": "contour"
           }
          ],
          "contourcarpet": [
           {
            "colorbar": {
             "outlinewidth": 0,
             "ticks": ""
            },
            "type": "contourcarpet"
           }
          ],
          "heatmap": [
           {
            "colorbar": {
             "outlinewidth": 0,
             "ticks": ""
            },
            "colorscale": [
             [
              0,
              "#0d0887"
             ],
             [
              0.1111111111111111,
              "#46039f"
             ],
             [
              0.2222222222222222,
              "#7201a8"
             ],
             [
              0.3333333333333333,
              "#9c179e"
             ],
             [
              0.4444444444444444,
              "#bd3786"
             ],
             [
              0.5555555555555556,
              "#d8576b"
             ],
             [
              0.6666666666666666,
              "#ed7953"
             ],
             [
              0.7777777777777778,
              "#fb9f3a"
             ],
             [
              0.8888888888888888,
              "#fdca26"
             ],
             [
              1,
              "#f0f921"
             ]
            ],
            "type": "heatmap"
           }
          ],
          "heatmapgl": [
           {
            "colorbar": {
             "outlinewidth": 0,
             "ticks": ""
            },
            "colorscale": [
             [
              0,
              "#0d0887"
             ],
             [
              0.1111111111111111,
              "#46039f"
             ],
             [
              0.2222222222222222,
              "#7201a8"
             ],
             [
              0.3333333333333333,
              "#9c179e"
             ],
             [
              0.4444444444444444,
              "#bd3786"
             ],
             [
              0.5555555555555556,
              "#d8576b"
             ],
             [
              0.6666666666666666,
              "#ed7953"
             ],
             [
              0.7777777777777778,
              "#fb9f3a"
             ],
             [
              0.8888888888888888,
              "#fdca26"
             ],
             [
              1,
              "#f0f921"
             ]
            ],
            "type": "heatmapgl"
           }
          ],
          "histogram": [
           {
            "marker": {
             "pattern": {
              "fillmode": "overlay",
              "size": 10,
              "solidity": 0.2
             }
            },
            "type": "histogram"
           }
          ],
          "histogram2d": [
           {
            "colorbar": {
             "outlinewidth": 0,
             "ticks": ""
            },
            "colorscale": [
             [
              0,
              "#0d0887"
             ],
             [
              0.1111111111111111,
              "#46039f"
             ],
             [
              0.2222222222222222,
              "#7201a8"
             ],
             [
              0.3333333333333333,
              "#9c179e"
             ],
             [
              0.4444444444444444,
              "#bd3786"
             ],
             [
              0.5555555555555556,
              "#d8576b"
             ],
             [
              0.6666666666666666,
              "#ed7953"
             ],
             [
              0.7777777777777778,
              "#fb9f3a"
             ],
             [
              0.8888888888888888,
              "#fdca26"
             ],
             [
              1,
              "#f0f921"
             ]
            ],
            "type": "histogram2d"
           }
          ],
          "histogram2dcontour": [
           {
            "colorbar": {
             "outlinewidth": 0,
             "ticks": ""
            },
            "colorscale": [
             [
              0,
              "#0d0887"
             ],
             [
              0.1111111111111111,
              "#46039f"
             ],
             [
              0.2222222222222222,
              "#7201a8"
             ],
             [
              0.3333333333333333,
              "#9c179e"
             ],
             [
              0.4444444444444444,
              "#bd3786"
             ],
             [
              0.5555555555555556,
              "#d8576b"
             ],
             [
              0.6666666666666666,
              "#ed7953"
             ],
             [
              0.7777777777777778,
              "#fb9f3a"
             ],
             [
              0.8888888888888888,
              "#fdca26"
             ],
             [
              1,
              "#f0f921"
             ]
            ],
            "type": "histogram2dcontour"
           }
          ],
          "mesh3d": [
           {
            "colorbar": {
             "outlinewidth": 0,
             "ticks": ""
            },
            "type": "mesh3d"
           }
          ],
          "parcoords": [
           {
            "line": {
             "colorbar": {
              "outlinewidth": 0,
              "ticks": ""
             }
            },
            "type": "parcoords"
           }
          ],
          "pie": [
           {
            "automargin": true,
            "type": "pie"
           }
          ],
          "scatter": [
           {
            "marker": {
             "colorbar": {
              "outlinewidth": 0,
              "ticks": ""
             }
            },
            "type": "scatter"
           }
          ],
          "scatter3d": [
           {
            "line": {
             "colorbar": {
              "outlinewidth": 0,
              "ticks": ""
             }
            },
            "marker": {
             "colorbar": {
              "outlinewidth": 0,
              "ticks": ""
             }
            },
            "type": "scatter3d"
           }
          ],
          "scattercarpet": [
           {
            "marker": {
             "colorbar": {
              "outlinewidth": 0,
              "ticks": ""
             }
            },
            "type": "scattercarpet"
           }
          ],
          "scattergeo": [
           {
            "marker": {
             "colorbar": {
              "outlinewidth": 0,
              "ticks": ""
             }
            },
            "type": "scattergeo"
           }
          ],
          "scattergl": [
           {
            "marker": {
             "colorbar": {
              "outlinewidth": 0,
              "ticks": ""
             }
            },
            "type": "scattergl"
           }
          ],
          "scattermapbox": [
           {
            "marker": {
             "colorbar": {
              "outlinewidth": 0,
              "ticks": ""
             }
            },
            "type": "scattermapbox"
           }
          ],
          "scatterpolar": [
           {
            "marker": {
             "colorbar": {
              "outlinewidth": 0,
              "ticks": ""
             }
            },
            "type": "scatterpolar"
           }
          ],
          "scatterpolargl": [
           {
            "marker": {
             "colorbar": {
              "outlinewidth": 0,
              "ticks": ""
             }
            },
            "type": "scatterpolargl"
           }
          ],
          "scatterternary": [
           {
            "marker": {
             "colorbar": {
              "outlinewidth": 0,
              "ticks": ""
             }
            },
            "type": "scatterternary"
           }
          ],
          "surface": [
           {
            "colorbar": {
             "outlinewidth": 0,
             "ticks": ""
            },
            "colorscale": [
             [
              0,
              "#0d0887"
             ],
             [
              0.1111111111111111,
              "#46039f"
             ],
             [
              0.2222222222222222,
              "#7201a8"
             ],
             [
              0.3333333333333333,
              "#9c179e"
             ],
             [
              0.4444444444444444,
              "#bd3786"
             ],
             [
              0.5555555555555556,
              "#d8576b"
             ],
             [
              0.6666666666666666,
              "#ed7953"
             ],
             [
              0.7777777777777778,
              "#fb9f3a"
             ],
             [
              0.8888888888888888,
              "#fdca26"
             ],
             [
              1,
              "#f0f921"
             ]
            ],
            "type": "surface"
           }
          ],
          "table": [
           {
            "cells": {
             "fill": {
              "color": "#EBF0F8"
             },
             "line": {
              "color": "white"
             }
            },
            "header": {
             "fill": {
              "color": "#C8D4E3"
             },
             "line": {
              "color": "white"
             }
            },
            "type": "table"
           }
          ]
         },
         "layout": {
          "annotationdefaults": {
           "arrowcolor": "#2a3f5f",
           "arrowhead": 0,
           "arrowwidth": 1
          },
          "autotypenumbers": "strict",
          "coloraxis": {
           "colorbar": {
            "outlinewidth": 0,
            "ticks": ""
           }
          },
          "colorscale": {
           "diverging": [
            [
             0,
             "#8e0152"
            ],
            [
             0.1,
             "#c51b7d"
            ],
            [
             0.2,
             "#de77ae"
            ],
            [
             0.3,
             "#f1b6da"
            ],
            [
             0.4,
             "#fde0ef"
            ],
            [
             0.5,
             "#f7f7f7"
            ],
            [
             0.6,
             "#e6f5d0"
            ],
            [
             0.7,
             "#b8e186"
            ],
            [
             0.8,
             "#7fbc41"
            ],
            [
             0.9,
             "#4d9221"
            ],
            [
             1,
             "#276419"
            ]
           ],
           "sequential": [
            [
             0,
             "#0d0887"
            ],
            [
             0.1111111111111111,
             "#46039f"
            ],
            [
             0.2222222222222222,
             "#7201a8"
            ],
            [
             0.3333333333333333,
             "#9c179e"
            ],
            [
             0.4444444444444444,
             "#bd3786"
            ],
            [
             0.5555555555555556,
             "#d8576b"
            ],
            [
             0.6666666666666666,
             "#ed7953"
            ],
            [
             0.7777777777777778,
             "#fb9f3a"
            ],
            [
             0.8888888888888888,
             "#fdca26"
            ],
            [
             1,
             "#f0f921"
            ]
           ],
           "sequentialminus": [
            [
             0,
             "#0d0887"
            ],
            [
             0.1111111111111111,
             "#46039f"
            ],
            [
             0.2222222222222222,
             "#7201a8"
            ],
            [
             0.3333333333333333,
             "#9c179e"
            ],
            [
             0.4444444444444444,
             "#bd3786"
            ],
            [
             0.5555555555555556,
             "#d8576b"
            ],
            [
             0.6666666666666666,
             "#ed7953"
            ],
            [
             0.7777777777777778,
             "#fb9f3a"
            ],
            [
             0.8888888888888888,
             "#fdca26"
            ],
            [
             1,
             "#f0f921"
            ]
           ]
          },
          "colorway": [
           "#636efa",
           "#EF553B",
           "#00cc96",
           "#ab63fa",
           "#FFA15A",
           "#19d3f3",
           "#FF6692",
           "#B6E880",
           "#FF97FF",
           "#FECB52"
          ],
          "font": {
           "color": "#2a3f5f"
          },
          "geo": {
           "bgcolor": "white",
           "lakecolor": "white",
           "landcolor": "#E5ECF6",
           "showlakes": true,
           "showland": true,
           "subunitcolor": "white"
          },
          "hoverlabel": {
           "align": "left"
          },
          "hovermode": "closest",
          "mapbox": {
           "style": "light"
          },
          "paper_bgcolor": "white",
          "plot_bgcolor": "#E5ECF6",
          "polar": {
           "angularaxis": {
            "gridcolor": "white",
            "linecolor": "white",
            "ticks": ""
           },
           "bgcolor": "#E5ECF6",
           "radialaxis": {
            "gridcolor": "white",
            "linecolor": "white",
            "ticks": ""
           }
          },
          "scene": {
           "xaxis": {
            "backgroundcolor": "#E5ECF6",
            "gridcolor": "white",
            "gridwidth": 2,
            "linecolor": "white",
            "showbackground": true,
            "ticks": "",
            "zerolinecolor": "white"
           },
           "yaxis": {
            "backgroundcolor": "#E5ECF6",
            "gridcolor": "white",
            "gridwidth": 2,
            "linecolor": "white",
            "showbackground": true,
            "ticks": "",
            "zerolinecolor": "white"
           },
           "zaxis": {
            "backgroundcolor": "#E5ECF6",
            "gridcolor": "white",
            "gridwidth": 2,
            "linecolor": "white",
            "showbackground": true,
            "ticks": "",
            "zerolinecolor": "white"
           }
          },
          "shapedefaults": {
           "line": {
            "color": "#2a3f5f"
           }
          },
          "ternary": {
           "aaxis": {
            "gridcolor": "white",
            "linecolor": "white",
            "ticks": ""
           },
           "baxis": {
            "gridcolor": "white",
            "linecolor": "white",
            "ticks": ""
           },
           "bgcolor": "#E5ECF6",
           "caxis": {
            "gridcolor": "white",
            "linecolor": "white",
            "ticks": ""
           }
          },
          "title": {
           "x": 0.05
          },
          "xaxis": {
           "automargin": true,
           "gridcolor": "white",
           "linecolor": "white",
           "ticks": "",
           "title": {
            "standoff": 15
           },
           "zerolinecolor": "white",
           "zerolinewidth": 2
          },
          "yaxis": {
           "automargin": true,
           "gridcolor": "white",
           "linecolor": "white",
           "ticks": "",
           "title": {
            "standoff": 15
           },
           "zerolinecolor": "white",
           "zerolinewidth": 2
          }
         }
        },
        "title": {
         "text": "Student Performance Summary"
        },
        "width": 1000
       }
      },
      "text/html": [
       "<div>                            <div id=\"8aefd058-8eee-48d3-b5c5-874447459036\" class=\"plotly-graph-div\" style=\"height:800px; width:1000px;\"></div>            <script type=\"text/javascript\">                require([\"plotly\"], function(Plotly) {                    window.PLOTLYENV=window.PLOTLYENV || {};                                    if (document.getElementById(\"8aefd058-8eee-48d3-b5c5-874447459036\")) {                    Plotly.newPlot(                        \"8aefd058-8eee-48d3-b5c5-874447459036\",                        [{\"domain\":{\"x\":[0,0.4],\"y\":[0.5,1]},\"gauge\":{\"axis\":{\"range\":[0,100]},\"bar\":{\"color\":\"rgb(255, 61, 0)\",\"thickness\":0.3},\"bgcolor\":\"white\",\"steps\":[{\"color\":\"rgba(255, 0, 0, 0.3)\",\"range\":[0,1]},{\"color\":\"rgba(255, 5, 0, 0.3)\",\"range\":[1,2]},{\"color\":\"rgba(255, 10, 0, 0.3)\",\"range\":[2,3]},{\"color\":\"rgba(255, 15, 0, 0.3)\",\"range\":[3,4]},{\"color\":\"rgba(255, 20, 0, 0.3)\",\"range\":[4,5]},{\"color\":\"rgba(255, 25, 0, 0.3)\",\"range\":[5,6]},{\"color\":\"rgba(255, 30, 0, 0.3)\",\"range\":[6,7]},{\"color\":\"rgba(255, 35, 0, 0.3)\",\"range\":[7,8]},{\"color\":\"rgba(255, 40, 0, 0.3)\",\"range\":[8,9]},{\"color\":\"rgba(255, 45, 0, 0.3)\",\"range\":[9,10]},{\"color\":\"rgba(255, 51, 0, 0.3)\",\"range\":[10,11]},{\"color\":\"rgba(255, 56, 0, 0.3)\",\"range\":[11,12]},{\"color\":\"rgba(255, 61, 0, 0.3)\",\"range\":[12,13]},{\"color\":\"rgba(255, 66, 0, 0.3)\",\"range\":[13,14]},{\"color\":\"rgba(255, 71, 0, 0.3)\",\"range\":[14,15]},{\"color\":\"rgba(255, 76, 0, 0.3)\",\"range\":[15,16]},{\"color\":\"rgba(255, 81, 0, 0.3)\",\"range\":[16,17]},{\"color\":\"rgba(255, 86, 0, 0.3)\",\"range\":[17,18]},{\"color\":\"rgba(255, 91, 0, 0.3)\",\"range\":[18,19]},{\"color\":\"rgba(255, 96, 0, 0.3)\",\"range\":[19,20]},{\"color\":\"rgba(255, 102, 0, 0.3)\",\"range\":[20,21]},{\"color\":\"rgba(255, 107, 0, 0.3)\",\"range\":[21,22]},{\"color\":\"rgba(255, 112, 0, 0.3)\",\"range\":[22,23]},{\"color\":\"rgba(255, 117, 0, 0.3)\",\"range\":[23,24]},{\"color\":\"rgba(255, 122, 0, 0.3)\",\"range\":[24,25]},{\"color\":\"rgba(255, 127, 0, 0.3)\",\"range\":[25,26]},{\"color\":\"rgba(255, 132, 0, 0.3)\",\"range\":[26,27]},{\"color\":\"rgba(255, 137, 0, 0.3)\",\"range\":[27,28]},{\"color\":\"rgba(255, 142, 0, 0.3)\",\"range\":[28,29]},{\"color\":\"rgba(255, 147, 0, 0.3)\",\"range\":[29,30]},{\"color\":\"rgba(255, 153, 0, 0.3)\",\"range\":[30,31]},{\"color\":\"rgba(255, 158, 0, 0.3)\",\"range\":[31,32]},{\"color\":\"rgba(255, 163, 0, 0.3)\",\"range\":[32,33]},{\"color\":\"rgba(255, 168, 0, 0.3)\",\"range\":[33,34]},{\"color\":\"rgba(255, 173, 0, 0.3)\",\"range\":[34,35]},{\"color\":\"rgba(255, 178, 0, 0.3)\",\"range\":[35,36]},{\"color\":\"rgba(255, 183, 0, 0.3)\",\"range\":[36,37]},{\"color\":\"rgba(255, 188, 0, 0.3)\",\"range\":[37,38]},{\"color\":\"rgba(255, 193, 0, 0.3)\",\"range\":[38,39]},{\"color\":\"rgba(255, 198, 0, 0.3)\",\"range\":[39,40]},{\"color\":\"rgba(255, 204, 0, 0.3)\",\"range\":[40,41]},{\"color\":\"rgba(255, 209, 0, 0.3)\",\"range\":[41,42]},{\"color\":\"rgba(255, 214, 0, 0.3)\",\"range\":[42,43]},{\"color\":\"rgba(255, 219, 0, 0.3)\",\"range\":[43,44]},{\"color\":\"rgba(255, 224, 0, 0.3)\",\"range\":[44,45]},{\"color\":\"rgba(255, 229, 0, 0.3)\",\"range\":[45,46]},{\"color\":\"rgba(255, 234, 0, 0.3)\",\"range\":[46,47]},{\"color\":\"rgba(255, 239, 0, 0.3)\",\"range\":[47,48]},{\"color\":\"rgba(255, 244, 0, 0.3)\",\"range\":[48,49]},{\"color\":\"rgba(255, 249, 0, 0.3)\",\"range\":[49,50]},{\"color\":\"rgba(255, 255, 0, 0.3)\",\"range\":[50,51]},{\"color\":\"rgba(249, 255, 0, 0.3)\",\"range\":[51,52]},{\"color\":\"rgba(244, 255, 0, 0.3)\",\"range\":[52,53]},{\"color\":\"rgba(239, 255, 0, 0.3)\",\"range\":[53,54]},{\"color\":\"rgba(234, 255, 0, 0.3)\",\"range\":[54,55]},{\"color\":\"rgba(229, 255, 0, 0.3)\",\"range\":[55,56]},{\"color\":\"rgba(224, 255, 0, 0.3)\",\"range\":[56,57]},{\"color\":\"rgba(219, 255, 0, 0.3)\",\"range\":[57,58]},{\"color\":\"rgba(214, 255, 0, 0.3)\",\"range\":[58,59]},{\"color\":\"rgba(209, 255, 0, 0.3)\",\"range\":[59,60]},{\"color\":\"rgba(204, 255, 0, 0.3)\",\"range\":[60,61]},{\"color\":\"rgba(198, 255, 0, 0.3)\",\"range\":[61,62]},{\"color\":\"rgba(193, 255, 0, 0.3)\",\"range\":[62,63]},{\"color\":\"rgba(188, 255, 0, 0.3)\",\"range\":[63,64]},{\"color\":\"rgba(183, 255, 0, 0.3)\",\"range\":[64,65]},{\"color\":\"rgba(178, 255, 0, 0.3)\",\"range\":[65,66]},{\"color\":\"rgba(173, 255, 0, 0.3)\",\"range\":[66,67]},{\"color\":\"rgba(168, 255, 0, 0.3)\",\"range\":[67,68]},{\"color\":\"rgba(163, 255, 0, 0.3)\",\"range\":[68,69]},{\"color\":\"rgba(158, 255, 0, 0.3)\",\"range\":[69,70]},{\"color\":\"rgba(153, 255, 0, 0.3)\",\"range\":[70,71]},{\"color\":\"rgba(147, 255, 0, 0.3)\",\"range\":[71,72]},{\"color\":\"rgba(142, 255, 0, 0.3)\",\"range\":[72,73]},{\"color\":\"rgba(137, 255, 0, 0.3)\",\"range\":[73,74]},{\"color\":\"rgba(132, 255, 0, 0.3)\",\"range\":[74,75]},{\"color\":\"rgba(127, 255, 0, 0.3)\",\"range\":[75,76]},{\"color\":\"rgba(122, 255, 0, 0.3)\",\"range\":[76,77]},{\"color\":\"rgba(117, 255, 0, 0.3)\",\"range\":[77,78]},{\"color\":\"rgba(112, 255, 0, 0.3)\",\"range\":[78,79]},{\"color\":\"rgba(107, 255, 0, 0.3)\",\"range\":[79,80]},{\"color\":\"rgba(102, 255, 0, 0.3)\",\"range\":[80,81]},{\"color\":\"rgba(96, 255, 0, 0.3)\",\"range\":[81,82]},{\"color\":\"rgba(91, 255, 0, 0.3)\",\"range\":[82,83]},{\"color\":\"rgba(86, 255, 0, 0.3)\",\"range\":[83,84]},{\"color\":\"rgba(81, 255, 0, 0.3)\",\"range\":[84,85]},{\"color\":\"rgba(76, 255, 0, 0.3)\",\"range\":[85,86]},{\"color\":\"rgba(71, 255, 0, 0.3)\",\"range\":[86,87]},{\"color\":\"rgba(66, 255, 0, 0.3)\",\"range\":[87,88]},{\"color\":\"rgba(61, 255, 0, 0.3)\",\"range\":[88,89]},{\"color\":\"rgba(56, 255, 0, 0.3)\",\"range\":[89,90]},{\"color\":\"rgba(50, 255, 0, 0.3)\",\"range\":[90,91]},{\"color\":\"rgba(45, 255, 0, 0.3)\",\"range\":[91,92]},{\"color\":\"rgba(40, 255, 0, 0.3)\",\"range\":[92,93]},{\"color\":\"rgba(35, 255, 0, 0.3)\",\"range\":[93,94]},{\"color\":\"rgba(30, 255, 0, 0.3)\",\"range\":[94,95]},{\"color\":\"rgba(25, 255, 0, 0.3)\",\"range\":[95,96]},{\"color\":\"rgba(20, 255, 0, 0.3)\",\"range\":[96,97]},{\"color\":\"rgba(15, 255, 0, 0.3)\",\"range\":[97,98]},{\"color\":\"rgba(10, 255, 0, 0.3)\",\"range\":[98,99]},{\"color\":\"rgba(5, 255, 0, 0.3)\",\"range\":[99,100]}]},\"mode\":\"gauge+number\",\"title\":{\"text\":\"Overall Percentile\"},\"value\":12.0,\"type\":\"indicator\"},{\"domain\":{\"x\":[0.6,1],\"y\":[0.5,1]},\"gauge\":{\"axis\":{\"range\":[0,100]},\"bar\":{\"color\":\"rgb(255, 61, 0)\",\"thickness\":0.3},\"bgcolor\":\"white\",\"steps\":[{\"color\":\"rgba(255, 0, 0, 0.3)\",\"range\":[0,1]},{\"color\":\"rgba(255, 5, 0, 0.3)\",\"range\":[1,2]},{\"color\":\"rgba(255, 10, 0, 0.3)\",\"range\":[2,3]},{\"color\":\"rgba(255, 15, 0, 0.3)\",\"range\":[3,4]},{\"color\":\"rgba(255, 20, 0, 0.3)\",\"range\":[4,5]},{\"color\":\"rgba(255, 25, 0, 0.3)\",\"range\":[5,6]},{\"color\":\"rgba(255, 30, 0, 0.3)\",\"range\":[6,7]},{\"color\":\"rgba(255, 35, 0, 0.3)\",\"range\":[7,8]},{\"color\":\"rgba(255, 40, 0, 0.3)\",\"range\":[8,9]},{\"color\":\"rgba(255, 45, 0, 0.3)\",\"range\":[9,10]},{\"color\":\"rgba(255, 51, 0, 0.3)\",\"range\":[10,11]},{\"color\":\"rgba(255, 56, 0, 0.3)\",\"range\":[11,12]},{\"color\":\"rgba(255, 61, 0, 0.3)\",\"range\":[12,13]},{\"color\":\"rgba(255, 66, 0, 0.3)\",\"range\":[13,14]},{\"color\":\"rgba(255, 71, 0, 0.3)\",\"range\":[14,15]},{\"color\":\"rgba(255, 76, 0, 0.3)\",\"range\":[15,16]},{\"color\":\"rgba(255, 81, 0, 0.3)\",\"range\":[16,17]},{\"color\":\"rgba(255, 86, 0, 0.3)\",\"range\":[17,18]},{\"color\":\"rgba(255, 91, 0, 0.3)\",\"range\":[18,19]},{\"color\":\"rgba(255, 96, 0, 0.3)\",\"range\":[19,20]},{\"color\":\"rgba(255, 102, 0, 0.3)\",\"range\":[20,21]},{\"color\":\"rgba(255, 107, 0, 0.3)\",\"range\":[21,22]},{\"color\":\"rgba(255, 112, 0, 0.3)\",\"range\":[22,23]},{\"color\":\"rgba(255, 117, 0, 0.3)\",\"range\":[23,24]},{\"color\":\"rgba(255, 122, 0, 0.3)\",\"range\":[24,25]},{\"color\":\"rgba(255, 127, 0, 0.3)\",\"range\":[25,26]},{\"color\":\"rgba(255, 132, 0, 0.3)\",\"range\":[26,27]},{\"color\":\"rgba(255, 137, 0, 0.3)\",\"range\":[27,28]},{\"color\":\"rgba(255, 142, 0, 0.3)\",\"range\":[28,29]},{\"color\":\"rgba(255, 147, 0, 0.3)\",\"range\":[29,30]},{\"color\":\"rgba(255, 153, 0, 0.3)\",\"range\":[30,31]},{\"color\":\"rgba(255, 158, 0, 0.3)\",\"range\":[31,32]},{\"color\":\"rgba(255, 163, 0, 0.3)\",\"range\":[32,33]},{\"color\":\"rgba(255, 168, 0, 0.3)\",\"range\":[33,34]},{\"color\":\"rgba(255, 173, 0, 0.3)\",\"range\":[34,35]},{\"color\":\"rgba(255, 178, 0, 0.3)\",\"range\":[35,36]},{\"color\":\"rgba(255, 183, 0, 0.3)\",\"range\":[36,37]},{\"color\":\"rgba(255, 188, 0, 0.3)\",\"range\":[37,38]},{\"color\":\"rgba(255, 193, 0, 0.3)\",\"range\":[38,39]},{\"color\":\"rgba(255, 198, 0, 0.3)\",\"range\":[39,40]},{\"color\":\"rgba(255, 204, 0, 0.3)\",\"range\":[40,41]},{\"color\":\"rgba(255, 209, 0, 0.3)\",\"range\":[41,42]},{\"color\":\"rgba(255, 214, 0, 0.3)\",\"range\":[42,43]},{\"color\":\"rgba(255, 219, 0, 0.3)\",\"range\":[43,44]},{\"color\":\"rgba(255, 224, 0, 0.3)\",\"range\":[44,45]},{\"color\":\"rgba(255, 229, 0, 0.3)\",\"range\":[45,46]},{\"color\":\"rgba(255, 234, 0, 0.3)\",\"range\":[46,47]},{\"color\":\"rgba(255, 239, 0, 0.3)\",\"range\":[47,48]},{\"color\":\"rgba(255, 244, 0, 0.3)\",\"range\":[48,49]},{\"color\":\"rgba(255, 249, 0, 0.3)\",\"range\":[49,50]},{\"color\":\"rgba(255, 255, 0, 0.3)\",\"range\":[50,51]},{\"color\":\"rgba(249, 255, 0, 0.3)\",\"range\":[51,52]},{\"color\":\"rgba(244, 255, 0, 0.3)\",\"range\":[52,53]},{\"color\":\"rgba(239, 255, 0, 0.3)\",\"range\":[53,54]},{\"color\":\"rgba(234, 255, 0, 0.3)\",\"range\":[54,55]},{\"color\":\"rgba(229, 255, 0, 0.3)\",\"range\":[55,56]},{\"color\":\"rgba(224, 255, 0, 0.3)\",\"range\":[56,57]},{\"color\":\"rgba(219, 255, 0, 0.3)\",\"range\":[57,58]},{\"color\":\"rgba(214, 255, 0, 0.3)\",\"range\":[58,59]},{\"color\":\"rgba(209, 255, 0, 0.3)\",\"range\":[59,60]},{\"color\":\"rgba(204, 255, 0, 0.3)\",\"range\":[60,61]},{\"color\":\"rgba(198, 255, 0, 0.3)\",\"range\":[61,62]},{\"color\":\"rgba(193, 255, 0, 0.3)\",\"range\":[62,63]},{\"color\":\"rgba(188, 255, 0, 0.3)\",\"range\":[63,64]},{\"color\":\"rgba(183, 255, 0, 0.3)\",\"range\":[64,65]},{\"color\":\"rgba(178, 255, 0, 0.3)\",\"range\":[65,66]},{\"color\":\"rgba(173, 255, 0, 0.3)\",\"range\":[66,67]},{\"color\":\"rgba(168, 255, 0, 0.3)\",\"range\":[67,68]},{\"color\":\"rgba(163, 255, 0, 0.3)\",\"range\":[68,69]},{\"color\":\"rgba(158, 255, 0, 0.3)\",\"range\":[69,70]},{\"color\":\"rgba(153, 255, 0, 0.3)\",\"range\":[70,71]},{\"color\":\"rgba(147, 255, 0, 0.3)\",\"range\":[71,72]},{\"color\":\"rgba(142, 255, 0, 0.3)\",\"range\":[72,73]},{\"color\":\"rgba(137, 255, 0, 0.3)\",\"range\":[73,74]},{\"color\":\"rgba(132, 255, 0, 0.3)\",\"range\":[74,75]},{\"color\":\"rgba(127, 255, 0, 0.3)\",\"range\":[75,76]},{\"color\":\"rgba(122, 255, 0, 0.3)\",\"range\":[76,77]},{\"color\":\"rgba(117, 255, 0, 0.3)\",\"range\":[77,78]},{\"color\":\"rgba(112, 255, 0, 0.3)\",\"range\":[78,79]},{\"color\":\"rgba(107, 255, 0, 0.3)\",\"range\":[79,80]},{\"color\":\"rgba(102, 255, 0, 0.3)\",\"range\":[80,81]},{\"color\":\"rgba(96, 255, 0, 0.3)\",\"range\":[81,82]},{\"color\":\"rgba(91, 255, 0, 0.3)\",\"range\":[82,83]},{\"color\":\"rgba(86, 255, 0, 0.3)\",\"range\":[83,84]},{\"color\":\"rgba(81, 255, 0, 0.3)\",\"range\":[84,85]},{\"color\":\"rgba(76, 255, 0, 0.3)\",\"range\":[85,86]},{\"color\":\"rgba(71, 255, 0, 0.3)\",\"range\":[86,87]},{\"color\":\"rgba(66, 255, 0, 0.3)\",\"range\":[87,88]},{\"color\":\"rgba(61, 255, 0, 0.3)\",\"range\":[88,89]},{\"color\":\"rgba(56, 255, 0, 0.3)\",\"range\":[89,90]},{\"color\":\"rgba(50, 255, 0, 0.3)\",\"range\":[90,91]},{\"color\":\"rgba(45, 255, 0, 0.3)\",\"range\":[91,92]},{\"color\":\"rgba(40, 255, 0, 0.3)\",\"range\":[92,93]},{\"color\":\"rgba(35, 255, 0, 0.3)\",\"range\":[93,94]},{\"color\":\"rgba(30, 255, 0, 0.3)\",\"range\":[94,95]},{\"color\":\"rgba(25, 255, 0, 0.3)\",\"range\":[95,96]},{\"color\":\"rgba(20, 255, 0, 0.3)\",\"range\":[96,97]},{\"color\":\"rgba(15, 255, 0, 0.3)\",\"range\":[97,98]},{\"color\":\"rgba(10, 255, 0, 0.3)\",\"range\":[98,99]},{\"color\":\"rgba(5, 255, 0, 0.3)\",\"range\":[99,100]}]},\"mode\":\"gauge+number\",\"title\":{\"text\":\"Best Attribute: Block Design\"},\"value\":12.0,\"type\":\"indicator\"},{\"domain\":{\"x\":[0.3,0.7],\"y\":[0,0.4]},\"gauge\":{\"axis\":{\"range\":[0,100]},\"bar\":{\"color\":\"rgb(255, 61, 0)\",\"thickness\":0.3},\"bgcolor\":\"white\",\"steps\":[{\"color\":\"rgba(255, 0, 0, 0.3)\",\"range\":[0,1]},{\"color\":\"rgba(255, 5, 0, 0.3)\",\"range\":[1,2]},{\"color\":\"rgba(255, 10, 0, 0.3)\",\"range\":[2,3]},{\"color\":\"rgba(255, 15, 0, 0.3)\",\"range\":[3,4]},{\"color\":\"rgba(255, 20, 0, 0.3)\",\"range\":[4,5]},{\"color\":\"rgba(255, 25, 0, 0.3)\",\"range\":[5,6]},{\"color\":\"rgba(255, 30, 0, 0.3)\",\"range\":[6,7]},{\"color\":\"rgba(255, 35, 0, 0.3)\",\"range\":[7,8]},{\"color\":\"rgba(255, 40, 0, 0.3)\",\"range\":[8,9]},{\"color\":\"rgba(255, 45, 0, 0.3)\",\"range\":[9,10]},{\"color\":\"rgba(255, 51, 0, 0.3)\",\"range\":[10,11]},{\"color\":\"rgba(255, 56, 0, 0.3)\",\"range\":[11,12]},{\"color\":\"rgba(255, 61, 0, 0.3)\",\"range\":[12,13]},{\"color\":\"rgba(255, 66, 0, 0.3)\",\"range\":[13,14]},{\"color\":\"rgba(255, 71, 0, 0.3)\",\"range\":[14,15]},{\"color\":\"rgba(255, 76, 0, 0.3)\",\"range\":[15,16]},{\"color\":\"rgba(255, 81, 0, 0.3)\",\"range\":[16,17]},{\"color\":\"rgba(255, 86, 0, 0.3)\",\"range\":[17,18]},{\"color\":\"rgba(255, 91, 0, 0.3)\",\"range\":[18,19]},{\"color\":\"rgba(255, 96, 0, 0.3)\",\"range\":[19,20]},{\"color\":\"rgba(255, 102, 0, 0.3)\",\"range\":[20,21]},{\"color\":\"rgba(255, 107, 0, 0.3)\",\"range\":[21,22]},{\"color\":\"rgba(255, 112, 0, 0.3)\",\"range\":[22,23]},{\"color\":\"rgba(255, 117, 0, 0.3)\",\"range\":[23,24]},{\"color\":\"rgba(255, 122, 0, 0.3)\",\"range\":[24,25]},{\"color\":\"rgba(255, 127, 0, 0.3)\",\"range\":[25,26]},{\"color\":\"rgba(255, 132, 0, 0.3)\",\"range\":[26,27]},{\"color\":\"rgba(255, 137, 0, 0.3)\",\"range\":[27,28]},{\"color\":\"rgba(255, 142, 0, 0.3)\",\"range\":[28,29]},{\"color\":\"rgba(255, 147, 0, 0.3)\",\"range\":[29,30]},{\"color\":\"rgba(255, 153, 0, 0.3)\",\"range\":[30,31]},{\"color\":\"rgba(255, 158, 0, 0.3)\",\"range\":[31,32]},{\"color\":\"rgba(255, 163, 0, 0.3)\",\"range\":[32,33]},{\"color\":\"rgba(255, 168, 0, 0.3)\",\"range\":[33,34]},{\"color\":\"rgba(255, 173, 0, 0.3)\",\"range\":[34,35]},{\"color\":\"rgba(255, 178, 0, 0.3)\",\"range\":[35,36]},{\"color\":\"rgba(255, 183, 0, 0.3)\",\"range\":[36,37]},{\"color\":\"rgba(255, 188, 0, 0.3)\",\"range\":[37,38]},{\"color\":\"rgba(255, 193, 0, 0.3)\",\"range\":[38,39]},{\"color\":\"rgba(255, 198, 0, 0.3)\",\"range\":[39,40]},{\"color\":\"rgba(255, 204, 0, 0.3)\",\"range\":[40,41]},{\"color\":\"rgba(255, 209, 0, 0.3)\",\"range\":[41,42]},{\"color\":\"rgba(255, 214, 0, 0.3)\",\"range\":[42,43]},{\"color\":\"rgba(255, 219, 0, 0.3)\",\"range\":[43,44]},{\"color\":\"rgba(255, 224, 0, 0.3)\",\"range\":[44,45]},{\"color\":\"rgba(255, 229, 0, 0.3)\",\"range\":[45,46]},{\"color\":\"rgba(255, 234, 0, 0.3)\",\"range\":[46,47]},{\"color\":\"rgba(255, 239, 0, 0.3)\",\"range\":[47,48]},{\"color\":\"rgba(255, 244, 0, 0.3)\",\"range\":[48,49]},{\"color\":\"rgba(255, 249, 0, 0.3)\",\"range\":[49,50]},{\"color\":\"rgba(255, 255, 0, 0.3)\",\"range\":[50,51]},{\"color\":\"rgba(249, 255, 0, 0.3)\",\"range\":[51,52]},{\"color\":\"rgba(244, 255, 0, 0.3)\",\"range\":[52,53]},{\"color\":\"rgba(239, 255, 0, 0.3)\",\"range\":[53,54]},{\"color\":\"rgba(234, 255, 0, 0.3)\",\"range\":[54,55]},{\"color\":\"rgba(229, 255, 0, 0.3)\",\"range\":[55,56]},{\"color\":\"rgba(224, 255, 0, 0.3)\",\"range\":[56,57]},{\"color\":\"rgba(219, 255, 0, 0.3)\",\"range\":[57,58]},{\"color\":\"rgba(214, 255, 0, 0.3)\",\"range\":[58,59]},{\"color\":\"rgba(209, 255, 0, 0.3)\",\"range\":[59,60]},{\"color\":\"rgba(204, 255, 0, 0.3)\",\"range\":[60,61]},{\"color\":\"rgba(198, 255, 0, 0.3)\",\"range\":[61,62]},{\"color\":\"rgba(193, 255, 0, 0.3)\",\"range\":[62,63]},{\"color\":\"rgba(188, 255, 0, 0.3)\",\"range\":[63,64]},{\"color\":\"rgba(183, 255, 0, 0.3)\",\"range\":[64,65]},{\"color\":\"rgba(178, 255, 0, 0.3)\",\"range\":[65,66]},{\"color\":\"rgba(173, 255, 0, 0.3)\",\"range\":[66,67]},{\"color\":\"rgba(168, 255, 0, 0.3)\",\"range\":[67,68]},{\"color\":\"rgba(163, 255, 0, 0.3)\",\"range\":[68,69]},{\"color\":\"rgba(158, 255, 0, 0.3)\",\"range\":[69,70]},{\"color\":\"rgba(153, 255, 0, 0.3)\",\"range\":[70,71]},{\"color\":\"rgba(147, 255, 0, 0.3)\",\"range\":[71,72]},{\"color\":\"rgba(142, 255, 0, 0.3)\",\"range\":[72,73]},{\"color\":\"rgba(137, 255, 0, 0.3)\",\"range\":[73,74]},{\"color\":\"rgba(132, 255, 0, 0.3)\",\"range\":[74,75]},{\"color\":\"rgba(127, 255, 0, 0.3)\",\"range\":[75,76]},{\"color\":\"rgba(122, 255, 0, 0.3)\",\"range\":[76,77]},{\"color\":\"rgba(117, 255, 0, 0.3)\",\"range\":[77,78]},{\"color\":\"rgba(112, 255, 0, 0.3)\",\"range\":[78,79]},{\"color\":\"rgba(107, 255, 0, 0.3)\",\"range\":[79,80]},{\"color\":\"rgba(102, 255, 0, 0.3)\",\"range\":[80,81]},{\"color\":\"rgba(96, 255, 0, 0.3)\",\"range\":[81,82]},{\"color\":\"rgba(91, 255, 0, 0.3)\",\"range\":[82,83]},{\"color\":\"rgba(86, 255, 0, 0.3)\",\"range\":[83,84]},{\"color\":\"rgba(81, 255, 0, 0.3)\",\"range\":[84,85]},{\"color\":\"rgba(76, 255, 0, 0.3)\",\"range\":[85,86]},{\"color\":\"rgba(71, 255, 0, 0.3)\",\"range\":[86,87]},{\"color\":\"rgba(66, 255, 0, 0.3)\",\"range\":[87,88]},{\"color\":\"rgba(61, 255, 0, 0.3)\",\"range\":[88,89]},{\"color\":\"rgba(56, 255, 0, 0.3)\",\"range\":[89,90]},{\"color\":\"rgba(50, 255, 0, 0.3)\",\"range\":[90,91]},{\"color\":\"rgba(45, 255, 0, 0.3)\",\"range\":[91,92]},{\"color\":\"rgba(40, 255, 0, 0.3)\",\"range\":[92,93]},{\"color\":\"rgba(35, 255, 0, 0.3)\",\"range\":[93,94]},{\"color\":\"rgba(30, 255, 0, 0.3)\",\"range\":[94,95]},{\"color\":\"rgba(25, 255, 0, 0.3)\",\"range\":[95,96]},{\"color\":\"rgba(20, 255, 0, 0.3)\",\"range\":[96,97]},{\"color\":\"rgba(15, 255, 0, 0.3)\",\"range\":[97,98]},{\"color\":\"rgba(10, 255, 0, 0.3)\",\"range\":[98,99]},{\"color\":\"rgba(5, 255, 0, 0.3)\",\"range\":[99,100]}]},\"mode\":\"gauge+number\",\"title\":{\"text\":\"Worst Attribute: Block Design\"},\"value\":12.0,\"type\":\"indicator\"}],                        {\"template\":{\"data\":{\"bar\":[{\"error_x\":{\"color\":\"#2a3f5f\"},\"error_y\":{\"color\":\"#2a3f5f\"},\"marker\":{\"line\":{\"color\":\"#E5ECF6\",\"width\":0.5},\"pattern\":{\"fillmode\":\"overlay\",\"size\":10,\"solidity\":0.2}},\"type\":\"bar\"}],\"barpolar\":[{\"marker\":{\"line\":{\"color\":\"#E5ECF6\",\"width\":0.5},\"pattern\":{\"fillmode\":\"overlay\",\"size\":10,\"solidity\":0.2}},\"type\":\"barpolar\"}],\"carpet\":[{\"aaxis\":{\"endlinecolor\":\"#2a3f5f\",\"gridcolor\":\"white\",\"linecolor\":\"white\",\"minorgridcolor\":\"white\",\"startlinecolor\":\"#2a3f5f\"},\"baxis\":{\"endlinecolor\":\"#2a3f5f\",\"gridcolor\":\"white\",\"linecolor\":\"white\",\"minorgridcolor\":\"white\",\"startlinecolor\":\"#2a3f5f\"},\"type\":\"carpet\"}],\"choropleth\":[{\"colorbar\":{\"outlinewidth\":0,\"ticks\":\"\"},\"type\":\"choropleth\"}],\"contour\":[{\"colorbar\":{\"outlinewidth\":0,\"ticks\":\"\"},\"colorscale\":[[0.0,\"#0d0887\"],[0.1111111111111111,\"#46039f\"],[0.2222222222222222,\"#7201a8\"],[0.3333333333333333,\"#9c179e\"],[0.4444444444444444,\"#bd3786\"],[0.5555555555555556,\"#d8576b\"],[0.6666666666666666,\"#ed7953\"],[0.7777777777777778,\"#fb9f3a\"],[0.8888888888888888,\"#fdca26\"],[1.0,\"#f0f921\"]],\"type\":\"contour\"}],\"contourcarpet\":[{\"colorbar\":{\"outlinewidth\":0,\"ticks\":\"\"},\"type\":\"contourcarpet\"}],\"heatmap\":[{\"colorbar\":{\"outlinewidth\":0,\"ticks\":\"\"},\"colorscale\":[[0.0,\"#0d0887\"],[0.1111111111111111,\"#46039f\"],[0.2222222222222222,\"#7201a8\"],[0.3333333333333333,\"#9c179e\"],[0.4444444444444444,\"#bd3786\"],[0.5555555555555556,\"#d8576b\"],[0.6666666666666666,\"#ed7953\"],[0.7777777777777778,\"#fb9f3a\"],[0.8888888888888888,\"#fdca26\"],[1.0,\"#f0f921\"]],\"type\":\"heatmap\"}],\"heatmapgl\":[{\"colorbar\":{\"outlinewidth\":0,\"ticks\":\"\"},\"colorscale\":[[0.0,\"#0d0887\"],[0.1111111111111111,\"#46039f\"],[0.2222222222222222,\"#7201a8\"],[0.3333333333333333,\"#9c179e\"],[0.4444444444444444,\"#bd3786\"],[0.5555555555555556,\"#d8576b\"],[0.6666666666666666,\"#ed7953\"],[0.7777777777777778,\"#fb9f3a\"],[0.8888888888888888,\"#fdca26\"],[1.0,\"#f0f921\"]],\"type\":\"heatmapgl\"}],\"histogram\":[{\"marker\":{\"pattern\":{\"fillmode\":\"overlay\",\"size\":10,\"solidity\":0.2}},\"type\":\"histogram\"}],\"histogram2d\":[{\"colorbar\":{\"outlinewidth\":0,\"ticks\":\"\"},\"colorscale\":[[0.0,\"#0d0887\"],[0.1111111111111111,\"#46039f\"],[0.2222222222222222,\"#7201a8\"],[0.3333333333333333,\"#9c179e\"],[0.4444444444444444,\"#bd3786\"],[0.5555555555555556,\"#d8576b\"],[0.6666666666666666,\"#ed7953\"],[0.7777777777777778,\"#fb9f3a\"],[0.8888888888888888,\"#fdca26\"],[1.0,\"#f0f921\"]],\"type\":\"histogram2d\"}],\"histogram2dcontour\":[{\"colorbar\":{\"outlinewidth\":0,\"ticks\":\"\"},\"colorscale\":[[0.0,\"#0d0887\"],[0.1111111111111111,\"#46039f\"],[0.2222222222222222,\"#7201a8\"],[0.3333333333333333,\"#9c179e\"],[0.4444444444444444,\"#bd3786\"],[0.5555555555555556,\"#d8576b\"],[0.6666666666666666,\"#ed7953\"],[0.7777777777777778,\"#fb9f3a\"],[0.8888888888888888,\"#fdca26\"],[1.0,\"#f0f921\"]],\"type\":\"histogram2dcontour\"}],\"mesh3d\":[{\"colorbar\":{\"outlinewidth\":0,\"ticks\":\"\"},\"type\":\"mesh3d\"}],\"parcoords\":[{\"line\":{\"colorbar\":{\"outlinewidth\":0,\"ticks\":\"\"}},\"type\":\"parcoords\"}],\"pie\":[{\"automargin\":true,\"type\":\"pie\"}],\"scatter\":[{\"marker\":{\"colorbar\":{\"outlinewidth\":0,\"ticks\":\"\"}},\"type\":\"scatter\"}],\"scatter3d\":[{\"line\":{\"colorbar\":{\"outlinewidth\":0,\"ticks\":\"\"}},\"marker\":{\"colorbar\":{\"outlinewidth\":0,\"ticks\":\"\"}},\"type\":\"scatter3d\"}],\"scattercarpet\":[{\"marker\":{\"colorbar\":{\"outlinewidth\":0,\"ticks\":\"\"}},\"type\":\"scattercarpet\"}],\"scattergeo\":[{\"marker\":{\"colorbar\":{\"outlinewidth\":0,\"ticks\":\"\"}},\"type\":\"scattergeo\"}],\"scattergl\":[{\"marker\":{\"colorbar\":{\"outlinewidth\":0,\"ticks\":\"\"}},\"type\":\"scattergl\"}],\"scattermapbox\":[{\"marker\":{\"colorbar\":{\"outlinewidth\":0,\"ticks\":\"\"}},\"type\":\"scattermapbox\"}],\"scatterpolar\":[{\"marker\":{\"colorbar\":{\"outlinewidth\":0,\"ticks\":\"\"}},\"type\":\"scatterpolar\"}],\"scatterpolargl\":[{\"marker\":{\"colorbar\":{\"outlinewidth\":0,\"ticks\":\"\"}},\"type\":\"scatterpolargl\"}],\"scatterternary\":[{\"marker\":{\"colorbar\":{\"outlinewidth\":0,\"ticks\":\"\"}},\"type\":\"scatterternary\"}],\"surface\":[{\"colorbar\":{\"outlinewidth\":0,\"ticks\":\"\"},\"colorscale\":[[0.0,\"#0d0887\"],[0.1111111111111111,\"#46039f\"],[0.2222222222222222,\"#7201a8\"],[0.3333333333333333,\"#9c179e\"],[0.4444444444444444,\"#bd3786\"],[0.5555555555555556,\"#d8576b\"],[0.6666666666666666,\"#ed7953\"],[0.7777777777777778,\"#fb9f3a\"],[0.8888888888888888,\"#fdca26\"],[1.0,\"#f0f921\"]],\"type\":\"surface\"}],\"table\":[{\"cells\":{\"fill\":{\"color\":\"#EBF0F8\"},\"line\":{\"color\":\"white\"}},\"header\":{\"fill\":{\"color\":\"#C8D4E3\"},\"line\":{\"color\":\"white\"}},\"type\":\"table\"}]},\"layout\":{\"annotationdefaults\":{\"arrowcolor\":\"#2a3f5f\",\"arrowhead\":0,\"arrowwidth\":1},\"autotypenumbers\":\"strict\",\"coloraxis\":{\"colorbar\":{\"outlinewidth\":0,\"ticks\":\"\"}},\"colorscale\":{\"diverging\":[[0,\"#8e0152\"],[0.1,\"#c51b7d\"],[0.2,\"#de77ae\"],[0.3,\"#f1b6da\"],[0.4,\"#fde0ef\"],[0.5,\"#f7f7f7\"],[0.6,\"#e6f5d0\"],[0.7,\"#b8e186\"],[0.8,\"#7fbc41\"],[0.9,\"#4d9221\"],[1,\"#276419\"]],\"sequential\":[[0.0,\"#0d0887\"],[0.1111111111111111,\"#46039f\"],[0.2222222222222222,\"#7201a8\"],[0.3333333333333333,\"#9c179e\"],[0.4444444444444444,\"#bd3786\"],[0.5555555555555556,\"#d8576b\"],[0.6666666666666666,\"#ed7953\"],[0.7777777777777778,\"#fb9f3a\"],[0.8888888888888888,\"#fdca26\"],[1.0,\"#f0f921\"]],\"sequentialminus\":[[0.0,\"#0d0887\"],[0.1111111111111111,\"#46039f\"],[0.2222222222222222,\"#7201a8\"],[0.3333333333333333,\"#9c179e\"],[0.4444444444444444,\"#bd3786\"],[0.5555555555555556,\"#d8576b\"],[0.6666666666666666,\"#ed7953\"],[0.7777777777777778,\"#fb9f3a\"],[0.8888888888888888,\"#fdca26\"],[1.0,\"#f0f921\"]]},\"colorway\":[\"#636efa\",\"#EF553B\",\"#00cc96\",\"#ab63fa\",\"#FFA15A\",\"#19d3f3\",\"#FF6692\",\"#B6E880\",\"#FF97FF\",\"#FECB52\"],\"font\":{\"color\":\"#2a3f5f\"},\"geo\":{\"bgcolor\":\"white\",\"lakecolor\":\"white\",\"landcolor\":\"#E5ECF6\",\"showlakes\":true,\"showland\":true,\"subunitcolor\":\"white\"},\"hoverlabel\":{\"align\":\"left\"},\"hovermode\":\"closest\",\"mapbox\":{\"style\":\"light\"},\"paper_bgcolor\":\"white\",\"plot_bgcolor\":\"#E5ECF6\",\"polar\":{\"angularaxis\":{\"gridcolor\":\"white\",\"linecolor\":\"white\",\"ticks\":\"\"},\"bgcolor\":\"#E5ECF6\",\"radialaxis\":{\"gridcolor\":\"white\",\"linecolor\":\"white\",\"ticks\":\"\"}},\"scene\":{\"xaxis\":{\"backgroundcolor\":\"#E5ECF6\",\"gridcolor\":\"white\",\"gridwidth\":2,\"linecolor\":\"white\",\"showbackground\":true,\"ticks\":\"\",\"zerolinecolor\":\"white\"},\"yaxis\":{\"backgroundcolor\":\"#E5ECF6\",\"gridcolor\":\"white\",\"gridwidth\":2,\"linecolor\":\"white\",\"showbackground\":true,\"ticks\":\"\",\"zerolinecolor\":\"white\"},\"zaxis\":{\"backgroundcolor\":\"#E5ECF6\",\"gridcolor\":\"white\",\"gridwidth\":2,\"linecolor\":\"white\",\"showbackground\":true,\"ticks\":\"\",\"zerolinecolor\":\"white\"}},\"shapedefaults\":{\"line\":{\"color\":\"#2a3f5f\"}},\"ternary\":{\"aaxis\":{\"gridcolor\":\"white\",\"linecolor\":\"white\",\"ticks\":\"\"},\"baxis\":{\"gridcolor\":\"white\",\"linecolor\":\"white\",\"ticks\":\"\"},\"bgcolor\":\"#E5ECF6\",\"caxis\":{\"gridcolor\":\"white\",\"linecolor\":\"white\",\"ticks\":\"\"}},\"title\":{\"x\":0.05},\"xaxis\":{\"automargin\":true,\"gridcolor\":\"white\",\"linecolor\":\"white\",\"ticks\":\"\",\"title\":{\"standoff\":15},\"zerolinecolor\":\"white\",\"zerolinewidth\":2},\"yaxis\":{\"automargin\":true,\"gridcolor\":\"white\",\"linecolor\":\"white\",\"ticks\":\"\",\"title\":{\"standoff\":15},\"zerolinecolor\":\"white\",\"zerolinewidth\":2}}},\"annotations\":[{\"align\":\"center\",\"font\":{\"size\":12},\"showarrow\":false,\"text\":\"Strong spatial visualization and problem-solving skills.\",\"x\":1.03,\"y\":0.6},{\"align\":\"center\",\"font\":{\"size\":12},\"showarrow\":false,\"text\":\"Challenges with spatial visualization and problem-solving.\",\"x\":0.5,\"y\":0.03},{\"align\":\"center\",\"bgcolor\":\"lightyellow\",\"bordercolor\":\"black\",\"borderpad\":10,\"borderwidth\":1,\"font\":{\"color\":\"black\",\"size\":14},\"opacity\":0.8,\"showarrow\":false,\"text\":\"<b>Dyslexia Diagnosis:</b> No Dyslexia\",\"x\":0.001,\"xref\":\"paper\",\"y\":1.01,\"yref\":\"paper\"}],\"margin\":{\"l\":50,\"r\":50,\"b\":50,\"t\":50},\"title\":{\"text\":\"Student Performance Summary\"},\"autosize\":false,\"width\":1000,\"height\":800},                        {\"responsive\": true}                    ).then(function(){\n",
       "                            \n",
       "var gd = document.getElementById('8aefd058-8eee-48d3-b5c5-874447459036');\n",
       "var x = new MutationObserver(function (mutations, observer) {{\n",
       "        var display = window.getComputedStyle(gd).display;\n",
       "        if (!display || display === 'none') {{\n",
       "            console.log([gd, 'removed!']);\n",
       "            Plotly.purge(gd);\n",
       "            observer.disconnect();\n",
       "        }}\n",
       "}});\n",
       "\n",
       "// Listen for the removal of the full notebook cells\n",
       "var notebookContainer = gd.closest('#notebook-container');\n",
       "if (notebookContainer) {{\n",
       "    x.observe(notebookContainer, {childList: true});\n",
       "}}\n",
       "\n",
       "// Listen for the clearing of the current output cell\n",
       "var outputEl = gd.closest('.output');\n",
       "if (outputEl) {{\n",
       "    x.observe(outputEl, {childList: true});\n",
       "}}\n",
       "\n",
       "                        })                };                });            </script>        </div>"
      ]
     },
     "metadata": {},
     "output_type": "display_data"
    }
   ],
   "source": [
    "import pandas as pd\n",
    "import numpy as np\n",
    "import matplotlib.pyplot as plt\n",
    "import seaborn as sns\n",
    "from sklearn.model_selection import train_test_split, GridSearchCV, StratifiedKFold, learning_curve\n",
    "from sklearn.pipeline import Pipeline\n",
    "from sklearn.preprocessing import StandardScaler, Normalizer\n",
    "from sklearn.decomposition import PCA\n",
    "from sklearn.ensemble import RandomForestClassifier\n",
    "from sklearn.metrics import classification_report, recall_score\n",
    "import plotly.graph_objects as go\n",
    "\n",
    "def get_student_data(attributes):\n",
    "    student_data = []\n",
    "    print(\"Please enter the student's percentile scores for the following attributes:\")\n",
    "    for attribute in attributes:\n",
    "        while True:\n",
    "            try:\n",
    "                # Prompt user for input\n",
    "                score = float(input(f\"Enter percentile for {attribute}: \"))\n",
    "                student_data.append(score)\n",
    "                break  # Exit the loop if input is valid\n",
    "            except ValueError:\n",
    "                print(\"Invalid input. Please enter a valid number.\")\n",
    "    return np.array([student_data])\n",
    "\n",
    "def load_data(file_path):\n",
    "    # Load the original CSV file and remove the specified columns\n",
    "    Data = pd.read_csv(file_path).drop(columns=[\"Subtest\"])\n",
    "    # Replace 'No Dyslexia' with 0, 'Mild' with 1, and 'Severe' with 2\n",
    "    Data.replace({'No Dyslexia': 0, 'Mild': 1, 'Severe': 2}, inplace=True)\n",
    "    # Separate the features (X) and the target (y)\n",
    "    X = Data.iloc[0:25].values.T.astype(float)  # Transpose X to ensure rows are samples and columns are features\n",
    "    y = Data.iloc[25].values.astype(int)  # Ensure y is an array of integers\n",
    "    return X, y\n",
    "\n",
    "def create_pipeline():\n",
    "    # Define the pipeline with scaling, normalization, PCA, and the classifier\n",
    "    pipeline = Pipeline([\n",
    "        ('scaler', StandardScaler()),       # Standardize features by removing the mean and scaling to unit variance\n",
    "        ('normalizer', Normalizer()),       # Normalize samples individually to unit norm\n",
    "        ('pca', PCA()),                     # PCA for dimensionality reduction\n",
    "        ('classifier', RandomForestClassifier(random_state=42))  # RandomForest classifier\n",
    "    ])\n",
    "    return pipeline\n",
    "\n",
    "def ensure_numeric_data(data):\n",
    "    \"\"\"\n",
    "    Ensures all data in the DataFrame is numeric, converting where necessary.\n",
    "\n",
    "    Parameters:\n",
    "    data (pd.DataFrame): The DataFrame to convert.\n",
    "\n",
    "    Returns:\n",
    "    pd.DataFrame: A DataFrame with all columns converted to numeric.\n",
    "    \"\"\"\n",
    "    for column in data.columns:\n",
    "        data[column] = pd.to_numeric(data[column], errors='coerce')\n",
    "    return data\n",
    "\n",
    "def calculate_overall_percentile(data_point):\n",
    "    \"\"\"\n",
    "    Calculates the overall percentile (mean of all attributes).\n",
    "\n",
    "    Parameters:\n",
    "    data_point (np.array): Array of student attributes.\n",
    "\n",
    "    Returns:\n",
    "    float: The mean percentile value.\n",
    "    \"\"\"\n",
    "    return np.mean(data_point)\n",
    "\n",
    "def train_model(X, y):\n",
    "    # Split the data into training and testing sets using stratified split\n",
    "    X_train, X_test, y_train, y_test = train_test_split(X, y, test_size=0.2, random_state=42, stratify=y)\n",
    "    \n",
    "    pipeline = create_pipeline()\n",
    "\n",
    "    # Define the parameter grid\n",
    "    param_grid = {\n",
    "        'pca__n_components': [2, 3, 4],\n",
    "        'classifier__n_estimators': [10, 50, 100]\n",
    "    }\n",
    "\n",
    "    # Create the GridSearchCV object with recall as the scoring metric and stratified k-fold cross-validation\n",
    "    grid_search = GridSearchCV(pipeline, param_grid, cv=StratifiedKFold(n_splits=5), scoring='recall_macro', verbose=1)\n",
    "\n",
    "    # Fit the grid search to the training data\n",
    "    grid_search.fit(X_train, y_train)\n",
    "\n",
    "    # Predict on the test set using the best estimator\n",
    "    best_pipeline = grid_search.best_estimator_\n",
    "\n",
    "    # Predict on the test set using the refitted best estimator\n",
    "    y_pred = best_pipeline.predict(X_test)\n",
    "\n",
    "    # Evaluate the model using recall\n",
    "    recall = recall_score(y_test, y_pred, average='macro')\n",
    "    report = classification_report(y_test, y_pred)\n",
    "\n",
    "    # Extract feature importance from the best estimator if it has the attribute\n",
    "    if hasattr(best_pipeline.named_steps['classifier'], 'feature_importances_'):\n",
    "        feature_importance = best_pipeline.named_steps['classifier'].feature_importances_\n",
    "\n",
    "    return best_pipeline, X_train, X_test, y_train, y_test\n",
    "\n",
    "\n",
    "\n",
    "def predict_student_class(pipeline, student_data, labels):\n",
    "    \"\"\"\n",
    "    Predicts the class for a new student using the provided pipeline.\n",
    "\n",
    "    Parameters:\n",
    "    pipeline: The trained model pipeline for predictions.\n",
    "    student_data (np.array): The student data for prediction.\n",
    "    labels (dict): Mapping of class indices to descriptive labels.\n",
    "\n",
    "    Returns:\n",
    "    str: The predicted class label.\n",
    "    \"\"\"\n",
    "    prediction = pipeline.predict(student_data)\n",
    "    return labels[prediction[0]]\n",
    "\n",
    "def identify_best_worst_attributes(data_point, attribute_names):\n",
    "    \"\"\"\n",
    "    Identifies the best and worst attributes based on their values.\n",
    "\n",
    "    Parameters:\n",
    "    data_point (np.array): Array of student attributes.\n",
    "    attribute_names (list): List of attribute names.\n",
    "\n",
    "    Returns:\n",
    "    tuple: Best attribute name, worst attribute name, best attribute index, worst attribute index.\n",
    "    \"\"\"\n",
    "    best_index = np.argmax(data_point)\n",
    "    worst_index = np.argmin(data_point)\n",
    "    return attribute_names[best_index], attribute_names[worst_index], best_index, worst_index\n",
    "\n",
    "def get_attribute_description(attribute, descriptions, best=True):\n",
    "    \"\"\"\n",
    "    Retrieves the description of an attribute based on its performance.\n",
    "\n",
    "    Parameters:\n",
    "    attribute (str): The attribute name.\n",
    "    descriptions (dict): Dictionary of attribute descriptions.\n",
    "    best (bool): Whether to get the positive (best) or negative (worst) description.\n",
    "\n",
    "    Returns:\n",
    "    str: The description for the attribute.\n",
    "    \"\"\"\n",
    "    return descriptions[attribute]['positive'] if best else descriptions[attribute]['negative']\n",
    "\n",
    "def get_color(value):\n",
    "    \"\"\"\n",
    "    Determines the color based on the percentile value.\n",
    "\n",
    "    Parameters:\n",
    "    value (float): The percentile value.\n",
    "\n",
    "    Returns:\n",
    "    str: The RGB color string.\n",
    "    \"\"\"\n",
    "    if value < 50:\n",
    "        return f\"rgb({255}, {int((value / 50) * 255)}, 0)\"\n",
    "    else:\n",
    "        return f\"rgb({int((1 - (value - 50) / 50) * 255)}, 255, 0)\"\n",
    "\n",
    "def create_percentile_gauge(title, value, domain):\n",
    "    \"\"\"\n",
    "    Creates a gauge for displaying a percentile value with a semi-transparent gradient background.\n",
    "\n",
    "    Parameters:\n",
    "    title (str): The title of the gauge.\n",
    "    value (float): The value to display on the gauge.\n",
    "    domain (dict): The domain for positioning the gauge.\n",
    "\n",
    "    Returns:\n",
    "    go.Indicator: A Plotly Indicator for the gauge.\n",
    "    \"\"\"\n",
    "    gradient_steps = []\n",
    "    for i in range(100):\n",
    "        if i < 50:\n",
    "            color = f\"rgba({255}, {int((i / 50) * 255)}, 0, 0.3)\"  # Red to Yellow gradient with opacity\n",
    "        else:\n",
    "            color = f\"rgba({int((1 - (i - 50) / 50) * 255)}, 255, 0, 0.3)\"  # Yellow to Green gradient with opacity\n",
    "        gradient_steps.append({'range': [i, i + 1], 'color': color})\n",
    "\n",
    "    return go.Indicator(\n",
    "        mode=\"gauge+number\",\n",
    "        value=value,\n",
    "        title={'text': title},\n",
    "        gauge={\n",
    "            'axis': {'range': [0, 100]},\n",
    "            'bar': {'color': get_color(value), 'thickness': 0.3},  # Adjust bar thickness\n",
    "            'bgcolor': 'white',  # White background for clarity\n",
    "            'steps': gradient_steps,\n",
    "        },\n",
    "        domain=domain\n",
    "    )\n",
    "\n",
    "\n",
    "def plot_student_performance(overall_percentile, best_attribute, best_percentile, worst_attribute, worst_percentile, best_desc, worst_desc, prediction_label):\n",
    "    \"\"\"\n",
    "    Plots the student's performance summary using gauges.\n",
    "\n",
    "    Parameters:\n",
    "    overall_percentile (float): Overall percentile score.\n",
    "    best_attribute (str): Name of the best attribute.\n",
    "    best_percentile (float): Percentile score of the best attribute.\n",
    "    worst_attribute (str): Name of the worst attribute.\n",
    "    worst_percentile (float): Percentile score of the worst attribute.\n",
    "    best_desc (str): Description of the best attribute.\n",
    "    worst_desc (str): Description of the worst attribute.\n",
    "    prediction_label (str): Predicted class label.\n",
    "    \"\"\"\n",
    "    fig = go.Figure()\n",
    "\n",
    "    # Overall Percentile Gauge\n",
    "    fig.add_trace(create_percentile_gauge(\"Overall Percentile\", overall_percentile, {'x': [0, 0.4], 'y': [0.5, 1]}))\n",
    "\n",
    "    # Best Attribute Gauge\n",
    "    fig.add_trace(create_percentile_gauge(f\"Best Attribute: {best_attribute}\", best_percentile, {'x': [0.6, 1], 'y': [0.5, 1]}))\n",
    "\n",
    "    # Worst Attribute Gauge\n",
    "    fig.add_trace(create_percentile_gauge(f\"Worst Attribute: {worst_attribute}\", worst_percentile, {'x': [0.3, 0.7], 'y': [0, 0.4]}))\n",
    "\n",
    "    fig.add_annotation(\n",
    "        x=1.03, y=0.6,\n",
    "        text=best_desc,\n",
    "        showarrow=False,\n",
    "        font=dict(size=12),\n",
    "        align=\"center\"\n",
    "    )\n",
    "\n",
    "    fig.add_annotation(\n",
    "        x=0.5, y=0.03,\n",
    "        text=worst_desc,\n",
    "        showarrow=False,\n",
    "        font=dict(size=12),\n",
    "        align=\"center\"\n",
    "    )\n",
    "\n",
    "    fig.update_layout(\n",
    "        title='Student Performance Summary',\n",
    "        autosize=False,\n",
    "        width=1000,\n",
    "        height=800,\n",
    "        margin=dict(l=50, r=50, b=50, t=50),\n",
    "    )\n",
    "    fig.add_annotation(\n",
    "        x=0.001, y=1.01,\n",
    "        text=f\"<b>Dyslexia Diagnosis:</b> {prediction_label}\",\n",
    "        showarrow=False,\n",
    "        font=dict(size=14, color=\"black\"),\n",
    "        align=\"center\",\n",
    "        xref=\"paper\",\n",
    "        yref=\"paper\",\n",
    "        bordercolor=\"black\",\n",
    "        borderwidth=1,\n",
    "        borderpad=10,\n",
    "        bgcolor=\"lightyellow\",\n",
    "        opacity=0.8\n",
    "    )\n",
    "    fig.show()\n",
    "\n",
    "def main():\n",
    "    file_path = r\"C:\\Users\\antho\\OneDrive - University College Dublin\\ACM20030 1\\ALPACA\\MASTER_DATA.csv\"\n",
    "    \n",
    "    # Load and preprocess data\n",
    "    X, y = load_data(file_path)\n",
    "    Data = pd.DataFrame(X)\n",
    "    ensure_numeric_data(Data)\n",
    "\n",
    "    # Train the model\n",
    "    best_pipeline, X_train, X_test, y_train, y_test = train_model(X, y)\n",
    "    # Attribute names\n",
    "    attribute_names = [\n",
    "        \"Block Design\", \"Similarities\", \"Matrix Reasoning\", \"Digit Span\", \"Coding\",\n",
    "        \"Vocabulary\", \"Figure Weights\", \"Visual Puzzles\", \"Picture Span\", \"Symbol Search\",\n",
    "        \"Information\", \"Picture Concepts\", \"Letter-Number Sequencing\", \"Cancellation\",\n",
    "        \"Comprehension\", \"Arithmetic\", \"Letter Sound Knowledge\", \"Early Word Recognition\",\n",
    "        \"Sound Deletion\", \"Sound Isolation\", \"Single Word Reading\", \"Reading Accuracy\",\n",
    "        \"Reading Rate\", \"Reading Comprehension\", \"Fluency\"\n",
    "    ]\n",
    "\n",
    "    # Example new data point for prediction\n",
    "    new_student = get_student_data(attribute_names)\n",
    "\n",
    "    # Mapping of prediction to descriptive labels\n",
    "    dyslexia_labels = {0: 'No Dyslexia', 1: 'Mild Dyslexia', 2: 'Severe Dyslexia'}\n",
    "\n",
    "    # Predict the class for the new student\n",
    "    prediction_label = predict_student_class(best_pipeline, new_student, dyslexia_labels)\n",
    "\n",
    "    # Calculate the overall percentile\n",
    "    overall_percentile = calculate_overall_percentile(new_student)\n",
    "\n",
    "    # Define attribute descriptions and their implications\n",
    "    attribute_descriptions = {\n",
    "        'Block Design': {\n",
    "            'description': 'Tests spatial visualization and problem-solving skills.',\n",
    "            'positive': 'Strong spatial visualization and problem-solving skills.',\n",
    "            'negative': 'Challenges with spatial visualization and problem-solving.'\n",
    "        },\n",
    "        'Similarities': {\n",
    "            'description': 'Measures verbal reasoning and concept formation.',\n",
    "            'positive': 'Strong skills in verbal reasoning and forming concepts.',\n",
    "            'negative': 'Challenges in verbal reasoning and forming concepts.'\n",
    "        },\n",
    "        'Matrix Reasoning': {\n",
    "            'description': 'Assesses visual-spatial reasoning and fluid intelligence.',\n",
    "            'positive': 'Strong visual-spatial reasoning and fluid intelligence.',\n",
    "            'negative': 'Difficulty with visual-spatial reasoning and fluid intelligence.'\n",
    "        },\n",
    "        'Digit Span': {\n",
    "            'description': 'Measures attention, concentration, and mental control.',\n",
    "            'positive': 'Strong attention, concentration, and mental control.',\n",
    "            'negative': 'Difficulty with attention, concentration, and mental control.'\n",
    "        },\n",
    "        'Coding': {\n",
    "            'description': 'Tests processing speed and short-term visual memory.',\n",
    "            'positive': 'Fast processing speed and good short-term visual memory.',\n",
    "            'negative': 'Slow processing speed and poor short-term visual memory.'\n",
    "        },\n",
    "        'Vocabulary': {\n",
    "            'description': 'Assesses word knowledge and verbal concept formation.',\n",
    "            'positive': 'Rich vocabulary and strong word knowledge.',\n",
    "            'negative': 'Limited vocabulary and struggles with word knowledge.'\n",
    "        },\n",
    "        'Figure Weights': {\n",
    "            'description': 'Tests quantitative reasoning and visual-perceptual skills.',\n",
    "            'positive': 'Good quantitative reasoning and visual-perceptual skills.',\n",
    "            'negative': 'Challenges in quantitative reasoning and visual-perceptual skills.'\n",
    "        },\n",
    "        'Visual Puzzles': {\n",
    "            'description': 'Measures nonverbal reasoning and problem-solving ability.',\n",
    "            'positive': 'Excellent nonverbal reasoning and problem-solving abilities.',\n",
    "            'negative': 'Struggles with nonverbal reasoning and problem-solving.'\n",
    "        },\n",
    "        'Picture Span': {\n",
    "            'description': 'Evaluates visual working memory.',\n",
    "            'positive': 'Strong visual working memory.',\n",
    "            'negative': 'Weak visual working memory.'\n",
    "        },\n",
    "        'Symbol Search': {\n",
    "            'description': 'Measures processing speed and visual-motor coordination.',\n",
    "            'positive': 'Strong processing speed and visual-motor coordination.',\n",
    "            'negative': 'Challenges with processing speed and visual-motor coordination.'\n",
    "        },\n",
    "        'Information': {\n",
    "            'description': 'Assesses knowledge of general information.',\n",
    "            'positive': 'Strong general knowledge and understanding of world facts.',\n",
    "            'negative': 'Limited knowledge of general information.'\n",
    "        },\n",
    "        'Picture Concepts': {\n",
    "            'description': 'Assesses ability to categorize and abstract reasoning.',\n",
    "            'positive': 'Strong abstract reasoning and categorization skills.',\n",
    "            'negative': 'Difficulty with abstract reasoning and categorization.'\n",
    "        },\n",
    "        'Letter-Number Sequencing': {\n",
    "            'description': 'Tests working memory and sequencing skills.',\n",
    "            'positive': 'Strong working memory and adept at sequencing tasks.',\n",
    "            'negative': 'Challenges with working memory and sequencing tasks.'\n",
    "        },\n",
    "        'Cancellation': {\n",
    "            'description': 'Evaluates visual attention and speed of visual recognition.',\n",
    "            'positive': 'Quick visual recognition and focused attention.',\n",
    "            'negative': 'Slow visual recognition and scattered attention.'\n",
    "        },\n",
    "        'Comprehension': {\n",
    "            'description': 'Evaluates understanding of social situations and common sense.',\n",
    "            'positive': 'Good understanding of social situations and common sense.',\n",
    "            'negative': 'Difficulty understanding social situations and common sense.'\n",
    "        },\n",
    "        'Arithmetic': {\n",
    "            'description': 'Measures calculation skills and number operation proficiency.',\n",
    "            'positive': 'Strong calculation skills and numerical operations.',\n",
    "            'negative': 'Difficulty with calculations and numerical operations.'\n",
    "        },\n",
    "        'Letter Sound Knowledge': {\n",
    "            'description': 'Assesses phonological processing and ability to connect sounds to letters.',\n",
    "            'positive': 'Strong phonological skills and understanding of letter-sound relationships.',\n",
    "            'negative': 'Struggles with phonological processing and letter-sound connections.'\n",
    "        },\n",
    "        'Early Word Recognition': {\n",
    "            'description': 'Tests early reading skills and recognition of common words.',\n",
    "            'positive': 'Strong early reading skills and quick recognition of common words.',\n",
    "            'negative': 'Challenges with early reading and word recognition.'\n",
    "        },\n",
    "        'Sound Deletion': {\n",
    "            'description': 'Assesses phonemic manipulation abilities by removing sounds from words.',\n",
    "            'positive': 'Strong phonemic manipulation skills.',\n",
    "            'negative': 'Difficulty with phonemic manipulation tasks.'\n",
    "        },\n",
    "        'Sound Isolation': {\n",
    "            'description': 'Tests ability to identify individual sounds within words.',\n",
    "            'positive': 'Excellent at identifying sounds within words.',\n",
    "            'negative': 'Struggles with sound identification within words.'\n",
    "        },\n",
    "        'Single Word Reading': {\n",
    "            'description': 'Evaluates the ability to read single words out of context.',\n",
    "            'positive': 'Proficient at reading single words quickly and accurately.',\n",
    "            'negative': 'Difficulty reading single words accurately.'\n",
    "        },\n",
    "        'Reading Accuracy': {\n",
    "            'description': 'Measures the ability to read words correctly.',\n",
    "            'positive': 'High level of reading accuracy.',\n",
    "            'negative': 'Issues with reading words accurately.'\n",
    "        },\n",
    "        'Reading Rate': {\n",
    "            'description': 'Assesses speed of reading text.',\n",
    "            'positive': 'Fast reading speed.',\n",
    "            'negative': 'Slow reading speed.'\n",
    "        },\n",
    "        'Reading Comprehension': {\n",
    "            'description': 'Assesses understanding of written text.',\n",
    "            'positive': 'Good understanding of written text.',\n",
    "            'negative': 'Difficulty understanding written text.'\n",
    "        },\n",
    "        'Fluency': {\n",
    "            'description': 'Evaluates the smoothness, speed, and expression in reading.',\n",
    "            'positive': 'Smooth, fast, and expressive reading.',\n",
    "            'negative': 'Halting, slow, and monotone reading.'\n",
    "        },\n",
    "        'Dyslexia Severity': {\n",
    "            'description': 'Assesses the severity of dyslexia and related reading difficulties.',\n",
    "            'positive': 'Mild impact of dyslexia on reading and learning.',\n",
    "            'negative': 'Severe dyslexia affecting all aspects of reading and learning.'\n",
    "        }\n",
    "    }\n",
    "\n",
    "\n",
    "    # Identify the best and worst attributes\n",
    "    best_attribute, worst_attribute, best_index, worst_index = identify_best_worst_attributes(new_student[0], attribute_names)\n",
    "\n",
    "    # Calculate the percentile rank for the best and worst attributes\n",
    "    best_attribute_percentile = new_student[0, best_index]\n",
    "    worst_attribute_percentile = new_student[0, worst_index]\n",
    "\n",
    "    # Best and worst attribute descriptions\n",
    "    best_attribute_description = get_attribute_description(best_attribute, attribute_descriptions, best=True)\n",
    "    worst_attribute_description = get_attribute_description(worst_attribute, attribute_descriptions, best=False)\n",
    "\n",
    "\n",
    "    # Plot student performance\n",
    "    plot_student_performance(\n",
    "        overall_percentile, \n",
    "        best_attribute, \n",
    "        best_attribute_percentile, \n",
    "        worst_attribute, \n",
    "        worst_attribute_percentile, \n",
    "        best_attribute_description, \n",
    "        worst_attribute_description, \n",
    "        prediction_label\n",
    "    )\n",
    "\n",
    "# Call the main function to execute the script\n",
    "if __name__ == \"__main__\":\n",
    "    main()\n"
   ]
  },
  {
   "cell_type": "markdown",
   "id": "4f50011a",
   "metadata": {},
   "source": []
  }
 ],
 "metadata": {
  "kernelspec": {
   "display_name": "Python 3 (ipykernel)",
   "language": "python",
   "name": "python3"
  },
  "language_info": {
   "codemirror_mode": {
    "name": "ipython",
    "version": 3
   },
   "file_extension": ".py",
   "mimetype": "text/x-python",
   "name": "python",
   "nbconvert_exporter": "python",
   "pygments_lexer": "ipython3",
   "version": "3.9.12"
  }
 },
 "nbformat": 4,
 "nbformat_minor": 5
}
