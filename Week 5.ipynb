{
 "cells": [
  {
   "cell_type": "code",
   "execution_count": 2,
   "id": "f8937fa6",
   "metadata": {},
   "outputs": [],
   "source": [
    "import numpy as np\n",
    "from sklearn.datasets import load_iris\n",
    "from sklearn.model_selection import train_test_split, GridSearchCV, learning_curve\n",
    "from sklearn.preprocessing import StandardScaler, Normalizer\n",
    "from sklearn.decomposition import PCA\n",
    "from sklearn.linear_model import Ridge\n",
    "from sklearn.ensemble import RandomForestClassifier, BaggingClassifier, AdaBoostClassifier\n",
    "from sklearn.neighbors import KNeighborsClassifier\n",
    "from imblearn.pipeline import Pipeline as ImbPipeline\n",
    "from sklearn.metrics import accuracy_score, classification_report, precision_recall_curve, average_precision_score\n",
    "from xgboost import XGBClassifier\n",
    "from imblearn.over_sampling import SMOTE\n",
    "import pandas as pd\n",
    "import matplotlib.pyplot as plt\n",
    "import seaborn as sns"
   ]
  },
  {
   "cell_type": "code",
   "execution_count": 3,
   "id": "9f708a11",
   "metadata": {
    "scrolled": true
   },
   "outputs": [
    {
     "name": "stdout",
     "output_type": "stream",
     "text": [
      "   Child 1 Percentile Child 2 Percentile Child 3 Percentile  \\\n",
      "0                  12                  9                 16   \n",
      "1                   7                  5                 12   \n",
      "2                  16                 13                  9   \n",
      "3                  70                 84                 70   \n",
      "4                  79                 75                 63   \n",
      "5                  32                 30                 37   \n",
      "6                  21                 25                 25   \n",
      "7                   4                  2                  5   \n",
      "8                   5                  3                  7   \n",
      "9                   2                  1                  2   \n",
      "10                  2                  2                  3   \n",
      "11                  4                  3                  5   \n",
      "12                  5                  2                  4   \n",
      "13                  7                  5                  6   \n",
      "14                  9                  7                 10   \n",
      "15                  8                  6                 11   \n",
      "16                 10                  9                 13   \n",
      "17                 10                  8                 12   \n",
      "18                 15                 12                 14   \n",
      "19                  2                  2                  2   \n",
      "\n",
      "   Child 4 Percentile Child 5 Percentile Child 6 Percentile  \\\n",
      "0                  25                 30                 35   \n",
      "1                  28                 32                 34   \n",
      "2                  26                 29                 33   \n",
      "3                  65                 70                 75   \n",
      "4                  67                 72                 74   \n",
      "5                  50                 45                 55   \n",
      "6                  52                 47                 57   \n",
      "7                  22                 27                 32   \n",
      "8                  24                 29                 34   \n",
      "9                  20                 25                 30   \n",
      "10                 22                 26                 31   \n",
      "11                 18                 23                 28   \n",
      "12                 19                 24                 29   \n",
      "13                 21                 26                 31   \n",
      "14                 20                 25                 30   \n",
      "15                 23                 28                 33   \n",
      "16                 24                 29                 34   \n",
      "17                 21                 26                 31   \n",
      "18                 22                 27                 32   \n",
      "19                  1                  1                  1   \n",
      "\n",
      "   Child 7 Percentile Child 8 Percentile Child 9 Percentile  \n",
      "0                  50                 55                 60  \n",
      "1                  48                 53                 58  \n",
      "2                  52                 57                 62  \n",
      "3                  80                 85                 90  \n",
      "4                  82                 87                 92  \n",
      "5                  65                 70                 75  \n",
      "6                  62                 68                 73  \n",
      "7                  45                 50                 55  \n",
      "8                  47                 52                 57  \n",
      "9                  42                 47                 52  \n",
      "10                 44                 49                 54  \n",
      "11                 40                 45                 50  \n",
      "12                 41                 46                 51  \n",
      "13                 43                 48                 53  \n",
      "14                 42                 47                 52  \n",
      "15                 44                 49                 54  \n",
      "16                 46                 51                 56  \n",
      "17                 40                 45                 50  \n",
      "18                 41                 46                 51  \n",
      "19                  0                  0                  0  \n",
      "[[12.  7. 16. 70. 79. 32. 21.  4.  5.  2.  2.  4.  5.  7.  9.  8. 10. 10.\n",
      "  15.]\n",
      " [ 9.  5. 13. 84. 75. 30. 25.  2.  3.  1.  2.  3.  2.  5.  7.  6.  9.  8.\n",
      "  12.]\n",
      " [16. 12.  9. 70. 63. 37. 25.  5.  7.  2.  3.  5.  4.  6. 10. 11. 13. 12.\n",
      "  14.]\n",
      " [25. 28. 26. 65. 67. 50. 52. 22. 24. 20. 22. 18. 19. 21. 20. 23. 24. 21.\n",
      "  22.]\n",
      " [30. 32. 29. 70. 72. 45. 47. 27. 29. 25. 26. 23. 24. 26. 25. 28. 29. 26.\n",
      "  27.]\n",
      " [35. 34. 33. 75. 74. 55. 57. 32. 34. 30. 31. 28. 29. 31. 30. 33. 34. 31.\n",
      "  32.]\n",
      " [50. 48. 52. 80. 82. 65. 62. 45. 47. 42. 44. 40. 41. 43. 42. 44. 46. 40.\n",
      "  41.]\n",
      " [55. 53. 57. 85. 87. 70. 68. 50. 52. 47. 49. 45. 46. 48. 47. 49. 51. 45.\n",
      "  46.]\n",
      " [60. 58. 62. 90. 92. 75. 73. 55. 57. 52. 54. 50. 51. 53. 52. 54. 56. 50.\n",
      "  51.]]\n"
     ]
    },
    {
     "name": "stderr",
     "output_type": "stream",
     "text": [
      "C:\\Users\\antho\\AppData\\Local\\Temp\\ipykernel_13232\\337534086.py:5: DeprecationWarning: `np.float` is a deprecated alias for the builtin `float`. To silence this warning, use `float` by itself. Doing this will not modify any behavior and is safe. If you specifically wanted the numpy scalar type, use `np.float64` here.\n",
      "Deprecated in NumPy 1.20; for more details and guidance: https://numpy.org/devdocs/release/1.20.0-notes.html#deprecations\n",
      "  X = Data.iloc[0:19].values.T.astype(np.float)\n",
      "C:\\Users\\antho\\AppData\\Local\\Temp\\ipykernel_13232\\337534086.py:6: DeprecationWarning: `np.int` is a deprecated alias for the builtin `int`. To silence this warning, use `int` by itself. Doing this will not modify any behavior and is safe. When replacing `np.int`, you may wish to use e.g. `np.int64` or `np.int32` to specify the precision. If you wish to review your current use, check the release note link for additional information.\n",
      "Deprecated in NumPy 1.20; for more details and guidance: https://numpy.org/devdocs/release/1.20.0-notes.html#deprecations\n",
      "  y = Data.iloc[19].values.astype(np.int)\n"
     ]
    }
   ],
   "source": [
    "file_path = r\"C:\\Users\\antho\\OneDrive - University College Dublin\\ACM20030 1\\ALPACA\\WISCndALPACA.csv\"\n",
    "Data = pd.read_csv(file_path).drop(columns=[\"Category\", \"Subtest/Assessment\"])\n",
    "Data.replace({'No Dyslexia': 0, 'Mild': 1, 'Severe': 2}, inplace=True)\n",
    "print(Data)\n",
    "X = Data.iloc[0:19].values.T.astype(np.float)\n",
    "y = Data.iloc[19].values.astype(np.int)\n",
    "print(X)"
   ]
  },
  {
   "cell_type": "code",
   "execution_count": 62,
   "id": "8d6fbab5",
   "metadata": {},
   "outputs": [
    {
     "name": "stdout",
     "output_type": "stream",
     "text": [
      "Fitting 2 folds for each of 120 candidates, totalling 240 fits\n"
     ]
    },
    {
     "name": "stderr",
     "output_type": "stream",
     "text": [
      "C:\\Users\\antho\\AppData\\Roaming\\Python\\Python39\\site-packages\\sklearn\\ensemble\\_base.py:156: FutureWarning: `base_estimator` was renamed to `estimator` in version 1.2 and will be removed in 1.4.\n",
      "  warnings.warn(\n",
      "C:\\Users\\antho\\AppData\\Roaming\\Python\\Python39\\site-packages\\sklearn\\model_selection\\_validation.py:821: UserWarning: Scoring failed. The score on this train-test partition for these parameters will be set to nan. Details: \n",
      "Traceback (most recent call last):\n",
      "  File \"C:\\Users\\antho\\AppData\\Roaming\\Python\\Python39\\site-packages\\sklearn\\model_selection\\_validation.py\", line 810, in _score\n",
      "    scores = scorer(estimator, X_test, y_test)\n",
      "  File \"C:\\Users\\antho\\AppData\\Roaming\\Python\\Python39\\site-packages\\sklearn\\metrics\\_scorer.py\", line 266, in __call__\n",
      "    return self._score(partial(_cached_call, None), estimator, X, y_true, **_kwargs)\n",
      "  File \"C:\\Users\\antho\\AppData\\Roaming\\Python\\Python39\\site-packages\\sklearn\\metrics\\_scorer.py\", line 355, in _score\n",
      "    return self._sign * self._score_func(y_true, y_pred, **scoring_kwargs)\n",
      "  File \"C:\\Users\\antho\\AppData\\Roaming\\Python\\Python39\\site-packages\\sklearn\\utils\\_param_validation.py\", line 214, in wrapper\n",
      "    return func(*args, **kwargs)\n",
      "  File \"C:\\Users\\antho\\AppData\\Roaming\\Python\\Python39\\site-packages\\sklearn\\metrics\\_classification.py\", line 2304, in recall_score\n",
      "    _, r, _, _ = precision_recall_fscore_support(\n",
      "  File \"C:\\Users\\antho\\AppData\\Roaming\\Python\\Python39\\site-packages\\sklearn\\utils\\_param_validation.py\", line 187, in wrapper\n",
      "    return func(*args, **kwargs)\n",
      "  File \"C:\\Users\\antho\\AppData\\Roaming\\Python\\Python39\\site-packages\\sklearn\\metrics\\_classification.py\", line 1724, in precision_recall_fscore_support\n",
      "    labels = _check_set_wise_labels(y_true, y_pred, average, labels, pos_label)\n",
      "  File \"C:\\Users\\antho\\AppData\\Roaming\\Python\\Python39\\site-packages\\sklearn\\metrics\\_classification.py\", line 1518, in _check_set_wise_labels\n",
      "    raise ValueError(\n",
      "ValueError: Target is multiclass but average='binary'. Please choose another average setting, one of [None, 'micro', 'macro', 'weighted'].\n",
      "\n",
      "  warnings.warn(\n",
      "C:\\Users\\antho\\AppData\\Roaming\\Python\\Python39\\site-packages\\sklearn\\ensemble\\_base.py:156: FutureWarning: `base_estimator` was renamed to `estimator` in version 1.2 and will be removed in 1.4.\n",
      "  warnings.warn(\n",
      "C:\\Users\\antho\\AppData\\Roaming\\Python\\Python39\\site-packages\\sklearn\\model_selection\\_validation.py:821: UserWarning: Scoring failed. The score on this train-test partition for these parameters will be set to nan. Details: \n",
      "Traceback (most recent call last):\n",
      "  File \"C:\\Users\\antho\\AppData\\Roaming\\Python\\Python39\\site-packages\\sklearn\\model_selection\\_validation.py\", line 810, in _score\n",
      "    scores = scorer(estimator, X_test, y_test)\n",
      "  File \"C:\\Users\\antho\\AppData\\Roaming\\Python\\Python39\\site-packages\\sklearn\\metrics\\_scorer.py\", line 266, in __call__\n",
      "    return self._score(partial(_cached_call, None), estimator, X, y_true, **_kwargs)\n",
      "  File \"C:\\Users\\antho\\AppData\\Roaming\\Python\\Python39\\site-packages\\sklearn\\metrics\\_scorer.py\", line 355, in _score\n",
      "    return self._sign * self._score_func(y_true, y_pred, **scoring_kwargs)\n",
      "  File \"C:\\Users\\antho\\AppData\\Roaming\\Python\\Python39\\site-packages\\sklearn\\utils\\_param_validation.py\", line 214, in wrapper\n",
      "    return func(*args, **kwargs)\n",
      "  File \"C:\\Users\\antho\\AppData\\Roaming\\Python\\Python39\\site-packages\\sklearn\\metrics\\_classification.py\", line 2304, in recall_score\n",
      "    _, r, _, _ = precision_recall_fscore_support(\n",
      "  File \"C:\\Users\\antho\\AppData\\Roaming\\Python\\Python39\\site-packages\\sklearn\\utils\\_param_validation.py\", line 187, in wrapper\n",
      "    return func(*args, **kwargs)\n",
      "  File \"C:\\Users\\antho\\AppData\\Roaming\\Python\\Python39\\site-packages\\sklearn\\metrics\\_classification.py\", line 1724, in precision_recall_fscore_support\n",
      "    labels = _check_set_wise_labels(y_true, y_pred, average, labels, pos_label)\n",
      "  File \"C:\\Users\\antho\\AppData\\Roaming\\Python\\Python39\\site-packages\\sklearn\\metrics\\_classification.py\", line 1518, in _check_set_wise_labels\n",
      "    raise ValueError(\n",
      "ValueError: Target is multiclass but average='binary'. Please choose another average setting, one of [None, 'micro', 'macro', 'weighted'].\n",
      "\n",
      "  warnings.warn(\n",
      "C:\\Users\\antho\\AppData\\Roaming\\Python\\Python39\\site-packages\\sklearn\\ensemble\\_base.py:156: FutureWarning: `base_estimator` was renamed to `estimator` in version 1.2 and will be removed in 1.4.\n",
      "  warnings.warn(\n",
      "C:\\Users\\antho\\AppData\\Roaming\\Python\\Python39\\site-packages\\sklearn\\model_selection\\_validation.py:821: UserWarning: Scoring failed. The score on this train-test partition for these parameters will be set to nan. Details: \n",
      "Traceback (most recent call last):\n",
      "  File \"C:\\Users\\antho\\AppData\\Roaming\\Python\\Python39\\site-packages\\sklearn\\model_selection\\_validation.py\", line 810, in _score\n",
      "    scores = scorer(estimator, X_test, y_test)\n",
      "  File \"C:\\Users\\antho\\AppData\\Roaming\\Python\\Python39\\site-packages\\sklearn\\metrics\\_scorer.py\", line 266, in __call__\n",
      "    return self._score(partial(_cached_call, None), estimator, X, y_true, **_kwargs)\n",
      "  File \"C:\\Users\\antho\\AppData\\Roaming\\Python\\Python39\\site-packages\\sklearn\\metrics\\_scorer.py\", line 355, in _score\n",
      "    return self._sign * self._score_func(y_true, y_pred, **scoring_kwargs)\n",
      "  File \"C:\\Users\\antho\\AppData\\Roaming\\Python\\Python39\\site-packages\\sklearn\\utils\\_param_validation.py\", line 214, in wrapper\n",
      "    return func(*args, **kwargs)\n",
      "  File \"C:\\Users\\antho\\AppData\\Roaming\\Python\\Python39\\site-packages\\sklearn\\metrics\\_classification.py\", line 2304, in recall_score\n",
      "    _, r, _, _ = precision_recall_fscore_support(\n",
      "  File \"C:\\Users\\antho\\AppData\\Roaming\\Python\\Python39\\site-packages\\sklearn\\utils\\_param_validation.py\", line 187, in wrapper\n",
      "    return func(*args, **kwargs)\n",
      "  File \"C:\\Users\\antho\\AppData\\Roaming\\Python\\Python39\\site-packages\\sklearn\\metrics\\_classification.py\", line 1724, in precision_recall_fscore_support\n",
      "    labels = _check_set_wise_labels(y_true, y_pred, average, labels, pos_label)\n",
      "  File \"C:\\Users\\antho\\AppData\\Roaming\\Python\\Python39\\site-packages\\sklearn\\metrics\\_classification.py\", line 1518, in _check_set_wise_labels\n",
      "    raise ValueError(\n",
      "ValueError: Target is multiclass but average='binary'. Please choose another average setting, one of [None, 'micro', 'macro', 'weighted'].\n",
      "\n",
      "  warnings.warn(\n",
      "C:\\Users\\antho\\AppData\\Roaming\\Python\\Python39\\site-packages\\sklearn\\ensemble\\_base.py:156: FutureWarning: `base_estimator` was renamed to `estimator` in version 1.2 and will be removed in 1.4.\n",
      "  warnings.warn(\n",
      "C:\\Users\\antho\\AppData\\Roaming\\Python\\Python39\\site-packages\\sklearn\\model_selection\\_validation.py:821: UserWarning: Scoring failed. The score on this train-test partition for these parameters will be set to nan. Details: \n",
      "Traceback (most recent call last):\n",
      "  File \"C:\\Users\\antho\\AppData\\Roaming\\Python\\Python39\\site-packages\\sklearn\\model_selection\\_validation.py\", line 810, in _score\n",
      "    scores = scorer(estimator, X_test, y_test)\n",
      "  File \"C:\\Users\\antho\\AppData\\Roaming\\Python\\Python39\\site-packages\\sklearn\\metrics\\_scorer.py\", line 266, in __call__\n",
      "    return self._score(partial(_cached_call, None), estimator, X, y_true, **_kwargs)\n",
      "  File \"C:\\Users\\antho\\AppData\\Roaming\\Python\\Python39\\site-packages\\sklearn\\metrics\\_scorer.py\", line 355, in _score\n",
      "    return self._sign * self._score_func(y_true, y_pred, **scoring_kwargs)\n",
      "  File \"C:\\Users\\antho\\AppData\\Roaming\\Python\\Python39\\site-packages\\sklearn\\utils\\_param_validation.py\", line 214, in wrapper\n",
      "    return func(*args, **kwargs)\n",
      "  File \"C:\\Users\\antho\\AppData\\Roaming\\Python\\Python39\\site-packages\\sklearn\\metrics\\_classification.py\", line 2304, in recall_score\n",
      "    _, r, _, _ = precision_recall_fscore_support(\n",
      "  File \"C:\\Users\\antho\\AppData\\Roaming\\Python\\Python39\\site-packages\\sklearn\\utils\\_param_validation.py\", line 187, in wrapper\n",
      "    return func(*args, **kwargs)\n",
      "  File \"C:\\Users\\antho\\AppData\\Roaming\\Python\\Python39\\site-packages\\sklearn\\metrics\\_classification.py\", line 1724, in precision_recall_fscore_support\n",
      "    labels = _check_set_wise_labels(y_true, y_pred, average, labels, pos_label)\n",
      "  File \"C:\\Users\\antho\\AppData\\Roaming\\Python\\Python39\\site-packages\\sklearn\\metrics\\_classification.py\", line 1518, in _check_set_wise_labels\n",
      "    raise ValueError(\n",
      "ValueError: Target is multiclass but average='binary'. Please choose another average setting, one of [None, 'micro', 'macro', 'weighted'].\n",
      "\n",
      "  warnings.warn(\n",
      "C:\\Users\\antho\\AppData\\Roaming\\Python\\Python39\\site-packages\\sklearn\\ensemble\\_base.py:156: FutureWarning: `base_estimator` was renamed to `estimator` in version 1.2 and will be removed in 1.4.\n",
      "  warnings.warn(\n"
     ]
    },
    {
     "name": "stderr",
     "output_type": "stream",
     "text": [
      "C:\\Users\\antho\\AppData\\Roaming\\Python\\Python39\\site-packages\\sklearn\\model_selection\\_validation.py:821: UserWarning: Scoring failed. The score on this train-test partition for these parameters will be set to nan. Details: \n",
      "Traceback (most recent call last):\n",
      "  File \"C:\\Users\\antho\\AppData\\Roaming\\Python\\Python39\\site-packages\\sklearn\\model_selection\\_validation.py\", line 810, in _score\n",
      "    scores = scorer(estimator, X_test, y_test)\n",
      "  File \"C:\\Users\\antho\\AppData\\Roaming\\Python\\Python39\\site-packages\\sklearn\\metrics\\_scorer.py\", line 266, in __call__\n",
      "    return self._score(partial(_cached_call, None), estimator, X, y_true, **_kwargs)\n",
      "  File \"C:\\Users\\antho\\AppData\\Roaming\\Python\\Python39\\site-packages\\sklearn\\metrics\\_scorer.py\", line 355, in _score\n",
      "    return self._sign * self._score_func(y_true, y_pred, **scoring_kwargs)\n",
      "  File \"C:\\Users\\antho\\AppData\\Roaming\\Python\\Python39\\site-packages\\sklearn\\utils\\_param_validation.py\", line 214, in wrapper\n",
      "    return func(*args, **kwargs)\n",
      "  File \"C:\\Users\\antho\\AppData\\Roaming\\Python\\Python39\\site-packages\\sklearn\\metrics\\_classification.py\", line 2304, in recall_score\n",
      "    _, r, _, _ = precision_recall_fscore_support(\n",
      "  File \"C:\\Users\\antho\\AppData\\Roaming\\Python\\Python39\\site-packages\\sklearn\\utils\\_param_validation.py\", line 187, in wrapper\n",
      "    return func(*args, **kwargs)\n",
      "  File \"C:\\Users\\antho\\AppData\\Roaming\\Python\\Python39\\site-packages\\sklearn\\metrics\\_classification.py\", line 1724, in precision_recall_fscore_support\n",
      "    labels = _check_set_wise_labels(y_true, y_pred, average, labels, pos_label)\n",
      "  File \"C:\\Users\\antho\\AppData\\Roaming\\Python\\Python39\\site-packages\\sklearn\\metrics\\_classification.py\", line 1518, in _check_set_wise_labels\n",
      "    raise ValueError(\n",
      "ValueError: Target is multiclass but average='binary'. Please choose another average setting, one of [None, 'micro', 'macro', 'weighted'].\n",
      "\n",
      "  warnings.warn(\n",
      "C:\\Users\\antho\\AppData\\Roaming\\Python\\Python39\\site-packages\\sklearn\\ensemble\\_base.py:156: FutureWarning: `base_estimator` was renamed to `estimator` in version 1.2 and will be removed in 1.4.\n",
      "  warnings.warn(\n",
      "C:\\Users\\antho\\AppData\\Roaming\\Python\\Python39\\site-packages\\sklearn\\model_selection\\_validation.py:821: UserWarning: Scoring failed. The score on this train-test partition for these parameters will be set to nan. Details: \n",
      "Traceback (most recent call last):\n",
      "  File \"C:\\Users\\antho\\AppData\\Roaming\\Python\\Python39\\site-packages\\sklearn\\model_selection\\_validation.py\", line 810, in _score\n",
      "    scores = scorer(estimator, X_test, y_test)\n",
      "  File \"C:\\Users\\antho\\AppData\\Roaming\\Python\\Python39\\site-packages\\sklearn\\metrics\\_scorer.py\", line 266, in __call__\n",
      "    return self._score(partial(_cached_call, None), estimator, X, y_true, **_kwargs)\n",
      "  File \"C:\\Users\\antho\\AppData\\Roaming\\Python\\Python39\\site-packages\\sklearn\\metrics\\_scorer.py\", line 355, in _score\n",
      "    return self._sign * self._score_func(y_true, y_pred, **scoring_kwargs)\n",
      "  File \"C:\\Users\\antho\\AppData\\Roaming\\Python\\Python39\\site-packages\\sklearn\\utils\\_param_validation.py\", line 214, in wrapper\n",
      "    return func(*args, **kwargs)\n",
      "  File \"C:\\Users\\antho\\AppData\\Roaming\\Python\\Python39\\site-packages\\sklearn\\metrics\\_classification.py\", line 2304, in recall_score\n",
      "    _, r, _, _ = precision_recall_fscore_support(\n",
      "  File \"C:\\Users\\antho\\AppData\\Roaming\\Python\\Python39\\site-packages\\sklearn\\utils\\_param_validation.py\", line 187, in wrapper\n",
      "    return func(*args, **kwargs)\n",
      "  File \"C:\\Users\\antho\\AppData\\Roaming\\Python\\Python39\\site-packages\\sklearn\\metrics\\_classification.py\", line 1724, in precision_recall_fscore_support\n",
      "    labels = _check_set_wise_labels(y_true, y_pred, average, labels, pos_label)\n",
      "  File \"C:\\Users\\antho\\AppData\\Roaming\\Python\\Python39\\site-packages\\sklearn\\metrics\\_classification.py\", line 1518, in _check_set_wise_labels\n",
      "    raise ValueError(\n",
      "ValueError: Target is multiclass but average='binary'. Please choose another average setting, one of [None, 'micro', 'macro', 'weighted'].\n",
      "\n",
      "  warnings.warn(\n",
      "C:\\Users\\antho\\AppData\\Roaming\\Python\\Python39\\site-packages\\sklearn\\ensemble\\_base.py:156: FutureWarning: `base_estimator` was renamed to `estimator` in version 1.2 and will be removed in 1.4.\n",
      "  warnings.warn(\n",
      "C:\\Users\\antho\\AppData\\Roaming\\Python\\Python39\\site-packages\\sklearn\\model_selection\\_validation.py:821: UserWarning: Scoring failed. The score on this train-test partition for these parameters will be set to nan. Details: \n",
      "Traceback (most recent call last):\n",
      "  File \"C:\\Users\\antho\\AppData\\Roaming\\Python\\Python39\\site-packages\\sklearn\\model_selection\\_validation.py\", line 810, in _score\n",
      "    scores = scorer(estimator, X_test, y_test)\n",
      "  File \"C:\\Users\\antho\\AppData\\Roaming\\Python\\Python39\\site-packages\\sklearn\\metrics\\_scorer.py\", line 266, in __call__\n",
      "    return self._score(partial(_cached_call, None), estimator, X, y_true, **_kwargs)\n",
      "  File \"C:\\Users\\antho\\AppData\\Roaming\\Python\\Python39\\site-packages\\sklearn\\metrics\\_scorer.py\", line 355, in _score\n",
      "    return self._sign * self._score_func(y_true, y_pred, **scoring_kwargs)\n",
      "  File \"C:\\Users\\antho\\AppData\\Roaming\\Python\\Python39\\site-packages\\sklearn\\utils\\_param_validation.py\", line 214, in wrapper\n",
      "    return func(*args, **kwargs)\n",
      "  File \"C:\\Users\\antho\\AppData\\Roaming\\Python\\Python39\\site-packages\\sklearn\\metrics\\_classification.py\", line 2304, in recall_score\n",
      "    _, r, _, _ = precision_recall_fscore_support(\n",
      "  File \"C:\\Users\\antho\\AppData\\Roaming\\Python\\Python39\\site-packages\\sklearn\\utils\\_param_validation.py\", line 187, in wrapper\n",
      "    return func(*args, **kwargs)\n",
      "  File \"C:\\Users\\antho\\AppData\\Roaming\\Python\\Python39\\site-packages\\sklearn\\metrics\\_classification.py\", line 1724, in precision_recall_fscore_support\n",
      "    labels = _check_set_wise_labels(y_true, y_pred, average, labels, pos_label)\n",
      "  File \"C:\\Users\\antho\\AppData\\Roaming\\Python\\Python39\\site-packages\\sklearn\\metrics\\_classification.py\", line 1518, in _check_set_wise_labels\n",
      "    raise ValueError(\n",
      "ValueError: Target is multiclass but average='binary'. Please choose another average setting, one of [None, 'micro', 'macro', 'weighted'].\n",
      "\n",
      "  warnings.warn(\n",
      "C:\\Users\\antho\\AppData\\Roaming\\Python\\Python39\\site-packages\\sklearn\\ensemble\\_base.py:156: FutureWarning: `base_estimator` was renamed to `estimator` in version 1.2 and will be removed in 1.4.\n",
      "  warnings.warn(\n",
      "C:\\Users\\antho\\AppData\\Roaming\\Python\\Python39\\site-packages\\sklearn\\model_selection\\_validation.py:821: UserWarning: Scoring failed. The score on this train-test partition for these parameters will be set to nan. Details: \n",
      "Traceback (most recent call last):\n",
      "  File \"C:\\Users\\antho\\AppData\\Roaming\\Python\\Python39\\site-packages\\sklearn\\model_selection\\_validation.py\", line 810, in _score\n",
      "    scores = scorer(estimator, X_test, y_test)\n",
      "  File \"C:\\Users\\antho\\AppData\\Roaming\\Python\\Python39\\site-packages\\sklearn\\metrics\\_scorer.py\", line 266, in __call__\n",
      "    return self._score(partial(_cached_call, None), estimator, X, y_true, **_kwargs)\n",
      "  File \"C:\\Users\\antho\\AppData\\Roaming\\Python\\Python39\\site-packages\\sklearn\\metrics\\_scorer.py\", line 355, in _score\n",
      "    return self._sign * self._score_func(y_true, y_pred, **scoring_kwargs)\n",
      "  File \"C:\\Users\\antho\\AppData\\Roaming\\Python\\Python39\\site-packages\\sklearn\\utils\\_param_validation.py\", line 214, in wrapper\n",
      "    return func(*args, **kwargs)\n",
      "  File \"C:\\Users\\antho\\AppData\\Roaming\\Python\\Python39\\site-packages\\sklearn\\metrics\\_classification.py\", line 2304, in recall_score\n",
      "    _, r, _, _ = precision_recall_fscore_support(\n",
      "  File \"C:\\Users\\antho\\AppData\\Roaming\\Python\\Python39\\site-packages\\sklearn\\utils\\_param_validation.py\", line 187, in wrapper\n",
      "    return func(*args, **kwargs)\n",
      "  File \"C:\\Users\\antho\\AppData\\Roaming\\Python\\Python39\\site-packages\\sklearn\\metrics\\_classification.py\", line 1724, in precision_recall_fscore_support\n",
      "    labels = _check_set_wise_labels(y_true, y_pred, average, labels, pos_label)\n",
      "  File \"C:\\Users\\antho\\AppData\\Roaming\\Python\\Python39\\site-packages\\sklearn\\metrics\\_classification.py\", line 1518, in _check_set_wise_labels\n",
      "    raise ValueError(\n",
      "ValueError: Target is multiclass but average='binary'. Please choose another average setting, one of [None, 'micro', 'macro', 'weighted'].\n",
      "\n",
      "  warnings.warn(\n",
      "C:\\Users\\antho\\AppData\\Roaming\\Python\\Python39\\site-packages\\sklearn\\ensemble\\_base.py:156: FutureWarning: `base_estimator` was renamed to `estimator` in version 1.2 and will be removed in 1.4.\n",
      "  warnings.warn(\n"
     ]
    },
    {
     "name": "stderr",
     "output_type": "stream",
     "text": [
      "C:\\Users\\antho\\AppData\\Roaming\\Python\\Python39\\site-packages\\sklearn\\model_selection\\_validation.py:821: UserWarning: Scoring failed. The score on this train-test partition for these parameters will be set to nan. Details: \n",
      "Traceback (most recent call last):\n",
      "  File \"C:\\Users\\antho\\AppData\\Roaming\\Python\\Python39\\site-packages\\sklearn\\model_selection\\_validation.py\", line 810, in _score\n",
      "    scores = scorer(estimator, X_test, y_test)\n",
      "  File \"C:\\Users\\antho\\AppData\\Roaming\\Python\\Python39\\site-packages\\sklearn\\metrics\\_scorer.py\", line 266, in __call__\n",
      "    return self._score(partial(_cached_call, None), estimator, X, y_true, **_kwargs)\n",
      "  File \"C:\\Users\\antho\\AppData\\Roaming\\Python\\Python39\\site-packages\\sklearn\\metrics\\_scorer.py\", line 355, in _score\n",
      "    return self._sign * self._score_func(y_true, y_pred, **scoring_kwargs)\n",
      "  File \"C:\\Users\\antho\\AppData\\Roaming\\Python\\Python39\\site-packages\\sklearn\\utils\\_param_validation.py\", line 214, in wrapper\n",
      "    return func(*args, **kwargs)\n",
      "  File \"C:\\Users\\antho\\AppData\\Roaming\\Python\\Python39\\site-packages\\sklearn\\metrics\\_classification.py\", line 2304, in recall_score\n",
      "    _, r, _, _ = precision_recall_fscore_support(\n",
      "  File \"C:\\Users\\antho\\AppData\\Roaming\\Python\\Python39\\site-packages\\sklearn\\utils\\_param_validation.py\", line 187, in wrapper\n",
      "    return func(*args, **kwargs)\n",
      "  File \"C:\\Users\\antho\\AppData\\Roaming\\Python\\Python39\\site-packages\\sklearn\\metrics\\_classification.py\", line 1724, in precision_recall_fscore_support\n",
      "    labels = _check_set_wise_labels(y_true, y_pred, average, labels, pos_label)\n",
      "  File \"C:\\Users\\antho\\AppData\\Roaming\\Python\\Python39\\site-packages\\sklearn\\metrics\\_classification.py\", line 1518, in _check_set_wise_labels\n",
      "    raise ValueError(\n",
      "ValueError: Target is multiclass but average='binary'. Please choose another average setting, one of [None, 'micro', 'macro', 'weighted'].\n",
      "\n",
      "  warnings.warn(\n",
      "C:\\Users\\antho\\AppData\\Roaming\\Python\\Python39\\site-packages\\sklearn\\ensemble\\_base.py:156: FutureWarning: `base_estimator` was renamed to `estimator` in version 1.2 and will be removed in 1.4.\n",
      "  warnings.warn(\n",
      "C:\\Users\\antho\\AppData\\Roaming\\Python\\Python39\\site-packages\\sklearn\\model_selection\\_validation.py:821: UserWarning: Scoring failed. The score on this train-test partition for these parameters will be set to nan. Details: \n",
      "Traceback (most recent call last):\n",
      "  File \"C:\\Users\\antho\\AppData\\Roaming\\Python\\Python39\\site-packages\\sklearn\\model_selection\\_validation.py\", line 810, in _score\n",
      "    scores = scorer(estimator, X_test, y_test)\n",
      "  File \"C:\\Users\\antho\\AppData\\Roaming\\Python\\Python39\\site-packages\\sklearn\\metrics\\_scorer.py\", line 266, in __call__\n",
      "    return self._score(partial(_cached_call, None), estimator, X, y_true, **_kwargs)\n",
      "  File \"C:\\Users\\antho\\AppData\\Roaming\\Python\\Python39\\site-packages\\sklearn\\metrics\\_scorer.py\", line 355, in _score\n",
      "    return self._sign * self._score_func(y_true, y_pred, **scoring_kwargs)\n",
      "  File \"C:\\Users\\antho\\AppData\\Roaming\\Python\\Python39\\site-packages\\sklearn\\utils\\_param_validation.py\", line 214, in wrapper\n",
      "    return func(*args, **kwargs)\n",
      "  File \"C:\\Users\\antho\\AppData\\Roaming\\Python\\Python39\\site-packages\\sklearn\\metrics\\_classification.py\", line 2304, in recall_score\n",
      "    _, r, _, _ = precision_recall_fscore_support(\n",
      "  File \"C:\\Users\\antho\\AppData\\Roaming\\Python\\Python39\\site-packages\\sklearn\\utils\\_param_validation.py\", line 187, in wrapper\n",
      "    return func(*args, **kwargs)\n",
      "  File \"C:\\Users\\antho\\AppData\\Roaming\\Python\\Python39\\site-packages\\sklearn\\metrics\\_classification.py\", line 1724, in precision_recall_fscore_support\n",
      "    labels = _check_set_wise_labels(y_true, y_pred, average, labels, pos_label)\n",
      "  File \"C:\\Users\\antho\\AppData\\Roaming\\Python\\Python39\\site-packages\\sklearn\\metrics\\_classification.py\", line 1518, in _check_set_wise_labels\n",
      "    raise ValueError(\n",
      "ValueError: Target is multiclass but average='binary'. Please choose another average setting, one of [None, 'micro', 'macro', 'weighted'].\n",
      "\n",
      "  warnings.warn(\n",
      "C:\\Users\\antho\\AppData\\Roaming\\Python\\Python39\\site-packages\\sklearn\\ensemble\\_base.py:156: FutureWarning: `base_estimator` was renamed to `estimator` in version 1.2 and will be removed in 1.4.\n",
      "  warnings.warn(\n",
      "C:\\Users\\antho\\AppData\\Roaming\\Python\\Python39\\site-packages\\sklearn\\model_selection\\_validation.py:821: UserWarning: Scoring failed. The score on this train-test partition for these parameters will be set to nan. Details: \n",
      "Traceback (most recent call last):\n",
      "  File \"C:\\Users\\antho\\AppData\\Roaming\\Python\\Python39\\site-packages\\sklearn\\model_selection\\_validation.py\", line 810, in _score\n",
      "    scores = scorer(estimator, X_test, y_test)\n",
      "  File \"C:\\Users\\antho\\AppData\\Roaming\\Python\\Python39\\site-packages\\sklearn\\metrics\\_scorer.py\", line 266, in __call__\n",
      "    return self._score(partial(_cached_call, None), estimator, X, y_true, **_kwargs)\n",
      "  File \"C:\\Users\\antho\\AppData\\Roaming\\Python\\Python39\\site-packages\\sklearn\\metrics\\_scorer.py\", line 355, in _score\n",
      "    return self._sign * self._score_func(y_true, y_pred, **scoring_kwargs)\n",
      "  File \"C:\\Users\\antho\\AppData\\Roaming\\Python\\Python39\\site-packages\\sklearn\\utils\\_param_validation.py\", line 214, in wrapper\n",
      "    return func(*args, **kwargs)\n",
      "  File \"C:\\Users\\antho\\AppData\\Roaming\\Python\\Python39\\site-packages\\sklearn\\metrics\\_classification.py\", line 2304, in recall_score\n",
      "    _, r, _, _ = precision_recall_fscore_support(\n",
      "  File \"C:\\Users\\antho\\AppData\\Roaming\\Python\\Python39\\site-packages\\sklearn\\utils\\_param_validation.py\", line 187, in wrapper\n",
      "    return func(*args, **kwargs)\n",
      "  File \"C:\\Users\\antho\\AppData\\Roaming\\Python\\Python39\\site-packages\\sklearn\\metrics\\_classification.py\", line 1724, in precision_recall_fscore_support\n",
      "    labels = _check_set_wise_labels(y_true, y_pred, average, labels, pos_label)\n",
      "  File \"C:\\Users\\antho\\AppData\\Roaming\\Python\\Python39\\site-packages\\sklearn\\metrics\\_classification.py\", line 1518, in _check_set_wise_labels\n",
      "    raise ValueError(\n",
      "ValueError: Target is multiclass but average='binary'. Please choose another average setting, one of [None, 'micro', 'macro', 'weighted'].\n",
      "\n",
      "  warnings.warn(\n",
      "C:\\Users\\antho\\AppData\\Roaming\\Python\\Python39\\site-packages\\sklearn\\ensemble\\_base.py:156: FutureWarning: `base_estimator` was renamed to `estimator` in version 1.2 and will be removed in 1.4.\n",
      "  warnings.warn(\n",
      "C:\\Users\\antho\\AppData\\Roaming\\Python\\Python39\\site-packages\\sklearn\\model_selection\\_validation.py:821: UserWarning: Scoring failed. The score on this train-test partition for these parameters will be set to nan. Details: \n",
      "Traceback (most recent call last):\n",
      "  File \"C:\\Users\\antho\\AppData\\Roaming\\Python\\Python39\\site-packages\\sklearn\\model_selection\\_validation.py\", line 810, in _score\n",
      "    scores = scorer(estimator, X_test, y_test)\n",
      "  File \"C:\\Users\\antho\\AppData\\Roaming\\Python\\Python39\\site-packages\\sklearn\\metrics\\_scorer.py\", line 266, in __call__\n",
      "    return self._score(partial(_cached_call, None), estimator, X, y_true, **_kwargs)\n",
      "  File \"C:\\Users\\antho\\AppData\\Roaming\\Python\\Python39\\site-packages\\sklearn\\metrics\\_scorer.py\", line 355, in _score\n",
      "    return self._sign * self._score_func(y_true, y_pred, **scoring_kwargs)\n",
      "  File \"C:\\Users\\antho\\AppData\\Roaming\\Python\\Python39\\site-packages\\sklearn\\utils\\_param_validation.py\", line 214, in wrapper\n",
      "    return func(*args, **kwargs)\n",
      "  File \"C:\\Users\\antho\\AppData\\Roaming\\Python\\Python39\\site-packages\\sklearn\\metrics\\_classification.py\", line 2304, in recall_score\n",
      "    _, r, _, _ = precision_recall_fscore_support(\n",
      "  File \"C:\\Users\\antho\\AppData\\Roaming\\Python\\Python39\\site-packages\\sklearn\\utils\\_param_validation.py\", line 187, in wrapper\n",
      "    return func(*args, **kwargs)\n",
      "  File \"C:\\Users\\antho\\AppData\\Roaming\\Python\\Python39\\site-packages\\sklearn\\metrics\\_classification.py\", line 1724, in precision_recall_fscore_support\n",
      "    labels = _check_set_wise_labels(y_true, y_pred, average, labels, pos_label)\n",
      "  File \"C:\\Users\\antho\\AppData\\Roaming\\Python\\Python39\\site-packages\\sklearn\\metrics\\_classification.py\", line 1518, in _check_set_wise_labels\n",
      "    raise ValueError(\n",
      "ValueError: Target is multiclass but average='binary'. Please choose another average setting, one of [None, 'micro', 'macro', 'weighted'].\n",
      "\n",
      "  warnings.warn(\n",
      "C:\\Users\\antho\\AppData\\Roaming\\Python\\Python39\\site-packages\\sklearn\\ensemble\\_base.py:156: FutureWarning: `base_estimator` was renamed to `estimator` in version 1.2 and will be removed in 1.4.\n",
      "  warnings.warn(\n"
     ]
    },
    {
     "name": "stderr",
     "output_type": "stream",
     "text": [
      "C:\\Users\\antho\\AppData\\Roaming\\Python\\Python39\\site-packages\\sklearn\\model_selection\\_validation.py:821: UserWarning: Scoring failed. The score on this train-test partition for these parameters will be set to nan. Details: \n",
      "Traceback (most recent call last):\n",
      "  File \"C:\\Users\\antho\\AppData\\Roaming\\Python\\Python39\\site-packages\\sklearn\\model_selection\\_validation.py\", line 810, in _score\n",
      "    scores = scorer(estimator, X_test, y_test)\n",
      "  File \"C:\\Users\\antho\\AppData\\Roaming\\Python\\Python39\\site-packages\\sklearn\\metrics\\_scorer.py\", line 266, in __call__\n",
      "    return self._score(partial(_cached_call, None), estimator, X, y_true, **_kwargs)\n",
      "  File \"C:\\Users\\antho\\AppData\\Roaming\\Python\\Python39\\site-packages\\sklearn\\metrics\\_scorer.py\", line 355, in _score\n",
      "    return self._sign * self._score_func(y_true, y_pred, **scoring_kwargs)\n",
      "  File \"C:\\Users\\antho\\AppData\\Roaming\\Python\\Python39\\site-packages\\sklearn\\utils\\_param_validation.py\", line 214, in wrapper\n",
      "    return func(*args, **kwargs)\n",
      "  File \"C:\\Users\\antho\\AppData\\Roaming\\Python\\Python39\\site-packages\\sklearn\\metrics\\_classification.py\", line 2304, in recall_score\n",
      "    _, r, _, _ = precision_recall_fscore_support(\n",
      "  File \"C:\\Users\\antho\\AppData\\Roaming\\Python\\Python39\\site-packages\\sklearn\\utils\\_param_validation.py\", line 187, in wrapper\n",
      "    return func(*args, **kwargs)\n",
      "  File \"C:\\Users\\antho\\AppData\\Roaming\\Python\\Python39\\site-packages\\sklearn\\metrics\\_classification.py\", line 1724, in precision_recall_fscore_support\n",
      "    labels = _check_set_wise_labels(y_true, y_pred, average, labels, pos_label)\n",
      "  File \"C:\\Users\\antho\\AppData\\Roaming\\Python\\Python39\\site-packages\\sklearn\\metrics\\_classification.py\", line 1518, in _check_set_wise_labels\n",
      "    raise ValueError(\n",
      "ValueError: Target is multiclass but average='binary'. Please choose another average setting, one of [None, 'micro', 'macro', 'weighted'].\n",
      "\n",
      "  warnings.warn(\n",
      "C:\\Users\\antho\\AppData\\Roaming\\Python\\Python39\\site-packages\\sklearn\\ensemble\\_base.py:156: FutureWarning: `base_estimator` was renamed to `estimator` in version 1.2 and will be removed in 1.4.\n",
      "  warnings.warn(\n",
      "C:\\Users\\antho\\AppData\\Roaming\\Python\\Python39\\site-packages\\sklearn\\model_selection\\_validation.py:821: UserWarning: Scoring failed. The score on this train-test partition for these parameters will be set to nan. Details: \n",
      "Traceback (most recent call last):\n",
      "  File \"C:\\Users\\antho\\AppData\\Roaming\\Python\\Python39\\site-packages\\sklearn\\model_selection\\_validation.py\", line 810, in _score\n",
      "    scores = scorer(estimator, X_test, y_test)\n",
      "  File \"C:\\Users\\antho\\AppData\\Roaming\\Python\\Python39\\site-packages\\sklearn\\metrics\\_scorer.py\", line 266, in __call__\n",
      "    return self._score(partial(_cached_call, None), estimator, X, y_true, **_kwargs)\n",
      "  File \"C:\\Users\\antho\\AppData\\Roaming\\Python\\Python39\\site-packages\\sklearn\\metrics\\_scorer.py\", line 355, in _score\n",
      "    return self._sign * self._score_func(y_true, y_pred, **scoring_kwargs)\n",
      "  File \"C:\\Users\\antho\\AppData\\Roaming\\Python\\Python39\\site-packages\\sklearn\\utils\\_param_validation.py\", line 214, in wrapper\n",
      "    return func(*args, **kwargs)\n",
      "  File \"C:\\Users\\antho\\AppData\\Roaming\\Python\\Python39\\site-packages\\sklearn\\metrics\\_classification.py\", line 2304, in recall_score\n",
      "    _, r, _, _ = precision_recall_fscore_support(\n",
      "  File \"C:\\Users\\antho\\AppData\\Roaming\\Python\\Python39\\site-packages\\sklearn\\utils\\_param_validation.py\", line 187, in wrapper\n",
      "    return func(*args, **kwargs)\n",
      "  File \"C:\\Users\\antho\\AppData\\Roaming\\Python\\Python39\\site-packages\\sklearn\\metrics\\_classification.py\", line 1724, in precision_recall_fscore_support\n",
      "    labels = _check_set_wise_labels(y_true, y_pred, average, labels, pos_label)\n",
      "  File \"C:\\Users\\antho\\AppData\\Roaming\\Python\\Python39\\site-packages\\sklearn\\metrics\\_classification.py\", line 1518, in _check_set_wise_labels\n",
      "    raise ValueError(\n",
      "ValueError: Target is multiclass but average='binary'. Please choose another average setting, one of [None, 'micro', 'macro', 'weighted'].\n",
      "\n",
      "  warnings.warn(\n",
      "C:\\Users\\antho\\AppData\\Roaming\\Python\\Python39\\site-packages\\sklearn\\ensemble\\_base.py:156: FutureWarning: `base_estimator` was renamed to `estimator` in version 1.2 and will be removed in 1.4.\n",
      "  warnings.warn(\n",
      "C:\\Users\\antho\\AppData\\Roaming\\Python\\Python39\\site-packages\\sklearn\\model_selection\\_validation.py:821: UserWarning: Scoring failed. The score on this train-test partition for these parameters will be set to nan. Details: \n",
      "Traceback (most recent call last):\n",
      "  File \"C:\\Users\\antho\\AppData\\Roaming\\Python\\Python39\\site-packages\\sklearn\\model_selection\\_validation.py\", line 810, in _score\n",
      "    scores = scorer(estimator, X_test, y_test)\n",
      "  File \"C:\\Users\\antho\\AppData\\Roaming\\Python\\Python39\\site-packages\\sklearn\\metrics\\_scorer.py\", line 266, in __call__\n",
      "    return self._score(partial(_cached_call, None), estimator, X, y_true, **_kwargs)\n",
      "  File \"C:\\Users\\antho\\AppData\\Roaming\\Python\\Python39\\site-packages\\sklearn\\metrics\\_scorer.py\", line 355, in _score\n",
      "    return self._sign * self._score_func(y_true, y_pred, **scoring_kwargs)\n",
      "  File \"C:\\Users\\antho\\AppData\\Roaming\\Python\\Python39\\site-packages\\sklearn\\utils\\_param_validation.py\", line 214, in wrapper\n",
      "    return func(*args, **kwargs)\n",
      "  File \"C:\\Users\\antho\\AppData\\Roaming\\Python\\Python39\\site-packages\\sklearn\\metrics\\_classification.py\", line 2304, in recall_score\n",
      "    _, r, _, _ = precision_recall_fscore_support(\n",
      "  File \"C:\\Users\\antho\\AppData\\Roaming\\Python\\Python39\\site-packages\\sklearn\\utils\\_param_validation.py\", line 187, in wrapper\n",
      "    return func(*args, **kwargs)\n",
      "  File \"C:\\Users\\antho\\AppData\\Roaming\\Python\\Python39\\site-packages\\sklearn\\metrics\\_classification.py\", line 1724, in precision_recall_fscore_support\n",
      "    labels = _check_set_wise_labels(y_true, y_pred, average, labels, pos_label)\n",
      "  File \"C:\\Users\\antho\\AppData\\Roaming\\Python\\Python39\\site-packages\\sklearn\\metrics\\_classification.py\", line 1518, in _check_set_wise_labels\n",
      "    raise ValueError(\n",
      "ValueError: Target is multiclass but average='binary'. Please choose another average setting, one of [None, 'micro', 'macro', 'weighted'].\n",
      "\n",
      "  warnings.warn(\n",
      "C:\\Users\\antho\\AppData\\Roaming\\Python\\Python39\\site-packages\\sklearn\\ensemble\\_base.py:156: FutureWarning: `base_estimator` was renamed to `estimator` in version 1.2 and will be removed in 1.4.\n",
      "  warnings.warn(\n",
      "C:\\Users\\antho\\AppData\\Roaming\\Python\\Python39\\site-packages\\sklearn\\model_selection\\_validation.py:821: UserWarning: Scoring failed. The score on this train-test partition for these parameters will be set to nan. Details: \n",
      "Traceback (most recent call last):\n",
      "  File \"C:\\Users\\antho\\AppData\\Roaming\\Python\\Python39\\site-packages\\sklearn\\model_selection\\_validation.py\", line 810, in _score\n",
      "    scores = scorer(estimator, X_test, y_test)\n",
      "  File \"C:\\Users\\antho\\AppData\\Roaming\\Python\\Python39\\site-packages\\sklearn\\metrics\\_scorer.py\", line 266, in __call__\n",
      "    return self._score(partial(_cached_call, None), estimator, X, y_true, **_kwargs)\n",
      "  File \"C:\\Users\\antho\\AppData\\Roaming\\Python\\Python39\\site-packages\\sklearn\\metrics\\_scorer.py\", line 353, in _score\n",
      "    y_pred = method_caller(estimator, \"predict\", X)\n",
      "  File \"C:\\Users\\antho\\AppData\\Roaming\\Python\\Python39\\site-packages\\sklearn\\metrics\\_scorer.py\", line 86, in _cached_call\n",
      "    result, _ = _get_response_values(\n",
      "  File \"C:\\Users\\antho\\AppData\\Roaming\\Python\\Python39\\site-packages\\sklearn\\utils\\_response.py\", line 194, in _get_response_values\n",
      "    y_pred = prediction_method(X)\n",
      "  File \"C:\\Users\\antho\\anaconda3\\lib\\site-packages\\imblearn\\pipeline.py\", line 460, in predict\n",
      "    return self.steps[-1][1].predict(Xt, **params)\n",
      "  File \"C:\\Users\\antho\\AppData\\Roaming\\Python\\Python39\\site-packages\\sklearn\\ensemble\\_bagging.py\", line 827, in predict\n",
      "    predicted_probabilitiy = self.predict_proba(X)\n",
      "  File \"C:\\Users\\antho\\AppData\\Roaming\\Python\\Python39\\site-packages\\sklearn\\ensemble\\_bagging.py\", line 865, in predict_proba\n",
      "    all_proba = Parallel(\n",
      "  File \"C:\\Users\\antho\\AppData\\Roaming\\Python\\Python39\\site-packages\\sklearn\\utils\\parallel.py\", line 65, in __call__\n",
      "    return super().__call__(iterable_with_config)\n",
      "  File \"C:\\Users\\antho\\AppData\\Roaming\\Python\\Python39\\site-packages\\joblib\\parallel.py\", line 1863, in __call__\n",
      "    return output if self.return_generator else list(output)\n",
      "  File \"C:\\Users\\antho\\AppData\\Roaming\\Python\\Python39\\site-packages\\joblib\\parallel.py\", line 1792, in _get_sequential_output\n",
      "    res = func(*args, **kwargs)\n",
      "  File \"C:\\Users\\antho\\AppData\\Roaming\\Python\\Python39\\site-packages\\sklearn\\utils\\parallel.py\", line 127, in __call__\n",
      "    return self.function(*args, **kwargs)\n",
      "  File \"C:\\Users\\antho\\AppData\\Roaming\\Python\\Python39\\site-packages\\sklearn\\ensemble\\_bagging.py\", line 159, in _parallel_predict_proba\n",
      "    proba_estimator = estimator.predict_proba(X[:, features])\n",
      "  File \"C:\\Users\\antho\\AppData\\Roaming\\Python\\Python39\\site-packages\\sklearn\\neighbors\\_classification.py\", line 355, in predict_proba\n",
      "    neigh_ind = self.kneighbors(X, return_distance=False)\n",
      "  File \"C:\\Users\\antho\\AppData\\Roaming\\Python\\Python39\\site-packages\\sklearn\\neighbors\\_base.py\", line 808, in kneighbors\n",
      "    raise ValueError(\n",
      "ValueError: Expected n_neighbors <= n_samples,  but n_samples = 3, n_neighbors = 5\n",
      "\n",
      "  warnings.warn(\n",
      "C:\\Users\\antho\\AppData\\Roaming\\Python\\Python39\\site-packages\\sklearn\\ensemble\\_base.py:156: FutureWarning: `base_estimator` was renamed to `estimator` in version 1.2 and will be removed in 1.4.\n",
      "  warnings.warn(\n",
      "C:\\Users\\antho\\AppData\\Roaming\\Python\\Python39\\site-packages\\sklearn\\model_selection\\_validation.py:821: UserWarning: Scoring failed. The score on this train-test partition for these parameters will be set to nan. Details: \n",
      "Traceback (most recent call last):\n",
      "  File \"C:\\Users\\antho\\AppData\\Roaming\\Python\\Python39\\site-packages\\sklearn\\model_selection\\_validation.py\", line 810, in _score\n",
      "    scores = scorer(estimator, X_test, y_test)\n",
      "  File \"C:\\Users\\antho\\AppData\\Roaming\\Python\\Python39\\site-packages\\sklearn\\metrics\\_scorer.py\", line 266, in __call__\n",
      "    return self._score(partial(_cached_call, None), estimator, X, y_true, **_kwargs)\n",
      "  File \"C:\\Users\\antho\\AppData\\Roaming\\Python\\Python39\\site-packages\\sklearn\\metrics\\_scorer.py\", line 353, in _score\n",
      "    y_pred = method_caller(estimator, \"predict\", X)\n",
      "  File \"C:\\Users\\antho\\AppData\\Roaming\\Python\\Python39\\site-packages\\sklearn\\metrics\\_scorer.py\", line 86, in _cached_call\n",
      "    result, _ = _get_response_values(\n",
      "  File \"C:\\Users\\antho\\AppData\\Roaming\\Python\\Python39\\site-packages\\sklearn\\utils\\_response.py\", line 194, in _get_response_values\n",
      "    y_pred = prediction_method(X)\n",
      "  File \"C:\\Users\\antho\\anaconda3\\lib\\site-packages\\imblearn\\pipeline.py\", line 460, in predict\n",
      "    return self.steps[-1][1].predict(Xt, **params)\n",
      "  File \"C:\\Users\\antho\\AppData\\Roaming\\Python\\Python39\\site-packages\\sklearn\\ensemble\\_bagging.py\", line 827, in predict\n",
      "    predicted_probabilitiy = self.predict_proba(X)\n",
      "  File \"C:\\Users\\antho\\AppData\\Roaming\\Python\\Python39\\site-packages\\sklearn\\ensemble\\_bagging.py\", line 865, in predict_proba\n",
      "    all_proba = Parallel(\n",
      "  File \"C:\\Users\\antho\\AppData\\Roaming\\Python\\Python39\\site-packages\\sklearn\\utils\\parallel.py\", line 65, in __call__\n",
      "    return super().__call__(iterable_with_config)\n",
      "  File \"C:\\Users\\antho\\AppData\\Roaming\\Python\\Python39\\site-packages\\joblib\\parallel.py\", line 1863, in __call__\n",
      "    return output if self.return_generator else list(output)\n",
      "  File \"C:\\Users\\antho\\AppData\\Roaming\\Python\\Python39\\site-packages\\joblib\\parallel.py\", line 1792, in _get_sequential_output\n",
      "    res = func(*args, **kwargs)\n",
      "  File \"C:\\Users\\antho\\AppData\\Roaming\\Python\\Python39\\site-packages\\sklearn\\utils\\parallel.py\", line 127, in __call__\n",
      "    return self.function(*args, **kwargs)\n",
      "  File \"C:\\Users\\antho\\AppData\\Roaming\\Python\\Python39\\site-packages\\sklearn\\ensemble\\_bagging.py\", line 159, in _parallel_predict_proba\n",
      "    proba_estimator = estimator.predict_proba(X[:, features])\n",
      "  File \"C:\\Users\\antho\\AppData\\Roaming\\Python\\Python39\\site-packages\\sklearn\\neighbors\\_classification.py\", line 355, in predict_proba\n",
      "    neigh_ind = self.kneighbors(X, return_distance=False)\n",
      "  File \"C:\\Users\\antho\\AppData\\Roaming\\Python\\Python39\\site-packages\\sklearn\\neighbors\\_base.py\", line 808, in kneighbors\n",
      "    raise ValueError(\n",
      "ValueError: Expected n_neighbors <= n_samples,  but n_samples = 4, n_neighbors = 5\n",
      "\n",
      "  warnings.warn(\n",
      "C:\\Users\\antho\\AppData\\Roaming\\Python\\Python39\\site-packages\\sklearn\\ensemble\\_base.py:156: FutureWarning: `base_estimator` was renamed to `estimator` in version 1.2 and will be removed in 1.4.\n",
      "  warnings.warn(\n",
      "C:\\Users\\antho\\AppData\\Roaming\\Python\\Python39\\site-packages\\sklearn\\model_selection\\_validation.py:821: UserWarning: Scoring failed. The score on this train-test partition for these parameters will be set to nan. Details: \n",
      "Traceback (most recent call last):\n",
      "  File \"C:\\Users\\antho\\AppData\\Roaming\\Python\\Python39\\site-packages\\sklearn\\model_selection\\_validation.py\", line 810, in _score\n",
      "    scores = scorer(estimator, X_test, y_test)\n",
      "  File \"C:\\Users\\antho\\AppData\\Roaming\\Python\\Python39\\site-packages\\sklearn\\metrics\\_scorer.py\", line 266, in __call__\n",
      "    return self._score(partial(_cached_call, None), estimator, X, y_true, **_kwargs)\n",
      "  File \"C:\\Users\\antho\\AppData\\Roaming\\Python\\Python39\\site-packages\\sklearn\\metrics\\_scorer.py\", line 353, in _score\n",
      "    y_pred = method_caller(estimator, \"predict\", X)\n",
      "  File \"C:\\Users\\antho\\AppData\\Roaming\\Python\\Python39\\site-packages\\sklearn\\metrics\\_scorer.py\", line 86, in _cached_call\n",
      "    result, _ = _get_response_values(\n",
      "  File \"C:\\Users\\antho\\AppData\\Roaming\\Python\\Python39\\site-packages\\sklearn\\utils\\_response.py\", line 194, in _get_response_values\n",
      "    y_pred = prediction_method(X)\n",
      "  File \"C:\\Users\\antho\\anaconda3\\lib\\site-packages\\imblearn\\pipeline.py\", line 460, in predict\n",
      "    return self.steps[-1][1].predict(Xt, **params)\n",
      "  File \"C:\\Users\\antho\\AppData\\Roaming\\Python\\Python39\\site-packages\\sklearn\\ensemble\\_bagging.py\", line 827, in predict\n",
      "    predicted_probabilitiy = self.predict_proba(X)\n",
      "  File \"C:\\Users\\antho\\AppData\\Roaming\\Python\\Python39\\site-packages\\sklearn\\ensemble\\_bagging.py\", line 865, in predict_proba\n",
      "    all_proba = Parallel(\n",
      "  File \"C:\\Users\\antho\\AppData\\Roaming\\Python\\Python39\\site-packages\\sklearn\\utils\\parallel.py\", line 65, in __call__\n",
      "    return super().__call__(iterable_with_config)\n",
      "  File \"C:\\Users\\antho\\AppData\\Roaming\\Python\\Python39\\site-packages\\joblib\\parallel.py\", line 1863, in __call__\n",
      "    return output if self.return_generator else list(output)\n",
      "  File \"C:\\Users\\antho\\AppData\\Roaming\\Python\\Python39\\site-packages\\joblib\\parallel.py\", line 1792, in _get_sequential_output\n",
      "    res = func(*args, **kwargs)\n",
      "  File \"C:\\Users\\antho\\AppData\\Roaming\\Python\\Python39\\site-packages\\sklearn\\utils\\parallel.py\", line 127, in __call__\n",
      "    return self.function(*args, **kwargs)\n",
      "  File \"C:\\Users\\antho\\AppData\\Roaming\\Python\\Python39\\site-packages\\sklearn\\ensemble\\_bagging.py\", line 159, in _parallel_predict_proba\n",
      "    proba_estimator = estimator.predict_proba(X[:, features])\n",
      "  File \"C:\\Users\\antho\\AppData\\Roaming\\Python\\Python39\\site-packages\\sklearn\\neighbors\\_classification.py\", line 355, in predict_proba\n",
      "    neigh_ind = self.kneighbors(X, return_distance=False)\n",
      "  File \"C:\\Users\\antho\\AppData\\Roaming\\Python\\Python39\\site-packages\\sklearn\\neighbors\\_base.py\", line 808, in kneighbors\n",
      "    raise ValueError(\n",
      "ValueError: Expected n_neighbors <= n_samples,  but n_samples = 3, n_neighbors = 5\n",
      "\n",
      "  warnings.warn(\n",
      "C:\\Users\\antho\\AppData\\Roaming\\Python\\Python39\\site-packages\\sklearn\\ensemble\\_base.py:156: FutureWarning: `base_estimator` was renamed to `estimator` in version 1.2 and will be removed in 1.4.\n",
      "  warnings.warn(\n",
      "C:\\Users\\antho\\AppData\\Roaming\\Python\\Python39\\site-packages\\sklearn\\model_selection\\_validation.py:821: UserWarning: Scoring failed. The score on this train-test partition for these parameters will be set to nan. Details: \n",
      "Traceback (most recent call last):\n",
      "  File \"C:\\Users\\antho\\AppData\\Roaming\\Python\\Python39\\site-packages\\sklearn\\model_selection\\_validation.py\", line 810, in _score\n",
      "    scores = scorer(estimator, X_test, y_test)\n",
      "  File \"C:\\Users\\antho\\AppData\\Roaming\\Python\\Python39\\site-packages\\sklearn\\metrics\\_scorer.py\", line 266, in __call__\n",
      "    return self._score(partial(_cached_call, None), estimator, X, y_true, **_kwargs)\n",
      "  File \"C:\\Users\\antho\\AppData\\Roaming\\Python\\Python39\\site-packages\\sklearn\\metrics\\_scorer.py\", line 353, in _score\n",
      "    y_pred = method_caller(estimator, \"predict\", X)\n",
      "  File \"C:\\Users\\antho\\AppData\\Roaming\\Python\\Python39\\site-packages\\sklearn\\metrics\\_scorer.py\", line 86, in _cached_call\n",
      "    result, _ = _get_response_values(\n",
      "  File \"C:\\Users\\antho\\AppData\\Roaming\\Python\\Python39\\site-packages\\sklearn\\utils\\_response.py\", line 194, in _get_response_values\n",
      "    y_pred = prediction_method(X)\n",
      "  File \"C:\\Users\\antho\\anaconda3\\lib\\site-packages\\imblearn\\pipeline.py\", line 460, in predict\n",
      "    return self.steps[-1][1].predict(Xt, **params)\n",
      "  File \"C:\\Users\\antho\\AppData\\Roaming\\Python\\Python39\\site-packages\\sklearn\\ensemble\\_bagging.py\", line 827, in predict\n",
      "    predicted_probabilitiy = self.predict_proba(X)\n",
      "  File \"C:\\Users\\antho\\AppData\\Roaming\\Python\\Python39\\site-packages\\sklearn\\ensemble\\_bagging.py\", line 865, in predict_proba\n",
      "    all_proba = Parallel(\n",
      "  File \"C:\\Users\\antho\\AppData\\Roaming\\Python\\Python39\\site-packages\\sklearn\\utils\\parallel.py\", line 65, in __call__\n",
      "    return super().__call__(iterable_with_config)\n",
      "  File \"C:\\Users\\antho\\AppData\\Roaming\\Python\\Python39\\site-packages\\joblib\\parallel.py\", line 1863, in __call__\n",
      "    return output if self.return_generator else list(output)\n",
      "  File \"C:\\Users\\antho\\AppData\\Roaming\\Python\\Python39\\site-packages\\joblib\\parallel.py\", line 1792, in _get_sequential_output\n",
      "    res = func(*args, **kwargs)\n",
      "  File \"C:\\Users\\antho\\AppData\\Roaming\\Python\\Python39\\site-packages\\sklearn\\utils\\parallel.py\", line 127, in __call__\n",
      "    return self.function(*args, **kwargs)\n",
      "  File \"C:\\Users\\antho\\AppData\\Roaming\\Python\\Python39\\site-packages\\sklearn\\ensemble\\_bagging.py\", line 159, in _parallel_predict_proba\n",
      "    proba_estimator = estimator.predict_proba(X[:, features])\n",
      "  File \"C:\\Users\\antho\\AppData\\Roaming\\Python\\Python39\\site-packages\\sklearn\\neighbors\\_classification.py\", line 355, in predict_proba\n",
      "    neigh_ind = self.kneighbors(X, return_distance=False)\n",
      "  File \"C:\\Users\\antho\\AppData\\Roaming\\Python\\Python39\\site-packages\\sklearn\\neighbors\\_base.py\", line 808, in kneighbors\n",
      "    raise ValueError(\n",
      "ValueError: Expected n_neighbors <= n_samples,  but n_samples = 4, n_neighbors = 5\n",
      "\n",
      "  warnings.warn(\n",
      "C:\\Users\\antho\\AppData\\Roaming\\Python\\Python39\\site-packages\\sklearn\\ensemble\\_base.py:156: FutureWarning: `base_estimator` was renamed to `estimator` in version 1.2 and will be removed in 1.4.\n",
      "  warnings.warn(\n",
      "C:\\Users\\antho\\AppData\\Roaming\\Python\\Python39\\site-packages\\sklearn\\model_selection\\_validation.py:821: UserWarning: Scoring failed. The score on this train-test partition for these parameters will be set to nan. Details: \n",
      "Traceback (most recent call last):\n",
      "  File \"C:\\Users\\antho\\AppData\\Roaming\\Python\\Python39\\site-packages\\sklearn\\model_selection\\_validation.py\", line 810, in _score\n",
      "    scores = scorer(estimator, X_test, y_test)\n",
      "  File \"C:\\Users\\antho\\AppData\\Roaming\\Python\\Python39\\site-packages\\sklearn\\metrics\\_scorer.py\", line 266, in __call__\n",
      "    return self._score(partial(_cached_call, None), estimator, X, y_true, **_kwargs)\n",
      "  File \"C:\\Users\\antho\\AppData\\Roaming\\Python\\Python39\\site-packages\\sklearn\\metrics\\_scorer.py\", line 353, in _score\n",
      "    y_pred = method_caller(estimator, \"predict\", X)\n",
      "  File \"C:\\Users\\antho\\AppData\\Roaming\\Python\\Python39\\site-packages\\sklearn\\metrics\\_scorer.py\", line 86, in _cached_call\n",
      "    result, _ = _get_response_values(\n",
      "  File \"C:\\Users\\antho\\AppData\\Roaming\\Python\\Python39\\site-packages\\sklearn\\utils\\_response.py\", line 194, in _get_response_values\n",
      "    y_pred = prediction_method(X)\n",
      "  File \"C:\\Users\\antho\\anaconda3\\lib\\site-packages\\imblearn\\pipeline.py\", line 460, in predict\n",
      "    return self.steps[-1][1].predict(Xt, **params)\n",
      "  File \"C:\\Users\\antho\\AppData\\Roaming\\Python\\Python39\\site-packages\\sklearn\\ensemble\\_bagging.py\", line 827, in predict\n",
      "    predicted_probabilitiy = self.predict_proba(X)\n",
      "  File \"C:\\Users\\antho\\AppData\\Roaming\\Python\\Python39\\site-packages\\sklearn\\ensemble\\_bagging.py\", line 865, in predict_proba\n",
      "    all_proba = Parallel(\n",
      "  File \"C:\\Users\\antho\\AppData\\Roaming\\Python\\Python39\\site-packages\\sklearn\\utils\\parallel.py\", line 65, in __call__\n",
      "    return super().__call__(iterable_with_config)\n",
      "  File \"C:\\Users\\antho\\AppData\\Roaming\\Python\\Python39\\site-packages\\joblib\\parallel.py\", line 1863, in __call__\n",
      "    return output if self.return_generator else list(output)\n",
      "  File \"C:\\Users\\antho\\AppData\\Roaming\\Python\\Python39\\site-packages\\joblib\\parallel.py\", line 1792, in _get_sequential_output\n",
      "    res = func(*args, **kwargs)\n",
      "  File \"C:\\Users\\antho\\AppData\\Roaming\\Python\\Python39\\site-packages\\sklearn\\utils\\parallel.py\", line 127, in __call__\n",
      "    return self.function(*args, **kwargs)\n",
      "  File \"C:\\Users\\antho\\AppData\\Roaming\\Python\\Python39\\site-packages\\sklearn\\ensemble\\_bagging.py\", line 159, in _parallel_predict_proba\n",
      "    proba_estimator = estimator.predict_proba(X[:, features])\n",
      "  File \"C:\\Users\\antho\\AppData\\Roaming\\Python\\Python39\\site-packages\\sklearn\\neighbors\\_classification.py\", line 355, in predict_proba\n",
      "    neigh_ind = self.kneighbors(X, return_distance=False)\n",
      "  File \"C:\\Users\\antho\\AppData\\Roaming\\Python\\Python39\\site-packages\\sklearn\\neighbors\\_base.py\", line 808, in kneighbors\n",
      "    raise ValueError(\n",
      "ValueError: Expected n_neighbors <= n_samples,  but n_samples = 4, n_neighbors = 5\n",
      "\n",
      "  warnings.warn(\n",
      "C:\\Users\\antho\\AppData\\Roaming\\Python\\Python39\\site-packages\\sklearn\\ensemble\\_base.py:156: FutureWarning: `base_estimator` was renamed to `estimator` in version 1.2 and will be removed in 1.4.\n",
      "  warnings.warn(\n"
     ]
    },
    {
     "name": "stderr",
     "output_type": "stream",
     "text": [
      "C:\\Users\\antho\\AppData\\Roaming\\Python\\Python39\\site-packages\\sklearn\\model_selection\\_validation.py:821: UserWarning: Scoring failed. The score on this train-test partition for these parameters will be set to nan. Details: \n",
      "Traceback (most recent call last):\n",
      "  File \"C:\\Users\\antho\\AppData\\Roaming\\Python\\Python39\\site-packages\\sklearn\\model_selection\\_validation.py\", line 810, in _score\n",
      "    scores = scorer(estimator, X_test, y_test)\n",
      "  File \"C:\\Users\\antho\\AppData\\Roaming\\Python\\Python39\\site-packages\\sklearn\\metrics\\_scorer.py\", line 266, in __call__\n",
      "    return self._score(partial(_cached_call, None), estimator, X, y_true, **_kwargs)\n",
      "  File \"C:\\Users\\antho\\AppData\\Roaming\\Python\\Python39\\site-packages\\sklearn\\metrics\\_scorer.py\", line 353, in _score\n",
      "    y_pred = method_caller(estimator, \"predict\", X)\n",
      "  File \"C:\\Users\\antho\\AppData\\Roaming\\Python\\Python39\\site-packages\\sklearn\\metrics\\_scorer.py\", line 86, in _cached_call\n",
      "    result, _ = _get_response_values(\n",
      "  File \"C:\\Users\\antho\\AppData\\Roaming\\Python\\Python39\\site-packages\\sklearn\\utils\\_response.py\", line 194, in _get_response_values\n",
      "    y_pred = prediction_method(X)\n",
      "  File \"C:\\Users\\antho\\anaconda3\\lib\\site-packages\\imblearn\\pipeline.py\", line 460, in predict\n",
      "    return self.steps[-1][1].predict(Xt, **params)\n",
      "  File \"C:\\Users\\antho\\AppData\\Roaming\\Python\\Python39\\site-packages\\sklearn\\ensemble\\_bagging.py\", line 827, in predict\n",
      "    predicted_probabilitiy = self.predict_proba(X)\n",
      "  File \"C:\\Users\\antho\\AppData\\Roaming\\Python\\Python39\\site-packages\\sklearn\\ensemble\\_bagging.py\", line 865, in predict_proba\n",
      "    all_proba = Parallel(\n",
      "  File \"C:\\Users\\antho\\AppData\\Roaming\\Python\\Python39\\site-packages\\sklearn\\utils\\parallel.py\", line 65, in __call__\n",
      "    return super().__call__(iterable_with_config)\n",
      "  File \"C:\\Users\\antho\\AppData\\Roaming\\Python\\Python39\\site-packages\\joblib\\parallel.py\", line 1863, in __call__\n",
      "    return output if self.return_generator else list(output)\n",
      "  File \"C:\\Users\\antho\\AppData\\Roaming\\Python\\Python39\\site-packages\\joblib\\parallel.py\", line 1792, in _get_sequential_output\n",
      "    res = func(*args, **kwargs)\n",
      "  File \"C:\\Users\\antho\\AppData\\Roaming\\Python\\Python39\\site-packages\\sklearn\\utils\\parallel.py\", line 127, in __call__\n",
      "    return self.function(*args, **kwargs)\n",
      "  File \"C:\\Users\\antho\\AppData\\Roaming\\Python\\Python39\\site-packages\\sklearn\\ensemble\\_bagging.py\", line 159, in _parallel_predict_proba\n",
      "    proba_estimator = estimator.predict_proba(X[:, features])\n",
      "  File \"C:\\Users\\antho\\AppData\\Roaming\\Python\\Python39\\site-packages\\sklearn\\neighbors\\_classification.py\", line 355, in predict_proba\n",
      "    neigh_ind = self.kneighbors(X, return_distance=False)\n",
      "  File \"C:\\Users\\antho\\AppData\\Roaming\\Python\\Python39\\site-packages\\sklearn\\neighbors\\_base.py\", line 808, in kneighbors\n",
      "    raise ValueError(\n",
      "ValueError: Expected n_neighbors <= n_samples,  but n_samples = 3, n_neighbors = 5\n",
      "\n",
      "  warnings.warn(\n",
      "C:\\Users\\antho\\AppData\\Roaming\\Python\\Python39\\site-packages\\sklearn\\ensemble\\_base.py:156: FutureWarning: `base_estimator` was renamed to `estimator` in version 1.2 and will be removed in 1.4.\n",
      "  warnings.warn(\n",
      "C:\\Users\\antho\\AppData\\Roaming\\Python\\Python39\\site-packages\\sklearn\\model_selection\\_validation.py:821: UserWarning: Scoring failed. The score on this train-test partition for these parameters will be set to nan. Details: \n",
      "Traceback (most recent call last):\n",
      "  File \"C:\\Users\\antho\\AppData\\Roaming\\Python\\Python39\\site-packages\\sklearn\\model_selection\\_validation.py\", line 810, in _score\n",
      "    scores = scorer(estimator, X_test, y_test)\n",
      "  File \"C:\\Users\\antho\\AppData\\Roaming\\Python\\Python39\\site-packages\\sklearn\\metrics\\_scorer.py\", line 266, in __call__\n",
      "    return self._score(partial(_cached_call, None), estimator, X, y_true, **_kwargs)\n",
      "  File \"C:\\Users\\antho\\AppData\\Roaming\\Python\\Python39\\site-packages\\sklearn\\metrics\\_scorer.py\", line 353, in _score\n",
      "    y_pred = method_caller(estimator, \"predict\", X)\n",
      "  File \"C:\\Users\\antho\\AppData\\Roaming\\Python\\Python39\\site-packages\\sklearn\\metrics\\_scorer.py\", line 86, in _cached_call\n",
      "    result, _ = _get_response_values(\n",
      "  File \"C:\\Users\\antho\\AppData\\Roaming\\Python\\Python39\\site-packages\\sklearn\\utils\\_response.py\", line 194, in _get_response_values\n",
      "    y_pred = prediction_method(X)\n",
      "  File \"C:\\Users\\antho\\anaconda3\\lib\\site-packages\\imblearn\\pipeline.py\", line 460, in predict\n",
      "    return self.steps[-1][1].predict(Xt, **params)\n",
      "  File \"C:\\Users\\antho\\AppData\\Roaming\\Python\\Python39\\site-packages\\sklearn\\ensemble\\_bagging.py\", line 827, in predict\n",
      "    predicted_probabilitiy = self.predict_proba(X)\n",
      "  File \"C:\\Users\\antho\\AppData\\Roaming\\Python\\Python39\\site-packages\\sklearn\\ensemble\\_bagging.py\", line 865, in predict_proba\n",
      "    all_proba = Parallel(\n",
      "  File \"C:\\Users\\antho\\AppData\\Roaming\\Python\\Python39\\site-packages\\sklearn\\utils\\parallel.py\", line 65, in __call__\n",
      "    return super().__call__(iterable_with_config)\n",
      "  File \"C:\\Users\\antho\\AppData\\Roaming\\Python\\Python39\\site-packages\\joblib\\parallel.py\", line 1863, in __call__\n",
      "    return output if self.return_generator else list(output)\n",
      "  File \"C:\\Users\\antho\\AppData\\Roaming\\Python\\Python39\\site-packages\\joblib\\parallel.py\", line 1792, in _get_sequential_output\n",
      "    res = func(*args, **kwargs)\n",
      "  File \"C:\\Users\\antho\\AppData\\Roaming\\Python\\Python39\\site-packages\\sklearn\\utils\\parallel.py\", line 127, in __call__\n",
      "    return self.function(*args, **kwargs)\n",
      "  File \"C:\\Users\\antho\\AppData\\Roaming\\Python\\Python39\\site-packages\\sklearn\\ensemble\\_bagging.py\", line 159, in _parallel_predict_proba\n",
      "    proba_estimator = estimator.predict_proba(X[:, features])\n",
      "  File \"C:\\Users\\antho\\AppData\\Roaming\\Python\\Python39\\site-packages\\sklearn\\neighbors\\_classification.py\", line 355, in predict_proba\n",
      "    neigh_ind = self.kneighbors(X, return_distance=False)\n",
      "  File \"C:\\Users\\antho\\AppData\\Roaming\\Python\\Python39\\site-packages\\sklearn\\neighbors\\_base.py\", line 808, in kneighbors\n",
      "    raise ValueError(\n",
      "ValueError: Expected n_neighbors <= n_samples,  but n_samples = 4, n_neighbors = 5\n",
      "\n",
      "  warnings.warn(\n",
      "C:\\Users\\antho\\AppData\\Roaming\\Python\\Python39\\site-packages\\sklearn\\ensemble\\_base.py:156: FutureWarning: `base_estimator` was renamed to `estimator` in version 1.2 and will be removed in 1.4.\n",
      "  warnings.warn(\n",
      "C:\\Users\\antho\\AppData\\Roaming\\Python\\Python39\\site-packages\\sklearn\\model_selection\\_validation.py:821: UserWarning: Scoring failed. The score on this train-test partition for these parameters will be set to nan. Details: \n",
      "Traceback (most recent call last):\n",
      "  File \"C:\\Users\\antho\\AppData\\Roaming\\Python\\Python39\\site-packages\\sklearn\\model_selection\\_validation.py\", line 810, in _score\n",
      "    scores = scorer(estimator, X_test, y_test)\n",
      "  File \"C:\\Users\\antho\\AppData\\Roaming\\Python\\Python39\\site-packages\\sklearn\\metrics\\_scorer.py\", line 266, in __call__\n",
      "    return self._score(partial(_cached_call, None), estimator, X, y_true, **_kwargs)\n",
      "  File \"C:\\Users\\antho\\AppData\\Roaming\\Python\\Python39\\site-packages\\sklearn\\metrics\\_scorer.py\", line 353, in _score\n",
      "    y_pred = method_caller(estimator, \"predict\", X)\n",
      "  File \"C:\\Users\\antho\\AppData\\Roaming\\Python\\Python39\\site-packages\\sklearn\\metrics\\_scorer.py\", line 86, in _cached_call\n",
      "    result, _ = _get_response_values(\n",
      "  File \"C:\\Users\\antho\\AppData\\Roaming\\Python\\Python39\\site-packages\\sklearn\\utils\\_response.py\", line 194, in _get_response_values\n",
      "    y_pred = prediction_method(X)\n",
      "  File \"C:\\Users\\antho\\anaconda3\\lib\\site-packages\\imblearn\\pipeline.py\", line 460, in predict\n",
      "    return self.steps[-1][1].predict(Xt, **params)\n",
      "  File \"C:\\Users\\antho\\AppData\\Roaming\\Python\\Python39\\site-packages\\sklearn\\ensemble\\_bagging.py\", line 827, in predict\n",
      "    predicted_probabilitiy = self.predict_proba(X)\n",
      "  File \"C:\\Users\\antho\\AppData\\Roaming\\Python\\Python39\\site-packages\\sklearn\\ensemble\\_bagging.py\", line 865, in predict_proba\n",
      "    all_proba = Parallel(\n",
      "  File \"C:\\Users\\antho\\AppData\\Roaming\\Python\\Python39\\site-packages\\sklearn\\utils\\parallel.py\", line 65, in __call__\n",
      "    return super().__call__(iterable_with_config)\n",
      "  File \"C:\\Users\\antho\\AppData\\Roaming\\Python\\Python39\\site-packages\\joblib\\parallel.py\", line 1863, in __call__\n",
      "    return output if self.return_generator else list(output)\n",
      "  File \"C:\\Users\\antho\\AppData\\Roaming\\Python\\Python39\\site-packages\\joblib\\parallel.py\", line 1792, in _get_sequential_output\n",
      "    res = func(*args, **kwargs)\n",
      "  File \"C:\\Users\\antho\\AppData\\Roaming\\Python\\Python39\\site-packages\\sklearn\\utils\\parallel.py\", line 127, in __call__\n",
      "    return self.function(*args, **kwargs)\n",
      "  File \"C:\\Users\\antho\\AppData\\Roaming\\Python\\Python39\\site-packages\\sklearn\\ensemble\\_bagging.py\", line 159, in _parallel_predict_proba\n",
      "    proba_estimator = estimator.predict_proba(X[:, features])\n",
      "  File \"C:\\Users\\antho\\AppData\\Roaming\\Python\\Python39\\site-packages\\sklearn\\neighbors\\_classification.py\", line 355, in predict_proba\n",
      "    neigh_ind = self.kneighbors(X, return_distance=False)\n",
      "  File \"C:\\Users\\antho\\AppData\\Roaming\\Python\\Python39\\site-packages\\sklearn\\neighbors\\_base.py\", line 808, in kneighbors\n",
      "    raise ValueError(\n",
      "ValueError: Expected n_neighbors <= n_samples,  but n_samples = 3, n_neighbors = 5\n",
      "\n",
      "  warnings.warn(\n",
      "C:\\Users\\antho\\AppData\\Roaming\\Python\\Python39\\site-packages\\sklearn\\ensemble\\_base.py:156: FutureWarning: `base_estimator` was renamed to `estimator` in version 1.2 and will be removed in 1.4.\n",
      "  warnings.warn(\n"
     ]
    },
    {
     "name": "stderr",
     "output_type": "stream",
     "text": [
      "C:\\Users\\antho\\AppData\\Roaming\\Python\\Python39\\site-packages\\sklearn\\model_selection\\_validation.py:821: UserWarning: Scoring failed. The score on this train-test partition for these parameters will be set to nan. Details: \n",
      "Traceback (most recent call last):\n",
      "  File \"C:\\Users\\antho\\AppData\\Roaming\\Python\\Python39\\site-packages\\sklearn\\model_selection\\_validation.py\", line 810, in _score\n",
      "    scores = scorer(estimator, X_test, y_test)\n",
      "  File \"C:\\Users\\antho\\AppData\\Roaming\\Python\\Python39\\site-packages\\sklearn\\metrics\\_scorer.py\", line 266, in __call__\n",
      "    return self._score(partial(_cached_call, None), estimator, X, y_true, **_kwargs)\n",
      "  File \"C:\\Users\\antho\\AppData\\Roaming\\Python\\Python39\\site-packages\\sklearn\\metrics\\_scorer.py\", line 353, in _score\n",
      "    y_pred = method_caller(estimator, \"predict\", X)\n",
      "  File \"C:\\Users\\antho\\AppData\\Roaming\\Python\\Python39\\site-packages\\sklearn\\metrics\\_scorer.py\", line 86, in _cached_call\n",
      "    result, _ = _get_response_values(\n",
      "  File \"C:\\Users\\antho\\AppData\\Roaming\\Python\\Python39\\site-packages\\sklearn\\utils\\_response.py\", line 194, in _get_response_values\n",
      "    y_pred = prediction_method(X)\n",
      "  File \"C:\\Users\\antho\\anaconda3\\lib\\site-packages\\imblearn\\pipeline.py\", line 460, in predict\n",
      "    return self.steps[-1][1].predict(Xt, **params)\n",
      "  File \"C:\\Users\\antho\\AppData\\Roaming\\Python\\Python39\\site-packages\\sklearn\\ensemble\\_bagging.py\", line 827, in predict\n",
      "    predicted_probabilitiy = self.predict_proba(X)\n",
      "  File \"C:\\Users\\antho\\AppData\\Roaming\\Python\\Python39\\site-packages\\sklearn\\ensemble\\_bagging.py\", line 865, in predict_proba\n",
      "    all_proba = Parallel(\n",
      "  File \"C:\\Users\\antho\\AppData\\Roaming\\Python\\Python39\\site-packages\\sklearn\\utils\\parallel.py\", line 65, in __call__\n",
      "    return super().__call__(iterable_with_config)\n",
      "  File \"C:\\Users\\antho\\AppData\\Roaming\\Python\\Python39\\site-packages\\joblib\\parallel.py\", line 1863, in __call__\n",
      "    return output if self.return_generator else list(output)\n",
      "  File \"C:\\Users\\antho\\AppData\\Roaming\\Python\\Python39\\site-packages\\joblib\\parallel.py\", line 1792, in _get_sequential_output\n",
      "    res = func(*args, **kwargs)\n",
      "  File \"C:\\Users\\antho\\AppData\\Roaming\\Python\\Python39\\site-packages\\sklearn\\utils\\parallel.py\", line 127, in __call__\n",
      "    return self.function(*args, **kwargs)\n",
      "  File \"C:\\Users\\antho\\AppData\\Roaming\\Python\\Python39\\site-packages\\sklearn\\ensemble\\_bagging.py\", line 159, in _parallel_predict_proba\n",
      "    proba_estimator = estimator.predict_proba(X[:, features])\n",
      "  File \"C:\\Users\\antho\\AppData\\Roaming\\Python\\Python39\\site-packages\\sklearn\\neighbors\\_classification.py\", line 355, in predict_proba\n",
      "    neigh_ind = self.kneighbors(X, return_distance=False)\n",
      "  File \"C:\\Users\\antho\\AppData\\Roaming\\Python\\Python39\\site-packages\\sklearn\\neighbors\\_base.py\", line 808, in kneighbors\n",
      "    raise ValueError(\n",
      "ValueError: Expected n_neighbors <= n_samples,  but n_samples = 4, n_neighbors = 5\n",
      "\n",
      "  warnings.warn(\n",
      "C:\\Users\\antho\\AppData\\Roaming\\Python\\Python39\\site-packages\\sklearn\\ensemble\\_base.py:156: FutureWarning: `base_estimator` was renamed to `estimator` in version 1.2 and will be removed in 1.4.\n",
      "  warnings.warn(\n",
      "C:\\Users\\antho\\AppData\\Roaming\\Python\\Python39\\site-packages\\sklearn\\model_selection\\_validation.py:821: UserWarning: Scoring failed. The score on this train-test partition for these parameters will be set to nan. Details: \n",
      "Traceback (most recent call last):\n",
      "  File \"C:\\Users\\antho\\AppData\\Roaming\\Python\\Python39\\site-packages\\sklearn\\model_selection\\_validation.py\", line 810, in _score\n",
      "    scores = scorer(estimator, X_test, y_test)\n",
      "  File \"C:\\Users\\antho\\AppData\\Roaming\\Python\\Python39\\site-packages\\sklearn\\metrics\\_scorer.py\", line 266, in __call__\n",
      "    return self._score(partial(_cached_call, None), estimator, X, y_true, **_kwargs)\n",
      "  File \"C:\\Users\\antho\\AppData\\Roaming\\Python\\Python39\\site-packages\\sklearn\\metrics\\_scorer.py\", line 353, in _score\n",
      "    y_pred = method_caller(estimator, \"predict\", X)\n",
      "  File \"C:\\Users\\antho\\AppData\\Roaming\\Python\\Python39\\site-packages\\sklearn\\metrics\\_scorer.py\", line 86, in _cached_call\n",
      "    result, _ = _get_response_values(\n",
      "  File \"C:\\Users\\antho\\AppData\\Roaming\\Python\\Python39\\site-packages\\sklearn\\utils\\_response.py\", line 194, in _get_response_values\n",
      "    y_pred = prediction_method(X)\n",
      "  File \"C:\\Users\\antho\\anaconda3\\lib\\site-packages\\imblearn\\pipeline.py\", line 460, in predict\n",
      "    return self.steps[-1][1].predict(Xt, **params)\n",
      "  File \"C:\\Users\\antho\\AppData\\Roaming\\Python\\Python39\\site-packages\\sklearn\\ensemble\\_bagging.py\", line 827, in predict\n",
      "    predicted_probabilitiy = self.predict_proba(X)\n",
      "  File \"C:\\Users\\antho\\AppData\\Roaming\\Python\\Python39\\site-packages\\sklearn\\ensemble\\_bagging.py\", line 865, in predict_proba\n",
      "    all_proba = Parallel(\n",
      "  File \"C:\\Users\\antho\\AppData\\Roaming\\Python\\Python39\\site-packages\\sklearn\\utils\\parallel.py\", line 65, in __call__\n",
      "    return super().__call__(iterable_with_config)\n",
      "  File \"C:\\Users\\antho\\AppData\\Roaming\\Python\\Python39\\site-packages\\joblib\\parallel.py\", line 1863, in __call__\n",
      "    return output if self.return_generator else list(output)\n",
      "  File \"C:\\Users\\antho\\AppData\\Roaming\\Python\\Python39\\site-packages\\joblib\\parallel.py\", line 1792, in _get_sequential_output\n",
      "    res = func(*args, **kwargs)\n",
      "  File \"C:\\Users\\antho\\AppData\\Roaming\\Python\\Python39\\site-packages\\sklearn\\utils\\parallel.py\", line 127, in __call__\n",
      "    return self.function(*args, **kwargs)\n",
      "  File \"C:\\Users\\antho\\AppData\\Roaming\\Python\\Python39\\site-packages\\sklearn\\ensemble\\_bagging.py\", line 159, in _parallel_predict_proba\n",
      "    proba_estimator = estimator.predict_proba(X[:, features])\n",
      "  File \"C:\\Users\\antho\\AppData\\Roaming\\Python\\Python39\\site-packages\\sklearn\\neighbors\\_classification.py\", line 355, in predict_proba\n",
      "    neigh_ind = self.kneighbors(X, return_distance=False)\n",
      "  File \"C:\\Users\\antho\\AppData\\Roaming\\Python\\Python39\\site-packages\\sklearn\\neighbors\\_base.py\", line 808, in kneighbors\n",
      "    raise ValueError(\n",
      "ValueError: Expected n_neighbors <= n_samples,  but n_samples = 4, n_neighbors = 5\n",
      "\n",
      "  warnings.warn(\n",
      "C:\\Users\\antho\\AppData\\Roaming\\Python\\Python39\\site-packages\\sklearn\\ensemble\\_base.py:156: FutureWarning: `base_estimator` was renamed to `estimator` in version 1.2 and will be removed in 1.4.\n",
      "  warnings.warn(\n",
      "C:\\Users\\antho\\AppData\\Roaming\\Python\\Python39\\site-packages\\sklearn\\model_selection\\_validation.py:821: UserWarning: Scoring failed. The score on this train-test partition for these parameters will be set to nan. Details: \n",
      "Traceback (most recent call last):\n",
      "  File \"C:\\Users\\antho\\AppData\\Roaming\\Python\\Python39\\site-packages\\sklearn\\model_selection\\_validation.py\", line 810, in _score\n",
      "    scores = scorer(estimator, X_test, y_test)\n",
      "  File \"C:\\Users\\antho\\AppData\\Roaming\\Python\\Python39\\site-packages\\sklearn\\metrics\\_scorer.py\", line 266, in __call__\n",
      "    return self._score(partial(_cached_call, None), estimator, X, y_true, **_kwargs)\n",
      "  File \"C:\\Users\\antho\\AppData\\Roaming\\Python\\Python39\\site-packages\\sklearn\\metrics\\_scorer.py\", line 353, in _score\n",
      "    y_pred = method_caller(estimator, \"predict\", X)\n",
      "  File \"C:\\Users\\antho\\AppData\\Roaming\\Python\\Python39\\site-packages\\sklearn\\metrics\\_scorer.py\", line 86, in _cached_call\n",
      "    result, _ = _get_response_values(\n",
      "  File \"C:\\Users\\antho\\AppData\\Roaming\\Python\\Python39\\site-packages\\sklearn\\utils\\_response.py\", line 194, in _get_response_values\n",
      "    y_pred = prediction_method(X)\n",
      "  File \"C:\\Users\\antho\\anaconda3\\lib\\site-packages\\imblearn\\pipeline.py\", line 460, in predict\n",
      "    return self.steps[-1][1].predict(Xt, **params)\n",
      "  File \"C:\\Users\\antho\\AppData\\Roaming\\Python\\Python39\\site-packages\\sklearn\\ensemble\\_bagging.py\", line 827, in predict\n",
      "    predicted_probabilitiy = self.predict_proba(X)\n",
      "  File \"C:\\Users\\antho\\AppData\\Roaming\\Python\\Python39\\site-packages\\sklearn\\ensemble\\_bagging.py\", line 865, in predict_proba\n",
      "    all_proba = Parallel(\n",
      "  File \"C:\\Users\\antho\\AppData\\Roaming\\Python\\Python39\\site-packages\\sklearn\\utils\\parallel.py\", line 65, in __call__\n",
      "    return super().__call__(iterable_with_config)\n",
      "  File \"C:\\Users\\antho\\AppData\\Roaming\\Python\\Python39\\site-packages\\joblib\\parallel.py\", line 1863, in __call__\n",
      "    return output if self.return_generator else list(output)\n",
      "  File \"C:\\Users\\antho\\AppData\\Roaming\\Python\\Python39\\site-packages\\joblib\\parallel.py\", line 1792, in _get_sequential_output\n",
      "    res = func(*args, **kwargs)\n",
      "  File \"C:\\Users\\antho\\AppData\\Roaming\\Python\\Python39\\site-packages\\sklearn\\utils\\parallel.py\", line 127, in __call__\n",
      "    return self.function(*args, **kwargs)\n",
      "  File \"C:\\Users\\antho\\AppData\\Roaming\\Python\\Python39\\site-packages\\sklearn\\ensemble\\_bagging.py\", line 159, in _parallel_predict_proba\n",
      "    proba_estimator = estimator.predict_proba(X[:, features])\n",
      "  File \"C:\\Users\\antho\\AppData\\Roaming\\Python\\Python39\\site-packages\\sklearn\\neighbors\\_classification.py\", line 355, in predict_proba\n",
      "    neigh_ind = self.kneighbors(X, return_distance=False)\n",
      "  File \"C:\\Users\\antho\\AppData\\Roaming\\Python\\Python39\\site-packages\\sklearn\\neighbors\\_base.py\", line 808, in kneighbors\n",
      "    raise ValueError(\n",
      "ValueError: Expected n_neighbors <= n_samples,  but n_samples = 3, n_neighbors = 5\n",
      "\n",
      "  warnings.warn(\n",
      "C:\\Users\\antho\\AppData\\Roaming\\Python\\Python39\\site-packages\\sklearn\\ensemble\\_base.py:156: FutureWarning: `base_estimator` was renamed to `estimator` in version 1.2 and will be removed in 1.4.\n",
      "  warnings.warn(\n"
     ]
    },
    {
     "name": "stderr",
     "output_type": "stream",
     "text": [
      "C:\\Users\\antho\\AppData\\Roaming\\Python\\Python39\\site-packages\\sklearn\\model_selection\\_validation.py:821: UserWarning: Scoring failed. The score on this train-test partition for these parameters will be set to nan. Details: \n",
      "Traceback (most recent call last):\n",
      "  File \"C:\\Users\\antho\\AppData\\Roaming\\Python\\Python39\\site-packages\\sklearn\\model_selection\\_validation.py\", line 810, in _score\n",
      "    scores = scorer(estimator, X_test, y_test)\n",
      "  File \"C:\\Users\\antho\\AppData\\Roaming\\Python\\Python39\\site-packages\\sklearn\\metrics\\_scorer.py\", line 266, in __call__\n",
      "    return self._score(partial(_cached_call, None), estimator, X, y_true, **_kwargs)\n",
      "  File \"C:\\Users\\antho\\AppData\\Roaming\\Python\\Python39\\site-packages\\sklearn\\metrics\\_scorer.py\", line 353, in _score\n",
      "    y_pred = method_caller(estimator, \"predict\", X)\n",
      "  File \"C:\\Users\\antho\\AppData\\Roaming\\Python\\Python39\\site-packages\\sklearn\\metrics\\_scorer.py\", line 86, in _cached_call\n",
      "    result, _ = _get_response_values(\n",
      "  File \"C:\\Users\\antho\\AppData\\Roaming\\Python\\Python39\\site-packages\\sklearn\\utils\\_response.py\", line 194, in _get_response_values\n",
      "    y_pred = prediction_method(X)\n",
      "  File \"C:\\Users\\antho\\anaconda3\\lib\\site-packages\\imblearn\\pipeline.py\", line 460, in predict\n",
      "    return self.steps[-1][1].predict(Xt, **params)\n",
      "  File \"C:\\Users\\antho\\AppData\\Roaming\\Python\\Python39\\site-packages\\sklearn\\ensemble\\_bagging.py\", line 827, in predict\n",
      "    predicted_probabilitiy = self.predict_proba(X)\n",
      "  File \"C:\\Users\\antho\\AppData\\Roaming\\Python\\Python39\\site-packages\\sklearn\\ensemble\\_bagging.py\", line 865, in predict_proba\n",
      "    all_proba = Parallel(\n",
      "  File \"C:\\Users\\antho\\AppData\\Roaming\\Python\\Python39\\site-packages\\sklearn\\utils\\parallel.py\", line 65, in __call__\n",
      "    return super().__call__(iterable_with_config)\n",
      "  File \"C:\\Users\\antho\\AppData\\Roaming\\Python\\Python39\\site-packages\\joblib\\parallel.py\", line 1863, in __call__\n",
      "    return output if self.return_generator else list(output)\n",
      "  File \"C:\\Users\\antho\\AppData\\Roaming\\Python\\Python39\\site-packages\\joblib\\parallel.py\", line 1792, in _get_sequential_output\n",
      "    res = func(*args, **kwargs)\n",
      "  File \"C:\\Users\\antho\\AppData\\Roaming\\Python\\Python39\\site-packages\\sklearn\\utils\\parallel.py\", line 127, in __call__\n",
      "    return self.function(*args, **kwargs)\n",
      "  File \"C:\\Users\\antho\\AppData\\Roaming\\Python\\Python39\\site-packages\\sklearn\\ensemble\\_bagging.py\", line 159, in _parallel_predict_proba\n",
      "    proba_estimator = estimator.predict_proba(X[:, features])\n",
      "  File \"C:\\Users\\antho\\AppData\\Roaming\\Python\\Python39\\site-packages\\sklearn\\neighbors\\_classification.py\", line 355, in predict_proba\n",
      "    neigh_ind = self.kneighbors(X, return_distance=False)\n",
      "  File \"C:\\Users\\antho\\AppData\\Roaming\\Python\\Python39\\site-packages\\sklearn\\neighbors\\_base.py\", line 808, in kneighbors\n",
      "    raise ValueError(\n",
      "ValueError: Expected n_neighbors <= n_samples,  but n_samples = 4, n_neighbors = 5\n",
      "\n",
      "  warnings.warn(\n",
      "C:\\Users\\antho\\AppData\\Roaming\\Python\\Python39\\site-packages\\sklearn\\ensemble\\_base.py:156: FutureWarning: `base_estimator` was renamed to `estimator` in version 1.2 and will be removed in 1.4.\n",
      "  warnings.warn(\n",
      "C:\\Users\\antho\\AppData\\Roaming\\Python\\Python39\\site-packages\\sklearn\\model_selection\\_validation.py:821: UserWarning: Scoring failed. The score on this train-test partition for these parameters will be set to nan. Details: \n",
      "Traceback (most recent call last):\n",
      "  File \"C:\\Users\\antho\\AppData\\Roaming\\Python\\Python39\\site-packages\\sklearn\\model_selection\\_validation.py\", line 810, in _score\n",
      "    scores = scorer(estimator, X_test, y_test)\n",
      "  File \"C:\\Users\\antho\\AppData\\Roaming\\Python\\Python39\\site-packages\\sklearn\\metrics\\_scorer.py\", line 266, in __call__\n",
      "    return self._score(partial(_cached_call, None), estimator, X, y_true, **_kwargs)\n",
      "  File \"C:\\Users\\antho\\AppData\\Roaming\\Python\\Python39\\site-packages\\sklearn\\metrics\\_scorer.py\", line 353, in _score\n",
      "    y_pred = method_caller(estimator, \"predict\", X)\n",
      "  File \"C:\\Users\\antho\\AppData\\Roaming\\Python\\Python39\\site-packages\\sklearn\\metrics\\_scorer.py\", line 86, in _cached_call\n",
      "    result, _ = _get_response_values(\n",
      "  File \"C:\\Users\\antho\\AppData\\Roaming\\Python\\Python39\\site-packages\\sklearn\\utils\\_response.py\", line 194, in _get_response_values\n",
      "    y_pred = prediction_method(X)\n",
      "  File \"C:\\Users\\antho\\anaconda3\\lib\\site-packages\\imblearn\\pipeline.py\", line 460, in predict\n",
      "    return self.steps[-1][1].predict(Xt, **params)\n",
      "  File \"C:\\Users\\antho\\AppData\\Roaming\\Python\\Python39\\site-packages\\sklearn\\ensemble\\_bagging.py\", line 827, in predict\n",
      "    predicted_probabilitiy = self.predict_proba(X)\n",
      "  File \"C:\\Users\\antho\\AppData\\Roaming\\Python\\Python39\\site-packages\\sklearn\\ensemble\\_bagging.py\", line 865, in predict_proba\n",
      "    all_proba = Parallel(\n",
      "  File \"C:\\Users\\antho\\AppData\\Roaming\\Python\\Python39\\site-packages\\sklearn\\utils\\parallel.py\", line 65, in __call__\n",
      "    return super().__call__(iterable_with_config)\n",
      "  File \"C:\\Users\\antho\\AppData\\Roaming\\Python\\Python39\\site-packages\\joblib\\parallel.py\", line 1863, in __call__\n",
      "    return output if self.return_generator else list(output)\n",
      "  File \"C:\\Users\\antho\\AppData\\Roaming\\Python\\Python39\\site-packages\\joblib\\parallel.py\", line 1792, in _get_sequential_output\n",
      "    res = func(*args, **kwargs)\n",
      "  File \"C:\\Users\\antho\\AppData\\Roaming\\Python\\Python39\\site-packages\\sklearn\\utils\\parallel.py\", line 127, in __call__\n",
      "    return self.function(*args, **kwargs)\n",
      "  File \"C:\\Users\\antho\\AppData\\Roaming\\Python\\Python39\\site-packages\\sklearn\\ensemble\\_bagging.py\", line 159, in _parallel_predict_proba\n",
      "    proba_estimator = estimator.predict_proba(X[:, features])\n",
      "  File \"C:\\Users\\antho\\AppData\\Roaming\\Python\\Python39\\site-packages\\sklearn\\neighbors\\_classification.py\", line 355, in predict_proba\n",
      "    neigh_ind = self.kneighbors(X, return_distance=False)\n",
      "  File \"C:\\Users\\antho\\AppData\\Roaming\\Python\\Python39\\site-packages\\sklearn\\neighbors\\_base.py\", line 808, in kneighbors\n",
      "    raise ValueError(\n",
      "ValueError: Expected n_neighbors <= n_samples,  but n_samples = 3, n_neighbors = 5\n",
      "\n",
      "  warnings.warn(\n",
      "C:\\Users\\antho\\AppData\\Roaming\\Python\\Python39\\site-packages\\sklearn\\ensemble\\_base.py:156: FutureWarning: `base_estimator` was renamed to `estimator` in version 1.2 and will be removed in 1.4.\n",
      "  warnings.warn(\n",
      "C:\\Users\\antho\\AppData\\Roaming\\Python\\Python39\\site-packages\\sklearn\\model_selection\\_validation.py:821: UserWarning: Scoring failed. The score on this train-test partition for these parameters will be set to nan. Details: \n",
      "Traceback (most recent call last):\n",
      "  File \"C:\\Users\\antho\\AppData\\Roaming\\Python\\Python39\\site-packages\\sklearn\\model_selection\\_validation.py\", line 810, in _score\n",
      "    scores = scorer(estimator, X_test, y_test)\n",
      "  File \"C:\\Users\\antho\\AppData\\Roaming\\Python\\Python39\\site-packages\\sklearn\\metrics\\_scorer.py\", line 266, in __call__\n",
      "    return self._score(partial(_cached_call, None), estimator, X, y_true, **_kwargs)\n",
      "  File \"C:\\Users\\antho\\AppData\\Roaming\\Python\\Python39\\site-packages\\sklearn\\metrics\\_scorer.py\", line 353, in _score\n",
      "    y_pred = method_caller(estimator, \"predict\", X)\n",
      "  File \"C:\\Users\\antho\\AppData\\Roaming\\Python\\Python39\\site-packages\\sklearn\\metrics\\_scorer.py\", line 86, in _cached_call\n",
      "    result, _ = _get_response_values(\n",
      "  File \"C:\\Users\\antho\\AppData\\Roaming\\Python\\Python39\\site-packages\\sklearn\\utils\\_response.py\", line 194, in _get_response_values\n",
      "    y_pred = prediction_method(X)\n",
      "  File \"C:\\Users\\antho\\anaconda3\\lib\\site-packages\\imblearn\\pipeline.py\", line 460, in predict\n",
      "    return self.steps[-1][1].predict(Xt, **params)\n",
      "  File \"C:\\Users\\antho\\AppData\\Roaming\\Python\\Python39\\site-packages\\sklearn\\ensemble\\_bagging.py\", line 827, in predict\n",
      "    predicted_probabilitiy = self.predict_proba(X)\n",
      "  File \"C:\\Users\\antho\\AppData\\Roaming\\Python\\Python39\\site-packages\\sklearn\\ensemble\\_bagging.py\", line 865, in predict_proba\n",
      "    all_proba = Parallel(\n",
      "  File \"C:\\Users\\antho\\AppData\\Roaming\\Python\\Python39\\site-packages\\sklearn\\utils\\parallel.py\", line 65, in __call__\n",
      "    return super().__call__(iterable_with_config)\n",
      "  File \"C:\\Users\\antho\\AppData\\Roaming\\Python\\Python39\\site-packages\\joblib\\parallel.py\", line 1863, in __call__\n",
      "    return output if self.return_generator else list(output)\n",
      "  File \"C:\\Users\\antho\\AppData\\Roaming\\Python\\Python39\\site-packages\\joblib\\parallel.py\", line 1792, in _get_sequential_output\n",
      "    res = func(*args, **kwargs)\n",
      "  File \"C:\\Users\\antho\\AppData\\Roaming\\Python\\Python39\\site-packages\\sklearn\\utils\\parallel.py\", line 127, in __call__\n",
      "    return self.function(*args, **kwargs)\n",
      "  File \"C:\\Users\\antho\\AppData\\Roaming\\Python\\Python39\\site-packages\\sklearn\\ensemble\\_bagging.py\", line 159, in _parallel_predict_proba\n",
      "    proba_estimator = estimator.predict_proba(X[:, features])\n",
      "  File \"C:\\Users\\antho\\AppData\\Roaming\\Python\\Python39\\site-packages\\sklearn\\neighbors\\_classification.py\", line 355, in predict_proba\n",
      "    neigh_ind = self.kneighbors(X, return_distance=False)\n",
      "  File \"C:\\Users\\antho\\AppData\\Roaming\\Python\\Python39\\site-packages\\sklearn\\neighbors\\_base.py\", line 808, in kneighbors\n",
      "    raise ValueError(\n",
      "ValueError: Expected n_neighbors <= n_samples,  but n_samples = 4, n_neighbors = 5\n",
      "\n",
      "  warnings.warn(\n"
     ]
    },
    {
     "name": "stderr",
     "output_type": "stream",
     "text": [
      "C:\\Users\\antho\\AppData\\Roaming\\Python\\Python39\\site-packages\\sklearn\\ensemble\\_base.py:156: FutureWarning: `base_estimator` was renamed to `estimator` in version 1.2 and will be removed in 1.4.\n",
      "  warnings.warn(\n",
      "C:\\Users\\antho\\AppData\\Roaming\\Python\\Python39\\site-packages\\sklearn\\model_selection\\_validation.py:821: UserWarning: Scoring failed. The score on this train-test partition for these parameters will be set to nan. Details: \n",
      "Traceback (most recent call last):\n",
      "  File \"C:\\Users\\antho\\AppData\\Roaming\\Python\\Python39\\site-packages\\sklearn\\model_selection\\_validation.py\", line 810, in _score\n",
      "    scores = scorer(estimator, X_test, y_test)\n",
      "  File \"C:\\Users\\antho\\AppData\\Roaming\\Python\\Python39\\site-packages\\sklearn\\metrics\\_scorer.py\", line 266, in __call__\n",
      "    return self._score(partial(_cached_call, None), estimator, X, y_true, **_kwargs)\n",
      "  File \"C:\\Users\\antho\\AppData\\Roaming\\Python\\Python39\\site-packages\\sklearn\\metrics\\_scorer.py\", line 353, in _score\n",
      "    y_pred = method_caller(estimator, \"predict\", X)\n",
      "  File \"C:\\Users\\antho\\AppData\\Roaming\\Python\\Python39\\site-packages\\sklearn\\metrics\\_scorer.py\", line 86, in _cached_call\n",
      "    result, _ = _get_response_values(\n",
      "  File \"C:\\Users\\antho\\AppData\\Roaming\\Python\\Python39\\site-packages\\sklearn\\utils\\_response.py\", line 194, in _get_response_values\n",
      "    y_pred = prediction_method(X)\n",
      "  File \"C:\\Users\\antho\\anaconda3\\lib\\site-packages\\imblearn\\pipeline.py\", line 460, in predict\n",
      "    return self.steps[-1][1].predict(Xt, **params)\n",
      "  File \"C:\\Users\\antho\\AppData\\Roaming\\Python\\Python39\\site-packages\\sklearn\\ensemble\\_bagging.py\", line 827, in predict\n",
      "    predicted_probabilitiy = self.predict_proba(X)\n",
      "  File \"C:\\Users\\antho\\AppData\\Roaming\\Python\\Python39\\site-packages\\sklearn\\ensemble\\_bagging.py\", line 865, in predict_proba\n",
      "    all_proba = Parallel(\n",
      "  File \"C:\\Users\\antho\\AppData\\Roaming\\Python\\Python39\\site-packages\\sklearn\\utils\\parallel.py\", line 65, in __call__\n",
      "    return super().__call__(iterable_with_config)\n",
      "  File \"C:\\Users\\antho\\AppData\\Roaming\\Python\\Python39\\site-packages\\joblib\\parallel.py\", line 1863, in __call__\n",
      "    return output if self.return_generator else list(output)\n",
      "  File \"C:\\Users\\antho\\AppData\\Roaming\\Python\\Python39\\site-packages\\joblib\\parallel.py\", line 1792, in _get_sequential_output\n",
      "    res = func(*args, **kwargs)\n",
      "  File \"C:\\Users\\antho\\AppData\\Roaming\\Python\\Python39\\site-packages\\sklearn\\utils\\parallel.py\", line 127, in __call__\n",
      "    return self.function(*args, **kwargs)\n",
      "  File \"C:\\Users\\antho\\AppData\\Roaming\\Python\\Python39\\site-packages\\sklearn\\ensemble\\_bagging.py\", line 159, in _parallel_predict_proba\n",
      "    proba_estimator = estimator.predict_proba(X[:, features])\n",
      "  File \"C:\\Users\\antho\\AppData\\Roaming\\Python\\Python39\\site-packages\\sklearn\\neighbors\\_classification.py\", line 355, in predict_proba\n",
      "    neigh_ind = self.kneighbors(X, return_distance=False)\n",
      "  File \"C:\\Users\\antho\\AppData\\Roaming\\Python\\Python39\\site-packages\\sklearn\\neighbors\\_base.py\", line 808, in kneighbors\n",
      "    raise ValueError(\n",
      "ValueError: Expected n_neighbors <= n_samples,  but n_samples = 4, n_neighbors = 5\n",
      "\n",
      "  warnings.warn(\n",
      "C:\\Users\\antho\\AppData\\Roaming\\Python\\Python39\\site-packages\\sklearn\\ensemble\\_base.py:156: FutureWarning: `base_estimator` was renamed to `estimator` in version 1.2 and will be removed in 1.4.\n",
      "  warnings.warn(\n",
      "C:\\Users\\antho\\AppData\\Roaming\\Python\\Python39\\site-packages\\sklearn\\model_selection\\_validation.py:821: UserWarning: Scoring failed. The score on this train-test partition for these parameters will be set to nan. Details: \n",
      "Traceback (most recent call last):\n",
      "  File \"C:\\Users\\antho\\AppData\\Roaming\\Python\\Python39\\site-packages\\sklearn\\model_selection\\_validation.py\", line 810, in _score\n",
      "    scores = scorer(estimator, X_test, y_test)\n",
      "  File \"C:\\Users\\antho\\AppData\\Roaming\\Python\\Python39\\site-packages\\sklearn\\metrics\\_scorer.py\", line 266, in __call__\n",
      "    return self._score(partial(_cached_call, None), estimator, X, y_true, **_kwargs)\n",
      "  File \"C:\\Users\\antho\\AppData\\Roaming\\Python\\Python39\\site-packages\\sklearn\\metrics\\_scorer.py\", line 355, in _score\n",
      "    return self._sign * self._score_func(y_true, y_pred, **scoring_kwargs)\n",
      "  File \"C:\\Users\\antho\\AppData\\Roaming\\Python\\Python39\\site-packages\\sklearn\\utils\\_param_validation.py\", line 214, in wrapper\n",
      "    return func(*args, **kwargs)\n",
      "  File \"C:\\Users\\antho\\AppData\\Roaming\\Python\\Python39\\site-packages\\sklearn\\metrics\\_classification.py\", line 2304, in recall_score\n",
      "    _, r, _, _ = precision_recall_fscore_support(\n",
      "  File \"C:\\Users\\antho\\AppData\\Roaming\\Python\\Python39\\site-packages\\sklearn\\utils\\_param_validation.py\", line 187, in wrapper\n",
      "    return func(*args, **kwargs)\n",
      "  File \"C:\\Users\\antho\\AppData\\Roaming\\Python\\Python39\\site-packages\\sklearn\\metrics\\_classification.py\", line 1724, in precision_recall_fscore_support\n",
      "    labels = _check_set_wise_labels(y_true, y_pred, average, labels, pos_label)\n",
      "  File \"C:\\Users\\antho\\AppData\\Roaming\\Python\\Python39\\site-packages\\sklearn\\metrics\\_classification.py\", line 1518, in _check_set_wise_labels\n",
      "    raise ValueError(\n",
      "ValueError: Target is multiclass but average='binary'. Please choose another average setting, one of [None, 'micro', 'macro', 'weighted'].\n",
      "\n",
      "  warnings.warn(\n",
      "C:\\Users\\antho\\AppData\\Roaming\\Python\\Python39\\site-packages\\sklearn\\ensemble\\_base.py:156: FutureWarning: `base_estimator` was renamed to `estimator` in version 1.2 and will be removed in 1.4.\n",
      "  warnings.warn(\n",
      "C:\\Users\\antho\\AppData\\Roaming\\Python\\Python39\\site-packages\\sklearn\\model_selection\\_validation.py:821: UserWarning: Scoring failed. The score on this train-test partition for these parameters will be set to nan. Details: \n",
      "Traceback (most recent call last):\n",
      "  File \"C:\\Users\\antho\\AppData\\Roaming\\Python\\Python39\\site-packages\\sklearn\\model_selection\\_validation.py\", line 810, in _score\n",
      "    scores = scorer(estimator, X_test, y_test)\n",
      "  File \"C:\\Users\\antho\\AppData\\Roaming\\Python\\Python39\\site-packages\\sklearn\\metrics\\_scorer.py\", line 266, in __call__\n",
      "    return self._score(partial(_cached_call, None), estimator, X, y_true, **_kwargs)\n",
      "  File \"C:\\Users\\antho\\AppData\\Roaming\\Python\\Python39\\site-packages\\sklearn\\metrics\\_scorer.py\", line 355, in _score\n",
      "    return self._sign * self._score_func(y_true, y_pred, **scoring_kwargs)\n",
      "  File \"C:\\Users\\antho\\AppData\\Roaming\\Python\\Python39\\site-packages\\sklearn\\utils\\_param_validation.py\", line 214, in wrapper\n",
      "    return func(*args, **kwargs)\n",
      "  File \"C:\\Users\\antho\\AppData\\Roaming\\Python\\Python39\\site-packages\\sklearn\\metrics\\_classification.py\", line 2304, in recall_score\n",
      "    _, r, _, _ = precision_recall_fscore_support(\n",
      "  File \"C:\\Users\\antho\\AppData\\Roaming\\Python\\Python39\\site-packages\\sklearn\\utils\\_param_validation.py\", line 187, in wrapper\n",
      "    return func(*args, **kwargs)\n",
      "  File \"C:\\Users\\antho\\AppData\\Roaming\\Python\\Python39\\site-packages\\sklearn\\metrics\\_classification.py\", line 1724, in precision_recall_fscore_support\n",
      "    labels = _check_set_wise_labels(y_true, y_pred, average, labels, pos_label)\n",
      "  File \"C:\\Users\\antho\\AppData\\Roaming\\Python\\Python39\\site-packages\\sklearn\\metrics\\_classification.py\", line 1518, in _check_set_wise_labels\n",
      "    raise ValueError(\n",
      "ValueError: Target is multiclass but average='binary'. Please choose another average setting, one of [None, 'micro', 'macro', 'weighted'].\n",
      "\n",
      "  warnings.warn(\n",
      "C:\\Users\\antho\\AppData\\Roaming\\Python\\Python39\\site-packages\\sklearn\\ensemble\\_base.py:156: FutureWarning: `base_estimator` was renamed to `estimator` in version 1.2 and will be removed in 1.4.\n",
      "  warnings.warn(\n",
      "C:\\Users\\antho\\AppData\\Roaming\\Python\\Python39\\site-packages\\sklearn\\model_selection\\_validation.py:821: UserWarning: Scoring failed. The score on this train-test partition for these parameters will be set to nan. Details: \n",
      "Traceback (most recent call last):\n",
      "  File \"C:\\Users\\antho\\AppData\\Roaming\\Python\\Python39\\site-packages\\sklearn\\model_selection\\_validation.py\", line 810, in _score\n",
      "    scores = scorer(estimator, X_test, y_test)\n",
      "  File \"C:\\Users\\antho\\AppData\\Roaming\\Python\\Python39\\site-packages\\sklearn\\metrics\\_scorer.py\", line 266, in __call__\n",
      "    return self._score(partial(_cached_call, None), estimator, X, y_true, **_kwargs)\n",
      "  File \"C:\\Users\\antho\\AppData\\Roaming\\Python\\Python39\\site-packages\\sklearn\\metrics\\_scorer.py\", line 355, in _score\n",
      "    return self._sign * self._score_func(y_true, y_pred, **scoring_kwargs)\n",
      "  File \"C:\\Users\\antho\\AppData\\Roaming\\Python\\Python39\\site-packages\\sklearn\\utils\\_param_validation.py\", line 214, in wrapper\n",
      "    return func(*args, **kwargs)\n",
      "  File \"C:\\Users\\antho\\AppData\\Roaming\\Python\\Python39\\site-packages\\sklearn\\metrics\\_classification.py\", line 2304, in recall_score\n",
      "    _, r, _, _ = precision_recall_fscore_support(\n",
      "  File \"C:\\Users\\antho\\AppData\\Roaming\\Python\\Python39\\site-packages\\sklearn\\utils\\_param_validation.py\", line 187, in wrapper\n",
      "    return func(*args, **kwargs)\n",
      "  File \"C:\\Users\\antho\\AppData\\Roaming\\Python\\Python39\\site-packages\\sklearn\\metrics\\_classification.py\", line 1724, in precision_recall_fscore_support\n",
      "    labels = _check_set_wise_labels(y_true, y_pred, average, labels, pos_label)\n",
      "  File \"C:\\Users\\antho\\AppData\\Roaming\\Python\\Python39\\site-packages\\sklearn\\metrics\\_classification.py\", line 1518, in _check_set_wise_labels\n",
      "    raise ValueError(\n",
      "ValueError: Target is multiclass but average='binary'. Please choose another average setting, one of [None, 'micro', 'macro', 'weighted'].\n",
      "\n",
      "  warnings.warn(\n",
      "C:\\Users\\antho\\AppData\\Roaming\\Python\\Python39\\site-packages\\sklearn\\ensemble\\_base.py:156: FutureWarning: `base_estimator` was renamed to `estimator` in version 1.2 and will be removed in 1.4.\n",
      "  warnings.warn(\n",
      "C:\\Users\\antho\\AppData\\Roaming\\Python\\Python39\\site-packages\\sklearn\\model_selection\\_validation.py:821: UserWarning: Scoring failed. The score on this train-test partition for these parameters will be set to nan. Details: \n",
      "Traceback (most recent call last):\n",
      "  File \"C:\\Users\\antho\\AppData\\Roaming\\Python\\Python39\\site-packages\\sklearn\\model_selection\\_validation.py\", line 810, in _score\n",
      "    scores = scorer(estimator, X_test, y_test)\n",
      "  File \"C:\\Users\\antho\\AppData\\Roaming\\Python\\Python39\\site-packages\\sklearn\\metrics\\_scorer.py\", line 266, in __call__\n",
      "    return self._score(partial(_cached_call, None), estimator, X, y_true, **_kwargs)\n",
      "  File \"C:\\Users\\antho\\AppData\\Roaming\\Python\\Python39\\site-packages\\sklearn\\metrics\\_scorer.py\", line 355, in _score\n",
      "    return self._sign * self._score_func(y_true, y_pred, **scoring_kwargs)\n",
      "  File \"C:\\Users\\antho\\AppData\\Roaming\\Python\\Python39\\site-packages\\sklearn\\utils\\_param_validation.py\", line 214, in wrapper\n",
      "    return func(*args, **kwargs)\n",
      "  File \"C:\\Users\\antho\\AppData\\Roaming\\Python\\Python39\\site-packages\\sklearn\\metrics\\_classification.py\", line 2304, in recall_score\n",
      "    _, r, _, _ = precision_recall_fscore_support(\n",
      "  File \"C:\\Users\\antho\\AppData\\Roaming\\Python\\Python39\\site-packages\\sklearn\\utils\\_param_validation.py\", line 187, in wrapper\n",
      "    return func(*args, **kwargs)\n",
      "  File \"C:\\Users\\antho\\AppData\\Roaming\\Python\\Python39\\site-packages\\sklearn\\metrics\\_classification.py\", line 1724, in precision_recall_fscore_support\n",
      "    labels = _check_set_wise_labels(y_true, y_pred, average, labels, pos_label)\n",
      "  File \"C:\\Users\\antho\\AppData\\Roaming\\Python\\Python39\\site-packages\\sklearn\\metrics\\_classification.py\", line 1518, in _check_set_wise_labels\n",
      "    raise ValueError(\n",
      "ValueError: Target is multiclass but average='binary'. Please choose another average setting, one of [None, 'micro', 'macro', 'weighted'].\n",
      "\n",
      "  warnings.warn(\n",
      "C:\\Users\\antho\\AppData\\Roaming\\Python\\Python39\\site-packages\\sklearn\\ensemble\\_base.py:156: FutureWarning: `base_estimator` was renamed to `estimator` in version 1.2 and will be removed in 1.4.\n",
      "  warnings.warn(\n"
     ]
    },
    {
     "name": "stderr",
     "output_type": "stream",
     "text": [
      "C:\\Users\\antho\\AppData\\Roaming\\Python\\Python39\\site-packages\\sklearn\\model_selection\\_validation.py:821: UserWarning: Scoring failed. The score on this train-test partition for these parameters will be set to nan. Details: \n",
      "Traceback (most recent call last):\n",
      "  File \"C:\\Users\\antho\\AppData\\Roaming\\Python\\Python39\\site-packages\\sklearn\\model_selection\\_validation.py\", line 810, in _score\n",
      "    scores = scorer(estimator, X_test, y_test)\n",
      "  File \"C:\\Users\\antho\\AppData\\Roaming\\Python\\Python39\\site-packages\\sklearn\\metrics\\_scorer.py\", line 266, in __call__\n",
      "    return self._score(partial(_cached_call, None), estimator, X, y_true, **_kwargs)\n",
      "  File \"C:\\Users\\antho\\AppData\\Roaming\\Python\\Python39\\site-packages\\sklearn\\metrics\\_scorer.py\", line 355, in _score\n",
      "    return self._sign * self._score_func(y_true, y_pred, **scoring_kwargs)\n",
      "  File \"C:\\Users\\antho\\AppData\\Roaming\\Python\\Python39\\site-packages\\sklearn\\utils\\_param_validation.py\", line 214, in wrapper\n",
      "    return func(*args, **kwargs)\n",
      "  File \"C:\\Users\\antho\\AppData\\Roaming\\Python\\Python39\\site-packages\\sklearn\\metrics\\_classification.py\", line 2304, in recall_score\n",
      "    _, r, _, _ = precision_recall_fscore_support(\n",
      "  File \"C:\\Users\\antho\\AppData\\Roaming\\Python\\Python39\\site-packages\\sklearn\\utils\\_param_validation.py\", line 187, in wrapper\n",
      "    return func(*args, **kwargs)\n",
      "  File \"C:\\Users\\antho\\AppData\\Roaming\\Python\\Python39\\site-packages\\sklearn\\metrics\\_classification.py\", line 1724, in precision_recall_fscore_support\n",
      "    labels = _check_set_wise_labels(y_true, y_pred, average, labels, pos_label)\n",
      "  File \"C:\\Users\\antho\\AppData\\Roaming\\Python\\Python39\\site-packages\\sklearn\\metrics\\_classification.py\", line 1518, in _check_set_wise_labels\n",
      "    raise ValueError(\n",
      "ValueError: Target is multiclass but average='binary'. Please choose another average setting, one of [None, 'micro', 'macro', 'weighted'].\n",
      "\n",
      "  warnings.warn(\n",
      "C:\\Users\\antho\\AppData\\Roaming\\Python\\Python39\\site-packages\\sklearn\\ensemble\\_base.py:156: FutureWarning: `base_estimator` was renamed to `estimator` in version 1.2 and will be removed in 1.4.\n",
      "  warnings.warn(\n",
      "C:\\Users\\antho\\AppData\\Roaming\\Python\\Python39\\site-packages\\sklearn\\model_selection\\_validation.py:821: UserWarning: Scoring failed. The score on this train-test partition for these parameters will be set to nan. Details: \n",
      "Traceback (most recent call last):\n",
      "  File \"C:\\Users\\antho\\AppData\\Roaming\\Python\\Python39\\site-packages\\sklearn\\model_selection\\_validation.py\", line 810, in _score\n",
      "    scores = scorer(estimator, X_test, y_test)\n",
      "  File \"C:\\Users\\antho\\AppData\\Roaming\\Python\\Python39\\site-packages\\sklearn\\metrics\\_scorer.py\", line 266, in __call__\n",
      "    return self._score(partial(_cached_call, None), estimator, X, y_true, **_kwargs)\n",
      "  File \"C:\\Users\\antho\\AppData\\Roaming\\Python\\Python39\\site-packages\\sklearn\\metrics\\_scorer.py\", line 355, in _score\n",
      "    return self._sign * self._score_func(y_true, y_pred, **scoring_kwargs)\n",
      "  File \"C:\\Users\\antho\\AppData\\Roaming\\Python\\Python39\\site-packages\\sklearn\\utils\\_param_validation.py\", line 214, in wrapper\n",
      "    return func(*args, **kwargs)\n",
      "  File \"C:\\Users\\antho\\AppData\\Roaming\\Python\\Python39\\site-packages\\sklearn\\metrics\\_classification.py\", line 2304, in recall_score\n",
      "    _, r, _, _ = precision_recall_fscore_support(\n",
      "  File \"C:\\Users\\antho\\AppData\\Roaming\\Python\\Python39\\site-packages\\sklearn\\utils\\_param_validation.py\", line 187, in wrapper\n",
      "    return func(*args, **kwargs)\n",
      "  File \"C:\\Users\\antho\\AppData\\Roaming\\Python\\Python39\\site-packages\\sklearn\\metrics\\_classification.py\", line 1724, in precision_recall_fscore_support\n",
      "    labels = _check_set_wise_labels(y_true, y_pred, average, labels, pos_label)\n",
      "  File \"C:\\Users\\antho\\AppData\\Roaming\\Python\\Python39\\site-packages\\sklearn\\metrics\\_classification.py\", line 1518, in _check_set_wise_labels\n",
      "    raise ValueError(\n",
      "ValueError: Target is multiclass but average='binary'. Please choose another average setting, one of [None, 'micro', 'macro', 'weighted'].\n",
      "\n",
      "  warnings.warn(\n",
      "C:\\Users\\antho\\AppData\\Roaming\\Python\\Python39\\site-packages\\sklearn\\ensemble\\_base.py:156: FutureWarning: `base_estimator` was renamed to `estimator` in version 1.2 and will be removed in 1.4.\n",
      "  warnings.warn(\n",
      "C:\\Users\\antho\\AppData\\Roaming\\Python\\Python39\\site-packages\\sklearn\\model_selection\\_validation.py:821: UserWarning: Scoring failed. The score on this train-test partition for these parameters will be set to nan. Details: \n",
      "Traceback (most recent call last):\n",
      "  File \"C:\\Users\\antho\\AppData\\Roaming\\Python\\Python39\\site-packages\\sklearn\\model_selection\\_validation.py\", line 810, in _score\n",
      "    scores = scorer(estimator, X_test, y_test)\n",
      "  File \"C:\\Users\\antho\\AppData\\Roaming\\Python\\Python39\\site-packages\\sklearn\\metrics\\_scorer.py\", line 266, in __call__\n",
      "    return self._score(partial(_cached_call, None), estimator, X, y_true, **_kwargs)\n",
      "  File \"C:\\Users\\antho\\AppData\\Roaming\\Python\\Python39\\site-packages\\sklearn\\metrics\\_scorer.py\", line 355, in _score\n",
      "    return self._sign * self._score_func(y_true, y_pred, **scoring_kwargs)\n",
      "  File \"C:\\Users\\antho\\AppData\\Roaming\\Python\\Python39\\site-packages\\sklearn\\utils\\_param_validation.py\", line 214, in wrapper\n",
      "    return func(*args, **kwargs)\n",
      "  File \"C:\\Users\\antho\\AppData\\Roaming\\Python\\Python39\\site-packages\\sklearn\\metrics\\_classification.py\", line 2304, in recall_score\n",
      "    _, r, _, _ = precision_recall_fscore_support(\n",
      "  File \"C:\\Users\\antho\\AppData\\Roaming\\Python\\Python39\\site-packages\\sklearn\\utils\\_param_validation.py\", line 187, in wrapper\n",
      "    return func(*args, **kwargs)\n",
      "  File \"C:\\Users\\antho\\AppData\\Roaming\\Python\\Python39\\site-packages\\sklearn\\metrics\\_classification.py\", line 1724, in precision_recall_fscore_support\n",
      "    labels = _check_set_wise_labels(y_true, y_pred, average, labels, pos_label)\n",
      "  File \"C:\\Users\\antho\\AppData\\Roaming\\Python\\Python39\\site-packages\\sklearn\\metrics\\_classification.py\", line 1518, in _check_set_wise_labels\n",
      "    raise ValueError(\n",
      "ValueError: Target is multiclass but average='binary'. Please choose another average setting, one of [None, 'micro', 'macro', 'weighted'].\n",
      "\n",
      "  warnings.warn(\n",
      "C:\\Users\\antho\\AppData\\Roaming\\Python\\Python39\\site-packages\\sklearn\\ensemble\\_base.py:156: FutureWarning: `base_estimator` was renamed to `estimator` in version 1.2 and will be removed in 1.4.\n",
      "  warnings.warn(\n",
      "C:\\Users\\antho\\AppData\\Roaming\\Python\\Python39\\site-packages\\sklearn\\model_selection\\_validation.py:821: UserWarning: Scoring failed. The score on this train-test partition for these parameters will be set to nan. Details: \n",
      "Traceback (most recent call last):\n",
      "  File \"C:\\Users\\antho\\AppData\\Roaming\\Python\\Python39\\site-packages\\sklearn\\model_selection\\_validation.py\", line 810, in _score\n",
      "    scores = scorer(estimator, X_test, y_test)\n",
      "  File \"C:\\Users\\antho\\AppData\\Roaming\\Python\\Python39\\site-packages\\sklearn\\metrics\\_scorer.py\", line 266, in __call__\n",
      "    return self._score(partial(_cached_call, None), estimator, X, y_true, **_kwargs)\n",
      "  File \"C:\\Users\\antho\\AppData\\Roaming\\Python\\Python39\\site-packages\\sklearn\\metrics\\_scorer.py\", line 355, in _score\n",
      "    return self._sign * self._score_func(y_true, y_pred, **scoring_kwargs)\n",
      "  File \"C:\\Users\\antho\\AppData\\Roaming\\Python\\Python39\\site-packages\\sklearn\\utils\\_param_validation.py\", line 214, in wrapper\n",
      "    return func(*args, **kwargs)\n",
      "  File \"C:\\Users\\antho\\AppData\\Roaming\\Python\\Python39\\site-packages\\sklearn\\metrics\\_classification.py\", line 2304, in recall_score\n",
      "    _, r, _, _ = precision_recall_fscore_support(\n",
      "  File \"C:\\Users\\antho\\AppData\\Roaming\\Python\\Python39\\site-packages\\sklearn\\utils\\_param_validation.py\", line 187, in wrapper\n",
      "    return func(*args, **kwargs)\n",
      "  File \"C:\\Users\\antho\\AppData\\Roaming\\Python\\Python39\\site-packages\\sklearn\\metrics\\_classification.py\", line 1724, in precision_recall_fscore_support\n",
      "    labels = _check_set_wise_labels(y_true, y_pred, average, labels, pos_label)\n",
      "  File \"C:\\Users\\antho\\AppData\\Roaming\\Python\\Python39\\site-packages\\sklearn\\metrics\\_classification.py\", line 1518, in _check_set_wise_labels\n",
      "    raise ValueError(\n",
      "ValueError: Target is multiclass but average='binary'. Please choose another average setting, one of [None, 'micro', 'macro', 'weighted'].\n",
      "\n",
      "  warnings.warn(\n",
      "C:\\Users\\antho\\AppData\\Roaming\\Python\\Python39\\site-packages\\sklearn\\ensemble\\_base.py:156: FutureWarning: `base_estimator` was renamed to `estimator` in version 1.2 and will be removed in 1.4.\n",
      "  warnings.warn(\n"
     ]
    },
    {
     "name": "stderr",
     "output_type": "stream",
     "text": [
      "C:\\Users\\antho\\AppData\\Roaming\\Python\\Python39\\site-packages\\sklearn\\model_selection\\_validation.py:821: UserWarning: Scoring failed. The score on this train-test partition for these parameters will be set to nan. Details: \n",
      "Traceback (most recent call last):\n",
      "  File \"C:\\Users\\antho\\AppData\\Roaming\\Python\\Python39\\site-packages\\sklearn\\model_selection\\_validation.py\", line 810, in _score\n",
      "    scores = scorer(estimator, X_test, y_test)\n",
      "  File \"C:\\Users\\antho\\AppData\\Roaming\\Python\\Python39\\site-packages\\sklearn\\metrics\\_scorer.py\", line 266, in __call__\n",
      "    return self._score(partial(_cached_call, None), estimator, X, y_true, **_kwargs)\n",
      "  File \"C:\\Users\\antho\\AppData\\Roaming\\Python\\Python39\\site-packages\\sklearn\\metrics\\_scorer.py\", line 355, in _score\n",
      "    return self._sign * self._score_func(y_true, y_pred, **scoring_kwargs)\n",
      "  File \"C:\\Users\\antho\\AppData\\Roaming\\Python\\Python39\\site-packages\\sklearn\\utils\\_param_validation.py\", line 214, in wrapper\n",
      "    return func(*args, **kwargs)\n",
      "  File \"C:\\Users\\antho\\AppData\\Roaming\\Python\\Python39\\site-packages\\sklearn\\metrics\\_classification.py\", line 2304, in recall_score\n",
      "    _, r, _, _ = precision_recall_fscore_support(\n",
      "  File \"C:\\Users\\antho\\AppData\\Roaming\\Python\\Python39\\site-packages\\sklearn\\utils\\_param_validation.py\", line 187, in wrapper\n",
      "    return func(*args, **kwargs)\n",
      "  File \"C:\\Users\\antho\\AppData\\Roaming\\Python\\Python39\\site-packages\\sklearn\\metrics\\_classification.py\", line 1724, in precision_recall_fscore_support\n",
      "    labels = _check_set_wise_labels(y_true, y_pred, average, labels, pos_label)\n",
      "  File \"C:\\Users\\antho\\AppData\\Roaming\\Python\\Python39\\site-packages\\sklearn\\metrics\\_classification.py\", line 1518, in _check_set_wise_labels\n",
      "    raise ValueError(\n",
      "ValueError: Target is multiclass but average='binary'. Please choose another average setting, one of [None, 'micro', 'macro', 'weighted'].\n",
      "\n",
      "  warnings.warn(\n",
      "C:\\Users\\antho\\AppData\\Roaming\\Python\\Python39\\site-packages\\sklearn\\ensemble\\_base.py:156: FutureWarning: `base_estimator` was renamed to `estimator` in version 1.2 and will be removed in 1.4.\n",
      "  warnings.warn(\n",
      "C:\\Users\\antho\\AppData\\Roaming\\Python\\Python39\\site-packages\\sklearn\\model_selection\\_validation.py:821: UserWarning: Scoring failed. The score on this train-test partition for these parameters will be set to nan. Details: \n",
      "Traceback (most recent call last):\n",
      "  File \"C:\\Users\\antho\\AppData\\Roaming\\Python\\Python39\\site-packages\\sklearn\\model_selection\\_validation.py\", line 810, in _score\n",
      "    scores = scorer(estimator, X_test, y_test)\n",
      "  File \"C:\\Users\\antho\\AppData\\Roaming\\Python\\Python39\\site-packages\\sklearn\\metrics\\_scorer.py\", line 266, in __call__\n",
      "    return self._score(partial(_cached_call, None), estimator, X, y_true, **_kwargs)\n",
      "  File \"C:\\Users\\antho\\AppData\\Roaming\\Python\\Python39\\site-packages\\sklearn\\metrics\\_scorer.py\", line 355, in _score\n",
      "    return self._sign * self._score_func(y_true, y_pred, **scoring_kwargs)\n",
      "  File \"C:\\Users\\antho\\AppData\\Roaming\\Python\\Python39\\site-packages\\sklearn\\utils\\_param_validation.py\", line 214, in wrapper\n",
      "    return func(*args, **kwargs)\n",
      "  File \"C:\\Users\\antho\\AppData\\Roaming\\Python\\Python39\\site-packages\\sklearn\\metrics\\_classification.py\", line 2304, in recall_score\n",
      "    _, r, _, _ = precision_recall_fscore_support(\n",
      "  File \"C:\\Users\\antho\\AppData\\Roaming\\Python\\Python39\\site-packages\\sklearn\\utils\\_param_validation.py\", line 187, in wrapper\n",
      "    return func(*args, **kwargs)\n",
      "  File \"C:\\Users\\antho\\AppData\\Roaming\\Python\\Python39\\site-packages\\sklearn\\metrics\\_classification.py\", line 1724, in precision_recall_fscore_support\n",
      "    labels = _check_set_wise_labels(y_true, y_pred, average, labels, pos_label)\n",
      "  File \"C:\\Users\\antho\\AppData\\Roaming\\Python\\Python39\\site-packages\\sklearn\\metrics\\_classification.py\", line 1518, in _check_set_wise_labels\n",
      "    raise ValueError(\n",
      "ValueError: Target is multiclass but average='binary'. Please choose another average setting, one of [None, 'micro', 'macro', 'weighted'].\n",
      "\n",
      "  warnings.warn(\n",
      "C:\\Users\\antho\\AppData\\Roaming\\Python\\Python39\\site-packages\\sklearn\\ensemble\\_base.py:156: FutureWarning: `base_estimator` was renamed to `estimator` in version 1.2 and will be removed in 1.4.\n",
      "  warnings.warn(\n",
      "C:\\Users\\antho\\AppData\\Roaming\\Python\\Python39\\site-packages\\sklearn\\model_selection\\_validation.py:821: UserWarning: Scoring failed. The score on this train-test partition for these parameters will be set to nan. Details: \n",
      "Traceback (most recent call last):\n",
      "  File \"C:\\Users\\antho\\AppData\\Roaming\\Python\\Python39\\site-packages\\sklearn\\model_selection\\_validation.py\", line 810, in _score\n",
      "    scores = scorer(estimator, X_test, y_test)\n",
      "  File \"C:\\Users\\antho\\AppData\\Roaming\\Python\\Python39\\site-packages\\sklearn\\metrics\\_scorer.py\", line 266, in __call__\n",
      "    return self._score(partial(_cached_call, None), estimator, X, y_true, **_kwargs)\n",
      "  File \"C:\\Users\\antho\\AppData\\Roaming\\Python\\Python39\\site-packages\\sklearn\\metrics\\_scorer.py\", line 355, in _score\n",
      "    return self._sign * self._score_func(y_true, y_pred, **scoring_kwargs)\n",
      "  File \"C:\\Users\\antho\\AppData\\Roaming\\Python\\Python39\\site-packages\\sklearn\\utils\\_param_validation.py\", line 214, in wrapper\n",
      "    return func(*args, **kwargs)\n",
      "  File \"C:\\Users\\antho\\AppData\\Roaming\\Python\\Python39\\site-packages\\sklearn\\metrics\\_classification.py\", line 2304, in recall_score\n",
      "    _, r, _, _ = precision_recall_fscore_support(\n",
      "  File \"C:\\Users\\antho\\AppData\\Roaming\\Python\\Python39\\site-packages\\sklearn\\utils\\_param_validation.py\", line 187, in wrapper\n",
      "    return func(*args, **kwargs)\n",
      "  File \"C:\\Users\\antho\\AppData\\Roaming\\Python\\Python39\\site-packages\\sklearn\\metrics\\_classification.py\", line 1724, in precision_recall_fscore_support\n",
      "    labels = _check_set_wise_labels(y_true, y_pred, average, labels, pos_label)\n",
      "  File \"C:\\Users\\antho\\AppData\\Roaming\\Python\\Python39\\site-packages\\sklearn\\metrics\\_classification.py\", line 1518, in _check_set_wise_labels\n",
      "    raise ValueError(\n",
      "ValueError: Target is multiclass but average='binary'. Please choose another average setting, one of [None, 'micro', 'macro', 'weighted'].\n",
      "\n",
      "  warnings.warn(\n",
      "C:\\Users\\antho\\AppData\\Roaming\\Python\\Python39\\site-packages\\sklearn\\ensemble\\_base.py:156: FutureWarning: `base_estimator` was renamed to `estimator` in version 1.2 and will be removed in 1.4.\n",
      "  warnings.warn(\n",
      "C:\\Users\\antho\\AppData\\Roaming\\Python\\Python39\\site-packages\\sklearn\\model_selection\\_validation.py:821: UserWarning: Scoring failed. The score on this train-test partition for these parameters will be set to nan. Details: \n",
      "Traceback (most recent call last):\n",
      "  File \"C:\\Users\\antho\\AppData\\Roaming\\Python\\Python39\\site-packages\\sklearn\\model_selection\\_validation.py\", line 810, in _score\n",
      "    scores = scorer(estimator, X_test, y_test)\n",
      "  File \"C:\\Users\\antho\\AppData\\Roaming\\Python\\Python39\\site-packages\\sklearn\\metrics\\_scorer.py\", line 266, in __call__\n",
      "    return self._score(partial(_cached_call, None), estimator, X, y_true, **_kwargs)\n",
      "  File \"C:\\Users\\antho\\AppData\\Roaming\\Python\\Python39\\site-packages\\sklearn\\metrics\\_scorer.py\", line 355, in _score\n",
      "    return self._sign * self._score_func(y_true, y_pred, **scoring_kwargs)\n",
      "  File \"C:\\Users\\antho\\AppData\\Roaming\\Python\\Python39\\site-packages\\sklearn\\utils\\_param_validation.py\", line 214, in wrapper\n",
      "    return func(*args, **kwargs)\n",
      "  File \"C:\\Users\\antho\\AppData\\Roaming\\Python\\Python39\\site-packages\\sklearn\\metrics\\_classification.py\", line 2304, in recall_score\n",
      "    _, r, _, _ = precision_recall_fscore_support(\n",
      "  File \"C:\\Users\\antho\\AppData\\Roaming\\Python\\Python39\\site-packages\\sklearn\\utils\\_param_validation.py\", line 187, in wrapper\n",
      "    return func(*args, **kwargs)\n",
      "  File \"C:\\Users\\antho\\AppData\\Roaming\\Python\\Python39\\site-packages\\sklearn\\metrics\\_classification.py\", line 1724, in precision_recall_fscore_support\n",
      "    labels = _check_set_wise_labels(y_true, y_pred, average, labels, pos_label)\n",
      "  File \"C:\\Users\\antho\\AppData\\Roaming\\Python\\Python39\\site-packages\\sklearn\\metrics\\_classification.py\", line 1518, in _check_set_wise_labels\n",
      "    raise ValueError(\n",
      "ValueError: Target is multiclass but average='binary'. Please choose another average setting, one of [None, 'micro', 'macro', 'weighted'].\n",
      "\n",
      "  warnings.warn(\n",
      "C:\\Users\\antho\\AppData\\Roaming\\Python\\Python39\\site-packages\\sklearn\\ensemble\\_base.py:156: FutureWarning: `base_estimator` was renamed to `estimator` in version 1.2 and will be removed in 1.4.\n",
      "  warnings.warn(\n",
      "C:\\Users\\antho\\AppData\\Roaming\\Python\\Python39\\site-packages\\sklearn\\model_selection\\_validation.py:821: UserWarning: Scoring failed. The score on this train-test partition for these parameters will be set to nan. Details: \n",
      "Traceback (most recent call last):\n",
      "  File \"C:\\Users\\antho\\AppData\\Roaming\\Python\\Python39\\site-packages\\sklearn\\model_selection\\_validation.py\", line 810, in _score\n",
      "    scores = scorer(estimator, X_test, y_test)\n",
      "  File \"C:\\Users\\antho\\AppData\\Roaming\\Python\\Python39\\site-packages\\sklearn\\metrics\\_scorer.py\", line 266, in __call__\n",
      "    return self._score(partial(_cached_call, None), estimator, X, y_true, **_kwargs)\n",
      "  File \"C:\\Users\\antho\\AppData\\Roaming\\Python\\Python39\\site-packages\\sklearn\\metrics\\_scorer.py\", line 355, in _score\n",
      "    return self._sign * self._score_func(y_true, y_pred, **scoring_kwargs)\n",
      "  File \"C:\\Users\\antho\\AppData\\Roaming\\Python\\Python39\\site-packages\\sklearn\\utils\\_param_validation.py\", line 214, in wrapper\n",
      "    return func(*args, **kwargs)\n",
      "  File \"C:\\Users\\antho\\AppData\\Roaming\\Python\\Python39\\site-packages\\sklearn\\metrics\\_classification.py\", line 2304, in recall_score\n",
      "    _, r, _, _ = precision_recall_fscore_support(\n",
      "  File \"C:\\Users\\antho\\AppData\\Roaming\\Python\\Python39\\site-packages\\sklearn\\utils\\_param_validation.py\", line 187, in wrapper\n",
      "    return func(*args, **kwargs)\n",
      "  File \"C:\\Users\\antho\\AppData\\Roaming\\Python\\Python39\\site-packages\\sklearn\\metrics\\_classification.py\", line 1724, in precision_recall_fscore_support\n",
      "    labels = _check_set_wise_labels(y_true, y_pred, average, labels, pos_label)\n",
      "  File \"C:\\Users\\antho\\AppData\\Roaming\\Python\\Python39\\site-packages\\sklearn\\metrics\\_classification.py\", line 1518, in _check_set_wise_labels\n",
      "    raise ValueError(\n",
      "ValueError: Target is multiclass but average='binary'. Please choose another average setting, one of [None, 'micro', 'macro', 'weighted'].\n",
      "\n",
      "  warnings.warn(\n",
      "C:\\Users\\antho\\AppData\\Roaming\\Python\\Python39\\site-packages\\sklearn\\ensemble\\_base.py:156: FutureWarning: `base_estimator` was renamed to `estimator` in version 1.2 and will be removed in 1.4.\n",
      "  warnings.warn(\n"
     ]
    },
    {
     "name": "stderr",
     "output_type": "stream",
     "text": [
      "C:\\Users\\antho\\AppData\\Roaming\\Python\\Python39\\site-packages\\sklearn\\model_selection\\_validation.py:821: UserWarning: Scoring failed. The score on this train-test partition for these parameters will be set to nan. Details: \n",
      "Traceback (most recent call last):\n",
      "  File \"C:\\Users\\antho\\AppData\\Roaming\\Python\\Python39\\site-packages\\sklearn\\model_selection\\_validation.py\", line 810, in _score\n",
      "    scores = scorer(estimator, X_test, y_test)\n",
      "  File \"C:\\Users\\antho\\AppData\\Roaming\\Python\\Python39\\site-packages\\sklearn\\metrics\\_scorer.py\", line 266, in __call__\n",
      "    return self._score(partial(_cached_call, None), estimator, X, y_true, **_kwargs)\n",
      "  File \"C:\\Users\\antho\\AppData\\Roaming\\Python\\Python39\\site-packages\\sklearn\\metrics\\_scorer.py\", line 355, in _score\n",
      "    return self._sign * self._score_func(y_true, y_pred, **scoring_kwargs)\n",
      "  File \"C:\\Users\\antho\\AppData\\Roaming\\Python\\Python39\\site-packages\\sklearn\\utils\\_param_validation.py\", line 214, in wrapper\n",
      "    return func(*args, **kwargs)\n",
      "  File \"C:\\Users\\antho\\AppData\\Roaming\\Python\\Python39\\site-packages\\sklearn\\metrics\\_classification.py\", line 2304, in recall_score\n",
      "    _, r, _, _ = precision_recall_fscore_support(\n",
      "  File \"C:\\Users\\antho\\AppData\\Roaming\\Python\\Python39\\site-packages\\sklearn\\utils\\_param_validation.py\", line 187, in wrapper\n",
      "    return func(*args, **kwargs)\n",
      "  File \"C:\\Users\\antho\\AppData\\Roaming\\Python\\Python39\\site-packages\\sklearn\\metrics\\_classification.py\", line 1724, in precision_recall_fscore_support\n",
      "    labels = _check_set_wise_labels(y_true, y_pred, average, labels, pos_label)\n",
      "  File \"C:\\Users\\antho\\AppData\\Roaming\\Python\\Python39\\site-packages\\sklearn\\metrics\\_classification.py\", line 1518, in _check_set_wise_labels\n",
      "    raise ValueError(\n",
      "ValueError: Target is multiclass but average='binary'. Please choose another average setting, one of [None, 'micro', 'macro', 'weighted'].\n",
      "\n",
      "  warnings.warn(\n",
      "C:\\Users\\antho\\AppData\\Roaming\\Python\\Python39\\site-packages\\sklearn\\ensemble\\_base.py:156: FutureWarning: `base_estimator` was renamed to `estimator` in version 1.2 and will be removed in 1.4.\n",
      "  warnings.warn(\n",
      "C:\\Users\\antho\\AppData\\Roaming\\Python\\Python39\\site-packages\\sklearn\\model_selection\\_validation.py:821: UserWarning: Scoring failed. The score on this train-test partition for these parameters will be set to nan. Details: \n",
      "Traceback (most recent call last):\n",
      "  File \"C:\\Users\\antho\\AppData\\Roaming\\Python\\Python39\\site-packages\\sklearn\\model_selection\\_validation.py\", line 810, in _score\n",
      "    scores = scorer(estimator, X_test, y_test)\n",
      "  File \"C:\\Users\\antho\\AppData\\Roaming\\Python\\Python39\\site-packages\\sklearn\\metrics\\_scorer.py\", line 266, in __call__\n",
      "    return self._score(partial(_cached_call, None), estimator, X, y_true, **_kwargs)\n",
      "  File \"C:\\Users\\antho\\AppData\\Roaming\\Python\\Python39\\site-packages\\sklearn\\metrics\\_scorer.py\", line 355, in _score\n",
      "    return self._sign * self._score_func(y_true, y_pred, **scoring_kwargs)\n",
      "  File \"C:\\Users\\antho\\AppData\\Roaming\\Python\\Python39\\site-packages\\sklearn\\utils\\_param_validation.py\", line 214, in wrapper\n",
      "    return func(*args, **kwargs)\n",
      "  File \"C:\\Users\\antho\\AppData\\Roaming\\Python\\Python39\\site-packages\\sklearn\\metrics\\_classification.py\", line 2304, in recall_score\n",
      "    _, r, _, _ = precision_recall_fscore_support(\n",
      "  File \"C:\\Users\\antho\\AppData\\Roaming\\Python\\Python39\\site-packages\\sklearn\\utils\\_param_validation.py\", line 187, in wrapper\n",
      "    return func(*args, **kwargs)\n",
      "  File \"C:\\Users\\antho\\AppData\\Roaming\\Python\\Python39\\site-packages\\sklearn\\metrics\\_classification.py\", line 1724, in precision_recall_fscore_support\n",
      "    labels = _check_set_wise_labels(y_true, y_pred, average, labels, pos_label)\n",
      "  File \"C:\\Users\\antho\\AppData\\Roaming\\Python\\Python39\\site-packages\\sklearn\\metrics\\_classification.py\", line 1518, in _check_set_wise_labels\n",
      "    raise ValueError(\n",
      "ValueError: Target is multiclass but average='binary'. Please choose another average setting, one of [None, 'micro', 'macro', 'weighted'].\n",
      "\n",
      "  warnings.warn(\n",
      "C:\\Users\\antho\\anaconda3\\lib\\site-packages\\xgboost\\core.py:158: UserWarning: [16:59:07] WARNING: C:\\buildkite-agent\\builds\\buildkite-windows-cpu-autoscaling-group-i-06abd128ca6c1688d-1\\xgboost\\xgboost-ci-windows\\src\\learner.cc:740: \n",
      "Parameters: { \"use_label_encoder\" } are not used.\n",
      "\n",
      "  warnings.warn(smsg, UserWarning)\n",
      "C:\\Users\\antho\\AppData\\Roaming\\Python\\Python39\\site-packages\\sklearn\\model_selection\\_validation.py:821: UserWarning: Scoring failed. The score on this train-test partition for these parameters will be set to nan. Details: \n",
      "Traceback (most recent call last):\n",
      "  File \"C:\\Users\\antho\\AppData\\Roaming\\Python\\Python39\\site-packages\\sklearn\\model_selection\\_validation.py\", line 810, in _score\n",
      "    scores = scorer(estimator, X_test, y_test)\n",
      "  File \"C:\\Users\\antho\\AppData\\Roaming\\Python\\Python39\\site-packages\\sklearn\\metrics\\_scorer.py\", line 266, in __call__\n",
      "    return self._score(partial(_cached_call, None), estimator, X, y_true, **_kwargs)\n",
      "  File \"C:\\Users\\antho\\AppData\\Roaming\\Python\\Python39\\site-packages\\sklearn\\metrics\\_scorer.py\", line 355, in _score\n",
      "    return self._sign * self._score_func(y_true, y_pred, **scoring_kwargs)\n",
      "  File \"C:\\Users\\antho\\AppData\\Roaming\\Python\\Python39\\site-packages\\sklearn\\utils\\_param_validation.py\", line 214, in wrapper\n",
      "    return func(*args, **kwargs)\n",
      "  File \"C:\\Users\\antho\\AppData\\Roaming\\Python\\Python39\\site-packages\\sklearn\\metrics\\_classification.py\", line 2304, in recall_score\n",
      "    _, r, _, _ = precision_recall_fscore_support(\n",
      "  File \"C:\\Users\\antho\\AppData\\Roaming\\Python\\Python39\\site-packages\\sklearn\\utils\\_param_validation.py\", line 187, in wrapper\n",
      "    return func(*args, **kwargs)\n",
      "  File \"C:\\Users\\antho\\AppData\\Roaming\\Python\\Python39\\site-packages\\sklearn\\metrics\\_classification.py\", line 1724, in precision_recall_fscore_support\n",
      "    labels = _check_set_wise_labels(y_true, y_pred, average, labels, pos_label)\n",
      "  File \"C:\\Users\\antho\\AppData\\Roaming\\Python\\Python39\\site-packages\\sklearn\\metrics\\_classification.py\", line 1518, in _check_set_wise_labels\n",
      "    raise ValueError(\n",
      "ValueError: Target is multiclass but average='binary'. Please choose another average setting, one of [None, 'micro', 'macro', 'weighted'].\n",
      "\n",
      "  warnings.warn(\n",
      "C:\\Users\\antho\\anaconda3\\lib\\site-packages\\xgboost\\core.py:158: UserWarning: [16:59:07] WARNING: C:\\buildkite-agent\\builds\\buildkite-windows-cpu-autoscaling-group-i-06abd128ca6c1688d-1\\xgboost\\xgboost-ci-windows\\src\\learner.cc:740: \n",
      "Parameters: { \"use_label_encoder\" } are not used.\n",
      "\n",
      "  warnings.warn(smsg, UserWarning)\n",
      "C:\\Users\\antho\\AppData\\Roaming\\Python\\Python39\\site-packages\\sklearn\\model_selection\\_validation.py:821: UserWarning: Scoring failed. The score on this train-test partition for these parameters will be set to nan. Details: \n",
      "Traceback (most recent call last):\n",
      "  File \"C:\\Users\\antho\\AppData\\Roaming\\Python\\Python39\\site-packages\\sklearn\\model_selection\\_validation.py\", line 810, in _score\n",
      "    scores = scorer(estimator, X_test, y_test)\n",
      "  File \"C:\\Users\\antho\\AppData\\Roaming\\Python\\Python39\\site-packages\\sklearn\\metrics\\_scorer.py\", line 266, in __call__\n",
      "    return self._score(partial(_cached_call, None), estimator, X, y_true, **_kwargs)\n",
      "  File \"C:\\Users\\antho\\AppData\\Roaming\\Python\\Python39\\site-packages\\sklearn\\metrics\\_scorer.py\", line 355, in _score\n",
      "    return self._sign * self._score_func(y_true, y_pred, **scoring_kwargs)\n",
      "  File \"C:\\Users\\antho\\AppData\\Roaming\\Python\\Python39\\site-packages\\sklearn\\utils\\_param_validation.py\", line 214, in wrapper\n",
      "    return func(*args, **kwargs)\n",
      "  File \"C:\\Users\\antho\\AppData\\Roaming\\Python\\Python39\\site-packages\\sklearn\\metrics\\_classification.py\", line 2304, in recall_score\n",
      "    _, r, _, _ = precision_recall_fscore_support(\n",
      "  File \"C:\\Users\\antho\\AppData\\Roaming\\Python\\Python39\\site-packages\\sklearn\\utils\\_param_validation.py\", line 187, in wrapper\n",
      "    return func(*args, **kwargs)\n",
      "  File \"C:\\Users\\antho\\AppData\\Roaming\\Python\\Python39\\site-packages\\sklearn\\metrics\\_classification.py\", line 1724, in precision_recall_fscore_support\n",
      "    labels = _check_set_wise_labels(y_true, y_pred, average, labels, pos_label)\n",
      "  File \"C:\\Users\\antho\\AppData\\Roaming\\Python\\Python39\\site-packages\\sklearn\\metrics\\_classification.py\", line 1518, in _check_set_wise_labels\n",
      "    raise ValueError(\n",
      "ValueError: Target is multiclass but average='binary'. Please choose another average setting, one of [None, 'micro', 'macro', 'weighted'].\n",
      "\n",
      "  warnings.warn(\n",
      "C:\\Users\\antho\\anaconda3\\lib\\site-packages\\xgboost\\core.py:158: UserWarning: [16:59:07] WARNING: C:\\buildkite-agent\\builds\\buildkite-windows-cpu-autoscaling-group-i-06abd128ca6c1688d-1\\xgboost\\xgboost-ci-windows\\src\\learner.cc:740: \n",
      "Parameters: { \"use_label_encoder\" } are not used.\n",
      "\n",
      "  warnings.warn(smsg, UserWarning)\n"
     ]
    },
    {
     "name": "stderr",
     "output_type": "stream",
     "text": [
      "C:\\Users\\antho\\AppData\\Roaming\\Python\\Python39\\site-packages\\sklearn\\model_selection\\_validation.py:821: UserWarning: Scoring failed. The score on this train-test partition for these parameters will be set to nan. Details: \n",
      "Traceback (most recent call last):\n",
      "  File \"C:\\Users\\antho\\AppData\\Roaming\\Python\\Python39\\site-packages\\sklearn\\model_selection\\_validation.py\", line 810, in _score\n",
      "    scores = scorer(estimator, X_test, y_test)\n",
      "  File \"C:\\Users\\antho\\AppData\\Roaming\\Python\\Python39\\site-packages\\sklearn\\metrics\\_scorer.py\", line 266, in __call__\n",
      "    return self._score(partial(_cached_call, None), estimator, X, y_true, **_kwargs)\n",
      "  File \"C:\\Users\\antho\\AppData\\Roaming\\Python\\Python39\\site-packages\\sklearn\\metrics\\_scorer.py\", line 355, in _score\n",
      "    return self._sign * self._score_func(y_true, y_pred, **scoring_kwargs)\n",
      "  File \"C:\\Users\\antho\\AppData\\Roaming\\Python\\Python39\\site-packages\\sklearn\\utils\\_param_validation.py\", line 214, in wrapper\n",
      "    return func(*args, **kwargs)\n",
      "  File \"C:\\Users\\antho\\AppData\\Roaming\\Python\\Python39\\site-packages\\sklearn\\metrics\\_classification.py\", line 2304, in recall_score\n",
      "    _, r, _, _ = precision_recall_fscore_support(\n",
      "  File \"C:\\Users\\antho\\AppData\\Roaming\\Python\\Python39\\site-packages\\sklearn\\utils\\_param_validation.py\", line 187, in wrapper\n",
      "    return func(*args, **kwargs)\n",
      "  File \"C:\\Users\\antho\\AppData\\Roaming\\Python\\Python39\\site-packages\\sklearn\\metrics\\_classification.py\", line 1724, in precision_recall_fscore_support\n",
      "    labels = _check_set_wise_labels(y_true, y_pred, average, labels, pos_label)\n",
      "  File \"C:\\Users\\antho\\AppData\\Roaming\\Python\\Python39\\site-packages\\sklearn\\metrics\\_classification.py\", line 1518, in _check_set_wise_labels\n",
      "    raise ValueError(\n",
      "ValueError: Target is multiclass but average='binary'. Please choose another average setting, one of [None, 'micro', 'macro', 'weighted'].\n",
      "\n",
      "  warnings.warn(\n",
      "C:\\Users\\antho\\anaconda3\\lib\\site-packages\\xgboost\\core.py:158: UserWarning: [16:59:07] WARNING: C:\\buildkite-agent\\builds\\buildkite-windows-cpu-autoscaling-group-i-06abd128ca6c1688d-1\\xgboost\\xgboost-ci-windows\\src\\learner.cc:740: \n",
      "Parameters: { \"use_label_encoder\" } are not used.\n",
      "\n",
      "  warnings.warn(smsg, UserWarning)\n",
      "C:\\Users\\antho\\AppData\\Roaming\\Python\\Python39\\site-packages\\sklearn\\model_selection\\_validation.py:821: UserWarning: Scoring failed. The score on this train-test partition for these parameters will be set to nan. Details: \n",
      "Traceback (most recent call last):\n",
      "  File \"C:\\Users\\antho\\AppData\\Roaming\\Python\\Python39\\site-packages\\sklearn\\model_selection\\_validation.py\", line 810, in _score\n",
      "    scores = scorer(estimator, X_test, y_test)\n",
      "  File \"C:\\Users\\antho\\AppData\\Roaming\\Python\\Python39\\site-packages\\sklearn\\metrics\\_scorer.py\", line 266, in __call__\n",
      "    return self._score(partial(_cached_call, None), estimator, X, y_true, **_kwargs)\n",
      "  File \"C:\\Users\\antho\\AppData\\Roaming\\Python\\Python39\\site-packages\\sklearn\\metrics\\_scorer.py\", line 355, in _score\n",
      "    return self._sign * self._score_func(y_true, y_pred, **scoring_kwargs)\n",
      "  File \"C:\\Users\\antho\\AppData\\Roaming\\Python\\Python39\\site-packages\\sklearn\\utils\\_param_validation.py\", line 214, in wrapper\n",
      "    return func(*args, **kwargs)\n",
      "  File \"C:\\Users\\antho\\AppData\\Roaming\\Python\\Python39\\site-packages\\sklearn\\metrics\\_classification.py\", line 2304, in recall_score\n",
      "    _, r, _, _ = precision_recall_fscore_support(\n",
      "  File \"C:\\Users\\antho\\AppData\\Roaming\\Python\\Python39\\site-packages\\sklearn\\utils\\_param_validation.py\", line 187, in wrapper\n",
      "    return func(*args, **kwargs)\n",
      "  File \"C:\\Users\\antho\\AppData\\Roaming\\Python\\Python39\\site-packages\\sklearn\\metrics\\_classification.py\", line 1724, in precision_recall_fscore_support\n",
      "    labels = _check_set_wise_labels(y_true, y_pred, average, labels, pos_label)\n",
      "  File \"C:\\Users\\antho\\AppData\\Roaming\\Python\\Python39\\site-packages\\sklearn\\metrics\\_classification.py\", line 1518, in _check_set_wise_labels\n",
      "    raise ValueError(\n",
      "ValueError: Target is multiclass but average='binary'. Please choose another average setting, one of [None, 'micro', 'macro', 'weighted'].\n",
      "\n",
      "  warnings.warn(\n",
      "C:\\Users\\antho\\anaconda3\\lib\\site-packages\\xgboost\\core.py:158: UserWarning: [16:59:07] WARNING: C:\\buildkite-agent\\builds\\buildkite-windows-cpu-autoscaling-group-i-06abd128ca6c1688d-1\\xgboost\\xgboost-ci-windows\\src\\learner.cc:740: \n",
      "Parameters: { \"use_label_encoder\" } are not used.\n",
      "\n",
      "  warnings.warn(smsg, UserWarning)\n",
      "C:\\Users\\antho\\AppData\\Roaming\\Python\\Python39\\site-packages\\sklearn\\model_selection\\_validation.py:821: UserWarning: Scoring failed. The score on this train-test partition for these parameters will be set to nan. Details: \n",
      "Traceback (most recent call last):\n",
      "  File \"C:\\Users\\antho\\AppData\\Roaming\\Python\\Python39\\site-packages\\sklearn\\model_selection\\_validation.py\", line 810, in _score\n",
      "    scores = scorer(estimator, X_test, y_test)\n",
      "  File \"C:\\Users\\antho\\AppData\\Roaming\\Python\\Python39\\site-packages\\sklearn\\metrics\\_scorer.py\", line 266, in __call__\n",
      "    return self._score(partial(_cached_call, None), estimator, X, y_true, **_kwargs)\n",
      "  File \"C:\\Users\\antho\\AppData\\Roaming\\Python\\Python39\\site-packages\\sklearn\\metrics\\_scorer.py\", line 355, in _score\n",
      "    return self._sign * self._score_func(y_true, y_pred, **scoring_kwargs)\n",
      "  File \"C:\\Users\\antho\\AppData\\Roaming\\Python\\Python39\\site-packages\\sklearn\\utils\\_param_validation.py\", line 214, in wrapper\n",
      "    return func(*args, **kwargs)\n",
      "  File \"C:\\Users\\antho\\AppData\\Roaming\\Python\\Python39\\site-packages\\sklearn\\metrics\\_classification.py\", line 2304, in recall_score\n",
      "    _, r, _, _ = precision_recall_fscore_support(\n",
      "  File \"C:\\Users\\antho\\AppData\\Roaming\\Python\\Python39\\site-packages\\sklearn\\utils\\_param_validation.py\", line 187, in wrapper\n",
      "    return func(*args, **kwargs)\n",
      "  File \"C:\\Users\\antho\\AppData\\Roaming\\Python\\Python39\\site-packages\\sklearn\\metrics\\_classification.py\", line 1724, in precision_recall_fscore_support\n",
      "    labels = _check_set_wise_labels(y_true, y_pred, average, labels, pos_label)\n",
      "  File \"C:\\Users\\antho\\AppData\\Roaming\\Python\\Python39\\site-packages\\sklearn\\metrics\\_classification.py\", line 1518, in _check_set_wise_labels\n",
      "    raise ValueError(\n",
      "ValueError: Target is multiclass but average='binary'. Please choose another average setting, one of [None, 'micro', 'macro', 'weighted'].\n",
      "\n",
      "  warnings.warn(\n",
      "C:\\Users\\antho\\anaconda3\\lib\\site-packages\\xgboost\\core.py:158: UserWarning: [16:59:07] WARNING: C:\\buildkite-agent\\builds\\buildkite-windows-cpu-autoscaling-group-i-06abd128ca6c1688d-1\\xgboost\\xgboost-ci-windows\\src\\learner.cc:740: \n",
      "Parameters: { \"use_label_encoder\" } are not used.\n",
      "\n",
      "  warnings.warn(smsg, UserWarning)\n",
      "C:\\Users\\antho\\AppData\\Roaming\\Python\\Python39\\site-packages\\sklearn\\model_selection\\_validation.py:821: UserWarning: Scoring failed. The score on this train-test partition for these parameters will be set to nan. Details: \n",
      "Traceback (most recent call last):\n",
      "  File \"C:\\Users\\antho\\AppData\\Roaming\\Python\\Python39\\site-packages\\sklearn\\model_selection\\_validation.py\", line 810, in _score\n",
      "    scores = scorer(estimator, X_test, y_test)\n",
      "  File \"C:\\Users\\antho\\AppData\\Roaming\\Python\\Python39\\site-packages\\sklearn\\metrics\\_scorer.py\", line 266, in __call__\n",
      "    return self._score(partial(_cached_call, None), estimator, X, y_true, **_kwargs)\n",
      "  File \"C:\\Users\\antho\\AppData\\Roaming\\Python\\Python39\\site-packages\\sklearn\\metrics\\_scorer.py\", line 355, in _score\n",
      "    return self._sign * self._score_func(y_true, y_pred, **scoring_kwargs)\n",
      "  File \"C:\\Users\\antho\\AppData\\Roaming\\Python\\Python39\\site-packages\\sklearn\\utils\\_param_validation.py\", line 214, in wrapper\n",
      "    return func(*args, **kwargs)\n",
      "  File \"C:\\Users\\antho\\AppData\\Roaming\\Python\\Python39\\site-packages\\sklearn\\metrics\\_classification.py\", line 2304, in recall_score\n",
      "    _, r, _, _ = precision_recall_fscore_support(\n",
      "  File \"C:\\Users\\antho\\AppData\\Roaming\\Python\\Python39\\site-packages\\sklearn\\utils\\_param_validation.py\", line 187, in wrapper\n",
      "    return func(*args, **kwargs)\n",
      "  File \"C:\\Users\\antho\\AppData\\Roaming\\Python\\Python39\\site-packages\\sklearn\\metrics\\_classification.py\", line 1724, in precision_recall_fscore_support\n",
      "    labels = _check_set_wise_labels(y_true, y_pred, average, labels, pos_label)\n",
      "  File \"C:\\Users\\antho\\AppData\\Roaming\\Python\\Python39\\site-packages\\sklearn\\metrics\\_classification.py\", line 1518, in _check_set_wise_labels\n",
      "    raise ValueError(\n",
      "ValueError: Target is multiclass but average='binary'. Please choose another average setting, one of [None, 'micro', 'macro', 'weighted'].\n",
      "\n",
      "  warnings.warn(\n",
      "C:\\Users\\antho\\anaconda3\\lib\\site-packages\\xgboost\\core.py:158: UserWarning: [16:59:07] WARNING: C:\\buildkite-agent\\builds\\buildkite-windows-cpu-autoscaling-group-i-06abd128ca6c1688d-1\\xgboost\\xgboost-ci-windows\\src\\learner.cc:740: \n",
      "Parameters: { \"use_label_encoder\" } are not used.\n",
      "\n",
      "  warnings.warn(smsg, UserWarning)\n"
     ]
    },
    {
     "name": "stderr",
     "output_type": "stream",
     "text": [
      "C:\\Users\\antho\\AppData\\Roaming\\Python\\Python39\\site-packages\\sklearn\\model_selection\\_validation.py:821: UserWarning: Scoring failed. The score on this train-test partition for these parameters will be set to nan. Details: \n",
      "Traceback (most recent call last):\n",
      "  File \"C:\\Users\\antho\\AppData\\Roaming\\Python\\Python39\\site-packages\\sklearn\\model_selection\\_validation.py\", line 810, in _score\n",
      "    scores = scorer(estimator, X_test, y_test)\n",
      "  File \"C:\\Users\\antho\\AppData\\Roaming\\Python\\Python39\\site-packages\\sklearn\\metrics\\_scorer.py\", line 266, in __call__\n",
      "    return self._score(partial(_cached_call, None), estimator, X, y_true, **_kwargs)\n",
      "  File \"C:\\Users\\antho\\AppData\\Roaming\\Python\\Python39\\site-packages\\sklearn\\metrics\\_scorer.py\", line 355, in _score\n",
      "    return self._sign * self._score_func(y_true, y_pred, **scoring_kwargs)\n",
      "  File \"C:\\Users\\antho\\AppData\\Roaming\\Python\\Python39\\site-packages\\sklearn\\utils\\_param_validation.py\", line 214, in wrapper\n",
      "    return func(*args, **kwargs)\n",
      "  File \"C:\\Users\\antho\\AppData\\Roaming\\Python\\Python39\\site-packages\\sklearn\\metrics\\_classification.py\", line 2304, in recall_score\n",
      "    _, r, _, _ = precision_recall_fscore_support(\n",
      "  File \"C:\\Users\\antho\\AppData\\Roaming\\Python\\Python39\\site-packages\\sklearn\\utils\\_param_validation.py\", line 187, in wrapper\n",
      "    return func(*args, **kwargs)\n",
      "  File \"C:\\Users\\antho\\AppData\\Roaming\\Python\\Python39\\site-packages\\sklearn\\metrics\\_classification.py\", line 1724, in precision_recall_fscore_support\n",
      "    labels = _check_set_wise_labels(y_true, y_pred, average, labels, pos_label)\n",
      "  File \"C:\\Users\\antho\\AppData\\Roaming\\Python\\Python39\\site-packages\\sklearn\\metrics\\_classification.py\", line 1518, in _check_set_wise_labels\n",
      "    raise ValueError(\n",
      "ValueError: Target is multiclass but average='binary'. Please choose another average setting, one of [None, 'micro', 'macro', 'weighted'].\n",
      "\n",
      "  warnings.warn(\n",
      "C:\\Users\\antho\\anaconda3\\lib\\site-packages\\xgboost\\core.py:158: UserWarning: [16:59:07] WARNING: C:\\buildkite-agent\\builds\\buildkite-windows-cpu-autoscaling-group-i-06abd128ca6c1688d-1\\xgboost\\xgboost-ci-windows\\src\\learner.cc:740: \n",
      "Parameters: { \"use_label_encoder\" } are not used.\n",
      "\n",
      "  warnings.warn(smsg, UserWarning)\n",
      "C:\\Users\\antho\\AppData\\Roaming\\Python\\Python39\\site-packages\\sklearn\\model_selection\\_validation.py:821: UserWarning: Scoring failed. The score on this train-test partition for these parameters will be set to nan. Details: \n",
      "Traceback (most recent call last):\n",
      "  File \"C:\\Users\\antho\\AppData\\Roaming\\Python\\Python39\\site-packages\\sklearn\\model_selection\\_validation.py\", line 810, in _score\n",
      "    scores = scorer(estimator, X_test, y_test)\n",
      "  File \"C:\\Users\\antho\\AppData\\Roaming\\Python\\Python39\\site-packages\\sklearn\\metrics\\_scorer.py\", line 266, in __call__\n",
      "    return self._score(partial(_cached_call, None), estimator, X, y_true, **_kwargs)\n",
      "  File \"C:\\Users\\antho\\AppData\\Roaming\\Python\\Python39\\site-packages\\sklearn\\metrics\\_scorer.py\", line 355, in _score\n",
      "    return self._sign * self._score_func(y_true, y_pred, **scoring_kwargs)\n",
      "  File \"C:\\Users\\antho\\AppData\\Roaming\\Python\\Python39\\site-packages\\sklearn\\utils\\_param_validation.py\", line 214, in wrapper\n",
      "    return func(*args, **kwargs)\n",
      "  File \"C:\\Users\\antho\\AppData\\Roaming\\Python\\Python39\\site-packages\\sklearn\\metrics\\_classification.py\", line 2304, in recall_score\n",
      "    _, r, _, _ = precision_recall_fscore_support(\n",
      "  File \"C:\\Users\\antho\\AppData\\Roaming\\Python\\Python39\\site-packages\\sklearn\\utils\\_param_validation.py\", line 187, in wrapper\n",
      "    return func(*args, **kwargs)\n",
      "  File \"C:\\Users\\antho\\AppData\\Roaming\\Python\\Python39\\site-packages\\sklearn\\metrics\\_classification.py\", line 1724, in precision_recall_fscore_support\n",
      "    labels = _check_set_wise_labels(y_true, y_pred, average, labels, pos_label)\n",
      "  File \"C:\\Users\\antho\\AppData\\Roaming\\Python\\Python39\\site-packages\\sklearn\\metrics\\_classification.py\", line 1518, in _check_set_wise_labels\n",
      "    raise ValueError(\n",
      "ValueError: Target is multiclass but average='binary'. Please choose another average setting, one of [None, 'micro', 'macro', 'weighted'].\n",
      "\n",
      "  warnings.warn(\n",
      "C:\\Users\\antho\\anaconda3\\lib\\site-packages\\xgboost\\core.py:158: UserWarning: [16:59:08] WARNING: C:\\buildkite-agent\\builds\\buildkite-windows-cpu-autoscaling-group-i-06abd128ca6c1688d-1\\xgboost\\xgboost-ci-windows\\src\\learner.cc:740: \n",
      "Parameters: { \"use_label_encoder\" } are not used.\n",
      "\n",
      "  warnings.warn(smsg, UserWarning)\n",
      "C:\\Users\\antho\\AppData\\Roaming\\Python\\Python39\\site-packages\\sklearn\\model_selection\\_validation.py:821: UserWarning: Scoring failed. The score on this train-test partition for these parameters will be set to nan. Details: \n",
      "Traceback (most recent call last):\n",
      "  File \"C:\\Users\\antho\\AppData\\Roaming\\Python\\Python39\\site-packages\\sklearn\\model_selection\\_validation.py\", line 810, in _score\n",
      "    scores = scorer(estimator, X_test, y_test)\n",
      "  File \"C:\\Users\\antho\\AppData\\Roaming\\Python\\Python39\\site-packages\\sklearn\\metrics\\_scorer.py\", line 266, in __call__\n",
      "    return self._score(partial(_cached_call, None), estimator, X, y_true, **_kwargs)\n",
      "  File \"C:\\Users\\antho\\AppData\\Roaming\\Python\\Python39\\site-packages\\sklearn\\metrics\\_scorer.py\", line 355, in _score\n",
      "    return self._sign * self._score_func(y_true, y_pred, **scoring_kwargs)\n",
      "  File \"C:\\Users\\antho\\AppData\\Roaming\\Python\\Python39\\site-packages\\sklearn\\utils\\_param_validation.py\", line 214, in wrapper\n",
      "    return func(*args, **kwargs)\n",
      "  File \"C:\\Users\\antho\\AppData\\Roaming\\Python\\Python39\\site-packages\\sklearn\\metrics\\_classification.py\", line 2304, in recall_score\n",
      "    _, r, _, _ = precision_recall_fscore_support(\n",
      "  File \"C:\\Users\\antho\\AppData\\Roaming\\Python\\Python39\\site-packages\\sklearn\\utils\\_param_validation.py\", line 187, in wrapper\n",
      "    return func(*args, **kwargs)\n",
      "  File \"C:\\Users\\antho\\AppData\\Roaming\\Python\\Python39\\site-packages\\sklearn\\metrics\\_classification.py\", line 1724, in precision_recall_fscore_support\n",
      "    labels = _check_set_wise_labels(y_true, y_pred, average, labels, pos_label)\n",
      "  File \"C:\\Users\\antho\\AppData\\Roaming\\Python\\Python39\\site-packages\\sklearn\\metrics\\_classification.py\", line 1518, in _check_set_wise_labels\n",
      "    raise ValueError(\n",
      "ValueError: Target is multiclass but average='binary'. Please choose another average setting, one of [None, 'micro', 'macro', 'weighted'].\n",
      "\n",
      "  warnings.warn(\n",
      "C:\\Users\\antho\\anaconda3\\lib\\site-packages\\xgboost\\core.py:158: UserWarning: [16:59:08] WARNING: C:\\buildkite-agent\\builds\\buildkite-windows-cpu-autoscaling-group-i-06abd128ca6c1688d-1\\xgboost\\xgboost-ci-windows\\src\\learner.cc:740: \n",
      "Parameters: { \"use_label_encoder\" } are not used.\n",
      "\n",
      "  warnings.warn(smsg, UserWarning)\n",
      "C:\\Users\\antho\\AppData\\Roaming\\Python\\Python39\\site-packages\\sklearn\\model_selection\\_validation.py:821: UserWarning: Scoring failed. The score on this train-test partition for these parameters will be set to nan. Details: \n",
      "Traceback (most recent call last):\n",
      "  File \"C:\\Users\\antho\\AppData\\Roaming\\Python\\Python39\\site-packages\\sklearn\\model_selection\\_validation.py\", line 810, in _score\n",
      "    scores = scorer(estimator, X_test, y_test)\n",
      "  File \"C:\\Users\\antho\\AppData\\Roaming\\Python\\Python39\\site-packages\\sklearn\\metrics\\_scorer.py\", line 266, in __call__\n",
      "    return self._score(partial(_cached_call, None), estimator, X, y_true, **_kwargs)\n",
      "  File \"C:\\Users\\antho\\AppData\\Roaming\\Python\\Python39\\site-packages\\sklearn\\metrics\\_scorer.py\", line 355, in _score\n",
      "    return self._sign * self._score_func(y_true, y_pred, **scoring_kwargs)\n",
      "  File \"C:\\Users\\antho\\AppData\\Roaming\\Python\\Python39\\site-packages\\sklearn\\utils\\_param_validation.py\", line 214, in wrapper\n",
      "    return func(*args, **kwargs)\n",
      "  File \"C:\\Users\\antho\\AppData\\Roaming\\Python\\Python39\\site-packages\\sklearn\\metrics\\_classification.py\", line 2304, in recall_score\n",
      "    _, r, _, _ = precision_recall_fscore_support(\n",
      "  File \"C:\\Users\\antho\\AppData\\Roaming\\Python\\Python39\\site-packages\\sklearn\\utils\\_param_validation.py\", line 187, in wrapper\n",
      "    return func(*args, **kwargs)\n",
      "  File \"C:\\Users\\antho\\AppData\\Roaming\\Python\\Python39\\site-packages\\sklearn\\metrics\\_classification.py\", line 1724, in precision_recall_fscore_support\n",
      "    labels = _check_set_wise_labels(y_true, y_pred, average, labels, pos_label)\n",
      "  File \"C:\\Users\\antho\\AppData\\Roaming\\Python\\Python39\\site-packages\\sklearn\\metrics\\_classification.py\", line 1518, in _check_set_wise_labels\n",
      "    raise ValueError(\n",
      "ValueError: Target is multiclass but average='binary'. Please choose another average setting, one of [None, 'micro', 'macro', 'weighted'].\n",
      "\n",
      "  warnings.warn(\n",
      "C:\\Users\\antho\\anaconda3\\lib\\site-packages\\xgboost\\core.py:158: UserWarning: [16:59:08] WARNING: C:\\buildkite-agent\\builds\\buildkite-windows-cpu-autoscaling-group-i-06abd128ca6c1688d-1\\xgboost\\xgboost-ci-windows\\src\\learner.cc:740: \n",
      "Parameters: { \"use_label_encoder\" } are not used.\n",
      "\n",
      "  warnings.warn(smsg, UserWarning)\n"
     ]
    },
    {
     "name": "stderr",
     "output_type": "stream",
     "text": [
      "C:\\Users\\antho\\AppData\\Roaming\\Python\\Python39\\site-packages\\sklearn\\model_selection\\_validation.py:821: UserWarning: Scoring failed. The score on this train-test partition for these parameters will be set to nan. Details: \n",
      "Traceback (most recent call last):\n",
      "  File \"C:\\Users\\antho\\AppData\\Roaming\\Python\\Python39\\site-packages\\sklearn\\model_selection\\_validation.py\", line 810, in _score\n",
      "    scores = scorer(estimator, X_test, y_test)\n",
      "  File \"C:\\Users\\antho\\AppData\\Roaming\\Python\\Python39\\site-packages\\sklearn\\metrics\\_scorer.py\", line 266, in __call__\n",
      "    return self._score(partial(_cached_call, None), estimator, X, y_true, **_kwargs)\n",
      "  File \"C:\\Users\\antho\\AppData\\Roaming\\Python\\Python39\\site-packages\\sklearn\\metrics\\_scorer.py\", line 355, in _score\n",
      "    return self._sign * self._score_func(y_true, y_pred, **scoring_kwargs)\n",
      "  File \"C:\\Users\\antho\\AppData\\Roaming\\Python\\Python39\\site-packages\\sklearn\\utils\\_param_validation.py\", line 214, in wrapper\n",
      "    return func(*args, **kwargs)\n",
      "  File \"C:\\Users\\antho\\AppData\\Roaming\\Python\\Python39\\site-packages\\sklearn\\metrics\\_classification.py\", line 2304, in recall_score\n",
      "    _, r, _, _ = precision_recall_fscore_support(\n",
      "  File \"C:\\Users\\antho\\AppData\\Roaming\\Python\\Python39\\site-packages\\sklearn\\utils\\_param_validation.py\", line 187, in wrapper\n",
      "    return func(*args, **kwargs)\n",
      "  File \"C:\\Users\\antho\\AppData\\Roaming\\Python\\Python39\\site-packages\\sklearn\\metrics\\_classification.py\", line 1724, in precision_recall_fscore_support\n",
      "    labels = _check_set_wise_labels(y_true, y_pred, average, labels, pos_label)\n",
      "  File \"C:\\Users\\antho\\AppData\\Roaming\\Python\\Python39\\site-packages\\sklearn\\metrics\\_classification.py\", line 1518, in _check_set_wise_labels\n",
      "    raise ValueError(\n",
      "ValueError: Target is multiclass but average='binary'. Please choose another average setting, one of [None, 'micro', 'macro', 'weighted'].\n",
      "\n",
      "  warnings.warn(\n",
      "C:\\Users\\antho\\anaconda3\\lib\\site-packages\\xgboost\\core.py:158: UserWarning: [16:59:08] WARNING: C:\\buildkite-agent\\builds\\buildkite-windows-cpu-autoscaling-group-i-06abd128ca6c1688d-1\\xgboost\\xgboost-ci-windows\\src\\learner.cc:740: \n",
      "Parameters: { \"use_label_encoder\" } are not used.\n",
      "\n",
      "  warnings.warn(smsg, UserWarning)\n",
      "C:\\Users\\antho\\AppData\\Roaming\\Python\\Python39\\site-packages\\sklearn\\model_selection\\_validation.py:821: UserWarning: Scoring failed. The score on this train-test partition for these parameters will be set to nan. Details: \n",
      "Traceback (most recent call last):\n",
      "  File \"C:\\Users\\antho\\AppData\\Roaming\\Python\\Python39\\site-packages\\sklearn\\model_selection\\_validation.py\", line 810, in _score\n",
      "    scores = scorer(estimator, X_test, y_test)\n",
      "  File \"C:\\Users\\antho\\AppData\\Roaming\\Python\\Python39\\site-packages\\sklearn\\metrics\\_scorer.py\", line 266, in __call__\n",
      "    return self._score(partial(_cached_call, None), estimator, X, y_true, **_kwargs)\n",
      "  File \"C:\\Users\\antho\\AppData\\Roaming\\Python\\Python39\\site-packages\\sklearn\\metrics\\_scorer.py\", line 355, in _score\n",
      "    return self._sign * self._score_func(y_true, y_pred, **scoring_kwargs)\n",
      "  File \"C:\\Users\\antho\\AppData\\Roaming\\Python\\Python39\\site-packages\\sklearn\\utils\\_param_validation.py\", line 214, in wrapper\n",
      "    return func(*args, **kwargs)\n",
      "  File \"C:\\Users\\antho\\AppData\\Roaming\\Python\\Python39\\site-packages\\sklearn\\metrics\\_classification.py\", line 2304, in recall_score\n",
      "    _, r, _, _ = precision_recall_fscore_support(\n",
      "  File \"C:\\Users\\antho\\AppData\\Roaming\\Python\\Python39\\site-packages\\sklearn\\utils\\_param_validation.py\", line 187, in wrapper\n",
      "    return func(*args, **kwargs)\n",
      "  File \"C:\\Users\\antho\\AppData\\Roaming\\Python\\Python39\\site-packages\\sklearn\\metrics\\_classification.py\", line 1724, in precision_recall_fscore_support\n",
      "    labels = _check_set_wise_labels(y_true, y_pred, average, labels, pos_label)\n",
      "  File \"C:\\Users\\antho\\AppData\\Roaming\\Python\\Python39\\site-packages\\sklearn\\metrics\\_classification.py\", line 1518, in _check_set_wise_labels\n",
      "    raise ValueError(\n",
      "ValueError: Target is multiclass but average='binary'. Please choose another average setting, one of [None, 'micro', 'macro', 'weighted'].\n",
      "\n",
      "  warnings.warn(\n",
      "C:\\Users\\antho\\anaconda3\\lib\\site-packages\\xgboost\\core.py:158: UserWarning: [16:59:08] WARNING: C:\\buildkite-agent\\builds\\buildkite-windows-cpu-autoscaling-group-i-06abd128ca6c1688d-1\\xgboost\\xgboost-ci-windows\\src\\learner.cc:740: \n",
      "Parameters: { \"use_label_encoder\" } are not used.\n",
      "\n",
      "  warnings.warn(smsg, UserWarning)\n",
      "C:\\Users\\antho\\AppData\\Roaming\\Python\\Python39\\site-packages\\sklearn\\model_selection\\_validation.py:821: UserWarning: Scoring failed. The score on this train-test partition for these parameters will be set to nan. Details: \n",
      "Traceback (most recent call last):\n",
      "  File \"C:\\Users\\antho\\AppData\\Roaming\\Python\\Python39\\site-packages\\sklearn\\model_selection\\_validation.py\", line 810, in _score\n",
      "    scores = scorer(estimator, X_test, y_test)\n",
      "  File \"C:\\Users\\antho\\AppData\\Roaming\\Python\\Python39\\site-packages\\sklearn\\metrics\\_scorer.py\", line 266, in __call__\n",
      "    return self._score(partial(_cached_call, None), estimator, X, y_true, **_kwargs)\n",
      "  File \"C:\\Users\\antho\\AppData\\Roaming\\Python\\Python39\\site-packages\\sklearn\\metrics\\_scorer.py\", line 355, in _score\n",
      "    return self._sign * self._score_func(y_true, y_pred, **scoring_kwargs)\n",
      "  File \"C:\\Users\\antho\\AppData\\Roaming\\Python\\Python39\\site-packages\\sklearn\\utils\\_param_validation.py\", line 214, in wrapper\n",
      "    return func(*args, **kwargs)\n",
      "  File \"C:\\Users\\antho\\AppData\\Roaming\\Python\\Python39\\site-packages\\sklearn\\metrics\\_classification.py\", line 2304, in recall_score\n",
      "    _, r, _, _ = precision_recall_fscore_support(\n",
      "  File \"C:\\Users\\antho\\AppData\\Roaming\\Python\\Python39\\site-packages\\sklearn\\utils\\_param_validation.py\", line 187, in wrapper\n",
      "    return func(*args, **kwargs)\n",
      "  File \"C:\\Users\\antho\\AppData\\Roaming\\Python\\Python39\\site-packages\\sklearn\\metrics\\_classification.py\", line 1724, in precision_recall_fscore_support\n",
      "    labels = _check_set_wise_labels(y_true, y_pred, average, labels, pos_label)\n",
      "  File \"C:\\Users\\antho\\AppData\\Roaming\\Python\\Python39\\site-packages\\sklearn\\metrics\\_classification.py\", line 1518, in _check_set_wise_labels\n",
      "    raise ValueError(\n",
      "ValueError: Target is multiclass but average='binary'. Please choose another average setting, one of [None, 'micro', 'macro', 'weighted'].\n",
      "\n",
      "  warnings.warn(\n",
      "C:\\Users\\antho\\anaconda3\\lib\\site-packages\\xgboost\\core.py:158: UserWarning: [16:59:09] WARNING: C:\\buildkite-agent\\builds\\buildkite-windows-cpu-autoscaling-group-i-06abd128ca6c1688d-1\\xgboost\\xgboost-ci-windows\\src\\learner.cc:740: \n",
      "Parameters: { \"use_label_encoder\" } are not used.\n",
      "\n",
      "  warnings.warn(smsg, UserWarning)\n",
      "C:\\Users\\antho\\AppData\\Roaming\\Python\\Python39\\site-packages\\sklearn\\model_selection\\_validation.py:821: UserWarning: Scoring failed. The score on this train-test partition for these parameters will be set to nan. Details: \n",
      "Traceback (most recent call last):\n",
      "  File \"C:\\Users\\antho\\AppData\\Roaming\\Python\\Python39\\site-packages\\sklearn\\model_selection\\_validation.py\", line 810, in _score\n",
      "    scores = scorer(estimator, X_test, y_test)\n",
      "  File \"C:\\Users\\antho\\AppData\\Roaming\\Python\\Python39\\site-packages\\sklearn\\metrics\\_scorer.py\", line 266, in __call__\n",
      "    return self._score(partial(_cached_call, None), estimator, X, y_true, **_kwargs)\n",
      "  File \"C:\\Users\\antho\\AppData\\Roaming\\Python\\Python39\\site-packages\\sklearn\\metrics\\_scorer.py\", line 355, in _score\n",
      "    return self._sign * self._score_func(y_true, y_pred, **scoring_kwargs)\n",
      "  File \"C:\\Users\\antho\\AppData\\Roaming\\Python\\Python39\\site-packages\\sklearn\\utils\\_param_validation.py\", line 214, in wrapper\n",
      "    return func(*args, **kwargs)\n",
      "  File \"C:\\Users\\antho\\AppData\\Roaming\\Python\\Python39\\site-packages\\sklearn\\metrics\\_classification.py\", line 2304, in recall_score\n",
      "    _, r, _, _ = precision_recall_fscore_support(\n",
      "  File \"C:\\Users\\antho\\AppData\\Roaming\\Python\\Python39\\site-packages\\sklearn\\utils\\_param_validation.py\", line 187, in wrapper\n",
      "    return func(*args, **kwargs)\n",
      "  File \"C:\\Users\\antho\\AppData\\Roaming\\Python\\Python39\\site-packages\\sklearn\\metrics\\_classification.py\", line 1724, in precision_recall_fscore_support\n",
      "    labels = _check_set_wise_labels(y_true, y_pred, average, labels, pos_label)\n",
      "  File \"C:\\Users\\antho\\AppData\\Roaming\\Python\\Python39\\site-packages\\sklearn\\metrics\\_classification.py\", line 1518, in _check_set_wise_labels\n",
      "    raise ValueError(\n",
      "ValueError: Target is multiclass but average='binary'. Please choose another average setting, one of [None, 'micro', 'macro', 'weighted'].\n",
      "\n",
      "  warnings.warn(\n",
      "C:\\Users\\antho\\anaconda3\\lib\\site-packages\\xgboost\\core.py:158: UserWarning: [16:59:09] WARNING: C:\\buildkite-agent\\builds\\buildkite-windows-cpu-autoscaling-group-i-06abd128ca6c1688d-1\\xgboost\\xgboost-ci-windows\\src\\learner.cc:740: \n",
      "Parameters: { \"use_label_encoder\" } are not used.\n",
      "\n",
      "  warnings.warn(smsg, UserWarning)\n"
     ]
    },
    {
     "name": "stderr",
     "output_type": "stream",
     "text": [
      "C:\\Users\\antho\\AppData\\Roaming\\Python\\Python39\\site-packages\\sklearn\\model_selection\\_validation.py:821: UserWarning: Scoring failed. The score on this train-test partition for these parameters will be set to nan. Details: \n",
      "Traceback (most recent call last):\n",
      "  File \"C:\\Users\\antho\\AppData\\Roaming\\Python\\Python39\\site-packages\\sklearn\\model_selection\\_validation.py\", line 810, in _score\n",
      "    scores = scorer(estimator, X_test, y_test)\n",
      "  File \"C:\\Users\\antho\\AppData\\Roaming\\Python\\Python39\\site-packages\\sklearn\\metrics\\_scorer.py\", line 266, in __call__\n",
      "    return self._score(partial(_cached_call, None), estimator, X, y_true, **_kwargs)\n",
      "  File \"C:\\Users\\antho\\AppData\\Roaming\\Python\\Python39\\site-packages\\sklearn\\metrics\\_scorer.py\", line 355, in _score\n",
      "    return self._sign * self._score_func(y_true, y_pred, **scoring_kwargs)\n",
      "  File \"C:\\Users\\antho\\AppData\\Roaming\\Python\\Python39\\site-packages\\sklearn\\utils\\_param_validation.py\", line 214, in wrapper\n",
      "    return func(*args, **kwargs)\n",
      "  File \"C:\\Users\\antho\\AppData\\Roaming\\Python\\Python39\\site-packages\\sklearn\\metrics\\_classification.py\", line 2304, in recall_score\n",
      "    _, r, _, _ = precision_recall_fscore_support(\n",
      "  File \"C:\\Users\\antho\\AppData\\Roaming\\Python\\Python39\\site-packages\\sklearn\\utils\\_param_validation.py\", line 187, in wrapper\n",
      "    return func(*args, **kwargs)\n",
      "  File \"C:\\Users\\antho\\AppData\\Roaming\\Python\\Python39\\site-packages\\sklearn\\metrics\\_classification.py\", line 1724, in precision_recall_fscore_support\n",
      "    labels = _check_set_wise_labels(y_true, y_pred, average, labels, pos_label)\n",
      "  File \"C:\\Users\\antho\\AppData\\Roaming\\Python\\Python39\\site-packages\\sklearn\\metrics\\_classification.py\", line 1518, in _check_set_wise_labels\n",
      "    raise ValueError(\n",
      "ValueError: Target is multiclass but average='binary'. Please choose another average setting, one of [None, 'micro', 'macro', 'weighted'].\n",
      "\n",
      "  warnings.warn(\n",
      "C:\\Users\\antho\\anaconda3\\lib\\site-packages\\xgboost\\core.py:158: UserWarning: [16:59:09] WARNING: C:\\buildkite-agent\\builds\\buildkite-windows-cpu-autoscaling-group-i-06abd128ca6c1688d-1\\xgboost\\xgboost-ci-windows\\src\\learner.cc:740: \n",
      "Parameters: { \"use_label_encoder\" } are not used.\n",
      "\n",
      "  warnings.warn(smsg, UserWarning)\n",
      "C:\\Users\\antho\\AppData\\Roaming\\Python\\Python39\\site-packages\\sklearn\\model_selection\\_validation.py:821: UserWarning: Scoring failed. The score on this train-test partition for these parameters will be set to nan. Details: \n",
      "Traceback (most recent call last):\n",
      "  File \"C:\\Users\\antho\\AppData\\Roaming\\Python\\Python39\\site-packages\\sklearn\\model_selection\\_validation.py\", line 810, in _score\n",
      "    scores = scorer(estimator, X_test, y_test)\n",
      "  File \"C:\\Users\\antho\\AppData\\Roaming\\Python\\Python39\\site-packages\\sklearn\\metrics\\_scorer.py\", line 266, in __call__\n",
      "    return self._score(partial(_cached_call, None), estimator, X, y_true, **_kwargs)\n",
      "  File \"C:\\Users\\antho\\AppData\\Roaming\\Python\\Python39\\site-packages\\sklearn\\metrics\\_scorer.py\", line 355, in _score\n",
      "    return self._sign * self._score_func(y_true, y_pred, **scoring_kwargs)\n",
      "  File \"C:\\Users\\antho\\AppData\\Roaming\\Python\\Python39\\site-packages\\sklearn\\utils\\_param_validation.py\", line 214, in wrapper\n",
      "    return func(*args, **kwargs)\n",
      "  File \"C:\\Users\\antho\\AppData\\Roaming\\Python\\Python39\\site-packages\\sklearn\\metrics\\_classification.py\", line 2304, in recall_score\n",
      "    _, r, _, _ = precision_recall_fscore_support(\n",
      "  File \"C:\\Users\\antho\\AppData\\Roaming\\Python\\Python39\\site-packages\\sklearn\\utils\\_param_validation.py\", line 187, in wrapper\n",
      "    return func(*args, **kwargs)\n",
      "  File \"C:\\Users\\antho\\AppData\\Roaming\\Python\\Python39\\site-packages\\sklearn\\metrics\\_classification.py\", line 1724, in precision_recall_fscore_support\n",
      "    labels = _check_set_wise_labels(y_true, y_pred, average, labels, pos_label)\n",
      "  File \"C:\\Users\\antho\\AppData\\Roaming\\Python\\Python39\\site-packages\\sklearn\\metrics\\_classification.py\", line 1518, in _check_set_wise_labels\n",
      "    raise ValueError(\n",
      "ValueError: Target is multiclass but average='binary'. Please choose another average setting, one of [None, 'micro', 'macro', 'weighted'].\n",
      "\n",
      "  warnings.warn(\n",
      "C:\\Users\\antho\\anaconda3\\lib\\site-packages\\xgboost\\core.py:158: UserWarning: [16:59:09] WARNING: C:\\buildkite-agent\\builds\\buildkite-windows-cpu-autoscaling-group-i-06abd128ca6c1688d-1\\xgboost\\xgboost-ci-windows\\src\\learner.cc:740: \n",
      "Parameters: { \"use_label_encoder\" } are not used.\n",
      "\n",
      "  warnings.warn(smsg, UserWarning)\n",
      "C:\\Users\\antho\\AppData\\Roaming\\Python\\Python39\\site-packages\\sklearn\\model_selection\\_validation.py:821: UserWarning: Scoring failed. The score on this train-test partition for these parameters will be set to nan. Details: \n",
      "Traceback (most recent call last):\n",
      "  File \"C:\\Users\\antho\\AppData\\Roaming\\Python\\Python39\\site-packages\\sklearn\\model_selection\\_validation.py\", line 810, in _score\n",
      "    scores = scorer(estimator, X_test, y_test)\n",
      "  File \"C:\\Users\\antho\\AppData\\Roaming\\Python\\Python39\\site-packages\\sklearn\\metrics\\_scorer.py\", line 266, in __call__\n",
      "    return self._score(partial(_cached_call, None), estimator, X, y_true, **_kwargs)\n",
      "  File \"C:\\Users\\antho\\AppData\\Roaming\\Python\\Python39\\site-packages\\sklearn\\metrics\\_scorer.py\", line 355, in _score\n",
      "    return self._sign * self._score_func(y_true, y_pred, **scoring_kwargs)\n",
      "  File \"C:\\Users\\antho\\AppData\\Roaming\\Python\\Python39\\site-packages\\sklearn\\utils\\_param_validation.py\", line 214, in wrapper\n",
      "    return func(*args, **kwargs)\n",
      "  File \"C:\\Users\\antho\\AppData\\Roaming\\Python\\Python39\\site-packages\\sklearn\\metrics\\_classification.py\", line 2304, in recall_score\n",
      "    _, r, _, _ = precision_recall_fscore_support(\n",
      "  File \"C:\\Users\\antho\\AppData\\Roaming\\Python\\Python39\\site-packages\\sklearn\\utils\\_param_validation.py\", line 187, in wrapper\n",
      "    return func(*args, **kwargs)\n",
      "  File \"C:\\Users\\antho\\AppData\\Roaming\\Python\\Python39\\site-packages\\sklearn\\metrics\\_classification.py\", line 1724, in precision_recall_fscore_support\n",
      "    labels = _check_set_wise_labels(y_true, y_pred, average, labels, pos_label)\n",
      "  File \"C:\\Users\\antho\\AppData\\Roaming\\Python\\Python39\\site-packages\\sklearn\\metrics\\_classification.py\", line 1518, in _check_set_wise_labels\n",
      "    raise ValueError(\n",
      "ValueError: Target is multiclass but average='binary'. Please choose another average setting, one of [None, 'micro', 'macro', 'weighted'].\n",
      "\n",
      "  warnings.warn(\n",
      "C:\\Users\\antho\\anaconda3\\lib\\site-packages\\xgboost\\core.py:158: UserWarning: [16:59:09] WARNING: C:\\buildkite-agent\\builds\\buildkite-windows-cpu-autoscaling-group-i-06abd128ca6c1688d-1\\xgboost\\xgboost-ci-windows\\src\\learner.cc:740: \n",
      "Parameters: { \"use_label_encoder\" } are not used.\n",
      "\n",
      "  warnings.warn(smsg, UserWarning)\n",
      "C:\\Users\\antho\\AppData\\Roaming\\Python\\Python39\\site-packages\\sklearn\\model_selection\\_validation.py:821: UserWarning: Scoring failed. The score on this train-test partition for these parameters will be set to nan. Details: \n",
      "Traceback (most recent call last):\n",
      "  File \"C:\\Users\\antho\\AppData\\Roaming\\Python\\Python39\\site-packages\\sklearn\\model_selection\\_validation.py\", line 810, in _score\n",
      "    scores = scorer(estimator, X_test, y_test)\n",
      "  File \"C:\\Users\\antho\\AppData\\Roaming\\Python\\Python39\\site-packages\\sklearn\\metrics\\_scorer.py\", line 266, in __call__\n",
      "    return self._score(partial(_cached_call, None), estimator, X, y_true, **_kwargs)\n",
      "  File \"C:\\Users\\antho\\AppData\\Roaming\\Python\\Python39\\site-packages\\sklearn\\metrics\\_scorer.py\", line 355, in _score\n",
      "    return self._sign * self._score_func(y_true, y_pred, **scoring_kwargs)\n",
      "  File \"C:\\Users\\antho\\AppData\\Roaming\\Python\\Python39\\site-packages\\sklearn\\utils\\_param_validation.py\", line 214, in wrapper\n",
      "    return func(*args, **kwargs)\n",
      "  File \"C:\\Users\\antho\\AppData\\Roaming\\Python\\Python39\\site-packages\\sklearn\\metrics\\_classification.py\", line 2304, in recall_score\n",
      "    _, r, _, _ = precision_recall_fscore_support(\n",
      "  File \"C:\\Users\\antho\\AppData\\Roaming\\Python\\Python39\\site-packages\\sklearn\\utils\\_param_validation.py\", line 187, in wrapper\n",
      "    return func(*args, **kwargs)\n",
      "  File \"C:\\Users\\antho\\AppData\\Roaming\\Python\\Python39\\site-packages\\sklearn\\metrics\\_classification.py\", line 1724, in precision_recall_fscore_support\n",
      "    labels = _check_set_wise_labels(y_true, y_pred, average, labels, pos_label)\n",
      "  File \"C:\\Users\\antho\\AppData\\Roaming\\Python\\Python39\\site-packages\\sklearn\\metrics\\_classification.py\", line 1518, in _check_set_wise_labels\n",
      "    raise ValueError(\n",
      "ValueError: Target is multiclass but average='binary'. Please choose another average setting, one of [None, 'micro', 'macro', 'weighted'].\n",
      "\n",
      "  warnings.warn(\n",
      "C:\\Users\\antho\\anaconda3\\lib\\site-packages\\xgboost\\core.py:158: UserWarning: [16:59:10] WARNING: C:\\buildkite-agent\\builds\\buildkite-windows-cpu-autoscaling-group-i-06abd128ca6c1688d-1\\xgboost\\xgboost-ci-windows\\src\\learner.cc:740: \n",
      "Parameters: { \"use_label_encoder\" } are not used.\n",
      "\n",
      "  warnings.warn(smsg, UserWarning)\n",
      "C:\\Users\\antho\\AppData\\Roaming\\Python\\Python39\\site-packages\\sklearn\\model_selection\\_validation.py:821: UserWarning: Scoring failed. The score on this train-test partition for these parameters will be set to nan. Details: \n",
      "Traceback (most recent call last):\n",
      "  File \"C:\\Users\\antho\\AppData\\Roaming\\Python\\Python39\\site-packages\\sklearn\\model_selection\\_validation.py\", line 810, in _score\n",
      "    scores = scorer(estimator, X_test, y_test)\n",
      "  File \"C:\\Users\\antho\\AppData\\Roaming\\Python\\Python39\\site-packages\\sklearn\\metrics\\_scorer.py\", line 266, in __call__\n",
      "    return self._score(partial(_cached_call, None), estimator, X, y_true, **_kwargs)\n",
      "  File \"C:\\Users\\antho\\AppData\\Roaming\\Python\\Python39\\site-packages\\sklearn\\metrics\\_scorer.py\", line 355, in _score\n",
      "    return self._sign * self._score_func(y_true, y_pred, **scoring_kwargs)\n",
      "  File \"C:\\Users\\antho\\AppData\\Roaming\\Python\\Python39\\site-packages\\sklearn\\utils\\_param_validation.py\", line 214, in wrapper\n",
      "    return func(*args, **kwargs)\n",
      "  File \"C:\\Users\\antho\\AppData\\Roaming\\Python\\Python39\\site-packages\\sklearn\\metrics\\_classification.py\", line 2304, in recall_score\n",
      "    _, r, _, _ = precision_recall_fscore_support(\n",
      "  File \"C:\\Users\\antho\\AppData\\Roaming\\Python\\Python39\\site-packages\\sklearn\\utils\\_param_validation.py\", line 187, in wrapper\n",
      "    return func(*args, **kwargs)\n",
      "  File \"C:\\Users\\antho\\AppData\\Roaming\\Python\\Python39\\site-packages\\sklearn\\metrics\\_classification.py\", line 1724, in precision_recall_fscore_support\n",
      "    labels = _check_set_wise_labels(y_true, y_pred, average, labels, pos_label)\n",
      "  File \"C:\\Users\\antho\\AppData\\Roaming\\Python\\Python39\\site-packages\\sklearn\\metrics\\_classification.py\", line 1518, in _check_set_wise_labels\n",
      "    raise ValueError(\n",
      "ValueError: Target is multiclass but average='binary'. Please choose another average setting, one of [None, 'micro', 'macro', 'weighted'].\n",
      "\n",
      "  warnings.warn(\n",
      "C:\\Users\\antho\\anaconda3\\lib\\site-packages\\xgboost\\core.py:158: UserWarning: [16:59:10] WARNING: C:\\buildkite-agent\\builds\\buildkite-windows-cpu-autoscaling-group-i-06abd128ca6c1688d-1\\xgboost\\xgboost-ci-windows\\src\\learner.cc:740: \n",
      "Parameters: { \"use_label_encoder\" } are not used.\n",
      "\n",
      "  warnings.warn(smsg, UserWarning)\n"
     ]
    },
    {
     "name": "stderr",
     "output_type": "stream",
     "text": [
      "C:\\Users\\antho\\AppData\\Roaming\\Python\\Python39\\site-packages\\sklearn\\model_selection\\_validation.py:821: UserWarning: Scoring failed. The score on this train-test partition for these parameters will be set to nan. Details: \n",
      "Traceback (most recent call last):\n",
      "  File \"C:\\Users\\antho\\AppData\\Roaming\\Python\\Python39\\site-packages\\sklearn\\model_selection\\_validation.py\", line 810, in _score\n",
      "    scores = scorer(estimator, X_test, y_test)\n",
      "  File \"C:\\Users\\antho\\AppData\\Roaming\\Python\\Python39\\site-packages\\sklearn\\metrics\\_scorer.py\", line 266, in __call__\n",
      "    return self._score(partial(_cached_call, None), estimator, X, y_true, **_kwargs)\n",
      "  File \"C:\\Users\\antho\\AppData\\Roaming\\Python\\Python39\\site-packages\\sklearn\\metrics\\_scorer.py\", line 355, in _score\n",
      "    return self._sign * self._score_func(y_true, y_pred, **scoring_kwargs)\n",
      "  File \"C:\\Users\\antho\\AppData\\Roaming\\Python\\Python39\\site-packages\\sklearn\\utils\\_param_validation.py\", line 214, in wrapper\n",
      "    return func(*args, **kwargs)\n",
      "  File \"C:\\Users\\antho\\AppData\\Roaming\\Python\\Python39\\site-packages\\sklearn\\metrics\\_classification.py\", line 2304, in recall_score\n",
      "    _, r, _, _ = precision_recall_fscore_support(\n",
      "  File \"C:\\Users\\antho\\AppData\\Roaming\\Python\\Python39\\site-packages\\sklearn\\utils\\_param_validation.py\", line 187, in wrapper\n",
      "    return func(*args, **kwargs)\n",
      "  File \"C:\\Users\\antho\\AppData\\Roaming\\Python\\Python39\\site-packages\\sklearn\\metrics\\_classification.py\", line 1724, in precision_recall_fscore_support\n",
      "    labels = _check_set_wise_labels(y_true, y_pred, average, labels, pos_label)\n",
      "  File \"C:\\Users\\antho\\AppData\\Roaming\\Python\\Python39\\site-packages\\sklearn\\metrics\\_classification.py\", line 1518, in _check_set_wise_labels\n",
      "    raise ValueError(\n",
      "ValueError: Target is multiclass but average='binary'. Please choose another average setting, one of [None, 'micro', 'macro', 'weighted'].\n",
      "\n",
      "  warnings.warn(\n",
      "C:\\Users\\antho\\anaconda3\\lib\\site-packages\\xgboost\\core.py:158: UserWarning: [16:59:10] WARNING: C:\\buildkite-agent\\builds\\buildkite-windows-cpu-autoscaling-group-i-06abd128ca6c1688d-1\\xgboost\\xgboost-ci-windows\\src\\learner.cc:740: \n",
      "Parameters: { \"use_label_encoder\" } are not used.\n",
      "\n",
      "  warnings.warn(smsg, UserWarning)\n",
      "C:\\Users\\antho\\AppData\\Roaming\\Python\\Python39\\site-packages\\sklearn\\model_selection\\_validation.py:821: UserWarning: Scoring failed. The score on this train-test partition for these parameters will be set to nan. Details: \n",
      "Traceback (most recent call last):\n",
      "  File \"C:\\Users\\antho\\AppData\\Roaming\\Python\\Python39\\site-packages\\sklearn\\model_selection\\_validation.py\", line 810, in _score\n",
      "    scores = scorer(estimator, X_test, y_test)\n",
      "  File \"C:\\Users\\antho\\AppData\\Roaming\\Python\\Python39\\site-packages\\sklearn\\metrics\\_scorer.py\", line 266, in __call__\n",
      "    return self._score(partial(_cached_call, None), estimator, X, y_true, **_kwargs)\n",
      "  File \"C:\\Users\\antho\\AppData\\Roaming\\Python\\Python39\\site-packages\\sklearn\\metrics\\_scorer.py\", line 355, in _score\n",
      "    return self._sign * self._score_func(y_true, y_pred, **scoring_kwargs)\n",
      "  File \"C:\\Users\\antho\\AppData\\Roaming\\Python\\Python39\\site-packages\\sklearn\\utils\\_param_validation.py\", line 214, in wrapper\n",
      "    return func(*args, **kwargs)\n",
      "  File \"C:\\Users\\antho\\AppData\\Roaming\\Python\\Python39\\site-packages\\sklearn\\metrics\\_classification.py\", line 2304, in recall_score\n",
      "    _, r, _, _ = precision_recall_fscore_support(\n",
      "  File \"C:\\Users\\antho\\AppData\\Roaming\\Python\\Python39\\site-packages\\sklearn\\utils\\_param_validation.py\", line 187, in wrapper\n",
      "    return func(*args, **kwargs)\n",
      "  File \"C:\\Users\\antho\\AppData\\Roaming\\Python\\Python39\\site-packages\\sklearn\\metrics\\_classification.py\", line 1724, in precision_recall_fscore_support\n",
      "    labels = _check_set_wise_labels(y_true, y_pred, average, labels, pos_label)\n",
      "  File \"C:\\Users\\antho\\AppData\\Roaming\\Python\\Python39\\site-packages\\sklearn\\metrics\\_classification.py\", line 1518, in _check_set_wise_labels\n",
      "    raise ValueError(\n",
      "ValueError: Target is multiclass but average='binary'. Please choose another average setting, one of [None, 'micro', 'macro', 'weighted'].\n",
      "\n",
      "  warnings.warn(\n",
      "C:\\Users\\antho\\anaconda3\\lib\\site-packages\\xgboost\\core.py:158: UserWarning: [16:59:10] WARNING: C:\\buildkite-agent\\builds\\buildkite-windows-cpu-autoscaling-group-i-06abd128ca6c1688d-1\\xgboost\\xgboost-ci-windows\\src\\learner.cc:740: \n",
      "Parameters: { \"use_label_encoder\" } are not used.\n",
      "\n",
      "  warnings.warn(smsg, UserWarning)\n",
      "C:\\Users\\antho\\AppData\\Roaming\\Python\\Python39\\site-packages\\sklearn\\model_selection\\_validation.py:821: UserWarning: Scoring failed. The score on this train-test partition for these parameters will be set to nan. Details: \n",
      "Traceback (most recent call last):\n",
      "  File \"C:\\Users\\antho\\AppData\\Roaming\\Python\\Python39\\site-packages\\sklearn\\model_selection\\_validation.py\", line 810, in _score\n",
      "    scores = scorer(estimator, X_test, y_test)\n",
      "  File \"C:\\Users\\antho\\AppData\\Roaming\\Python\\Python39\\site-packages\\sklearn\\metrics\\_scorer.py\", line 266, in __call__\n",
      "    return self._score(partial(_cached_call, None), estimator, X, y_true, **_kwargs)\n",
      "  File \"C:\\Users\\antho\\AppData\\Roaming\\Python\\Python39\\site-packages\\sklearn\\metrics\\_scorer.py\", line 355, in _score\n",
      "    return self._sign * self._score_func(y_true, y_pred, **scoring_kwargs)\n",
      "  File \"C:\\Users\\antho\\AppData\\Roaming\\Python\\Python39\\site-packages\\sklearn\\utils\\_param_validation.py\", line 214, in wrapper\n",
      "    return func(*args, **kwargs)\n",
      "  File \"C:\\Users\\antho\\AppData\\Roaming\\Python\\Python39\\site-packages\\sklearn\\metrics\\_classification.py\", line 2304, in recall_score\n",
      "    _, r, _, _ = precision_recall_fscore_support(\n",
      "  File \"C:\\Users\\antho\\AppData\\Roaming\\Python\\Python39\\site-packages\\sklearn\\utils\\_param_validation.py\", line 187, in wrapper\n",
      "    return func(*args, **kwargs)\n",
      "  File \"C:\\Users\\antho\\AppData\\Roaming\\Python\\Python39\\site-packages\\sklearn\\metrics\\_classification.py\", line 1724, in precision_recall_fscore_support\n",
      "    labels = _check_set_wise_labels(y_true, y_pred, average, labels, pos_label)\n",
      "  File \"C:\\Users\\antho\\AppData\\Roaming\\Python\\Python39\\site-packages\\sklearn\\metrics\\_classification.py\", line 1518, in _check_set_wise_labels\n",
      "    raise ValueError(\n",
      "ValueError: Target is multiclass but average='binary'. Please choose another average setting, one of [None, 'micro', 'macro', 'weighted'].\n",
      "\n",
      "  warnings.warn(\n",
      "C:\\Users\\antho\\anaconda3\\lib\\site-packages\\xgboost\\core.py:158: UserWarning: [16:59:10] WARNING: C:\\buildkite-agent\\builds\\buildkite-windows-cpu-autoscaling-group-i-06abd128ca6c1688d-1\\xgboost\\xgboost-ci-windows\\src\\learner.cc:740: \n",
      "Parameters: { \"use_label_encoder\" } are not used.\n",
      "\n",
      "  warnings.warn(smsg, UserWarning)\n",
      "C:\\Users\\antho\\AppData\\Roaming\\Python\\Python39\\site-packages\\sklearn\\model_selection\\_validation.py:821: UserWarning: Scoring failed. The score on this train-test partition for these parameters will be set to nan. Details: \n",
      "Traceback (most recent call last):\n",
      "  File \"C:\\Users\\antho\\AppData\\Roaming\\Python\\Python39\\site-packages\\sklearn\\model_selection\\_validation.py\", line 810, in _score\n",
      "    scores = scorer(estimator, X_test, y_test)\n",
      "  File \"C:\\Users\\antho\\AppData\\Roaming\\Python\\Python39\\site-packages\\sklearn\\metrics\\_scorer.py\", line 266, in __call__\n",
      "    return self._score(partial(_cached_call, None), estimator, X, y_true, **_kwargs)\n",
      "  File \"C:\\Users\\antho\\AppData\\Roaming\\Python\\Python39\\site-packages\\sklearn\\metrics\\_scorer.py\", line 355, in _score\n",
      "    return self._sign * self._score_func(y_true, y_pred, **scoring_kwargs)\n",
      "  File \"C:\\Users\\antho\\AppData\\Roaming\\Python\\Python39\\site-packages\\sklearn\\utils\\_param_validation.py\", line 214, in wrapper\n",
      "    return func(*args, **kwargs)\n",
      "  File \"C:\\Users\\antho\\AppData\\Roaming\\Python\\Python39\\site-packages\\sklearn\\metrics\\_classification.py\", line 2304, in recall_score\n",
      "    _, r, _, _ = precision_recall_fscore_support(\n",
      "  File \"C:\\Users\\antho\\AppData\\Roaming\\Python\\Python39\\site-packages\\sklearn\\utils\\_param_validation.py\", line 187, in wrapper\n",
      "    return func(*args, **kwargs)\n",
      "  File \"C:\\Users\\antho\\AppData\\Roaming\\Python\\Python39\\site-packages\\sklearn\\metrics\\_classification.py\", line 1724, in precision_recall_fscore_support\n",
      "    labels = _check_set_wise_labels(y_true, y_pred, average, labels, pos_label)\n",
      "  File \"C:\\Users\\antho\\AppData\\Roaming\\Python\\Python39\\site-packages\\sklearn\\metrics\\_classification.py\", line 1518, in _check_set_wise_labels\n",
      "    raise ValueError(\n",
      "ValueError: Target is multiclass but average='binary'. Please choose another average setting, one of [None, 'micro', 'macro', 'weighted'].\n",
      "\n",
      "  warnings.warn(\n",
      "C:\\Users\\antho\\anaconda3\\lib\\site-packages\\xgboost\\core.py:158: UserWarning: [16:59:10] WARNING: C:\\buildkite-agent\\builds\\buildkite-windows-cpu-autoscaling-group-i-06abd128ca6c1688d-1\\xgboost\\xgboost-ci-windows\\src\\learner.cc:740: \n",
      "Parameters: { \"use_label_encoder\" } are not used.\n",
      "\n",
      "  warnings.warn(smsg, UserWarning)\n"
     ]
    },
    {
     "name": "stderr",
     "output_type": "stream",
     "text": [
      "C:\\Users\\antho\\AppData\\Roaming\\Python\\Python39\\site-packages\\sklearn\\model_selection\\_validation.py:821: UserWarning: Scoring failed. The score on this train-test partition for these parameters will be set to nan. Details: \n",
      "Traceback (most recent call last):\n",
      "  File \"C:\\Users\\antho\\AppData\\Roaming\\Python\\Python39\\site-packages\\sklearn\\model_selection\\_validation.py\", line 810, in _score\n",
      "    scores = scorer(estimator, X_test, y_test)\n",
      "  File \"C:\\Users\\antho\\AppData\\Roaming\\Python\\Python39\\site-packages\\sklearn\\metrics\\_scorer.py\", line 266, in __call__\n",
      "    return self._score(partial(_cached_call, None), estimator, X, y_true, **_kwargs)\n",
      "  File \"C:\\Users\\antho\\AppData\\Roaming\\Python\\Python39\\site-packages\\sklearn\\metrics\\_scorer.py\", line 355, in _score\n",
      "    return self._sign * self._score_func(y_true, y_pred, **scoring_kwargs)\n",
      "  File \"C:\\Users\\antho\\AppData\\Roaming\\Python\\Python39\\site-packages\\sklearn\\utils\\_param_validation.py\", line 214, in wrapper\n",
      "    return func(*args, **kwargs)\n",
      "  File \"C:\\Users\\antho\\AppData\\Roaming\\Python\\Python39\\site-packages\\sklearn\\metrics\\_classification.py\", line 2304, in recall_score\n",
      "    _, r, _, _ = precision_recall_fscore_support(\n",
      "  File \"C:\\Users\\antho\\AppData\\Roaming\\Python\\Python39\\site-packages\\sklearn\\utils\\_param_validation.py\", line 187, in wrapper\n",
      "    return func(*args, **kwargs)\n",
      "  File \"C:\\Users\\antho\\AppData\\Roaming\\Python\\Python39\\site-packages\\sklearn\\metrics\\_classification.py\", line 1724, in precision_recall_fscore_support\n",
      "    labels = _check_set_wise_labels(y_true, y_pred, average, labels, pos_label)\n",
      "  File \"C:\\Users\\antho\\AppData\\Roaming\\Python\\Python39\\site-packages\\sklearn\\metrics\\_classification.py\", line 1518, in _check_set_wise_labels\n",
      "    raise ValueError(\n",
      "ValueError: Target is multiclass but average='binary'. Please choose another average setting, one of [None, 'micro', 'macro', 'weighted'].\n",
      "\n",
      "  warnings.warn(\n",
      "C:\\Users\\antho\\anaconda3\\lib\\site-packages\\xgboost\\core.py:158: UserWarning: [16:59:10] WARNING: C:\\buildkite-agent\\builds\\buildkite-windows-cpu-autoscaling-group-i-06abd128ca6c1688d-1\\xgboost\\xgboost-ci-windows\\src\\learner.cc:740: \n",
      "Parameters: { \"use_label_encoder\" } are not used.\n",
      "\n",
      "  warnings.warn(smsg, UserWarning)\n",
      "C:\\Users\\antho\\AppData\\Roaming\\Python\\Python39\\site-packages\\sklearn\\model_selection\\_validation.py:821: UserWarning: Scoring failed. The score on this train-test partition for these parameters will be set to nan. Details: \n",
      "Traceback (most recent call last):\n",
      "  File \"C:\\Users\\antho\\AppData\\Roaming\\Python\\Python39\\site-packages\\sklearn\\model_selection\\_validation.py\", line 810, in _score\n",
      "    scores = scorer(estimator, X_test, y_test)\n",
      "  File \"C:\\Users\\antho\\AppData\\Roaming\\Python\\Python39\\site-packages\\sklearn\\metrics\\_scorer.py\", line 266, in __call__\n",
      "    return self._score(partial(_cached_call, None), estimator, X, y_true, **_kwargs)\n",
      "  File \"C:\\Users\\antho\\AppData\\Roaming\\Python\\Python39\\site-packages\\sklearn\\metrics\\_scorer.py\", line 355, in _score\n",
      "    return self._sign * self._score_func(y_true, y_pred, **scoring_kwargs)\n",
      "  File \"C:\\Users\\antho\\AppData\\Roaming\\Python\\Python39\\site-packages\\sklearn\\utils\\_param_validation.py\", line 214, in wrapper\n",
      "    return func(*args, **kwargs)\n",
      "  File \"C:\\Users\\antho\\AppData\\Roaming\\Python\\Python39\\site-packages\\sklearn\\metrics\\_classification.py\", line 2304, in recall_score\n",
      "    _, r, _, _ = precision_recall_fscore_support(\n",
      "  File \"C:\\Users\\antho\\AppData\\Roaming\\Python\\Python39\\site-packages\\sklearn\\utils\\_param_validation.py\", line 187, in wrapper\n",
      "    return func(*args, **kwargs)\n",
      "  File \"C:\\Users\\antho\\AppData\\Roaming\\Python\\Python39\\site-packages\\sklearn\\metrics\\_classification.py\", line 1724, in precision_recall_fscore_support\n",
      "    labels = _check_set_wise_labels(y_true, y_pred, average, labels, pos_label)\n",
      "  File \"C:\\Users\\antho\\AppData\\Roaming\\Python\\Python39\\site-packages\\sklearn\\metrics\\_classification.py\", line 1518, in _check_set_wise_labels\n",
      "    raise ValueError(\n",
      "ValueError: Target is multiclass but average='binary'. Please choose another average setting, one of [None, 'micro', 'macro', 'weighted'].\n",
      "\n",
      "  warnings.warn(\n",
      "C:\\Users\\antho\\anaconda3\\lib\\site-packages\\xgboost\\core.py:158: UserWarning: [16:59:10] WARNING: C:\\buildkite-agent\\builds\\buildkite-windows-cpu-autoscaling-group-i-06abd128ca6c1688d-1\\xgboost\\xgboost-ci-windows\\src\\learner.cc:740: \n",
      "Parameters: { \"use_label_encoder\" } are not used.\n",
      "\n",
      "  warnings.warn(smsg, UserWarning)\n",
      "C:\\Users\\antho\\AppData\\Roaming\\Python\\Python39\\site-packages\\sklearn\\model_selection\\_validation.py:821: UserWarning: Scoring failed. The score on this train-test partition for these parameters will be set to nan. Details: \n",
      "Traceback (most recent call last):\n",
      "  File \"C:\\Users\\antho\\AppData\\Roaming\\Python\\Python39\\site-packages\\sklearn\\model_selection\\_validation.py\", line 810, in _score\n",
      "    scores = scorer(estimator, X_test, y_test)\n",
      "  File \"C:\\Users\\antho\\AppData\\Roaming\\Python\\Python39\\site-packages\\sklearn\\metrics\\_scorer.py\", line 266, in __call__\n",
      "    return self._score(partial(_cached_call, None), estimator, X, y_true, **_kwargs)\n",
      "  File \"C:\\Users\\antho\\AppData\\Roaming\\Python\\Python39\\site-packages\\sklearn\\metrics\\_scorer.py\", line 355, in _score\n",
      "    return self._sign * self._score_func(y_true, y_pred, **scoring_kwargs)\n",
      "  File \"C:\\Users\\antho\\AppData\\Roaming\\Python\\Python39\\site-packages\\sklearn\\utils\\_param_validation.py\", line 214, in wrapper\n",
      "    return func(*args, **kwargs)\n",
      "  File \"C:\\Users\\antho\\AppData\\Roaming\\Python\\Python39\\site-packages\\sklearn\\metrics\\_classification.py\", line 2304, in recall_score\n",
      "    _, r, _, _ = precision_recall_fscore_support(\n",
      "  File \"C:\\Users\\antho\\AppData\\Roaming\\Python\\Python39\\site-packages\\sklearn\\utils\\_param_validation.py\", line 187, in wrapper\n",
      "    return func(*args, **kwargs)\n",
      "  File \"C:\\Users\\antho\\AppData\\Roaming\\Python\\Python39\\site-packages\\sklearn\\metrics\\_classification.py\", line 1724, in precision_recall_fscore_support\n",
      "    labels = _check_set_wise_labels(y_true, y_pred, average, labels, pos_label)\n",
      "  File \"C:\\Users\\antho\\AppData\\Roaming\\Python\\Python39\\site-packages\\sklearn\\metrics\\_classification.py\", line 1518, in _check_set_wise_labels\n",
      "    raise ValueError(\n",
      "ValueError: Target is multiclass but average='binary'. Please choose another average setting, one of [None, 'micro', 'macro', 'weighted'].\n",
      "\n",
      "  warnings.warn(\n",
      "C:\\Users\\antho\\anaconda3\\lib\\site-packages\\xgboost\\core.py:158: UserWarning: [16:59:11] WARNING: C:\\buildkite-agent\\builds\\buildkite-windows-cpu-autoscaling-group-i-06abd128ca6c1688d-1\\xgboost\\xgboost-ci-windows\\src\\learner.cc:740: \n",
      "Parameters: { \"use_label_encoder\" } are not used.\n",
      "\n",
      "  warnings.warn(smsg, UserWarning)\n",
      "C:\\Users\\antho\\AppData\\Roaming\\Python\\Python39\\site-packages\\sklearn\\model_selection\\_validation.py:821: UserWarning: Scoring failed. The score on this train-test partition for these parameters will be set to nan. Details: \n",
      "Traceback (most recent call last):\n",
      "  File \"C:\\Users\\antho\\AppData\\Roaming\\Python\\Python39\\site-packages\\sklearn\\model_selection\\_validation.py\", line 810, in _score\n",
      "    scores = scorer(estimator, X_test, y_test)\n",
      "  File \"C:\\Users\\antho\\AppData\\Roaming\\Python\\Python39\\site-packages\\sklearn\\metrics\\_scorer.py\", line 266, in __call__\n",
      "    return self._score(partial(_cached_call, None), estimator, X, y_true, **_kwargs)\n",
      "  File \"C:\\Users\\antho\\AppData\\Roaming\\Python\\Python39\\site-packages\\sklearn\\metrics\\_scorer.py\", line 355, in _score\n",
      "    return self._sign * self._score_func(y_true, y_pred, **scoring_kwargs)\n",
      "  File \"C:\\Users\\antho\\AppData\\Roaming\\Python\\Python39\\site-packages\\sklearn\\utils\\_param_validation.py\", line 214, in wrapper\n",
      "    return func(*args, **kwargs)\n",
      "  File \"C:\\Users\\antho\\AppData\\Roaming\\Python\\Python39\\site-packages\\sklearn\\metrics\\_classification.py\", line 2304, in recall_score\n",
      "    _, r, _, _ = precision_recall_fscore_support(\n",
      "  File \"C:\\Users\\antho\\AppData\\Roaming\\Python\\Python39\\site-packages\\sklearn\\utils\\_param_validation.py\", line 187, in wrapper\n",
      "    return func(*args, **kwargs)\n",
      "  File \"C:\\Users\\antho\\AppData\\Roaming\\Python\\Python39\\site-packages\\sklearn\\metrics\\_classification.py\", line 1724, in precision_recall_fscore_support\n",
      "    labels = _check_set_wise_labels(y_true, y_pred, average, labels, pos_label)\n",
      "  File \"C:\\Users\\antho\\AppData\\Roaming\\Python\\Python39\\site-packages\\sklearn\\metrics\\_classification.py\", line 1518, in _check_set_wise_labels\n",
      "    raise ValueError(\n",
      "ValueError: Target is multiclass but average='binary'. Please choose another average setting, one of [None, 'micro', 'macro', 'weighted'].\n",
      "\n",
      "  warnings.warn(\n",
      "C:\\Users\\antho\\anaconda3\\lib\\site-packages\\xgboost\\core.py:158: UserWarning: [16:59:11] WARNING: C:\\buildkite-agent\\builds\\buildkite-windows-cpu-autoscaling-group-i-06abd128ca6c1688d-1\\xgboost\\xgboost-ci-windows\\src\\learner.cc:740: \n",
      "Parameters: { \"use_label_encoder\" } are not used.\n",
      "\n",
      "  warnings.warn(smsg, UserWarning)\n"
     ]
    },
    {
     "name": "stderr",
     "output_type": "stream",
     "text": [
      "C:\\Users\\antho\\AppData\\Roaming\\Python\\Python39\\site-packages\\sklearn\\model_selection\\_validation.py:821: UserWarning: Scoring failed. The score on this train-test partition for these parameters will be set to nan. Details: \n",
      "Traceback (most recent call last):\n",
      "  File \"C:\\Users\\antho\\AppData\\Roaming\\Python\\Python39\\site-packages\\sklearn\\model_selection\\_validation.py\", line 810, in _score\n",
      "    scores = scorer(estimator, X_test, y_test)\n",
      "  File \"C:\\Users\\antho\\AppData\\Roaming\\Python\\Python39\\site-packages\\sklearn\\metrics\\_scorer.py\", line 266, in __call__\n",
      "    return self._score(partial(_cached_call, None), estimator, X, y_true, **_kwargs)\n",
      "  File \"C:\\Users\\antho\\AppData\\Roaming\\Python\\Python39\\site-packages\\sklearn\\metrics\\_scorer.py\", line 355, in _score\n",
      "    return self._sign * self._score_func(y_true, y_pred, **scoring_kwargs)\n",
      "  File \"C:\\Users\\antho\\AppData\\Roaming\\Python\\Python39\\site-packages\\sklearn\\utils\\_param_validation.py\", line 214, in wrapper\n",
      "    return func(*args, **kwargs)\n",
      "  File \"C:\\Users\\antho\\AppData\\Roaming\\Python\\Python39\\site-packages\\sklearn\\metrics\\_classification.py\", line 2304, in recall_score\n",
      "    _, r, _, _ = precision_recall_fscore_support(\n",
      "  File \"C:\\Users\\antho\\AppData\\Roaming\\Python\\Python39\\site-packages\\sklearn\\utils\\_param_validation.py\", line 187, in wrapper\n",
      "    return func(*args, **kwargs)\n",
      "  File \"C:\\Users\\antho\\AppData\\Roaming\\Python\\Python39\\site-packages\\sklearn\\metrics\\_classification.py\", line 1724, in precision_recall_fscore_support\n",
      "    labels = _check_set_wise_labels(y_true, y_pred, average, labels, pos_label)\n",
      "  File \"C:\\Users\\antho\\AppData\\Roaming\\Python\\Python39\\site-packages\\sklearn\\metrics\\_classification.py\", line 1518, in _check_set_wise_labels\n",
      "    raise ValueError(\n",
      "ValueError: Target is multiclass but average='binary'. Please choose another average setting, one of [None, 'micro', 'macro', 'weighted'].\n",
      "\n",
      "  warnings.warn(\n",
      "C:\\Users\\antho\\anaconda3\\lib\\site-packages\\xgboost\\core.py:158: UserWarning: [16:59:11] WARNING: C:\\buildkite-agent\\builds\\buildkite-windows-cpu-autoscaling-group-i-06abd128ca6c1688d-1\\xgboost\\xgboost-ci-windows\\src\\learner.cc:740: \n",
      "Parameters: { \"use_label_encoder\" } are not used.\n",
      "\n",
      "  warnings.warn(smsg, UserWarning)\n",
      "C:\\Users\\antho\\AppData\\Roaming\\Python\\Python39\\site-packages\\sklearn\\model_selection\\_validation.py:821: UserWarning: Scoring failed. The score on this train-test partition for these parameters will be set to nan. Details: \n",
      "Traceback (most recent call last):\n",
      "  File \"C:\\Users\\antho\\AppData\\Roaming\\Python\\Python39\\site-packages\\sklearn\\model_selection\\_validation.py\", line 810, in _score\n",
      "    scores = scorer(estimator, X_test, y_test)\n",
      "  File \"C:\\Users\\antho\\AppData\\Roaming\\Python\\Python39\\site-packages\\sklearn\\metrics\\_scorer.py\", line 266, in __call__\n",
      "    return self._score(partial(_cached_call, None), estimator, X, y_true, **_kwargs)\n",
      "  File \"C:\\Users\\antho\\AppData\\Roaming\\Python\\Python39\\site-packages\\sklearn\\metrics\\_scorer.py\", line 355, in _score\n",
      "    return self._sign * self._score_func(y_true, y_pred, **scoring_kwargs)\n",
      "  File \"C:\\Users\\antho\\AppData\\Roaming\\Python\\Python39\\site-packages\\sklearn\\utils\\_param_validation.py\", line 214, in wrapper\n",
      "    return func(*args, **kwargs)\n",
      "  File \"C:\\Users\\antho\\AppData\\Roaming\\Python\\Python39\\site-packages\\sklearn\\metrics\\_classification.py\", line 2304, in recall_score\n",
      "    _, r, _, _ = precision_recall_fscore_support(\n",
      "  File \"C:\\Users\\antho\\AppData\\Roaming\\Python\\Python39\\site-packages\\sklearn\\utils\\_param_validation.py\", line 187, in wrapper\n",
      "    return func(*args, **kwargs)\n",
      "  File \"C:\\Users\\antho\\AppData\\Roaming\\Python\\Python39\\site-packages\\sklearn\\metrics\\_classification.py\", line 1724, in precision_recall_fscore_support\n",
      "    labels = _check_set_wise_labels(y_true, y_pred, average, labels, pos_label)\n",
      "  File \"C:\\Users\\antho\\AppData\\Roaming\\Python\\Python39\\site-packages\\sklearn\\metrics\\_classification.py\", line 1518, in _check_set_wise_labels\n",
      "    raise ValueError(\n",
      "ValueError: Target is multiclass but average='binary'. Please choose another average setting, one of [None, 'micro', 'macro', 'weighted'].\n",
      "\n",
      "  warnings.warn(\n",
      "C:\\Users\\antho\\anaconda3\\lib\\site-packages\\xgboost\\core.py:158: UserWarning: [16:59:11] WARNING: C:\\buildkite-agent\\builds\\buildkite-windows-cpu-autoscaling-group-i-06abd128ca6c1688d-1\\xgboost\\xgboost-ci-windows\\src\\learner.cc:740: \n",
      "Parameters: { \"use_label_encoder\" } are not used.\n",
      "\n",
      "  warnings.warn(smsg, UserWarning)\n",
      "C:\\Users\\antho\\AppData\\Roaming\\Python\\Python39\\site-packages\\sklearn\\model_selection\\_validation.py:821: UserWarning: Scoring failed. The score on this train-test partition for these parameters will be set to nan. Details: \n",
      "Traceback (most recent call last):\n",
      "  File \"C:\\Users\\antho\\AppData\\Roaming\\Python\\Python39\\site-packages\\sklearn\\model_selection\\_validation.py\", line 810, in _score\n",
      "    scores = scorer(estimator, X_test, y_test)\n",
      "  File \"C:\\Users\\antho\\AppData\\Roaming\\Python\\Python39\\site-packages\\sklearn\\metrics\\_scorer.py\", line 266, in __call__\n",
      "    return self._score(partial(_cached_call, None), estimator, X, y_true, **_kwargs)\n",
      "  File \"C:\\Users\\antho\\AppData\\Roaming\\Python\\Python39\\site-packages\\sklearn\\metrics\\_scorer.py\", line 355, in _score\n",
      "    return self._sign * self._score_func(y_true, y_pred, **scoring_kwargs)\n",
      "  File \"C:\\Users\\antho\\AppData\\Roaming\\Python\\Python39\\site-packages\\sklearn\\utils\\_param_validation.py\", line 214, in wrapper\n",
      "    return func(*args, **kwargs)\n",
      "  File \"C:\\Users\\antho\\AppData\\Roaming\\Python\\Python39\\site-packages\\sklearn\\metrics\\_classification.py\", line 2304, in recall_score\n",
      "    _, r, _, _ = precision_recall_fscore_support(\n",
      "  File \"C:\\Users\\antho\\AppData\\Roaming\\Python\\Python39\\site-packages\\sklearn\\utils\\_param_validation.py\", line 187, in wrapper\n",
      "    return func(*args, **kwargs)\n",
      "  File \"C:\\Users\\antho\\AppData\\Roaming\\Python\\Python39\\site-packages\\sklearn\\metrics\\_classification.py\", line 1724, in precision_recall_fscore_support\n",
      "    labels = _check_set_wise_labels(y_true, y_pred, average, labels, pos_label)\n",
      "  File \"C:\\Users\\antho\\AppData\\Roaming\\Python\\Python39\\site-packages\\sklearn\\metrics\\_classification.py\", line 1518, in _check_set_wise_labels\n",
      "    raise ValueError(\n",
      "ValueError: Target is multiclass but average='binary'. Please choose another average setting, one of [None, 'micro', 'macro', 'weighted'].\n",
      "\n",
      "  warnings.warn(\n",
      "C:\\Users\\antho\\anaconda3\\lib\\site-packages\\xgboost\\core.py:158: UserWarning: [16:59:12] WARNING: C:\\buildkite-agent\\builds\\buildkite-windows-cpu-autoscaling-group-i-06abd128ca6c1688d-1\\xgboost\\xgboost-ci-windows\\src\\learner.cc:740: \n",
      "Parameters: { \"use_label_encoder\" } are not used.\n",
      "\n",
      "  warnings.warn(smsg, UserWarning)\n",
      "C:\\Users\\antho\\AppData\\Roaming\\Python\\Python39\\site-packages\\sklearn\\model_selection\\_validation.py:821: UserWarning: Scoring failed. The score on this train-test partition for these parameters will be set to nan. Details: \n",
      "Traceback (most recent call last):\n",
      "  File \"C:\\Users\\antho\\AppData\\Roaming\\Python\\Python39\\site-packages\\sklearn\\model_selection\\_validation.py\", line 810, in _score\n",
      "    scores = scorer(estimator, X_test, y_test)\n",
      "  File \"C:\\Users\\antho\\AppData\\Roaming\\Python\\Python39\\site-packages\\sklearn\\metrics\\_scorer.py\", line 266, in __call__\n",
      "    return self._score(partial(_cached_call, None), estimator, X, y_true, **_kwargs)\n",
      "  File \"C:\\Users\\antho\\AppData\\Roaming\\Python\\Python39\\site-packages\\sklearn\\metrics\\_scorer.py\", line 355, in _score\n",
      "    return self._sign * self._score_func(y_true, y_pred, **scoring_kwargs)\n",
      "  File \"C:\\Users\\antho\\AppData\\Roaming\\Python\\Python39\\site-packages\\sklearn\\utils\\_param_validation.py\", line 214, in wrapper\n",
      "    return func(*args, **kwargs)\n",
      "  File \"C:\\Users\\antho\\AppData\\Roaming\\Python\\Python39\\site-packages\\sklearn\\metrics\\_classification.py\", line 2304, in recall_score\n",
      "    _, r, _, _ = precision_recall_fscore_support(\n",
      "  File \"C:\\Users\\antho\\AppData\\Roaming\\Python\\Python39\\site-packages\\sklearn\\utils\\_param_validation.py\", line 187, in wrapper\n",
      "    return func(*args, **kwargs)\n",
      "  File \"C:\\Users\\antho\\AppData\\Roaming\\Python\\Python39\\site-packages\\sklearn\\metrics\\_classification.py\", line 1724, in precision_recall_fscore_support\n",
      "    labels = _check_set_wise_labels(y_true, y_pred, average, labels, pos_label)\n",
      "  File \"C:\\Users\\antho\\AppData\\Roaming\\Python\\Python39\\site-packages\\sklearn\\metrics\\_classification.py\", line 1518, in _check_set_wise_labels\n",
      "    raise ValueError(\n",
      "ValueError: Target is multiclass but average='binary'. Please choose another average setting, one of [None, 'micro', 'macro', 'weighted'].\n",
      "\n",
      "  warnings.warn(\n",
      "C:\\Users\\antho\\anaconda3\\lib\\site-packages\\xgboost\\core.py:158: UserWarning: [16:59:12] WARNING: C:\\buildkite-agent\\builds\\buildkite-windows-cpu-autoscaling-group-i-06abd128ca6c1688d-1\\xgboost\\xgboost-ci-windows\\src\\learner.cc:740: \n",
      "Parameters: { \"use_label_encoder\" } are not used.\n",
      "\n",
      "  warnings.warn(smsg, UserWarning)\n",
      "C:\\Users\\antho\\AppData\\Roaming\\Python\\Python39\\site-packages\\sklearn\\model_selection\\_validation.py:821: UserWarning: Scoring failed. The score on this train-test partition for these parameters will be set to nan. Details: \n",
      "Traceback (most recent call last):\n",
      "  File \"C:\\Users\\antho\\AppData\\Roaming\\Python\\Python39\\site-packages\\sklearn\\model_selection\\_validation.py\", line 810, in _score\n",
      "    scores = scorer(estimator, X_test, y_test)\n",
      "  File \"C:\\Users\\antho\\AppData\\Roaming\\Python\\Python39\\site-packages\\sklearn\\metrics\\_scorer.py\", line 266, in __call__\n",
      "    return self._score(partial(_cached_call, None), estimator, X, y_true, **_kwargs)\n",
      "  File \"C:\\Users\\antho\\AppData\\Roaming\\Python\\Python39\\site-packages\\sklearn\\metrics\\_scorer.py\", line 355, in _score\n",
      "    return self._sign * self._score_func(y_true, y_pred, **scoring_kwargs)\n",
      "  File \"C:\\Users\\antho\\AppData\\Roaming\\Python\\Python39\\site-packages\\sklearn\\utils\\_param_validation.py\", line 214, in wrapper\n",
      "    return func(*args, **kwargs)\n",
      "  File \"C:\\Users\\antho\\AppData\\Roaming\\Python\\Python39\\site-packages\\sklearn\\metrics\\_classification.py\", line 2304, in recall_score\n",
      "    _, r, _, _ = precision_recall_fscore_support(\n",
      "  File \"C:\\Users\\antho\\AppData\\Roaming\\Python\\Python39\\site-packages\\sklearn\\utils\\_param_validation.py\", line 187, in wrapper\n",
      "    return func(*args, **kwargs)\n",
      "  File \"C:\\Users\\antho\\AppData\\Roaming\\Python\\Python39\\site-packages\\sklearn\\metrics\\_classification.py\", line 1724, in precision_recall_fscore_support\n",
      "    labels = _check_set_wise_labels(y_true, y_pred, average, labels, pos_label)\n",
      "  File \"C:\\Users\\antho\\AppData\\Roaming\\Python\\Python39\\site-packages\\sklearn\\metrics\\_classification.py\", line 1518, in _check_set_wise_labels\n",
      "    raise ValueError(\n",
      "ValueError: Target is multiclass but average='binary'. Please choose another average setting, one of [None, 'micro', 'macro', 'weighted'].\n",
      "\n",
      "  warnings.warn(\n",
      "C:\\Users\\antho\\anaconda3\\lib\\site-packages\\xgboost\\core.py:158: UserWarning: [16:59:12] WARNING: C:\\buildkite-agent\\builds\\buildkite-windows-cpu-autoscaling-group-i-06abd128ca6c1688d-1\\xgboost\\xgboost-ci-windows\\src\\learner.cc:740: \n",
      "Parameters: { \"use_label_encoder\" } are not used.\n",
      "\n",
      "  warnings.warn(smsg, UserWarning)\n"
     ]
    },
    {
     "name": "stderr",
     "output_type": "stream",
     "text": [
      "C:\\Users\\antho\\AppData\\Roaming\\Python\\Python39\\site-packages\\sklearn\\model_selection\\_validation.py:821: UserWarning: Scoring failed. The score on this train-test partition for these parameters will be set to nan. Details: \n",
      "Traceback (most recent call last):\n",
      "  File \"C:\\Users\\antho\\AppData\\Roaming\\Python\\Python39\\site-packages\\sklearn\\model_selection\\_validation.py\", line 810, in _score\n",
      "    scores = scorer(estimator, X_test, y_test)\n",
      "  File \"C:\\Users\\antho\\AppData\\Roaming\\Python\\Python39\\site-packages\\sklearn\\metrics\\_scorer.py\", line 266, in __call__\n",
      "    return self._score(partial(_cached_call, None), estimator, X, y_true, **_kwargs)\n",
      "  File \"C:\\Users\\antho\\AppData\\Roaming\\Python\\Python39\\site-packages\\sklearn\\metrics\\_scorer.py\", line 355, in _score\n",
      "    return self._sign * self._score_func(y_true, y_pred, **scoring_kwargs)\n",
      "  File \"C:\\Users\\antho\\AppData\\Roaming\\Python\\Python39\\site-packages\\sklearn\\utils\\_param_validation.py\", line 214, in wrapper\n",
      "    return func(*args, **kwargs)\n",
      "  File \"C:\\Users\\antho\\AppData\\Roaming\\Python\\Python39\\site-packages\\sklearn\\metrics\\_classification.py\", line 2304, in recall_score\n",
      "    _, r, _, _ = precision_recall_fscore_support(\n",
      "  File \"C:\\Users\\antho\\AppData\\Roaming\\Python\\Python39\\site-packages\\sklearn\\utils\\_param_validation.py\", line 187, in wrapper\n",
      "    return func(*args, **kwargs)\n",
      "  File \"C:\\Users\\antho\\AppData\\Roaming\\Python\\Python39\\site-packages\\sklearn\\metrics\\_classification.py\", line 1724, in precision_recall_fscore_support\n",
      "    labels = _check_set_wise_labels(y_true, y_pred, average, labels, pos_label)\n",
      "  File \"C:\\Users\\antho\\AppData\\Roaming\\Python\\Python39\\site-packages\\sklearn\\metrics\\_classification.py\", line 1518, in _check_set_wise_labels\n",
      "    raise ValueError(\n",
      "ValueError: Target is multiclass but average='binary'. Please choose another average setting, one of [None, 'micro', 'macro', 'weighted'].\n",
      "\n",
      "  warnings.warn(\n",
      "C:\\Users\\antho\\anaconda3\\lib\\site-packages\\xgboost\\core.py:158: UserWarning: [16:59:12] WARNING: C:\\buildkite-agent\\builds\\buildkite-windows-cpu-autoscaling-group-i-06abd128ca6c1688d-1\\xgboost\\xgboost-ci-windows\\src\\learner.cc:740: \n",
      "Parameters: { \"use_label_encoder\" } are not used.\n",
      "\n",
      "  warnings.warn(smsg, UserWarning)\n",
      "C:\\Users\\antho\\AppData\\Roaming\\Python\\Python39\\site-packages\\sklearn\\model_selection\\_validation.py:821: UserWarning: Scoring failed. The score on this train-test partition for these parameters will be set to nan. Details: \n",
      "Traceback (most recent call last):\n",
      "  File \"C:\\Users\\antho\\AppData\\Roaming\\Python\\Python39\\site-packages\\sklearn\\model_selection\\_validation.py\", line 810, in _score\n",
      "    scores = scorer(estimator, X_test, y_test)\n",
      "  File \"C:\\Users\\antho\\AppData\\Roaming\\Python\\Python39\\site-packages\\sklearn\\metrics\\_scorer.py\", line 266, in __call__\n",
      "    return self._score(partial(_cached_call, None), estimator, X, y_true, **_kwargs)\n",
      "  File \"C:\\Users\\antho\\AppData\\Roaming\\Python\\Python39\\site-packages\\sklearn\\metrics\\_scorer.py\", line 355, in _score\n",
      "    return self._sign * self._score_func(y_true, y_pred, **scoring_kwargs)\n",
      "  File \"C:\\Users\\antho\\AppData\\Roaming\\Python\\Python39\\site-packages\\sklearn\\utils\\_param_validation.py\", line 214, in wrapper\n",
      "    return func(*args, **kwargs)\n",
      "  File \"C:\\Users\\antho\\AppData\\Roaming\\Python\\Python39\\site-packages\\sklearn\\metrics\\_classification.py\", line 2304, in recall_score\n",
      "    _, r, _, _ = precision_recall_fscore_support(\n",
      "  File \"C:\\Users\\antho\\AppData\\Roaming\\Python\\Python39\\site-packages\\sklearn\\utils\\_param_validation.py\", line 187, in wrapper\n",
      "    return func(*args, **kwargs)\n",
      "  File \"C:\\Users\\antho\\AppData\\Roaming\\Python\\Python39\\site-packages\\sklearn\\metrics\\_classification.py\", line 1724, in precision_recall_fscore_support\n",
      "    labels = _check_set_wise_labels(y_true, y_pred, average, labels, pos_label)\n",
      "  File \"C:\\Users\\antho\\AppData\\Roaming\\Python\\Python39\\site-packages\\sklearn\\metrics\\_classification.py\", line 1518, in _check_set_wise_labels\n",
      "    raise ValueError(\n",
      "ValueError: Target is multiclass but average='binary'. Please choose another average setting, one of [None, 'micro', 'macro', 'weighted'].\n",
      "\n",
      "  warnings.warn(\n",
      "C:\\Users\\antho\\anaconda3\\lib\\site-packages\\xgboost\\core.py:158: UserWarning: [16:59:12] WARNING: C:\\buildkite-agent\\builds\\buildkite-windows-cpu-autoscaling-group-i-06abd128ca6c1688d-1\\xgboost\\xgboost-ci-windows\\src\\learner.cc:740: \n",
      "Parameters: { \"use_label_encoder\" } are not used.\n",
      "\n",
      "  warnings.warn(smsg, UserWarning)\n",
      "C:\\Users\\antho\\AppData\\Roaming\\Python\\Python39\\site-packages\\sklearn\\model_selection\\_validation.py:821: UserWarning: Scoring failed. The score on this train-test partition for these parameters will be set to nan. Details: \n",
      "Traceback (most recent call last):\n",
      "  File \"C:\\Users\\antho\\AppData\\Roaming\\Python\\Python39\\site-packages\\sklearn\\model_selection\\_validation.py\", line 810, in _score\n",
      "    scores = scorer(estimator, X_test, y_test)\n",
      "  File \"C:\\Users\\antho\\AppData\\Roaming\\Python\\Python39\\site-packages\\sklearn\\metrics\\_scorer.py\", line 266, in __call__\n",
      "    return self._score(partial(_cached_call, None), estimator, X, y_true, **_kwargs)\n",
      "  File \"C:\\Users\\antho\\AppData\\Roaming\\Python\\Python39\\site-packages\\sklearn\\metrics\\_scorer.py\", line 355, in _score\n",
      "    return self._sign * self._score_func(y_true, y_pred, **scoring_kwargs)\n",
      "  File \"C:\\Users\\antho\\AppData\\Roaming\\Python\\Python39\\site-packages\\sklearn\\utils\\_param_validation.py\", line 214, in wrapper\n",
      "    return func(*args, **kwargs)\n",
      "  File \"C:\\Users\\antho\\AppData\\Roaming\\Python\\Python39\\site-packages\\sklearn\\metrics\\_classification.py\", line 2304, in recall_score\n",
      "    _, r, _, _ = precision_recall_fscore_support(\n",
      "  File \"C:\\Users\\antho\\AppData\\Roaming\\Python\\Python39\\site-packages\\sklearn\\utils\\_param_validation.py\", line 187, in wrapper\n",
      "    return func(*args, **kwargs)\n",
      "  File \"C:\\Users\\antho\\AppData\\Roaming\\Python\\Python39\\site-packages\\sklearn\\metrics\\_classification.py\", line 1724, in precision_recall_fscore_support\n",
      "    labels = _check_set_wise_labels(y_true, y_pred, average, labels, pos_label)\n",
      "  File \"C:\\Users\\antho\\AppData\\Roaming\\Python\\Python39\\site-packages\\sklearn\\metrics\\_classification.py\", line 1518, in _check_set_wise_labels\n",
      "    raise ValueError(\n",
      "ValueError: Target is multiclass but average='binary'. Please choose another average setting, one of [None, 'micro', 'macro', 'weighted'].\n",
      "\n",
      "  warnings.warn(\n",
      "C:\\Users\\antho\\anaconda3\\lib\\site-packages\\xgboost\\core.py:158: UserWarning: [16:59:12] WARNING: C:\\buildkite-agent\\builds\\buildkite-windows-cpu-autoscaling-group-i-06abd128ca6c1688d-1\\xgboost\\xgboost-ci-windows\\src\\learner.cc:740: \n",
      "Parameters: { \"use_label_encoder\" } are not used.\n",
      "\n",
      "  warnings.warn(smsg, UserWarning)\n",
      "C:\\Users\\antho\\AppData\\Roaming\\Python\\Python39\\site-packages\\sklearn\\model_selection\\_validation.py:821: UserWarning: Scoring failed. The score on this train-test partition for these parameters will be set to nan. Details: \n",
      "Traceback (most recent call last):\n",
      "  File \"C:\\Users\\antho\\AppData\\Roaming\\Python\\Python39\\site-packages\\sklearn\\model_selection\\_validation.py\", line 810, in _score\n",
      "    scores = scorer(estimator, X_test, y_test)\n",
      "  File \"C:\\Users\\antho\\AppData\\Roaming\\Python\\Python39\\site-packages\\sklearn\\metrics\\_scorer.py\", line 266, in __call__\n",
      "    return self._score(partial(_cached_call, None), estimator, X, y_true, **_kwargs)\n",
      "  File \"C:\\Users\\antho\\AppData\\Roaming\\Python\\Python39\\site-packages\\sklearn\\metrics\\_scorer.py\", line 355, in _score\n",
      "    return self._sign * self._score_func(y_true, y_pred, **scoring_kwargs)\n",
      "  File \"C:\\Users\\antho\\AppData\\Roaming\\Python\\Python39\\site-packages\\sklearn\\utils\\_param_validation.py\", line 214, in wrapper\n",
      "    return func(*args, **kwargs)\n",
      "  File \"C:\\Users\\antho\\AppData\\Roaming\\Python\\Python39\\site-packages\\sklearn\\metrics\\_classification.py\", line 2304, in recall_score\n",
      "    _, r, _, _ = precision_recall_fscore_support(\n",
      "  File \"C:\\Users\\antho\\AppData\\Roaming\\Python\\Python39\\site-packages\\sklearn\\utils\\_param_validation.py\", line 187, in wrapper\n",
      "    return func(*args, **kwargs)\n",
      "  File \"C:\\Users\\antho\\AppData\\Roaming\\Python\\Python39\\site-packages\\sklearn\\metrics\\_classification.py\", line 1724, in precision_recall_fscore_support\n",
      "    labels = _check_set_wise_labels(y_true, y_pred, average, labels, pos_label)\n",
      "  File \"C:\\Users\\antho\\AppData\\Roaming\\Python\\Python39\\site-packages\\sklearn\\metrics\\_classification.py\", line 1518, in _check_set_wise_labels\n",
      "    raise ValueError(\n",
      "ValueError: Target is multiclass but average='binary'. Please choose another average setting, one of [None, 'micro', 'macro', 'weighted'].\n",
      "\n",
      "  warnings.warn(\n",
      "C:\\Users\\antho\\anaconda3\\lib\\site-packages\\xgboost\\core.py:158: UserWarning: [16:59:12] WARNING: C:\\buildkite-agent\\builds\\buildkite-windows-cpu-autoscaling-group-i-06abd128ca6c1688d-1\\xgboost\\xgboost-ci-windows\\src\\learner.cc:740: \n",
      "Parameters: { \"use_label_encoder\" } are not used.\n",
      "\n",
      "  warnings.warn(smsg, UserWarning)\n",
      "C:\\Users\\antho\\AppData\\Roaming\\Python\\Python39\\site-packages\\sklearn\\model_selection\\_validation.py:821: UserWarning: Scoring failed. The score on this train-test partition for these parameters will be set to nan. Details: \n",
      "Traceback (most recent call last):\n",
      "  File \"C:\\Users\\antho\\AppData\\Roaming\\Python\\Python39\\site-packages\\sklearn\\model_selection\\_validation.py\", line 810, in _score\n",
      "    scores = scorer(estimator, X_test, y_test)\n",
      "  File \"C:\\Users\\antho\\AppData\\Roaming\\Python\\Python39\\site-packages\\sklearn\\metrics\\_scorer.py\", line 266, in __call__\n",
      "    return self._score(partial(_cached_call, None), estimator, X, y_true, **_kwargs)\n",
      "  File \"C:\\Users\\antho\\AppData\\Roaming\\Python\\Python39\\site-packages\\sklearn\\metrics\\_scorer.py\", line 355, in _score\n",
      "    return self._sign * self._score_func(y_true, y_pred, **scoring_kwargs)\n",
      "  File \"C:\\Users\\antho\\AppData\\Roaming\\Python\\Python39\\site-packages\\sklearn\\utils\\_param_validation.py\", line 214, in wrapper\n",
      "    return func(*args, **kwargs)\n",
      "  File \"C:\\Users\\antho\\AppData\\Roaming\\Python\\Python39\\site-packages\\sklearn\\metrics\\_classification.py\", line 2304, in recall_score\n",
      "    _, r, _, _ = precision_recall_fscore_support(\n",
      "  File \"C:\\Users\\antho\\AppData\\Roaming\\Python\\Python39\\site-packages\\sklearn\\utils\\_param_validation.py\", line 187, in wrapper\n",
      "    return func(*args, **kwargs)\n",
      "  File \"C:\\Users\\antho\\AppData\\Roaming\\Python\\Python39\\site-packages\\sklearn\\metrics\\_classification.py\", line 1724, in precision_recall_fscore_support\n",
      "    labels = _check_set_wise_labels(y_true, y_pred, average, labels, pos_label)\n",
      "  File \"C:\\Users\\antho\\AppData\\Roaming\\Python\\Python39\\site-packages\\sklearn\\metrics\\_classification.py\", line 1518, in _check_set_wise_labels\n",
      "    raise ValueError(\n",
      "ValueError: Target is multiclass but average='binary'. Please choose another average setting, one of [None, 'micro', 'macro', 'weighted'].\n",
      "\n",
      "  warnings.warn(\n",
      "C:\\Users\\antho\\anaconda3\\lib\\site-packages\\xgboost\\core.py:158: UserWarning: [16:59:12] WARNING: C:\\buildkite-agent\\builds\\buildkite-windows-cpu-autoscaling-group-i-06abd128ca6c1688d-1\\xgboost\\xgboost-ci-windows\\src\\learner.cc:740: \n",
      "Parameters: { \"use_label_encoder\" } are not used.\n",
      "\n",
      "  warnings.warn(smsg, UserWarning)\n"
     ]
    },
    {
     "name": "stderr",
     "output_type": "stream",
     "text": [
      "C:\\Users\\antho\\AppData\\Roaming\\Python\\Python39\\site-packages\\sklearn\\model_selection\\_validation.py:821: UserWarning: Scoring failed. The score on this train-test partition for these parameters will be set to nan. Details: \n",
      "Traceback (most recent call last):\n",
      "  File \"C:\\Users\\antho\\AppData\\Roaming\\Python\\Python39\\site-packages\\sklearn\\model_selection\\_validation.py\", line 810, in _score\n",
      "    scores = scorer(estimator, X_test, y_test)\n",
      "  File \"C:\\Users\\antho\\AppData\\Roaming\\Python\\Python39\\site-packages\\sklearn\\metrics\\_scorer.py\", line 266, in __call__\n",
      "    return self._score(partial(_cached_call, None), estimator, X, y_true, **_kwargs)\n",
      "  File \"C:\\Users\\antho\\AppData\\Roaming\\Python\\Python39\\site-packages\\sklearn\\metrics\\_scorer.py\", line 355, in _score\n",
      "    return self._sign * self._score_func(y_true, y_pred, **scoring_kwargs)\n",
      "  File \"C:\\Users\\antho\\AppData\\Roaming\\Python\\Python39\\site-packages\\sklearn\\utils\\_param_validation.py\", line 214, in wrapper\n",
      "    return func(*args, **kwargs)\n",
      "  File \"C:\\Users\\antho\\AppData\\Roaming\\Python\\Python39\\site-packages\\sklearn\\metrics\\_classification.py\", line 2304, in recall_score\n",
      "    _, r, _, _ = precision_recall_fscore_support(\n",
      "  File \"C:\\Users\\antho\\AppData\\Roaming\\Python\\Python39\\site-packages\\sklearn\\utils\\_param_validation.py\", line 187, in wrapper\n",
      "    return func(*args, **kwargs)\n",
      "  File \"C:\\Users\\antho\\AppData\\Roaming\\Python\\Python39\\site-packages\\sklearn\\metrics\\_classification.py\", line 1724, in precision_recall_fscore_support\n",
      "    labels = _check_set_wise_labels(y_true, y_pred, average, labels, pos_label)\n",
      "  File \"C:\\Users\\antho\\AppData\\Roaming\\Python\\Python39\\site-packages\\sklearn\\metrics\\_classification.py\", line 1518, in _check_set_wise_labels\n",
      "    raise ValueError(\n",
      "ValueError: Target is multiclass but average='binary'. Please choose another average setting, one of [None, 'micro', 'macro', 'weighted'].\n",
      "\n",
      "  warnings.warn(\n",
      "C:\\Users\\antho\\anaconda3\\lib\\site-packages\\xgboost\\core.py:158: UserWarning: [16:59:12] WARNING: C:\\buildkite-agent\\builds\\buildkite-windows-cpu-autoscaling-group-i-06abd128ca6c1688d-1\\xgboost\\xgboost-ci-windows\\src\\learner.cc:740: \n",
      "Parameters: { \"use_label_encoder\" } are not used.\n",
      "\n",
      "  warnings.warn(smsg, UserWarning)\n",
      "C:\\Users\\antho\\AppData\\Roaming\\Python\\Python39\\site-packages\\sklearn\\model_selection\\_validation.py:821: UserWarning: Scoring failed. The score on this train-test partition for these parameters will be set to nan. Details: \n",
      "Traceback (most recent call last):\n",
      "  File \"C:\\Users\\antho\\AppData\\Roaming\\Python\\Python39\\site-packages\\sklearn\\model_selection\\_validation.py\", line 810, in _score\n",
      "    scores = scorer(estimator, X_test, y_test)\n",
      "  File \"C:\\Users\\antho\\AppData\\Roaming\\Python\\Python39\\site-packages\\sklearn\\metrics\\_scorer.py\", line 266, in __call__\n",
      "    return self._score(partial(_cached_call, None), estimator, X, y_true, **_kwargs)\n",
      "  File \"C:\\Users\\antho\\AppData\\Roaming\\Python\\Python39\\site-packages\\sklearn\\metrics\\_scorer.py\", line 355, in _score\n",
      "    return self._sign * self._score_func(y_true, y_pred, **scoring_kwargs)\n",
      "  File \"C:\\Users\\antho\\AppData\\Roaming\\Python\\Python39\\site-packages\\sklearn\\utils\\_param_validation.py\", line 214, in wrapper\n",
      "    return func(*args, **kwargs)\n",
      "  File \"C:\\Users\\antho\\AppData\\Roaming\\Python\\Python39\\site-packages\\sklearn\\metrics\\_classification.py\", line 2304, in recall_score\n",
      "    _, r, _, _ = precision_recall_fscore_support(\n",
      "  File \"C:\\Users\\antho\\AppData\\Roaming\\Python\\Python39\\site-packages\\sklearn\\utils\\_param_validation.py\", line 187, in wrapper\n",
      "    return func(*args, **kwargs)\n",
      "  File \"C:\\Users\\antho\\AppData\\Roaming\\Python\\Python39\\site-packages\\sklearn\\metrics\\_classification.py\", line 1724, in precision_recall_fscore_support\n",
      "    labels = _check_set_wise_labels(y_true, y_pred, average, labels, pos_label)\n",
      "  File \"C:\\Users\\antho\\AppData\\Roaming\\Python\\Python39\\site-packages\\sklearn\\metrics\\_classification.py\", line 1518, in _check_set_wise_labels\n",
      "    raise ValueError(\n",
      "ValueError: Target is multiclass but average='binary'. Please choose another average setting, one of [None, 'micro', 'macro', 'weighted'].\n",
      "\n",
      "  warnings.warn(\n",
      "C:\\Users\\antho\\anaconda3\\lib\\site-packages\\xgboost\\core.py:158: UserWarning: [16:59:13] WARNING: C:\\buildkite-agent\\builds\\buildkite-windows-cpu-autoscaling-group-i-06abd128ca6c1688d-1\\xgboost\\xgboost-ci-windows\\src\\learner.cc:740: \n",
      "Parameters: { \"use_label_encoder\" } are not used.\n",
      "\n",
      "  warnings.warn(smsg, UserWarning)\n",
      "C:\\Users\\antho\\AppData\\Roaming\\Python\\Python39\\site-packages\\sklearn\\model_selection\\_validation.py:821: UserWarning: Scoring failed. The score on this train-test partition for these parameters will be set to nan. Details: \n",
      "Traceback (most recent call last):\n",
      "  File \"C:\\Users\\antho\\AppData\\Roaming\\Python\\Python39\\site-packages\\sklearn\\model_selection\\_validation.py\", line 810, in _score\n",
      "    scores = scorer(estimator, X_test, y_test)\n",
      "  File \"C:\\Users\\antho\\AppData\\Roaming\\Python\\Python39\\site-packages\\sklearn\\metrics\\_scorer.py\", line 266, in __call__\n",
      "    return self._score(partial(_cached_call, None), estimator, X, y_true, **_kwargs)\n",
      "  File \"C:\\Users\\antho\\AppData\\Roaming\\Python\\Python39\\site-packages\\sklearn\\metrics\\_scorer.py\", line 355, in _score\n",
      "    return self._sign * self._score_func(y_true, y_pred, **scoring_kwargs)\n",
      "  File \"C:\\Users\\antho\\AppData\\Roaming\\Python\\Python39\\site-packages\\sklearn\\utils\\_param_validation.py\", line 214, in wrapper\n",
      "    return func(*args, **kwargs)\n",
      "  File \"C:\\Users\\antho\\AppData\\Roaming\\Python\\Python39\\site-packages\\sklearn\\metrics\\_classification.py\", line 2304, in recall_score\n",
      "    _, r, _, _ = precision_recall_fscore_support(\n",
      "  File \"C:\\Users\\antho\\AppData\\Roaming\\Python\\Python39\\site-packages\\sklearn\\utils\\_param_validation.py\", line 187, in wrapper\n",
      "    return func(*args, **kwargs)\n",
      "  File \"C:\\Users\\antho\\AppData\\Roaming\\Python\\Python39\\site-packages\\sklearn\\metrics\\_classification.py\", line 1724, in precision_recall_fscore_support\n",
      "    labels = _check_set_wise_labels(y_true, y_pred, average, labels, pos_label)\n",
      "  File \"C:\\Users\\antho\\AppData\\Roaming\\Python\\Python39\\site-packages\\sklearn\\metrics\\_classification.py\", line 1518, in _check_set_wise_labels\n",
      "    raise ValueError(\n",
      "ValueError: Target is multiclass but average='binary'. Please choose another average setting, one of [None, 'micro', 'macro', 'weighted'].\n",
      "\n",
      "  warnings.warn(\n",
      "C:\\Users\\antho\\anaconda3\\lib\\site-packages\\xgboost\\core.py:158: UserWarning: [16:59:13] WARNING: C:\\buildkite-agent\\builds\\buildkite-windows-cpu-autoscaling-group-i-06abd128ca6c1688d-1\\xgboost\\xgboost-ci-windows\\src\\learner.cc:740: \n",
      "Parameters: { \"use_label_encoder\" } are not used.\n",
      "\n",
      "  warnings.warn(smsg, UserWarning)\n",
      "C:\\Users\\antho\\AppData\\Roaming\\Python\\Python39\\site-packages\\sklearn\\model_selection\\_validation.py:821: UserWarning: Scoring failed. The score on this train-test partition for these parameters will be set to nan. Details: \n",
      "Traceback (most recent call last):\n",
      "  File \"C:\\Users\\antho\\AppData\\Roaming\\Python\\Python39\\site-packages\\sklearn\\model_selection\\_validation.py\", line 810, in _score\n",
      "    scores = scorer(estimator, X_test, y_test)\n",
      "  File \"C:\\Users\\antho\\AppData\\Roaming\\Python\\Python39\\site-packages\\sklearn\\metrics\\_scorer.py\", line 266, in __call__\n",
      "    return self._score(partial(_cached_call, None), estimator, X, y_true, **_kwargs)\n",
      "  File \"C:\\Users\\antho\\AppData\\Roaming\\Python\\Python39\\site-packages\\sklearn\\metrics\\_scorer.py\", line 355, in _score\n",
      "    return self._sign * self._score_func(y_true, y_pred, **scoring_kwargs)\n",
      "  File \"C:\\Users\\antho\\AppData\\Roaming\\Python\\Python39\\site-packages\\sklearn\\utils\\_param_validation.py\", line 214, in wrapper\n",
      "    return func(*args, **kwargs)\n",
      "  File \"C:\\Users\\antho\\AppData\\Roaming\\Python\\Python39\\site-packages\\sklearn\\metrics\\_classification.py\", line 2304, in recall_score\n",
      "    _, r, _, _ = precision_recall_fscore_support(\n",
      "  File \"C:\\Users\\antho\\AppData\\Roaming\\Python\\Python39\\site-packages\\sklearn\\utils\\_param_validation.py\", line 187, in wrapper\n",
      "    return func(*args, **kwargs)\n",
      "  File \"C:\\Users\\antho\\AppData\\Roaming\\Python\\Python39\\site-packages\\sklearn\\metrics\\_classification.py\", line 1724, in precision_recall_fscore_support\n",
      "    labels = _check_set_wise_labels(y_true, y_pred, average, labels, pos_label)\n",
      "  File \"C:\\Users\\antho\\AppData\\Roaming\\Python\\Python39\\site-packages\\sklearn\\metrics\\_classification.py\", line 1518, in _check_set_wise_labels\n",
      "    raise ValueError(\n",
      "ValueError: Target is multiclass but average='binary'. Please choose another average setting, one of [None, 'micro', 'macro', 'weighted'].\n",
      "\n",
      "  warnings.warn(\n"
     ]
    },
    {
     "name": "stderr",
     "output_type": "stream",
     "text": [
      "C:\\Users\\antho\\anaconda3\\lib\\site-packages\\xgboost\\core.py:158: UserWarning: [16:59:13] WARNING: C:\\buildkite-agent\\builds\\buildkite-windows-cpu-autoscaling-group-i-06abd128ca6c1688d-1\\xgboost\\xgboost-ci-windows\\src\\learner.cc:740: \n",
      "Parameters: { \"use_label_encoder\" } are not used.\n",
      "\n",
      "  warnings.warn(smsg, UserWarning)\n",
      "C:\\Users\\antho\\AppData\\Roaming\\Python\\Python39\\site-packages\\sklearn\\model_selection\\_validation.py:821: UserWarning: Scoring failed. The score on this train-test partition for these parameters will be set to nan. Details: \n",
      "Traceback (most recent call last):\n",
      "  File \"C:\\Users\\antho\\AppData\\Roaming\\Python\\Python39\\site-packages\\sklearn\\model_selection\\_validation.py\", line 810, in _score\n",
      "    scores = scorer(estimator, X_test, y_test)\n",
      "  File \"C:\\Users\\antho\\AppData\\Roaming\\Python\\Python39\\site-packages\\sklearn\\metrics\\_scorer.py\", line 266, in __call__\n",
      "    return self._score(partial(_cached_call, None), estimator, X, y_true, **_kwargs)\n",
      "  File \"C:\\Users\\antho\\AppData\\Roaming\\Python\\Python39\\site-packages\\sklearn\\metrics\\_scorer.py\", line 355, in _score\n",
      "    return self._sign * self._score_func(y_true, y_pred, **scoring_kwargs)\n",
      "  File \"C:\\Users\\antho\\AppData\\Roaming\\Python\\Python39\\site-packages\\sklearn\\utils\\_param_validation.py\", line 214, in wrapper\n",
      "    return func(*args, **kwargs)\n",
      "  File \"C:\\Users\\antho\\AppData\\Roaming\\Python\\Python39\\site-packages\\sklearn\\metrics\\_classification.py\", line 2304, in recall_score\n",
      "    _, r, _, _ = precision_recall_fscore_support(\n",
      "  File \"C:\\Users\\antho\\AppData\\Roaming\\Python\\Python39\\site-packages\\sklearn\\utils\\_param_validation.py\", line 187, in wrapper\n",
      "    return func(*args, **kwargs)\n",
      "  File \"C:\\Users\\antho\\AppData\\Roaming\\Python\\Python39\\site-packages\\sklearn\\metrics\\_classification.py\", line 1724, in precision_recall_fscore_support\n",
      "    labels = _check_set_wise_labels(y_true, y_pred, average, labels, pos_label)\n",
      "  File \"C:\\Users\\antho\\AppData\\Roaming\\Python\\Python39\\site-packages\\sklearn\\metrics\\_classification.py\", line 1518, in _check_set_wise_labels\n",
      "    raise ValueError(\n",
      "ValueError: Target is multiclass but average='binary'. Please choose another average setting, one of [None, 'micro', 'macro', 'weighted'].\n",
      "\n",
      "  warnings.warn(\n",
      "C:\\Users\\antho\\anaconda3\\lib\\site-packages\\xgboost\\core.py:158: UserWarning: [16:59:13] WARNING: C:\\buildkite-agent\\builds\\buildkite-windows-cpu-autoscaling-group-i-06abd128ca6c1688d-1\\xgboost\\xgboost-ci-windows\\src\\learner.cc:740: \n",
      "Parameters: { \"use_label_encoder\" } are not used.\n",
      "\n",
      "  warnings.warn(smsg, UserWarning)\n",
      "C:\\Users\\antho\\AppData\\Roaming\\Python\\Python39\\site-packages\\sklearn\\model_selection\\_validation.py:821: UserWarning: Scoring failed. The score on this train-test partition for these parameters will be set to nan. Details: \n",
      "Traceback (most recent call last):\n",
      "  File \"C:\\Users\\antho\\AppData\\Roaming\\Python\\Python39\\site-packages\\sklearn\\model_selection\\_validation.py\", line 810, in _score\n",
      "    scores = scorer(estimator, X_test, y_test)\n",
      "  File \"C:\\Users\\antho\\AppData\\Roaming\\Python\\Python39\\site-packages\\sklearn\\metrics\\_scorer.py\", line 266, in __call__\n",
      "    return self._score(partial(_cached_call, None), estimator, X, y_true, **_kwargs)\n",
      "  File \"C:\\Users\\antho\\AppData\\Roaming\\Python\\Python39\\site-packages\\sklearn\\metrics\\_scorer.py\", line 355, in _score\n",
      "    return self._sign * self._score_func(y_true, y_pred, **scoring_kwargs)\n",
      "  File \"C:\\Users\\antho\\AppData\\Roaming\\Python\\Python39\\site-packages\\sklearn\\utils\\_param_validation.py\", line 214, in wrapper\n",
      "    return func(*args, **kwargs)\n",
      "  File \"C:\\Users\\antho\\AppData\\Roaming\\Python\\Python39\\site-packages\\sklearn\\metrics\\_classification.py\", line 2304, in recall_score\n",
      "    _, r, _, _ = precision_recall_fscore_support(\n",
      "  File \"C:\\Users\\antho\\AppData\\Roaming\\Python\\Python39\\site-packages\\sklearn\\utils\\_param_validation.py\", line 187, in wrapper\n",
      "    return func(*args, **kwargs)\n",
      "  File \"C:\\Users\\antho\\AppData\\Roaming\\Python\\Python39\\site-packages\\sklearn\\metrics\\_classification.py\", line 1724, in precision_recall_fscore_support\n",
      "    labels = _check_set_wise_labels(y_true, y_pred, average, labels, pos_label)\n",
      "  File \"C:\\Users\\antho\\AppData\\Roaming\\Python\\Python39\\site-packages\\sklearn\\metrics\\_classification.py\", line 1518, in _check_set_wise_labels\n",
      "    raise ValueError(\n",
      "ValueError: Target is multiclass but average='binary'. Please choose another average setting, one of [None, 'micro', 'macro', 'weighted'].\n",
      "\n",
      "  warnings.warn(\n",
      "C:\\Users\\antho\\anaconda3\\lib\\site-packages\\xgboost\\core.py:158: UserWarning: [16:59:13] WARNING: C:\\buildkite-agent\\builds\\buildkite-windows-cpu-autoscaling-group-i-06abd128ca6c1688d-1\\xgboost\\xgboost-ci-windows\\src\\learner.cc:740: \n",
      "Parameters: { \"use_label_encoder\" } are not used.\n",
      "\n",
      "  warnings.warn(smsg, UserWarning)\n",
      "C:\\Users\\antho\\AppData\\Roaming\\Python\\Python39\\site-packages\\sklearn\\model_selection\\_validation.py:821: UserWarning: Scoring failed. The score on this train-test partition for these parameters will be set to nan. Details: \n",
      "Traceback (most recent call last):\n",
      "  File \"C:\\Users\\antho\\AppData\\Roaming\\Python\\Python39\\site-packages\\sklearn\\model_selection\\_validation.py\", line 810, in _score\n",
      "    scores = scorer(estimator, X_test, y_test)\n",
      "  File \"C:\\Users\\antho\\AppData\\Roaming\\Python\\Python39\\site-packages\\sklearn\\metrics\\_scorer.py\", line 266, in __call__\n",
      "    return self._score(partial(_cached_call, None), estimator, X, y_true, **_kwargs)\n",
      "  File \"C:\\Users\\antho\\AppData\\Roaming\\Python\\Python39\\site-packages\\sklearn\\metrics\\_scorer.py\", line 355, in _score\n",
      "    return self._sign * self._score_func(y_true, y_pred, **scoring_kwargs)\n",
      "  File \"C:\\Users\\antho\\AppData\\Roaming\\Python\\Python39\\site-packages\\sklearn\\utils\\_param_validation.py\", line 214, in wrapper\n",
      "    return func(*args, **kwargs)\n",
      "  File \"C:\\Users\\antho\\AppData\\Roaming\\Python\\Python39\\site-packages\\sklearn\\metrics\\_classification.py\", line 2304, in recall_score\n",
      "    _, r, _, _ = precision_recall_fscore_support(\n",
      "  File \"C:\\Users\\antho\\AppData\\Roaming\\Python\\Python39\\site-packages\\sklearn\\utils\\_param_validation.py\", line 187, in wrapper\n",
      "    return func(*args, **kwargs)\n",
      "  File \"C:\\Users\\antho\\AppData\\Roaming\\Python\\Python39\\site-packages\\sklearn\\metrics\\_classification.py\", line 1724, in precision_recall_fscore_support\n",
      "    labels = _check_set_wise_labels(y_true, y_pred, average, labels, pos_label)\n",
      "  File \"C:\\Users\\antho\\AppData\\Roaming\\Python\\Python39\\site-packages\\sklearn\\metrics\\_classification.py\", line 1518, in _check_set_wise_labels\n",
      "    raise ValueError(\n",
      "ValueError: Target is multiclass but average='binary'. Please choose another average setting, one of [None, 'micro', 'macro', 'weighted'].\n",
      "\n",
      "  warnings.warn(\n",
      "C:\\Users\\antho\\anaconda3\\lib\\site-packages\\xgboost\\core.py:158: UserWarning: [16:59:14] WARNING: C:\\buildkite-agent\\builds\\buildkite-windows-cpu-autoscaling-group-i-06abd128ca6c1688d-1\\xgboost\\xgboost-ci-windows\\src\\learner.cc:740: \n",
      "Parameters: { \"use_label_encoder\" } are not used.\n",
      "\n",
      "  warnings.warn(smsg, UserWarning)\n",
      "C:\\Users\\antho\\AppData\\Roaming\\Python\\Python39\\site-packages\\sklearn\\model_selection\\_validation.py:821: UserWarning: Scoring failed. The score on this train-test partition for these parameters will be set to nan. Details: \n",
      "Traceback (most recent call last):\n",
      "  File \"C:\\Users\\antho\\AppData\\Roaming\\Python\\Python39\\site-packages\\sklearn\\model_selection\\_validation.py\", line 810, in _score\n",
      "    scores = scorer(estimator, X_test, y_test)\n",
      "  File \"C:\\Users\\antho\\AppData\\Roaming\\Python\\Python39\\site-packages\\sklearn\\metrics\\_scorer.py\", line 266, in __call__\n",
      "    return self._score(partial(_cached_call, None), estimator, X, y_true, **_kwargs)\n",
      "  File \"C:\\Users\\antho\\AppData\\Roaming\\Python\\Python39\\site-packages\\sklearn\\metrics\\_scorer.py\", line 355, in _score\n",
      "    return self._sign * self._score_func(y_true, y_pred, **scoring_kwargs)\n",
      "  File \"C:\\Users\\antho\\AppData\\Roaming\\Python\\Python39\\site-packages\\sklearn\\utils\\_param_validation.py\", line 214, in wrapper\n",
      "    return func(*args, **kwargs)\n",
      "  File \"C:\\Users\\antho\\AppData\\Roaming\\Python\\Python39\\site-packages\\sklearn\\metrics\\_classification.py\", line 2304, in recall_score\n",
      "    _, r, _, _ = precision_recall_fscore_support(\n",
      "  File \"C:\\Users\\antho\\AppData\\Roaming\\Python\\Python39\\site-packages\\sklearn\\utils\\_param_validation.py\", line 187, in wrapper\n",
      "    return func(*args, **kwargs)\n",
      "  File \"C:\\Users\\antho\\AppData\\Roaming\\Python\\Python39\\site-packages\\sklearn\\metrics\\_classification.py\", line 1724, in precision_recall_fscore_support\n",
      "    labels = _check_set_wise_labels(y_true, y_pred, average, labels, pos_label)\n",
      "  File \"C:\\Users\\antho\\AppData\\Roaming\\Python\\Python39\\site-packages\\sklearn\\metrics\\_classification.py\", line 1518, in _check_set_wise_labels\n",
      "    raise ValueError(\n",
      "ValueError: Target is multiclass but average='binary'. Please choose another average setting, one of [None, 'micro', 'macro', 'weighted'].\n",
      "\n",
      "  warnings.warn(\n"
     ]
    },
    {
     "name": "stderr",
     "output_type": "stream",
     "text": [
      "C:\\Users\\antho\\anaconda3\\lib\\site-packages\\xgboost\\core.py:158: UserWarning: [16:59:14] WARNING: C:\\buildkite-agent\\builds\\buildkite-windows-cpu-autoscaling-group-i-06abd128ca6c1688d-1\\xgboost\\xgboost-ci-windows\\src\\learner.cc:740: \n",
      "Parameters: { \"use_label_encoder\" } are not used.\n",
      "\n",
      "  warnings.warn(smsg, UserWarning)\n",
      "C:\\Users\\antho\\AppData\\Roaming\\Python\\Python39\\site-packages\\sklearn\\model_selection\\_validation.py:821: UserWarning: Scoring failed. The score on this train-test partition for these parameters will be set to nan. Details: \n",
      "Traceback (most recent call last):\n",
      "  File \"C:\\Users\\antho\\AppData\\Roaming\\Python\\Python39\\site-packages\\sklearn\\model_selection\\_validation.py\", line 810, in _score\n",
      "    scores = scorer(estimator, X_test, y_test)\n",
      "  File \"C:\\Users\\antho\\AppData\\Roaming\\Python\\Python39\\site-packages\\sklearn\\metrics\\_scorer.py\", line 266, in __call__\n",
      "    return self._score(partial(_cached_call, None), estimator, X, y_true, **_kwargs)\n",
      "  File \"C:\\Users\\antho\\AppData\\Roaming\\Python\\Python39\\site-packages\\sklearn\\metrics\\_scorer.py\", line 355, in _score\n",
      "    return self._sign * self._score_func(y_true, y_pred, **scoring_kwargs)\n",
      "  File \"C:\\Users\\antho\\AppData\\Roaming\\Python\\Python39\\site-packages\\sklearn\\utils\\_param_validation.py\", line 214, in wrapper\n",
      "    return func(*args, **kwargs)\n",
      "  File \"C:\\Users\\antho\\AppData\\Roaming\\Python\\Python39\\site-packages\\sklearn\\metrics\\_classification.py\", line 2304, in recall_score\n",
      "    _, r, _, _ = precision_recall_fscore_support(\n",
      "  File \"C:\\Users\\antho\\AppData\\Roaming\\Python\\Python39\\site-packages\\sklearn\\utils\\_param_validation.py\", line 187, in wrapper\n",
      "    return func(*args, **kwargs)\n",
      "  File \"C:\\Users\\antho\\AppData\\Roaming\\Python\\Python39\\site-packages\\sklearn\\metrics\\_classification.py\", line 1724, in precision_recall_fscore_support\n",
      "    labels = _check_set_wise_labels(y_true, y_pred, average, labels, pos_label)\n",
      "  File \"C:\\Users\\antho\\AppData\\Roaming\\Python\\Python39\\site-packages\\sklearn\\metrics\\_classification.py\", line 1518, in _check_set_wise_labels\n",
      "    raise ValueError(\n",
      "ValueError: Target is multiclass but average='binary'. Please choose another average setting, one of [None, 'micro', 'macro', 'weighted'].\n",
      "\n",
      "  warnings.warn(\n",
      "C:\\Users\\antho\\anaconda3\\lib\\site-packages\\xgboost\\core.py:158: UserWarning: [16:59:14] WARNING: C:\\buildkite-agent\\builds\\buildkite-windows-cpu-autoscaling-group-i-06abd128ca6c1688d-1\\xgboost\\xgboost-ci-windows\\src\\learner.cc:740: \n",
      "Parameters: { \"use_label_encoder\" } are not used.\n",
      "\n",
      "  warnings.warn(smsg, UserWarning)\n",
      "C:\\Users\\antho\\AppData\\Roaming\\Python\\Python39\\site-packages\\sklearn\\model_selection\\_validation.py:821: UserWarning: Scoring failed. The score on this train-test partition for these parameters will be set to nan. Details: \n",
      "Traceback (most recent call last):\n",
      "  File \"C:\\Users\\antho\\AppData\\Roaming\\Python\\Python39\\site-packages\\sklearn\\model_selection\\_validation.py\", line 810, in _score\n",
      "    scores = scorer(estimator, X_test, y_test)\n",
      "  File \"C:\\Users\\antho\\AppData\\Roaming\\Python\\Python39\\site-packages\\sklearn\\metrics\\_scorer.py\", line 266, in __call__\n",
      "    return self._score(partial(_cached_call, None), estimator, X, y_true, **_kwargs)\n",
      "  File \"C:\\Users\\antho\\AppData\\Roaming\\Python\\Python39\\site-packages\\sklearn\\metrics\\_scorer.py\", line 355, in _score\n",
      "    return self._sign * self._score_func(y_true, y_pred, **scoring_kwargs)\n",
      "  File \"C:\\Users\\antho\\AppData\\Roaming\\Python\\Python39\\site-packages\\sklearn\\utils\\_param_validation.py\", line 214, in wrapper\n",
      "    return func(*args, **kwargs)\n",
      "  File \"C:\\Users\\antho\\AppData\\Roaming\\Python\\Python39\\site-packages\\sklearn\\metrics\\_classification.py\", line 2304, in recall_score\n",
      "    _, r, _, _ = precision_recall_fscore_support(\n",
      "  File \"C:\\Users\\antho\\AppData\\Roaming\\Python\\Python39\\site-packages\\sklearn\\utils\\_param_validation.py\", line 187, in wrapper\n",
      "    return func(*args, **kwargs)\n",
      "  File \"C:\\Users\\antho\\AppData\\Roaming\\Python\\Python39\\site-packages\\sklearn\\metrics\\_classification.py\", line 1724, in precision_recall_fscore_support\n",
      "    labels = _check_set_wise_labels(y_true, y_pred, average, labels, pos_label)\n",
      "  File \"C:\\Users\\antho\\AppData\\Roaming\\Python\\Python39\\site-packages\\sklearn\\metrics\\_classification.py\", line 1518, in _check_set_wise_labels\n",
      "    raise ValueError(\n",
      "ValueError: Target is multiclass but average='binary'. Please choose another average setting, one of [None, 'micro', 'macro', 'weighted'].\n",
      "\n",
      "  warnings.warn(\n",
      "C:\\Users\\antho\\anaconda3\\lib\\site-packages\\xgboost\\core.py:158: UserWarning: [16:59:14] WARNING: C:\\buildkite-agent\\builds\\buildkite-windows-cpu-autoscaling-group-i-06abd128ca6c1688d-1\\xgboost\\xgboost-ci-windows\\src\\learner.cc:740: \n",
      "Parameters: { \"use_label_encoder\" } are not used.\n",
      "\n",
      "  warnings.warn(smsg, UserWarning)\n",
      "C:\\Users\\antho\\AppData\\Roaming\\Python\\Python39\\site-packages\\sklearn\\model_selection\\_validation.py:821: UserWarning: Scoring failed. The score on this train-test partition for these parameters will be set to nan. Details: \n",
      "Traceback (most recent call last):\n",
      "  File \"C:\\Users\\antho\\AppData\\Roaming\\Python\\Python39\\site-packages\\sklearn\\model_selection\\_validation.py\", line 810, in _score\n",
      "    scores = scorer(estimator, X_test, y_test)\n",
      "  File \"C:\\Users\\antho\\AppData\\Roaming\\Python\\Python39\\site-packages\\sklearn\\metrics\\_scorer.py\", line 266, in __call__\n",
      "    return self._score(partial(_cached_call, None), estimator, X, y_true, **_kwargs)\n",
      "  File \"C:\\Users\\antho\\AppData\\Roaming\\Python\\Python39\\site-packages\\sklearn\\metrics\\_scorer.py\", line 355, in _score\n",
      "    return self._sign * self._score_func(y_true, y_pred, **scoring_kwargs)\n",
      "  File \"C:\\Users\\antho\\AppData\\Roaming\\Python\\Python39\\site-packages\\sklearn\\utils\\_param_validation.py\", line 214, in wrapper\n",
      "    return func(*args, **kwargs)\n",
      "  File \"C:\\Users\\antho\\AppData\\Roaming\\Python\\Python39\\site-packages\\sklearn\\metrics\\_classification.py\", line 2304, in recall_score\n",
      "    _, r, _, _ = precision_recall_fscore_support(\n",
      "  File \"C:\\Users\\antho\\AppData\\Roaming\\Python\\Python39\\site-packages\\sklearn\\utils\\_param_validation.py\", line 187, in wrapper\n",
      "    return func(*args, **kwargs)\n",
      "  File \"C:\\Users\\antho\\AppData\\Roaming\\Python\\Python39\\site-packages\\sklearn\\metrics\\_classification.py\", line 1724, in precision_recall_fscore_support\n",
      "    labels = _check_set_wise_labels(y_true, y_pred, average, labels, pos_label)\n",
      "  File \"C:\\Users\\antho\\AppData\\Roaming\\Python\\Python39\\site-packages\\sklearn\\metrics\\_classification.py\", line 1518, in _check_set_wise_labels\n",
      "    raise ValueError(\n",
      "ValueError: Target is multiclass but average='binary'. Please choose another average setting, one of [None, 'micro', 'macro', 'weighted'].\n",
      "\n",
      "  warnings.warn(\n",
      "C:\\Users\\antho\\anaconda3\\lib\\site-packages\\xgboost\\core.py:158: UserWarning: [16:59:14] WARNING: C:\\buildkite-agent\\builds\\buildkite-windows-cpu-autoscaling-group-i-06abd128ca6c1688d-1\\xgboost\\xgboost-ci-windows\\src\\learner.cc:740: \n",
      "Parameters: { \"use_label_encoder\" } are not used.\n",
      "\n",
      "  warnings.warn(smsg, UserWarning)\n",
      "C:\\Users\\antho\\AppData\\Roaming\\Python\\Python39\\site-packages\\sklearn\\model_selection\\_validation.py:821: UserWarning: Scoring failed. The score on this train-test partition for these parameters will be set to nan. Details: \n",
      "Traceback (most recent call last):\n",
      "  File \"C:\\Users\\antho\\AppData\\Roaming\\Python\\Python39\\site-packages\\sklearn\\model_selection\\_validation.py\", line 810, in _score\n",
      "    scores = scorer(estimator, X_test, y_test)\n",
      "  File \"C:\\Users\\antho\\AppData\\Roaming\\Python\\Python39\\site-packages\\sklearn\\metrics\\_scorer.py\", line 266, in __call__\n",
      "    return self._score(partial(_cached_call, None), estimator, X, y_true, **_kwargs)\n",
      "  File \"C:\\Users\\antho\\AppData\\Roaming\\Python\\Python39\\site-packages\\sklearn\\metrics\\_scorer.py\", line 355, in _score\n",
      "    return self._sign * self._score_func(y_true, y_pred, **scoring_kwargs)\n",
      "  File \"C:\\Users\\antho\\AppData\\Roaming\\Python\\Python39\\site-packages\\sklearn\\utils\\_param_validation.py\", line 214, in wrapper\n",
      "    return func(*args, **kwargs)\n",
      "  File \"C:\\Users\\antho\\AppData\\Roaming\\Python\\Python39\\site-packages\\sklearn\\metrics\\_classification.py\", line 2304, in recall_score\n",
      "    _, r, _, _ = precision_recall_fscore_support(\n",
      "  File \"C:\\Users\\antho\\AppData\\Roaming\\Python\\Python39\\site-packages\\sklearn\\utils\\_param_validation.py\", line 187, in wrapper\n",
      "    return func(*args, **kwargs)\n",
      "  File \"C:\\Users\\antho\\AppData\\Roaming\\Python\\Python39\\site-packages\\sklearn\\metrics\\_classification.py\", line 1724, in precision_recall_fscore_support\n",
      "    labels = _check_set_wise_labels(y_true, y_pred, average, labels, pos_label)\n",
      "  File \"C:\\Users\\antho\\AppData\\Roaming\\Python\\Python39\\site-packages\\sklearn\\metrics\\_classification.py\", line 1518, in _check_set_wise_labels\n",
      "    raise ValueError(\n",
      "ValueError: Target is multiclass but average='binary'. Please choose another average setting, one of [None, 'micro', 'macro', 'weighted'].\n",
      "\n",
      "  warnings.warn(\n",
      "C:\\Users\\antho\\anaconda3\\lib\\site-packages\\xgboost\\core.py:158: UserWarning: [16:59:14] WARNING: C:\\buildkite-agent\\builds\\buildkite-windows-cpu-autoscaling-group-i-06abd128ca6c1688d-1\\xgboost\\xgboost-ci-windows\\src\\learner.cc:740: \n",
      "Parameters: { \"use_label_encoder\" } are not used.\n",
      "\n",
      "  warnings.warn(smsg, UserWarning)\n",
      "C:\\Users\\antho\\AppData\\Roaming\\Python\\Python39\\site-packages\\sklearn\\model_selection\\_validation.py:821: UserWarning: Scoring failed. The score on this train-test partition for these parameters will be set to nan. Details: \n",
      "Traceback (most recent call last):\n",
      "  File \"C:\\Users\\antho\\AppData\\Roaming\\Python\\Python39\\site-packages\\sklearn\\model_selection\\_validation.py\", line 810, in _score\n",
      "    scores = scorer(estimator, X_test, y_test)\n",
      "  File \"C:\\Users\\antho\\AppData\\Roaming\\Python\\Python39\\site-packages\\sklearn\\metrics\\_scorer.py\", line 266, in __call__\n",
      "    return self._score(partial(_cached_call, None), estimator, X, y_true, **_kwargs)\n",
      "  File \"C:\\Users\\antho\\AppData\\Roaming\\Python\\Python39\\site-packages\\sklearn\\metrics\\_scorer.py\", line 355, in _score\n",
      "    return self._sign * self._score_func(y_true, y_pred, **scoring_kwargs)\n",
      "  File \"C:\\Users\\antho\\AppData\\Roaming\\Python\\Python39\\site-packages\\sklearn\\utils\\_param_validation.py\", line 214, in wrapper\n",
      "    return func(*args, **kwargs)\n",
      "  File \"C:\\Users\\antho\\AppData\\Roaming\\Python\\Python39\\site-packages\\sklearn\\metrics\\_classification.py\", line 2304, in recall_score\n",
      "    _, r, _, _ = precision_recall_fscore_support(\n",
      "  File \"C:\\Users\\antho\\AppData\\Roaming\\Python\\Python39\\site-packages\\sklearn\\utils\\_param_validation.py\", line 187, in wrapper\n",
      "    return func(*args, **kwargs)\n",
      "  File \"C:\\Users\\antho\\AppData\\Roaming\\Python\\Python39\\site-packages\\sklearn\\metrics\\_classification.py\", line 1724, in precision_recall_fscore_support\n",
      "    labels = _check_set_wise_labels(y_true, y_pred, average, labels, pos_label)\n",
      "  File \"C:\\Users\\antho\\AppData\\Roaming\\Python\\Python39\\site-packages\\sklearn\\metrics\\_classification.py\", line 1518, in _check_set_wise_labels\n",
      "    raise ValueError(\n",
      "ValueError: Target is multiclass but average='binary'. Please choose another average setting, one of [None, 'micro', 'macro', 'weighted'].\n",
      "\n",
      "  warnings.warn(\n"
     ]
    },
    {
     "name": "stderr",
     "output_type": "stream",
     "text": [
      "C:\\Users\\antho\\anaconda3\\lib\\site-packages\\xgboost\\core.py:158: UserWarning: [16:59:14] WARNING: C:\\buildkite-agent\\builds\\buildkite-windows-cpu-autoscaling-group-i-06abd128ca6c1688d-1\\xgboost\\xgboost-ci-windows\\src\\learner.cc:740: \n",
      "Parameters: { \"use_label_encoder\" } are not used.\n",
      "\n",
      "  warnings.warn(smsg, UserWarning)\n",
      "C:\\Users\\antho\\AppData\\Roaming\\Python\\Python39\\site-packages\\sklearn\\model_selection\\_validation.py:821: UserWarning: Scoring failed. The score on this train-test partition for these parameters will be set to nan. Details: \n",
      "Traceback (most recent call last):\n",
      "  File \"C:\\Users\\antho\\AppData\\Roaming\\Python\\Python39\\site-packages\\sklearn\\model_selection\\_validation.py\", line 810, in _score\n",
      "    scores = scorer(estimator, X_test, y_test)\n",
      "  File \"C:\\Users\\antho\\AppData\\Roaming\\Python\\Python39\\site-packages\\sklearn\\metrics\\_scorer.py\", line 266, in __call__\n",
      "    return self._score(partial(_cached_call, None), estimator, X, y_true, **_kwargs)\n",
      "  File \"C:\\Users\\antho\\AppData\\Roaming\\Python\\Python39\\site-packages\\sklearn\\metrics\\_scorer.py\", line 355, in _score\n",
      "    return self._sign * self._score_func(y_true, y_pred, **scoring_kwargs)\n",
      "  File \"C:\\Users\\antho\\AppData\\Roaming\\Python\\Python39\\site-packages\\sklearn\\utils\\_param_validation.py\", line 214, in wrapper\n",
      "    return func(*args, **kwargs)\n",
      "  File \"C:\\Users\\antho\\AppData\\Roaming\\Python\\Python39\\site-packages\\sklearn\\metrics\\_classification.py\", line 2304, in recall_score\n",
      "    _, r, _, _ = precision_recall_fscore_support(\n",
      "  File \"C:\\Users\\antho\\AppData\\Roaming\\Python\\Python39\\site-packages\\sklearn\\utils\\_param_validation.py\", line 187, in wrapper\n",
      "    return func(*args, **kwargs)\n",
      "  File \"C:\\Users\\antho\\AppData\\Roaming\\Python\\Python39\\site-packages\\sklearn\\metrics\\_classification.py\", line 1724, in precision_recall_fscore_support\n",
      "    labels = _check_set_wise_labels(y_true, y_pred, average, labels, pos_label)\n",
      "  File \"C:\\Users\\antho\\AppData\\Roaming\\Python\\Python39\\site-packages\\sklearn\\metrics\\_classification.py\", line 1518, in _check_set_wise_labels\n",
      "    raise ValueError(\n",
      "ValueError: Target is multiclass but average='binary'. Please choose another average setting, one of [None, 'micro', 'macro', 'weighted'].\n",
      "\n",
      "  warnings.warn(\n",
      "C:\\Users\\antho\\anaconda3\\lib\\site-packages\\xgboost\\core.py:158: UserWarning: [16:59:14] WARNING: C:\\buildkite-agent\\builds\\buildkite-windows-cpu-autoscaling-group-i-06abd128ca6c1688d-1\\xgboost\\xgboost-ci-windows\\src\\learner.cc:740: \n",
      "Parameters: { \"use_label_encoder\" } are not used.\n",
      "\n",
      "  warnings.warn(smsg, UserWarning)\n",
      "C:\\Users\\antho\\AppData\\Roaming\\Python\\Python39\\site-packages\\sklearn\\model_selection\\_validation.py:821: UserWarning: Scoring failed. The score on this train-test partition for these parameters will be set to nan. Details: \n",
      "Traceback (most recent call last):\n",
      "  File \"C:\\Users\\antho\\AppData\\Roaming\\Python\\Python39\\site-packages\\sklearn\\model_selection\\_validation.py\", line 810, in _score\n",
      "    scores = scorer(estimator, X_test, y_test)\n",
      "  File \"C:\\Users\\antho\\AppData\\Roaming\\Python\\Python39\\site-packages\\sklearn\\metrics\\_scorer.py\", line 266, in __call__\n",
      "    return self._score(partial(_cached_call, None), estimator, X, y_true, **_kwargs)\n",
      "  File \"C:\\Users\\antho\\AppData\\Roaming\\Python\\Python39\\site-packages\\sklearn\\metrics\\_scorer.py\", line 355, in _score\n",
      "    return self._sign * self._score_func(y_true, y_pred, **scoring_kwargs)\n",
      "  File \"C:\\Users\\antho\\AppData\\Roaming\\Python\\Python39\\site-packages\\sklearn\\utils\\_param_validation.py\", line 214, in wrapper\n",
      "    return func(*args, **kwargs)\n",
      "  File \"C:\\Users\\antho\\AppData\\Roaming\\Python\\Python39\\site-packages\\sklearn\\metrics\\_classification.py\", line 2304, in recall_score\n",
      "    _, r, _, _ = precision_recall_fscore_support(\n",
      "  File \"C:\\Users\\antho\\AppData\\Roaming\\Python\\Python39\\site-packages\\sklearn\\utils\\_param_validation.py\", line 187, in wrapper\n",
      "    return func(*args, **kwargs)\n",
      "  File \"C:\\Users\\antho\\AppData\\Roaming\\Python\\Python39\\site-packages\\sklearn\\metrics\\_classification.py\", line 1724, in precision_recall_fscore_support\n",
      "    labels = _check_set_wise_labels(y_true, y_pred, average, labels, pos_label)\n",
      "  File \"C:\\Users\\antho\\AppData\\Roaming\\Python\\Python39\\site-packages\\sklearn\\metrics\\_classification.py\", line 1518, in _check_set_wise_labels\n",
      "    raise ValueError(\n",
      "ValueError: Target is multiclass but average='binary'. Please choose another average setting, one of [None, 'micro', 'macro', 'weighted'].\n",
      "\n",
      "  warnings.warn(\n",
      "C:\\Users\\antho\\anaconda3\\lib\\site-packages\\xgboost\\core.py:158: UserWarning: [16:59:15] WARNING: C:\\buildkite-agent\\builds\\buildkite-windows-cpu-autoscaling-group-i-06abd128ca6c1688d-1\\xgboost\\xgboost-ci-windows\\src\\learner.cc:740: \n",
      "Parameters: { \"use_label_encoder\" } are not used.\n",
      "\n",
      "  warnings.warn(smsg, UserWarning)\n",
      "C:\\Users\\antho\\AppData\\Roaming\\Python\\Python39\\site-packages\\sklearn\\model_selection\\_validation.py:821: UserWarning: Scoring failed. The score on this train-test partition for these parameters will be set to nan. Details: \n",
      "Traceback (most recent call last):\n",
      "  File \"C:\\Users\\antho\\AppData\\Roaming\\Python\\Python39\\site-packages\\sklearn\\model_selection\\_validation.py\", line 810, in _score\n",
      "    scores = scorer(estimator, X_test, y_test)\n",
      "  File \"C:\\Users\\antho\\AppData\\Roaming\\Python\\Python39\\site-packages\\sklearn\\metrics\\_scorer.py\", line 266, in __call__\n",
      "    return self._score(partial(_cached_call, None), estimator, X, y_true, **_kwargs)\n",
      "  File \"C:\\Users\\antho\\AppData\\Roaming\\Python\\Python39\\site-packages\\sklearn\\metrics\\_scorer.py\", line 355, in _score\n",
      "    return self._sign * self._score_func(y_true, y_pred, **scoring_kwargs)\n",
      "  File \"C:\\Users\\antho\\AppData\\Roaming\\Python\\Python39\\site-packages\\sklearn\\utils\\_param_validation.py\", line 214, in wrapper\n",
      "    return func(*args, **kwargs)\n",
      "  File \"C:\\Users\\antho\\AppData\\Roaming\\Python\\Python39\\site-packages\\sklearn\\metrics\\_classification.py\", line 2304, in recall_score\n",
      "    _, r, _, _ = precision_recall_fscore_support(\n",
      "  File \"C:\\Users\\antho\\AppData\\Roaming\\Python\\Python39\\site-packages\\sklearn\\utils\\_param_validation.py\", line 187, in wrapper\n",
      "    return func(*args, **kwargs)\n",
      "  File \"C:\\Users\\antho\\AppData\\Roaming\\Python\\Python39\\site-packages\\sklearn\\metrics\\_classification.py\", line 1724, in precision_recall_fscore_support\n",
      "    labels = _check_set_wise_labels(y_true, y_pred, average, labels, pos_label)\n",
      "  File \"C:\\Users\\antho\\AppData\\Roaming\\Python\\Python39\\site-packages\\sklearn\\metrics\\_classification.py\", line 1518, in _check_set_wise_labels\n",
      "    raise ValueError(\n",
      "ValueError: Target is multiclass but average='binary'. Please choose another average setting, one of [None, 'micro', 'macro', 'weighted'].\n",
      "\n",
      "  warnings.warn(\n",
      "C:\\Users\\antho\\anaconda3\\lib\\site-packages\\xgboost\\core.py:158: UserWarning: [16:59:15] WARNING: C:\\buildkite-agent\\builds\\buildkite-windows-cpu-autoscaling-group-i-06abd128ca6c1688d-1\\xgboost\\xgboost-ci-windows\\src\\learner.cc:740: \n",
      "Parameters: { \"use_label_encoder\" } are not used.\n",
      "\n",
      "  warnings.warn(smsg, UserWarning)\n",
      "C:\\Users\\antho\\AppData\\Roaming\\Python\\Python39\\site-packages\\sklearn\\model_selection\\_validation.py:821: UserWarning: Scoring failed. The score on this train-test partition for these parameters will be set to nan. Details: \n",
      "Traceback (most recent call last):\n",
      "  File \"C:\\Users\\antho\\AppData\\Roaming\\Python\\Python39\\site-packages\\sklearn\\model_selection\\_validation.py\", line 810, in _score\n",
      "    scores = scorer(estimator, X_test, y_test)\n",
      "  File \"C:\\Users\\antho\\AppData\\Roaming\\Python\\Python39\\site-packages\\sklearn\\metrics\\_scorer.py\", line 266, in __call__\n",
      "    return self._score(partial(_cached_call, None), estimator, X, y_true, **_kwargs)\n",
      "  File \"C:\\Users\\antho\\AppData\\Roaming\\Python\\Python39\\site-packages\\sklearn\\metrics\\_scorer.py\", line 355, in _score\n",
      "    return self._sign * self._score_func(y_true, y_pred, **scoring_kwargs)\n",
      "  File \"C:\\Users\\antho\\AppData\\Roaming\\Python\\Python39\\site-packages\\sklearn\\utils\\_param_validation.py\", line 214, in wrapper\n",
      "    return func(*args, **kwargs)\n",
      "  File \"C:\\Users\\antho\\AppData\\Roaming\\Python\\Python39\\site-packages\\sklearn\\metrics\\_classification.py\", line 2304, in recall_score\n",
      "    _, r, _, _ = precision_recall_fscore_support(\n",
      "  File \"C:\\Users\\antho\\AppData\\Roaming\\Python\\Python39\\site-packages\\sklearn\\utils\\_param_validation.py\", line 187, in wrapper\n",
      "    return func(*args, **kwargs)\n",
      "  File \"C:\\Users\\antho\\AppData\\Roaming\\Python\\Python39\\site-packages\\sklearn\\metrics\\_classification.py\", line 1724, in precision_recall_fscore_support\n",
      "    labels = _check_set_wise_labels(y_true, y_pred, average, labels, pos_label)\n",
      "  File \"C:\\Users\\antho\\AppData\\Roaming\\Python\\Python39\\site-packages\\sklearn\\metrics\\_classification.py\", line 1518, in _check_set_wise_labels\n",
      "    raise ValueError(\n",
      "ValueError: Target is multiclass but average='binary'. Please choose another average setting, one of [None, 'micro', 'macro', 'weighted'].\n",
      "\n",
      "  warnings.warn(\n",
      "C:\\Users\\antho\\anaconda3\\lib\\site-packages\\xgboost\\core.py:158: UserWarning: [16:59:15] WARNING: C:\\buildkite-agent\\builds\\buildkite-windows-cpu-autoscaling-group-i-06abd128ca6c1688d-1\\xgboost\\xgboost-ci-windows\\src\\learner.cc:740: \n",
      "Parameters: { \"use_label_encoder\" } are not used.\n",
      "\n",
      "  warnings.warn(smsg, UserWarning)\n",
      "C:\\Users\\antho\\AppData\\Roaming\\Python\\Python39\\site-packages\\sklearn\\model_selection\\_validation.py:821: UserWarning: Scoring failed. The score on this train-test partition for these parameters will be set to nan. Details: \n",
      "Traceback (most recent call last):\n",
      "  File \"C:\\Users\\antho\\AppData\\Roaming\\Python\\Python39\\site-packages\\sklearn\\model_selection\\_validation.py\", line 810, in _score\n",
      "    scores = scorer(estimator, X_test, y_test)\n",
      "  File \"C:\\Users\\antho\\AppData\\Roaming\\Python\\Python39\\site-packages\\sklearn\\metrics\\_scorer.py\", line 266, in __call__\n",
      "    return self._score(partial(_cached_call, None), estimator, X, y_true, **_kwargs)\n",
      "  File \"C:\\Users\\antho\\AppData\\Roaming\\Python\\Python39\\site-packages\\sklearn\\metrics\\_scorer.py\", line 355, in _score\n",
      "    return self._sign * self._score_func(y_true, y_pred, **scoring_kwargs)\n",
      "  File \"C:\\Users\\antho\\AppData\\Roaming\\Python\\Python39\\site-packages\\sklearn\\utils\\_param_validation.py\", line 214, in wrapper\n",
      "    return func(*args, **kwargs)\n",
      "  File \"C:\\Users\\antho\\AppData\\Roaming\\Python\\Python39\\site-packages\\sklearn\\metrics\\_classification.py\", line 2304, in recall_score\n",
      "    _, r, _, _ = precision_recall_fscore_support(\n",
      "  File \"C:\\Users\\antho\\AppData\\Roaming\\Python\\Python39\\site-packages\\sklearn\\utils\\_param_validation.py\", line 187, in wrapper\n",
      "    return func(*args, **kwargs)\n",
      "  File \"C:\\Users\\antho\\AppData\\Roaming\\Python\\Python39\\site-packages\\sklearn\\metrics\\_classification.py\", line 1724, in precision_recall_fscore_support\n",
      "    labels = _check_set_wise_labels(y_true, y_pred, average, labels, pos_label)\n",
      "  File \"C:\\Users\\antho\\AppData\\Roaming\\Python\\Python39\\site-packages\\sklearn\\metrics\\_classification.py\", line 1518, in _check_set_wise_labels\n",
      "    raise ValueError(\n",
      "ValueError: Target is multiclass but average='binary'. Please choose another average setting, one of [None, 'micro', 'macro', 'weighted'].\n",
      "\n",
      "  warnings.warn(\n",
      "C:\\Users\\antho\\anaconda3\\lib\\site-packages\\xgboost\\core.py:158: UserWarning: [16:59:15] WARNING: C:\\buildkite-agent\\builds\\buildkite-windows-cpu-autoscaling-group-i-06abd128ca6c1688d-1\\xgboost\\xgboost-ci-windows\\src\\learner.cc:740: \n",
      "Parameters: { \"use_label_encoder\" } are not used.\n",
      "\n",
      "  warnings.warn(smsg, UserWarning)\n"
     ]
    },
    {
     "name": "stderr",
     "output_type": "stream",
     "text": [
      "C:\\Users\\antho\\AppData\\Roaming\\Python\\Python39\\site-packages\\sklearn\\model_selection\\_validation.py:821: UserWarning: Scoring failed. The score on this train-test partition for these parameters will be set to nan. Details: \n",
      "Traceback (most recent call last):\n",
      "  File \"C:\\Users\\antho\\AppData\\Roaming\\Python\\Python39\\site-packages\\sklearn\\model_selection\\_validation.py\", line 810, in _score\n",
      "    scores = scorer(estimator, X_test, y_test)\n",
      "  File \"C:\\Users\\antho\\AppData\\Roaming\\Python\\Python39\\site-packages\\sklearn\\metrics\\_scorer.py\", line 266, in __call__\n",
      "    return self._score(partial(_cached_call, None), estimator, X, y_true, **_kwargs)\n",
      "  File \"C:\\Users\\antho\\AppData\\Roaming\\Python\\Python39\\site-packages\\sklearn\\metrics\\_scorer.py\", line 355, in _score\n",
      "    return self._sign * self._score_func(y_true, y_pred, **scoring_kwargs)\n",
      "  File \"C:\\Users\\antho\\AppData\\Roaming\\Python\\Python39\\site-packages\\sklearn\\utils\\_param_validation.py\", line 214, in wrapper\n",
      "    return func(*args, **kwargs)\n",
      "  File \"C:\\Users\\antho\\AppData\\Roaming\\Python\\Python39\\site-packages\\sklearn\\metrics\\_classification.py\", line 2304, in recall_score\n",
      "    _, r, _, _ = precision_recall_fscore_support(\n",
      "  File \"C:\\Users\\antho\\AppData\\Roaming\\Python\\Python39\\site-packages\\sklearn\\utils\\_param_validation.py\", line 187, in wrapper\n",
      "    return func(*args, **kwargs)\n",
      "  File \"C:\\Users\\antho\\AppData\\Roaming\\Python\\Python39\\site-packages\\sklearn\\metrics\\_classification.py\", line 1724, in precision_recall_fscore_support\n",
      "    labels = _check_set_wise_labels(y_true, y_pred, average, labels, pos_label)\n",
      "  File \"C:\\Users\\antho\\AppData\\Roaming\\Python\\Python39\\site-packages\\sklearn\\metrics\\_classification.py\", line 1518, in _check_set_wise_labels\n",
      "    raise ValueError(\n",
      "ValueError: Target is multiclass but average='binary'. Please choose another average setting, one of [None, 'micro', 'macro', 'weighted'].\n",
      "\n",
      "  warnings.warn(\n",
      "C:\\Users\\antho\\anaconda3\\lib\\site-packages\\xgboost\\core.py:158: UserWarning: [16:59:15] WARNING: C:\\buildkite-agent\\builds\\buildkite-windows-cpu-autoscaling-group-i-06abd128ca6c1688d-1\\xgboost\\xgboost-ci-windows\\src\\learner.cc:740: \n",
      "Parameters: { \"use_label_encoder\" } are not used.\n",
      "\n",
      "  warnings.warn(smsg, UserWarning)\n",
      "C:\\Users\\antho\\AppData\\Roaming\\Python\\Python39\\site-packages\\sklearn\\model_selection\\_validation.py:821: UserWarning: Scoring failed. The score on this train-test partition for these parameters will be set to nan. Details: \n",
      "Traceback (most recent call last):\n",
      "  File \"C:\\Users\\antho\\AppData\\Roaming\\Python\\Python39\\site-packages\\sklearn\\model_selection\\_validation.py\", line 810, in _score\n",
      "    scores = scorer(estimator, X_test, y_test)\n",
      "  File \"C:\\Users\\antho\\AppData\\Roaming\\Python\\Python39\\site-packages\\sklearn\\metrics\\_scorer.py\", line 266, in __call__\n",
      "    return self._score(partial(_cached_call, None), estimator, X, y_true, **_kwargs)\n",
      "  File \"C:\\Users\\antho\\AppData\\Roaming\\Python\\Python39\\site-packages\\sklearn\\metrics\\_scorer.py\", line 355, in _score\n",
      "    return self._sign * self._score_func(y_true, y_pred, **scoring_kwargs)\n",
      "  File \"C:\\Users\\antho\\AppData\\Roaming\\Python\\Python39\\site-packages\\sklearn\\utils\\_param_validation.py\", line 214, in wrapper\n",
      "    return func(*args, **kwargs)\n",
      "  File \"C:\\Users\\antho\\AppData\\Roaming\\Python\\Python39\\site-packages\\sklearn\\metrics\\_classification.py\", line 2304, in recall_score\n",
      "    _, r, _, _ = precision_recall_fscore_support(\n",
      "  File \"C:\\Users\\antho\\AppData\\Roaming\\Python\\Python39\\site-packages\\sklearn\\utils\\_param_validation.py\", line 187, in wrapper\n",
      "    return func(*args, **kwargs)\n",
      "  File \"C:\\Users\\antho\\AppData\\Roaming\\Python\\Python39\\site-packages\\sklearn\\metrics\\_classification.py\", line 1724, in precision_recall_fscore_support\n",
      "    labels = _check_set_wise_labels(y_true, y_pred, average, labels, pos_label)\n",
      "  File \"C:\\Users\\antho\\AppData\\Roaming\\Python\\Python39\\site-packages\\sklearn\\metrics\\_classification.py\", line 1518, in _check_set_wise_labels\n",
      "    raise ValueError(\n",
      "ValueError: Target is multiclass but average='binary'. Please choose another average setting, one of [None, 'micro', 'macro', 'weighted'].\n",
      "\n",
      "  warnings.warn(\n",
      "C:\\Users\\antho\\anaconda3\\lib\\site-packages\\xgboost\\core.py:158: UserWarning: [16:59:15] WARNING: C:\\buildkite-agent\\builds\\buildkite-windows-cpu-autoscaling-group-i-06abd128ca6c1688d-1\\xgboost\\xgboost-ci-windows\\src\\learner.cc:740: \n",
      "Parameters: { \"use_label_encoder\" } are not used.\n",
      "\n",
      "  warnings.warn(smsg, UserWarning)\n",
      "C:\\Users\\antho\\AppData\\Roaming\\Python\\Python39\\site-packages\\sklearn\\model_selection\\_validation.py:821: UserWarning: Scoring failed. The score on this train-test partition for these parameters will be set to nan. Details: \n",
      "Traceback (most recent call last):\n",
      "  File \"C:\\Users\\antho\\AppData\\Roaming\\Python\\Python39\\site-packages\\sklearn\\model_selection\\_validation.py\", line 810, in _score\n",
      "    scores = scorer(estimator, X_test, y_test)\n",
      "  File \"C:\\Users\\antho\\AppData\\Roaming\\Python\\Python39\\site-packages\\sklearn\\metrics\\_scorer.py\", line 266, in __call__\n",
      "    return self._score(partial(_cached_call, None), estimator, X, y_true, **_kwargs)\n",
      "  File \"C:\\Users\\antho\\AppData\\Roaming\\Python\\Python39\\site-packages\\sklearn\\metrics\\_scorer.py\", line 355, in _score\n",
      "    return self._sign * self._score_func(y_true, y_pred, **scoring_kwargs)\n",
      "  File \"C:\\Users\\antho\\AppData\\Roaming\\Python\\Python39\\site-packages\\sklearn\\utils\\_param_validation.py\", line 214, in wrapper\n",
      "    return func(*args, **kwargs)\n",
      "  File \"C:\\Users\\antho\\AppData\\Roaming\\Python\\Python39\\site-packages\\sklearn\\metrics\\_classification.py\", line 2304, in recall_score\n",
      "    _, r, _, _ = precision_recall_fscore_support(\n",
      "  File \"C:\\Users\\antho\\AppData\\Roaming\\Python\\Python39\\site-packages\\sklearn\\utils\\_param_validation.py\", line 187, in wrapper\n",
      "    return func(*args, **kwargs)\n",
      "  File \"C:\\Users\\antho\\AppData\\Roaming\\Python\\Python39\\site-packages\\sklearn\\metrics\\_classification.py\", line 1724, in precision_recall_fscore_support\n",
      "    labels = _check_set_wise_labels(y_true, y_pred, average, labels, pos_label)\n",
      "  File \"C:\\Users\\antho\\AppData\\Roaming\\Python\\Python39\\site-packages\\sklearn\\metrics\\_classification.py\", line 1518, in _check_set_wise_labels\n",
      "    raise ValueError(\n",
      "ValueError: Target is multiclass but average='binary'. Please choose another average setting, one of [None, 'micro', 'macro', 'weighted'].\n",
      "\n",
      "  warnings.warn(\n",
      "C:\\Users\\antho\\anaconda3\\lib\\site-packages\\xgboost\\core.py:158: UserWarning: [16:59:16] WARNING: C:\\buildkite-agent\\builds\\buildkite-windows-cpu-autoscaling-group-i-06abd128ca6c1688d-1\\xgboost\\xgboost-ci-windows\\src\\learner.cc:740: \n",
      "Parameters: { \"use_label_encoder\" } are not used.\n",
      "\n",
      "  warnings.warn(smsg, UserWarning)\n",
      "C:\\Users\\antho\\AppData\\Roaming\\Python\\Python39\\site-packages\\sklearn\\model_selection\\_validation.py:821: UserWarning: Scoring failed. The score on this train-test partition for these parameters will be set to nan. Details: \n",
      "Traceback (most recent call last):\n",
      "  File \"C:\\Users\\antho\\AppData\\Roaming\\Python\\Python39\\site-packages\\sklearn\\model_selection\\_validation.py\", line 810, in _score\n",
      "    scores = scorer(estimator, X_test, y_test)\n",
      "  File \"C:\\Users\\antho\\AppData\\Roaming\\Python\\Python39\\site-packages\\sklearn\\metrics\\_scorer.py\", line 266, in __call__\n",
      "    return self._score(partial(_cached_call, None), estimator, X, y_true, **_kwargs)\n",
      "  File \"C:\\Users\\antho\\AppData\\Roaming\\Python\\Python39\\site-packages\\sklearn\\metrics\\_scorer.py\", line 355, in _score\n",
      "    return self._sign * self._score_func(y_true, y_pred, **scoring_kwargs)\n",
      "  File \"C:\\Users\\antho\\AppData\\Roaming\\Python\\Python39\\site-packages\\sklearn\\utils\\_param_validation.py\", line 214, in wrapper\n",
      "    return func(*args, **kwargs)\n",
      "  File \"C:\\Users\\antho\\AppData\\Roaming\\Python\\Python39\\site-packages\\sklearn\\metrics\\_classification.py\", line 2304, in recall_score\n",
      "    _, r, _, _ = precision_recall_fscore_support(\n",
      "  File \"C:\\Users\\antho\\AppData\\Roaming\\Python\\Python39\\site-packages\\sklearn\\utils\\_param_validation.py\", line 187, in wrapper\n",
      "    return func(*args, **kwargs)\n",
      "  File \"C:\\Users\\antho\\AppData\\Roaming\\Python\\Python39\\site-packages\\sklearn\\metrics\\_classification.py\", line 1724, in precision_recall_fscore_support\n",
      "    labels = _check_set_wise_labels(y_true, y_pred, average, labels, pos_label)\n",
      "  File \"C:\\Users\\antho\\AppData\\Roaming\\Python\\Python39\\site-packages\\sklearn\\metrics\\_classification.py\", line 1518, in _check_set_wise_labels\n",
      "    raise ValueError(\n",
      "ValueError: Target is multiclass but average='binary'. Please choose another average setting, one of [None, 'micro', 'macro', 'weighted'].\n",
      "\n",
      "  warnings.warn(\n",
      "C:\\Users\\antho\\anaconda3\\lib\\site-packages\\xgboost\\core.py:158: UserWarning: [16:59:16] WARNING: C:\\buildkite-agent\\builds\\buildkite-windows-cpu-autoscaling-group-i-06abd128ca6c1688d-1\\xgboost\\xgboost-ci-windows\\src\\learner.cc:740: \n",
      "Parameters: { \"use_label_encoder\" } are not used.\n",
      "\n",
      "  warnings.warn(smsg, UserWarning)\n"
     ]
    },
    {
     "name": "stderr",
     "output_type": "stream",
     "text": [
      "C:\\Users\\antho\\AppData\\Roaming\\Python\\Python39\\site-packages\\sklearn\\model_selection\\_validation.py:821: UserWarning: Scoring failed. The score on this train-test partition for these parameters will be set to nan. Details: \n",
      "Traceback (most recent call last):\n",
      "  File \"C:\\Users\\antho\\AppData\\Roaming\\Python\\Python39\\site-packages\\sklearn\\model_selection\\_validation.py\", line 810, in _score\n",
      "    scores = scorer(estimator, X_test, y_test)\n",
      "  File \"C:\\Users\\antho\\AppData\\Roaming\\Python\\Python39\\site-packages\\sklearn\\metrics\\_scorer.py\", line 266, in __call__\n",
      "    return self._score(partial(_cached_call, None), estimator, X, y_true, **_kwargs)\n",
      "  File \"C:\\Users\\antho\\AppData\\Roaming\\Python\\Python39\\site-packages\\sklearn\\metrics\\_scorer.py\", line 355, in _score\n",
      "    return self._sign * self._score_func(y_true, y_pred, **scoring_kwargs)\n",
      "  File \"C:\\Users\\antho\\AppData\\Roaming\\Python\\Python39\\site-packages\\sklearn\\utils\\_param_validation.py\", line 214, in wrapper\n",
      "    return func(*args, **kwargs)\n",
      "  File \"C:\\Users\\antho\\AppData\\Roaming\\Python\\Python39\\site-packages\\sklearn\\metrics\\_classification.py\", line 2304, in recall_score\n",
      "    _, r, _, _ = precision_recall_fscore_support(\n",
      "  File \"C:\\Users\\antho\\AppData\\Roaming\\Python\\Python39\\site-packages\\sklearn\\utils\\_param_validation.py\", line 187, in wrapper\n",
      "    return func(*args, **kwargs)\n",
      "  File \"C:\\Users\\antho\\AppData\\Roaming\\Python\\Python39\\site-packages\\sklearn\\metrics\\_classification.py\", line 1724, in precision_recall_fscore_support\n",
      "    labels = _check_set_wise_labels(y_true, y_pred, average, labels, pos_label)\n",
      "  File \"C:\\Users\\antho\\AppData\\Roaming\\Python\\Python39\\site-packages\\sklearn\\metrics\\_classification.py\", line 1518, in _check_set_wise_labels\n",
      "    raise ValueError(\n",
      "ValueError: Target is multiclass but average='binary'. Please choose another average setting, one of [None, 'micro', 'macro', 'weighted'].\n",
      "\n",
      "  warnings.warn(\n",
      "C:\\Users\\antho\\anaconda3\\lib\\site-packages\\xgboost\\core.py:158: UserWarning: [16:59:16] WARNING: C:\\buildkite-agent\\builds\\buildkite-windows-cpu-autoscaling-group-i-06abd128ca6c1688d-1\\xgboost\\xgboost-ci-windows\\src\\learner.cc:740: \n",
      "Parameters: { \"use_label_encoder\" } are not used.\n",
      "\n",
      "  warnings.warn(smsg, UserWarning)\n",
      "C:\\Users\\antho\\AppData\\Roaming\\Python\\Python39\\site-packages\\sklearn\\model_selection\\_validation.py:821: UserWarning: Scoring failed. The score on this train-test partition for these parameters will be set to nan. Details: \n",
      "Traceback (most recent call last):\n",
      "  File \"C:\\Users\\antho\\AppData\\Roaming\\Python\\Python39\\site-packages\\sklearn\\model_selection\\_validation.py\", line 810, in _score\n",
      "    scores = scorer(estimator, X_test, y_test)\n",
      "  File \"C:\\Users\\antho\\AppData\\Roaming\\Python\\Python39\\site-packages\\sklearn\\metrics\\_scorer.py\", line 266, in __call__\n",
      "    return self._score(partial(_cached_call, None), estimator, X, y_true, **_kwargs)\n",
      "  File \"C:\\Users\\antho\\AppData\\Roaming\\Python\\Python39\\site-packages\\sklearn\\metrics\\_scorer.py\", line 355, in _score\n",
      "    return self._sign * self._score_func(y_true, y_pred, **scoring_kwargs)\n",
      "  File \"C:\\Users\\antho\\AppData\\Roaming\\Python\\Python39\\site-packages\\sklearn\\utils\\_param_validation.py\", line 214, in wrapper\n",
      "    return func(*args, **kwargs)\n",
      "  File \"C:\\Users\\antho\\AppData\\Roaming\\Python\\Python39\\site-packages\\sklearn\\metrics\\_classification.py\", line 2304, in recall_score\n",
      "    _, r, _, _ = precision_recall_fscore_support(\n",
      "  File \"C:\\Users\\antho\\AppData\\Roaming\\Python\\Python39\\site-packages\\sklearn\\utils\\_param_validation.py\", line 187, in wrapper\n",
      "    return func(*args, **kwargs)\n",
      "  File \"C:\\Users\\antho\\AppData\\Roaming\\Python\\Python39\\site-packages\\sklearn\\metrics\\_classification.py\", line 1724, in precision_recall_fscore_support\n",
      "    labels = _check_set_wise_labels(y_true, y_pred, average, labels, pos_label)\n",
      "  File \"C:\\Users\\antho\\AppData\\Roaming\\Python\\Python39\\site-packages\\sklearn\\metrics\\_classification.py\", line 1518, in _check_set_wise_labels\n",
      "    raise ValueError(\n",
      "ValueError: Target is multiclass but average='binary'. Please choose another average setting, one of [None, 'micro', 'macro', 'weighted'].\n",
      "\n",
      "  warnings.warn(\n",
      "C:\\Users\\antho\\anaconda3\\lib\\site-packages\\xgboost\\core.py:158: UserWarning: [16:59:16] WARNING: C:\\buildkite-agent\\builds\\buildkite-windows-cpu-autoscaling-group-i-06abd128ca6c1688d-1\\xgboost\\xgboost-ci-windows\\src\\learner.cc:740: \n",
      "Parameters: { \"use_label_encoder\" } are not used.\n",
      "\n",
      "  warnings.warn(smsg, UserWarning)\n",
      "C:\\Users\\antho\\AppData\\Roaming\\Python\\Python39\\site-packages\\sklearn\\model_selection\\_validation.py:821: UserWarning: Scoring failed. The score on this train-test partition for these parameters will be set to nan. Details: \n",
      "Traceback (most recent call last):\n",
      "  File \"C:\\Users\\antho\\AppData\\Roaming\\Python\\Python39\\site-packages\\sklearn\\model_selection\\_validation.py\", line 810, in _score\n",
      "    scores = scorer(estimator, X_test, y_test)\n",
      "  File \"C:\\Users\\antho\\AppData\\Roaming\\Python\\Python39\\site-packages\\sklearn\\metrics\\_scorer.py\", line 266, in __call__\n",
      "    return self._score(partial(_cached_call, None), estimator, X, y_true, **_kwargs)\n",
      "  File \"C:\\Users\\antho\\AppData\\Roaming\\Python\\Python39\\site-packages\\sklearn\\metrics\\_scorer.py\", line 355, in _score\n",
      "    return self._sign * self._score_func(y_true, y_pred, **scoring_kwargs)\n",
      "  File \"C:\\Users\\antho\\AppData\\Roaming\\Python\\Python39\\site-packages\\sklearn\\utils\\_param_validation.py\", line 214, in wrapper\n",
      "    return func(*args, **kwargs)\n",
      "  File \"C:\\Users\\antho\\AppData\\Roaming\\Python\\Python39\\site-packages\\sklearn\\metrics\\_classification.py\", line 2304, in recall_score\n",
      "    _, r, _, _ = precision_recall_fscore_support(\n",
      "  File \"C:\\Users\\antho\\AppData\\Roaming\\Python\\Python39\\site-packages\\sklearn\\utils\\_param_validation.py\", line 187, in wrapper\n",
      "    return func(*args, **kwargs)\n",
      "  File \"C:\\Users\\antho\\AppData\\Roaming\\Python\\Python39\\site-packages\\sklearn\\metrics\\_classification.py\", line 1724, in precision_recall_fscore_support\n",
      "    labels = _check_set_wise_labels(y_true, y_pred, average, labels, pos_label)\n",
      "  File \"C:\\Users\\antho\\AppData\\Roaming\\Python\\Python39\\site-packages\\sklearn\\metrics\\_classification.py\", line 1518, in _check_set_wise_labels\n",
      "    raise ValueError(\n",
      "ValueError: Target is multiclass but average='binary'. Please choose another average setting, one of [None, 'micro', 'macro', 'weighted'].\n",
      "\n",
      "  warnings.warn(\n",
      "C:\\Users\\antho\\anaconda3\\lib\\site-packages\\xgboost\\core.py:158: UserWarning: [16:59:16] WARNING: C:\\buildkite-agent\\builds\\buildkite-windows-cpu-autoscaling-group-i-06abd128ca6c1688d-1\\xgboost\\xgboost-ci-windows\\src\\learner.cc:740: \n",
      "Parameters: { \"use_label_encoder\" } are not used.\n",
      "\n",
      "  warnings.warn(smsg, UserWarning)\n",
      "C:\\Users\\antho\\AppData\\Roaming\\Python\\Python39\\site-packages\\sklearn\\model_selection\\_validation.py:821: UserWarning: Scoring failed. The score on this train-test partition for these parameters will be set to nan. Details: \n",
      "Traceback (most recent call last):\n",
      "  File \"C:\\Users\\antho\\AppData\\Roaming\\Python\\Python39\\site-packages\\sklearn\\model_selection\\_validation.py\", line 810, in _score\n",
      "    scores = scorer(estimator, X_test, y_test)\n",
      "  File \"C:\\Users\\antho\\AppData\\Roaming\\Python\\Python39\\site-packages\\sklearn\\metrics\\_scorer.py\", line 266, in __call__\n",
      "    return self._score(partial(_cached_call, None), estimator, X, y_true, **_kwargs)\n",
      "  File \"C:\\Users\\antho\\AppData\\Roaming\\Python\\Python39\\site-packages\\sklearn\\metrics\\_scorer.py\", line 355, in _score\n",
      "    return self._sign * self._score_func(y_true, y_pred, **scoring_kwargs)\n",
      "  File \"C:\\Users\\antho\\AppData\\Roaming\\Python\\Python39\\site-packages\\sklearn\\utils\\_param_validation.py\", line 214, in wrapper\n",
      "    return func(*args, **kwargs)\n",
      "  File \"C:\\Users\\antho\\AppData\\Roaming\\Python\\Python39\\site-packages\\sklearn\\metrics\\_classification.py\", line 2304, in recall_score\n",
      "    _, r, _, _ = precision_recall_fscore_support(\n",
      "  File \"C:\\Users\\antho\\AppData\\Roaming\\Python\\Python39\\site-packages\\sklearn\\utils\\_param_validation.py\", line 187, in wrapper\n",
      "    return func(*args, **kwargs)\n",
      "  File \"C:\\Users\\antho\\AppData\\Roaming\\Python\\Python39\\site-packages\\sklearn\\metrics\\_classification.py\", line 1724, in precision_recall_fscore_support\n",
      "    labels = _check_set_wise_labels(y_true, y_pred, average, labels, pos_label)\n",
      "  File \"C:\\Users\\antho\\AppData\\Roaming\\Python\\Python39\\site-packages\\sklearn\\metrics\\_classification.py\", line 1518, in _check_set_wise_labels\n",
      "    raise ValueError(\n",
      "ValueError: Target is multiclass but average='binary'. Please choose another average setting, one of [None, 'micro', 'macro', 'weighted'].\n",
      "\n",
      "  warnings.warn(\n",
      "C:\\Users\\antho\\anaconda3\\lib\\site-packages\\xgboost\\core.py:158: UserWarning: [16:59:17] WARNING: C:\\buildkite-agent\\builds\\buildkite-windows-cpu-autoscaling-group-i-06abd128ca6c1688d-1\\xgboost\\xgboost-ci-windows\\src\\learner.cc:740: \n",
      "Parameters: { \"use_label_encoder\" } are not used.\n",
      "\n",
      "  warnings.warn(smsg, UserWarning)\n",
      "C:\\Users\\antho\\AppData\\Roaming\\Python\\Python39\\site-packages\\sklearn\\model_selection\\_validation.py:821: UserWarning: Scoring failed. The score on this train-test partition for these parameters will be set to nan. Details: \n",
      "Traceback (most recent call last):\n",
      "  File \"C:\\Users\\antho\\AppData\\Roaming\\Python\\Python39\\site-packages\\sklearn\\model_selection\\_validation.py\", line 810, in _score\n",
      "    scores = scorer(estimator, X_test, y_test)\n",
      "  File \"C:\\Users\\antho\\AppData\\Roaming\\Python\\Python39\\site-packages\\sklearn\\metrics\\_scorer.py\", line 266, in __call__\n",
      "    return self._score(partial(_cached_call, None), estimator, X, y_true, **_kwargs)\n",
      "  File \"C:\\Users\\antho\\AppData\\Roaming\\Python\\Python39\\site-packages\\sklearn\\metrics\\_scorer.py\", line 355, in _score\n",
      "    return self._sign * self._score_func(y_true, y_pred, **scoring_kwargs)\n",
      "  File \"C:\\Users\\antho\\AppData\\Roaming\\Python\\Python39\\site-packages\\sklearn\\utils\\_param_validation.py\", line 214, in wrapper\n",
      "    return func(*args, **kwargs)\n",
      "  File \"C:\\Users\\antho\\AppData\\Roaming\\Python\\Python39\\site-packages\\sklearn\\metrics\\_classification.py\", line 2304, in recall_score\n",
      "    _, r, _, _ = precision_recall_fscore_support(\n",
      "  File \"C:\\Users\\antho\\AppData\\Roaming\\Python\\Python39\\site-packages\\sklearn\\utils\\_param_validation.py\", line 187, in wrapper\n",
      "    return func(*args, **kwargs)\n",
      "  File \"C:\\Users\\antho\\AppData\\Roaming\\Python\\Python39\\site-packages\\sklearn\\metrics\\_classification.py\", line 1724, in precision_recall_fscore_support\n",
      "    labels = _check_set_wise_labels(y_true, y_pred, average, labels, pos_label)\n",
      "  File \"C:\\Users\\antho\\AppData\\Roaming\\Python\\Python39\\site-packages\\sklearn\\metrics\\_classification.py\", line 1518, in _check_set_wise_labels\n",
      "    raise ValueError(\n",
      "ValueError: Target is multiclass but average='binary'. Please choose another average setting, one of [None, 'micro', 'macro', 'weighted'].\n",
      "\n",
      "  warnings.warn(\n",
      "C:\\Users\\antho\\anaconda3\\lib\\site-packages\\xgboost\\core.py:158: UserWarning: [16:59:17] WARNING: C:\\buildkite-agent\\builds\\buildkite-windows-cpu-autoscaling-group-i-06abd128ca6c1688d-1\\xgboost\\xgboost-ci-windows\\src\\learner.cc:740: \n",
      "Parameters: { \"use_label_encoder\" } are not used.\n",
      "\n",
      "  warnings.warn(smsg, UserWarning)\n",
      "C:\\Users\\antho\\AppData\\Roaming\\Python\\Python39\\site-packages\\sklearn\\model_selection\\_validation.py:821: UserWarning: Scoring failed. The score on this train-test partition for these parameters will be set to nan. Details: \n",
      "Traceback (most recent call last):\n",
      "  File \"C:\\Users\\antho\\AppData\\Roaming\\Python\\Python39\\site-packages\\sklearn\\model_selection\\_validation.py\", line 810, in _score\n",
      "    scores = scorer(estimator, X_test, y_test)\n",
      "  File \"C:\\Users\\antho\\AppData\\Roaming\\Python\\Python39\\site-packages\\sklearn\\metrics\\_scorer.py\", line 266, in __call__\n",
      "    return self._score(partial(_cached_call, None), estimator, X, y_true, **_kwargs)\n",
      "  File \"C:\\Users\\antho\\AppData\\Roaming\\Python\\Python39\\site-packages\\sklearn\\metrics\\_scorer.py\", line 355, in _score\n",
      "    return self._sign * self._score_func(y_true, y_pred, **scoring_kwargs)\n",
      "  File \"C:\\Users\\antho\\AppData\\Roaming\\Python\\Python39\\site-packages\\sklearn\\utils\\_param_validation.py\", line 214, in wrapper\n",
      "    return func(*args, **kwargs)\n",
      "  File \"C:\\Users\\antho\\AppData\\Roaming\\Python\\Python39\\site-packages\\sklearn\\metrics\\_classification.py\", line 2304, in recall_score\n",
      "    _, r, _, _ = precision_recall_fscore_support(\n",
      "  File \"C:\\Users\\antho\\AppData\\Roaming\\Python\\Python39\\site-packages\\sklearn\\utils\\_param_validation.py\", line 187, in wrapper\n",
      "    return func(*args, **kwargs)\n",
      "  File \"C:\\Users\\antho\\AppData\\Roaming\\Python\\Python39\\site-packages\\sklearn\\metrics\\_classification.py\", line 1724, in precision_recall_fscore_support\n",
      "    labels = _check_set_wise_labels(y_true, y_pred, average, labels, pos_label)\n",
      "  File \"C:\\Users\\antho\\AppData\\Roaming\\Python\\Python39\\site-packages\\sklearn\\metrics\\_classification.py\", line 1518, in _check_set_wise_labels\n",
      "    raise ValueError(\n",
      "ValueError: Target is multiclass but average='binary'. Please choose another average setting, one of [None, 'micro', 'macro', 'weighted'].\n",
      "\n",
      "  warnings.warn(\n",
      "C:\\Users\\antho\\anaconda3\\lib\\site-packages\\xgboost\\core.py:158: UserWarning: [16:59:17] WARNING: C:\\buildkite-agent\\builds\\buildkite-windows-cpu-autoscaling-group-i-06abd128ca6c1688d-1\\xgboost\\xgboost-ci-windows\\src\\learner.cc:740: \n",
      "Parameters: { \"use_label_encoder\" } are not used.\n",
      "\n",
      "  warnings.warn(smsg, UserWarning)\n"
     ]
    },
    {
     "name": "stderr",
     "output_type": "stream",
     "text": [
      "C:\\Users\\antho\\AppData\\Roaming\\Python\\Python39\\site-packages\\sklearn\\model_selection\\_validation.py:821: UserWarning: Scoring failed. The score on this train-test partition for these parameters will be set to nan. Details: \n",
      "Traceback (most recent call last):\n",
      "  File \"C:\\Users\\antho\\AppData\\Roaming\\Python\\Python39\\site-packages\\sklearn\\model_selection\\_validation.py\", line 810, in _score\n",
      "    scores = scorer(estimator, X_test, y_test)\n",
      "  File \"C:\\Users\\antho\\AppData\\Roaming\\Python\\Python39\\site-packages\\sklearn\\metrics\\_scorer.py\", line 266, in __call__\n",
      "    return self._score(partial(_cached_call, None), estimator, X, y_true, **_kwargs)\n",
      "  File \"C:\\Users\\antho\\AppData\\Roaming\\Python\\Python39\\site-packages\\sklearn\\metrics\\_scorer.py\", line 355, in _score\n",
      "    return self._sign * self._score_func(y_true, y_pred, **scoring_kwargs)\n",
      "  File \"C:\\Users\\antho\\AppData\\Roaming\\Python\\Python39\\site-packages\\sklearn\\utils\\_param_validation.py\", line 214, in wrapper\n",
      "    return func(*args, **kwargs)\n",
      "  File \"C:\\Users\\antho\\AppData\\Roaming\\Python\\Python39\\site-packages\\sklearn\\metrics\\_classification.py\", line 2304, in recall_score\n",
      "    _, r, _, _ = precision_recall_fscore_support(\n",
      "  File \"C:\\Users\\antho\\AppData\\Roaming\\Python\\Python39\\site-packages\\sklearn\\utils\\_param_validation.py\", line 187, in wrapper\n",
      "    return func(*args, **kwargs)\n",
      "  File \"C:\\Users\\antho\\AppData\\Roaming\\Python\\Python39\\site-packages\\sklearn\\metrics\\_classification.py\", line 1724, in precision_recall_fscore_support\n",
      "    labels = _check_set_wise_labels(y_true, y_pred, average, labels, pos_label)\n",
      "  File \"C:\\Users\\antho\\AppData\\Roaming\\Python\\Python39\\site-packages\\sklearn\\metrics\\_classification.py\", line 1518, in _check_set_wise_labels\n",
      "    raise ValueError(\n",
      "ValueError: Target is multiclass but average='binary'. Please choose another average setting, one of [None, 'micro', 'macro', 'weighted'].\n",
      "\n",
      "  warnings.warn(\n",
      "C:\\Users\\antho\\anaconda3\\lib\\site-packages\\xgboost\\core.py:158: UserWarning: [16:59:17] WARNING: C:\\buildkite-agent\\builds\\buildkite-windows-cpu-autoscaling-group-i-06abd128ca6c1688d-1\\xgboost\\xgboost-ci-windows\\src\\learner.cc:740: \n",
      "Parameters: { \"use_label_encoder\" } are not used.\n",
      "\n",
      "  warnings.warn(smsg, UserWarning)\n",
      "C:\\Users\\antho\\AppData\\Roaming\\Python\\Python39\\site-packages\\sklearn\\model_selection\\_validation.py:821: UserWarning: Scoring failed. The score on this train-test partition for these parameters will be set to nan. Details: \n",
      "Traceback (most recent call last):\n",
      "  File \"C:\\Users\\antho\\AppData\\Roaming\\Python\\Python39\\site-packages\\sklearn\\model_selection\\_validation.py\", line 810, in _score\n",
      "    scores = scorer(estimator, X_test, y_test)\n",
      "  File \"C:\\Users\\antho\\AppData\\Roaming\\Python\\Python39\\site-packages\\sklearn\\metrics\\_scorer.py\", line 266, in __call__\n",
      "    return self._score(partial(_cached_call, None), estimator, X, y_true, **_kwargs)\n",
      "  File \"C:\\Users\\antho\\AppData\\Roaming\\Python\\Python39\\site-packages\\sklearn\\metrics\\_scorer.py\", line 355, in _score\n",
      "    return self._sign * self._score_func(y_true, y_pred, **scoring_kwargs)\n",
      "  File \"C:\\Users\\antho\\AppData\\Roaming\\Python\\Python39\\site-packages\\sklearn\\utils\\_param_validation.py\", line 214, in wrapper\n",
      "    return func(*args, **kwargs)\n",
      "  File \"C:\\Users\\antho\\AppData\\Roaming\\Python\\Python39\\site-packages\\sklearn\\metrics\\_classification.py\", line 2304, in recall_score\n",
      "    _, r, _, _ = precision_recall_fscore_support(\n",
      "  File \"C:\\Users\\antho\\AppData\\Roaming\\Python\\Python39\\site-packages\\sklearn\\utils\\_param_validation.py\", line 187, in wrapper\n",
      "    return func(*args, **kwargs)\n",
      "  File \"C:\\Users\\antho\\AppData\\Roaming\\Python\\Python39\\site-packages\\sklearn\\metrics\\_classification.py\", line 1724, in precision_recall_fscore_support\n",
      "    labels = _check_set_wise_labels(y_true, y_pred, average, labels, pos_label)\n",
      "  File \"C:\\Users\\antho\\AppData\\Roaming\\Python\\Python39\\site-packages\\sklearn\\metrics\\_classification.py\", line 1518, in _check_set_wise_labels\n",
      "    raise ValueError(\n",
      "ValueError: Target is multiclass but average='binary'. Please choose another average setting, one of [None, 'micro', 'macro', 'weighted'].\n",
      "\n",
      "  warnings.warn(\n",
      "C:\\Users\\antho\\anaconda3\\lib\\site-packages\\xgboost\\core.py:158: UserWarning: [16:59:17] WARNING: C:\\buildkite-agent\\builds\\buildkite-windows-cpu-autoscaling-group-i-06abd128ca6c1688d-1\\xgboost\\xgboost-ci-windows\\src\\learner.cc:740: \n",
      "Parameters: { \"use_label_encoder\" } are not used.\n",
      "\n",
      "  warnings.warn(smsg, UserWarning)\n",
      "C:\\Users\\antho\\AppData\\Roaming\\Python\\Python39\\site-packages\\sklearn\\model_selection\\_validation.py:821: UserWarning: Scoring failed. The score on this train-test partition for these parameters will be set to nan. Details: \n",
      "Traceback (most recent call last):\n",
      "  File \"C:\\Users\\antho\\AppData\\Roaming\\Python\\Python39\\site-packages\\sklearn\\model_selection\\_validation.py\", line 810, in _score\n",
      "    scores = scorer(estimator, X_test, y_test)\n",
      "  File \"C:\\Users\\antho\\AppData\\Roaming\\Python\\Python39\\site-packages\\sklearn\\metrics\\_scorer.py\", line 266, in __call__\n",
      "    return self._score(partial(_cached_call, None), estimator, X, y_true, **_kwargs)\n",
      "  File \"C:\\Users\\antho\\AppData\\Roaming\\Python\\Python39\\site-packages\\sklearn\\metrics\\_scorer.py\", line 355, in _score\n",
      "    return self._sign * self._score_func(y_true, y_pred, **scoring_kwargs)\n",
      "  File \"C:\\Users\\antho\\AppData\\Roaming\\Python\\Python39\\site-packages\\sklearn\\utils\\_param_validation.py\", line 214, in wrapper\n",
      "    return func(*args, **kwargs)\n",
      "  File \"C:\\Users\\antho\\AppData\\Roaming\\Python\\Python39\\site-packages\\sklearn\\metrics\\_classification.py\", line 2304, in recall_score\n",
      "    _, r, _, _ = precision_recall_fscore_support(\n",
      "  File \"C:\\Users\\antho\\AppData\\Roaming\\Python\\Python39\\site-packages\\sklearn\\utils\\_param_validation.py\", line 187, in wrapper\n",
      "    return func(*args, **kwargs)\n",
      "  File \"C:\\Users\\antho\\AppData\\Roaming\\Python\\Python39\\site-packages\\sklearn\\metrics\\_classification.py\", line 1724, in precision_recall_fscore_support\n",
      "    labels = _check_set_wise_labels(y_true, y_pred, average, labels, pos_label)\n",
      "  File \"C:\\Users\\antho\\AppData\\Roaming\\Python\\Python39\\site-packages\\sklearn\\metrics\\_classification.py\", line 1518, in _check_set_wise_labels\n",
      "    raise ValueError(\n",
      "ValueError: Target is multiclass but average='binary'. Please choose another average setting, one of [None, 'micro', 'macro', 'weighted'].\n",
      "\n",
      "  warnings.warn(\n",
      "C:\\Users\\antho\\anaconda3\\lib\\site-packages\\xgboost\\core.py:158: UserWarning: [16:59:17] WARNING: C:\\buildkite-agent\\builds\\buildkite-windows-cpu-autoscaling-group-i-06abd128ca6c1688d-1\\xgboost\\xgboost-ci-windows\\src\\learner.cc:740: \n",
      "Parameters: { \"use_label_encoder\" } are not used.\n",
      "\n",
      "  warnings.warn(smsg, UserWarning)\n",
      "C:\\Users\\antho\\AppData\\Roaming\\Python\\Python39\\site-packages\\sklearn\\model_selection\\_validation.py:821: UserWarning: Scoring failed. The score on this train-test partition for these parameters will be set to nan. Details: \n",
      "Traceback (most recent call last):\n",
      "  File \"C:\\Users\\antho\\AppData\\Roaming\\Python\\Python39\\site-packages\\sklearn\\model_selection\\_validation.py\", line 810, in _score\n",
      "    scores = scorer(estimator, X_test, y_test)\n",
      "  File \"C:\\Users\\antho\\AppData\\Roaming\\Python\\Python39\\site-packages\\sklearn\\metrics\\_scorer.py\", line 266, in __call__\n",
      "    return self._score(partial(_cached_call, None), estimator, X, y_true, **_kwargs)\n",
      "  File \"C:\\Users\\antho\\AppData\\Roaming\\Python\\Python39\\site-packages\\sklearn\\metrics\\_scorer.py\", line 355, in _score\n",
      "    return self._sign * self._score_func(y_true, y_pred, **scoring_kwargs)\n",
      "  File \"C:\\Users\\antho\\AppData\\Roaming\\Python\\Python39\\site-packages\\sklearn\\utils\\_param_validation.py\", line 214, in wrapper\n",
      "    return func(*args, **kwargs)\n",
      "  File \"C:\\Users\\antho\\AppData\\Roaming\\Python\\Python39\\site-packages\\sklearn\\metrics\\_classification.py\", line 2304, in recall_score\n",
      "    _, r, _, _ = precision_recall_fscore_support(\n",
      "  File \"C:\\Users\\antho\\AppData\\Roaming\\Python\\Python39\\site-packages\\sklearn\\utils\\_param_validation.py\", line 187, in wrapper\n",
      "    return func(*args, **kwargs)\n",
      "  File \"C:\\Users\\antho\\AppData\\Roaming\\Python\\Python39\\site-packages\\sklearn\\metrics\\_classification.py\", line 1724, in precision_recall_fscore_support\n",
      "    labels = _check_set_wise_labels(y_true, y_pred, average, labels, pos_label)\n",
      "  File \"C:\\Users\\antho\\AppData\\Roaming\\Python\\Python39\\site-packages\\sklearn\\metrics\\_classification.py\", line 1518, in _check_set_wise_labels\n",
      "    raise ValueError(\n",
      "ValueError: Target is multiclass but average='binary'. Please choose another average setting, one of [None, 'micro', 'macro', 'weighted'].\n",
      "\n",
      "  warnings.warn(\n",
      "C:\\Users\\antho\\anaconda3\\lib\\site-packages\\xgboost\\core.py:158: UserWarning: [16:59:17] WARNING: C:\\buildkite-agent\\builds\\buildkite-windows-cpu-autoscaling-group-i-06abd128ca6c1688d-1\\xgboost\\xgboost-ci-windows\\src\\learner.cc:740: \n",
      "Parameters: { \"use_label_encoder\" } are not used.\n",
      "\n",
      "  warnings.warn(smsg, UserWarning)\n"
     ]
    },
    {
     "name": "stderr",
     "output_type": "stream",
     "text": [
      "C:\\Users\\antho\\AppData\\Roaming\\Python\\Python39\\site-packages\\sklearn\\model_selection\\_validation.py:821: UserWarning: Scoring failed. The score on this train-test partition for these parameters will be set to nan. Details: \n",
      "Traceback (most recent call last):\n",
      "  File \"C:\\Users\\antho\\AppData\\Roaming\\Python\\Python39\\site-packages\\sklearn\\model_selection\\_validation.py\", line 810, in _score\n",
      "    scores = scorer(estimator, X_test, y_test)\n",
      "  File \"C:\\Users\\antho\\AppData\\Roaming\\Python\\Python39\\site-packages\\sklearn\\metrics\\_scorer.py\", line 266, in __call__\n",
      "    return self._score(partial(_cached_call, None), estimator, X, y_true, **_kwargs)\n",
      "  File \"C:\\Users\\antho\\AppData\\Roaming\\Python\\Python39\\site-packages\\sklearn\\metrics\\_scorer.py\", line 355, in _score\n",
      "    return self._sign * self._score_func(y_true, y_pred, **scoring_kwargs)\n",
      "  File \"C:\\Users\\antho\\AppData\\Roaming\\Python\\Python39\\site-packages\\sklearn\\utils\\_param_validation.py\", line 214, in wrapper\n",
      "    return func(*args, **kwargs)\n",
      "  File \"C:\\Users\\antho\\AppData\\Roaming\\Python\\Python39\\site-packages\\sklearn\\metrics\\_classification.py\", line 2304, in recall_score\n",
      "    _, r, _, _ = precision_recall_fscore_support(\n",
      "  File \"C:\\Users\\antho\\AppData\\Roaming\\Python\\Python39\\site-packages\\sklearn\\utils\\_param_validation.py\", line 187, in wrapper\n",
      "    return func(*args, **kwargs)\n",
      "  File \"C:\\Users\\antho\\AppData\\Roaming\\Python\\Python39\\site-packages\\sklearn\\metrics\\_classification.py\", line 1724, in precision_recall_fscore_support\n",
      "    labels = _check_set_wise_labels(y_true, y_pred, average, labels, pos_label)\n",
      "  File \"C:\\Users\\antho\\AppData\\Roaming\\Python\\Python39\\site-packages\\sklearn\\metrics\\_classification.py\", line 1518, in _check_set_wise_labels\n",
      "    raise ValueError(\n",
      "ValueError: Target is multiclass but average='binary'. Please choose another average setting, one of [None, 'micro', 'macro', 'weighted'].\n",
      "\n",
      "  warnings.warn(\n",
      "C:\\Users\\antho\\anaconda3\\lib\\site-packages\\xgboost\\core.py:158: UserWarning: [16:59:17] WARNING: C:\\buildkite-agent\\builds\\buildkite-windows-cpu-autoscaling-group-i-06abd128ca6c1688d-1\\xgboost\\xgboost-ci-windows\\src\\learner.cc:740: \n",
      "Parameters: { \"use_label_encoder\" } are not used.\n",
      "\n",
      "  warnings.warn(smsg, UserWarning)\n",
      "C:\\Users\\antho\\AppData\\Roaming\\Python\\Python39\\site-packages\\sklearn\\model_selection\\_validation.py:821: UserWarning: Scoring failed. The score on this train-test partition for these parameters will be set to nan. Details: \n",
      "Traceback (most recent call last):\n",
      "  File \"C:\\Users\\antho\\AppData\\Roaming\\Python\\Python39\\site-packages\\sklearn\\model_selection\\_validation.py\", line 810, in _score\n",
      "    scores = scorer(estimator, X_test, y_test)\n",
      "  File \"C:\\Users\\antho\\AppData\\Roaming\\Python\\Python39\\site-packages\\sklearn\\metrics\\_scorer.py\", line 266, in __call__\n",
      "    return self._score(partial(_cached_call, None), estimator, X, y_true, **_kwargs)\n",
      "  File \"C:\\Users\\antho\\AppData\\Roaming\\Python\\Python39\\site-packages\\sklearn\\metrics\\_scorer.py\", line 355, in _score\n",
      "    return self._sign * self._score_func(y_true, y_pred, **scoring_kwargs)\n",
      "  File \"C:\\Users\\antho\\AppData\\Roaming\\Python\\Python39\\site-packages\\sklearn\\utils\\_param_validation.py\", line 214, in wrapper\n",
      "    return func(*args, **kwargs)\n",
      "  File \"C:\\Users\\antho\\AppData\\Roaming\\Python\\Python39\\site-packages\\sklearn\\metrics\\_classification.py\", line 2304, in recall_score\n",
      "    _, r, _, _ = precision_recall_fscore_support(\n",
      "  File \"C:\\Users\\antho\\AppData\\Roaming\\Python\\Python39\\site-packages\\sklearn\\utils\\_param_validation.py\", line 187, in wrapper\n",
      "    return func(*args, **kwargs)\n",
      "  File \"C:\\Users\\antho\\AppData\\Roaming\\Python\\Python39\\site-packages\\sklearn\\metrics\\_classification.py\", line 1724, in precision_recall_fscore_support\n",
      "    labels = _check_set_wise_labels(y_true, y_pred, average, labels, pos_label)\n",
      "  File \"C:\\Users\\antho\\AppData\\Roaming\\Python\\Python39\\site-packages\\sklearn\\metrics\\_classification.py\", line 1518, in _check_set_wise_labels\n",
      "    raise ValueError(\n",
      "ValueError: Target is multiclass but average='binary'. Please choose another average setting, one of [None, 'micro', 'macro', 'weighted'].\n",
      "\n",
      "  warnings.warn(\n",
      "C:\\Users\\antho\\anaconda3\\lib\\site-packages\\xgboost\\core.py:158: UserWarning: [16:59:18] WARNING: C:\\buildkite-agent\\builds\\buildkite-windows-cpu-autoscaling-group-i-06abd128ca6c1688d-1\\xgboost\\xgboost-ci-windows\\src\\learner.cc:740: \n",
      "Parameters: { \"use_label_encoder\" } are not used.\n",
      "\n",
      "  warnings.warn(smsg, UserWarning)\n",
      "C:\\Users\\antho\\AppData\\Roaming\\Python\\Python39\\site-packages\\sklearn\\model_selection\\_validation.py:821: UserWarning: Scoring failed. The score on this train-test partition for these parameters will be set to nan. Details: \n",
      "Traceback (most recent call last):\n",
      "  File \"C:\\Users\\antho\\AppData\\Roaming\\Python\\Python39\\site-packages\\sklearn\\model_selection\\_validation.py\", line 810, in _score\n",
      "    scores = scorer(estimator, X_test, y_test)\n",
      "  File \"C:\\Users\\antho\\AppData\\Roaming\\Python\\Python39\\site-packages\\sklearn\\metrics\\_scorer.py\", line 266, in __call__\n",
      "    return self._score(partial(_cached_call, None), estimator, X, y_true, **_kwargs)\n",
      "  File \"C:\\Users\\antho\\AppData\\Roaming\\Python\\Python39\\site-packages\\sklearn\\metrics\\_scorer.py\", line 355, in _score\n",
      "    return self._sign * self._score_func(y_true, y_pred, **scoring_kwargs)\n",
      "  File \"C:\\Users\\antho\\AppData\\Roaming\\Python\\Python39\\site-packages\\sklearn\\utils\\_param_validation.py\", line 214, in wrapper\n",
      "    return func(*args, **kwargs)\n",
      "  File \"C:\\Users\\antho\\AppData\\Roaming\\Python\\Python39\\site-packages\\sklearn\\metrics\\_classification.py\", line 2304, in recall_score\n",
      "    _, r, _, _ = precision_recall_fscore_support(\n",
      "  File \"C:\\Users\\antho\\AppData\\Roaming\\Python\\Python39\\site-packages\\sklearn\\utils\\_param_validation.py\", line 187, in wrapper\n",
      "    return func(*args, **kwargs)\n",
      "  File \"C:\\Users\\antho\\AppData\\Roaming\\Python\\Python39\\site-packages\\sklearn\\metrics\\_classification.py\", line 1724, in precision_recall_fscore_support\n",
      "    labels = _check_set_wise_labels(y_true, y_pred, average, labels, pos_label)\n",
      "  File \"C:\\Users\\antho\\AppData\\Roaming\\Python\\Python39\\site-packages\\sklearn\\metrics\\_classification.py\", line 1518, in _check_set_wise_labels\n",
      "    raise ValueError(\n",
      "ValueError: Target is multiclass but average='binary'. Please choose another average setting, one of [None, 'micro', 'macro', 'weighted'].\n",
      "\n",
      "  warnings.warn(\n",
      "C:\\Users\\antho\\anaconda3\\lib\\site-packages\\xgboost\\core.py:158: UserWarning: [16:59:18] WARNING: C:\\buildkite-agent\\builds\\buildkite-windows-cpu-autoscaling-group-i-06abd128ca6c1688d-1\\xgboost\\xgboost-ci-windows\\src\\learner.cc:740: \n",
      "Parameters: { \"use_label_encoder\" } are not used.\n",
      "\n",
      "  warnings.warn(smsg, UserWarning)\n",
      "C:\\Users\\antho\\AppData\\Roaming\\Python\\Python39\\site-packages\\sklearn\\model_selection\\_validation.py:821: UserWarning: Scoring failed. The score on this train-test partition for these parameters will be set to nan. Details: \n",
      "Traceback (most recent call last):\n",
      "  File \"C:\\Users\\antho\\AppData\\Roaming\\Python\\Python39\\site-packages\\sklearn\\model_selection\\_validation.py\", line 810, in _score\n",
      "    scores = scorer(estimator, X_test, y_test)\n",
      "  File \"C:\\Users\\antho\\AppData\\Roaming\\Python\\Python39\\site-packages\\sklearn\\metrics\\_scorer.py\", line 266, in __call__\n",
      "    return self._score(partial(_cached_call, None), estimator, X, y_true, **_kwargs)\n",
      "  File \"C:\\Users\\antho\\AppData\\Roaming\\Python\\Python39\\site-packages\\sklearn\\metrics\\_scorer.py\", line 355, in _score\n",
      "    return self._sign * self._score_func(y_true, y_pred, **scoring_kwargs)\n",
      "  File \"C:\\Users\\antho\\AppData\\Roaming\\Python\\Python39\\site-packages\\sklearn\\utils\\_param_validation.py\", line 214, in wrapper\n",
      "    return func(*args, **kwargs)\n",
      "  File \"C:\\Users\\antho\\AppData\\Roaming\\Python\\Python39\\site-packages\\sklearn\\metrics\\_classification.py\", line 2304, in recall_score\n",
      "    _, r, _, _ = precision_recall_fscore_support(\n",
      "  File \"C:\\Users\\antho\\AppData\\Roaming\\Python\\Python39\\site-packages\\sklearn\\utils\\_param_validation.py\", line 187, in wrapper\n",
      "    return func(*args, **kwargs)\n",
      "  File \"C:\\Users\\antho\\AppData\\Roaming\\Python\\Python39\\site-packages\\sklearn\\metrics\\_classification.py\", line 1724, in precision_recall_fscore_support\n",
      "    labels = _check_set_wise_labels(y_true, y_pred, average, labels, pos_label)\n",
      "  File \"C:\\Users\\antho\\AppData\\Roaming\\Python\\Python39\\site-packages\\sklearn\\metrics\\_classification.py\", line 1518, in _check_set_wise_labels\n",
      "    raise ValueError(\n",
      "ValueError: Target is multiclass but average='binary'. Please choose another average setting, one of [None, 'micro', 'macro', 'weighted'].\n",
      "\n",
      "  warnings.warn(\n",
      "C:\\Users\\antho\\anaconda3\\lib\\site-packages\\xgboost\\core.py:158: UserWarning: [16:59:18] WARNING: C:\\buildkite-agent\\builds\\buildkite-windows-cpu-autoscaling-group-i-06abd128ca6c1688d-1\\xgboost\\xgboost-ci-windows\\src\\learner.cc:740: \n",
      "Parameters: { \"use_label_encoder\" } are not used.\n",
      "\n",
      "  warnings.warn(smsg, UserWarning)\n"
     ]
    },
    {
     "name": "stderr",
     "output_type": "stream",
     "text": [
      "C:\\Users\\antho\\AppData\\Roaming\\Python\\Python39\\site-packages\\sklearn\\model_selection\\_validation.py:821: UserWarning: Scoring failed. The score on this train-test partition for these parameters will be set to nan. Details: \n",
      "Traceback (most recent call last):\n",
      "  File \"C:\\Users\\antho\\AppData\\Roaming\\Python\\Python39\\site-packages\\sklearn\\model_selection\\_validation.py\", line 810, in _score\n",
      "    scores = scorer(estimator, X_test, y_test)\n",
      "  File \"C:\\Users\\antho\\AppData\\Roaming\\Python\\Python39\\site-packages\\sklearn\\metrics\\_scorer.py\", line 266, in __call__\n",
      "    return self._score(partial(_cached_call, None), estimator, X, y_true, **_kwargs)\n",
      "  File \"C:\\Users\\antho\\AppData\\Roaming\\Python\\Python39\\site-packages\\sklearn\\metrics\\_scorer.py\", line 355, in _score\n",
      "    return self._sign * self._score_func(y_true, y_pred, **scoring_kwargs)\n",
      "  File \"C:\\Users\\antho\\AppData\\Roaming\\Python\\Python39\\site-packages\\sklearn\\utils\\_param_validation.py\", line 214, in wrapper\n",
      "    return func(*args, **kwargs)\n",
      "  File \"C:\\Users\\antho\\AppData\\Roaming\\Python\\Python39\\site-packages\\sklearn\\metrics\\_classification.py\", line 2304, in recall_score\n",
      "    _, r, _, _ = precision_recall_fscore_support(\n",
      "  File \"C:\\Users\\antho\\AppData\\Roaming\\Python\\Python39\\site-packages\\sklearn\\utils\\_param_validation.py\", line 187, in wrapper\n",
      "    return func(*args, **kwargs)\n",
      "  File \"C:\\Users\\antho\\AppData\\Roaming\\Python\\Python39\\site-packages\\sklearn\\metrics\\_classification.py\", line 1724, in precision_recall_fscore_support\n",
      "    labels = _check_set_wise_labels(y_true, y_pred, average, labels, pos_label)\n",
      "  File \"C:\\Users\\antho\\AppData\\Roaming\\Python\\Python39\\site-packages\\sklearn\\metrics\\_classification.py\", line 1518, in _check_set_wise_labels\n",
      "    raise ValueError(\n",
      "ValueError: Target is multiclass but average='binary'. Please choose another average setting, one of [None, 'micro', 'macro', 'weighted'].\n",
      "\n",
      "  warnings.warn(\n",
      "C:\\Users\\antho\\anaconda3\\lib\\site-packages\\xgboost\\core.py:158: UserWarning: [16:59:18] WARNING: C:\\buildkite-agent\\builds\\buildkite-windows-cpu-autoscaling-group-i-06abd128ca6c1688d-1\\xgboost\\xgboost-ci-windows\\src\\learner.cc:740: \n",
      "Parameters: { \"use_label_encoder\" } are not used.\n",
      "\n",
      "  warnings.warn(smsg, UserWarning)\n",
      "C:\\Users\\antho\\AppData\\Roaming\\Python\\Python39\\site-packages\\sklearn\\model_selection\\_validation.py:821: UserWarning: Scoring failed. The score on this train-test partition for these parameters will be set to nan. Details: \n",
      "Traceback (most recent call last):\n",
      "  File \"C:\\Users\\antho\\AppData\\Roaming\\Python\\Python39\\site-packages\\sklearn\\model_selection\\_validation.py\", line 810, in _score\n",
      "    scores = scorer(estimator, X_test, y_test)\n",
      "  File \"C:\\Users\\antho\\AppData\\Roaming\\Python\\Python39\\site-packages\\sklearn\\metrics\\_scorer.py\", line 266, in __call__\n",
      "    return self._score(partial(_cached_call, None), estimator, X, y_true, **_kwargs)\n",
      "  File \"C:\\Users\\antho\\AppData\\Roaming\\Python\\Python39\\site-packages\\sklearn\\metrics\\_scorer.py\", line 355, in _score\n",
      "    return self._sign * self._score_func(y_true, y_pred, **scoring_kwargs)\n",
      "  File \"C:\\Users\\antho\\AppData\\Roaming\\Python\\Python39\\site-packages\\sklearn\\utils\\_param_validation.py\", line 214, in wrapper\n",
      "    return func(*args, **kwargs)\n",
      "  File \"C:\\Users\\antho\\AppData\\Roaming\\Python\\Python39\\site-packages\\sklearn\\metrics\\_classification.py\", line 2304, in recall_score\n",
      "    _, r, _, _ = precision_recall_fscore_support(\n",
      "  File \"C:\\Users\\antho\\AppData\\Roaming\\Python\\Python39\\site-packages\\sklearn\\utils\\_param_validation.py\", line 187, in wrapper\n",
      "    return func(*args, **kwargs)\n",
      "  File \"C:\\Users\\antho\\AppData\\Roaming\\Python\\Python39\\site-packages\\sklearn\\metrics\\_classification.py\", line 1724, in precision_recall_fscore_support\n",
      "    labels = _check_set_wise_labels(y_true, y_pred, average, labels, pos_label)\n",
      "  File \"C:\\Users\\antho\\AppData\\Roaming\\Python\\Python39\\site-packages\\sklearn\\metrics\\_classification.py\", line 1518, in _check_set_wise_labels\n",
      "    raise ValueError(\n",
      "ValueError: Target is multiclass but average='binary'. Please choose another average setting, one of [None, 'micro', 'macro', 'weighted'].\n",
      "\n",
      "  warnings.warn(\n",
      "C:\\Users\\antho\\anaconda3\\lib\\site-packages\\xgboost\\core.py:158: UserWarning: [16:59:18] WARNING: C:\\buildkite-agent\\builds\\buildkite-windows-cpu-autoscaling-group-i-06abd128ca6c1688d-1\\xgboost\\xgboost-ci-windows\\src\\learner.cc:740: \n",
      "Parameters: { \"use_label_encoder\" } are not used.\n",
      "\n",
      "  warnings.warn(smsg, UserWarning)\n",
      "C:\\Users\\antho\\AppData\\Roaming\\Python\\Python39\\site-packages\\sklearn\\model_selection\\_validation.py:821: UserWarning: Scoring failed. The score on this train-test partition for these parameters will be set to nan. Details: \n",
      "Traceback (most recent call last):\n",
      "  File \"C:\\Users\\antho\\AppData\\Roaming\\Python\\Python39\\site-packages\\sklearn\\model_selection\\_validation.py\", line 810, in _score\n",
      "    scores = scorer(estimator, X_test, y_test)\n",
      "  File \"C:\\Users\\antho\\AppData\\Roaming\\Python\\Python39\\site-packages\\sklearn\\metrics\\_scorer.py\", line 266, in __call__\n",
      "    return self._score(partial(_cached_call, None), estimator, X, y_true, **_kwargs)\n",
      "  File \"C:\\Users\\antho\\AppData\\Roaming\\Python\\Python39\\site-packages\\sklearn\\metrics\\_scorer.py\", line 355, in _score\n",
      "    return self._sign * self._score_func(y_true, y_pred, **scoring_kwargs)\n",
      "  File \"C:\\Users\\antho\\AppData\\Roaming\\Python\\Python39\\site-packages\\sklearn\\utils\\_param_validation.py\", line 214, in wrapper\n",
      "    return func(*args, **kwargs)\n",
      "  File \"C:\\Users\\antho\\AppData\\Roaming\\Python\\Python39\\site-packages\\sklearn\\metrics\\_classification.py\", line 2304, in recall_score\n",
      "    _, r, _, _ = precision_recall_fscore_support(\n",
      "  File \"C:\\Users\\antho\\AppData\\Roaming\\Python\\Python39\\site-packages\\sklearn\\utils\\_param_validation.py\", line 187, in wrapper\n",
      "    return func(*args, **kwargs)\n",
      "  File \"C:\\Users\\antho\\AppData\\Roaming\\Python\\Python39\\site-packages\\sklearn\\metrics\\_classification.py\", line 1724, in precision_recall_fscore_support\n",
      "    labels = _check_set_wise_labels(y_true, y_pred, average, labels, pos_label)\n",
      "  File \"C:\\Users\\antho\\AppData\\Roaming\\Python\\Python39\\site-packages\\sklearn\\metrics\\_classification.py\", line 1518, in _check_set_wise_labels\n",
      "    raise ValueError(\n",
      "ValueError: Target is multiclass but average='binary'. Please choose another average setting, one of [None, 'micro', 'macro', 'weighted'].\n",
      "\n",
      "  warnings.warn(\n",
      "C:\\Users\\antho\\anaconda3\\lib\\site-packages\\xgboost\\core.py:158: UserWarning: [16:59:19] WARNING: C:\\buildkite-agent\\builds\\buildkite-windows-cpu-autoscaling-group-i-06abd128ca6c1688d-1\\xgboost\\xgboost-ci-windows\\src\\learner.cc:740: \n",
      "Parameters: { \"use_label_encoder\" } are not used.\n",
      "\n",
      "  warnings.warn(smsg, UserWarning)\n",
      "C:\\Users\\antho\\AppData\\Roaming\\Python\\Python39\\site-packages\\sklearn\\model_selection\\_validation.py:821: UserWarning: Scoring failed. The score on this train-test partition for these parameters will be set to nan. Details: \n",
      "Traceback (most recent call last):\n",
      "  File \"C:\\Users\\antho\\AppData\\Roaming\\Python\\Python39\\site-packages\\sklearn\\model_selection\\_validation.py\", line 810, in _score\n",
      "    scores = scorer(estimator, X_test, y_test)\n",
      "  File \"C:\\Users\\antho\\AppData\\Roaming\\Python\\Python39\\site-packages\\sklearn\\metrics\\_scorer.py\", line 266, in __call__\n",
      "    return self._score(partial(_cached_call, None), estimator, X, y_true, **_kwargs)\n",
      "  File \"C:\\Users\\antho\\AppData\\Roaming\\Python\\Python39\\site-packages\\sklearn\\metrics\\_scorer.py\", line 355, in _score\n",
      "    return self._sign * self._score_func(y_true, y_pred, **scoring_kwargs)\n",
      "  File \"C:\\Users\\antho\\AppData\\Roaming\\Python\\Python39\\site-packages\\sklearn\\utils\\_param_validation.py\", line 214, in wrapper\n",
      "    return func(*args, **kwargs)\n",
      "  File \"C:\\Users\\antho\\AppData\\Roaming\\Python\\Python39\\site-packages\\sklearn\\metrics\\_classification.py\", line 2304, in recall_score\n",
      "    _, r, _, _ = precision_recall_fscore_support(\n",
      "  File \"C:\\Users\\antho\\AppData\\Roaming\\Python\\Python39\\site-packages\\sklearn\\utils\\_param_validation.py\", line 187, in wrapper\n",
      "    return func(*args, **kwargs)\n",
      "  File \"C:\\Users\\antho\\AppData\\Roaming\\Python\\Python39\\site-packages\\sklearn\\metrics\\_classification.py\", line 1724, in precision_recall_fscore_support\n",
      "    labels = _check_set_wise_labels(y_true, y_pred, average, labels, pos_label)\n",
      "  File \"C:\\Users\\antho\\AppData\\Roaming\\Python\\Python39\\site-packages\\sklearn\\metrics\\_classification.py\", line 1518, in _check_set_wise_labels\n",
      "    raise ValueError(\n",
      "ValueError: Target is multiclass but average='binary'. Please choose another average setting, one of [None, 'micro', 'macro', 'weighted'].\n",
      "\n",
      "  warnings.warn(\n",
      "C:\\Users\\antho\\anaconda3\\lib\\site-packages\\xgboost\\core.py:158: UserWarning: [16:59:19] WARNING: C:\\buildkite-agent\\builds\\buildkite-windows-cpu-autoscaling-group-i-06abd128ca6c1688d-1\\xgboost\\xgboost-ci-windows\\src\\learner.cc:740: \n",
      "Parameters: { \"use_label_encoder\" } are not used.\n",
      "\n",
      "  warnings.warn(smsg, UserWarning)\n"
     ]
    },
    {
     "name": "stderr",
     "output_type": "stream",
     "text": [
      "C:\\Users\\antho\\AppData\\Roaming\\Python\\Python39\\site-packages\\sklearn\\model_selection\\_validation.py:821: UserWarning: Scoring failed. The score on this train-test partition for these parameters will be set to nan. Details: \n",
      "Traceback (most recent call last):\n",
      "  File \"C:\\Users\\antho\\AppData\\Roaming\\Python\\Python39\\site-packages\\sklearn\\model_selection\\_validation.py\", line 810, in _score\n",
      "    scores = scorer(estimator, X_test, y_test)\n",
      "  File \"C:\\Users\\antho\\AppData\\Roaming\\Python\\Python39\\site-packages\\sklearn\\metrics\\_scorer.py\", line 266, in __call__\n",
      "    return self._score(partial(_cached_call, None), estimator, X, y_true, **_kwargs)\n",
      "  File \"C:\\Users\\antho\\AppData\\Roaming\\Python\\Python39\\site-packages\\sklearn\\metrics\\_scorer.py\", line 355, in _score\n",
      "    return self._sign * self._score_func(y_true, y_pred, **scoring_kwargs)\n",
      "  File \"C:\\Users\\antho\\AppData\\Roaming\\Python\\Python39\\site-packages\\sklearn\\utils\\_param_validation.py\", line 214, in wrapper\n",
      "    return func(*args, **kwargs)\n",
      "  File \"C:\\Users\\antho\\AppData\\Roaming\\Python\\Python39\\site-packages\\sklearn\\metrics\\_classification.py\", line 2304, in recall_score\n",
      "    _, r, _, _ = precision_recall_fscore_support(\n",
      "  File \"C:\\Users\\antho\\AppData\\Roaming\\Python\\Python39\\site-packages\\sklearn\\utils\\_param_validation.py\", line 187, in wrapper\n",
      "    return func(*args, **kwargs)\n",
      "  File \"C:\\Users\\antho\\AppData\\Roaming\\Python\\Python39\\site-packages\\sklearn\\metrics\\_classification.py\", line 1724, in precision_recall_fscore_support\n",
      "    labels = _check_set_wise_labels(y_true, y_pred, average, labels, pos_label)\n",
      "  File \"C:\\Users\\antho\\AppData\\Roaming\\Python\\Python39\\site-packages\\sklearn\\metrics\\_classification.py\", line 1518, in _check_set_wise_labels\n",
      "    raise ValueError(\n",
      "ValueError: Target is multiclass but average='binary'. Please choose another average setting, one of [None, 'micro', 'macro', 'weighted'].\n",
      "\n",
      "  warnings.warn(\n",
      "C:\\Users\\antho\\anaconda3\\lib\\site-packages\\xgboost\\core.py:158: UserWarning: [16:59:19] WARNING: C:\\buildkite-agent\\builds\\buildkite-windows-cpu-autoscaling-group-i-06abd128ca6c1688d-1\\xgboost\\xgboost-ci-windows\\src\\learner.cc:740: \n",
      "Parameters: { \"use_label_encoder\" } are not used.\n",
      "\n",
      "  warnings.warn(smsg, UserWarning)\n",
      "C:\\Users\\antho\\AppData\\Roaming\\Python\\Python39\\site-packages\\sklearn\\model_selection\\_validation.py:821: UserWarning: Scoring failed. The score on this train-test partition for these parameters will be set to nan. Details: \n",
      "Traceback (most recent call last):\n",
      "  File \"C:\\Users\\antho\\AppData\\Roaming\\Python\\Python39\\site-packages\\sklearn\\model_selection\\_validation.py\", line 810, in _score\n",
      "    scores = scorer(estimator, X_test, y_test)\n",
      "  File \"C:\\Users\\antho\\AppData\\Roaming\\Python\\Python39\\site-packages\\sklearn\\metrics\\_scorer.py\", line 266, in __call__\n",
      "    return self._score(partial(_cached_call, None), estimator, X, y_true, **_kwargs)\n",
      "  File \"C:\\Users\\antho\\AppData\\Roaming\\Python\\Python39\\site-packages\\sklearn\\metrics\\_scorer.py\", line 355, in _score\n",
      "    return self._sign * self._score_func(y_true, y_pred, **scoring_kwargs)\n",
      "  File \"C:\\Users\\antho\\AppData\\Roaming\\Python\\Python39\\site-packages\\sklearn\\utils\\_param_validation.py\", line 214, in wrapper\n",
      "    return func(*args, **kwargs)\n",
      "  File \"C:\\Users\\antho\\AppData\\Roaming\\Python\\Python39\\site-packages\\sklearn\\metrics\\_classification.py\", line 2304, in recall_score\n",
      "    _, r, _, _ = precision_recall_fscore_support(\n",
      "  File \"C:\\Users\\antho\\AppData\\Roaming\\Python\\Python39\\site-packages\\sklearn\\utils\\_param_validation.py\", line 187, in wrapper\n",
      "    return func(*args, **kwargs)\n",
      "  File \"C:\\Users\\antho\\AppData\\Roaming\\Python\\Python39\\site-packages\\sklearn\\metrics\\_classification.py\", line 1724, in precision_recall_fscore_support\n",
      "    labels = _check_set_wise_labels(y_true, y_pred, average, labels, pos_label)\n",
      "  File \"C:\\Users\\antho\\AppData\\Roaming\\Python\\Python39\\site-packages\\sklearn\\metrics\\_classification.py\", line 1518, in _check_set_wise_labels\n",
      "    raise ValueError(\n",
      "ValueError: Target is multiclass but average='binary'. Please choose another average setting, one of [None, 'micro', 'macro', 'weighted'].\n",
      "\n",
      "  warnings.warn(\n",
      "C:\\Users\\antho\\anaconda3\\lib\\site-packages\\xgboost\\core.py:158: UserWarning: [16:59:19] WARNING: C:\\buildkite-agent\\builds\\buildkite-windows-cpu-autoscaling-group-i-06abd128ca6c1688d-1\\xgboost\\xgboost-ci-windows\\src\\learner.cc:740: \n",
      "Parameters: { \"use_label_encoder\" } are not used.\n",
      "\n",
      "  warnings.warn(smsg, UserWarning)\n",
      "C:\\Users\\antho\\AppData\\Roaming\\Python\\Python39\\site-packages\\sklearn\\model_selection\\_validation.py:821: UserWarning: Scoring failed. The score on this train-test partition for these parameters will be set to nan. Details: \n",
      "Traceback (most recent call last):\n",
      "  File \"C:\\Users\\antho\\AppData\\Roaming\\Python\\Python39\\site-packages\\sklearn\\model_selection\\_validation.py\", line 810, in _score\n",
      "    scores = scorer(estimator, X_test, y_test)\n",
      "  File \"C:\\Users\\antho\\AppData\\Roaming\\Python\\Python39\\site-packages\\sklearn\\metrics\\_scorer.py\", line 266, in __call__\n",
      "    return self._score(partial(_cached_call, None), estimator, X, y_true, **_kwargs)\n",
      "  File \"C:\\Users\\antho\\AppData\\Roaming\\Python\\Python39\\site-packages\\sklearn\\metrics\\_scorer.py\", line 355, in _score\n",
      "    return self._sign * self._score_func(y_true, y_pred, **scoring_kwargs)\n",
      "  File \"C:\\Users\\antho\\AppData\\Roaming\\Python\\Python39\\site-packages\\sklearn\\utils\\_param_validation.py\", line 214, in wrapper\n",
      "    return func(*args, **kwargs)\n",
      "  File \"C:\\Users\\antho\\AppData\\Roaming\\Python\\Python39\\site-packages\\sklearn\\metrics\\_classification.py\", line 2304, in recall_score\n",
      "    _, r, _, _ = precision_recall_fscore_support(\n",
      "  File \"C:\\Users\\antho\\AppData\\Roaming\\Python\\Python39\\site-packages\\sklearn\\utils\\_param_validation.py\", line 187, in wrapper\n",
      "    return func(*args, **kwargs)\n",
      "  File \"C:\\Users\\antho\\AppData\\Roaming\\Python\\Python39\\site-packages\\sklearn\\metrics\\_classification.py\", line 1724, in precision_recall_fscore_support\n",
      "    labels = _check_set_wise_labels(y_true, y_pred, average, labels, pos_label)\n",
      "  File \"C:\\Users\\antho\\AppData\\Roaming\\Python\\Python39\\site-packages\\sklearn\\metrics\\_classification.py\", line 1518, in _check_set_wise_labels\n",
      "    raise ValueError(\n",
      "ValueError: Target is multiclass but average='binary'. Please choose another average setting, one of [None, 'micro', 'macro', 'weighted'].\n",
      "\n",
      "  warnings.warn(\n",
      "C:\\Users\\antho\\anaconda3\\lib\\site-packages\\xgboost\\core.py:158: UserWarning: [16:59:19] WARNING: C:\\buildkite-agent\\builds\\buildkite-windows-cpu-autoscaling-group-i-06abd128ca6c1688d-1\\xgboost\\xgboost-ci-windows\\src\\learner.cc:740: \n",
      "Parameters: { \"use_label_encoder\" } are not used.\n",
      "\n",
      "  warnings.warn(smsg, UserWarning)\n",
      "C:\\Users\\antho\\AppData\\Roaming\\Python\\Python39\\site-packages\\sklearn\\model_selection\\_validation.py:821: UserWarning: Scoring failed. The score on this train-test partition for these parameters will be set to nan. Details: \n",
      "Traceback (most recent call last):\n",
      "  File \"C:\\Users\\antho\\AppData\\Roaming\\Python\\Python39\\site-packages\\sklearn\\model_selection\\_validation.py\", line 810, in _score\n",
      "    scores = scorer(estimator, X_test, y_test)\n",
      "  File \"C:\\Users\\antho\\AppData\\Roaming\\Python\\Python39\\site-packages\\sklearn\\metrics\\_scorer.py\", line 266, in __call__\n",
      "    return self._score(partial(_cached_call, None), estimator, X, y_true, **_kwargs)\n",
      "  File \"C:\\Users\\antho\\AppData\\Roaming\\Python\\Python39\\site-packages\\sklearn\\metrics\\_scorer.py\", line 355, in _score\n",
      "    return self._sign * self._score_func(y_true, y_pred, **scoring_kwargs)\n",
      "  File \"C:\\Users\\antho\\AppData\\Roaming\\Python\\Python39\\site-packages\\sklearn\\utils\\_param_validation.py\", line 214, in wrapper\n",
      "    return func(*args, **kwargs)\n",
      "  File \"C:\\Users\\antho\\AppData\\Roaming\\Python\\Python39\\site-packages\\sklearn\\metrics\\_classification.py\", line 2304, in recall_score\n",
      "    _, r, _, _ = precision_recall_fscore_support(\n",
      "  File \"C:\\Users\\antho\\AppData\\Roaming\\Python\\Python39\\site-packages\\sklearn\\utils\\_param_validation.py\", line 187, in wrapper\n",
      "    return func(*args, **kwargs)\n",
      "  File \"C:\\Users\\antho\\AppData\\Roaming\\Python\\Python39\\site-packages\\sklearn\\metrics\\_classification.py\", line 1724, in precision_recall_fscore_support\n",
      "    labels = _check_set_wise_labels(y_true, y_pred, average, labels, pos_label)\n",
      "  File \"C:\\Users\\antho\\AppData\\Roaming\\Python\\Python39\\site-packages\\sklearn\\metrics\\_classification.py\", line 1518, in _check_set_wise_labels\n",
      "    raise ValueError(\n",
      "ValueError: Target is multiclass but average='binary'. Please choose another average setting, one of [None, 'micro', 'macro', 'weighted'].\n",
      "\n",
      "  warnings.warn(\n",
      "C:\\Users\\antho\\anaconda3\\lib\\site-packages\\xgboost\\core.py:158: UserWarning: [16:59:19] WARNING: C:\\buildkite-agent\\builds\\buildkite-windows-cpu-autoscaling-group-i-06abd128ca6c1688d-1\\xgboost\\xgboost-ci-windows\\src\\learner.cc:740: \n",
      "Parameters: { \"use_label_encoder\" } are not used.\n",
      "\n",
      "  warnings.warn(smsg, UserWarning)\n"
     ]
    },
    {
     "name": "stderr",
     "output_type": "stream",
     "text": [
      "C:\\Users\\antho\\AppData\\Roaming\\Python\\Python39\\site-packages\\sklearn\\model_selection\\_validation.py:821: UserWarning: Scoring failed. The score on this train-test partition for these parameters will be set to nan. Details: \n",
      "Traceback (most recent call last):\n",
      "  File \"C:\\Users\\antho\\AppData\\Roaming\\Python\\Python39\\site-packages\\sklearn\\model_selection\\_validation.py\", line 810, in _score\n",
      "    scores = scorer(estimator, X_test, y_test)\n",
      "  File \"C:\\Users\\antho\\AppData\\Roaming\\Python\\Python39\\site-packages\\sklearn\\metrics\\_scorer.py\", line 266, in __call__\n",
      "    return self._score(partial(_cached_call, None), estimator, X, y_true, **_kwargs)\n",
      "  File \"C:\\Users\\antho\\AppData\\Roaming\\Python\\Python39\\site-packages\\sklearn\\metrics\\_scorer.py\", line 355, in _score\n",
      "    return self._sign * self._score_func(y_true, y_pred, **scoring_kwargs)\n",
      "  File \"C:\\Users\\antho\\AppData\\Roaming\\Python\\Python39\\site-packages\\sklearn\\utils\\_param_validation.py\", line 214, in wrapper\n",
      "    return func(*args, **kwargs)\n",
      "  File \"C:\\Users\\antho\\AppData\\Roaming\\Python\\Python39\\site-packages\\sklearn\\metrics\\_classification.py\", line 2304, in recall_score\n",
      "    _, r, _, _ = precision_recall_fscore_support(\n",
      "  File \"C:\\Users\\antho\\AppData\\Roaming\\Python\\Python39\\site-packages\\sklearn\\utils\\_param_validation.py\", line 187, in wrapper\n",
      "    return func(*args, **kwargs)\n",
      "  File \"C:\\Users\\antho\\AppData\\Roaming\\Python\\Python39\\site-packages\\sklearn\\metrics\\_classification.py\", line 1724, in precision_recall_fscore_support\n",
      "    labels = _check_set_wise_labels(y_true, y_pred, average, labels, pos_label)\n",
      "  File \"C:\\Users\\antho\\AppData\\Roaming\\Python\\Python39\\site-packages\\sklearn\\metrics\\_classification.py\", line 1518, in _check_set_wise_labels\n",
      "    raise ValueError(\n",
      "ValueError: Target is multiclass but average='binary'. Please choose another average setting, one of [None, 'micro', 'macro', 'weighted'].\n",
      "\n",
      "  warnings.warn(\n",
      "C:\\Users\\antho\\anaconda3\\lib\\site-packages\\xgboost\\core.py:158: UserWarning: [16:59:19] WARNING: C:\\buildkite-agent\\builds\\buildkite-windows-cpu-autoscaling-group-i-06abd128ca6c1688d-1\\xgboost\\xgboost-ci-windows\\src\\learner.cc:740: \n",
      "Parameters: { \"use_label_encoder\" } are not used.\n",
      "\n",
      "  warnings.warn(smsg, UserWarning)\n",
      "C:\\Users\\antho\\AppData\\Roaming\\Python\\Python39\\site-packages\\sklearn\\model_selection\\_validation.py:821: UserWarning: Scoring failed. The score on this train-test partition for these parameters will be set to nan. Details: \n",
      "Traceback (most recent call last):\n",
      "  File \"C:\\Users\\antho\\AppData\\Roaming\\Python\\Python39\\site-packages\\sklearn\\model_selection\\_validation.py\", line 810, in _score\n",
      "    scores = scorer(estimator, X_test, y_test)\n",
      "  File \"C:\\Users\\antho\\AppData\\Roaming\\Python\\Python39\\site-packages\\sklearn\\metrics\\_scorer.py\", line 266, in __call__\n",
      "    return self._score(partial(_cached_call, None), estimator, X, y_true, **_kwargs)\n",
      "  File \"C:\\Users\\antho\\AppData\\Roaming\\Python\\Python39\\site-packages\\sklearn\\metrics\\_scorer.py\", line 355, in _score\n",
      "    return self._sign * self._score_func(y_true, y_pred, **scoring_kwargs)\n",
      "  File \"C:\\Users\\antho\\AppData\\Roaming\\Python\\Python39\\site-packages\\sklearn\\utils\\_param_validation.py\", line 214, in wrapper\n",
      "    return func(*args, **kwargs)\n",
      "  File \"C:\\Users\\antho\\AppData\\Roaming\\Python\\Python39\\site-packages\\sklearn\\metrics\\_classification.py\", line 2304, in recall_score\n",
      "    _, r, _, _ = precision_recall_fscore_support(\n",
      "  File \"C:\\Users\\antho\\AppData\\Roaming\\Python\\Python39\\site-packages\\sklearn\\utils\\_param_validation.py\", line 187, in wrapper\n",
      "    return func(*args, **kwargs)\n",
      "  File \"C:\\Users\\antho\\AppData\\Roaming\\Python\\Python39\\site-packages\\sklearn\\metrics\\_classification.py\", line 1724, in precision_recall_fscore_support\n",
      "    labels = _check_set_wise_labels(y_true, y_pred, average, labels, pos_label)\n",
      "  File \"C:\\Users\\antho\\AppData\\Roaming\\Python\\Python39\\site-packages\\sklearn\\metrics\\_classification.py\", line 1518, in _check_set_wise_labels\n",
      "    raise ValueError(\n",
      "ValueError: Target is multiclass but average='binary'. Please choose another average setting, one of [None, 'micro', 'macro', 'weighted'].\n",
      "\n",
      "  warnings.warn(\n",
      "C:\\Users\\antho\\anaconda3\\lib\\site-packages\\xgboost\\core.py:158: UserWarning: [16:59:19] WARNING: C:\\buildkite-agent\\builds\\buildkite-windows-cpu-autoscaling-group-i-06abd128ca6c1688d-1\\xgboost\\xgboost-ci-windows\\src\\learner.cc:740: \n",
      "Parameters: { \"use_label_encoder\" } are not used.\n",
      "\n",
      "  warnings.warn(smsg, UserWarning)\n",
      "C:\\Users\\antho\\AppData\\Roaming\\Python\\Python39\\site-packages\\sklearn\\model_selection\\_validation.py:821: UserWarning: Scoring failed. The score on this train-test partition for these parameters will be set to nan. Details: \n",
      "Traceback (most recent call last):\n",
      "  File \"C:\\Users\\antho\\AppData\\Roaming\\Python\\Python39\\site-packages\\sklearn\\model_selection\\_validation.py\", line 810, in _score\n",
      "    scores = scorer(estimator, X_test, y_test)\n",
      "  File \"C:\\Users\\antho\\AppData\\Roaming\\Python\\Python39\\site-packages\\sklearn\\metrics\\_scorer.py\", line 266, in __call__\n",
      "    return self._score(partial(_cached_call, None), estimator, X, y_true, **_kwargs)\n",
      "  File \"C:\\Users\\antho\\AppData\\Roaming\\Python\\Python39\\site-packages\\sklearn\\metrics\\_scorer.py\", line 355, in _score\n",
      "    return self._sign * self._score_func(y_true, y_pred, **scoring_kwargs)\n",
      "  File \"C:\\Users\\antho\\AppData\\Roaming\\Python\\Python39\\site-packages\\sklearn\\utils\\_param_validation.py\", line 214, in wrapper\n",
      "    return func(*args, **kwargs)\n",
      "  File \"C:\\Users\\antho\\AppData\\Roaming\\Python\\Python39\\site-packages\\sklearn\\metrics\\_classification.py\", line 2304, in recall_score\n",
      "    _, r, _, _ = precision_recall_fscore_support(\n",
      "  File \"C:\\Users\\antho\\AppData\\Roaming\\Python\\Python39\\site-packages\\sklearn\\utils\\_param_validation.py\", line 187, in wrapper\n",
      "    return func(*args, **kwargs)\n",
      "  File \"C:\\Users\\antho\\AppData\\Roaming\\Python\\Python39\\site-packages\\sklearn\\metrics\\_classification.py\", line 1724, in precision_recall_fscore_support\n",
      "    labels = _check_set_wise_labels(y_true, y_pred, average, labels, pos_label)\n",
      "  File \"C:\\Users\\antho\\AppData\\Roaming\\Python\\Python39\\site-packages\\sklearn\\metrics\\_classification.py\", line 1518, in _check_set_wise_labels\n",
      "    raise ValueError(\n",
      "ValueError: Target is multiclass but average='binary'. Please choose another average setting, one of [None, 'micro', 'macro', 'weighted'].\n",
      "\n",
      "  warnings.warn(\n",
      "C:\\Users\\antho\\anaconda3\\lib\\site-packages\\xgboost\\core.py:158: UserWarning: [16:59:20] WARNING: C:\\buildkite-agent\\builds\\buildkite-windows-cpu-autoscaling-group-i-06abd128ca6c1688d-1\\xgboost\\xgboost-ci-windows\\src\\learner.cc:740: \n",
      "Parameters: { \"use_label_encoder\" } are not used.\n",
      "\n",
      "  warnings.warn(smsg, UserWarning)\n",
      "C:\\Users\\antho\\AppData\\Roaming\\Python\\Python39\\site-packages\\sklearn\\model_selection\\_validation.py:821: UserWarning: Scoring failed. The score on this train-test partition for these parameters will be set to nan. Details: \n",
      "Traceback (most recent call last):\n",
      "  File \"C:\\Users\\antho\\AppData\\Roaming\\Python\\Python39\\site-packages\\sklearn\\model_selection\\_validation.py\", line 810, in _score\n",
      "    scores = scorer(estimator, X_test, y_test)\n",
      "  File \"C:\\Users\\antho\\AppData\\Roaming\\Python\\Python39\\site-packages\\sklearn\\metrics\\_scorer.py\", line 266, in __call__\n",
      "    return self._score(partial(_cached_call, None), estimator, X, y_true, **_kwargs)\n",
      "  File \"C:\\Users\\antho\\AppData\\Roaming\\Python\\Python39\\site-packages\\sklearn\\metrics\\_scorer.py\", line 355, in _score\n",
      "    return self._sign * self._score_func(y_true, y_pred, **scoring_kwargs)\n",
      "  File \"C:\\Users\\antho\\AppData\\Roaming\\Python\\Python39\\site-packages\\sklearn\\utils\\_param_validation.py\", line 214, in wrapper\n",
      "    return func(*args, **kwargs)\n",
      "  File \"C:\\Users\\antho\\AppData\\Roaming\\Python\\Python39\\site-packages\\sklearn\\metrics\\_classification.py\", line 2304, in recall_score\n",
      "    _, r, _, _ = precision_recall_fscore_support(\n",
      "  File \"C:\\Users\\antho\\AppData\\Roaming\\Python\\Python39\\site-packages\\sklearn\\utils\\_param_validation.py\", line 187, in wrapper\n",
      "    return func(*args, **kwargs)\n",
      "  File \"C:\\Users\\antho\\AppData\\Roaming\\Python\\Python39\\site-packages\\sklearn\\metrics\\_classification.py\", line 1724, in precision_recall_fscore_support\n",
      "    labels = _check_set_wise_labels(y_true, y_pred, average, labels, pos_label)\n",
      "  File \"C:\\Users\\antho\\AppData\\Roaming\\Python\\Python39\\site-packages\\sklearn\\metrics\\_classification.py\", line 1518, in _check_set_wise_labels\n",
      "    raise ValueError(\n",
      "ValueError: Target is multiclass but average='binary'. Please choose another average setting, one of [None, 'micro', 'macro', 'weighted'].\n",
      "\n",
      "  warnings.warn(\n",
      "C:\\Users\\antho\\anaconda3\\lib\\site-packages\\xgboost\\core.py:158: UserWarning: [16:59:20] WARNING: C:\\buildkite-agent\\builds\\buildkite-windows-cpu-autoscaling-group-i-06abd128ca6c1688d-1\\xgboost\\xgboost-ci-windows\\src\\learner.cc:740: \n",
      "Parameters: { \"use_label_encoder\" } are not used.\n",
      "\n",
      "  warnings.warn(smsg, UserWarning)\n"
     ]
    },
    {
     "name": "stderr",
     "output_type": "stream",
     "text": [
      "C:\\Users\\antho\\AppData\\Roaming\\Python\\Python39\\site-packages\\sklearn\\model_selection\\_validation.py:821: UserWarning: Scoring failed. The score on this train-test partition for these parameters will be set to nan. Details: \n",
      "Traceback (most recent call last):\n",
      "  File \"C:\\Users\\antho\\AppData\\Roaming\\Python\\Python39\\site-packages\\sklearn\\model_selection\\_validation.py\", line 810, in _score\n",
      "    scores = scorer(estimator, X_test, y_test)\n",
      "  File \"C:\\Users\\antho\\AppData\\Roaming\\Python\\Python39\\site-packages\\sklearn\\metrics\\_scorer.py\", line 266, in __call__\n",
      "    return self._score(partial(_cached_call, None), estimator, X, y_true, **_kwargs)\n",
      "  File \"C:\\Users\\antho\\AppData\\Roaming\\Python\\Python39\\site-packages\\sklearn\\metrics\\_scorer.py\", line 355, in _score\n",
      "    return self._sign * self._score_func(y_true, y_pred, **scoring_kwargs)\n",
      "  File \"C:\\Users\\antho\\AppData\\Roaming\\Python\\Python39\\site-packages\\sklearn\\utils\\_param_validation.py\", line 214, in wrapper\n",
      "    return func(*args, **kwargs)\n",
      "  File \"C:\\Users\\antho\\AppData\\Roaming\\Python\\Python39\\site-packages\\sklearn\\metrics\\_classification.py\", line 2304, in recall_score\n",
      "    _, r, _, _ = precision_recall_fscore_support(\n",
      "  File \"C:\\Users\\antho\\AppData\\Roaming\\Python\\Python39\\site-packages\\sklearn\\utils\\_param_validation.py\", line 187, in wrapper\n",
      "    return func(*args, **kwargs)\n",
      "  File \"C:\\Users\\antho\\AppData\\Roaming\\Python\\Python39\\site-packages\\sklearn\\metrics\\_classification.py\", line 1724, in precision_recall_fscore_support\n",
      "    labels = _check_set_wise_labels(y_true, y_pred, average, labels, pos_label)\n",
      "  File \"C:\\Users\\antho\\AppData\\Roaming\\Python\\Python39\\site-packages\\sklearn\\metrics\\_classification.py\", line 1518, in _check_set_wise_labels\n",
      "    raise ValueError(\n",
      "ValueError: Target is multiclass but average='binary'. Please choose another average setting, one of [None, 'micro', 'macro', 'weighted'].\n",
      "\n",
      "  warnings.warn(\n",
      "C:\\Users\\antho\\anaconda3\\lib\\site-packages\\xgboost\\core.py:158: UserWarning: [16:59:20] WARNING: C:\\buildkite-agent\\builds\\buildkite-windows-cpu-autoscaling-group-i-06abd128ca6c1688d-1\\xgboost\\xgboost-ci-windows\\src\\learner.cc:740: \n",
      "Parameters: { \"use_label_encoder\" } are not used.\n",
      "\n",
      "  warnings.warn(smsg, UserWarning)\n",
      "C:\\Users\\antho\\AppData\\Roaming\\Python\\Python39\\site-packages\\sklearn\\model_selection\\_validation.py:821: UserWarning: Scoring failed. The score on this train-test partition for these parameters will be set to nan. Details: \n",
      "Traceback (most recent call last):\n",
      "  File \"C:\\Users\\antho\\AppData\\Roaming\\Python\\Python39\\site-packages\\sklearn\\model_selection\\_validation.py\", line 810, in _score\n",
      "    scores = scorer(estimator, X_test, y_test)\n",
      "  File \"C:\\Users\\antho\\AppData\\Roaming\\Python\\Python39\\site-packages\\sklearn\\metrics\\_scorer.py\", line 266, in __call__\n",
      "    return self._score(partial(_cached_call, None), estimator, X, y_true, **_kwargs)\n",
      "  File \"C:\\Users\\antho\\AppData\\Roaming\\Python\\Python39\\site-packages\\sklearn\\metrics\\_scorer.py\", line 355, in _score\n",
      "    return self._sign * self._score_func(y_true, y_pred, **scoring_kwargs)\n",
      "  File \"C:\\Users\\antho\\AppData\\Roaming\\Python\\Python39\\site-packages\\sklearn\\utils\\_param_validation.py\", line 214, in wrapper\n",
      "    return func(*args, **kwargs)\n",
      "  File \"C:\\Users\\antho\\AppData\\Roaming\\Python\\Python39\\site-packages\\sklearn\\metrics\\_classification.py\", line 2304, in recall_score\n",
      "    _, r, _, _ = precision_recall_fscore_support(\n",
      "  File \"C:\\Users\\antho\\AppData\\Roaming\\Python\\Python39\\site-packages\\sklearn\\utils\\_param_validation.py\", line 187, in wrapper\n",
      "    return func(*args, **kwargs)\n",
      "  File \"C:\\Users\\antho\\AppData\\Roaming\\Python\\Python39\\site-packages\\sklearn\\metrics\\_classification.py\", line 1724, in precision_recall_fscore_support\n",
      "    labels = _check_set_wise_labels(y_true, y_pred, average, labels, pos_label)\n",
      "  File \"C:\\Users\\antho\\AppData\\Roaming\\Python\\Python39\\site-packages\\sklearn\\metrics\\_classification.py\", line 1518, in _check_set_wise_labels\n",
      "    raise ValueError(\n",
      "ValueError: Target is multiclass but average='binary'. Please choose another average setting, one of [None, 'micro', 'macro', 'weighted'].\n",
      "\n",
      "  warnings.warn(\n",
      "C:\\Users\\antho\\anaconda3\\lib\\site-packages\\xgboost\\core.py:158: UserWarning: [16:59:20] WARNING: C:\\buildkite-agent\\builds\\buildkite-windows-cpu-autoscaling-group-i-06abd128ca6c1688d-1\\xgboost\\xgboost-ci-windows\\src\\learner.cc:740: \n",
      "Parameters: { \"use_label_encoder\" } are not used.\n",
      "\n",
      "  warnings.warn(smsg, UserWarning)\n",
      "C:\\Users\\antho\\AppData\\Roaming\\Python\\Python39\\site-packages\\sklearn\\model_selection\\_validation.py:821: UserWarning: Scoring failed. The score on this train-test partition for these parameters will be set to nan. Details: \n",
      "Traceback (most recent call last):\n",
      "  File \"C:\\Users\\antho\\AppData\\Roaming\\Python\\Python39\\site-packages\\sklearn\\model_selection\\_validation.py\", line 810, in _score\n",
      "    scores = scorer(estimator, X_test, y_test)\n",
      "  File \"C:\\Users\\antho\\AppData\\Roaming\\Python\\Python39\\site-packages\\sklearn\\metrics\\_scorer.py\", line 266, in __call__\n",
      "    return self._score(partial(_cached_call, None), estimator, X, y_true, **_kwargs)\n",
      "  File \"C:\\Users\\antho\\AppData\\Roaming\\Python\\Python39\\site-packages\\sklearn\\metrics\\_scorer.py\", line 355, in _score\n",
      "    return self._sign * self._score_func(y_true, y_pred, **scoring_kwargs)\n",
      "  File \"C:\\Users\\antho\\AppData\\Roaming\\Python\\Python39\\site-packages\\sklearn\\utils\\_param_validation.py\", line 214, in wrapper\n",
      "    return func(*args, **kwargs)\n",
      "  File \"C:\\Users\\antho\\AppData\\Roaming\\Python\\Python39\\site-packages\\sklearn\\metrics\\_classification.py\", line 2304, in recall_score\n",
      "    _, r, _, _ = precision_recall_fscore_support(\n",
      "  File \"C:\\Users\\antho\\AppData\\Roaming\\Python\\Python39\\site-packages\\sklearn\\utils\\_param_validation.py\", line 187, in wrapper\n",
      "    return func(*args, **kwargs)\n",
      "  File \"C:\\Users\\antho\\AppData\\Roaming\\Python\\Python39\\site-packages\\sklearn\\metrics\\_classification.py\", line 1724, in precision_recall_fscore_support\n",
      "    labels = _check_set_wise_labels(y_true, y_pred, average, labels, pos_label)\n",
      "  File \"C:\\Users\\antho\\AppData\\Roaming\\Python\\Python39\\site-packages\\sklearn\\metrics\\_classification.py\", line 1518, in _check_set_wise_labels\n",
      "    raise ValueError(\n",
      "ValueError: Target is multiclass but average='binary'. Please choose another average setting, one of [None, 'micro', 'macro', 'weighted'].\n",
      "\n",
      "  warnings.warn(\n",
      "C:\\Users\\antho\\anaconda3\\lib\\site-packages\\xgboost\\core.py:158: UserWarning: [16:59:20] WARNING: C:\\buildkite-agent\\builds\\buildkite-windows-cpu-autoscaling-group-i-06abd128ca6c1688d-1\\xgboost\\xgboost-ci-windows\\src\\learner.cc:740: \n",
      "Parameters: { \"use_label_encoder\" } are not used.\n",
      "\n",
      "  warnings.warn(smsg, UserWarning)\n",
      "C:\\Users\\antho\\AppData\\Roaming\\Python\\Python39\\site-packages\\sklearn\\model_selection\\_validation.py:821: UserWarning: Scoring failed. The score on this train-test partition for these parameters will be set to nan. Details: \n",
      "Traceback (most recent call last):\n",
      "  File \"C:\\Users\\antho\\AppData\\Roaming\\Python\\Python39\\site-packages\\sklearn\\model_selection\\_validation.py\", line 810, in _score\n",
      "    scores = scorer(estimator, X_test, y_test)\n",
      "  File \"C:\\Users\\antho\\AppData\\Roaming\\Python\\Python39\\site-packages\\sklearn\\metrics\\_scorer.py\", line 266, in __call__\n",
      "    return self._score(partial(_cached_call, None), estimator, X, y_true, **_kwargs)\n",
      "  File \"C:\\Users\\antho\\AppData\\Roaming\\Python\\Python39\\site-packages\\sklearn\\metrics\\_scorer.py\", line 355, in _score\n",
      "    return self._sign * self._score_func(y_true, y_pred, **scoring_kwargs)\n",
      "  File \"C:\\Users\\antho\\AppData\\Roaming\\Python\\Python39\\site-packages\\sklearn\\utils\\_param_validation.py\", line 214, in wrapper\n",
      "    return func(*args, **kwargs)\n",
      "  File \"C:\\Users\\antho\\AppData\\Roaming\\Python\\Python39\\site-packages\\sklearn\\metrics\\_classification.py\", line 2304, in recall_score\n",
      "    _, r, _, _ = precision_recall_fscore_support(\n",
      "  File \"C:\\Users\\antho\\AppData\\Roaming\\Python\\Python39\\site-packages\\sklearn\\utils\\_param_validation.py\", line 187, in wrapper\n",
      "    return func(*args, **kwargs)\n",
      "  File \"C:\\Users\\antho\\AppData\\Roaming\\Python\\Python39\\site-packages\\sklearn\\metrics\\_classification.py\", line 1724, in precision_recall_fscore_support\n",
      "    labels = _check_set_wise_labels(y_true, y_pred, average, labels, pos_label)\n",
      "  File \"C:\\Users\\antho\\AppData\\Roaming\\Python\\Python39\\site-packages\\sklearn\\metrics\\_classification.py\", line 1518, in _check_set_wise_labels\n",
      "    raise ValueError(\n",
      "ValueError: Target is multiclass but average='binary'. Please choose another average setting, one of [None, 'micro', 'macro', 'weighted'].\n",
      "\n",
      "  warnings.warn(\n",
      "C:\\Users\\antho\\anaconda3\\lib\\site-packages\\xgboost\\core.py:158: UserWarning: [16:59:21] WARNING: C:\\buildkite-agent\\builds\\buildkite-windows-cpu-autoscaling-group-i-06abd128ca6c1688d-1\\xgboost\\xgboost-ci-windows\\src\\learner.cc:740: \n",
      "Parameters: { \"use_label_encoder\" } are not used.\n",
      "\n",
      "  warnings.warn(smsg, UserWarning)\n"
     ]
    },
    {
     "name": "stderr",
     "output_type": "stream",
     "text": [
      "C:\\Users\\antho\\AppData\\Roaming\\Python\\Python39\\site-packages\\sklearn\\model_selection\\_validation.py:821: UserWarning: Scoring failed. The score on this train-test partition for these parameters will be set to nan. Details: \n",
      "Traceback (most recent call last):\n",
      "  File \"C:\\Users\\antho\\AppData\\Roaming\\Python\\Python39\\site-packages\\sklearn\\model_selection\\_validation.py\", line 810, in _score\n",
      "    scores = scorer(estimator, X_test, y_test)\n",
      "  File \"C:\\Users\\antho\\AppData\\Roaming\\Python\\Python39\\site-packages\\sklearn\\metrics\\_scorer.py\", line 266, in __call__\n",
      "    return self._score(partial(_cached_call, None), estimator, X, y_true, **_kwargs)\n",
      "  File \"C:\\Users\\antho\\AppData\\Roaming\\Python\\Python39\\site-packages\\sklearn\\metrics\\_scorer.py\", line 355, in _score\n",
      "    return self._sign * self._score_func(y_true, y_pred, **scoring_kwargs)\n",
      "  File \"C:\\Users\\antho\\AppData\\Roaming\\Python\\Python39\\site-packages\\sklearn\\utils\\_param_validation.py\", line 214, in wrapper\n",
      "    return func(*args, **kwargs)\n",
      "  File \"C:\\Users\\antho\\AppData\\Roaming\\Python\\Python39\\site-packages\\sklearn\\metrics\\_classification.py\", line 2304, in recall_score\n",
      "    _, r, _, _ = precision_recall_fscore_support(\n",
      "  File \"C:\\Users\\antho\\AppData\\Roaming\\Python\\Python39\\site-packages\\sklearn\\utils\\_param_validation.py\", line 187, in wrapper\n",
      "    return func(*args, **kwargs)\n",
      "  File \"C:\\Users\\antho\\AppData\\Roaming\\Python\\Python39\\site-packages\\sklearn\\metrics\\_classification.py\", line 1724, in precision_recall_fscore_support\n",
      "    labels = _check_set_wise_labels(y_true, y_pred, average, labels, pos_label)\n",
      "  File \"C:\\Users\\antho\\AppData\\Roaming\\Python\\Python39\\site-packages\\sklearn\\metrics\\_classification.py\", line 1518, in _check_set_wise_labels\n",
      "    raise ValueError(\n",
      "ValueError: Target is multiclass but average='binary'. Please choose another average setting, one of [None, 'micro', 'macro', 'weighted'].\n",
      "\n",
      "  warnings.warn(\n",
      "C:\\Users\\antho\\anaconda3\\lib\\site-packages\\xgboost\\core.py:158: UserWarning: [16:59:21] WARNING: C:\\buildkite-agent\\builds\\buildkite-windows-cpu-autoscaling-group-i-06abd128ca6c1688d-1\\xgboost\\xgboost-ci-windows\\src\\learner.cc:740: \n",
      "Parameters: { \"use_label_encoder\" } are not used.\n",
      "\n",
      "  warnings.warn(smsg, UserWarning)\n",
      "C:\\Users\\antho\\AppData\\Roaming\\Python\\Python39\\site-packages\\sklearn\\model_selection\\_validation.py:821: UserWarning: Scoring failed. The score on this train-test partition for these parameters will be set to nan. Details: \n",
      "Traceback (most recent call last):\n",
      "  File \"C:\\Users\\antho\\AppData\\Roaming\\Python\\Python39\\site-packages\\sklearn\\model_selection\\_validation.py\", line 810, in _score\n",
      "    scores = scorer(estimator, X_test, y_test)\n",
      "  File \"C:\\Users\\antho\\AppData\\Roaming\\Python\\Python39\\site-packages\\sklearn\\metrics\\_scorer.py\", line 266, in __call__\n",
      "    return self._score(partial(_cached_call, None), estimator, X, y_true, **_kwargs)\n",
      "  File \"C:\\Users\\antho\\AppData\\Roaming\\Python\\Python39\\site-packages\\sklearn\\metrics\\_scorer.py\", line 355, in _score\n",
      "    return self._sign * self._score_func(y_true, y_pred, **scoring_kwargs)\n",
      "  File \"C:\\Users\\antho\\AppData\\Roaming\\Python\\Python39\\site-packages\\sklearn\\utils\\_param_validation.py\", line 214, in wrapper\n",
      "    return func(*args, **kwargs)\n",
      "  File \"C:\\Users\\antho\\AppData\\Roaming\\Python\\Python39\\site-packages\\sklearn\\metrics\\_classification.py\", line 2304, in recall_score\n",
      "    _, r, _, _ = precision_recall_fscore_support(\n",
      "  File \"C:\\Users\\antho\\AppData\\Roaming\\Python\\Python39\\site-packages\\sklearn\\utils\\_param_validation.py\", line 187, in wrapper\n",
      "    return func(*args, **kwargs)\n",
      "  File \"C:\\Users\\antho\\AppData\\Roaming\\Python\\Python39\\site-packages\\sklearn\\metrics\\_classification.py\", line 1724, in precision_recall_fscore_support\n",
      "    labels = _check_set_wise_labels(y_true, y_pred, average, labels, pos_label)\n",
      "  File \"C:\\Users\\antho\\AppData\\Roaming\\Python\\Python39\\site-packages\\sklearn\\metrics\\_classification.py\", line 1518, in _check_set_wise_labels\n",
      "    raise ValueError(\n",
      "ValueError: Target is multiclass but average='binary'. Please choose another average setting, one of [None, 'micro', 'macro', 'weighted'].\n",
      "\n",
      "  warnings.warn(\n",
      "C:\\Users\\antho\\anaconda3\\lib\\site-packages\\xgboost\\core.py:158: UserWarning: [16:59:21] WARNING: C:\\buildkite-agent\\builds\\buildkite-windows-cpu-autoscaling-group-i-06abd128ca6c1688d-1\\xgboost\\xgboost-ci-windows\\src\\learner.cc:740: \n",
      "Parameters: { \"use_label_encoder\" } are not used.\n",
      "\n",
      "  warnings.warn(smsg, UserWarning)\n",
      "C:\\Users\\antho\\AppData\\Roaming\\Python\\Python39\\site-packages\\sklearn\\model_selection\\_validation.py:821: UserWarning: Scoring failed. The score on this train-test partition for these parameters will be set to nan. Details: \n",
      "Traceback (most recent call last):\n",
      "  File \"C:\\Users\\antho\\AppData\\Roaming\\Python\\Python39\\site-packages\\sklearn\\model_selection\\_validation.py\", line 810, in _score\n",
      "    scores = scorer(estimator, X_test, y_test)\n",
      "  File \"C:\\Users\\antho\\AppData\\Roaming\\Python\\Python39\\site-packages\\sklearn\\metrics\\_scorer.py\", line 266, in __call__\n",
      "    return self._score(partial(_cached_call, None), estimator, X, y_true, **_kwargs)\n",
      "  File \"C:\\Users\\antho\\AppData\\Roaming\\Python\\Python39\\site-packages\\sklearn\\metrics\\_scorer.py\", line 355, in _score\n",
      "    return self._sign * self._score_func(y_true, y_pred, **scoring_kwargs)\n",
      "  File \"C:\\Users\\antho\\AppData\\Roaming\\Python\\Python39\\site-packages\\sklearn\\utils\\_param_validation.py\", line 214, in wrapper\n",
      "    return func(*args, **kwargs)\n",
      "  File \"C:\\Users\\antho\\AppData\\Roaming\\Python\\Python39\\site-packages\\sklearn\\metrics\\_classification.py\", line 2304, in recall_score\n",
      "    _, r, _, _ = precision_recall_fscore_support(\n",
      "  File \"C:\\Users\\antho\\AppData\\Roaming\\Python\\Python39\\site-packages\\sklearn\\utils\\_param_validation.py\", line 187, in wrapper\n",
      "    return func(*args, **kwargs)\n",
      "  File \"C:\\Users\\antho\\AppData\\Roaming\\Python\\Python39\\site-packages\\sklearn\\metrics\\_classification.py\", line 1724, in precision_recall_fscore_support\n",
      "    labels = _check_set_wise_labels(y_true, y_pred, average, labels, pos_label)\n",
      "  File \"C:\\Users\\antho\\AppData\\Roaming\\Python\\Python39\\site-packages\\sklearn\\metrics\\_classification.py\", line 1518, in _check_set_wise_labels\n",
      "    raise ValueError(\n",
      "ValueError: Target is multiclass but average='binary'. Please choose another average setting, one of [None, 'micro', 'macro', 'weighted'].\n",
      "\n",
      "  warnings.warn(\n",
      "C:\\Users\\antho\\anaconda3\\lib\\site-packages\\xgboost\\core.py:158: UserWarning: [16:59:21] WARNING: C:\\buildkite-agent\\builds\\buildkite-windows-cpu-autoscaling-group-i-06abd128ca6c1688d-1\\xgboost\\xgboost-ci-windows\\src\\learner.cc:740: \n",
      "Parameters: { \"use_label_encoder\" } are not used.\n",
      "\n",
      "  warnings.warn(smsg, UserWarning)\n",
      "C:\\Users\\antho\\AppData\\Roaming\\Python\\Python39\\site-packages\\sklearn\\model_selection\\_validation.py:821: UserWarning: Scoring failed. The score on this train-test partition for these parameters will be set to nan. Details: \n",
      "Traceback (most recent call last):\n",
      "  File \"C:\\Users\\antho\\AppData\\Roaming\\Python\\Python39\\site-packages\\sklearn\\model_selection\\_validation.py\", line 810, in _score\n",
      "    scores = scorer(estimator, X_test, y_test)\n",
      "  File \"C:\\Users\\antho\\AppData\\Roaming\\Python\\Python39\\site-packages\\sklearn\\metrics\\_scorer.py\", line 266, in __call__\n",
      "    return self._score(partial(_cached_call, None), estimator, X, y_true, **_kwargs)\n",
      "  File \"C:\\Users\\antho\\AppData\\Roaming\\Python\\Python39\\site-packages\\sklearn\\metrics\\_scorer.py\", line 355, in _score\n",
      "    return self._sign * self._score_func(y_true, y_pred, **scoring_kwargs)\n",
      "  File \"C:\\Users\\antho\\AppData\\Roaming\\Python\\Python39\\site-packages\\sklearn\\utils\\_param_validation.py\", line 214, in wrapper\n",
      "    return func(*args, **kwargs)\n",
      "  File \"C:\\Users\\antho\\AppData\\Roaming\\Python\\Python39\\site-packages\\sklearn\\metrics\\_classification.py\", line 2304, in recall_score\n",
      "    _, r, _, _ = precision_recall_fscore_support(\n",
      "  File \"C:\\Users\\antho\\AppData\\Roaming\\Python\\Python39\\site-packages\\sklearn\\utils\\_param_validation.py\", line 187, in wrapper\n",
      "    return func(*args, **kwargs)\n",
      "  File \"C:\\Users\\antho\\AppData\\Roaming\\Python\\Python39\\site-packages\\sklearn\\metrics\\_classification.py\", line 1724, in precision_recall_fscore_support\n",
      "    labels = _check_set_wise_labels(y_true, y_pred, average, labels, pos_label)\n",
      "  File \"C:\\Users\\antho\\AppData\\Roaming\\Python\\Python39\\site-packages\\sklearn\\metrics\\_classification.py\", line 1518, in _check_set_wise_labels\n",
      "    raise ValueError(\n",
      "ValueError: Target is multiclass but average='binary'. Please choose another average setting, one of [None, 'micro', 'macro', 'weighted'].\n",
      "\n",
      "  warnings.warn(\n",
      "C:\\Users\\antho\\anaconda3\\lib\\site-packages\\xgboost\\core.py:158: UserWarning: [16:59:21] WARNING: C:\\buildkite-agent\\builds\\buildkite-windows-cpu-autoscaling-group-i-06abd128ca6c1688d-1\\xgboost\\xgboost-ci-windows\\src\\learner.cc:740: \n",
      "Parameters: { \"use_label_encoder\" } are not used.\n",
      "\n",
      "  warnings.warn(smsg, UserWarning)\n",
      "C:\\Users\\antho\\AppData\\Roaming\\Python\\Python39\\site-packages\\sklearn\\model_selection\\_validation.py:821: UserWarning: Scoring failed. The score on this train-test partition for these parameters will be set to nan. Details: \n",
      "Traceback (most recent call last):\n",
      "  File \"C:\\Users\\antho\\AppData\\Roaming\\Python\\Python39\\site-packages\\sklearn\\model_selection\\_validation.py\", line 810, in _score\n",
      "    scores = scorer(estimator, X_test, y_test)\n",
      "  File \"C:\\Users\\antho\\AppData\\Roaming\\Python\\Python39\\site-packages\\sklearn\\metrics\\_scorer.py\", line 266, in __call__\n",
      "    return self._score(partial(_cached_call, None), estimator, X, y_true, **_kwargs)\n",
      "  File \"C:\\Users\\antho\\AppData\\Roaming\\Python\\Python39\\site-packages\\sklearn\\metrics\\_scorer.py\", line 355, in _score\n",
      "    return self._sign * self._score_func(y_true, y_pred, **scoring_kwargs)\n",
      "  File \"C:\\Users\\antho\\AppData\\Roaming\\Python\\Python39\\site-packages\\sklearn\\utils\\_param_validation.py\", line 214, in wrapper\n",
      "    return func(*args, **kwargs)\n",
      "  File \"C:\\Users\\antho\\AppData\\Roaming\\Python\\Python39\\site-packages\\sklearn\\metrics\\_classification.py\", line 2304, in recall_score\n",
      "    _, r, _, _ = precision_recall_fscore_support(\n",
      "  File \"C:\\Users\\antho\\AppData\\Roaming\\Python\\Python39\\site-packages\\sklearn\\utils\\_param_validation.py\", line 187, in wrapper\n",
      "    return func(*args, **kwargs)\n",
      "  File \"C:\\Users\\antho\\AppData\\Roaming\\Python\\Python39\\site-packages\\sklearn\\metrics\\_classification.py\", line 1724, in precision_recall_fscore_support\n",
      "    labels = _check_set_wise_labels(y_true, y_pred, average, labels, pos_label)\n",
      "  File \"C:\\Users\\antho\\AppData\\Roaming\\Python\\Python39\\site-packages\\sklearn\\metrics\\_classification.py\", line 1518, in _check_set_wise_labels\n",
      "    raise ValueError(\n",
      "ValueError: Target is multiclass but average='binary'. Please choose another average setting, one of [None, 'micro', 'macro', 'weighted'].\n",
      "\n",
      "  warnings.warn(\n",
      "C:\\Users\\antho\\anaconda3\\lib\\site-packages\\xgboost\\core.py:158: UserWarning: [16:59:21] WARNING: C:\\buildkite-agent\\builds\\buildkite-windows-cpu-autoscaling-group-i-06abd128ca6c1688d-1\\xgboost\\xgboost-ci-windows\\src\\learner.cc:740: \n",
      "Parameters: { \"use_label_encoder\" } are not used.\n",
      "\n",
      "  warnings.warn(smsg, UserWarning)\n"
     ]
    },
    {
     "name": "stderr",
     "output_type": "stream",
     "text": [
      "C:\\Users\\antho\\AppData\\Roaming\\Python\\Python39\\site-packages\\sklearn\\model_selection\\_validation.py:821: UserWarning: Scoring failed. The score on this train-test partition for these parameters will be set to nan. Details: \n",
      "Traceback (most recent call last):\n",
      "  File \"C:\\Users\\antho\\AppData\\Roaming\\Python\\Python39\\site-packages\\sklearn\\model_selection\\_validation.py\", line 810, in _score\n",
      "    scores = scorer(estimator, X_test, y_test)\n",
      "  File \"C:\\Users\\antho\\AppData\\Roaming\\Python\\Python39\\site-packages\\sklearn\\metrics\\_scorer.py\", line 266, in __call__\n",
      "    return self._score(partial(_cached_call, None), estimator, X, y_true, **_kwargs)\n",
      "  File \"C:\\Users\\antho\\AppData\\Roaming\\Python\\Python39\\site-packages\\sklearn\\metrics\\_scorer.py\", line 355, in _score\n",
      "    return self._sign * self._score_func(y_true, y_pred, **scoring_kwargs)\n",
      "  File \"C:\\Users\\antho\\AppData\\Roaming\\Python\\Python39\\site-packages\\sklearn\\utils\\_param_validation.py\", line 214, in wrapper\n",
      "    return func(*args, **kwargs)\n",
      "  File \"C:\\Users\\antho\\AppData\\Roaming\\Python\\Python39\\site-packages\\sklearn\\metrics\\_classification.py\", line 2304, in recall_score\n",
      "    _, r, _, _ = precision_recall_fscore_support(\n",
      "  File \"C:\\Users\\antho\\AppData\\Roaming\\Python\\Python39\\site-packages\\sklearn\\utils\\_param_validation.py\", line 187, in wrapper\n",
      "    return func(*args, **kwargs)\n",
      "  File \"C:\\Users\\antho\\AppData\\Roaming\\Python\\Python39\\site-packages\\sklearn\\metrics\\_classification.py\", line 1724, in precision_recall_fscore_support\n",
      "    labels = _check_set_wise_labels(y_true, y_pred, average, labels, pos_label)\n",
      "  File \"C:\\Users\\antho\\AppData\\Roaming\\Python\\Python39\\site-packages\\sklearn\\metrics\\_classification.py\", line 1518, in _check_set_wise_labels\n",
      "    raise ValueError(\n",
      "ValueError: Target is multiclass but average='binary'. Please choose another average setting, one of [None, 'micro', 'macro', 'weighted'].\n",
      "\n",
      "  warnings.warn(\n",
      "C:\\Users\\antho\\anaconda3\\lib\\site-packages\\xgboost\\core.py:158: UserWarning: [16:59:21] WARNING: C:\\buildkite-agent\\builds\\buildkite-windows-cpu-autoscaling-group-i-06abd128ca6c1688d-1\\xgboost\\xgboost-ci-windows\\src\\learner.cc:740: \n",
      "Parameters: { \"use_label_encoder\" } are not used.\n",
      "\n",
      "  warnings.warn(smsg, UserWarning)\n",
      "C:\\Users\\antho\\AppData\\Roaming\\Python\\Python39\\site-packages\\sklearn\\model_selection\\_validation.py:821: UserWarning: Scoring failed. The score on this train-test partition for these parameters will be set to nan. Details: \n",
      "Traceback (most recent call last):\n",
      "  File \"C:\\Users\\antho\\AppData\\Roaming\\Python\\Python39\\site-packages\\sklearn\\model_selection\\_validation.py\", line 810, in _score\n",
      "    scores = scorer(estimator, X_test, y_test)\n",
      "  File \"C:\\Users\\antho\\AppData\\Roaming\\Python\\Python39\\site-packages\\sklearn\\metrics\\_scorer.py\", line 266, in __call__\n",
      "    return self._score(partial(_cached_call, None), estimator, X, y_true, **_kwargs)\n",
      "  File \"C:\\Users\\antho\\AppData\\Roaming\\Python\\Python39\\site-packages\\sklearn\\metrics\\_scorer.py\", line 355, in _score\n",
      "    return self._sign * self._score_func(y_true, y_pred, **scoring_kwargs)\n",
      "  File \"C:\\Users\\antho\\AppData\\Roaming\\Python\\Python39\\site-packages\\sklearn\\utils\\_param_validation.py\", line 214, in wrapper\n",
      "    return func(*args, **kwargs)\n",
      "  File \"C:\\Users\\antho\\AppData\\Roaming\\Python\\Python39\\site-packages\\sklearn\\metrics\\_classification.py\", line 2304, in recall_score\n",
      "    _, r, _, _ = precision_recall_fscore_support(\n",
      "  File \"C:\\Users\\antho\\AppData\\Roaming\\Python\\Python39\\site-packages\\sklearn\\utils\\_param_validation.py\", line 187, in wrapper\n",
      "    return func(*args, **kwargs)\n",
      "  File \"C:\\Users\\antho\\AppData\\Roaming\\Python\\Python39\\site-packages\\sklearn\\metrics\\_classification.py\", line 1724, in precision_recall_fscore_support\n",
      "    labels = _check_set_wise_labels(y_true, y_pred, average, labels, pos_label)\n",
      "  File \"C:\\Users\\antho\\AppData\\Roaming\\Python\\Python39\\site-packages\\sklearn\\metrics\\_classification.py\", line 1518, in _check_set_wise_labels\n",
      "    raise ValueError(\n",
      "ValueError: Target is multiclass but average='binary'. Please choose another average setting, one of [None, 'micro', 'macro', 'weighted'].\n",
      "\n",
      "  warnings.warn(\n",
      "C:\\Users\\antho\\anaconda3\\lib\\site-packages\\xgboost\\core.py:158: UserWarning: [16:59:22] WARNING: C:\\buildkite-agent\\builds\\buildkite-windows-cpu-autoscaling-group-i-06abd128ca6c1688d-1\\xgboost\\xgboost-ci-windows\\src\\learner.cc:740: \n",
      "Parameters: { \"use_label_encoder\" } are not used.\n",
      "\n",
      "  warnings.warn(smsg, UserWarning)\n",
      "C:\\Users\\antho\\AppData\\Roaming\\Python\\Python39\\site-packages\\sklearn\\model_selection\\_validation.py:821: UserWarning: Scoring failed. The score on this train-test partition for these parameters will be set to nan. Details: \n",
      "Traceback (most recent call last):\n",
      "  File \"C:\\Users\\antho\\AppData\\Roaming\\Python\\Python39\\site-packages\\sklearn\\model_selection\\_validation.py\", line 810, in _score\n",
      "    scores = scorer(estimator, X_test, y_test)\n",
      "  File \"C:\\Users\\antho\\AppData\\Roaming\\Python\\Python39\\site-packages\\sklearn\\metrics\\_scorer.py\", line 266, in __call__\n",
      "    return self._score(partial(_cached_call, None), estimator, X, y_true, **_kwargs)\n",
      "  File \"C:\\Users\\antho\\AppData\\Roaming\\Python\\Python39\\site-packages\\sklearn\\metrics\\_scorer.py\", line 355, in _score\n",
      "    return self._sign * self._score_func(y_true, y_pred, **scoring_kwargs)\n",
      "  File \"C:\\Users\\antho\\AppData\\Roaming\\Python\\Python39\\site-packages\\sklearn\\utils\\_param_validation.py\", line 214, in wrapper\n",
      "    return func(*args, **kwargs)\n",
      "  File \"C:\\Users\\antho\\AppData\\Roaming\\Python\\Python39\\site-packages\\sklearn\\metrics\\_classification.py\", line 2304, in recall_score\n",
      "    _, r, _, _ = precision_recall_fscore_support(\n",
      "  File \"C:\\Users\\antho\\AppData\\Roaming\\Python\\Python39\\site-packages\\sklearn\\utils\\_param_validation.py\", line 187, in wrapper\n",
      "    return func(*args, **kwargs)\n",
      "  File \"C:\\Users\\antho\\AppData\\Roaming\\Python\\Python39\\site-packages\\sklearn\\metrics\\_classification.py\", line 1724, in precision_recall_fscore_support\n",
      "    labels = _check_set_wise_labels(y_true, y_pred, average, labels, pos_label)\n",
      "  File \"C:\\Users\\antho\\AppData\\Roaming\\Python\\Python39\\site-packages\\sklearn\\metrics\\_classification.py\", line 1518, in _check_set_wise_labels\n",
      "    raise ValueError(\n",
      "ValueError: Target is multiclass but average='binary'. Please choose another average setting, one of [None, 'micro', 'macro', 'weighted'].\n",
      "\n",
      "  warnings.warn(\n",
      "C:\\Users\\antho\\anaconda3\\lib\\site-packages\\xgboost\\core.py:158: UserWarning: [16:59:22] WARNING: C:\\buildkite-agent\\builds\\buildkite-windows-cpu-autoscaling-group-i-06abd128ca6c1688d-1\\xgboost\\xgboost-ci-windows\\src\\learner.cc:740: \n",
      "Parameters: { \"use_label_encoder\" } are not used.\n",
      "\n",
      "  warnings.warn(smsg, UserWarning)\n",
      "C:\\Users\\antho\\AppData\\Roaming\\Python\\Python39\\site-packages\\sklearn\\model_selection\\_validation.py:821: UserWarning: Scoring failed. The score on this train-test partition for these parameters will be set to nan. Details: \n",
      "Traceback (most recent call last):\n",
      "  File \"C:\\Users\\antho\\AppData\\Roaming\\Python\\Python39\\site-packages\\sklearn\\model_selection\\_validation.py\", line 810, in _score\n",
      "    scores = scorer(estimator, X_test, y_test)\n",
      "  File \"C:\\Users\\antho\\AppData\\Roaming\\Python\\Python39\\site-packages\\sklearn\\metrics\\_scorer.py\", line 266, in __call__\n",
      "    return self._score(partial(_cached_call, None), estimator, X, y_true, **_kwargs)\n",
      "  File \"C:\\Users\\antho\\AppData\\Roaming\\Python\\Python39\\site-packages\\sklearn\\metrics\\_scorer.py\", line 355, in _score\n",
      "    return self._sign * self._score_func(y_true, y_pred, **scoring_kwargs)\n",
      "  File \"C:\\Users\\antho\\AppData\\Roaming\\Python\\Python39\\site-packages\\sklearn\\utils\\_param_validation.py\", line 214, in wrapper\n",
      "    return func(*args, **kwargs)\n",
      "  File \"C:\\Users\\antho\\AppData\\Roaming\\Python\\Python39\\site-packages\\sklearn\\metrics\\_classification.py\", line 2304, in recall_score\n",
      "    _, r, _, _ = precision_recall_fscore_support(\n",
      "  File \"C:\\Users\\antho\\AppData\\Roaming\\Python\\Python39\\site-packages\\sklearn\\utils\\_param_validation.py\", line 187, in wrapper\n",
      "    return func(*args, **kwargs)\n",
      "  File \"C:\\Users\\antho\\AppData\\Roaming\\Python\\Python39\\site-packages\\sklearn\\metrics\\_classification.py\", line 1724, in precision_recall_fscore_support\n",
      "    labels = _check_set_wise_labels(y_true, y_pred, average, labels, pos_label)\n",
      "  File \"C:\\Users\\antho\\AppData\\Roaming\\Python\\Python39\\site-packages\\sklearn\\metrics\\_classification.py\", line 1518, in _check_set_wise_labels\n",
      "    raise ValueError(\n",
      "ValueError: Target is multiclass but average='binary'. Please choose another average setting, one of [None, 'micro', 'macro', 'weighted'].\n",
      "\n",
      "  warnings.warn(\n",
      "C:\\Users\\antho\\anaconda3\\lib\\site-packages\\xgboost\\core.py:158: UserWarning: [16:59:22] WARNING: C:\\buildkite-agent\\builds\\buildkite-windows-cpu-autoscaling-group-i-06abd128ca6c1688d-1\\xgboost\\xgboost-ci-windows\\src\\learner.cc:740: \n",
      "Parameters: { \"use_label_encoder\" } are not used.\n",
      "\n",
      "  warnings.warn(smsg, UserWarning)\n"
     ]
    },
    {
     "name": "stderr",
     "output_type": "stream",
     "text": [
      "C:\\Users\\antho\\AppData\\Roaming\\Python\\Python39\\site-packages\\sklearn\\model_selection\\_validation.py:821: UserWarning: Scoring failed. The score on this train-test partition for these parameters will be set to nan. Details: \n",
      "Traceback (most recent call last):\n",
      "  File \"C:\\Users\\antho\\AppData\\Roaming\\Python\\Python39\\site-packages\\sklearn\\model_selection\\_validation.py\", line 810, in _score\n",
      "    scores = scorer(estimator, X_test, y_test)\n",
      "  File \"C:\\Users\\antho\\AppData\\Roaming\\Python\\Python39\\site-packages\\sklearn\\metrics\\_scorer.py\", line 266, in __call__\n",
      "    return self._score(partial(_cached_call, None), estimator, X, y_true, **_kwargs)\n",
      "  File \"C:\\Users\\antho\\AppData\\Roaming\\Python\\Python39\\site-packages\\sklearn\\metrics\\_scorer.py\", line 355, in _score\n",
      "    return self._sign * self._score_func(y_true, y_pred, **scoring_kwargs)\n",
      "  File \"C:\\Users\\antho\\AppData\\Roaming\\Python\\Python39\\site-packages\\sklearn\\utils\\_param_validation.py\", line 214, in wrapper\n",
      "    return func(*args, **kwargs)\n",
      "  File \"C:\\Users\\antho\\AppData\\Roaming\\Python\\Python39\\site-packages\\sklearn\\metrics\\_classification.py\", line 2304, in recall_score\n",
      "    _, r, _, _ = precision_recall_fscore_support(\n",
      "  File \"C:\\Users\\antho\\AppData\\Roaming\\Python\\Python39\\site-packages\\sklearn\\utils\\_param_validation.py\", line 187, in wrapper\n",
      "    return func(*args, **kwargs)\n",
      "  File \"C:\\Users\\antho\\AppData\\Roaming\\Python\\Python39\\site-packages\\sklearn\\metrics\\_classification.py\", line 1724, in precision_recall_fscore_support\n",
      "    labels = _check_set_wise_labels(y_true, y_pred, average, labels, pos_label)\n",
      "  File \"C:\\Users\\antho\\AppData\\Roaming\\Python\\Python39\\site-packages\\sklearn\\metrics\\_classification.py\", line 1518, in _check_set_wise_labels\n",
      "    raise ValueError(\n",
      "ValueError: Target is multiclass but average='binary'. Please choose another average setting, one of [None, 'micro', 'macro', 'weighted'].\n",
      "\n",
      "  warnings.warn(\n",
      "C:\\Users\\antho\\anaconda3\\lib\\site-packages\\xgboost\\core.py:158: UserWarning: [16:59:22] WARNING: C:\\buildkite-agent\\builds\\buildkite-windows-cpu-autoscaling-group-i-06abd128ca6c1688d-1\\xgboost\\xgboost-ci-windows\\src\\learner.cc:740: \n",
      "Parameters: { \"use_label_encoder\" } are not used.\n",
      "\n",
      "  warnings.warn(smsg, UserWarning)\n",
      "C:\\Users\\antho\\AppData\\Roaming\\Python\\Python39\\site-packages\\sklearn\\model_selection\\_validation.py:821: UserWarning: Scoring failed. The score on this train-test partition for these parameters will be set to nan. Details: \n",
      "Traceback (most recent call last):\n",
      "  File \"C:\\Users\\antho\\AppData\\Roaming\\Python\\Python39\\site-packages\\sklearn\\model_selection\\_validation.py\", line 810, in _score\n",
      "    scores = scorer(estimator, X_test, y_test)\n",
      "  File \"C:\\Users\\antho\\AppData\\Roaming\\Python\\Python39\\site-packages\\sklearn\\metrics\\_scorer.py\", line 266, in __call__\n",
      "    return self._score(partial(_cached_call, None), estimator, X, y_true, **_kwargs)\n",
      "  File \"C:\\Users\\antho\\AppData\\Roaming\\Python\\Python39\\site-packages\\sklearn\\metrics\\_scorer.py\", line 355, in _score\n",
      "    return self._sign * self._score_func(y_true, y_pred, **scoring_kwargs)\n",
      "  File \"C:\\Users\\antho\\AppData\\Roaming\\Python\\Python39\\site-packages\\sklearn\\utils\\_param_validation.py\", line 214, in wrapper\n",
      "    return func(*args, **kwargs)\n",
      "  File \"C:\\Users\\antho\\AppData\\Roaming\\Python\\Python39\\site-packages\\sklearn\\metrics\\_classification.py\", line 2304, in recall_score\n",
      "    _, r, _, _ = precision_recall_fscore_support(\n",
      "  File \"C:\\Users\\antho\\AppData\\Roaming\\Python\\Python39\\site-packages\\sklearn\\utils\\_param_validation.py\", line 187, in wrapper\n",
      "    return func(*args, **kwargs)\n",
      "  File \"C:\\Users\\antho\\AppData\\Roaming\\Python\\Python39\\site-packages\\sklearn\\metrics\\_classification.py\", line 1724, in precision_recall_fscore_support\n",
      "    labels = _check_set_wise_labels(y_true, y_pred, average, labels, pos_label)\n",
      "  File \"C:\\Users\\antho\\AppData\\Roaming\\Python\\Python39\\site-packages\\sklearn\\metrics\\_classification.py\", line 1518, in _check_set_wise_labels\n",
      "    raise ValueError(\n",
      "ValueError: Target is multiclass but average='binary'. Please choose another average setting, one of [None, 'micro', 'macro', 'weighted'].\n",
      "\n",
      "  warnings.warn(\n",
      "C:\\Users\\antho\\anaconda3\\lib\\site-packages\\xgboost\\core.py:158: UserWarning: [16:59:22] WARNING: C:\\buildkite-agent\\builds\\buildkite-windows-cpu-autoscaling-group-i-06abd128ca6c1688d-1\\xgboost\\xgboost-ci-windows\\src\\learner.cc:740: \n",
      "Parameters: { \"use_label_encoder\" } are not used.\n",
      "\n",
      "  warnings.warn(smsg, UserWarning)\n",
      "C:\\Users\\antho\\AppData\\Roaming\\Python\\Python39\\site-packages\\sklearn\\model_selection\\_validation.py:821: UserWarning: Scoring failed. The score on this train-test partition for these parameters will be set to nan. Details: \n",
      "Traceback (most recent call last):\n",
      "  File \"C:\\Users\\antho\\AppData\\Roaming\\Python\\Python39\\site-packages\\sklearn\\model_selection\\_validation.py\", line 810, in _score\n",
      "    scores = scorer(estimator, X_test, y_test)\n",
      "  File \"C:\\Users\\antho\\AppData\\Roaming\\Python\\Python39\\site-packages\\sklearn\\metrics\\_scorer.py\", line 266, in __call__\n",
      "    return self._score(partial(_cached_call, None), estimator, X, y_true, **_kwargs)\n",
      "  File \"C:\\Users\\antho\\AppData\\Roaming\\Python\\Python39\\site-packages\\sklearn\\metrics\\_scorer.py\", line 355, in _score\n",
      "    return self._sign * self._score_func(y_true, y_pred, **scoring_kwargs)\n",
      "  File \"C:\\Users\\antho\\AppData\\Roaming\\Python\\Python39\\site-packages\\sklearn\\utils\\_param_validation.py\", line 214, in wrapper\n",
      "    return func(*args, **kwargs)\n",
      "  File \"C:\\Users\\antho\\AppData\\Roaming\\Python\\Python39\\site-packages\\sklearn\\metrics\\_classification.py\", line 2304, in recall_score\n",
      "    _, r, _, _ = precision_recall_fscore_support(\n",
      "  File \"C:\\Users\\antho\\AppData\\Roaming\\Python\\Python39\\site-packages\\sklearn\\utils\\_param_validation.py\", line 187, in wrapper\n",
      "    return func(*args, **kwargs)\n",
      "  File \"C:\\Users\\antho\\AppData\\Roaming\\Python\\Python39\\site-packages\\sklearn\\metrics\\_classification.py\", line 1724, in precision_recall_fscore_support\n",
      "    labels = _check_set_wise_labels(y_true, y_pred, average, labels, pos_label)\n",
      "  File \"C:\\Users\\antho\\AppData\\Roaming\\Python\\Python39\\site-packages\\sklearn\\metrics\\_classification.py\", line 1518, in _check_set_wise_labels\n",
      "    raise ValueError(\n",
      "ValueError: Target is multiclass but average='binary'. Please choose another average setting, one of [None, 'micro', 'macro', 'weighted'].\n",
      "\n",
      "  warnings.warn(\n",
      "C:\\Users\\antho\\anaconda3\\lib\\site-packages\\xgboost\\core.py:158: UserWarning: [16:59:23] WARNING: C:\\buildkite-agent\\builds\\buildkite-windows-cpu-autoscaling-group-i-06abd128ca6c1688d-1\\xgboost\\xgboost-ci-windows\\src\\learner.cc:740: \n",
      "Parameters: { \"use_label_encoder\" } are not used.\n",
      "\n",
      "  warnings.warn(smsg, UserWarning)\n",
      "C:\\Users\\antho\\AppData\\Roaming\\Python\\Python39\\site-packages\\sklearn\\model_selection\\_validation.py:821: UserWarning: Scoring failed. The score on this train-test partition for these parameters will be set to nan. Details: \n",
      "Traceback (most recent call last):\n",
      "  File \"C:\\Users\\antho\\AppData\\Roaming\\Python\\Python39\\site-packages\\sklearn\\model_selection\\_validation.py\", line 810, in _score\n",
      "    scores = scorer(estimator, X_test, y_test)\n",
      "  File \"C:\\Users\\antho\\AppData\\Roaming\\Python\\Python39\\site-packages\\sklearn\\metrics\\_scorer.py\", line 266, in __call__\n",
      "    return self._score(partial(_cached_call, None), estimator, X, y_true, **_kwargs)\n",
      "  File \"C:\\Users\\antho\\AppData\\Roaming\\Python\\Python39\\site-packages\\sklearn\\metrics\\_scorer.py\", line 355, in _score\n",
      "    return self._sign * self._score_func(y_true, y_pred, **scoring_kwargs)\n",
      "  File \"C:\\Users\\antho\\AppData\\Roaming\\Python\\Python39\\site-packages\\sklearn\\utils\\_param_validation.py\", line 214, in wrapper\n",
      "    return func(*args, **kwargs)\n",
      "  File \"C:\\Users\\antho\\AppData\\Roaming\\Python\\Python39\\site-packages\\sklearn\\metrics\\_classification.py\", line 2304, in recall_score\n",
      "    _, r, _, _ = precision_recall_fscore_support(\n",
      "  File \"C:\\Users\\antho\\AppData\\Roaming\\Python\\Python39\\site-packages\\sklearn\\utils\\_param_validation.py\", line 187, in wrapper\n",
      "    return func(*args, **kwargs)\n",
      "  File \"C:\\Users\\antho\\AppData\\Roaming\\Python\\Python39\\site-packages\\sklearn\\metrics\\_classification.py\", line 1724, in precision_recall_fscore_support\n",
      "    labels = _check_set_wise_labels(y_true, y_pred, average, labels, pos_label)\n",
      "  File \"C:\\Users\\antho\\AppData\\Roaming\\Python\\Python39\\site-packages\\sklearn\\metrics\\_classification.py\", line 1518, in _check_set_wise_labels\n",
      "    raise ValueError(\n",
      "ValueError: Target is multiclass but average='binary'. Please choose another average setting, one of [None, 'micro', 'macro', 'weighted'].\n",
      "\n",
      "  warnings.warn(\n",
      "C:\\Users\\antho\\anaconda3\\lib\\site-packages\\xgboost\\core.py:158: UserWarning: [16:59:23] WARNING: C:\\buildkite-agent\\builds\\buildkite-windows-cpu-autoscaling-group-i-06abd128ca6c1688d-1\\xgboost\\xgboost-ci-windows\\src\\learner.cc:740: \n",
      "Parameters: { \"use_label_encoder\" } are not used.\n",
      "\n",
      "  warnings.warn(smsg, UserWarning)\n"
     ]
    },
    {
     "name": "stderr",
     "output_type": "stream",
     "text": [
      "C:\\Users\\antho\\AppData\\Roaming\\Python\\Python39\\site-packages\\sklearn\\model_selection\\_validation.py:821: UserWarning: Scoring failed. The score on this train-test partition for these parameters will be set to nan. Details: \n",
      "Traceback (most recent call last):\n",
      "  File \"C:\\Users\\antho\\AppData\\Roaming\\Python\\Python39\\site-packages\\sklearn\\model_selection\\_validation.py\", line 810, in _score\n",
      "    scores = scorer(estimator, X_test, y_test)\n",
      "  File \"C:\\Users\\antho\\AppData\\Roaming\\Python\\Python39\\site-packages\\sklearn\\metrics\\_scorer.py\", line 266, in __call__\n",
      "    return self._score(partial(_cached_call, None), estimator, X, y_true, **_kwargs)\n",
      "  File \"C:\\Users\\antho\\AppData\\Roaming\\Python\\Python39\\site-packages\\sklearn\\metrics\\_scorer.py\", line 355, in _score\n",
      "    return self._sign * self._score_func(y_true, y_pred, **scoring_kwargs)\n",
      "  File \"C:\\Users\\antho\\AppData\\Roaming\\Python\\Python39\\site-packages\\sklearn\\utils\\_param_validation.py\", line 214, in wrapper\n",
      "    return func(*args, **kwargs)\n",
      "  File \"C:\\Users\\antho\\AppData\\Roaming\\Python\\Python39\\site-packages\\sklearn\\metrics\\_classification.py\", line 2304, in recall_score\n",
      "    _, r, _, _ = precision_recall_fscore_support(\n",
      "  File \"C:\\Users\\antho\\AppData\\Roaming\\Python\\Python39\\site-packages\\sklearn\\utils\\_param_validation.py\", line 187, in wrapper\n",
      "    return func(*args, **kwargs)\n",
      "  File \"C:\\Users\\antho\\AppData\\Roaming\\Python\\Python39\\site-packages\\sklearn\\metrics\\_classification.py\", line 1724, in precision_recall_fscore_support\n",
      "    labels = _check_set_wise_labels(y_true, y_pred, average, labels, pos_label)\n",
      "  File \"C:\\Users\\antho\\AppData\\Roaming\\Python\\Python39\\site-packages\\sklearn\\metrics\\_classification.py\", line 1518, in _check_set_wise_labels\n",
      "    raise ValueError(\n",
      "ValueError: Target is multiclass but average='binary'. Please choose another average setting, one of [None, 'micro', 'macro', 'weighted'].\n",
      "\n",
      "  warnings.warn(\n",
      "C:\\Users\\antho\\anaconda3\\lib\\site-packages\\xgboost\\core.py:158: UserWarning: [16:59:23] WARNING: C:\\buildkite-agent\\builds\\buildkite-windows-cpu-autoscaling-group-i-06abd128ca6c1688d-1\\xgboost\\xgboost-ci-windows\\src\\learner.cc:740: \n",
      "Parameters: { \"use_label_encoder\" } are not used.\n",
      "\n",
      "  warnings.warn(smsg, UserWarning)\n",
      "C:\\Users\\antho\\AppData\\Roaming\\Python\\Python39\\site-packages\\sklearn\\model_selection\\_validation.py:821: UserWarning: Scoring failed. The score on this train-test partition for these parameters will be set to nan. Details: \n",
      "Traceback (most recent call last):\n",
      "  File \"C:\\Users\\antho\\AppData\\Roaming\\Python\\Python39\\site-packages\\sklearn\\model_selection\\_validation.py\", line 810, in _score\n",
      "    scores = scorer(estimator, X_test, y_test)\n",
      "  File \"C:\\Users\\antho\\AppData\\Roaming\\Python\\Python39\\site-packages\\sklearn\\metrics\\_scorer.py\", line 266, in __call__\n",
      "    return self._score(partial(_cached_call, None), estimator, X, y_true, **_kwargs)\n",
      "  File \"C:\\Users\\antho\\AppData\\Roaming\\Python\\Python39\\site-packages\\sklearn\\metrics\\_scorer.py\", line 355, in _score\n",
      "    return self._sign * self._score_func(y_true, y_pred, **scoring_kwargs)\n",
      "  File \"C:\\Users\\antho\\AppData\\Roaming\\Python\\Python39\\site-packages\\sklearn\\utils\\_param_validation.py\", line 214, in wrapper\n",
      "    return func(*args, **kwargs)\n",
      "  File \"C:\\Users\\antho\\AppData\\Roaming\\Python\\Python39\\site-packages\\sklearn\\metrics\\_classification.py\", line 2304, in recall_score\n",
      "    _, r, _, _ = precision_recall_fscore_support(\n",
      "  File \"C:\\Users\\antho\\AppData\\Roaming\\Python\\Python39\\site-packages\\sklearn\\utils\\_param_validation.py\", line 187, in wrapper\n",
      "    return func(*args, **kwargs)\n",
      "  File \"C:\\Users\\antho\\AppData\\Roaming\\Python\\Python39\\site-packages\\sklearn\\metrics\\_classification.py\", line 1724, in precision_recall_fscore_support\n",
      "    labels = _check_set_wise_labels(y_true, y_pred, average, labels, pos_label)\n",
      "  File \"C:\\Users\\antho\\AppData\\Roaming\\Python\\Python39\\site-packages\\sklearn\\metrics\\_classification.py\", line 1518, in _check_set_wise_labels\n",
      "    raise ValueError(\n",
      "ValueError: Target is multiclass but average='binary'. Please choose another average setting, one of [None, 'micro', 'macro', 'weighted'].\n",
      "\n",
      "  warnings.warn(\n",
      "C:\\Users\\antho\\anaconda3\\lib\\site-packages\\xgboost\\core.py:158: UserWarning: [16:59:23] WARNING: C:\\buildkite-agent\\builds\\buildkite-windows-cpu-autoscaling-group-i-06abd128ca6c1688d-1\\xgboost\\xgboost-ci-windows\\src\\learner.cc:740: \n",
      "Parameters: { \"use_label_encoder\" } are not used.\n",
      "\n",
      "  warnings.warn(smsg, UserWarning)\n",
      "C:\\Users\\antho\\AppData\\Roaming\\Python\\Python39\\site-packages\\sklearn\\model_selection\\_validation.py:821: UserWarning: Scoring failed. The score on this train-test partition for these parameters will be set to nan. Details: \n",
      "Traceback (most recent call last):\n",
      "  File \"C:\\Users\\antho\\AppData\\Roaming\\Python\\Python39\\site-packages\\sklearn\\model_selection\\_validation.py\", line 810, in _score\n",
      "    scores = scorer(estimator, X_test, y_test)\n",
      "  File \"C:\\Users\\antho\\AppData\\Roaming\\Python\\Python39\\site-packages\\sklearn\\metrics\\_scorer.py\", line 266, in __call__\n",
      "    return self._score(partial(_cached_call, None), estimator, X, y_true, **_kwargs)\n",
      "  File \"C:\\Users\\antho\\AppData\\Roaming\\Python\\Python39\\site-packages\\sklearn\\metrics\\_scorer.py\", line 355, in _score\n",
      "    return self._sign * self._score_func(y_true, y_pred, **scoring_kwargs)\n",
      "  File \"C:\\Users\\antho\\AppData\\Roaming\\Python\\Python39\\site-packages\\sklearn\\utils\\_param_validation.py\", line 214, in wrapper\n",
      "    return func(*args, **kwargs)\n",
      "  File \"C:\\Users\\antho\\AppData\\Roaming\\Python\\Python39\\site-packages\\sklearn\\metrics\\_classification.py\", line 2304, in recall_score\n",
      "    _, r, _, _ = precision_recall_fscore_support(\n",
      "  File \"C:\\Users\\antho\\AppData\\Roaming\\Python\\Python39\\site-packages\\sklearn\\utils\\_param_validation.py\", line 187, in wrapper\n",
      "    return func(*args, **kwargs)\n",
      "  File \"C:\\Users\\antho\\AppData\\Roaming\\Python\\Python39\\site-packages\\sklearn\\metrics\\_classification.py\", line 1724, in precision_recall_fscore_support\n",
      "    labels = _check_set_wise_labels(y_true, y_pred, average, labels, pos_label)\n",
      "  File \"C:\\Users\\antho\\AppData\\Roaming\\Python\\Python39\\site-packages\\sklearn\\metrics\\_classification.py\", line 1518, in _check_set_wise_labels\n",
      "    raise ValueError(\n",
      "ValueError: Target is multiclass but average='binary'. Please choose another average setting, one of [None, 'micro', 'macro', 'weighted'].\n",
      "\n",
      "  warnings.warn(\n",
      "C:\\Users\\antho\\anaconda3\\lib\\site-packages\\xgboost\\core.py:158: UserWarning: [16:59:24] WARNING: C:\\buildkite-agent\\builds\\buildkite-windows-cpu-autoscaling-group-i-06abd128ca6c1688d-1\\xgboost\\xgboost-ci-windows\\src\\learner.cc:740: \n",
      "Parameters: { \"use_label_encoder\" } are not used.\n",
      "\n",
      "  warnings.warn(smsg, UserWarning)\n",
      "C:\\Users\\antho\\AppData\\Roaming\\Python\\Python39\\site-packages\\sklearn\\model_selection\\_validation.py:821: UserWarning: Scoring failed. The score on this train-test partition for these parameters will be set to nan. Details: \n",
      "Traceback (most recent call last):\n",
      "  File \"C:\\Users\\antho\\AppData\\Roaming\\Python\\Python39\\site-packages\\sklearn\\model_selection\\_validation.py\", line 810, in _score\n",
      "    scores = scorer(estimator, X_test, y_test)\n",
      "  File \"C:\\Users\\antho\\AppData\\Roaming\\Python\\Python39\\site-packages\\sklearn\\metrics\\_scorer.py\", line 266, in __call__\n",
      "    return self._score(partial(_cached_call, None), estimator, X, y_true, **_kwargs)\n",
      "  File \"C:\\Users\\antho\\AppData\\Roaming\\Python\\Python39\\site-packages\\sklearn\\metrics\\_scorer.py\", line 355, in _score\n",
      "    return self._sign * self._score_func(y_true, y_pred, **scoring_kwargs)\n",
      "  File \"C:\\Users\\antho\\AppData\\Roaming\\Python\\Python39\\site-packages\\sklearn\\utils\\_param_validation.py\", line 214, in wrapper\n",
      "    return func(*args, **kwargs)\n",
      "  File \"C:\\Users\\antho\\AppData\\Roaming\\Python\\Python39\\site-packages\\sklearn\\metrics\\_classification.py\", line 2304, in recall_score\n",
      "    _, r, _, _ = precision_recall_fscore_support(\n",
      "  File \"C:\\Users\\antho\\AppData\\Roaming\\Python\\Python39\\site-packages\\sklearn\\utils\\_param_validation.py\", line 187, in wrapper\n",
      "    return func(*args, **kwargs)\n",
      "  File \"C:\\Users\\antho\\AppData\\Roaming\\Python\\Python39\\site-packages\\sklearn\\metrics\\_classification.py\", line 1724, in precision_recall_fscore_support\n",
      "    labels = _check_set_wise_labels(y_true, y_pred, average, labels, pos_label)\n",
      "  File \"C:\\Users\\antho\\AppData\\Roaming\\Python\\Python39\\site-packages\\sklearn\\metrics\\_classification.py\", line 1518, in _check_set_wise_labels\n",
      "    raise ValueError(\n",
      "ValueError: Target is multiclass but average='binary'. Please choose another average setting, one of [None, 'micro', 'macro', 'weighted'].\n",
      "\n",
      "  warnings.warn(\n",
      "C:\\Users\\antho\\anaconda3\\lib\\site-packages\\xgboost\\core.py:158: UserWarning: [16:59:24] WARNING: C:\\buildkite-agent\\builds\\buildkite-windows-cpu-autoscaling-group-i-06abd128ca6c1688d-1\\xgboost\\xgboost-ci-windows\\src\\learner.cc:740: \n",
      "Parameters: { \"use_label_encoder\" } are not used.\n",
      "\n",
      "  warnings.warn(smsg, UserWarning)\n",
      "C:\\Users\\antho\\AppData\\Roaming\\Python\\Python39\\site-packages\\sklearn\\model_selection\\_validation.py:821: UserWarning: Scoring failed. The score on this train-test partition for these parameters will be set to nan. Details: \n",
      "Traceback (most recent call last):\n",
      "  File \"C:\\Users\\antho\\AppData\\Roaming\\Python\\Python39\\site-packages\\sklearn\\model_selection\\_validation.py\", line 810, in _score\n",
      "    scores = scorer(estimator, X_test, y_test)\n",
      "  File \"C:\\Users\\antho\\AppData\\Roaming\\Python\\Python39\\site-packages\\sklearn\\metrics\\_scorer.py\", line 266, in __call__\n",
      "    return self._score(partial(_cached_call, None), estimator, X, y_true, **_kwargs)\n",
      "  File \"C:\\Users\\antho\\AppData\\Roaming\\Python\\Python39\\site-packages\\sklearn\\metrics\\_scorer.py\", line 355, in _score\n",
      "    return self._sign * self._score_func(y_true, y_pred, **scoring_kwargs)\n",
      "  File \"C:\\Users\\antho\\AppData\\Roaming\\Python\\Python39\\site-packages\\sklearn\\utils\\_param_validation.py\", line 214, in wrapper\n",
      "    return func(*args, **kwargs)\n",
      "  File \"C:\\Users\\antho\\AppData\\Roaming\\Python\\Python39\\site-packages\\sklearn\\metrics\\_classification.py\", line 2304, in recall_score\n",
      "    _, r, _, _ = precision_recall_fscore_support(\n",
      "  File \"C:\\Users\\antho\\AppData\\Roaming\\Python\\Python39\\site-packages\\sklearn\\utils\\_param_validation.py\", line 187, in wrapper\n",
      "    return func(*args, **kwargs)\n",
      "  File \"C:\\Users\\antho\\AppData\\Roaming\\Python\\Python39\\site-packages\\sklearn\\metrics\\_classification.py\", line 1724, in precision_recall_fscore_support\n",
      "    labels = _check_set_wise_labels(y_true, y_pred, average, labels, pos_label)\n",
      "  File \"C:\\Users\\antho\\AppData\\Roaming\\Python\\Python39\\site-packages\\sklearn\\metrics\\_classification.py\", line 1518, in _check_set_wise_labels\n",
      "    raise ValueError(\n",
      "ValueError: Target is multiclass but average='binary'. Please choose another average setting, one of [None, 'micro', 'macro', 'weighted'].\n",
      "\n",
      "  warnings.warn(\n"
     ]
    },
    {
     "name": "stderr",
     "output_type": "stream",
     "text": [
      "C:\\Users\\antho\\anaconda3\\lib\\site-packages\\xgboost\\core.py:158: UserWarning: [16:59:24] WARNING: C:\\buildkite-agent\\builds\\buildkite-windows-cpu-autoscaling-group-i-06abd128ca6c1688d-1\\xgboost\\xgboost-ci-windows\\src\\learner.cc:740: \n",
      "Parameters: { \"use_label_encoder\" } are not used.\n",
      "\n",
      "  warnings.warn(smsg, UserWarning)\n",
      "C:\\Users\\antho\\AppData\\Roaming\\Python\\Python39\\site-packages\\sklearn\\model_selection\\_validation.py:821: UserWarning: Scoring failed. The score on this train-test partition for these parameters will be set to nan. Details: \n",
      "Traceback (most recent call last):\n",
      "  File \"C:\\Users\\antho\\AppData\\Roaming\\Python\\Python39\\site-packages\\sklearn\\model_selection\\_validation.py\", line 810, in _score\n",
      "    scores = scorer(estimator, X_test, y_test)\n",
      "  File \"C:\\Users\\antho\\AppData\\Roaming\\Python\\Python39\\site-packages\\sklearn\\metrics\\_scorer.py\", line 266, in __call__\n",
      "    return self._score(partial(_cached_call, None), estimator, X, y_true, **_kwargs)\n",
      "  File \"C:\\Users\\antho\\AppData\\Roaming\\Python\\Python39\\site-packages\\sklearn\\metrics\\_scorer.py\", line 355, in _score\n",
      "    return self._sign * self._score_func(y_true, y_pred, **scoring_kwargs)\n",
      "  File \"C:\\Users\\antho\\AppData\\Roaming\\Python\\Python39\\site-packages\\sklearn\\utils\\_param_validation.py\", line 214, in wrapper\n",
      "    return func(*args, **kwargs)\n",
      "  File \"C:\\Users\\antho\\AppData\\Roaming\\Python\\Python39\\site-packages\\sklearn\\metrics\\_classification.py\", line 2304, in recall_score\n",
      "    _, r, _, _ = precision_recall_fscore_support(\n",
      "  File \"C:\\Users\\antho\\AppData\\Roaming\\Python\\Python39\\site-packages\\sklearn\\utils\\_param_validation.py\", line 187, in wrapper\n",
      "    return func(*args, **kwargs)\n",
      "  File \"C:\\Users\\antho\\AppData\\Roaming\\Python\\Python39\\site-packages\\sklearn\\metrics\\_classification.py\", line 1724, in precision_recall_fscore_support\n",
      "    labels = _check_set_wise_labels(y_true, y_pred, average, labels, pos_label)\n",
      "  File \"C:\\Users\\antho\\AppData\\Roaming\\Python\\Python39\\site-packages\\sklearn\\metrics\\_classification.py\", line 1518, in _check_set_wise_labels\n",
      "    raise ValueError(\n",
      "ValueError: Target is multiclass but average='binary'. Please choose another average setting, one of [None, 'micro', 'macro', 'weighted'].\n",
      "\n",
      "  warnings.warn(\n",
      "C:\\Users\\antho\\anaconda3\\lib\\site-packages\\xgboost\\core.py:158: UserWarning: [16:59:24] WARNING: C:\\buildkite-agent\\builds\\buildkite-windows-cpu-autoscaling-group-i-06abd128ca6c1688d-1\\xgboost\\xgboost-ci-windows\\src\\learner.cc:740: \n",
      "Parameters: { \"use_label_encoder\" } are not used.\n",
      "\n",
      "  warnings.warn(smsg, UserWarning)\n",
      "C:\\Users\\antho\\AppData\\Roaming\\Python\\Python39\\site-packages\\sklearn\\model_selection\\_validation.py:821: UserWarning: Scoring failed. The score on this train-test partition for these parameters will be set to nan. Details: \n",
      "Traceback (most recent call last):\n",
      "  File \"C:\\Users\\antho\\AppData\\Roaming\\Python\\Python39\\site-packages\\sklearn\\model_selection\\_validation.py\", line 810, in _score\n",
      "    scores = scorer(estimator, X_test, y_test)\n",
      "  File \"C:\\Users\\antho\\AppData\\Roaming\\Python\\Python39\\site-packages\\sklearn\\metrics\\_scorer.py\", line 266, in __call__\n",
      "    return self._score(partial(_cached_call, None), estimator, X, y_true, **_kwargs)\n",
      "  File \"C:\\Users\\antho\\AppData\\Roaming\\Python\\Python39\\site-packages\\sklearn\\metrics\\_scorer.py\", line 355, in _score\n",
      "    return self._sign * self._score_func(y_true, y_pred, **scoring_kwargs)\n",
      "  File \"C:\\Users\\antho\\AppData\\Roaming\\Python\\Python39\\site-packages\\sklearn\\utils\\_param_validation.py\", line 214, in wrapper\n",
      "    return func(*args, **kwargs)\n",
      "  File \"C:\\Users\\antho\\AppData\\Roaming\\Python\\Python39\\site-packages\\sklearn\\metrics\\_classification.py\", line 2304, in recall_score\n",
      "    _, r, _, _ = precision_recall_fscore_support(\n",
      "  File \"C:\\Users\\antho\\AppData\\Roaming\\Python\\Python39\\site-packages\\sklearn\\utils\\_param_validation.py\", line 187, in wrapper\n",
      "    return func(*args, **kwargs)\n",
      "  File \"C:\\Users\\antho\\AppData\\Roaming\\Python\\Python39\\site-packages\\sklearn\\metrics\\_classification.py\", line 1724, in precision_recall_fscore_support\n",
      "    labels = _check_set_wise_labels(y_true, y_pred, average, labels, pos_label)\n",
      "  File \"C:\\Users\\antho\\AppData\\Roaming\\Python\\Python39\\site-packages\\sklearn\\metrics\\_classification.py\", line 1518, in _check_set_wise_labels\n",
      "    raise ValueError(\n",
      "ValueError: Target is multiclass but average='binary'. Please choose another average setting, one of [None, 'micro', 'macro', 'weighted'].\n",
      "\n",
      "  warnings.warn(\n",
      "C:\\Users\\antho\\anaconda3\\lib\\site-packages\\xgboost\\core.py:158: UserWarning: [16:59:24] WARNING: C:\\buildkite-agent\\builds\\buildkite-windows-cpu-autoscaling-group-i-06abd128ca6c1688d-1\\xgboost\\xgboost-ci-windows\\src\\learner.cc:740: \n",
      "Parameters: { \"use_label_encoder\" } are not used.\n",
      "\n",
      "  warnings.warn(smsg, UserWarning)\n",
      "C:\\Users\\antho\\AppData\\Roaming\\Python\\Python39\\site-packages\\sklearn\\model_selection\\_validation.py:821: UserWarning: Scoring failed. The score on this train-test partition for these parameters will be set to nan. Details: \n",
      "Traceback (most recent call last):\n",
      "  File \"C:\\Users\\antho\\AppData\\Roaming\\Python\\Python39\\site-packages\\sklearn\\model_selection\\_validation.py\", line 810, in _score\n",
      "    scores = scorer(estimator, X_test, y_test)\n",
      "  File \"C:\\Users\\antho\\AppData\\Roaming\\Python\\Python39\\site-packages\\sklearn\\metrics\\_scorer.py\", line 266, in __call__\n",
      "    return self._score(partial(_cached_call, None), estimator, X, y_true, **_kwargs)\n",
      "  File \"C:\\Users\\antho\\AppData\\Roaming\\Python\\Python39\\site-packages\\sklearn\\metrics\\_scorer.py\", line 355, in _score\n",
      "    return self._sign * self._score_func(y_true, y_pred, **scoring_kwargs)\n",
      "  File \"C:\\Users\\antho\\AppData\\Roaming\\Python\\Python39\\site-packages\\sklearn\\utils\\_param_validation.py\", line 214, in wrapper\n",
      "    return func(*args, **kwargs)\n",
      "  File \"C:\\Users\\antho\\AppData\\Roaming\\Python\\Python39\\site-packages\\sklearn\\metrics\\_classification.py\", line 2304, in recall_score\n",
      "    _, r, _, _ = precision_recall_fscore_support(\n",
      "  File \"C:\\Users\\antho\\AppData\\Roaming\\Python\\Python39\\site-packages\\sklearn\\utils\\_param_validation.py\", line 187, in wrapper\n",
      "    return func(*args, **kwargs)\n",
      "  File \"C:\\Users\\antho\\AppData\\Roaming\\Python\\Python39\\site-packages\\sklearn\\metrics\\_classification.py\", line 1724, in precision_recall_fscore_support\n",
      "    labels = _check_set_wise_labels(y_true, y_pred, average, labels, pos_label)\n",
      "  File \"C:\\Users\\antho\\AppData\\Roaming\\Python\\Python39\\site-packages\\sklearn\\metrics\\_classification.py\", line 1518, in _check_set_wise_labels\n",
      "    raise ValueError(\n",
      "ValueError: Target is multiclass but average='binary'. Please choose another average setting, one of [None, 'micro', 'macro', 'weighted'].\n",
      "\n",
      "  warnings.warn(\n",
      "C:\\Users\\antho\\anaconda3\\lib\\site-packages\\xgboost\\core.py:158: UserWarning: [16:59:24] WARNING: C:\\buildkite-agent\\builds\\buildkite-windows-cpu-autoscaling-group-i-06abd128ca6c1688d-1\\xgboost\\xgboost-ci-windows\\src\\learner.cc:740: \n",
      "Parameters: { \"use_label_encoder\" } are not used.\n",
      "\n",
      "  warnings.warn(smsg, UserWarning)\n",
      "C:\\Users\\antho\\AppData\\Roaming\\Python\\Python39\\site-packages\\sklearn\\model_selection\\_validation.py:821: UserWarning: Scoring failed. The score on this train-test partition for these parameters will be set to nan. Details: \n",
      "Traceback (most recent call last):\n",
      "  File \"C:\\Users\\antho\\AppData\\Roaming\\Python\\Python39\\site-packages\\sklearn\\model_selection\\_validation.py\", line 810, in _score\n",
      "    scores = scorer(estimator, X_test, y_test)\n",
      "  File \"C:\\Users\\antho\\AppData\\Roaming\\Python\\Python39\\site-packages\\sklearn\\metrics\\_scorer.py\", line 266, in __call__\n",
      "    return self._score(partial(_cached_call, None), estimator, X, y_true, **_kwargs)\n",
      "  File \"C:\\Users\\antho\\AppData\\Roaming\\Python\\Python39\\site-packages\\sklearn\\metrics\\_scorer.py\", line 355, in _score\n",
      "    return self._sign * self._score_func(y_true, y_pred, **scoring_kwargs)\n",
      "  File \"C:\\Users\\antho\\AppData\\Roaming\\Python\\Python39\\site-packages\\sklearn\\utils\\_param_validation.py\", line 214, in wrapper\n",
      "    return func(*args, **kwargs)\n",
      "  File \"C:\\Users\\antho\\AppData\\Roaming\\Python\\Python39\\site-packages\\sklearn\\metrics\\_classification.py\", line 2304, in recall_score\n",
      "    _, r, _, _ = precision_recall_fscore_support(\n",
      "  File \"C:\\Users\\antho\\AppData\\Roaming\\Python\\Python39\\site-packages\\sklearn\\utils\\_param_validation.py\", line 187, in wrapper\n",
      "    return func(*args, **kwargs)\n",
      "  File \"C:\\Users\\antho\\AppData\\Roaming\\Python\\Python39\\site-packages\\sklearn\\metrics\\_classification.py\", line 1724, in precision_recall_fscore_support\n",
      "    labels = _check_set_wise_labels(y_true, y_pred, average, labels, pos_label)\n",
      "  File \"C:\\Users\\antho\\AppData\\Roaming\\Python\\Python39\\site-packages\\sklearn\\metrics\\_classification.py\", line 1518, in _check_set_wise_labels\n",
      "    raise ValueError(\n",
      "ValueError: Target is multiclass but average='binary'. Please choose another average setting, one of [None, 'micro', 'macro', 'weighted'].\n",
      "\n",
      "  warnings.warn(\n",
      "C:\\Users\\antho\\anaconda3\\lib\\site-packages\\xgboost\\core.py:158: UserWarning: [16:59:24] WARNING: C:\\buildkite-agent\\builds\\buildkite-windows-cpu-autoscaling-group-i-06abd128ca6c1688d-1\\xgboost\\xgboost-ci-windows\\src\\learner.cc:740: \n",
      "Parameters: { \"use_label_encoder\" } are not used.\n",
      "\n",
      "  warnings.warn(smsg, UserWarning)\n",
      "C:\\Users\\antho\\AppData\\Roaming\\Python\\Python39\\site-packages\\sklearn\\model_selection\\_validation.py:821: UserWarning: Scoring failed. The score on this train-test partition for these parameters will be set to nan. Details: \n",
      "Traceback (most recent call last):\n",
      "  File \"C:\\Users\\antho\\AppData\\Roaming\\Python\\Python39\\site-packages\\sklearn\\model_selection\\_validation.py\", line 810, in _score\n",
      "    scores = scorer(estimator, X_test, y_test)\n",
      "  File \"C:\\Users\\antho\\AppData\\Roaming\\Python\\Python39\\site-packages\\sklearn\\metrics\\_scorer.py\", line 266, in __call__\n",
      "    return self._score(partial(_cached_call, None), estimator, X, y_true, **_kwargs)\n",
      "  File \"C:\\Users\\antho\\AppData\\Roaming\\Python\\Python39\\site-packages\\sklearn\\metrics\\_scorer.py\", line 355, in _score\n",
      "    return self._sign * self._score_func(y_true, y_pred, **scoring_kwargs)\n",
      "  File \"C:\\Users\\antho\\AppData\\Roaming\\Python\\Python39\\site-packages\\sklearn\\utils\\_param_validation.py\", line 214, in wrapper\n",
      "    return func(*args, **kwargs)\n",
      "  File \"C:\\Users\\antho\\AppData\\Roaming\\Python\\Python39\\site-packages\\sklearn\\metrics\\_classification.py\", line 2304, in recall_score\n",
      "    _, r, _, _ = precision_recall_fscore_support(\n",
      "  File \"C:\\Users\\antho\\AppData\\Roaming\\Python\\Python39\\site-packages\\sklearn\\utils\\_param_validation.py\", line 187, in wrapper\n",
      "    return func(*args, **kwargs)\n",
      "  File \"C:\\Users\\antho\\AppData\\Roaming\\Python\\Python39\\site-packages\\sklearn\\metrics\\_classification.py\", line 1724, in precision_recall_fscore_support\n",
      "    labels = _check_set_wise_labels(y_true, y_pred, average, labels, pos_label)\n",
      "  File \"C:\\Users\\antho\\AppData\\Roaming\\Python\\Python39\\site-packages\\sklearn\\metrics\\_classification.py\", line 1518, in _check_set_wise_labels\n",
      "    raise ValueError(\n",
      "ValueError: Target is multiclass but average='binary'. Please choose another average setting, one of [None, 'micro', 'macro', 'weighted'].\n",
      "\n",
      "  warnings.warn(\n",
      "C:\\Users\\antho\\anaconda3\\lib\\site-packages\\xgboost\\core.py:158: UserWarning: [16:59:24] WARNING: C:\\buildkite-agent\\builds\\buildkite-windows-cpu-autoscaling-group-i-06abd128ca6c1688d-1\\xgboost\\xgboost-ci-windows\\src\\learner.cc:740: \n",
      "Parameters: { \"use_label_encoder\" } are not used.\n",
      "\n",
      "  warnings.warn(smsg, UserWarning)\n"
     ]
    },
    {
     "name": "stderr",
     "output_type": "stream",
     "text": [
      "C:\\Users\\antho\\AppData\\Roaming\\Python\\Python39\\site-packages\\sklearn\\model_selection\\_validation.py:821: UserWarning: Scoring failed. The score on this train-test partition for these parameters will be set to nan. Details: \n",
      "Traceback (most recent call last):\n",
      "  File \"C:\\Users\\antho\\AppData\\Roaming\\Python\\Python39\\site-packages\\sklearn\\model_selection\\_validation.py\", line 810, in _score\n",
      "    scores = scorer(estimator, X_test, y_test)\n",
      "  File \"C:\\Users\\antho\\AppData\\Roaming\\Python\\Python39\\site-packages\\sklearn\\metrics\\_scorer.py\", line 266, in __call__\n",
      "    return self._score(partial(_cached_call, None), estimator, X, y_true, **_kwargs)\n",
      "  File \"C:\\Users\\antho\\AppData\\Roaming\\Python\\Python39\\site-packages\\sklearn\\metrics\\_scorer.py\", line 355, in _score\n",
      "    return self._sign * self._score_func(y_true, y_pred, **scoring_kwargs)\n",
      "  File \"C:\\Users\\antho\\AppData\\Roaming\\Python\\Python39\\site-packages\\sklearn\\utils\\_param_validation.py\", line 214, in wrapper\n",
      "    return func(*args, **kwargs)\n",
      "  File \"C:\\Users\\antho\\AppData\\Roaming\\Python\\Python39\\site-packages\\sklearn\\metrics\\_classification.py\", line 2304, in recall_score\n",
      "    _, r, _, _ = precision_recall_fscore_support(\n",
      "  File \"C:\\Users\\antho\\AppData\\Roaming\\Python\\Python39\\site-packages\\sklearn\\utils\\_param_validation.py\", line 187, in wrapper\n",
      "    return func(*args, **kwargs)\n",
      "  File \"C:\\Users\\antho\\AppData\\Roaming\\Python\\Python39\\site-packages\\sklearn\\metrics\\_classification.py\", line 1724, in precision_recall_fscore_support\n",
      "    labels = _check_set_wise_labels(y_true, y_pred, average, labels, pos_label)\n",
      "  File \"C:\\Users\\antho\\AppData\\Roaming\\Python\\Python39\\site-packages\\sklearn\\metrics\\_classification.py\", line 1518, in _check_set_wise_labels\n",
      "    raise ValueError(\n",
      "ValueError: Target is multiclass but average='binary'. Please choose another average setting, one of [None, 'micro', 'macro', 'weighted'].\n",
      "\n",
      "  warnings.warn(\n",
      "C:\\Users\\antho\\anaconda3\\lib\\site-packages\\xgboost\\core.py:158: UserWarning: [16:59:25] WARNING: C:\\buildkite-agent\\builds\\buildkite-windows-cpu-autoscaling-group-i-06abd128ca6c1688d-1\\xgboost\\xgboost-ci-windows\\src\\learner.cc:740: \n",
      "Parameters: { \"use_label_encoder\" } are not used.\n",
      "\n",
      "  warnings.warn(smsg, UserWarning)\n",
      "C:\\Users\\antho\\AppData\\Roaming\\Python\\Python39\\site-packages\\sklearn\\model_selection\\_validation.py:821: UserWarning: Scoring failed. The score on this train-test partition for these parameters will be set to nan. Details: \n",
      "Traceback (most recent call last):\n",
      "  File \"C:\\Users\\antho\\AppData\\Roaming\\Python\\Python39\\site-packages\\sklearn\\model_selection\\_validation.py\", line 810, in _score\n",
      "    scores = scorer(estimator, X_test, y_test)\n",
      "  File \"C:\\Users\\antho\\AppData\\Roaming\\Python\\Python39\\site-packages\\sklearn\\metrics\\_scorer.py\", line 266, in __call__\n",
      "    return self._score(partial(_cached_call, None), estimator, X, y_true, **_kwargs)\n",
      "  File \"C:\\Users\\antho\\AppData\\Roaming\\Python\\Python39\\site-packages\\sklearn\\metrics\\_scorer.py\", line 355, in _score\n",
      "    return self._sign * self._score_func(y_true, y_pred, **scoring_kwargs)\n",
      "  File \"C:\\Users\\antho\\AppData\\Roaming\\Python\\Python39\\site-packages\\sklearn\\utils\\_param_validation.py\", line 214, in wrapper\n",
      "    return func(*args, **kwargs)\n",
      "  File \"C:\\Users\\antho\\AppData\\Roaming\\Python\\Python39\\site-packages\\sklearn\\metrics\\_classification.py\", line 2304, in recall_score\n",
      "    _, r, _, _ = precision_recall_fscore_support(\n",
      "  File \"C:\\Users\\antho\\AppData\\Roaming\\Python\\Python39\\site-packages\\sklearn\\utils\\_param_validation.py\", line 187, in wrapper\n",
      "    return func(*args, **kwargs)\n",
      "  File \"C:\\Users\\antho\\AppData\\Roaming\\Python\\Python39\\site-packages\\sklearn\\metrics\\_classification.py\", line 1724, in precision_recall_fscore_support\n",
      "    labels = _check_set_wise_labels(y_true, y_pred, average, labels, pos_label)\n",
      "  File \"C:\\Users\\antho\\AppData\\Roaming\\Python\\Python39\\site-packages\\sklearn\\metrics\\_classification.py\", line 1518, in _check_set_wise_labels\n",
      "    raise ValueError(\n",
      "ValueError: Target is multiclass but average='binary'. Please choose another average setting, one of [None, 'micro', 'macro', 'weighted'].\n",
      "\n",
      "  warnings.warn(\n",
      "C:\\Users\\antho\\anaconda3\\lib\\site-packages\\xgboost\\core.py:158: UserWarning: [16:59:25] WARNING: C:\\buildkite-agent\\builds\\buildkite-windows-cpu-autoscaling-group-i-06abd128ca6c1688d-1\\xgboost\\xgboost-ci-windows\\src\\learner.cc:740: \n",
      "Parameters: { \"use_label_encoder\" } are not used.\n",
      "\n",
      "  warnings.warn(smsg, UserWarning)\n",
      "C:\\Users\\antho\\AppData\\Roaming\\Python\\Python39\\site-packages\\sklearn\\model_selection\\_validation.py:821: UserWarning: Scoring failed. The score on this train-test partition for these parameters will be set to nan. Details: \n",
      "Traceback (most recent call last):\n",
      "  File \"C:\\Users\\antho\\AppData\\Roaming\\Python\\Python39\\site-packages\\sklearn\\model_selection\\_validation.py\", line 810, in _score\n",
      "    scores = scorer(estimator, X_test, y_test)\n",
      "  File \"C:\\Users\\antho\\AppData\\Roaming\\Python\\Python39\\site-packages\\sklearn\\metrics\\_scorer.py\", line 266, in __call__\n",
      "    return self._score(partial(_cached_call, None), estimator, X, y_true, **_kwargs)\n",
      "  File \"C:\\Users\\antho\\AppData\\Roaming\\Python\\Python39\\site-packages\\sklearn\\metrics\\_scorer.py\", line 355, in _score\n",
      "    return self._sign * self._score_func(y_true, y_pred, **scoring_kwargs)\n",
      "  File \"C:\\Users\\antho\\AppData\\Roaming\\Python\\Python39\\site-packages\\sklearn\\utils\\_param_validation.py\", line 214, in wrapper\n",
      "    return func(*args, **kwargs)\n",
      "  File \"C:\\Users\\antho\\AppData\\Roaming\\Python\\Python39\\site-packages\\sklearn\\metrics\\_classification.py\", line 2304, in recall_score\n",
      "    _, r, _, _ = precision_recall_fscore_support(\n",
      "  File \"C:\\Users\\antho\\AppData\\Roaming\\Python\\Python39\\site-packages\\sklearn\\utils\\_param_validation.py\", line 187, in wrapper\n",
      "    return func(*args, **kwargs)\n",
      "  File \"C:\\Users\\antho\\AppData\\Roaming\\Python\\Python39\\site-packages\\sklearn\\metrics\\_classification.py\", line 1724, in precision_recall_fscore_support\n",
      "    labels = _check_set_wise_labels(y_true, y_pred, average, labels, pos_label)\n",
      "  File \"C:\\Users\\antho\\AppData\\Roaming\\Python\\Python39\\site-packages\\sklearn\\metrics\\_classification.py\", line 1518, in _check_set_wise_labels\n",
      "    raise ValueError(\n",
      "ValueError: Target is multiclass but average='binary'. Please choose another average setting, one of [None, 'micro', 'macro', 'weighted'].\n",
      "\n",
      "  warnings.warn(\n",
      "C:\\Users\\antho\\anaconda3\\lib\\site-packages\\xgboost\\core.py:158: UserWarning: [16:59:25] WARNING: C:\\buildkite-agent\\builds\\buildkite-windows-cpu-autoscaling-group-i-06abd128ca6c1688d-1\\xgboost\\xgboost-ci-windows\\src\\learner.cc:740: \n",
      "Parameters: { \"use_label_encoder\" } are not used.\n",
      "\n",
      "  warnings.warn(smsg, UserWarning)\n",
      "C:\\Users\\antho\\AppData\\Roaming\\Python\\Python39\\site-packages\\sklearn\\model_selection\\_validation.py:821: UserWarning: Scoring failed. The score on this train-test partition for these parameters will be set to nan. Details: \n",
      "Traceback (most recent call last):\n",
      "  File \"C:\\Users\\antho\\AppData\\Roaming\\Python\\Python39\\site-packages\\sklearn\\model_selection\\_validation.py\", line 810, in _score\n",
      "    scores = scorer(estimator, X_test, y_test)\n",
      "  File \"C:\\Users\\antho\\AppData\\Roaming\\Python\\Python39\\site-packages\\sklearn\\metrics\\_scorer.py\", line 266, in __call__\n",
      "    return self._score(partial(_cached_call, None), estimator, X, y_true, **_kwargs)\n",
      "  File \"C:\\Users\\antho\\AppData\\Roaming\\Python\\Python39\\site-packages\\sklearn\\metrics\\_scorer.py\", line 355, in _score\n",
      "    return self._sign * self._score_func(y_true, y_pred, **scoring_kwargs)\n",
      "  File \"C:\\Users\\antho\\AppData\\Roaming\\Python\\Python39\\site-packages\\sklearn\\utils\\_param_validation.py\", line 214, in wrapper\n",
      "    return func(*args, **kwargs)\n",
      "  File \"C:\\Users\\antho\\AppData\\Roaming\\Python\\Python39\\site-packages\\sklearn\\metrics\\_classification.py\", line 2304, in recall_score\n",
      "    _, r, _, _ = precision_recall_fscore_support(\n",
      "  File \"C:\\Users\\antho\\AppData\\Roaming\\Python\\Python39\\site-packages\\sklearn\\utils\\_param_validation.py\", line 187, in wrapper\n",
      "    return func(*args, **kwargs)\n",
      "  File \"C:\\Users\\antho\\AppData\\Roaming\\Python\\Python39\\site-packages\\sklearn\\metrics\\_classification.py\", line 1724, in precision_recall_fscore_support\n",
      "    labels = _check_set_wise_labels(y_true, y_pred, average, labels, pos_label)\n",
      "  File \"C:\\Users\\antho\\AppData\\Roaming\\Python\\Python39\\site-packages\\sklearn\\metrics\\_classification.py\", line 1518, in _check_set_wise_labels\n",
      "    raise ValueError(\n",
      "ValueError: Target is multiclass but average='binary'. Please choose another average setting, one of [None, 'micro', 'macro', 'weighted'].\n",
      "\n",
      "  warnings.warn(\n",
      "C:\\Users\\antho\\anaconda3\\lib\\site-packages\\xgboost\\core.py:158: UserWarning: [16:59:25] WARNING: C:\\buildkite-agent\\builds\\buildkite-windows-cpu-autoscaling-group-i-06abd128ca6c1688d-1\\xgboost\\xgboost-ci-windows\\src\\learner.cc:740: \n",
      "Parameters: { \"use_label_encoder\" } are not used.\n",
      "\n",
      "  warnings.warn(smsg, UserWarning)\n"
     ]
    },
    {
     "name": "stderr",
     "output_type": "stream",
     "text": [
      "C:\\Users\\antho\\AppData\\Roaming\\Python\\Python39\\site-packages\\sklearn\\model_selection\\_validation.py:821: UserWarning: Scoring failed. The score on this train-test partition for these parameters will be set to nan. Details: \n",
      "Traceback (most recent call last):\n",
      "  File \"C:\\Users\\antho\\AppData\\Roaming\\Python\\Python39\\site-packages\\sklearn\\model_selection\\_validation.py\", line 810, in _score\n",
      "    scores = scorer(estimator, X_test, y_test)\n",
      "  File \"C:\\Users\\antho\\AppData\\Roaming\\Python\\Python39\\site-packages\\sklearn\\metrics\\_scorer.py\", line 266, in __call__\n",
      "    return self._score(partial(_cached_call, None), estimator, X, y_true, **_kwargs)\n",
      "  File \"C:\\Users\\antho\\AppData\\Roaming\\Python\\Python39\\site-packages\\sklearn\\metrics\\_scorer.py\", line 355, in _score\n",
      "    return self._sign * self._score_func(y_true, y_pred, **scoring_kwargs)\n",
      "  File \"C:\\Users\\antho\\AppData\\Roaming\\Python\\Python39\\site-packages\\sklearn\\utils\\_param_validation.py\", line 214, in wrapper\n",
      "    return func(*args, **kwargs)\n",
      "  File \"C:\\Users\\antho\\AppData\\Roaming\\Python\\Python39\\site-packages\\sklearn\\metrics\\_classification.py\", line 2304, in recall_score\n",
      "    _, r, _, _ = precision_recall_fscore_support(\n",
      "  File \"C:\\Users\\antho\\AppData\\Roaming\\Python\\Python39\\site-packages\\sklearn\\utils\\_param_validation.py\", line 187, in wrapper\n",
      "    return func(*args, **kwargs)\n",
      "  File \"C:\\Users\\antho\\AppData\\Roaming\\Python\\Python39\\site-packages\\sklearn\\metrics\\_classification.py\", line 1724, in precision_recall_fscore_support\n",
      "    labels = _check_set_wise_labels(y_true, y_pred, average, labels, pos_label)\n",
      "  File \"C:\\Users\\antho\\AppData\\Roaming\\Python\\Python39\\site-packages\\sklearn\\metrics\\_classification.py\", line 1518, in _check_set_wise_labels\n",
      "    raise ValueError(\n",
      "ValueError: Target is multiclass but average='binary'. Please choose another average setting, one of [None, 'micro', 'macro', 'weighted'].\n",
      "\n",
      "  warnings.warn(\n",
      "C:\\Users\\antho\\anaconda3\\lib\\site-packages\\xgboost\\core.py:158: UserWarning: [16:59:25] WARNING: C:\\buildkite-agent\\builds\\buildkite-windows-cpu-autoscaling-group-i-06abd128ca6c1688d-1\\xgboost\\xgboost-ci-windows\\src\\learner.cc:740: \n",
      "Parameters: { \"use_label_encoder\" } are not used.\n",
      "\n",
      "  warnings.warn(smsg, UserWarning)\n",
      "C:\\Users\\antho\\AppData\\Roaming\\Python\\Python39\\site-packages\\sklearn\\model_selection\\_validation.py:821: UserWarning: Scoring failed. The score on this train-test partition for these parameters will be set to nan. Details: \n",
      "Traceback (most recent call last):\n",
      "  File \"C:\\Users\\antho\\AppData\\Roaming\\Python\\Python39\\site-packages\\sklearn\\model_selection\\_validation.py\", line 810, in _score\n",
      "    scores = scorer(estimator, X_test, y_test)\n",
      "  File \"C:\\Users\\antho\\AppData\\Roaming\\Python\\Python39\\site-packages\\sklearn\\metrics\\_scorer.py\", line 266, in __call__\n",
      "    return self._score(partial(_cached_call, None), estimator, X, y_true, **_kwargs)\n",
      "  File \"C:\\Users\\antho\\AppData\\Roaming\\Python\\Python39\\site-packages\\sklearn\\metrics\\_scorer.py\", line 355, in _score\n",
      "    return self._sign * self._score_func(y_true, y_pred, **scoring_kwargs)\n",
      "  File \"C:\\Users\\antho\\AppData\\Roaming\\Python\\Python39\\site-packages\\sklearn\\utils\\_param_validation.py\", line 214, in wrapper\n",
      "    return func(*args, **kwargs)\n",
      "  File \"C:\\Users\\antho\\AppData\\Roaming\\Python\\Python39\\site-packages\\sklearn\\metrics\\_classification.py\", line 2304, in recall_score\n",
      "    _, r, _, _ = precision_recall_fscore_support(\n",
      "  File \"C:\\Users\\antho\\AppData\\Roaming\\Python\\Python39\\site-packages\\sklearn\\utils\\_param_validation.py\", line 187, in wrapper\n",
      "    return func(*args, **kwargs)\n",
      "  File \"C:\\Users\\antho\\AppData\\Roaming\\Python\\Python39\\site-packages\\sklearn\\metrics\\_classification.py\", line 1724, in precision_recall_fscore_support\n",
      "    labels = _check_set_wise_labels(y_true, y_pred, average, labels, pos_label)\n",
      "  File \"C:\\Users\\antho\\AppData\\Roaming\\Python\\Python39\\site-packages\\sklearn\\metrics\\_classification.py\", line 1518, in _check_set_wise_labels\n",
      "    raise ValueError(\n",
      "ValueError: Target is multiclass but average='binary'. Please choose another average setting, one of [None, 'micro', 'macro', 'weighted'].\n",
      "\n",
      "  warnings.warn(\n",
      "C:\\Users\\antho\\anaconda3\\lib\\site-packages\\xgboost\\core.py:158: UserWarning: [16:59:26] WARNING: C:\\buildkite-agent\\builds\\buildkite-windows-cpu-autoscaling-group-i-06abd128ca6c1688d-1\\xgboost\\xgboost-ci-windows\\src\\learner.cc:740: \n",
      "Parameters: { \"use_label_encoder\" } are not used.\n",
      "\n",
      "  warnings.warn(smsg, UserWarning)\n",
      "C:\\Users\\antho\\AppData\\Roaming\\Python\\Python39\\site-packages\\sklearn\\model_selection\\_validation.py:821: UserWarning: Scoring failed. The score on this train-test partition for these parameters will be set to nan. Details: \n",
      "Traceback (most recent call last):\n",
      "  File \"C:\\Users\\antho\\AppData\\Roaming\\Python\\Python39\\site-packages\\sklearn\\model_selection\\_validation.py\", line 810, in _score\n",
      "    scores = scorer(estimator, X_test, y_test)\n",
      "  File \"C:\\Users\\antho\\AppData\\Roaming\\Python\\Python39\\site-packages\\sklearn\\metrics\\_scorer.py\", line 266, in __call__\n",
      "    return self._score(partial(_cached_call, None), estimator, X, y_true, **_kwargs)\n",
      "  File \"C:\\Users\\antho\\AppData\\Roaming\\Python\\Python39\\site-packages\\sklearn\\metrics\\_scorer.py\", line 355, in _score\n",
      "    return self._sign * self._score_func(y_true, y_pred, **scoring_kwargs)\n",
      "  File \"C:\\Users\\antho\\AppData\\Roaming\\Python\\Python39\\site-packages\\sklearn\\utils\\_param_validation.py\", line 214, in wrapper\n",
      "    return func(*args, **kwargs)\n",
      "  File \"C:\\Users\\antho\\AppData\\Roaming\\Python\\Python39\\site-packages\\sklearn\\metrics\\_classification.py\", line 2304, in recall_score\n",
      "    _, r, _, _ = precision_recall_fscore_support(\n",
      "  File \"C:\\Users\\antho\\AppData\\Roaming\\Python\\Python39\\site-packages\\sklearn\\utils\\_param_validation.py\", line 187, in wrapper\n",
      "    return func(*args, **kwargs)\n",
      "  File \"C:\\Users\\antho\\AppData\\Roaming\\Python\\Python39\\site-packages\\sklearn\\metrics\\_classification.py\", line 1724, in precision_recall_fscore_support\n",
      "    labels = _check_set_wise_labels(y_true, y_pred, average, labels, pos_label)\n",
      "  File \"C:\\Users\\antho\\AppData\\Roaming\\Python\\Python39\\site-packages\\sklearn\\metrics\\_classification.py\", line 1518, in _check_set_wise_labels\n",
      "    raise ValueError(\n",
      "ValueError: Target is multiclass but average='binary'. Please choose another average setting, one of [None, 'micro', 'macro', 'weighted'].\n",
      "\n",
      "  warnings.warn(\n",
      "C:\\Users\\antho\\anaconda3\\lib\\site-packages\\xgboost\\core.py:158: UserWarning: [16:59:26] WARNING: C:\\buildkite-agent\\builds\\buildkite-windows-cpu-autoscaling-group-i-06abd128ca6c1688d-1\\xgboost\\xgboost-ci-windows\\src\\learner.cc:740: \n",
      "Parameters: { \"use_label_encoder\" } are not used.\n",
      "\n",
      "  warnings.warn(smsg, UserWarning)\n",
      "C:\\Users\\antho\\AppData\\Roaming\\Python\\Python39\\site-packages\\sklearn\\model_selection\\_validation.py:821: UserWarning: Scoring failed. The score on this train-test partition for these parameters will be set to nan. Details: \n",
      "Traceback (most recent call last):\n",
      "  File \"C:\\Users\\antho\\AppData\\Roaming\\Python\\Python39\\site-packages\\sklearn\\model_selection\\_validation.py\", line 810, in _score\n",
      "    scores = scorer(estimator, X_test, y_test)\n",
      "  File \"C:\\Users\\antho\\AppData\\Roaming\\Python\\Python39\\site-packages\\sklearn\\metrics\\_scorer.py\", line 266, in __call__\n",
      "    return self._score(partial(_cached_call, None), estimator, X, y_true, **_kwargs)\n",
      "  File \"C:\\Users\\antho\\AppData\\Roaming\\Python\\Python39\\site-packages\\sklearn\\metrics\\_scorer.py\", line 355, in _score\n",
      "    return self._sign * self._score_func(y_true, y_pred, **scoring_kwargs)\n",
      "  File \"C:\\Users\\antho\\AppData\\Roaming\\Python\\Python39\\site-packages\\sklearn\\utils\\_param_validation.py\", line 214, in wrapper\n",
      "    return func(*args, **kwargs)\n",
      "  File \"C:\\Users\\antho\\AppData\\Roaming\\Python\\Python39\\site-packages\\sklearn\\metrics\\_classification.py\", line 2304, in recall_score\n",
      "    _, r, _, _ = precision_recall_fscore_support(\n",
      "  File \"C:\\Users\\antho\\AppData\\Roaming\\Python\\Python39\\site-packages\\sklearn\\utils\\_param_validation.py\", line 187, in wrapper\n",
      "    return func(*args, **kwargs)\n",
      "  File \"C:\\Users\\antho\\AppData\\Roaming\\Python\\Python39\\site-packages\\sklearn\\metrics\\_classification.py\", line 1724, in precision_recall_fscore_support\n",
      "    labels = _check_set_wise_labels(y_true, y_pred, average, labels, pos_label)\n",
      "  File \"C:\\Users\\antho\\AppData\\Roaming\\Python\\Python39\\site-packages\\sklearn\\metrics\\_classification.py\", line 1518, in _check_set_wise_labels\n",
      "    raise ValueError(\n",
      "ValueError: Target is multiclass but average='binary'. Please choose another average setting, one of [None, 'micro', 'macro', 'weighted'].\n",
      "\n",
      "  warnings.warn(\n",
      "C:\\Users\\antho\\anaconda3\\lib\\site-packages\\xgboost\\core.py:158: UserWarning: [16:59:26] WARNING: C:\\buildkite-agent\\builds\\buildkite-windows-cpu-autoscaling-group-i-06abd128ca6c1688d-1\\xgboost\\xgboost-ci-windows\\src\\learner.cc:740: \n",
      "Parameters: { \"use_label_encoder\" } are not used.\n",
      "\n",
      "  warnings.warn(smsg, UserWarning)\n",
      "C:\\Users\\antho\\AppData\\Roaming\\Python\\Python39\\site-packages\\sklearn\\model_selection\\_validation.py:821: UserWarning: Scoring failed. The score on this train-test partition for these parameters will be set to nan. Details: \n",
      "Traceback (most recent call last):\n",
      "  File \"C:\\Users\\antho\\AppData\\Roaming\\Python\\Python39\\site-packages\\sklearn\\model_selection\\_validation.py\", line 810, in _score\n",
      "    scores = scorer(estimator, X_test, y_test)\n",
      "  File \"C:\\Users\\antho\\AppData\\Roaming\\Python\\Python39\\site-packages\\sklearn\\metrics\\_scorer.py\", line 266, in __call__\n",
      "    return self._score(partial(_cached_call, None), estimator, X, y_true, **_kwargs)\n",
      "  File \"C:\\Users\\antho\\AppData\\Roaming\\Python\\Python39\\site-packages\\sklearn\\metrics\\_scorer.py\", line 355, in _score\n",
      "    return self._sign * self._score_func(y_true, y_pred, **scoring_kwargs)\n",
      "  File \"C:\\Users\\antho\\AppData\\Roaming\\Python\\Python39\\site-packages\\sklearn\\utils\\_param_validation.py\", line 214, in wrapper\n",
      "    return func(*args, **kwargs)\n",
      "  File \"C:\\Users\\antho\\AppData\\Roaming\\Python\\Python39\\site-packages\\sklearn\\metrics\\_classification.py\", line 2304, in recall_score\n",
      "    _, r, _, _ = precision_recall_fscore_support(\n",
      "  File \"C:\\Users\\antho\\AppData\\Roaming\\Python\\Python39\\site-packages\\sklearn\\utils\\_param_validation.py\", line 187, in wrapper\n",
      "    return func(*args, **kwargs)\n",
      "  File \"C:\\Users\\antho\\AppData\\Roaming\\Python\\Python39\\site-packages\\sklearn\\metrics\\_classification.py\", line 1724, in precision_recall_fscore_support\n",
      "    labels = _check_set_wise_labels(y_true, y_pred, average, labels, pos_label)\n",
      "  File \"C:\\Users\\antho\\AppData\\Roaming\\Python\\Python39\\site-packages\\sklearn\\metrics\\_classification.py\", line 1518, in _check_set_wise_labels\n",
      "    raise ValueError(\n",
      "ValueError: Target is multiclass but average='binary'. Please choose another average setting, one of [None, 'micro', 'macro', 'weighted'].\n",
      "\n",
      "  warnings.warn(\n",
      "C:\\Users\\antho\\anaconda3\\lib\\site-packages\\xgboost\\core.py:158: UserWarning: [16:59:26] WARNING: C:\\buildkite-agent\\builds\\buildkite-windows-cpu-autoscaling-group-i-06abd128ca6c1688d-1\\xgboost\\xgboost-ci-windows\\src\\learner.cc:740: \n",
      "Parameters: { \"use_label_encoder\" } are not used.\n",
      "\n",
      "  warnings.warn(smsg, UserWarning)\n",
      "C:\\Users\\antho\\AppData\\Roaming\\Python\\Python39\\site-packages\\sklearn\\model_selection\\_validation.py:821: UserWarning: Scoring failed. The score on this train-test partition for these parameters will be set to nan. Details: \n",
      "Traceback (most recent call last):\n",
      "  File \"C:\\Users\\antho\\AppData\\Roaming\\Python\\Python39\\site-packages\\sklearn\\model_selection\\_validation.py\", line 810, in _score\n",
      "    scores = scorer(estimator, X_test, y_test)\n",
      "  File \"C:\\Users\\antho\\AppData\\Roaming\\Python\\Python39\\site-packages\\sklearn\\metrics\\_scorer.py\", line 266, in __call__\n",
      "    return self._score(partial(_cached_call, None), estimator, X, y_true, **_kwargs)\n",
      "  File \"C:\\Users\\antho\\AppData\\Roaming\\Python\\Python39\\site-packages\\sklearn\\metrics\\_scorer.py\", line 355, in _score\n",
      "    return self._sign * self._score_func(y_true, y_pred, **scoring_kwargs)\n",
      "  File \"C:\\Users\\antho\\AppData\\Roaming\\Python\\Python39\\site-packages\\sklearn\\utils\\_param_validation.py\", line 214, in wrapper\n",
      "    return func(*args, **kwargs)\n",
      "  File \"C:\\Users\\antho\\AppData\\Roaming\\Python\\Python39\\site-packages\\sklearn\\metrics\\_classification.py\", line 2304, in recall_score\n",
      "    _, r, _, _ = precision_recall_fscore_support(\n",
      "  File \"C:\\Users\\antho\\AppData\\Roaming\\Python\\Python39\\site-packages\\sklearn\\utils\\_param_validation.py\", line 187, in wrapper\n",
      "    return func(*args, **kwargs)\n",
      "  File \"C:\\Users\\antho\\AppData\\Roaming\\Python\\Python39\\site-packages\\sklearn\\metrics\\_classification.py\", line 1724, in precision_recall_fscore_support\n",
      "    labels = _check_set_wise_labels(y_true, y_pred, average, labels, pos_label)\n",
      "  File \"C:\\Users\\antho\\AppData\\Roaming\\Python\\Python39\\site-packages\\sklearn\\metrics\\_classification.py\", line 1518, in _check_set_wise_labels\n",
      "    raise ValueError(\n",
      "ValueError: Target is multiclass but average='binary'. Please choose another average setting, one of [None, 'micro', 'macro', 'weighted'].\n",
      "\n",
      "  warnings.warn(\n"
     ]
    },
    {
     "name": "stderr",
     "output_type": "stream",
     "text": [
      "C:\\Users\\antho\\anaconda3\\lib\\site-packages\\xgboost\\core.py:158: UserWarning: [16:59:27] WARNING: C:\\buildkite-agent\\builds\\buildkite-windows-cpu-autoscaling-group-i-06abd128ca6c1688d-1\\xgboost\\xgboost-ci-windows\\src\\learner.cc:740: \n",
      "Parameters: { \"use_label_encoder\" } are not used.\n",
      "\n",
      "  warnings.warn(smsg, UserWarning)\n",
      "C:\\Users\\antho\\AppData\\Roaming\\Python\\Python39\\site-packages\\sklearn\\model_selection\\_validation.py:821: UserWarning: Scoring failed. The score on this train-test partition for these parameters will be set to nan. Details: \n",
      "Traceback (most recent call last):\n",
      "  File \"C:\\Users\\antho\\AppData\\Roaming\\Python\\Python39\\site-packages\\sklearn\\model_selection\\_validation.py\", line 810, in _score\n",
      "    scores = scorer(estimator, X_test, y_test)\n",
      "  File \"C:\\Users\\antho\\AppData\\Roaming\\Python\\Python39\\site-packages\\sklearn\\metrics\\_scorer.py\", line 266, in __call__\n",
      "    return self._score(partial(_cached_call, None), estimator, X, y_true, **_kwargs)\n",
      "  File \"C:\\Users\\antho\\AppData\\Roaming\\Python\\Python39\\site-packages\\sklearn\\metrics\\_scorer.py\", line 355, in _score\n",
      "    return self._sign * self._score_func(y_true, y_pred, **scoring_kwargs)\n",
      "  File \"C:\\Users\\antho\\AppData\\Roaming\\Python\\Python39\\site-packages\\sklearn\\utils\\_param_validation.py\", line 214, in wrapper\n",
      "    return func(*args, **kwargs)\n",
      "  File \"C:\\Users\\antho\\AppData\\Roaming\\Python\\Python39\\site-packages\\sklearn\\metrics\\_classification.py\", line 2304, in recall_score\n",
      "    _, r, _, _ = precision_recall_fscore_support(\n",
      "  File \"C:\\Users\\antho\\AppData\\Roaming\\Python\\Python39\\site-packages\\sklearn\\utils\\_param_validation.py\", line 187, in wrapper\n",
      "    return func(*args, **kwargs)\n",
      "  File \"C:\\Users\\antho\\AppData\\Roaming\\Python\\Python39\\site-packages\\sklearn\\metrics\\_classification.py\", line 1724, in precision_recall_fscore_support\n",
      "    labels = _check_set_wise_labels(y_true, y_pred, average, labels, pos_label)\n",
      "  File \"C:\\Users\\antho\\AppData\\Roaming\\Python\\Python39\\site-packages\\sklearn\\metrics\\_classification.py\", line 1518, in _check_set_wise_labels\n",
      "    raise ValueError(\n",
      "ValueError: Target is multiclass but average='binary'. Please choose another average setting, one of [None, 'micro', 'macro', 'weighted'].\n",
      "\n",
      "  warnings.warn(\n",
      "C:\\Users\\antho\\anaconda3\\lib\\site-packages\\xgboost\\core.py:158: UserWarning: [16:59:27] WARNING: C:\\buildkite-agent\\builds\\buildkite-windows-cpu-autoscaling-group-i-06abd128ca6c1688d-1\\xgboost\\xgboost-ci-windows\\src\\learner.cc:740: \n",
      "Parameters: { \"use_label_encoder\" } are not used.\n",
      "\n",
      "  warnings.warn(smsg, UserWarning)\n",
      "C:\\Users\\antho\\AppData\\Roaming\\Python\\Python39\\site-packages\\sklearn\\model_selection\\_validation.py:821: UserWarning: Scoring failed. The score on this train-test partition for these parameters will be set to nan. Details: \n",
      "Traceback (most recent call last):\n",
      "  File \"C:\\Users\\antho\\AppData\\Roaming\\Python\\Python39\\site-packages\\sklearn\\model_selection\\_validation.py\", line 810, in _score\n",
      "    scores = scorer(estimator, X_test, y_test)\n",
      "  File \"C:\\Users\\antho\\AppData\\Roaming\\Python\\Python39\\site-packages\\sklearn\\metrics\\_scorer.py\", line 266, in __call__\n",
      "    return self._score(partial(_cached_call, None), estimator, X, y_true, **_kwargs)\n",
      "  File \"C:\\Users\\antho\\AppData\\Roaming\\Python\\Python39\\site-packages\\sklearn\\metrics\\_scorer.py\", line 355, in _score\n",
      "    return self._sign * self._score_func(y_true, y_pred, **scoring_kwargs)\n",
      "  File \"C:\\Users\\antho\\AppData\\Roaming\\Python\\Python39\\site-packages\\sklearn\\utils\\_param_validation.py\", line 214, in wrapper\n",
      "    return func(*args, **kwargs)\n",
      "  File \"C:\\Users\\antho\\AppData\\Roaming\\Python\\Python39\\site-packages\\sklearn\\metrics\\_classification.py\", line 2304, in recall_score\n",
      "    _, r, _, _ = precision_recall_fscore_support(\n",
      "  File \"C:\\Users\\antho\\AppData\\Roaming\\Python\\Python39\\site-packages\\sklearn\\utils\\_param_validation.py\", line 187, in wrapper\n",
      "    return func(*args, **kwargs)\n",
      "  File \"C:\\Users\\antho\\AppData\\Roaming\\Python\\Python39\\site-packages\\sklearn\\metrics\\_classification.py\", line 1724, in precision_recall_fscore_support\n",
      "    labels = _check_set_wise_labels(y_true, y_pred, average, labels, pos_label)\n",
      "  File \"C:\\Users\\antho\\AppData\\Roaming\\Python\\Python39\\site-packages\\sklearn\\metrics\\_classification.py\", line 1518, in _check_set_wise_labels\n",
      "    raise ValueError(\n",
      "ValueError: Target is multiclass but average='binary'. Please choose another average setting, one of [None, 'micro', 'macro', 'weighted'].\n",
      "\n",
      "  warnings.warn(\n",
      "C:\\Users\\antho\\anaconda3\\lib\\site-packages\\xgboost\\core.py:158: UserWarning: [16:59:27] WARNING: C:\\buildkite-agent\\builds\\buildkite-windows-cpu-autoscaling-group-i-06abd128ca6c1688d-1\\xgboost\\xgboost-ci-windows\\src\\learner.cc:740: \n",
      "Parameters: { \"use_label_encoder\" } are not used.\n",
      "\n",
      "  warnings.warn(smsg, UserWarning)\n",
      "C:\\Users\\antho\\AppData\\Roaming\\Python\\Python39\\site-packages\\sklearn\\model_selection\\_validation.py:821: UserWarning: Scoring failed. The score on this train-test partition for these parameters will be set to nan. Details: \n",
      "Traceback (most recent call last):\n",
      "  File \"C:\\Users\\antho\\AppData\\Roaming\\Python\\Python39\\site-packages\\sklearn\\model_selection\\_validation.py\", line 810, in _score\n",
      "    scores = scorer(estimator, X_test, y_test)\n",
      "  File \"C:\\Users\\antho\\AppData\\Roaming\\Python\\Python39\\site-packages\\sklearn\\metrics\\_scorer.py\", line 266, in __call__\n",
      "    return self._score(partial(_cached_call, None), estimator, X, y_true, **_kwargs)\n",
      "  File \"C:\\Users\\antho\\AppData\\Roaming\\Python\\Python39\\site-packages\\sklearn\\metrics\\_scorer.py\", line 355, in _score\n",
      "    return self._sign * self._score_func(y_true, y_pred, **scoring_kwargs)\n",
      "  File \"C:\\Users\\antho\\AppData\\Roaming\\Python\\Python39\\site-packages\\sklearn\\utils\\_param_validation.py\", line 214, in wrapper\n",
      "    return func(*args, **kwargs)\n",
      "  File \"C:\\Users\\antho\\AppData\\Roaming\\Python\\Python39\\site-packages\\sklearn\\metrics\\_classification.py\", line 2304, in recall_score\n",
      "    _, r, _, _ = precision_recall_fscore_support(\n",
      "  File \"C:\\Users\\antho\\AppData\\Roaming\\Python\\Python39\\site-packages\\sklearn\\utils\\_param_validation.py\", line 187, in wrapper\n",
      "    return func(*args, **kwargs)\n",
      "  File \"C:\\Users\\antho\\AppData\\Roaming\\Python\\Python39\\site-packages\\sklearn\\metrics\\_classification.py\", line 1724, in precision_recall_fscore_support\n",
      "    labels = _check_set_wise_labels(y_true, y_pred, average, labels, pos_label)\n",
      "  File \"C:\\Users\\antho\\AppData\\Roaming\\Python\\Python39\\site-packages\\sklearn\\metrics\\_classification.py\", line 1518, in _check_set_wise_labels\n",
      "    raise ValueError(\n",
      "ValueError: Target is multiclass but average='binary'. Please choose another average setting, one of [None, 'micro', 'macro', 'weighted'].\n",
      "\n",
      "  warnings.warn(\n",
      "C:\\Users\\antho\\anaconda3\\lib\\site-packages\\xgboost\\core.py:158: UserWarning: [16:59:27] WARNING: C:\\buildkite-agent\\builds\\buildkite-windows-cpu-autoscaling-group-i-06abd128ca6c1688d-1\\xgboost\\xgboost-ci-windows\\src\\learner.cc:740: \n",
      "Parameters: { \"use_label_encoder\" } are not used.\n",
      "\n",
      "  warnings.warn(smsg, UserWarning)\n",
      "C:\\Users\\antho\\AppData\\Roaming\\Python\\Python39\\site-packages\\sklearn\\model_selection\\_validation.py:821: UserWarning: Scoring failed. The score on this train-test partition for these parameters will be set to nan. Details: \n",
      "Traceback (most recent call last):\n",
      "  File \"C:\\Users\\antho\\AppData\\Roaming\\Python\\Python39\\site-packages\\sklearn\\model_selection\\_validation.py\", line 810, in _score\n",
      "    scores = scorer(estimator, X_test, y_test)\n",
      "  File \"C:\\Users\\antho\\AppData\\Roaming\\Python\\Python39\\site-packages\\sklearn\\metrics\\_scorer.py\", line 266, in __call__\n",
      "    return self._score(partial(_cached_call, None), estimator, X, y_true, **_kwargs)\n",
      "  File \"C:\\Users\\antho\\AppData\\Roaming\\Python\\Python39\\site-packages\\sklearn\\metrics\\_scorer.py\", line 355, in _score\n",
      "    return self._sign * self._score_func(y_true, y_pred, **scoring_kwargs)\n",
      "  File \"C:\\Users\\antho\\AppData\\Roaming\\Python\\Python39\\site-packages\\sklearn\\utils\\_param_validation.py\", line 214, in wrapper\n",
      "    return func(*args, **kwargs)\n",
      "  File \"C:\\Users\\antho\\AppData\\Roaming\\Python\\Python39\\site-packages\\sklearn\\metrics\\_classification.py\", line 2304, in recall_score\n",
      "    _, r, _, _ = precision_recall_fscore_support(\n",
      "  File \"C:\\Users\\antho\\AppData\\Roaming\\Python\\Python39\\site-packages\\sklearn\\utils\\_param_validation.py\", line 187, in wrapper\n",
      "    return func(*args, **kwargs)\n",
      "  File \"C:\\Users\\antho\\AppData\\Roaming\\Python\\Python39\\site-packages\\sklearn\\metrics\\_classification.py\", line 1724, in precision_recall_fscore_support\n",
      "    labels = _check_set_wise_labels(y_true, y_pred, average, labels, pos_label)\n",
      "  File \"C:\\Users\\antho\\AppData\\Roaming\\Python\\Python39\\site-packages\\sklearn\\metrics\\_classification.py\", line 1518, in _check_set_wise_labels\n",
      "    raise ValueError(\n",
      "ValueError: Target is multiclass but average='binary'. Please choose another average setting, one of [None, 'micro', 'macro', 'weighted'].\n",
      "\n",
      "  warnings.warn(\n",
      "C:\\Users\\antho\\anaconda3\\lib\\site-packages\\xgboost\\core.py:158: UserWarning: [16:59:27] WARNING: C:\\buildkite-agent\\builds\\buildkite-windows-cpu-autoscaling-group-i-06abd128ca6c1688d-1\\xgboost\\xgboost-ci-windows\\src\\learner.cc:740: \n",
      "Parameters: { \"use_label_encoder\" } are not used.\n",
      "\n",
      "  warnings.warn(smsg, UserWarning)\n"
     ]
    },
    {
     "name": "stderr",
     "output_type": "stream",
     "text": [
      "C:\\Users\\antho\\AppData\\Roaming\\Python\\Python39\\site-packages\\sklearn\\model_selection\\_validation.py:821: UserWarning: Scoring failed. The score on this train-test partition for these parameters will be set to nan. Details: \n",
      "Traceback (most recent call last):\n",
      "  File \"C:\\Users\\antho\\AppData\\Roaming\\Python\\Python39\\site-packages\\sklearn\\model_selection\\_validation.py\", line 810, in _score\n",
      "    scores = scorer(estimator, X_test, y_test)\n",
      "  File \"C:\\Users\\antho\\AppData\\Roaming\\Python\\Python39\\site-packages\\sklearn\\metrics\\_scorer.py\", line 266, in __call__\n",
      "    return self._score(partial(_cached_call, None), estimator, X, y_true, **_kwargs)\n",
      "  File \"C:\\Users\\antho\\AppData\\Roaming\\Python\\Python39\\site-packages\\sklearn\\metrics\\_scorer.py\", line 355, in _score\n",
      "    return self._sign * self._score_func(y_true, y_pred, **scoring_kwargs)\n",
      "  File \"C:\\Users\\antho\\AppData\\Roaming\\Python\\Python39\\site-packages\\sklearn\\utils\\_param_validation.py\", line 214, in wrapper\n",
      "    return func(*args, **kwargs)\n",
      "  File \"C:\\Users\\antho\\AppData\\Roaming\\Python\\Python39\\site-packages\\sklearn\\metrics\\_classification.py\", line 2304, in recall_score\n",
      "    _, r, _, _ = precision_recall_fscore_support(\n",
      "  File \"C:\\Users\\antho\\AppData\\Roaming\\Python\\Python39\\site-packages\\sklearn\\utils\\_param_validation.py\", line 187, in wrapper\n",
      "    return func(*args, **kwargs)\n",
      "  File \"C:\\Users\\antho\\AppData\\Roaming\\Python\\Python39\\site-packages\\sklearn\\metrics\\_classification.py\", line 1724, in precision_recall_fscore_support\n",
      "    labels = _check_set_wise_labels(y_true, y_pred, average, labels, pos_label)\n",
      "  File \"C:\\Users\\antho\\AppData\\Roaming\\Python\\Python39\\site-packages\\sklearn\\metrics\\_classification.py\", line 1518, in _check_set_wise_labels\n",
      "    raise ValueError(\n",
      "ValueError: Target is multiclass but average='binary'. Please choose another average setting, one of [None, 'micro', 'macro', 'weighted'].\n",
      "\n",
      "  warnings.warn(\n",
      "C:\\Users\\antho\\anaconda3\\lib\\site-packages\\xgboost\\core.py:158: UserWarning: [16:59:27] WARNING: C:\\buildkite-agent\\builds\\buildkite-windows-cpu-autoscaling-group-i-06abd128ca6c1688d-1\\xgboost\\xgboost-ci-windows\\src\\learner.cc:740: \n",
      "Parameters: { \"use_label_encoder\" } are not used.\n",
      "\n",
      "  warnings.warn(smsg, UserWarning)\n",
      "C:\\Users\\antho\\AppData\\Roaming\\Python\\Python39\\site-packages\\sklearn\\model_selection\\_validation.py:821: UserWarning: Scoring failed. The score on this train-test partition for these parameters will be set to nan. Details: \n",
      "Traceback (most recent call last):\n",
      "  File \"C:\\Users\\antho\\AppData\\Roaming\\Python\\Python39\\site-packages\\sklearn\\model_selection\\_validation.py\", line 810, in _score\n",
      "    scores = scorer(estimator, X_test, y_test)\n",
      "  File \"C:\\Users\\antho\\AppData\\Roaming\\Python\\Python39\\site-packages\\sklearn\\metrics\\_scorer.py\", line 266, in __call__\n",
      "    return self._score(partial(_cached_call, None), estimator, X, y_true, **_kwargs)\n",
      "  File \"C:\\Users\\antho\\AppData\\Roaming\\Python\\Python39\\site-packages\\sklearn\\metrics\\_scorer.py\", line 355, in _score\n",
      "    return self._sign * self._score_func(y_true, y_pred, **scoring_kwargs)\n",
      "  File \"C:\\Users\\antho\\AppData\\Roaming\\Python\\Python39\\site-packages\\sklearn\\utils\\_param_validation.py\", line 214, in wrapper\n",
      "    return func(*args, **kwargs)\n",
      "  File \"C:\\Users\\antho\\AppData\\Roaming\\Python\\Python39\\site-packages\\sklearn\\metrics\\_classification.py\", line 2304, in recall_score\n",
      "    _, r, _, _ = precision_recall_fscore_support(\n",
      "  File \"C:\\Users\\antho\\AppData\\Roaming\\Python\\Python39\\site-packages\\sklearn\\utils\\_param_validation.py\", line 187, in wrapper\n",
      "    return func(*args, **kwargs)\n",
      "  File \"C:\\Users\\antho\\AppData\\Roaming\\Python\\Python39\\site-packages\\sklearn\\metrics\\_classification.py\", line 1724, in precision_recall_fscore_support\n",
      "    labels = _check_set_wise_labels(y_true, y_pred, average, labels, pos_label)\n",
      "  File \"C:\\Users\\antho\\AppData\\Roaming\\Python\\Python39\\site-packages\\sklearn\\metrics\\_classification.py\", line 1518, in _check_set_wise_labels\n",
      "    raise ValueError(\n",
      "ValueError: Target is multiclass but average='binary'. Please choose another average setting, one of [None, 'micro', 'macro', 'weighted'].\n",
      "\n",
      "  warnings.warn(\n",
      "C:\\Users\\antho\\anaconda3\\lib\\site-packages\\xgboost\\core.py:158: UserWarning: [16:59:28] WARNING: C:\\buildkite-agent\\builds\\buildkite-windows-cpu-autoscaling-group-i-06abd128ca6c1688d-1\\xgboost\\xgboost-ci-windows\\src\\learner.cc:740: \n",
      "Parameters: { \"use_label_encoder\" } are not used.\n",
      "\n",
      "  warnings.warn(smsg, UserWarning)\n",
      "C:\\Users\\antho\\AppData\\Roaming\\Python\\Python39\\site-packages\\sklearn\\model_selection\\_validation.py:821: UserWarning: Scoring failed. The score on this train-test partition for these parameters will be set to nan. Details: \n",
      "Traceback (most recent call last):\n",
      "  File \"C:\\Users\\antho\\AppData\\Roaming\\Python\\Python39\\site-packages\\sklearn\\model_selection\\_validation.py\", line 810, in _score\n",
      "    scores = scorer(estimator, X_test, y_test)\n",
      "  File \"C:\\Users\\antho\\AppData\\Roaming\\Python\\Python39\\site-packages\\sklearn\\metrics\\_scorer.py\", line 266, in __call__\n",
      "    return self._score(partial(_cached_call, None), estimator, X, y_true, **_kwargs)\n",
      "  File \"C:\\Users\\antho\\AppData\\Roaming\\Python\\Python39\\site-packages\\sklearn\\metrics\\_scorer.py\", line 355, in _score\n",
      "    return self._sign * self._score_func(y_true, y_pred, **scoring_kwargs)\n",
      "  File \"C:\\Users\\antho\\AppData\\Roaming\\Python\\Python39\\site-packages\\sklearn\\utils\\_param_validation.py\", line 214, in wrapper\n",
      "    return func(*args, **kwargs)\n",
      "  File \"C:\\Users\\antho\\AppData\\Roaming\\Python\\Python39\\site-packages\\sklearn\\metrics\\_classification.py\", line 2304, in recall_score\n",
      "    _, r, _, _ = precision_recall_fscore_support(\n",
      "  File \"C:\\Users\\antho\\AppData\\Roaming\\Python\\Python39\\site-packages\\sklearn\\utils\\_param_validation.py\", line 187, in wrapper\n",
      "    return func(*args, **kwargs)\n",
      "  File \"C:\\Users\\antho\\AppData\\Roaming\\Python\\Python39\\site-packages\\sklearn\\metrics\\_classification.py\", line 1724, in precision_recall_fscore_support\n",
      "    labels = _check_set_wise_labels(y_true, y_pred, average, labels, pos_label)\n",
      "  File \"C:\\Users\\antho\\AppData\\Roaming\\Python\\Python39\\site-packages\\sklearn\\metrics\\_classification.py\", line 1518, in _check_set_wise_labels\n",
      "    raise ValueError(\n",
      "ValueError: Target is multiclass but average='binary'. Please choose another average setting, one of [None, 'micro', 'macro', 'weighted'].\n",
      "\n",
      "  warnings.warn(\n",
      "C:\\Users\\antho\\anaconda3\\lib\\site-packages\\xgboost\\core.py:158: UserWarning: [16:59:28] WARNING: C:\\buildkite-agent\\builds\\buildkite-windows-cpu-autoscaling-group-i-06abd128ca6c1688d-1\\xgboost\\xgboost-ci-windows\\src\\learner.cc:740: \n",
      "Parameters: { \"use_label_encoder\" } are not used.\n",
      "\n",
      "  warnings.warn(smsg, UserWarning)\n",
      "C:\\Users\\antho\\AppData\\Roaming\\Python\\Python39\\site-packages\\sklearn\\model_selection\\_validation.py:821: UserWarning: Scoring failed. The score on this train-test partition for these parameters will be set to nan. Details: \n",
      "Traceback (most recent call last):\n",
      "  File \"C:\\Users\\antho\\AppData\\Roaming\\Python\\Python39\\site-packages\\sklearn\\model_selection\\_validation.py\", line 810, in _score\n",
      "    scores = scorer(estimator, X_test, y_test)\n",
      "  File \"C:\\Users\\antho\\AppData\\Roaming\\Python\\Python39\\site-packages\\sklearn\\metrics\\_scorer.py\", line 266, in __call__\n",
      "    return self._score(partial(_cached_call, None), estimator, X, y_true, **_kwargs)\n",
      "  File \"C:\\Users\\antho\\AppData\\Roaming\\Python\\Python39\\site-packages\\sklearn\\metrics\\_scorer.py\", line 355, in _score\n",
      "    return self._sign * self._score_func(y_true, y_pred, **scoring_kwargs)\n",
      "  File \"C:\\Users\\antho\\AppData\\Roaming\\Python\\Python39\\site-packages\\sklearn\\utils\\_param_validation.py\", line 214, in wrapper\n",
      "    return func(*args, **kwargs)\n",
      "  File \"C:\\Users\\antho\\AppData\\Roaming\\Python\\Python39\\site-packages\\sklearn\\metrics\\_classification.py\", line 2304, in recall_score\n",
      "    _, r, _, _ = precision_recall_fscore_support(\n",
      "  File \"C:\\Users\\antho\\AppData\\Roaming\\Python\\Python39\\site-packages\\sklearn\\utils\\_param_validation.py\", line 187, in wrapper\n",
      "    return func(*args, **kwargs)\n",
      "  File \"C:\\Users\\antho\\AppData\\Roaming\\Python\\Python39\\site-packages\\sklearn\\metrics\\_classification.py\", line 1724, in precision_recall_fscore_support\n",
      "    labels = _check_set_wise_labels(y_true, y_pred, average, labels, pos_label)\n",
      "  File \"C:\\Users\\antho\\AppData\\Roaming\\Python\\Python39\\site-packages\\sklearn\\metrics\\_classification.py\", line 1518, in _check_set_wise_labels\n",
      "    raise ValueError(\n",
      "ValueError: Target is multiclass but average='binary'. Please choose another average setting, one of [None, 'micro', 'macro', 'weighted'].\n",
      "\n",
      "  warnings.warn(\n",
      "C:\\Users\\antho\\anaconda3\\lib\\site-packages\\xgboost\\core.py:158: UserWarning: [16:59:28] WARNING: C:\\buildkite-agent\\builds\\buildkite-windows-cpu-autoscaling-group-i-06abd128ca6c1688d-1\\xgboost\\xgboost-ci-windows\\src\\learner.cc:740: \n",
      "Parameters: { \"use_label_encoder\" } are not used.\n",
      "\n",
      "  warnings.warn(smsg, UserWarning)\n"
     ]
    },
    {
     "name": "stderr",
     "output_type": "stream",
     "text": [
      "C:\\Users\\antho\\AppData\\Roaming\\Python\\Python39\\site-packages\\sklearn\\model_selection\\_validation.py:821: UserWarning: Scoring failed. The score on this train-test partition for these parameters will be set to nan. Details: \n",
      "Traceback (most recent call last):\n",
      "  File \"C:\\Users\\antho\\AppData\\Roaming\\Python\\Python39\\site-packages\\sklearn\\model_selection\\_validation.py\", line 810, in _score\n",
      "    scores = scorer(estimator, X_test, y_test)\n",
      "  File \"C:\\Users\\antho\\AppData\\Roaming\\Python\\Python39\\site-packages\\sklearn\\metrics\\_scorer.py\", line 266, in __call__\n",
      "    return self._score(partial(_cached_call, None), estimator, X, y_true, **_kwargs)\n",
      "  File \"C:\\Users\\antho\\AppData\\Roaming\\Python\\Python39\\site-packages\\sklearn\\metrics\\_scorer.py\", line 355, in _score\n",
      "    return self._sign * self._score_func(y_true, y_pred, **scoring_kwargs)\n",
      "  File \"C:\\Users\\antho\\AppData\\Roaming\\Python\\Python39\\site-packages\\sklearn\\utils\\_param_validation.py\", line 214, in wrapper\n",
      "    return func(*args, **kwargs)\n",
      "  File \"C:\\Users\\antho\\AppData\\Roaming\\Python\\Python39\\site-packages\\sklearn\\metrics\\_classification.py\", line 2304, in recall_score\n",
      "    _, r, _, _ = precision_recall_fscore_support(\n",
      "  File \"C:\\Users\\antho\\AppData\\Roaming\\Python\\Python39\\site-packages\\sklearn\\utils\\_param_validation.py\", line 187, in wrapper\n",
      "    return func(*args, **kwargs)\n",
      "  File \"C:\\Users\\antho\\AppData\\Roaming\\Python\\Python39\\site-packages\\sklearn\\metrics\\_classification.py\", line 1724, in precision_recall_fscore_support\n",
      "    labels = _check_set_wise_labels(y_true, y_pred, average, labels, pos_label)\n",
      "  File \"C:\\Users\\antho\\AppData\\Roaming\\Python\\Python39\\site-packages\\sklearn\\metrics\\_classification.py\", line 1518, in _check_set_wise_labels\n",
      "    raise ValueError(\n",
      "ValueError: Target is multiclass but average='binary'. Please choose another average setting, one of [None, 'micro', 'macro', 'weighted'].\n",
      "\n",
      "  warnings.warn(\n",
      "C:\\Users\\antho\\anaconda3\\lib\\site-packages\\xgboost\\core.py:158: UserWarning: [16:59:28] WARNING: C:\\buildkite-agent\\builds\\buildkite-windows-cpu-autoscaling-group-i-06abd128ca6c1688d-1\\xgboost\\xgboost-ci-windows\\src\\learner.cc:740: \n",
      "Parameters: { \"use_label_encoder\" } are not used.\n",
      "\n",
      "  warnings.warn(smsg, UserWarning)\n",
      "C:\\Users\\antho\\AppData\\Roaming\\Python\\Python39\\site-packages\\sklearn\\model_selection\\_validation.py:821: UserWarning: Scoring failed. The score on this train-test partition for these parameters will be set to nan. Details: \n",
      "Traceback (most recent call last):\n",
      "  File \"C:\\Users\\antho\\AppData\\Roaming\\Python\\Python39\\site-packages\\sklearn\\model_selection\\_validation.py\", line 810, in _score\n",
      "    scores = scorer(estimator, X_test, y_test)\n",
      "  File \"C:\\Users\\antho\\AppData\\Roaming\\Python\\Python39\\site-packages\\sklearn\\metrics\\_scorer.py\", line 266, in __call__\n",
      "    return self._score(partial(_cached_call, None), estimator, X, y_true, **_kwargs)\n",
      "  File \"C:\\Users\\antho\\AppData\\Roaming\\Python\\Python39\\site-packages\\sklearn\\metrics\\_scorer.py\", line 355, in _score\n",
      "    return self._sign * self._score_func(y_true, y_pred, **scoring_kwargs)\n",
      "  File \"C:\\Users\\antho\\AppData\\Roaming\\Python\\Python39\\site-packages\\sklearn\\utils\\_param_validation.py\", line 214, in wrapper\n",
      "    return func(*args, **kwargs)\n",
      "  File \"C:\\Users\\antho\\AppData\\Roaming\\Python\\Python39\\site-packages\\sklearn\\metrics\\_classification.py\", line 2304, in recall_score\n",
      "    _, r, _, _ = precision_recall_fscore_support(\n",
      "  File \"C:\\Users\\antho\\AppData\\Roaming\\Python\\Python39\\site-packages\\sklearn\\utils\\_param_validation.py\", line 187, in wrapper\n",
      "    return func(*args, **kwargs)\n",
      "  File \"C:\\Users\\antho\\AppData\\Roaming\\Python\\Python39\\site-packages\\sklearn\\metrics\\_classification.py\", line 1724, in precision_recall_fscore_support\n",
      "    labels = _check_set_wise_labels(y_true, y_pred, average, labels, pos_label)\n",
      "  File \"C:\\Users\\antho\\AppData\\Roaming\\Python\\Python39\\site-packages\\sklearn\\metrics\\_classification.py\", line 1518, in _check_set_wise_labels\n",
      "    raise ValueError(\n",
      "ValueError: Target is multiclass but average='binary'. Please choose another average setting, one of [None, 'micro', 'macro', 'weighted'].\n",
      "\n",
      "  warnings.warn(\n",
      "C:\\Users\\antho\\anaconda3\\lib\\site-packages\\xgboost\\core.py:158: UserWarning: [16:59:28] WARNING: C:\\buildkite-agent\\builds\\buildkite-windows-cpu-autoscaling-group-i-06abd128ca6c1688d-1\\xgboost\\xgboost-ci-windows\\src\\learner.cc:740: \n",
      "Parameters: { \"use_label_encoder\" } are not used.\n",
      "\n",
      "  warnings.warn(smsg, UserWarning)\n",
      "C:\\Users\\antho\\AppData\\Roaming\\Python\\Python39\\site-packages\\sklearn\\model_selection\\_validation.py:821: UserWarning: Scoring failed. The score on this train-test partition for these parameters will be set to nan. Details: \n",
      "Traceback (most recent call last):\n",
      "  File \"C:\\Users\\antho\\AppData\\Roaming\\Python\\Python39\\site-packages\\sklearn\\model_selection\\_validation.py\", line 810, in _score\n",
      "    scores = scorer(estimator, X_test, y_test)\n",
      "  File \"C:\\Users\\antho\\AppData\\Roaming\\Python\\Python39\\site-packages\\sklearn\\metrics\\_scorer.py\", line 266, in __call__\n",
      "    return self._score(partial(_cached_call, None), estimator, X, y_true, **_kwargs)\n",
      "  File \"C:\\Users\\antho\\AppData\\Roaming\\Python\\Python39\\site-packages\\sklearn\\metrics\\_scorer.py\", line 355, in _score\n",
      "    return self._sign * self._score_func(y_true, y_pred, **scoring_kwargs)\n",
      "  File \"C:\\Users\\antho\\AppData\\Roaming\\Python\\Python39\\site-packages\\sklearn\\utils\\_param_validation.py\", line 214, in wrapper\n",
      "    return func(*args, **kwargs)\n",
      "  File \"C:\\Users\\antho\\AppData\\Roaming\\Python\\Python39\\site-packages\\sklearn\\metrics\\_classification.py\", line 2304, in recall_score\n",
      "    _, r, _, _ = precision_recall_fscore_support(\n",
      "  File \"C:\\Users\\antho\\AppData\\Roaming\\Python\\Python39\\site-packages\\sklearn\\utils\\_param_validation.py\", line 187, in wrapper\n",
      "    return func(*args, **kwargs)\n",
      "  File \"C:\\Users\\antho\\AppData\\Roaming\\Python\\Python39\\site-packages\\sklearn\\metrics\\_classification.py\", line 1724, in precision_recall_fscore_support\n",
      "    labels = _check_set_wise_labels(y_true, y_pred, average, labels, pos_label)\n",
      "  File \"C:\\Users\\antho\\AppData\\Roaming\\Python\\Python39\\site-packages\\sklearn\\metrics\\_classification.py\", line 1518, in _check_set_wise_labels\n",
      "    raise ValueError(\n",
      "ValueError: Target is multiclass but average='binary'. Please choose another average setting, one of [None, 'micro', 'macro', 'weighted'].\n",
      "\n",
      "  warnings.warn(\n",
      "C:\\Users\\antho\\anaconda3\\lib\\site-packages\\xgboost\\core.py:158: UserWarning: [16:59:29] WARNING: C:\\buildkite-agent\\builds\\buildkite-windows-cpu-autoscaling-group-i-06abd128ca6c1688d-1\\xgboost\\xgboost-ci-windows\\src\\learner.cc:740: \n",
      "Parameters: { \"use_label_encoder\" } are not used.\n",
      "\n",
      "  warnings.warn(smsg, UserWarning)\n",
      "C:\\Users\\antho\\AppData\\Roaming\\Python\\Python39\\site-packages\\sklearn\\model_selection\\_validation.py:821: UserWarning: Scoring failed. The score on this train-test partition for these parameters will be set to nan. Details: \n",
      "Traceback (most recent call last):\n",
      "  File \"C:\\Users\\antho\\AppData\\Roaming\\Python\\Python39\\site-packages\\sklearn\\model_selection\\_validation.py\", line 810, in _score\n",
      "    scores = scorer(estimator, X_test, y_test)\n",
      "  File \"C:\\Users\\antho\\AppData\\Roaming\\Python\\Python39\\site-packages\\sklearn\\metrics\\_scorer.py\", line 266, in __call__\n",
      "    return self._score(partial(_cached_call, None), estimator, X, y_true, **_kwargs)\n",
      "  File \"C:\\Users\\antho\\AppData\\Roaming\\Python\\Python39\\site-packages\\sklearn\\metrics\\_scorer.py\", line 355, in _score\n",
      "    return self._sign * self._score_func(y_true, y_pred, **scoring_kwargs)\n",
      "  File \"C:\\Users\\antho\\AppData\\Roaming\\Python\\Python39\\site-packages\\sklearn\\utils\\_param_validation.py\", line 214, in wrapper\n",
      "    return func(*args, **kwargs)\n",
      "  File \"C:\\Users\\antho\\AppData\\Roaming\\Python\\Python39\\site-packages\\sklearn\\metrics\\_classification.py\", line 2304, in recall_score\n",
      "    _, r, _, _ = precision_recall_fscore_support(\n",
      "  File \"C:\\Users\\antho\\AppData\\Roaming\\Python\\Python39\\site-packages\\sklearn\\utils\\_param_validation.py\", line 187, in wrapper\n",
      "    return func(*args, **kwargs)\n",
      "  File \"C:\\Users\\antho\\AppData\\Roaming\\Python\\Python39\\site-packages\\sklearn\\metrics\\_classification.py\", line 1724, in precision_recall_fscore_support\n",
      "    labels = _check_set_wise_labels(y_true, y_pred, average, labels, pos_label)\n",
      "  File \"C:\\Users\\antho\\AppData\\Roaming\\Python\\Python39\\site-packages\\sklearn\\metrics\\_classification.py\", line 1518, in _check_set_wise_labels\n",
      "    raise ValueError(\n",
      "ValueError: Target is multiclass but average='binary'. Please choose another average setting, one of [None, 'micro', 'macro', 'weighted'].\n",
      "\n",
      "  warnings.warn(\n",
      "C:\\Users\\antho\\anaconda3\\lib\\site-packages\\xgboost\\core.py:158: UserWarning: [16:59:29] WARNING: C:\\buildkite-agent\\builds\\buildkite-windows-cpu-autoscaling-group-i-06abd128ca6c1688d-1\\xgboost\\xgboost-ci-windows\\src\\learner.cc:740: \n",
      "Parameters: { \"use_label_encoder\" } are not used.\n",
      "\n",
      "  warnings.warn(smsg, UserWarning)\n"
     ]
    },
    {
     "name": "stderr",
     "output_type": "stream",
     "text": [
      "C:\\Users\\antho\\AppData\\Roaming\\Python\\Python39\\site-packages\\sklearn\\model_selection\\_validation.py:821: UserWarning: Scoring failed. The score on this train-test partition for these parameters will be set to nan. Details: \n",
      "Traceback (most recent call last):\n",
      "  File \"C:\\Users\\antho\\AppData\\Roaming\\Python\\Python39\\site-packages\\sklearn\\model_selection\\_validation.py\", line 810, in _score\n",
      "    scores = scorer(estimator, X_test, y_test)\n",
      "  File \"C:\\Users\\antho\\AppData\\Roaming\\Python\\Python39\\site-packages\\sklearn\\metrics\\_scorer.py\", line 266, in __call__\n",
      "    return self._score(partial(_cached_call, None), estimator, X, y_true, **_kwargs)\n",
      "  File \"C:\\Users\\antho\\AppData\\Roaming\\Python\\Python39\\site-packages\\sklearn\\metrics\\_scorer.py\", line 355, in _score\n",
      "    return self._sign * self._score_func(y_true, y_pred, **scoring_kwargs)\n",
      "  File \"C:\\Users\\antho\\AppData\\Roaming\\Python\\Python39\\site-packages\\sklearn\\utils\\_param_validation.py\", line 214, in wrapper\n",
      "    return func(*args, **kwargs)\n",
      "  File \"C:\\Users\\antho\\AppData\\Roaming\\Python\\Python39\\site-packages\\sklearn\\metrics\\_classification.py\", line 2304, in recall_score\n",
      "    _, r, _, _ = precision_recall_fscore_support(\n",
      "  File \"C:\\Users\\antho\\AppData\\Roaming\\Python\\Python39\\site-packages\\sklearn\\utils\\_param_validation.py\", line 187, in wrapper\n",
      "    return func(*args, **kwargs)\n",
      "  File \"C:\\Users\\antho\\AppData\\Roaming\\Python\\Python39\\site-packages\\sklearn\\metrics\\_classification.py\", line 1724, in precision_recall_fscore_support\n",
      "    labels = _check_set_wise_labels(y_true, y_pred, average, labels, pos_label)\n",
      "  File \"C:\\Users\\antho\\AppData\\Roaming\\Python\\Python39\\site-packages\\sklearn\\metrics\\_classification.py\", line 1518, in _check_set_wise_labels\n",
      "    raise ValueError(\n",
      "ValueError: Target is multiclass but average='binary'. Please choose another average setting, one of [None, 'micro', 'macro', 'weighted'].\n",
      "\n",
      "  warnings.warn(\n",
      "C:\\Users\\antho\\AppData\\Roaming\\Python\\Python39\\site-packages\\sklearn\\model_selection\\_validation.py:821: UserWarning: Scoring failed. The score on this train-test partition for these parameters will be set to nan. Details: \n",
      "Traceback (most recent call last):\n",
      "  File \"C:\\Users\\antho\\AppData\\Roaming\\Python\\Python39\\site-packages\\sklearn\\model_selection\\_validation.py\", line 810, in _score\n",
      "    scores = scorer(estimator, X_test, y_test)\n",
      "  File \"C:\\Users\\antho\\AppData\\Roaming\\Python\\Python39\\site-packages\\sklearn\\metrics\\_scorer.py\", line 266, in __call__\n",
      "    return self._score(partial(_cached_call, None), estimator, X, y_true, **_kwargs)\n",
      "  File \"C:\\Users\\antho\\AppData\\Roaming\\Python\\Python39\\site-packages\\sklearn\\metrics\\_scorer.py\", line 355, in _score\n",
      "    return self._sign * self._score_func(y_true, y_pred, **scoring_kwargs)\n",
      "  File \"C:\\Users\\antho\\AppData\\Roaming\\Python\\Python39\\site-packages\\sklearn\\utils\\_param_validation.py\", line 214, in wrapper\n",
      "    return func(*args, **kwargs)\n",
      "  File \"C:\\Users\\antho\\AppData\\Roaming\\Python\\Python39\\site-packages\\sklearn\\metrics\\_classification.py\", line 2304, in recall_score\n",
      "    _, r, _, _ = precision_recall_fscore_support(\n",
      "  File \"C:\\Users\\antho\\AppData\\Roaming\\Python\\Python39\\site-packages\\sklearn\\utils\\_param_validation.py\", line 187, in wrapper\n",
      "    return func(*args, **kwargs)\n",
      "  File \"C:\\Users\\antho\\AppData\\Roaming\\Python\\Python39\\site-packages\\sklearn\\metrics\\_classification.py\", line 1724, in precision_recall_fscore_support\n",
      "    labels = _check_set_wise_labels(y_true, y_pred, average, labels, pos_label)\n",
      "  File \"C:\\Users\\antho\\AppData\\Roaming\\Python\\Python39\\site-packages\\sklearn\\metrics\\_classification.py\", line 1501, in _check_set_wise_labels\n",
      "    y_type, y_true, y_pred = _check_targets(y_true, y_pred)\n",
      "  File \"C:\\Users\\antho\\AppData\\Roaming\\Python\\Python39\\site-packages\\sklearn\\metrics\\_classification.py\", line 93, in _check_targets\n",
      "    raise ValueError(\n",
      "ValueError: Classification metrics can't handle a mix of multiclass and continuous targets\n",
      "\n",
      "  warnings.warn(\n",
      "C:\\Users\\antho\\AppData\\Roaming\\Python\\Python39\\site-packages\\sklearn\\model_selection\\_validation.py:821: UserWarning: Scoring failed. The score on this train-test partition for these parameters will be set to nan. Details: \n",
      "Traceback (most recent call last):\n",
      "  File \"C:\\Users\\antho\\AppData\\Roaming\\Python\\Python39\\site-packages\\sklearn\\model_selection\\_validation.py\", line 810, in _score\n",
      "    scores = scorer(estimator, X_test, y_test)\n",
      "  File \"C:\\Users\\antho\\AppData\\Roaming\\Python\\Python39\\site-packages\\sklearn\\metrics\\_scorer.py\", line 266, in __call__\n",
      "    return self._score(partial(_cached_call, None), estimator, X, y_true, **_kwargs)\n",
      "  File \"C:\\Users\\antho\\AppData\\Roaming\\Python\\Python39\\site-packages\\sklearn\\metrics\\_scorer.py\", line 355, in _score\n",
      "    return self._sign * self._score_func(y_true, y_pred, **scoring_kwargs)\n",
      "  File \"C:\\Users\\antho\\AppData\\Roaming\\Python\\Python39\\site-packages\\sklearn\\utils\\_param_validation.py\", line 214, in wrapper\n",
      "    return func(*args, **kwargs)\n",
      "  File \"C:\\Users\\antho\\AppData\\Roaming\\Python\\Python39\\site-packages\\sklearn\\metrics\\_classification.py\", line 2304, in recall_score\n",
      "    _, r, _, _ = precision_recall_fscore_support(\n",
      "  File \"C:\\Users\\antho\\AppData\\Roaming\\Python\\Python39\\site-packages\\sklearn\\utils\\_param_validation.py\", line 187, in wrapper\n",
      "    return func(*args, **kwargs)\n",
      "  File \"C:\\Users\\antho\\AppData\\Roaming\\Python\\Python39\\site-packages\\sklearn\\metrics\\_classification.py\", line 1724, in precision_recall_fscore_support\n",
      "    labels = _check_set_wise_labels(y_true, y_pred, average, labels, pos_label)\n",
      "  File \"C:\\Users\\antho\\AppData\\Roaming\\Python\\Python39\\site-packages\\sklearn\\metrics\\_classification.py\", line 1501, in _check_set_wise_labels\n",
      "    y_type, y_true, y_pred = _check_targets(y_true, y_pred)\n",
      "  File \"C:\\Users\\antho\\AppData\\Roaming\\Python\\Python39\\site-packages\\sklearn\\metrics\\_classification.py\", line 93, in _check_targets\n",
      "    raise ValueError(\n",
      "ValueError: Classification metrics can't handle a mix of multiclass and continuous targets\n",
      "\n",
      "  warnings.warn(\n",
      "C:\\Users\\antho\\AppData\\Roaming\\Python\\Python39\\site-packages\\sklearn\\model_selection\\_validation.py:821: UserWarning: Scoring failed. The score on this train-test partition for these parameters will be set to nan. Details: \n",
      "Traceback (most recent call last):\n",
      "  File \"C:\\Users\\antho\\AppData\\Roaming\\Python\\Python39\\site-packages\\sklearn\\model_selection\\_validation.py\", line 810, in _score\n",
      "    scores = scorer(estimator, X_test, y_test)\n",
      "  File \"C:\\Users\\antho\\AppData\\Roaming\\Python\\Python39\\site-packages\\sklearn\\metrics\\_scorer.py\", line 266, in __call__\n",
      "    return self._score(partial(_cached_call, None), estimator, X, y_true, **_kwargs)\n",
      "  File \"C:\\Users\\antho\\AppData\\Roaming\\Python\\Python39\\site-packages\\sklearn\\metrics\\_scorer.py\", line 355, in _score\n",
      "    return self._sign * self._score_func(y_true, y_pred, **scoring_kwargs)\n",
      "  File \"C:\\Users\\antho\\AppData\\Roaming\\Python\\Python39\\site-packages\\sklearn\\utils\\_param_validation.py\", line 214, in wrapper\n",
      "    return func(*args, **kwargs)\n",
      "  File \"C:\\Users\\antho\\AppData\\Roaming\\Python\\Python39\\site-packages\\sklearn\\metrics\\_classification.py\", line 2304, in recall_score\n",
      "    _, r, _, _ = precision_recall_fscore_support(\n",
      "  File \"C:\\Users\\antho\\AppData\\Roaming\\Python\\Python39\\site-packages\\sklearn\\utils\\_param_validation.py\", line 187, in wrapper\n",
      "    return func(*args, **kwargs)\n",
      "  File \"C:\\Users\\antho\\AppData\\Roaming\\Python\\Python39\\site-packages\\sklearn\\metrics\\_classification.py\", line 1724, in precision_recall_fscore_support\n",
      "    labels = _check_set_wise_labels(y_true, y_pred, average, labels, pos_label)\n",
      "  File \"C:\\Users\\antho\\AppData\\Roaming\\Python\\Python39\\site-packages\\sklearn\\metrics\\_classification.py\", line 1501, in _check_set_wise_labels\n",
      "    y_type, y_true, y_pred = _check_targets(y_true, y_pred)\n",
      "  File \"C:\\Users\\antho\\AppData\\Roaming\\Python\\Python39\\site-packages\\sklearn\\metrics\\_classification.py\", line 93, in _check_targets\n",
      "    raise ValueError(\n",
      "ValueError: Classification metrics can't handle a mix of multiclass and continuous targets\n",
      "\n",
      "  warnings.warn(\n",
      "C:\\Users\\antho\\AppData\\Roaming\\Python\\Python39\\site-packages\\sklearn\\model_selection\\_validation.py:821: UserWarning: Scoring failed. The score on this train-test partition for these parameters will be set to nan. Details: \n",
      "Traceback (most recent call last):\n",
      "  File \"C:\\Users\\antho\\AppData\\Roaming\\Python\\Python39\\site-packages\\sklearn\\model_selection\\_validation.py\", line 810, in _score\n",
      "    scores = scorer(estimator, X_test, y_test)\n",
      "  File \"C:\\Users\\antho\\AppData\\Roaming\\Python\\Python39\\site-packages\\sklearn\\metrics\\_scorer.py\", line 266, in __call__\n",
      "    return self._score(partial(_cached_call, None), estimator, X, y_true, **_kwargs)\n",
      "  File \"C:\\Users\\antho\\AppData\\Roaming\\Python\\Python39\\site-packages\\sklearn\\metrics\\_scorer.py\", line 355, in _score\n",
      "    return self._sign * self._score_func(y_true, y_pred, **scoring_kwargs)\n",
      "  File \"C:\\Users\\antho\\AppData\\Roaming\\Python\\Python39\\site-packages\\sklearn\\utils\\_param_validation.py\", line 214, in wrapper\n",
      "    return func(*args, **kwargs)\n",
      "  File \"C:\\Users\\antho\\AppData\\Roaming\\Python\\Python39\\site-packages\\sklearn\\metrics\\_classification.py\", line 2304, in recall_score\n",
      "    _, r, _, _ = precision_recall_fscore_support(\n",
      "  File \"C:\\Users\\antho\\AppData\\Roaming\\Python\\Python39\\site-packages\\sklearn\\utils\\_param_validation.py\", line 187, in wrapper\n",
      "    return func(*args, **kwargs)\n",
      "  File \"C:\\Users\\antho\\AppData\\Roaming\\Python\\Python39\\site-packages\\sklearn\\metrics\\_classification.py\", line 1724, in precision_recall_fscore_support\n",
      "    labels = _check_set_wise_labels(y_true, y_pred, average, labels, pos_label)\n",
      "  File \"C:\\Users\\antho\\AppData\\Roaming\\Python\\Python39\\site-packages\\sklearn\\metrics\\_classification.py\", line 1501, in _check_set_wise_labels\n",
      "    y_type, y_true, y_pred = _check_targets(y_true, y_pred)\n",
      "  File \"C:\\Users\\antho\\AppData\\Roaming\\Python\\Python39\\site-packages\\sklearn\\metrics\\_classification.py\", line 93, in _check_targets\n",
      "    raise ValueError(\n",
      "ValueError: Classification metrics can't handle a mix of multiclass and continuous targets\n",
      "\n",
      "  warnings.warn(\n",
      "C:\\Users\\antho\\AppData\\Roaming\\Python\\Python39\\site-packages\\sklearn\\model_selection\\_validation.py:821: UserWarning: Scoring failed. The score on this train-test partition for these parameters will be set to nan. Details: \n",
      "Traceback (most recent call last):\n",
      "  File \"C:\\Users\\antho\\AppData\\Roaming\\Python\\Python39\\site-packages\\sklearn\\model_selection\\_validation.py\", line 810, in _score\n",
      "    scores = scorer(estimator, X_test, y_test)\n",
      "  File \"C:\\Users\\antho\\AppData\\Roaming\\Python\\Python39\\site-packages\\sklearn\\metrics\\_scorer.py\", line 266, in __call__\n",
      "    return self._score(partial(_cached_call, None), estimator, X, y_true, **_kwargs)\n",
      "  File \"C:\\Users\\antho\\AppData\\Roaming\\Python\\Python39\\site-packages\\sklearn\\metrics\\_scorer.py\", line 355, in _score\n",
      "    return self._sign * self._score_func(y_true, y_pred, **scoring_kwargs)\n",
      "  File \"C:\\Users\\antho\\AppData\\Roaming\\Python\\Python39\\site-packages\\sklearn\\utils\\_param_validation.py\", line 214, in wrapper\n",
      "    return func(*args, **kwargs)\n",
      "  File \"C:\\Users\\antho\\AppData\\Roaming\\Python\\Python39\\site-packages\\sklearn\\metrics\\_classification.py\", line 2304, in recall_score\n",
      "    _, r, _, _ = precision_recall_fscore_support(\n",
      "  File \"C:\\Users\\antho\\AppData\\Roaming\\Python\\Python39\\site-packages\\sklearn\\utils\\_param_validation.py\", line 187, in wrapper\n",
      "    return func(*args, **kwargs)\n",
      "  File \"C:\\Users\\antho\\AppData\\Roaming\\Python\\Python39\\site-packages\\sklearn\\metrics\\_classification.py\", line 1724, in precision_recall_fscore_support\n",
      "    labels = _check_set_wise_labels(y_true, y_pred, average, labels, pos_label)\n",
      "  File \"C:\\Users\\antho\\AppData\\Roaming\\Python\\Python39\\site-packages\\sklearn\\metrics\\_classification.py\", line 1501, in _check_set_wise_labels\n",
      "    y_type, y_true, y_pred = _check_targets(y_true, y_pred)\n",
      "  File \"C:\\Users\\antho\\AppData\\Roaming\\Python\\Python39\\site-packages\\sklearn\\metrics\\_classification.py\", line 93, in _check_targets\n",
      "    raise ValueError(\n",
      "ValueError: Classification metrics can't handle a mix of multiclass and continuous targets\n",
      "\n",
      "  warnings.warn(\n",
      "C:\\Users\\antho\\AppData\\Roaming\\Python\\Python39\\site-packages\\sklearn\\model_selection\\_validation.py:821: UserWarning: Scoring failed. The score on this train-test partition for these parameters will be set to nan. Details: \n",
      "Traceback (most recent call last):\n",
      "  File \"C:\\Users\\antho\\AppData\\Roaming\\Python\\Python39\\site-packages\\sklearn\\model_selection\\_validation.py\", line 810, in _score\n",
      "    scores = scorer(estimator, X_test, y_test)\n",
      "  File \"C:\\Users\\antho\\AppData\\Roaming\\Python\\Python39\\site-packages\\sklearn\\metrics\\_scorer.py\", line 266, in __call__\n",
      "    return self._score(partial(_cached_call, None), estimator, X, y_true, **_kwargs)\n",
      "  File \"C:\\Users\\antho\\AppData\\Roaming\\Python\\Python39\\site-packages\\sklearn\\metrics\\_scorer.py\", line 355, in _score\n",
      "    return self._sign * self._score_func(y_true, y_pred, **scoring_kwargs)\n",
      "  File \"C:\\Users\\antho\\AppData\\Roaming\\Python\\Python39\\site-packages\\sklearn\\utils\\_param_validation.py\", line 214, in wrapper\n",
      "    return func(*args, **kwargs)\n",
      "  File \"C:\\Users\\antho\\AppData\\Roaming\\Python\\Python39\\site-packages\\sklearn\\metrics\\_classification.py\", line 2304, in recall_score\n",
      "    _, r, _, _ = precision_recall_fscore_support(\n",
      "  File \"C:\\Users\\antho\\AppData\\Roaming\\Python\\Python39\\site-packages\\sklearn\\utils\\_param_validation.py\", line 187, in wrapper\n",
      "    return func(*args, **kwargs)\n",
      "  File \"C:\\Users\\antho\\AppData\\Roaming\\Python\\Python39\\site-packages\\sklearn\\metrics\\_classification.py\", line 1724, in precision_recall_fscore_support\n",
      "    labels = _check_set_wise_labels(y_true, y_pred, average, labels, pos_label)\n",
      "  File \"C:\\Users\\antho\\AppData\\Roaming\\Python\\Python39\\site-packages\\sklearn\\metrics\\_classification.py\", line 1501, in _check_set_wise_labels\n",
      "    y_type, y_true, y_pred = _check_targets(y_true, y_pred)\n",
      "  File \"C:\\Users\\antho\\AppData\\Roaming\\Python\\Python39\\site-packages\\sklearn\\metrics\\_classification.py\", line 93, in _check_targets\n",
      "    raise ValueError(\n",
      "ValueError: Classification metrics can't handle a mix of multiclass and continuous targets\n",
      "\n",
      "  warnings.warn(\n",
      "C:\\Users\\antho\\AppData\\Roaming\\Python\\Python39\\site-packages\\sklearn\\model_selection\\_validation.py:821: UserWarning: Scoring failed. The score on this train-test partition for these parameters will be set to nan. Details: \n",
      "Traceback (most recent call last):\n",
      "  File \"C:\\Users\\antho\\AppData\\Roaming\\Python\\Python39\\site-packages\\sklearn\\model_selection\\_validation.py\", line 810, in _score\n",
      "    scores = scorer(estimator, X_test, y_test)\n",
      "  File \"C:\\Users\\antho\\AppData\\Roaming\\Python\\Python39\\site-packages\\sklearn\\metrics\\_scorer.py\", line 266, in __call__\n",
      "    return self._score(partial(_cached_call, None), estimator, X, y_true, **_kwargs)\n",
      "  File \"C:\\Users\\antho\\AppData\\Roaming\\Python\\Python39\\site-packages\\sklearn\\metrics\\_scorer.py\", line 355, in _score\n",
      "    return self._sign * self._score_func(y_true, y_pred, **scoring_kwargs)\n",
      "  File \"C:\\Users\\antho\\AppData\\Roaming\\Python\\Python39\\site-packages\\sklearn\\utils\\_param_validation.py\", line 214, in wrapper\n",
      "    return func(*args, **kwargs)\n",
      "  File \"C:\\Users\\antho\\AppData\\Roaming\\Python\\Python39\\site-packages\\sklearn\\metrics\\_classification.py\", line 2304, in recall_score\n",
      "    _, r, _, _ = precision_recall_fscore_support(\n",
      "  File \"C:\\Users\\antho\\AppData\\Roaming\\Python\\Python39\\site-packages\\sklearn\\utils\\_param_validation.py\", line 187, in wrapper\n",
      "    return func(*args, **kwargs)\n",
      "  File \"C:\\Users\\antho\\AppData\\Roaming\\Python\\Python39\\site-packages\\sklearn\\metrics\\_classification.py\", line 1724, in precision_recall_fscore_support\n",
      "    labels = _check_set_wise_labels(y_true, y_pred, average, labels, pos_label)\n",
      "  File \"C:\\Users\\antho\\AppData\\Roaming\\Python\\Python39\\site-packages\\sklearn\\metrics\\_classification.py\", line 1501, in _check_set_wise_labels\n",
      "    y_type, y_true, y_pred = _check_targets(y_true, y_pred)\n",
      "  File \"C:\\Users\\antho\\AppData\\Roaming\\Python\\Python39\\site-packages\\sklearn\\metrics\\_classification.py\", line 93, in _check_targets\n",
      "    raise ValueError(\n",
      "ValueError: Classification metrics can't handle a mix of multiclass and continuous targets\n",
      "\n",
      "  warnings.warn(\n",
      "C:\\Users\\antho\\AppData\\Roaming\\Python\\Python39\\site-packages\\sklearn\\model_selection\\_validation.py:821: UserWarning: Scoring failed. The score on this train-test partition for these parameters will be set to nan. Details: \n",
      "Traceback (most recent call last):\n",
      "  File \"C:\\Users\\antho\\AppData\\Roaming\\Python\\Python39\\site-packages\\sklearn\\model_selection\\_validation.py\", line 810, in _score\n",
      "    scores = scorer(estimator, X_test, y_test)\n",
      "  File \"C:\\Users\\antho\\AppData\\Roaming\\Python\\Python39\\site-packages\\sklearn\\metrics\\_scorer.py\", line 266, in __call__\n",
      "    return self._score(partial(_cached_call, None), estimator, X, y_true, **_kwargs)\n",
      "  File \"C:\\Users\\antho\\AppData\\Roaming\\Python\\Python39\\site-packages\\sklearn\\metrics\\_scorer.py\", line 355, in _score\n",
      "    return self._sign * self._score_func(y_true, y_pred, **scoring_kwargs)\n",
      "  File \"C:\\Users\\antho\\AppData\\Roaming\\Python\\Python39\\site-packages\\sklearn\\utils\\_param_validation.py\", line 214, in wrapper\n",
      "    return func(*args, **kwargs)\n",
      "  File \"C:\\Users\\antho\\AppData\\Roaming\\Python\\Python39\\site-packages\\sklearn\\metrics\\_classification.py\", line 2304, in recall_score\n",
      "    _, r, _, _ = precision_recall_fscore_support(\n",
      "  File \"C:\\Users\\antho\\AppData\\Roaming\\Python\\Python39\\site-packages\\sklearn\\utils\\_param_validation.py\", line 187, in wrapper\n",
      "    return func(*args, **kwargs)\n",
      "  File \"C:\\Users\\antho\\AppData\\Roaming\\Python\\Python39\\site-packages\\sklearn\\metrics\\_classification.py\", line 1724, in precision_recall_fscore_support\n",
      "    labels = _check_set_wise_labels(y_true, y_pred, average, labels, pos_label)\n",
      "  File \"C:\\Users\\antho\\AppData\\Roaming\\Python\\Python39\\site-packages\\sklearn\\metrics\\_classification.py\", line 1501, in _check_set_wise_labels\n",
      "    y_type, y_true, y_pred = _check_targets(y_true, y_pred)\n",
      "  File \"C:\\Users\\antho\\AppData\\Roaming\\Python\\Python39\\site-packages\\sklearn\\metrics\\_classification.py\", line 93, in _check_targets\n",
      "    raise ValueError(\n",
      "ValueError: Classification metrics can't handle a mix of multiclass and continuous targets\n",
      "\n",
      "  warnings.warn(\n",
      "C:\\Users\\antho\\AppData\\Roaming\\Python\\Python39\\site-packages\\sklearn\\model_selection\\_validation.py:821: UserWarning: Scoring failed. The score on this train-test partition for these parameters will be set to nan. Details: \n",
      "Traceback (most recent call last):\n",
      "  File \"C:\\Users\\antho\\AppData\\Roaming\\Python\\Python39\\site-packages\\sklearn\\model_selection\\_validation.py\", line 810, in _score\n",
      "    scores = scorer(estimator, X_test, y_test)\n",
      "  File \"C:\\Users\\antho\\AppData\\Roaming\\Python\\Python39\\site-packages\\sklearn\\metrics\\_scorer.py\", line 266, in __call__\n",
      "    return self._score(partial(_cached_call, None), estimator, X, y_true, **_kwargs)\n",
      "  File \"C:\\Users\\antho\\AppData\\Roaming\\Python\\Python39\\site-packages\\sklearn\\metrics\\_scorer.py\", line 355, in _score\n",
      "    return self._sign * self._score_func(y_true, y_pred, **scoring_kwargs)\n",
      "  File \"C:\\Users\\antho\\AppData\\Roaming\\Python\\Python39\\site-packages\\sklearn\\utils\\_param_validation.py\", line 214, in wrapper\n",
      "    return func(*args, **kwargs)\n",
      "  File \"C:\\Users\\antho\\AppData\\Roaming\\Python\\Python39\\site-packages\\sklearn\\metrics\\_classification.py\", line 2304, in recall_score\n",
      "    _, r, _, _ = precision_recall_fscore_support(\n",
      "  File \"C:\\Users\\antho\\AppData\\Roaming\\Python\\Python39\\site-packages\\sklearn\\utils\\_param_validation.py\", line 187, in wrapper\n",
      "    return func(*args, **kwargs)\n",
      "  File \"C:\\Users\\antho\\AppData\\Roaming\\Python\\Python39\\site-packages\\sklearn\\metrics\\_classification.py\", line 1724, in precision_recall_fscore_support\n",
      "    labels = _check_set_wise_labels(y_true, y_pred, average, labels, pos_label)\n",
      "  File \"C:\\Users\\antho\\AppData\\Roaming\\Python\\Python39\\site-packages\\sklearn\\metrics\\_classification.py\", line 1501, in _check_set_wise_labels\n",
      "    y_type, y_true, y_pred = _check_targets(y_true, y_pred)\n",
      "  File \"C:\\Users\\antho\\AppData\\Roaming\\Python\\Python39\\site-packages\\sklearn\\metrics\\_classification.py\", line 93, in _check_targets\n",
      "    raise ValueError(\n",
      "ValueError: Classification metrics can't handle a mix of multiclass and continuous targets\n",
      "\n",
      "  warnings.warn(\n",
      "C:\\Users\\antho\\AppData\\Roaming\\Python\\Python39\\site-packages\\sklearn\\model_selection\\_validation.py:821: UserWarning: Scoring failed. The score on this train-test partition for these parameters will be set to nan. Details: \n",
      "Traceback (most recent call last):\n",
      "  File \"C:\\Users\\antho\\AppData\\Roaming\\Python\\Python39\\site-packages\\sklearn\\model_selection\\_validation.py\", line 810, in _score\n",
      "    scores = scorer(estimator, X_test, y_test)\n",
      "  File \"C:\\Users\\antho\\AppData\\Roaming\\Python\\Python39\\site-packages\\sklearn\\metrics\\_scorer.py\", line 266, in __call__\n",
      "    return self._score(partial(_cached_call, None), estimator, X, y_true, **_kwargs)\n",
      "  File \"C:\\Users\\antho\\AppData\\Roaming\\Python\\Python39\\site-packages\\sklearn\\metrics\\_scorer.py\", line 355, in _score\n",
      "    return self._sign * self._score_func(y_true, y_pred, **scoring_kwargs)\n",
      "  File \"C:\\Users\\antho\\AppData\\Roaming\\Python\\Python39\\site-packages\\sklearn\\utils\\_param_validation.py\", line 214, in wrapper\n",
      "    return func(*args, **kwargs)\n",
      "  File \"C:\\Users\\antho\\AppData\\Roaming\\Python\\Python39\\site-packages\\sklearn\\metrics\\_classification.py\", line 2304, in recall_score\n",
      "    _, r, _, _ = precision_recall_fscore_support(\n",
      "  File \"C:\\Users\\antho\\AppData\\Roaming\\Python\\Python39\\site-packages\\sklearn\\utils\\_param_validation.py\", line 187, in wrapper\n",
      "    return func(*args, **kwargs)\n",
      "  File \"C:\\Users\\antho\\AppData\\Roaming\\Python\\Python39\\site-packages\\sklearn\\metrics\\_classification.py\", line 1724, in precision_recall_fscore_support\n",
      "    labels = _check_set_wise_labels(y_true, y_pred, average, labels, pos_label)\n",
      "  File \"C:\\Users\\antho\\AppData\\Roaming\\Python\\Python39\\site-packages\\sklearn\\metrics\\_classification.py\", line 1501, in _check_set_wise_labels\n",
      "    y_type, y_true, y_pred = _check_targets(y_true, y_pred)\n",
      "  File \"C:\\Users\\antho\\AppData\\Roaming\\Python\\Python39\\site-packages\\sklearn\\metrics\\_classification.py\", line 93, in _check_targets\n",
      "    raise ValueError(\n",
      "ValueError: Classification metrics can't handle a mix of multiclass and continuous targets\n",
      "\n",
      "  warnings.warn(\n",
      "C:\\Users\\antho\\AppData\\Roaming\\Python\\Python39\\site-packages\\sklearn\\model_selection\\_validation.py:821: UserWarning: Scoring failed. The score on this train-test partition for these parameters will be set to nan. Details: \n",
      "Traceback (most recent call last):\n",
      "  File \"C:\\Users\\antho\\AppData\\Roaming\\Python\\Python39\\site-packages\\sklearn\\model_selection\\_validation.py\", line 810, in _score\n",
      "    scores = scorer(estimator, X_test, y_test)\n",
      "  File \"C:\\Users\\antho\\AppData\\Roaming\\Python\\Python39\\site-packages\\sklearn\\metrics\\_scorer.py\", line 266, in __call__\n",
      "    return self._score(partial(_cached_call, None), estimator, X, y_true, **_kwargs)\n",
      "  File \"C:\\Users\\antho\\AppData\\Roaming\\Python\\Python39\\site-packages\\sklearn\\metrics\\_scorer.py\", line 355, in _score\n",
      "    return self._sign * self._score_func(y_true, y_pred, **scoring_kwargs)\n",
      "  File \"C:\\Users\\antho\\AppData\\Roaming\\Python\\Python39\\site-packages\\sklearn\\utils\\_param_validation.py\", line 214, in wrapper\n",
      "    return func(*args, **kwargs)\n",
      "  File \"C:\\Users\\antho\\AppData\\Roaming\\Python\\Python39\\site-packages\\sklearn\\metrics\\_classification.py\", line 2304, in recall_score\n",
      "    _, r, _, _ = precision_recall_fscore_support(\n",
      "  File \"C:\\Users\\antho\\AppData\\Roaming\\Python\\Python39\\site-packages\\sklearn\\utils\\_param_validation.py\", line 187, in wrapper\n",
      "    return func(*args, **kwargs)\n",
      "  File \"C:\\Users\\antho\\AppData\\Roaming\\Python\\Python39\\site-packages\\sklearn\\metrics\\_classification.py\", line 1724, in precision_recall_fscore_support\n",
      "    labels = _check_set_wise_labels(y_true, y_pred, average, labels, pos_label)\n",
      "  File \"C:\\Users\\antho\\AppData\\Roaming\\Python\\Python39\\site-packages\\sklearn\\metrics\\_classification.py\", line 1501, in _check_set_wise_labels\n",
      "    y_type, y_true, y_pred = _check_targets(y_true, y_pred)\n",
      "  File \"C:\\Users\\antho\\AppData\\Roaming\\Python\\Python39\\site-packages\\sklearn\\metrics\\_classification.py\", line 93, in _check_targets\n",
      "    raise ValueError(\n",
      "ValueError: Classification metrics can't handle a mix of multiclass and continuous targets\n",
      "\n",
      "  warnings.warn(\n",
      "C:\\Users\\antho\\AppData\\Roaming\\Python\\Python39\\site-packages\\sklearn\\model_selection\\_validation.py:821: UserWarning: Scoring failed. The score on this train-test partition for these parameters will be set to nan. Details: \n",
      "Traceback (most recent call last):\n",
      "  File \"C:\\Users\\antho\\AppData\\Roaming\\Python\\Python39\\site-packages\\sklearn\\model_selection\\_validation.py\", line 810, in _score\n",
      "    scores = scorer(estimator, X_test, y_test)\n",
      "  File \"C:\\Users\\antho\\AppData\\Roaming\\Python\\Python39\\site-packages\\sklearn\\metrics\\_scorer.py\", line 266, in __call__\n",
      "    return self._score(partial(_cached_call, None), estimator, X, y_true, **_kwargs)\n",
      "  File \"C:\\Users\\antho\\AppData\\Roaming\\Python\\Python39\\site-packages\\sklearn\\metrics\\_scorer.py\", line 355, in _score\n",
      "    return self._sign * self._score_func(y_true, y_pred, **scoring_kwargs)\n",
      "  File \"C:\\Users\\antho\\AppData\\Roaming\\Python\\Python39\\site-packages\\sklearn\\utils\\_param_validation.py\", line 214, in wrapper\n",
      "    return func(*args, **kwargs)\n",
      "  File \"C:\\Users\\antho\\AppData\\Roaming\\Python\\Python39\\site-packages\\sklearn\\metrics\\_classification.py\", line 2304, in recall_score\n",
      "    _, r, _, _ = precision_recall_fscore_support(\n",
      "  File \"C:\\Users\\antho\\AppData\\Roaming\\Python\\Python39\\site-packages\\sklearn\\utils\\_param_validation.py\", line 187, in wrapper\n",
      "    return func(*args, **kwargs)\n",
      "  File \"C:\\Users\\antho\\AppData\\Roaming\\Python\\Python39\\site-packages\\sklearn\\metrics\\_classification.py\", line 1724, in precision_recall_fscore_support\n",
      "    labels = _check_set_wise_labels(y_true, y_pred, average, labels, pos_label)\n",
      "  File \"C:\\Users\\antho\\AppData\\Roaming\\Python\\Python39\\site-packages\\sklearn\\metrics\\_classification.py\", line 1501, in _check_set_wise_labels\n",
      "    y_type, y_true, y_pred = _check_targets(y_true, y_pred)\n",
      "  File \"C:\\Users\\antho\\AppData\\Roaming\\Python\\Python39\\site-packages\\sklearn\\metrics\\_classification.py\", line 93, in _check_targets\n",
      "    raise ValueError(\n",
      "ValueError: Classification metrics can't handle a mix of multiclass and continuous targets\n",
      "\n",
      "  warnings.warn(\n",
      "C:\\Users\\antho\\AppData\\Roaming\\Python\\Python39\\site-packages\\sklearn\\model_selection\\_validation.py:821: UserWarning: Scoring failed. The score on this train-test partition for these parameters will be set to nan. Details: \n",
      "Traceback (most recent call last):\n",
      "  File \"C:\\Users\\antho\\AppData\\Roaming\\Python\\Python39\\site-packages\\sklearn\\model_selection\\_validation.py\", line 810, in _score\n",
      "    scores = scorer(estimator, X_test, y_test)\n",
      "  File \"C:\\Users\\antho\\AppData\\Roaming\\Python\\Python39\\site-packages\\sklearn\\metrics\\_scorer.py\", line 266, in __call__\n",
      "    return self._score(partial(_cached_call, None), estimator, X, y_true, **_kwargs)\n",
      "  File \"C:\\Users\\antho\\AppData\\Roaming\\Python\\Python39\\site-packages\\sklearn\\metrics\\_scorer.py\", line 355, in _score\n",
      "    return self._sign * self._score_func(y_true, y_pred, **scoring_kwargs)\n",
      "  File \"C:\\Users\\antho\\AppData\\Roaming\\Python\\Python39\\site-packages\\sklearn\\utils\\_param_validation.py\", line 214, in wrapper\n",
      "    return func(*args, **kwargs)\n",
      "  File \"C:\\Users\\antho\\AppData\\Roaming\\Python\\Python39\\site-packages\\sklearn\\metrics\\_classification.py\", line 2304, in recall_score\n",
      "    _, r, _, _ = precision_recall_fscore_support(\n",
      "  File \"C:\\Users\\antho\\AppData\\Roaming\\Python\\Python39\\site-packages\\sklearn\\utils\\_param_validation.py\", line 187, in wrapper\n",
      "    return func(*args, **kwargs)\n",
      "  File \"C:\\Users\\antho\\AppData\\Roaming\\Python\\Python39\\site-packages\\sklearn\\metrics\\_classification.py\", line 1724, in precision_recall_fscore_support\n",
      "    labels = _check_set_wise_labels(y_true, y_pred, average, labels, pos_label)\n",
      "  File \"C:\\Users\\antho\\AppData\\Roaming\\Python\\Python39\\site-packages\\sklearn\\metrics\\_classification.py\", line 1501, in _check_set_wise_labels\n",
      "    y_type, y_true, y_pred = _check_targets(y_true, y_pred)\n",
      "  File \"C:\\Users\\antho\\AppData\\Roaming\\Python\\Python39\\site-packages\\sklearn\\metrics\\_classification.py\", line 93, in _check_targets\n",
      "    raise ValueError(\n",
      "ValueError: Classification metrics can't handle a mix of multiclass and continuous targets\n",
      "\n",
      "  warnings.warn(\n"
     ]
    },
    {
     "name": "stderr",
     "output_type": "stream",
     "text": [
      "C:\\Users\\antho\\AppData\\Roaming\\Python\\Python39\\site-packages\\sklearn\\model_selection\\_validation.py:821: UserWarning: Scoring failed. The score on this train-test partition for these parameters will be set to nan. Details: \n",
      "Traceback (most recent call last):\n",
      "  File \"C:\\Users\\antho\\AppData\\Roaming\\Python\\Python39\\site-packages\\sklearn\\model_selection\\_validation.py\", line 810, in _score\n",
      "    scores = scorer(estimator, X_test, y_test)\n",
      "  File \"C:\\Users\\antho\\AppData\\Roaming\\Python\\Python39\\site-packages\\sklearn\\metrics\\_scorer.py\", line 266, in __call__\n",
      "    return self._score(partial(_cached_call, None), estimator, X, y_true, **_kwargs)\n",
      "  File \"C:\\Users\\antho\\AppData\\Roaming\\Python\\Python39\\site-packages\\sklearn\\metrics\\_scorer.py\", line 355, in _score\n",
      "    return self._sign * self._score_func(y_true, y_pred, **scoring_kwargs)\n",
      "  File \"C:\\Users\\antho\\AppData\\Roaming\\Python\\Python39\\site-packages\\sklearn\\utils\\_param_validation.py\", line 214, in wrapper\n",
      "    return func(*args, **kwargs)\n",
      "  File \"C:\\Users\\antho\\AppData\\Roaming\\Python\\Python39\\site-packages\\sklearn\\metrics\\_classification.py\", line 2304, in recall_score\n",
      "    _, r, _, _ = precision_recall_fscore_support(\n",
      "  File \"C:\\Users\\antho\\AppData\\Roaming\\Python\\Python39\\site-packages\\sklearn\\utils\\_param_validation.py\", line 187, in wrapper\n",
      "    return func(*args, **kwargs)\n",
      "  File \"C:\\Users\\antho\\AppData\\Roaming\\Python\\Python39\\site-packages\\sklearn\\metrics\\_classification.py\", line 1724, in precision_recall_fscore_support\n",
      "    labels = _check_set_wise_labels(y_true, y_pred, average, labels, pos_label)\n",
      "  File \"C:\\Users\\antho\\AppData\\Roaming\\Python\\Python39\\site-packages\\sklearn\\metrics\\_classification.py\", line 1501, in _check_set_wise_labels\n",
      "    y_type, y_true, y_pred = _check_targets(y_true, y_pred)\n",
      "  File \"C:\\Users\\antho\\AppData\\Roaming\\Python\\Python39\\site-packages\\sklearn\\metrics\\_classification.py\", line 93, in _check_targets\n",
      "    raise ValueError(\n",
      "ValueError: Classification metrics can't handle a mix of multiclass and continuous targets\n",
      "\n",
      "  warnings.warn(\n",
      "C:\\Users\\antho\\AppData\\Roaming\\Python\\Python39\\site-packages\\sklearn\\model_selection\\_validation.py:821: UserWarning: Scoring failed. The score on this train-test partition for these parameters will be set to nan. Details: \n",
      "Traceback (most recent call last):\n",
      "  File \"C:\\Users\\antho\\AppData\\Roaming\\Python\\Python39\\site-packages\\sklearn\\model_selection\\_validation.py\", line 810, in _score\n",
      "    scores = scorer(estimator, X_test, y_test)\n",
      "  File \"C:\\Users\\antho\\AppData\\Roaming\\Python\\Python39\\site-packages\\sklearn\\metrics\\_scorer.py\", line 266, in __call__\n",
      "    return self._score(partial(_cached_call, None), estimator, X, y_true, **_kwargs)\n",
      "  File \"C:\\Users\\antho\\AppData\\Roaming\\Python\\Python39\\site-packages\\sklearn\\metrics\\_scorer.py\", line 355, in _score\n",
      "    return self._sign * self._score_func(y_true, y_pred, **scoring_kwargs)\n",
      "  File \"C:\\Users\\antho\\AppData\\Roaming\\Python\\Python39\\site-packages\\sklearn\\utils\\_param_validation.py\", line 214, in wrapper\n",
      "    return func(*args, **kwargs)\n",
      "  File \"C:\\Users\\antho\\AppData\\Roaming\\Python\\Python39\\site-packages\\sklearn\\metrics\\_classification.py\", line 2304, in recall_score\n",
      "    _, r, _, _ = precision_recall_fscore_support(\n",
      "  File \"C:\\Users\\antho\\AppData\\Roaming\\Python\\Python39\\site-packages\\sklearn\\utils\\_param_validation.py\", line 187, in wrapper\n",
      "    return func(*args, **kwargs)\n",
      "  File \"C:\\Users\\antho\\AppData\\Roaming\\Python\\Python39\\site-packages\\sklearn\\metrics\\_classification.py\", line 1724, in precision_recall_fscore_support\n",
      "    labels = _check_set_wise_labels(y_true, y_pred, average, labels, pos_label)\n",
      "  File \"C:\\Users\\antho\\AppData\\Roaming\\Python\\Python39\\site-packages\\sklearn\\metrics\\_classification.py\", line 1501, in _check_set_wise_labels\n",
      "    y_type, y_true, y_pred = _check_targets(y_true, y_pred)\n",
      "  File \"C:\\Users\\antho\\AppData\\Roaming\\Python\\Python39\\site-packages\\sklearn\\metrics\\_classification.py\", line 93, in _check_targets\n",
      "    raise ValueError(\n",
      "ValueError: Classification metrics can't handle a mix of multiclass and continuous targets\n",
      "\n",
      "  warnings.warn(\n",
      "C:\\Users\\antho\\AppData\\Roaming\\Python\\Python39\\site-packages\\sklearn\\model_selection\\_validation.py:821: UserWarning: Scoring failed. The score on this train-test partition for these parameters will be set to nan. Details: \n",
      "Traceback (most recent call last):\n",
      "  File \"C:\\Users\\antho\\AppData\\Roaming\\Python\\Python39\\site-packages\\sklearn\\model_selection\\_validation.py\", line 810, in _score\n",
      "    scores = scorer(estimator, X_test, y_test)\n",
      "  File \"C:\\Users\\antho\\AppData\\Roaming\\Python\\Python39\\site-packages\\sklearn\\metrics\\_scorer.py\", line 266, in __call__\n",
      "    return self._score(partial(_cached_call, None), estimator, X, y_true, **_kwargs)\n",
      "  File \"C:\\Users\\antho\\AppData\\Roaming\\Python\\Python39\\site-packages\\sklearn\\metrics\\_scorer.py\", line 355, in _score\n",
      "    return self._sign * self._score_func(y_true, y_pred, **scoring_kwargs)\n",
      "  File \"C:\\Users\\antho\\AppData\\Roaming\\Python\\Python39\\site-packages\\sklearn\\utils\\_param_validation.py\", line 214, in wrapper\n",
      "    return func(*args, **kwargs)\n",
      "  File \"C:\\Users\\antho\\AppData\\Roaming\\Python\\Python39\\site-packages\\sklearn\\metrics\\_classification.py\", line 2304, in recall_score\n",
      "    _, r, _, _ = precision_recall_fscore_support(\n",
      "  File \"C:\\Users\\antho\\AppData\\Roaming\\Python\\Python39\\site-packages\\sklearn\\utils\\_param_validation.py\", line 187, in wrapper\n",
      "    return func(*args, **kwargs)\n",
      "  File \"C:\\Users\\antho\\AppData\\Roaming\\Python\\Python39\\site-packages\\sklearn\\metrics\\_classification.py\", line 1724, in precision_recall_fscore_support\n",
      "    labels = _check_set_wise_labels(y_true, y_pred, average, labels, pos_label)\n",
      "  File \"C:\\Users\\antho\\AppData\\Roaming\\Python\\Python39\\site-packages\\sklearn\\metrics\\_classification.py\", line 1501, in _check_set_wise_labels\n",
      "    y_type, y_true, y_pred = _check_targets(y_true, y_pred)\n",
      "  File \"C:\\Users\\antho\\AppData\\Roaming\\Python\\Python39\\site-packages\\sklearn\\metrics\\_classification.py\", line 93, in _check_targets\n",
      "    raise ValueError(\n",
      "ValueError: Classification metrics can't handle a mix of multiclass and continuous targets\n",
      "\n",
      "  warnings.warn(\n",
      "C:\\Users\\antho\\AppData\\Roaming\\Python\\Python39\\site-packages\\sklearn\\model_selection\\_validation.py:821: UserWarning: Scoring failed. The score on this train-test partition for these parameters will be set to nan. Details: \n",
      "Traceback (most recent call last):\n",
      "  File \"C:\\Users\\antho\\AppData\\Roaming\\Python\\Python39\\site-packages\\sklearn\\model_selection\\_validation.py\", line 810, in _score\n",
      "    scores = scorer(estimator, X_test, y_test)\n",
      "  File \"C:\\Users\\antho\\AppData\\Roaming\\Python\\Python39\\site-packages\\sklearn\\metrics\\_scorer.py\", line 266, in __call__\n",
      "    return self._score(partial(_cached_call, None), estimator, X, y_true, **_kwargs)\n",
      "  File \"C:\\Users\\antho\\AppData\\Roaming\\Python\\Python39\\site-packages\\sklearn\\metrics\\_scorer.py\", line 355, in _score\n",
      "    return self._sign * self._score_func(y_true, y_pred, **scoring_kwargs)\n",
      "  File \"C:\\Users\\antho\\AppData\\Roaming\\Python\\Python39\\site-packages\\sklearn\\utils\\_param_validation.py\", line 214, in wrapper\n",
      "    return func(*args, **kwargs)\n",
      "  File \"C:\\Users\\antho\\AppData\\Roaming\\Python\\Python39\\site-packages\\sklearn\\metrics\\_classification.py\", line 2304, in recall_score\n",
      "    _, r, _, _ = precision_recall_fscore_support(\n",
      "  File \"C:\\Users\\antho\\AppData\\Roaming\\Python\\Python39\\site-packages\\sklearn\\utils\\_param_validation.py\", line 187, in wrapper\n",
      "    return func(*args, **kwargs)\n",
      "  File \"C:\\Users\\antho\\AppData\\Roaming\\Python\\Python39\\site-packages\\sklearn\\metrics\\_classification.py\", line 1724, in precision_recall_fscore_support\n",
      "    labels = _check_set_wise_labels(y_true, y_pred, average, labels, pos_label)\n",
      "  File \"C:\\Users\\antho\\AppData\\Roaming\\Python\\Python39\\site-packages\\sklearn\\metrics\\_classification.py\", line 1501, in _check_set_wise_labels\n",
      "    y_type, y_true, y_pred = _check_targets(y_true, y_pred)\n",
      "  File \"C:\\Users\\antho\\AppData\\Roaming\\Python\\Python39\\site-packages\\sklearn\\metrics\\_classification.py\", line 93, in _check_targets\n",
      "    raise ValueError(\n",
      "ValueError: Classification metrics can't handle a mix of multiclass and continuous targets\n",
      "\n",
      "  warnings.warn(\n",
      "C:\\Users\\antho\\AppData\\Roaming\\Python\\Python39\\site-packages\\sklearn\\model_selection\\_validation.py:821: UserWarning: Scoring failed. The score on this train-test partition for these parameters will be set to nan. Details: \n",
      "Traceback (most recent call last):\n",
      "  File \"C:\\Users\\antho\\AppData\\Roaming\\Python\\Python39\\site-packages\\sklearn\\model_selection\\_validation.py\", line 810, in _score\n",
      "    scores = scorer(estimator, X_test, y_test)\n",
      "  File \"C:\\Users\\antho\\AppData\\Roaming\\Python\\Python39\\site-packages\\sklearn\\metrics\\_scorer.py\", line 266, in __call__\n",
      "    return self._score(partial(_cached_call, None), estimator, X, y_true, **_kwargs)\n",
      "  File \"C:\\Users\\antho\\AppData\\Roaming\\Python\\Python39\\site-packages\\sklearn\\metrics\\_scorer.py\", line 355, in _score\n",
      "    return self._sign * self._score_func(y_true, y_pred, **scoring_kwargs)\n",
      "  File \"C:\\Users\\antho\\AppData\\Roaming\\Python\\Python39\\site-packages\\sklearn\\utils\\_param_validation.py\", line 214, in wrapper\n",
      "    return func(*args, **kwargs)\n",
      "  File \"C:\\Users\\antho\\AppData\\Roaming\\Python\\Python39\\site-packages\\sklearn\\metrics\\_classification.py\", line 2304, in recall_score\n",
      "    _, r, _, _ = precision_recall_fscore_support(\n",
      "  File \"C:\\Users\\antho\\AppData\\Roaming\\Python\\Python39\\site-packages\\sklearn\\utils\\_param_validation.py\", line 187, in wrapper\n",
      "    return func(*args, **kwargs)\n",
      "  File \"C:\\Users\\antho\\AppData\\Roaming\\Python\\Python39\\site-packages\\sklearn\\metrics\\_classification.py\", line 1724, in precision_recall_fscore_support\n",
      "    labels = _check_set_wise_labels(y_true, y_pred, average, labels, pos_label)\n",
      "  File \"C:\\Users\\antho\\AppData\\Roaming\\Python\\Python39\\site-packages\\sklearn\\metrics\\_classification.py\", line 1501, in _check_set_wise_labels\n",
      "    y_type, y_true, y_pred = _check_targets(y_true, y_pred)\n",
      "  File \"C:\\Users\\antho\\AppData\\Roaming\\Python\\Python39\\site-packages\\sklearn\\metrics\\_classification.py\", line 93, in _check_targets\n",
      "    raise ValueError(\n",
      "ValueError: Classification metrics can't handle a mix of multiclass and continuous targets\n",
      "\n",
      "  warnings.warn(\n",
      "C:\\Users\\antho\\AppData\\Roaming\\Python\\Python39\\site-packages\\sklearn\\model_selection\\_validation.py:821: UserWarning: Scoring failed. The score on this train-test partition for these parameters will be set to nan. Details: \n",
      "Traceback (most recent call last):\n",
      "  File \"C:\\Users\\antho\\AppData\\Roaming\\Python\\Python39\\site-packages\\sklearn\\model_selection\\_validation.py\", line 810, in _score\n",
      "    scores = scorer(estimator, X_test, y_test)\n",
      "  File \"C:\\Users\\antho\\AppData\\Roaming\\Python\\Python39\\site-packages\\sklearn\\metrics\\_scorer.py\", line 266, in __call__\n",
      "    return self._score(partial(_cached_call, None), estimator, X, y_true, **_kwargs)\n",
      "  File \"C:\\Users\\antho\\AppData\\Roaming\\Python\\Python39\\site-packages\\sklearn\\metrics\\_scorer.py\", line 355, in _score\n",
      "    return self._sign * self._score_func(y_true, y_pred, **scoring_kwargs)\n",
      "  File \"C:\\Users\\antho\\AppData\\Roaming\\Python\\Python39\\site-packages\\sklearn\\utils\\_param_validation.py\", line 214, in wrapper\n",
      "    return func(*args, **kwargs)\n",
      "  File \"C:\\Users\\antho\\AppData\\Roaming\\Python\\Python39\\site-packages\\sklearn\\metrics\\_classification.py\", line 2304, in recall_score\n",
      "    _, r, _, _ = precision_recall_fscore_support(\n",
      "  File \"C:\\Users\\antho\\AppData\\Roaming\\Python\\Python39\\site-packages\\sklearn\\utils\\_param_validation.py\", line 187, in wrapper\n",
      "    return func(*args, **kwargs)\n",
      "  File \"C:\\Users\\antho\\AppData\\Roaming\\Python\\Python39\\site-packages\\sklearn\\metrics\\_classification.py\", line 1724, in precision_recall_fscore_support\n",
      "    labels = _check_set_wise_labels(y_true, y_pred, average, labels, pos_label)\n",
      "  File \"C:\\Users\\antho\\AppData\\Roaming\\Python\\Python39\\site-packages\\sklearn\\metrics\\_classification.py\", line 1501, in _check_set_wise_labels\n",
      "    y_type, y_true, y_pred = _check_targets(y_true, y_pred)\n",
      "  File \"C:\\Users\\antho\\AppData\\Roaming\\Python\\Python39\\site-packages\\sklearn\\metrics\\_classification.py\", line 93, in _check_targets\n",
      "    raise ValueError(\n",
      "ValueError: Classification metrics can't handle a mix of multiclass and continuous targets\n",
      "\n",
      "  warnings.warn(\n",
      "C:\\Users\\antho\\AppData\\Roaming\\Python\\Python39\\site-packages\\sklearn\\model_selection\\_validation.py:821: UserWarning: Scoring failed. The score on this train-test partition for these parameters will be set to nan. Details: \n",
      "Traceback (most recent call last):\n",
      "  File \"C:\\Users\\antho\\AppData\\Roaming\\Python\\Python39\\site-packages\\sklearn\\model_selection\\_validation.py\", line 810, in _score\n",
      "    scores = scorer(estimator, X_test, y_test)\n",
      "  File \"C:\\Users\\antho\\AppData\\Roaming\\Python\\Python39\\site-packages\\sklearn\\metrics\\_scorer.py\", line 266, in __call__\n",
      "    return self._score(partial(_cached_call, None), estimator, X, y_true, **_kwargs)\n",
      "  File \"C:\\Users\\antho\\AppData\\Roaming\\Python\\Python39\\site-packages\\sklearn\\metrics\\_scorer.py\", line 355, in _score\n",
      "    return self._sign * self._score_func(y_true, y_pred, **scoring_kwargs)\n",
      "  File \"C:\\Users\\antho\\AppData\\Roaming\\Python\\Python39\\site-packages\\sklearn\\utils\\_param_validation.py\", line 214, in wrapper\n",
      "    return func(*args, **kwargs)\n",
      "  File \"C:\\Users\\antho\\AppData\\Roaming\\Python\\Python39\\site-packages\\sklearn\\metrics\\_classification.py\", line 2304, in recall_score\n",
      "    _, r, _, _ = precision_recall_fscore_support(\n",
      "  File \"C:\\Users\\antho\\AppData\\Roaming\\Python\\Python39\\site-packages\\sklearn\\utils\\_param_validation.py\", line 187, in wrapper\n",
      "    return func(*args, **kwargs)\n",
      "  File \"C:\\Users\\antho\\AppData\\Roaming\\Python\\Python39\\site-packages\\sklearn\\metrics\\_classification.py\", line 1724, in precision_recall_fscore_support\n",
      "    labels = _check_set_wise_labels(y_true, y_pred, average, labels, pos_label)\n",
      "  File \"C:\\Users\\antho\\AppData\\Roaming\\Python\\Python39\\site-packages\\sklearn\\metrics\\_classification.py\", line 1501, in _check_set_wise_labels\n",
      "    y_type, y_true, y_pred = _check_targets(y_true, y_pred)\n",
      "  File \"C:\\Users\\antho\\AppData\\Roaming\\Python\\Python39\\site-packages\\sklearn\\metrics\\_classification.py\", line 93, in _check_targets\n",
      "    raise ValueError(\n",
      "ValueError: Classification metrics can't handle a mix of multiclass and continuous targets\n",
      "\n",
      "  warnings.warn(\n",
      "C:\\Users\\antho\\AppData\\Roaming\\Python\\Python39\\site-packages\\sklearn\\model_selection\\_validation.py:425: FitFailedWarning: \n",
      "40 fits failed out of a total of 240.\n",
      "The score on these train-test partitions for these parameters will be set to nan.\n",
      "If these failures are not expected, you can try to debug them by setting error_score='raise'.\n",
      "\n",
      "Below are more details about the failures:\n",
      "--------------------------------------------------------------------------------\n",
      "40 fits failed with the following error:\n",
      "Traceback (most recent call last):\n",
      "  File \"C:\\Users\\antho\\AppData\\Roaming\\Python\\Python39\\site-packages\\sklearn\\model_selection\\_validation.py\", line 729, in _fit_and_score\n",
      "    estimator.fit(X_train, y_train, **fit_params)\n",
      "  File \"C:\\Users\\antho\\AppData\\Roaming\\Python\\Python39\\site-packages\\sklearn\\base.py\", line 1152, in wrapper\n",
      "    return fit_method(estimator, *args, **kwargs)\n",
      "  File \"C:\\Users\\antho\\anaconda3\\lib\\site-packages\\imblearn\\pipeline.py\", line 329, in fit\n",
      "    Xt, yt = self._fit(X, y, routed_params)\n",
      "  File \"C:\\Users\\antho\\anaconda3\\lib\\site-packages\\imblearn\\pipeline.py\", line 255, in _fit\n",
      "    X, fitted_transformer = fit_transform_one_cached(\n",
      "  File \"C:\\Users\\antho\\AppData\\Roaming\\Python\\Python39\\site-packages\\joblib\\memory.py\", line 353, in __call__\n",
      "    return self.func(*args, **kwargs)\n",
      "  File \"C:\\Users\\antho\\anaconda3\\lib\\site-packages\\imblearn\\pipeline.py\", line 1104, in _fit_transform_one\n",
      "    res = transformer.fit_transform(X, y, **params.get(\"fit_transform\", {}))\n",
      "  File \"C:\\Users\\antho\\AppData\\Roaming\\Python\\Python39\\site-packages\\sklearn\\utils\\_set_output.py\", line 157, in wrapped\n",
      "    data_to_wrap = f(self, X, *args, **kwargs)\n",
      "  File \"C:\\Users\\antho\\AppData\\Roaming\\Python\\Python39\\site-packages\\sklearn\\base.py\", line 1152, in wrapper\n",
      "    return fit_method(estimator, *args, **kwargs)\n",
      "  File \"C:\\Users\\antho\\AppData\\Roaming\\Python\\Python39\\site-packages\\sklearn\\decomposition\\_pca.py\", line 460, in fit_transform\n",
      "    U, S, Vt = self._fit(X)\n",
      "  File \"C:\\Users\\antho\\AppData\\Roaming\\Python\\Python39\\site-packages\\sklearn\\decomposition\\_pca.py\", line 510, in _fit\n",
      "    return self._fit_full(X, n_components)\n",
      "  File \"C:\\Users\\antho\\AppData\\Roaming\\Python\\Python39\\site-packages\\sklearn\\decomposition\\_pca.py\", line 524, in _fit_full\n",
      "    raise ValueError(\n",
      "ValueError: n_components=4 must be between 0 and min(n_samples, n_features)=3 with svd_solver='full'\n",
      "\n",
      "  warnings.warn(some_fits_failed_message, FitFailedWarning)\n",
      "C:\\Users\\antho\\AppData\\Roaming\\Python\\Python39\\site-packages\\sklearn\\model_selection\\_search.py:979: UserWarning: One or more of the test scores are non-finite: [nan nan nan nan nan nan nan nan nan nan nan nan nan nan nan nan nan nan\n",
      " nan nan nan nan nan nan nan nan nan nan nan nan nan nan nan nan nan nan\n",
      " nan nan nan nan nan nan nan nan nan nan nan nan nan nan nan nan nan nan\n",
      " nan nan nan nan nan nan nan nan nan nan nan nan nan nan nan nan nan nan\n",
      " nan nan nan nan nan nan nan nan nan nan nan nan nan nan nan nan nan nan\n",
      " nan nan nan nan nan nan nan nan nan nan nan nan nan nan nan nan nan nan\n",
      " nan nan nan nan nan nan nan nan nan nan nan nan]\n",
      "  warnings.warn(\n",
      "C:\\Users\\antho\\AppData\\Roaming\\Python\\Python39\\site-packages\\sklearn\\ensemble\\_base.py:156: FutureWarning: `base_estimator` was renamed to `estimator` in version 1.2 and will be removed in 1.4.\n",
      "  warnings.warn(\n"
     ]
    },
    {
     "name": "stdout",
     "output_type": "stream",
     "text": [
      "Best parameters: {'classifier': BaggingClassifier(base_estimator=RandomForestClassifier(random_state=42)), 'classifier__n_estimators': 10, 'pca__n_components': 2}\n",
      "Best cross-validation score: nan\n",
      "Test Accuracy: 1.0\n",
      "Classification Report:\n",
      "              precision    recall  f1-score   support\n",
      "\n",
      "           0       1.00      1.00      1.00         1\n",
      "           2       1.00      1.00      1.00         1\n",
      "\n",
      "    accuracy                           1.00         2\n",
      "   macro avg       1.00      1.00      1.00         2\n",
      "weighted avg       1.00      1.00      1.00         2\n",
      "\n",
      "Correlation matrix:\n",
      "          0         1\n",
      "0  1.000000  0.105123\n",
      "1  0.105123  1.000000\n"
     ]
    },
    {
     "data": {
      "image/png": "[encoded data removed]",
      "text/plain": [
       "<Figure size 720x576 with 2 Axes>"
      ]
     },
     "metadata": {
      "needs_background": "light"
     },
     "output_type": "display_data"
    },
    {
     "ename": "ValueError",
     "evalue": "X has 19 features, but BaggingClassifier is expecting 2 features as input.",
     "output_type": "error",
     "traceback": [
      "\u001b[1;31m---------------------------------------------------------------------------\u001b[0m",
      "\u001b[1;31mValueError\u001b[0m                                Traceback (most recent call last)",
      "Input \u001b[1;32mIn [62]\u001b[0m, in \u001b[0;36m<cell line: 84>\u001b[1;34m()\u001b[0m\n\u001b[0;32m     85\u001b[0m     y_score \u001b[38;5;241m=\u001b[39m best_pipeline\u001b[38;5;241m.\u001b[39mnamed_steps[\u001b[38;5;124m'\u001b[39m\u001b[38;5;124mclassifier\u001b[39m\u001b[38;5;124m'\u001b[39m]\u001b[38;5;241m.\u001b[39mdecision_function(X_test)\n\u001b[0;32m     86\u001b[0m \u001b[38;5;28;01melse\u001b[39;00m:\n\u001b[1;32m---> 87\u001b[0m     y_score \u001b[38;5;241m=\u001b[39m \u001b[43mbest_pipeline\u001b[49m\u001b[38;5;241;43m.\u001b[39;49m\u001b[43mnamed_steps\u001b[49m\u001b[43m[\u001b[49m\u001b[38;5;124;43m'\u001b[39;49m\u001b[38;5;124;43mclassifier\u001b[39;49m\u001b[38;5;124;43m'\u001b[39;49m\u001b[43m]\u001b[49m\u001b[38;5;241;43m.\u001b[39;49m\u001b[43mpredict_proba\u001b[49m\u001b[43m(\u001b[49m\u001b[43mX_test\u001b[49m\u001b[43m)\u001b[49m[:, \u001b[38;5;241m1\u001b[39m]\n\u001b[0;32m     89\u001b[0m precision, recall, _ \u001b[38;5;241m=\u001b[39m precision_recall_curve(y_test, y_score)\n\u001b[0;32m     90\u001b[0m average_precision \u001b[38;5;241m=\u001b[39m average_precision_score(y_test, y_score)\n",
      "File \u001b[1;32m~\\AppData\\Roaming\\Python\\Python39\\site-packages\\sklearn\\ensemble\\_bagging.py:854\u001b[0m, in \u001b[0;36mBaggingClassifier.predict_proba\u001b[1;34m(self, X)\u001b[0m\n\u001b[0;32m    852\u001b[0m check_is_fitted(\u001b[38;5;28mself\u001b[39m)\n\u001b[0;32m    853\u001b[0m \u001b[38;5;66;03m# Check data\u001b[39;00m\n\u001b[1;32m--> 854\u001b[0m X \u001b[38;5;241m=\u001b[39m \u001b[38;5;28;43mself\u001b[39;49m\u001b[38;5;241;43m.\u001b[39;49m\u001b[43m_validate_data\u001b[49m\u001b[43m(\u001b[49m\n\u001b[0;32m    855\u001b[0m \u001b[43m    \u001b[49m\u001b[43mX\u001b[49m\u001b[43m,\u001b[49m\n\u001b[0;32m    856\u001b[0m \u001b[43m    \u001b[49m\u001b[43maccept_sparse\u001b[49m\u001b[38;5;241;43m=\u001b[39;49m\u001b[43m[\u001b[49m\u001b[38;5;124;43m\"\u001b[39;49m\u001b[38;5;124;43mcsr\u001b[39;49m\u001b[38;5;124;43m\"\u001b[39;49m\u001b[43m,\u001b[49m\u001b[43m \u001b[49m\u001b[38;5;124;43m\"\u001b[39;49m\u001b[38;5;124;43mcsc\u001b[39;49m\u001b[38;5;124;43m\"\u001b[39;49m\u001b[43m]\u001b[49m\u001b[43m,\u001b[49m\n\u001b[0;32m    857\u001b[0m \u001b[43m    \u001b[49m\u001b[43mdtype\u001b[49m\u001b[38;5;241;43m=\u001b[39;49m\u001b[38;5;28;43;01mNone\u001b[39;49;00m\u001b[43m,\u001b[49m\n\u001b[0;32m    858\u001b[0m \u001b[43m    \u001b[49m\u001b[43mforce_all_finite\u001b[49m\u001b[38;5;241;43m=\u001b[39;49m\u001b[38;5;28;43;01mFalse\u001b[39;49;00m\u001b[43m,\u001b[49m\n\u001b[0;32m    859\u001b[0m \u001b[43m    \u001b[49m\u001b[43mreset\u001b[49m\u001b[38;5;241;43m=\u001b[39;49m\u001b[38;5;28;43;01mFalse\u001b[39;49;00m\u001b[43m,\u001b[49m\n\u001b[0;32m    860\u001b[0m \u001b[43m\u001b[49m\u001b[43m)\u001b[49m\n\u001b[0;32m    862\u001b[0m \u001b[38;5;66;03m# Parallel loop\u001b[39;00m\n\u001b[0;32m    863\u001b[0m n_jobs, _, starts \u001b[38;5;241m=\u001b[39m _partition_estimators(\u001b[38;5;28mself\u001b[39m\u001b[38;5;241m.\u001b[39mn_estimators, \u001b[38;5;28mself\u001b[39m\u001b[38;5;241m.\u001b[39mn_jobs)\n",
      "File \u001b[1;32m~\\AppData\\Roaming\\Python\\Python39\\site-packages\\sklearn\\base.py:626\u001b[0m, in \u001b[0;36mBaseEstimator._validate_data\u001b[1;34m(self, X, y, reset, validate_separately, cast_to_ndarray, **check_params)\u001b[0m\n\u001b[0;32m    623\u001b[0m     out \u001b[38;5;241m=\u001b[39m X, y\n\u001b[0;32m    625\u001b[0m \u001b[38;5;28;01mif\u001b[39;00m \u001b[38;5;129;01mnot\u001b[39;00m no_val_X \u001b[38;5;129;01mand\u001b[39;00m check_params\u001b[38;5;241m.\u001b[39mget(\u001b[38;5;124m\"\u001b[39m\u001b[38;5;124mensure_2d\u001b[39m\u001b[38;5;124m\"\u001b[39m, \u001b[38;5;28;01mTrue\u001b[39;00m):\n\u001b[1;32m--> 626\u001b[0m     \u001b[38;5;28;43mself\u001b[39;49m\u001b[38;5;241;43m.\u001b[39;49m\u001b[43m_check_n_features\u001b[49m\u001b[43m(\u001b[49m\u001b[43mX\u001b[49m\u001b[43m,\u001b[49m\u001b[43m \u001b[49m\u001b[43mreset\u001b[49m\u001b[38;5;241;43m=\u001b[39;49m\u001b[43mreset\u001b[49m\u001b[43m)\u001b[49m\n\u001b[0;32m    628\u001b[0m \u001b[38;5;28;01mreturn\u001b[39;00m out\n",
      "File \u001b[1;32m~\\AppData\\Roaming\\Python\\Python39\\site-packages\\sklearn\\base.py:415\u001b[0m, in \u001b[0;36mBaseEstimator._check_n_features\u001b[1;34m(self, X, reset)\u001b[0m\n\u001b[0;32m    412\u001b[0m     \u001b[38;5;28;01mreturn\u001b[39;00m\n\u001b[0;32m    414\u001b[0m \u001b[38;5;28;01mif\u001b[39;00m n_features \u001b[38;5;241m!=\u001b[39m \u001b[38;5;28mself\u001b[39m\u001b[38;5;241m.\u001b[39mn_features_in_:\n\u001b[1;32m--> 415\u001b[0m     \u001b[38;5;28;01mraise\u001b[39;00m \u001b[38;5;167;01mValueError\u001b[39;00m(\n\u001b[0;32m    416\u001b[0m         \u001b[38;5;124mf\u001b[39m\u001b[38;5;124m\"\u001b[39m\u001b[38;5;124mX has \u001b[39m\u001b[38;5;132;01m{\u001b[39;00mn_features\u001b[38;5;132;01m}\u001b[39;00m\u001b[38;5;124m features, but \u001b[39m\u001b[38;5;132;01m{\u001b[39;00m\u001b[38;5;28mself\u001b[39m\u001b[38;5;241m.\u001b[39m\u001b[38;5;18m__class__\u001b[39m\u001b[38;5;241m.\u001b[39m\u001b[38;5;18m__name__\u001b[39m\u001b[38;5;132;01m}\u001b[39;00m\u001b[38;5;124m \u001b[39m\u001b[38;5;124m\"\u001b[39m\n\u001b[0;32m    417\u001b[0m         \u001b[38;5;124mf\u001b[39m\u001b[38;5;124m\"\u001b[39m\u001b[38;5;124mis expecting \u001b[39m\u001b[38;5;132;01m{\u001b[39;00m\u001b[38;5;28mself\u001b[39m\u001b[38;5;241m.\u001b[39mn_features_in_\u001b[38;5;132;01m}\u001b[39;00m\u001b[38;5;124m features as input.\u001b[39m\u001b[38;5;124m\"\u001b[39m\n\u001b[0;32m    418\u001b[0m     )\n",
      "\u001b[1;31mValueError\u001b[0m: X has 19 features, but BaggingClassifier is expecting 2 features as input."
     ]
    }
   ],
   "source": [
    "X_train, X_test, y_train, y_test = train_test_split(X, y, test_size=0.2, random_state=42)\n",
    "\n",
    "# Define the pipeline with resampling, scaling, normalization, PCA, and placeholder for the classifier\n",
    "pipeline = ImbPipeline([\n",
    "    ('scaler', StandardScaler()),       # Standardize features by removing the mean and scaling to unit variance\n",
    "    ('normalizer', Normalizer()),       # Normalize samples individually to unit norm\n",
    "    ('pca', PCA()),                     # PCA for dimensionality reduction\n",
    "    ('classifier', RandomForestClassifier(random_state=42))  # Placeholder\n",
    "])\n",
    "\n",
    "# Define the parameter grid to include different classifiers and their parameters\n",
    "param_grid = [\n",
    "    {\n",
    "        'pca__n_components': [2, 3, 4],\n",
    "        'classifier': [BaggingClassifier(base_estimator=RandomForestClassifier(random_state=42))],\n",
    "        'classifier__n_estimators': [10, 50, 100]\n",
    "    },\n",
    "    {\n",
    "        'pca__n_components': [2, 3, 4],\n",
    "        'classifier': [BaggingClassifier(base_estimator=KNeighborsClassifier())],\n",
    "        'classifier__n_estimators': [10, 50, 100]\n",
    "    },\n",
    "    {\n",
    "        'pca__n_components': [2, 3, 4],\n",
    "        'classifier': [AdaBoostClassifier(base_estimator=RandomForestClassifier(random_state=42))],\n",
    "        'classifier__n_estimators': [50, 100, 200]\n",
    "    },\n",
    "    {\n",
    "        'pca__n_components': [2, 3, 4],\n",
    "        'classifier': [XGBClassifier(random_state=42, use_label_encoder=False, eval_metric='mlogloss')],\n",
    "        'classifier__n_estimators': [50, 100, 200],\n",
    "        'classifier__learning_rate': [0.01, 0.1, 0.2],\n",
    "        'classifier__max_depth': [3, 5, 7]\n",
    "    },\n",
    "    {\n",
    "        'pca__n_components': [2, 3, 4],\n",
    "        'classifier': [Ridge(random_state=42)],\n",
    "        'classifier__alpha': [0.01, 0.1, 1.0, 10.0]\n",
    "    }\n",
    "]\n",
    "\n",
    "# Create the GridSearchCV object with recall as the scoring metric\n",
    "grid_search = GridSearchCV(pipeline, param_grid, cv=2, scoring='recall', verbose=1)\n",
    "\n",
    "# Fit the grid search to the training data\n",
    "grid_search.fit(X_train, y_train)\n",
    "\n",
    "# Print the best parameters and the corresponding score\n",
    "print(f\"Best parameters: {grid_search.best_params_}\")\n",
    "print(f\"Best cross-validation score: {grid_search.best_score_}\")\n",
    "\n",
    "# Predict on the test set using the best estimator\n",
    "best_pipeline = grid_search.best_estimator_\n",
    "y_pred = best_pipeline.predict(X_test)\n",
    "\n",
    "# Evaluate the model\n",
    "accuracy = accuracy_score(y_test, y_pred)\n",
    "report = classification_report(y_test, y_pred)\n",
    "print(f\"Test Accuracy: {accuracy}\")\n",
    "print(\"Classification Report:\")\n",
    "print(report)\n",
    "\n",
    "# Extract feature importance from the best estimator if it has the attribute\n",
    "if hasattr(best_pipeline.named_steps['classifier'], 'feature_importances_'):\n",
    "    feature_importance = best_pipeline.named_steps['classifier'].feature_importances_\n",
    "    print(f\"Feature importance: {feature_importance}\")\n",
    "\n",
    "# Analyze cross-correlation\n",
    "X_scaled_normalized = best_pipeline.named_steps['normalizer'].transform(best_pipeline.named_steps['scaler'].transform(X))\n",
    "X_pca = best_pipeline.named_steps['pca'].transform(X_scaled_normalized)\n",
    "df_pca = pd.DataFrame(X_pca)\n",
    "\n",
    "correlation_matrix = df_pca.corr()\n",
    "print(\"Correlation matrix:\")\n",
    "print(correlation_matrix)\n",
    "\n",
    "# Visualize the correlation matrix\n",
    "plt.figure(figsize=(10, 8))\n",
    "sns.heatmap(correlation_matrix, annot=True, cmap='coolwarm')\n",
    "plt.title('PCA Components Correlation Matrix')\n",
    "plt.show()\n",
    "\n",
    "# Precision-Recall Curve and Average Precision Score\n",
    "if hasattr(best_pipeline.named_steps['classifier'], \"decision_function\"):\n",
    "    y_score = best_pipeline.named_steps['classifier'].decision_function(X_test)\n",
    "else:\n",
    "    y_score = best_pipeline.named_steps['classifier'].predict_proba(X_test)[:, 1]\n",
    "\n",
    "precision, recall, _ = precision_recall_curve(y_test, y_score)\n",
    "average_precision = average_precision_score(y_test, y_score)\n",
    "\n",
    "plt.figure(figsize=(8, 6))\n",
    "plt.plot(recall, precision, color='b', lw=2, label=f'Precision-Recall curve (area = {average_precision:.2f})')\n",
    "plt.xlabel('Recall')\n",
    "plt.ylabel('Precision')\n",
    "plt.title('Precision-Recall Curve')\n",
    "plt.legend(loc=\"lower left\")\n",
    "plt.show()\n",
    "\n",
    "# Learning Curve\n",
    "train_sizes, train_scores, test_scores = learning_curve(best_pipeline, X_train, y_train, cv=5, scoring='recall', n_jobs=-1)\n",
    "train_scores_mean = np.mean(train_scores, axis=1)\n",
    "test_scores_mean = np.mean(test_scores, axis=1)\n",
    "\n",
    "plt.figure(figsize=(8, 6))\n",
    "plt.plot(train_sizes, train_scores_mean, 'o-', color='r', label='Training score')\n",
    "plt.plot(train_sizes, test_scores_mean, 'o-', color='g', label='Cross-validation score')\n",
    "plt.xlabel('Training examples')\n",
    "plt.ylabel('Score')\n",
    "plt.title('Learning Curve')\n",
    "plt.legend(loc='best')\n",
    "plt.show()"
   ]
  },
  {
   "cell_type": "code",
   "execution_count": null,
   "id": "effdd868",
   "metadata": {},
   "outputs": [],
   "source": [
    "import pandas as pd\n",
    "import numpy as np\n",
    "from sklearn.model_selection import train_test_split, GridSearchCV, StratifiedKFold, learning_curve\n",
    "from sklearn.pipeline import Pipeline\n",
    "from sklearn.preprocessing import StandardScaler, Normalizer\n",
    "from sklearn.decomposition import PCA\n",
    "from sklearn.ensemble import RandomForestClassifier\n",
    "from sklearn.metrics import classification_report, accuracy_score\n",
    "import matplotlib.pyplot as plt\n",
    "import seaborn as sns\n",
    "\n",
    "def load_data(file_path):\n",
    "    # Load the original CSV file and remove the specified columns\n",
    "    Data = pd.read_csv(file_path).drop(columns=[\"Category\", \"Subtest/Assessment\"])\n",
    "    # Replace 'No Dyslexia' with 0, 'Mild' with 1, and 'Severe' with 2\n",
    "    Data.replace({'No Dyslexia': 0, 'Mild': 1, 'Severe': 2}, inplace=True)\n",
    "    # Separate the features (X) and the target (y)\n",
    "    X = Data.iloc[0:19].values.T  # Transpose X to ensure rows are samples and columns are features\n",
    "    X = X.astype(float)  # Convert X to float\n",
    "    y = Data.iloc[19].values.astype(int)  # Ensure y is an array of integers\n",
    "    return X, y\n",
    "\n",
    "def create_pipeline():\n",
    "    # Define the pipeline with scaling, normalization, PCA, and the classifier\n",
    "    pipeline = Pipeline([\n",
    "        ('scaler', StandardScaler()),       # Standardize features by removing the mean and scaling to unit variance\n",
    "        ('normalizer', Normalizer()),       # Normalize samples individually to unit norm\n",
    "        ('pca', PCA()),                     # PCA for dimensionality reduction\n",
    "        ('classifier', RandomForestClassifier(random_state=42))  # RandomForest classifier\n",
    "    ])\n",
    "    return pipeline\n",
    "\n",
    "def train_model(X, y):\n",
    "    # Split the data into training and testing sets using stratified split\n",
    "    X_train, X_test, y_train, y_test = train_test_split(X, y, test_size=0.3, random_state=42, stratify=y)\n",
    "    \n",
    "    pipeline = create_pipeline()\n",
    "\n",
    "    # Define the parameter grid\n",
    "    param_grid = {\n",
    "        'pca__n_components': [2, 3, 4],\n",
    "        'classifier__n_estimators': [10, 50, 100]\n",
    "    }\n",
    "\n",
    "    # Create the GridSearchCV object with recall as the scoring metric and stratified k-fold cross-validation\n",
    "    grid_search = GridSearchCV(pipeline, param_grid, cv=StratifiedKFold(n_splits=2), scoring='recall_macro', verbose=1)\n",
    "\n",
    "    # Fit the grid search to the training data\n",
    "    grid_search.fit(X_train, y_train)\n",
    "\n",
    "    # Print the best parameters and the corresponding score\n",
    "    print(f\"Best parameters: {grid_search.best_params_}\")\n",
    "    print(f\"Best cross-validation score: {grid_search.best_score_}\")\n",
    "\n",
    "    # Predict on the test set using the best estimator\n",
    "    best_pipeline = grid_search.best_estimator_\n",
    "\n",
    "    # Predict on the test set using the refitted best estimator\n",
    "    y_pred = best_pipeline.predict(X_test)\n",
    "\n",
    "    # Evaluate the model\n",
    "    accuracy = accuracy_score(y_test, y_pred)\n",
    "    report = classification_report(y_test, y_pred)\n",
    "    print(f\"Test Accuracy: {accuracy}\")\n",
    "    print(\"Classification Report:\")\n",
    "    print(report)\n",
    "\n",
    "    # Extract feature importance from the best estimator if it has the attribute\n",
    "    if hasattr(best_pipeline.named_steps['classifier'], 'feature_importances_'):\n",
    "        feature_importance = best_pipeline.named_steps['classifier'].feature_importances_\n",
    "        print(f\"Feature importance: {feature_importance}\")\n",
    "\n",
    "    return best_pipeline, X_train, X_test, y_train, y_test\n",
    "\n",
    "def analyze_correlation(best_pipeline, X):\n",
    "    # Analyze cross-correlation\n",
    "    X_scaled_normalized = best_pipeline.named_steps['normalizer'].transform(best_pipeline.named_steps['scaler'].transform(X))\n",
    "    X_pca = best_pipeline.named_steps['pca'].transform(X_scaled_normalized)\n",
    "    df_pca = pd.DataFrame(X_pca)\n",
    "\n",
    "    correlation_matrix = df_pca.corr()\n",
    "    print(\"Correlation matrix:\")\n",
    "    print(correlation_matrix)\n",
    "\n",
    "    # Visualize the correlation matrix\n",
    "    plt.figure(figsize=(10, 8))\n",
    "    sns.heatmap(correlation_matrix, annot=True, cmap='coolwarm')\n",
    "    plt.title('PCA Components Correlation Matrix')\n",
    "    plt.show()\n",
    "\n",
    "def plot_learning_curve(best_pipeline, X_train, y_train):\n",
    "    # Learning Curve\n",
    "    train_sizes, train_scores, test_scores = learning_curve(best_pipeline, X_train, y_train, cv=StratifiedKFold(n_splits=2), scoring='recall_macro', n_jobs=-1)\n",
    "    train_scores_mean = np.mean(train_scores, axis=1)\n",
    "    test_scores_mean = np.mean(test_scores, axis=1)\n",
    "\n",
    "    plt.figure(figsize=(8, 6))\n",
    "    plt.plot(train_sizes, train_scores_mean, 'o-', color='r', label='Training score')\n",
    "    plt.plot(train_sizes, test_scores_mean, 'o-', color='g', label='Cross-validation score')\n",
    "    plt.xlabel('Training examples')\n",
    "    plt.ylabel('Score')\n",
    "    plt.title('Learning Curve')\n",
    "    plt.legend(loc='best')\n",
    "    plt.show()\n",
    "\n",
    "if __name__ == \"__main__\":\n",
    "    file_path = r\"C:\\Users\\antho\\OneDrive - University College Dublin\\ACM20030 1\\ALPACA\\WISCndALPACA.csv\"\n",
    "    X, y = load_data(file_path)\n",
    "    best_pipeline, X_train, X_test, y_train, y_test = train_model(X, y)\n",
    "    analyze_correlation(best_pipeline, X)\n",
    "    plot_learning_curve(best_pipeline, X_train, y_train)\n"
   ]
  },
  {
   "cell_type": "code",
   "execution_count": null,
   "id": "4c919365",
   "metadata": {},
   "outputs": [],
   "source": [
    "best_pipeline.predict(AlpacaData)"
   ]
  },
  {
   "cell_type": "code",
   "execution_count": 65,
   "id": "a28b37a8",
   "metadata": {},
   "outputs": [
    {
     "data": {
      "application/vnd.plotly.v1+json": {
       "config": {
        "plotlyServerURL": "https://plot.ly"
       },
       "data": [
        {
         "domain": {
          "x": [
           0,
           0.4
          ],
          "y": [
           0.5,
           1
          ]
         },
         "gauge": {
          "axis": {
           "range": [
            0,
            100
           ]
          },
          "bar": {
           "color": "rgb(241, 255, 0)"
          },
          "steps": [
           {
            "color": "rgba(255, 0, 0, 0.3)",
            "range": [
             0,
             1
            ]
           },
           {
            "color": "rgba(255, 5, 0, 0.3)",
            "range": [
             1,
             2
            ]
           },
           {
            "color": "rgba(255, 10, 0, 0.3)",
            "range": [
             2,
             3
            ]
           },
           {
            "color": "rgba(255, 15, 0, 0.3)",
            "range": [
             3,
             4
            ]
           },
           {
            "color": "rgba(255, 20, 0, 0.3)",
            "range": [
             4,
             5
            ]
           },
           {
            "color": "rgba(255, 25, 0, 0.3)",
            "range": [
             5,
             6
            ]
           },
           {
            "color": "rgba(255, 30, 0, 0.3)",
            "range": [
             6,
             7
            ]
           },
           {
            "color": "rgba(255, 35, 0, 0.3)",
            "range": [
             7,
             8
            ]
           },
           {
            "color": "rgba(255, 40, 0, 0.3)",
            "range": [
             8,
             9
            ]
           },
           {
            "color": "rgba(255, 45, 0, 0.3)",
            "range": [
             9,
             10
            ]
           },
           {
            "color": "rgba(255, 51, 0, 0.3)",
            "range": [
             10,
             11
            ]
           },
           {
            "color": "rgba(255, 56, 0, 0.3)",
            "range": [
             11,
             12
            ]
           },
           {
            "color": "rgba(255, 61, 0, 0.3)",
            "range": [
             12,
             13
            ]
           },
           {
            "color": "rgba(255, 66, 0, 0.3)",
            "range": [
             13,
             14
            ]
           },
           {
            "color": "rgba(255, 71, 0, 0.3)",
            "range": [
             14,
             15
            ]
           },
           {
            "color": "rgba(255, 76, 0, 0.3)",
            "range": [
             15,
             16
            ]
           },
           {
            "color": "rgba(255, 81, 0, 0.3)",
            "range": [
             16,
             17
            ]
           },
           {
            "color": "rgba(255, 86, 0, 0.3)",
            "range": [
             17,
             18
            ]
           },
           {
            "color": "rgba(255, 91, 0, 0.3)",
            "range": [
             18,
             19
            ]
           },
           {
            "color": "rgba(255, 96, 0, 0.3)",
            "range": [
             19,
             20
            ]
           },
           {
            "color": "rgba(255, 102, 0, 0.3)",
            "range": [
             20,
             21
            ]
           },
           {
            "color": "rgba(255, 107, 0, 0.3)",
            "range": [
             21,
             22
            ]
           },
           {
            "color": "rgba(255, 112, 0, 0.3)",
            "range": [
             22,
             23
            ]
           },
           {
            "color": "rgba(255, 117, 0, 0.3)",
            "range": [
             23,
             24
            ]
           },
           {
            "color": "rgba(255, 122, 0, 0.3)",
            "range": [
             24,
             25
            ]
           },
           {
            "color": "rgba(255, 127, 0, 0.3)",
            "range": [
             25,
             26
            ]
           },
           {
            "color": "rgba(255, 132, 0, 0.3)",
            "range": [
             26,
             27
            ]
           },
           {
            "color": "rgba(255, 137, 0, 0.3)",
            "range": [
             27,
             28
            ]
           },
           {
            "color": "rgba(255, 142, 0, 0.3)",
            "range": [
             28,
             29
            ]
           },
           {
            "color": "rgba(255, 147, 0, 0.3)",
            "range": [
             29,
             30
            ]
           },
           {
            "color": "rgba(255, 153, 0, 0.3)",
            "range": [
             30,
             31
            ]
           },
           {
            "color": "rgba(255, 158, 0, 0.3)",
            "range": [
             31,
             32
            ]
           },
           {
            "color": "rgba(255, 163, 0, 0.3)",
            "range": [
             32,
             33
            ]
           },
           {
            "color": "rgba(255, 168, 0, 0.3)",
            "range": [
             33,
             34
            ]
           },
           {
            "color": "rgba(255, 173, 0, 0.3)",
            "range": [
             34,
             35
            ]
           },
           {
            "color": "rgba(255, 178, 0, 0.3)",
            "range": [
             35,
             36
            ]
           },
           {
            "color": "rgba(255, 183, 0, 0.3)",
            "range": [
             36,
             37
            ]
           },
           {
            "color": "rgba(255, 188, 0, 0.3)",
            "range": [
             37,
             38
            ]
           },
           {
            "color": "rgba(255, 193, 0, 0.3)",
            "range": [
             38,
             39
            ]
           },
           {
            "color": "rgba(255, 198, 0, 0.3)",
            "range": [
             39,
             40
            ]
           },
           {
            "color": "rgba(255, 204, 0, 0.3)",
            "range": [
             40,
             41
            ]
           },
           {
            "color": "rgba(255, 209, 0, 0.3)",
            "range": [
             41,
             42
            ]
           },
           {
            "color": "rgba(255, 214, 0, 0.3)",
            "range": [
             42,
             43
            ]
           },
           {
            "color": "rgba(255, 219, 0, 0.3)",
            "range": [
             43,
             44
            ]
           },
           {
            "color": "rgba(255, 224, 0, 0.3)",
            "range": [
             44,
             45
            ]
           },
           {
            "color": "rgba(255, 229, 0, 0.3)",
            "range": [
             45,
             46
            ]
           },
           {
            "color": "rgba(255, 234, 0, 0.3)",
            "range": [
             46,
             47
            ]
           },
           {
            "color": "rgba(255, 239, 0, 0.3)",
            "range": [
             47,
             48
            ]
           },
           {
            "color": "rgba(255, 244, 0, 0.3)",
            "range": [
             48,
             49
            ]
           },
           {
            "color": "rgba(255, 249, 0, 0.3)",
            "range": [
             49,
             50
            ]
           },
           {
            "color": "rgba(255, 255, 0, 0.3)",
            "range": [
             50,
             51
            ]
           },
           {
            "color": "rgba(249, 255, 0, 0.3)",
            "range": [
             51,
             52
            ]
           },
           {
            "color": "rgba(244, 255, 0, 0.3)",
            "range": [
             52,
             53
            ]
           },
           {
            "color": "rgba(239, 255, 0, 0.3)",
            "range": [
             53,
             54
            ]
           },
           {
            "color": "rgba(234, 255, 0, 0.3)",
            "range": [
             54,
             55
            ]
           },
           {
            "color": "rgba(229, 255, 0, 0.3)",
            "range": [
             55,
             56
            ]
           },
           {
            "color": "rgba(224, 255, 0, 0.3)",
            "range": [
             56,
             57
            ]
           },
           {
            "color": "rgba(219, 255, 0, 0.3)",
            "range": [
             57,
             58
            ]
           },
           {
            "color": "rgba(214, 255, 0, 0.3)",
            "range": [
             58,
             59
            ]
           },
           {
            "color": "rgba(209, 255, 0, 0.3)",
            "range": [
             59,
             60
            ]
           },
           {
            "color": "rgba(204, 255, 0, 0.3)",
            "range": [
             60,
             61
            ]
           },
           {
            "color": "rgba(198, 255, 0, 0.3)",
            "range": [
             61,
             62
            ]
           },
           {
            "color": "rgba(193, 255, 0, 0.3)",
            "range": [
             62,
             63
            ]
           },
           {
            "color": "rgba(188, 255, 0, 0.3)",
            "range": [
             63,
             64
            ]
           },
           {
            "color": "rgba(183, 255, 0, 0.3)",
            "range": [
             64,
             65
            ]
           },
           {
            "color": "rgba(178, 255, 0, 0.3)",
            "range": [
             65,
             66
            ]
           },
           {
            "color": "rgba(173, 255, 0, 0.3)",
            "range": [
             66,
             67
            ]
           },
           {
            "color": "rgba(168, 255, 0, 0.3)",
            "range": [
             67,
             68
            ]
           },
           {
            "color": "rgba(163, 255, 0, 0.3)",
            "range": [
             68,
             69
            ]
           },
           {
            "color": "rgba(158, 255, 0, 0.3)",
            "range": [
             69,
             70
            ]
           },
           {
            "color": "rgba(153, 255, 0, 0.3)",
            "range": [
             70,
             71
            ]
           },
           {
            "color": "rgba(147, 255, 0, 0.3)",
            "range": [
             71,
             72
            ]
           },
           {
            "color": "rgba(142, 255, 0, 0.3)",
            "range": [
             72,
             73
            ]
           },
           {
            "color": "rgba(137, 255, 0, 0.3)",
            "range": [
             73,
             74
            ]
           },
           {
            "color": "rgba(132, 255, 0, 0.3)",
            "range": [
             74,
             75
            ]
           },
           {
            "color": "rgba(127, 255, 0, 0.3)",
            "range": [
             75,
             76
            ]
           },
           {
            "color": "rgba(122, 255, 0, 0.3)",
            "range": [
             76,
             77
            ]
           },
           {
            "color": "rgba(117, 255, 0, 0.3)",
            "range": [
             77,
             78
            ]
           },
           {
            "color": "rgba(112, 255, 0, 0.3)",
            "range": [
             78,
             79
            ]
           },
           {
            "color": "rgba(107, 255, 0, 0.3)",
            "range": [
             79,
             80
            ]
           },
           {
            "color": "rgba(102, 255, 0, 0.3)",
            "range": [
             80,
             81
            ]
           },
           {
            "color": "rgba(96, 255, 0, 0.3)",
            "range": [
             81,
             82
            ]
           },
           {
            "color": "rgba(91, 255, 0, 0.3)",
            "range": [
             82,
             83
            ]
           },
           {
            "color": "rgba(86, 255, 0, 0.3)",
            "range": [
             83,
             84
            ]
           },
           {
            "color": "rgba(81, 255, 0, 0.3)",
            "range": [
             84,
             85
            ]
           },
           {
            "color": "rgba(76, 255, 0, 0.3)",
            "range": [
             85,
             86
            ]
           },
           {
            "color": "rgba(71, 255, 0, 0.3)",
            "range": [
             86,
             87
            ]
           },
           {
            "color": "rgba(66, 255, 0, 0.3)",
            "range": [
             87,
             88
            ]
           },
           {
            "color": "rgba(61, 255, 0, 0.3)",
            "range": [
             88,
             89
            ]
           },
           {
            "color": "rgba(56, 255, 0, 0.3)",
            "range": [
             89,
             90
            ]
           },
           {
            "color": "rgba(50, 255, 0, 0.3)",
            "range": [
             90,
             91
            ]
           },
           {
            "color": "rgba(45, 255, 0, 0.3)",
            "range": [
             91,
             92
            ]
           },
           {
            "color": "rgba(40, 255, 0, 0.3)",
            "range": [
             92,
             93
            ]
           },
           {
            "color": "rgba(35, 255, 0, 0.3)",
            "range": [
             93,
             94
            ]
           },
           {
            "color": "rgba(30, 255, 0, 0.3)",
            "range": [
             94,
             95
            ]
           },
           {
            "color": "rgba(25, 255, 0, 0.3)",
            "range": [
             95,
             96
            ]
           },
           {
            "color": "rgba(20, 255, 0, 0.3)",
            "range": [
             96,
             97
            ]
           },
           {
            "color": "rgba(15, 255, 0, 0.3)",
            "range": [
             97,
             98
            ]
           },
           {
            "color": "rgba(10, 255, 0, 0.3)",
            "range": [
             98,
             99
            ]
           },
           {
            "color": "rgba(5, 255, 0, 0.3)",
            "range": [
             99,
             100
            ]
           }
          ]
         },
         "mode": "gauge+number",
         "title": {
          "text": "Overall Percentile"
         },
         "type": "indicator",
         "value": 52.63157894736842
        },
        {
         "domain": {
          "x": [
           0.6,
           1
          ],
          "y": [
           0.5,
           1
          ]
         },
         "gauge": {
          "axis": {
           "range": [
            0,
            100
           ]
          },
          "bar": {
           "color": "rgb(0, 255, 0)"
          },
          "steps": [
           {
            "color": "rgba(255, 0, 0, 0.3)",
            "range": [
             0,
             1
            ]
           },
           {
            "color": "rgba(255, 5, 0, 0.3)",
            "range": [
             1,
             2
            ]
           },
           {
            "color": "rgba(255, 10, 0, 0.3)",
            "range": [
             2,
             3
            ]
           },
           {
            "color": "rgba(255, 15, 0, 0.3)",
            "range": [
             3,
             4
            ]
           },
           {
            "color": "rgba(255, 20, 0, 0.3)",
            "range": [
             4,
             5
            ]
           },
           {
            "color": "rgba(255, 25, 0, 0.3)",
            "range": [
             5,
             6
            ]
           },
           {
            "color": "rgba(255, 30, 0, 0.3)",
            "range": [
             6,
             7
            ]
           },
           {
            "color": "rgba(255, 35, 0, 0.3)",
            "range": [
             7,
             8
            ]
           },
           {
            "color": "rgba(255, 40, 0, 0.3)",
            "range": [
             8,
             9
            ]
           },
           {
            "color": "rgba(255, 45, 0, 0.3)",
            "range": [
             9,
             10
            ]
           },
           {
            "color": "rgba(255, 51, 0, 0.3)",
            "range": [
             10,
             11
            ]
           },
           {
            "color": "rgba(255, 56, 0, 0.3)",
            "range": [
             11,
             12
            ]
           },
           {
            "color": "rgba(255, 61, 0, 0.3)",
            "range": [
             12,
             13
            ]
           },
           {
            "color": "rgba(255, 66, 0, 0.3)",
            "range": [
             13,
             14
            ]
           },
           {
            "color": "rgba(255, 71, 0, 0.3)",
            "range": [
             14,
             15
            ]
           },
           {
            "color": "rgba(255, 76, 0, 0.3)",
            "range": [
             15,
             16
            ]
           },
           {
            "color": "rgba(255, 81, 0, 0.3)",
            "range": [
             16,
             17
            ]
           },
           {
            "color": "rgba(255, 86, 0, 0.3)",
            "range": [
             17,
             18
            ]
           },
           {
            "color": "rgba(255, 91, 0, 0.3)",
            "range": [
             18,
             19
            ]
           },
           {
            "color": "rgba(255, 96, 0, 0.3)",
            "range": [
             19,
             20
            ]
           },
           {
            "color": "rgba(255, 102, 0, 0.3)",
            "range": [
             20,
             21
            ]
           },
           {
            "color": "rgba(255, 107, 0, 0.3)",
            "range": [
             21,
             22
            ]
           },
           {
            "color": "rgba(255, 112, 0, 0.3)",
            "range": [
             22,
             23
            ]
           },
           {
            "color": "rgba(255, 117, 0, 0.3)",
            "range": [
             23,
             24
            ]
           },
           {
            "color": "rgba(255, 122, 0, 0.3)",
            "range": [
             24,
             25
            ]
           },
           {
            "color": "rgba(255, 127, 0, 0.3)",
            "range": [
             25,
             26
            ]
           },
           {
            "color": "rgba(255, 132, 0, 0.3)",
            "range": [
             26,
             27
            ]
           },
           {
            "color": "rgba(255, 137, 0, 0.3)",
            "range": [
             27,
             28
            ]
           },
           {
            "color": "rgba(255, 142, 0, 0.3)",
            "range": [
             28,
             29
            ]
           },
           {
            "color": "rgba(255, 147, 0, 0.3)",
            "range": [
             29,
             30
            ]
           },
           {
            "color": "rgba(255, 153, 0, 0.3)",
            "range": [
             30,
             31
            ]
           },
           {
            "color": "rgba(255, 158, 0, 0.3)",
            "range": [
             31,
             32
            ]
           },
           {
            "color": "rgba(255, 163, 0, 0.3)",
            "range": [
             32,
             33
            ]
           },
           {
            "color": "rgba(255, 168, 0, 0.3)",
            "range": [
             33,
             34
            ]
           },
           {
            "color": "rgba(255, 173, 0, 0.3)",
            "range": [
             34,
             35
            ]
           },
           {
            "color": "rgba(255, 178, 0, 0.3)",
            "range": [
             35,
             36
            ]
           },
           {
            "color": "rgba(255, 183, 0, 0.3)",
            "range": [
             36,
             37
            ]
           },
           {
            "color": "rgba(255, 188, 0, 0.3)",
            "range": [
             37,
             38
            ]
           },
           {
            "color": "rgba(255, 193, 0, 0.3)",
            "range": [
             38,
             39
            ]
           },
           {
            "color": "rgba(255, 198, 0, 0.3)",
            "range": [
             39,
             40
            ]
           },
           {
            "color": "rgba(255, 204, 0, 0.3)",
            "range": [
             40,
             41
            ]
           },
           {
            "color": "rgba(255, 209, 0, 0.3)",
            "range": [
             41,
             42
            ]
           },
           {
            "color": "rgba(255, 214, 0, 0.3)",
            "range": [
             42,
             43
            ]
           },
           {
            "color": "rgba(255, 219, 0, 0.3)",
            "range": [
             43,
             44
            ]
           },
           {
            "color": "rgba(255, 224, 0, 0.3)",
            "range": [
             44,
             45
            ]
           },
           {
            "color": "rgba(255, 229, 0, 0.3)",
            "range": [
             45,
             46
            ]
           },
           {
            "color": "rgba(255, 234, 0, 0.3)",
            "range": [
             46,
             47
            ]
           },
           {
            "color": "rgba(255, 239, 0, 0.3)",
            "range": [
             47,
             48
            ]
           },
           {
            "color": "rgba(255, 244, 0, 0.3)",
            "range": [
             48,
             49
            ]
           },
           {
            "color": "rgba(255, 249, 0, 0.3)",
            "range": [
             49,
             50
            ]
           },
           {
            "color": "rgba(255, 255, 0, 0.3)",
            "range": [
             50,
             51
            ]
           },
           {
            "color": "rgba(249, 255, 0, 0.3)",
            "range": [
             51,
             52
            ]
           },
           {
            "color": "rgba(244, 255, 0, 0.3)",
            "range": [
             52,
             53
            ]
           },
           {
            "color": "rgba(239, 255, 0, 0.3)",
            "range": [
             53,
             54
            ]
           },
           {
            "color": "rgba(234, 255, 0, 0.3)",
            "range": [
             54,
             55
            ]
           },
           {
            "color": "rgba(229, 255, 0, 0.3)",
            "range": [
             55,
             56
            ]
           },
           {
            "color": "rgba(224, 255, 0, 0.3)",
            "range": [
             56,
             57
            ]
           },
           {
            "color": "rgba(219, 255, 0, 0.3)",
            "range": [
             57,
             58
            ]
           },
           {
            "color": "rgba(214, 255, 0, 0.3)",
            "range": [
             58,
             59
            ]
           },
           {
            "color": "rgba(209, 255, 0, 0.3)",
            "range": [
             59,
             60
            ]
           },
           {
            "color": "rgba(204, 255, 0, 0.3)",
            "range": [
             60,
             61
            ]
           },
           {
            "color": "rgba(198, 255, 0, 0.3)",
            "range": [
             61,
             62
            ]
           },
           {
            "color": "rgba(193, 255, 0, 0.3)",
            "range": [
             62,
             63
            ]
           },
           {
            "color": "rgba(188, 255, 0, 0.3)",
            "range": [
             63,
             64
            ]
           },
           {
            "color": "rgba(183, 255, 0, 0.3)",
            "range": [
             64,
             65
            ]
           },
           {
            "color": "rgba(178, 255, 0, 0.3)",
            "range": [
             65,
             66
            ]
           },
           {
            "color": "rgba(173, 255, 0, 0.3)",
            "range": [
             66,
             67
            ]
           },
           {
            "color": "rgba(168, 255, 0, 0.3)",
            "range": [
             67,
             68
            ]
           },
           {
            "color": "rgba(163, 255, 0, 0.3)",
            "range": [
             68,
             69
            ]
           },
           {
            "color": "rgba(158, 255, 0, 0.3)",
            "range": [
             69,
             70
            ]
           },
           {
            "color": "rgba(153, 255, 0, 0.3)",
            "range": [
             70,
             71
            ]
           },
           {
            "color": "rgba(147, 255, 0, 0.3)",
            "range": [
             71,
             72
            ]
           },
           {
            "color": "rgba(142, 255, 0, 0.3)",
            "range": [
             72,
             73
            ]
           },
           {
            "color": "rgba(137, 255, 0, 0.3)",
            "range": [
             73,
             74
            ]
           },
           {
            "color": "rgba(132, 255, 0, 0.3)",
            "range": [
             74,
             75
            ]
           },
           {
            "color": "rgba(127, 255, 0, 0.3)",
            "range": [
             75,
             76
            ]
           },
           {
            "color": "rgba(122, 255, 0, 0.3)",
            "range": [
             76,
             77
            ]
           },
           {
            "color": "rgba(117, 255, 0, 0.3)",
            "range": [
             77,
             78
            ]
           },
           {
            "color": "rgba(112, 255, 0, 0.3)",
            "range": [
             78,
             79
            ]
           },
           {
            "color": "rgba(107, 255, 0, 0.3)",
            "range": [
             79,
             80
            ]
           },
           {
            "color": "rgba(102, 255, 0, 0.3)",
            "range": [
             80,
             81
            ]
           },
           {
            "color": "rgba(96, 255, 0, 0.3)",
            "range": [
             81,
             82
            ]
           },
           {
            "color": "rgba(91, 255, 0, 0.3)",
            "range": [
             82,
             83
            ]
           },
           {
            "color": "rgba(86, 255, 0, 0.3)",
            "range": [
             83,
             84
            ]
           },
           {
            "color": "rgba(81, 255, 0, 0.3)",
            "range": [
             84,
             85
            ]
           },
           {
            "color": "rgba(76, 255, 0, 0.3)",
            "range": [
             85,
             86
            ]
           },
           {
            "color": "rgba(71, 255, 0, 0.3)",
            "range": [
             86,
             87
            ]
           },
           {
            "color": "rgba(66, 255, 0, 0.3)",
            "range": [
             87,
             88
            ]
           },
           {
            "color": "rgba(61, 255, 0, 0.3)",
            "range": [
             88,
             89
            ]
           },
           {
            "color": "rgba(56, 255, 0, 0.3)",
            "range": [
             89,
             90
            ]
           },
           {
            "color": "rgba(50, 255, 0, 0.3)",
            "range": [
             90,
             91
            ]
           },
           {
            "color": "rgba(45, 255, 0, 0.3)",
            "range": [
             91,
             92
            ]
           },
           {
            "color": "rgba(40, 255, 0, 0.3)",
            "range": [
             92,
             93
            ]
           },
           {
            "color": "rgba(35, 255, 0, 0.3)",
            "range": [
             93,
             94
            ]
           },
           {
            "color": "rgba(30, 255, 0, 0.3)",
            "range": [
             94,
             95
            ]
           },
           {
            "color": "rgba(25, 255, 0, 0.3)",
            "range": [
             95,
             96
            ]
           },
           {
            "color": "rgba(20, 255, 0, 0.3)",
            "range": [
             96,
             97
            ]
           },
           {
            "color": "rgba(15, 255, 0, 0.3)",
            "range": [
             97,
             98
            ]
           },
           {
            "color": "rgba(10, 255, 0, 0.3)",
            "range": [
             98,
             99
            ]
           },
           {
            "color": "rgba(5, 255, 0, 0.3)",
            "range": [
             99,
             100
            ]
           }
          ]
         },
         "mode": "gauge+number",
         "title": {
          "text": "Best Attribute: Behavioral Observations"
         },
         "type": "indicator",
         "value": 100
        },
        {
         "domain": {
          "x": [
           0.3,
           0.7
          ],
          "y": [
           0,
           0.4
          ]
         },
         "gauge": {
          "axis": {
           "range": [
            0,
            100
           ]
          },
          "bar": {
           "color": "rgb(255, 51, 0)"
          },
          "steps": [
           {
            "color": "rgba(255, 0, 0, 0.3)",
            "range": [
             0,
             1
            ]
           },
           {
            "color": "rgba(255, 5, 0, 0.3)",
            "range": [
             1,
             2
            ]
           },
           {
            "color": "rgba(255, 10, 0, 0.3)",
            "range": [
             2,
             3
            ]
           },
           {
            "color": "rgba(255, 15, 0, 0.3)",
            "range": [
             3,
             4
            ]
           },
           {
            "color": "rgba(255, 20, 0, 0.3)",
            "range": [
             4,
             5
            ]
           },
           {
            "color": "rgba(255, 25, 0, 0.3)",
            "range": [
             5,
             6
            ]
           },
           {
            "color": "rgba(255, 30, 0, 0.3)",
            "range": [
             6,
             7
            ]
           },
           {
            "color": "rgba(255, 35, 0, 0.3)",
            "range": [
             7,
             8
            ]
           },
           {
            "color": "rgba(255, 40, 0, 0.3)",
            "range": [
             8,
             9
            ]
           },
           {
            "color": "rgba(255, 45, 0, 0.3)",
            "range": [
             9,
             10
            ]
           },
           {
            "color": "rgba(255, 51, 0, 0.3)",
            "range": [
             10,
             11
            ]
           },
           {
            "color": "rgba(255, 56, 0, 0.3)",
            "range": [
             11,
             12
            ]
           },
           {
            "color": "rgba(255, 61, 0, 0.3)",
            "range": [
             12,
             13
            ]
           },
           {
            "color": "rgba(255, 66, 0, 0.3)",
            "range": [
             13,
             14
            ]
           },
           {
            "color": "rgba(255, 71, 0, 0.3)",
            "range": [
             14,
             15
            ]
           },
           {
            "color": "rgba(255, 76, 0, 0.3)",
            "range": [
             15,
             16
            ]
           },
           {
            "color": "rgba(255, 81, 0, 0.3)",
            "range": [
             16,
             17
            ]
           },
           {
            "color": "rgba(255, 86, 0, 0.3)",
            "range": [
             17,
             18
            ]
           },
           {
            "color": "rgba(255, 91, 0, 0.3)",
            "range": [
             18,
             19
            ]
           },
           {
            "color": "rgba(255, 96, 0, 0.3)",
            "range": [
             19,
             20
            ]
           },
           {
            "color": "rgba(255, 102, 0, 0.3)",
            "range": [
             20,
             21
            ]
           },
           {
            "color": "rgba(255, 107, 0, 0.3)",
            "range": [
             21,
             22
            ]
           },
           {
            "color": "rgba(255, 112, 0, 0.3)",
            "range": [
             22,
             23
            ]
           },
           {
            "color": "rgba(255, 117, 0, 0.3)",
            "range": [
             23,
             24
            ]
           },
           {
            "color": "rgba(255, 122, 0, 0.3)",
            "range": [
             24,
             25
            ]
           },
           {
            "color": "rgba(255, 127, 0, 0.3)",
            "range": [
             25,
             26
            ]
           },
           {
            "color": "rgba(255, 132, 0, 0.3)",
            "range": [
             26,
             27
            ]
           },
           {
            "color": "rgba(255, 137, 0, 0.3)",
            "range": [
             27,
             28
            ]
           },
           {
            "color": "rgba(255, 142, 0, 0.3)",
            "range": [
             28,
             29
            ]
           },
           {
            "color": "rgba(255, 147, 0, 0.3)",
            "range": [
             29,
             30
            ]
           },
           {
            "color": "rgba(255, 153, 0, 0.3)",
            "range": [
             30,
             31
            ]
           },
           {
            "color": "rgba(255, 158, 0, 0.3)",
            "range": [
             31,
             32
            ]
           },
           {
            "color": "rgba(255, 163, 0, 0.3)",
            "range": [
             32,
             33
            ]
           },
           {
            "color": "rgba(255, 168, 0, 0.3)",
            "range": [
             33,
             34
            ]
           },
           {
            "color": "rgba(255, 173, 0, 0.3)",
            "range": [
             34,
             35
            ]
           },
           {
            "color": "rgba(255, 178, 0, 0.3)",
            "range": [
             35,
             36
            ]
           },
           {
            "color": "rgba(255, 183, 0, 0.3)",
            "range": [
             36,
             37
            ]
           },
           {
            "color": "rgba(255, 188, 0, 0.3)",
            "range": [
             37,
             38
            ]
           },
           {
            "color": "rgba(255, 193, 0, 0.3)",
            "range": [
             38,
             39
            ]
           },
           {
            "color": "rgba(255, 198, 0, 0.3)",
            "range": [
             39,
             40
            ]
           },
           {
            "color": "rgba(255, 204, 0, 0.3)",
            "range": [
             40,
             41
            ]
           },
           {
            "color": "rgba(255, 209, 0, 0.3)",
            "range": [
             41,
             42
            ]
           },
           {
            "color": "rgba(255, 214, 0, 0.3)",
            "range": [
             42,
             43
            ]
           },
           {
            "color": "rgba(255, 219, 0, 0.3)",
            "range": [
             43,
             44
            ]
           },
           {
            "color": "rgba(255, 224, 0, 0.3)",
            "range": [
             44,
             45
            ]
           },
           {
            "color": "rgba(255, 229, 0, 0.3)",
            "range": [
             45,
             46
            ]
           },
           {
            "color": "rgba(255, 234, 0, 0.3)",
            "range": [
             46,
             47
            ]
           },
           {
            "color": "rgba(255, 239, 0, 0.3)",
            "range": [
             47,
             48
            ]
           },
           {
            "color": "rgba(255, 244, 0, 0.3)",
            "range": [
             48,
             49
            ]
           },
           {
            "color": "rgba(255, 249, 0, 0.3)",
            "range": [
             49,
             50
            ]
           },
           {
            "color": "rgba(255, 255, 0, 0.3)",
            "range": [
             50,
             51
            ]
           },
           {
            "color": "rgba(249, 255, 0, 0.3)",
            "range": [
             51,
             52
            ]
           },
           {
            "color": "rgba(244, 255, 0, 0.3)",
            "range": [
             52,
             53
            ]
           },
           {
            "color": "rgba(239, 255, 0, 0.3)",
            "range": [
             53,
             54
            ]
           },
           {
            "color": "rgba(234, 255, 0, 0.3)",
            "range": [
             54,
             55
            ]
           },
           {
            "color": "rgba(229, 255, 0, 0.3)",
            "range": [
             55,
             56
            ]
           },
           {
            "color": "rgba(224, 255, 0, 0.3)",
            "range": [
             56,
             57
            ]
           },
           {
            "color": "rgba(219, 255, 0, 0.3)",
            "range": [
             57,
             58
            ]
           },
           {
            "color": "rgba(214, 255, 0, 0.3)",
            "range": [
             58,
             59
            ]
           },
           {
            "color": "rgba(209, 255, 0, 0.3)",
            "range": [
             59,
             60
            ]
           },
           {
            "color": "rgba(204, 255, 0, 0.3)",
            "range": [
             60,
             61
            ]
           },
           {
            "color": "rgba(198, 255, 0, 0.3)",
            "range": [
             61,
             62
            ]
           },
           {
            "color": "rgba(193, 255, 0, 0.3)",
            "range": [
             62,
             63
            ]
           },
           {
            "color": "rgba(188, 255, 0, 0.3)",
            "range": [
             63,
             64
            ]
           },
           {
            "color": "rgba(183, 255, 0, 0.3)",
            "range": [
             64,
             65
            ]
           },
           {
            "color": "rgba(178, 255, 0, 0.3)",
            "range": [
             65,
             66
            ]
           },
           {
            "color": "rgba(173, 255, 0, 0.3)",
            "range": [
             66,
             67
            ]
           },
           {
            "color": "rgba(168, 255, 0, 0.3)",
            "range": [
             67,
             68
            ]
           },
           {
            "color": "rgba(163, 255, 0, 0.3)",
            "range": [
             68,
             69
            ]
           },
           {
            "color": "rgba(158, 255, 0, 0.3)",
            "range": [
             69,
             70
            ]
           },
           {
            "color": "rgba(153, 255, 0, 0.3)",
            "range": [
             70,
             71
            ]
           },
           {
            "color": "rgba(147, 255, 0, 0.3)",
            "range": [
             71,
             72
            ]
           },
           {
            "color": "rgba(142, 255, 0, 0.3)",
            "range": [
             72,
             73
            ]
           },
           {
            "color": "rgba(137, 255, 0, 0.3)",
            "range": [
             73,
             74
            ]
           },
           {
            "color": "rgba(132, 255, 0, 0.3)",
            "range": [
             74,
             75
            ]
           },
           {
            "color": "rgba(127, 255, 0, 0.3)",
            "range": [
             75,
             76
            ]
           },
           {
            "color": "rgba(122, 255, 0, 0.3)",
            "range": [
             76,
             77
            ]
           },
           {
            "color": "rgba(117, 255, 0, 0.3)",
            "range": [
             77,
             78
            ]
           },
           {
            "color": "rgba(112, 255, 0, 0.3)",
            "range": [
             78,
             79
            ]
           },
           {
            "color": "rgba(107, 255, 0, 0.3)",
            "range": [
             79,
             80
            ]
           },
           {
            "color": "rgba(102, 255, 0, 0.3)",
            "range": [
             80,
             81
            ]
           },
           {
            "color": "rgba(96, 255, 0, 0.3)",
            "range": [
             81,
             82
            ]
           },
           {
            "color": "rgba(91, 255, 0, 0.3)",
            "range": [
             82,
             83
            ]
           },
           {
            "color": "rgba(86, 255, 0, 0.3)",
            "range": [
             83,
             84
            ]
           },
           {
            "color": "rgba(81, 255, 0, 0.3)",
            "range": [
             84,
             85
            ]
           },
           {
            "color": "rgba(76, 255, 0, 0.3)",
            "range": [
             85,
             86
            ]
           },
           {
            "color": "rgba(71, 255, 0, 0.3)",
            "range": [
             86,
             87
            ]
           },
           {
            "color": "rgba(66, 255, 0, 0.3)",
            "range": [
             87,
             88
            ]
           },
           {
            "color": "rgba(61, 255, 0, 0.3)",
            "range": [
             88,
             89
            ]
           },
           {
            "color": "rgba(56, 255, 0, 0.3)",
            "range": [
             89,
             90
            ]
           },
           {
            "color": "rgba(50, 255, 0, 0.3)",
            "range": [
             90,
             91
            ]
           },
           {
            "color": "rgba(45, 255, 0, 0.3)",
            "range": [
             91,
             92
            ]
           },
           {
            "color": "rgba(40, 255, 0, 0.3)",
            "range": [
             92,
             93
            ]
           },
           {
            "color": "rgba(35, 255, 0, 0.3)",
            "range": [
             93,
             94
            ]
           },
           {
            "color": "rgba(30, 255, 0, 0.3)",
            "range": [
             94,
             95
            ]
           },
           {
            "color": "rgba(25, 255, 0, 0.3)",
            "range": [
             95,
             96
            ]
           },
           {
            "color": "rgba(20, 255, 0, 0.3)",
            "range": [
             96,
             97
            ]
           },
           {
            "color": "rgba(15, 255, 0, 0.3)",
            "range": [
             97,
             98
            ]
           },
           {
            "color": "rgba(10, 255, 0, 0.3)",
            "range": [
             98,
             99
            ]
           },
           {
            "color": "rgba(5, 255, 0, 0.3)",
            "range": [
             99,
             100
            ]
           }
          ]
         },
         "mode": "gauge+number",
         "title": {
          "text": "Worst Attribute: Similarities"
         },
         "type": "indicator",
         "value": 10
        }
       ],
       "layout": {
        "annotations": [
         {
          "align": "center",
          "font": {
           "size": 12
          },
          "showarrow": false,
          "text": "Positive behavioral observations indicating good behavior and focus.",
          "x": 1.03,
          "y": 0.6
         },
         {
          "align": "center",
          "font": {
           "size": 12
          },
          "showarrow": false,
          "text": "Challenges in verbal reasoning and forming concepts.",
          "x": 0.5,
          "y": 0.03
         },
         {
          "align": "center",
          "bgcolor": "lightyellow",
          "bordercolor": "black",
          "borderpad": 10,
          "borderwidth": 1,
          "font": {
           "color": "black",
           "size": 14
          },
          "opacity": 0.8,
          "showarrow": false,
          "text": "<b>Dyslexia Diagnosis:</b> Mild Dyslexia",
          "x": 0.001,
          "xref": "paper",
          "y": 1.01,
          "yref": "paper"
         }
        ],
        "autosize": false,
        "height": 800,
        "margin": {
         "b": 50,
         "l": 50,
         "r": 50,
         "t": 50
        },
        "template": {
         "data": {
          "bar": [
           {
            "error_x": {
             "color": "#2a3f5f"
            },
            "error_y": {
             "color": "#2a3f5f"
            },
            "marker": {
             "line": {
              "color": "#E5ECF6",
              "width": 0.5
             },
             "pattern": {
              "fillmode": "overlay",
              "size": 10,
              "solidity": 0.2
             }
            },
            "type": "bar"
           }
          ],
          "barpolar": [
           {
            "marker": {
             "line": {
              "color": "#E5ECF6",
              "width": 0.5
             },
             "pattern": {
              "fillmode": "overlay",
              "size": 10,
              "solidity": 0.2
             }
            },
            "type": "barpolar"
           }
          ],
          "carpet": [
           {
            "aaxis": {
             "endlinecolor": "#2a3f5f",
             "gridcolor": "white",
             "linecolor": "white",
             "minorgridcolor": "white",
             "startlinecolor": "#2a3f5f"
            },
            "baxis": {
             "endlinecolor": "#2a3f5f",
             "gridcolor": "white",
             "linecolor": "white",
             "minorgridcolor": "white",
             "startlinecolor": "#2a3f5f"
            },
            "type": "carpet"
           }
          ],
          "choropleth": [
           {
            "colorbar": {
             "outlinewidth": 0,
             "ticks": ""
            },
            "type": "choropleth"
           }
          ],
          "contour": [
           {
            "colorbar": {
             "outlinewidth": 0,
             "ticks": ""
            },
            "colorscale": [
             [
              0,
              "#0d0887"
             ],
             [
              0.1111111111111111,
              "#46039f"
             ],
             [
              0.2222222222222222,
              "#7201a8"
             ],
             [
              0.3333333333333333,
              "#9c179e"
             ],
             [
              0.4444444444444444,
              "#bd3786"
             ],
             [
              0.5555555555555556,
              "#d8576b"
             ],
             [
              0.6666666666666666,
              "#ed7953"
             ],
             [
              0.7777777777777778,
              "#fb9f3a"
             ],
             [
              0.8888888888888888,
              "#fdca26"
             ],
             [
              1,
              "#f0f921"
             ]
            ],
            "type": "contour"
           }
          ],
          "contourcarpet": [
           {
            "colorbar": {
             "outlinewidth": 0,
             "ticks": ""
            },
            "type": "contourcarpet"
           }
          ],
          "heatmap": [
           {
            "colorbar": {
             "outlinewidth": 0,
             "ticks": ""
            },
            "colorscale": [
             [
              0,
              "#0d0887"
             ],
             [
              0.1111111111111111,
              "#46039f"
             ],
             [
              0.2222222222222222,
              "#7201a8"
             ],
             [
              0.3333333333333333,
              "#9c179e"
             ],
             [
              0.4444444444444444,
              "#bd3786"
             ],
             [
              0.5555555555555556,
              "#d8576b"
             ],
             [
              0.6666666666666666,
              "#ed7953"
             ],
             [
              0.7777777777777778,
              "#fb9f3a"
             ],
             [
              0.8888888888888888,
              "#fdca26"
             ],
             [
              1,
              "#f0f921"
             ]
            ],
            "type": "heatmap"
           }
          ],
          "heatmapgl": [
           {
            "colorbar": {
             "outlinewidth": 0,
             "ticks": ""
            },
            "colorscale": [
             [
              0,
              "#0d0887"
             ],
             [
              0.1111111111111111,
              "#46039f"
             ],
             [
              0.2222222222222222,
              "#7201a8"
             ],
             [
              0.3333333333333333,
              "#9c179e"
             ],
             [
              0.4444444444444444,
              "#bd3786"
             ],
             [
              0.5555555555555556,
              "#d8576b"
             ],
             [
              0.6666666666666666,
              "#ed7953"
             ],
             [
              0.7777777777777778,
              "#fb9f3a"
             ],
             [
              0.8888888888888888,
              "#fdca26"
             ],
             [
              1,
              "#f0f921"
             ]
            ],
            "type": "heatmapgl"
           }
          ],
          "histogram": [
           {
            "marker": {
             "pattern": {
              "fillmode": "overlay",
              "size": 10,
              "solidity": 0.2
             }
            },
            "type": "histogram"
           }
          ],
          "histogram2d": [
           {
            "colorbar": {
             "outlinewidth": 0,
             "ticks": ""
            },
            "colorscale": [
             [
              0,
              "#0d0887"
             ],
             [
              0.1111111111111111,
              "#46039f"
             ],
             [
              0.2222222222222222,
              "#7201a8"
             ],
             [
              0.3333333333333333,
              "#9c179e"
             ],
             [
              0.4444444444444444,
              "#bd3786"
             ],
             [
              0.5555555555555556,
              "#d8576b"
             ],
             [
              0.6666666666666666,
              "#ed7953"
             ],
             [
              0.7777777777777778,
              "#fb9f3a"
             ],
             [
              0.8888888888888888,
              "#fdca26"
             ],
             [
              1,
              "#f0f921"
             ]
            ],
            "type": "histogram2d"
           }
          ],
          "histogram2dcontour": [
           {
            "colorbar": {
             "outlinewidth": 0,
             "ticks": ""
            },
            "colorscale": [
             [
              0,
              "#0d0887"
             ],
             [
              0.1111111111111111,
              "#46039f"
             ],
             [
              0.2222222222222222,
              "#7201a8"
             ],
             [
              0.3333333333333333,
              "#9c179e"
             ],
             [
              0.4444444444444444,
              "#bd3786"
             ],
             [
              0.5555555555555556,
              "#d8576b"
             ],
             [
              0.6666666666666666,
              "#ed7953"
             ],
             [
              0.7777777777777778,
              "#fb9f3a"
             ],
             [
              0.8888888888888888,
              "#fdca26"
             ],
             [
              1,
              "#f0f921"
             ]
            ],
            "type": "histogram2dcontour"
           }
          ],
          "mesh3d": [
           {
            "colorbar": {
             "outlinewidth": 0,
             "ticks": ""
            },
            "type": "mesh3d"
           }
          ],
          "parcoords": [
           {
            "line": {
             "colorbar": {
              "outlinewidth": 0,
              "ticks": ""
             }
            },
            "type": "parcoords"
           }
          ],
          "pie": [
           {
            "automargin": true,
            "type": "pie"
           }
          ],
          "scatter": [
           {
            "marker": {
             "colorbar": {
              "outlinewidth": 0,
              "ticks": ""
             }
            },
            "type": "scatter"
           }
          ],
          "scatter3d": [
           {
            "line": {
             "colorbar": {
              "outlinewidth": 0,
              "ticks": ""
             }
            },
            "marker": {
             "colorbar": {
              "outlinewidth": 0,
              "ticks": ""
             }
            },
            "type": "scatter3d"
           }
          ],
          "scattercarpet": [
           {
            "marker": {
             "colorbar": {
              "outlinewidth": 0,
              "ticks": ""
             }
            },
            "type": "scattercarpet"
           }
          ],
          "scattergeo": [
           {
            "marker": {
             "colorbar": {
              "outlinewidth": 0,
              "ticks": ""
             }
            },
            "type": "scattergeo"
           }
          ],
          "scattergl": [
           {
            "marker": {
             "colorbar": {
              "outlinewidth": 0,
              "ticks": ""
             }
            },
            "type": "scattergl"
           }
          ],
          "scattermapbox": [
           {
            "marker": {
             "colorbar": {
              "outlinewidth": 0,
              "ticks": ""
             }
            },
            "type": "scattermapbox"
           }
          ],
          "scatterpolar": [
           {
            "marker": {
             "colorbar": {
              "outlinewidth": 0,
              "ticks": ""
             }
            },
            "type": "scatterpolar"
           }
          ],
          "scatterpolargl": [
           {
            "marker": {
             "colorbar": {
              "outlinewidth": 0,
              "ticks": ""
             }
            },
            "type": "scatterpolargl"
           }
          ],
          "scatterternary": [
           {
            "marker": {
             "colorbar": {
              "outlinewidth": 0,
              "ticks": ""
             }
            },
            "type": "scatterternary"
           }
          ],
          "surface": [
           {
            "colorbar": {
             "outlinewidth": 0,
             "ticks": ""
            },
            "colorscale": [
             [
              0,
              "#0d0887"
             ],
             [
              0.1111111111111111,
              "#46039f"
             ],
             [
              0.2222222222222222,
              "#7201a8"
             ],
             [
              0.3333333333333333,
              "#9c179e"
             ],
             [
              0.4444444444444444,
              "#bd3786"
             ],
             [
              0.5555555555555556,
              "#d8576b"
             ],
             [
              0.6666666666666666,
              "#ed7953"
             ],
             [
              0.7777777777777778,
              "#fb9f3a"
             ],
             [
              0.8888888888888888,
              "#fdca26"
             ],
             [
              1,
              "#f0f921"
             ]
            ],
            "type": "surface"
           }
          ],
          "table": [
           {
            "cells": {
             "fill": {
              "color": "#EBF0F8"
             },
             "line": {
              "color": "white"
             }
            },
            "header": {
             "fill": {
              "color": "#C8D4E3"
             },
             "line": {
              "color": "white"
             }
            },
            "type": "table"
           }
          ]
         },
         "layout": {
          "annotationdefaults": {
           "arrowcolor": "#2a3f5f",
           "arrowhead": 0,
           "arrowwidth": 1
          },
          "autotypenumbers": "strict",
          "coloraxis": {
           "colorbar": {
            "outlinewidth": 0,
            "ticks": ""
           }
          },
          "colorscale": {
           "diverging": [
            [
             0,
             "#8e0152"
            ],
            [
             0.1,
             "#c51b7d"
            ],
            [
             0.2,
             "#de77ae"
            ],
            [
             0.3,
             "#f1b6da"
            ],
            [
             0.4,
             "#fde0ef"
            ],
            [
             0.5,
             "#f7f7f7"
            ],
            [
             0.6,
             "#e6f5d0"
            ],
            [
             0.7,
             "#b8e186"
            ],
            [
             0.8,
             "#7fbc41"
            ],
            [
             0.9,
             "#4d9221"
            ],
            [
             1,
             "#276419"
            ]
           ],
           "sequential": [
            [
             0,
             "#0d0887"
            ],
            [
             0.1111111111111111,
             "#46039f"
            ],
            [
             0.2222222222222222,
             "#7201a8"
            ],
            [
             0.3333333333333333,
             "#9c179e"
            ],
            [
             0.4444444444444444,
             "#bd3786"
            ],
            [
             0.5555555555555556,
             "#d8576b"
            ],
            [
             0.6666666666666666,
             "#ed7953"
            ],
            [
             0.7777777777777778,
             "#fb9f3a"
            ],
            [
             0.8888888888888888,
             "#fdca26"
            ],
            [
             1,
             "#f0f921"
            ]
           ],
           "sequentialminus": [
            [
             0,
             "#0d0887"
            ],
            [
             0.1111111111111111,
             "#46039f"
            ],
            [
             0.2222222222222222,
             "#7201a8"
            ],
            [
             0.3333333333333333,
             "#9c179e"
            ],
            [
             0.4444444444444444,
             "#bd3786"
            ],
            [
             0.5555555555555556,
             "#d8576b"
            ],
            [
             0.6666666666666666,
             "#ed7953"
            ],
            [
             0.7777777777777778,
             "#fb9f3a"
            ],
            [
             0.8888888888888888,
             "#fdca26"
            ],
            [
             1,
             "#f0f921"
            ]
           ]
          },
          "colorway": [
           "#636efa",
           "#EF553B",
           "#00cc96",
           "#ab63fa",
           "#FFA15A",
           "#19d3f3",
           "#FF6692",
           "#B6E880",
           "#FF97FF",
           "#FECB52"
          ],
          "font": {
           "color": "#2a3f5f"
          },
          "geo": {
           "bgcolor": "white",
           "lakecolor": "white",
           "landcolor": "#E5ECF6",
           "showlakes": true,
           "showland": true,
           "subunitcolor": "white"
          },
          "hoverlabel": {
           "align": "left"
          },
          "hovermode": "closest",
          "mapbox": {
           "style": "light"
          },
          "paper_bgcolor": "white",
          "plot_bgcolor": "#E5ECF6",
          "polar": {
           "angularaxis": {
            "gridcolor": "white",
            "linecolor": "white",
            "ticks": ""
           },
           "bgcolor": "#E5ECF6",
           "radialaxis": {
            "gridcolor": "white",
            "linecolor": "white",
            "ticks": ""
           }
          },
          "scene": {
           "xaxis": {
            "backgroundcolor": "#E5ECF6",
            "gridcolor": "white",
            "gridwidth": 2,
            "linecolor": "white",
            "showbackground": true,
            "ticks": "",
            "zerolinecolor": "white"
           },
           "yaxis": {
            "backgroundcolor": "#E5ECF6",
            "gridcolor": "white",
            "gridwidth": 2,
            "linecolor": "white",
            "showbackground": true,
            "ticks": "",
            "zerolinecolor": "white"
           },
           "zaxis": {
            "backgroundcolor": "#E5ECF6",
            "gridcolor": "white",
            "gridwidth": 2,
            "linecolor": "white",
            "showbackground": true,
            "ticks": "",
            "zerolinecolor": "white"
           }
          },
          "shapedefaults": {
           "line": {
            "color": "#2a3f5f"
           }
          },
          "ternary": {
           "aaxis": {
            "gridcolor": "white",
            "linecolor": "white",
            "ticks": ""
           },
           "baxis": {
            "gridcolor": "white",
            "linecolor": "white",
            "ticks": ""
           },
           "bgcolor": "#E5ECF6",
           "caxis": {
            "gridcolor": "white",
            "linecolor": "white",
            "ticks": ""
           }
          },
          "title": {
           "x": 0.05
          },
          "xaxis": {
           "automargin": true,
           "gridcolor": "white",
           "linecolor": "white",
           "ticks": "",
           "title": {
            "standoff": 15
           },
           "zerolinecolor": "white",
           "zerolinewidth": 2
          },
          "yaxis": {
           "automargin": true,
           "gridcolor": "white",
           "linecolor": "white",
           "ticks": "",
           "title": {
            "standoff": 15
           },
           "zerolinecolor": "white",
           "zerolinewidth": 2
          }
         }
        },
        "title": {
         "text": "Student Performance Summary"
        },
        "width": 1000
       }
      },
      "text/html": [
       "<div>                            <div id=\"94a489e5-34ea-4257-993d-64f2a10badaa\" class=\"plotly-graph-div\" style=\"height:800px; width:1000px;\"></div>            <script type=\"text/javascript\">                require([\"plotly\"], function(Plotly) {                    window.PLOTLYENV=window.PLOTLYENV || {};                                    if (document.getElementById(\"94a489e5-34ea-4257-993d-64f2a10badaa\")) {                    Plotly.newPlot(                        \"94a489e5-34ea-4257-993d-64f2a10badaa\",                        [{\"domain\":{\"x\":[0,0.4],\"y\":[0.5,1]},\"gauge\":{\"axis\":{\"range\":[0,100]},\"bar\":{\"color\":\"rgb(241, 255, 0)\"},\"steps\":[{\"color\":\"rgba(255, 0, 0, 0.3)\",\"range\":[0,1]},{\"color\":\"rgba(255, 5, 0, 0.3)\",\"range\":[1,2]},{\"color\":\"rgba(255, 10, 0, 0.3)\",\"range\":[2,3]},{\"color\":\"rgba(255, 15, 0, 0.3)\",\"range\":[3,4]},{\"color\":\"rgba(255, 20, 0, 0.3)\",\"range\":[4,5]},{\"color\":\"rgba(255, 25, 0, 0.3)\",\"range\":[5,6]},{\"color\":\"rgba(255, 30, 0, 0.3)\",\"range\":[6,7]},{\"color\":\"rgba(255, 35, 0, 0.3)\",\"range\":[7,8]},{\"color\":\"rgba(255, 40, 0, 0.3)\",\"range\":[8,9]},{\"color\":\"rgba(255, 45, 0, 0.3)\",\"range\":[9,10]},{\"color\":\"rgba(255, 51, 0, 0.3)\",\"range\":[10,11]},{\"color\":\"rgba(255, 56, 0, 0.3)\",\"range\":[11,12]},{\"color\":\"rgba(255, 61, 0, 0.3)\",\"range\":[12,13]},{\"color\":\"rgba(255, 66, 0, 0.3)\",\"range\":[13,14]},{\"color\":\"rgba(255, 71, 0, 0.3)\",\"range\":[14,15]},{\"color\":\"rgba(255, 76, 0, 0.3)\",\"range\":[15,16]},{\"color\":\"rgba(255, 81, 0, 0.3)\",\"range\":[16,17]},{\"color\":\"rgba(255, 86, 0, 0.3)\",\"range\":[17,18]},{\"color\":\"rgba(255, 91, 0, 0.3)\",\"range\":[18,19]},{\"color\":\"rgba(255, 96, 0, 0.3)\",\"range\":[19,20]},{\"color\":\"rgba(255, 102, 0, 0.3)\",\"range\":[20,21]},{\"color\":\"rgba(255, 107, 0, 0.3)\",\"range\":[21,22]},{\"color\":\"rgba(255, 112, 0, 0.3)\",\"range\":[22,23]},{\"color\":\"rgba(255, 117, 0, 0.3)\",\"range\":[23,24]},{\"color\":\"rgba(255, 122, 0, 0.3)\",\"range\":[24,25]},{\"color\":\"rgba(255, 127, 0, 0.3)\",\"range\":[25,26]},{\"color\":\"rgba(255, 132, 0, 0.3)\",\"range\":[26,27]},{\"color\":\"rgba(255, 137, 0, 0.3)\",\"range\":[27,28]},{\"color\":\"rgba(255, 142, 0, 0.3)\",\"range\":[28,29]},{\"color\":\"rgba(255, 147, 0, 0.3)\",\"range\":[29,30]},{\"color\":\"rgba(255, 153, 0, 0.3)\",\"range\":[30,31]},{\"color\":\"rgba(255, 158, 0, 0.3)\",\"range\":[31,32]},{\"color\":\"rgba(255, 163, 0, 0.3)\",\"range\":[32,33]},{\"color\":\"rgba(255, 168, 0, 0.3)\",\"range\":[33,34]},{\"color\":\"rgba(255, 173, 0, 0.3)\",\"range\":[34,35]},{\"color\":\"rgba(255, 178, 0, 0.3)\",\"range\":[35,36]},{\"color\":\"rgba(255, 183, 0, 0.3)\",\"range\":[36,37]},{\"color\":\"rgba(255, 188, 0, 0.3)\",\"range\":[37,38]},{\"color\":\"rgba(255, 193, 0, 0.3)\",\"range\":[38,39]},{\"color\":\"rgba(255, 198, 0, 0.3)\",\"range\":[39,40]},{\"color\":\"rgba(255, 204, 0, 0.3)\",\"range\":[40,41]},{\"color\":\"rgba(255, 209, 0, 0.3)\",\"range\":[41,42]},{\"color\":\"rgba(255, 214, 0, 0.3)\",\"range\":[42,43]},{\"color\":\"rgba(255, 219, 0, 0.3)\",\"range\":[43,44]},{\"color\":\"rgba(255, 224, 0, 0.3)\",\"range\":[44,45]},{\"color\":\"rgba(255, 229, 0, 0.3)\",\"range\":[45,46]},{\"color\":\"rgba(255, 234, 0, 0.3)\",\"range\":[46,47]},{\"color\":\"rgba(255, 239, 0, 0.3)\",\"range\":[47,48]},{\"color\":\"rgba(255, 244, 0, 0.3)\",\"range\":[48,49]},{\"color\":\"rgba(255, 249, 0, 0.3)\",\"range\":[49,50]},{\"color\":\"rgba(255, 255, 0, 0.3)\",\"range\":[50,51]},{\"color\":\"rgba(249, 255, 0, 0.3)\",\"range\":[51,52]},{\"color\":\"rgba(244, 255, 0, 0.3)\",\"range\":[52,53]},{\"color\":\"rgba(239, 255, 0, 0.3)\",\"range\":[53,54]},{\"color\":\"rgba(234, 255, 0, 0.3)\",\"range\":[54,55]},{\"color\":\"rgba(229, 255, 0, 0.3)\",\"range\":[55,56]},{\"color\":\"rgba(224, 255, 0, 0.3)\",\"range\":[56,57]},{\"color\":\"rgba(219, 255, 0, 0.3)\",\"range\":[57,58]},{\"color\":\"rgba(214, 255, 0, 0.3)\",\"range\":[58,59]},{\"color\":\"rgba(209, 255, 0, 0.3)\",\"range\":[59,60]},{\"color\":\"rgba(204, 255, 0, 0.3)\",\"range\":[60,61]},{\"color\":\"rgba(198, 255, 0, 0.3)\",\"range\":[61,62]},{\"color\":\"rgba(193, 255, 0, 0.3)\",\"range\":[62,63]},{\"color\":\"rgba(188, 255, 0, 0.3)\",\"range\":[63,64]},{\"color\":\"rgba(183, 255, 0, 0.3)\",\"range\":[64,65]},{\"color\":\"rgba(178, 255, 0, 0.3)\",\"range\":[65,66]},{\"color\":\"rgba(173, 255, 0, 0.3)\",\"range\":[66,67]},{\"color\":\"rgba(168, 255, 0, 0.3)\",\"range\":[67,68]},{\"color\":\"rgba(163, 255, 0, 0.3)\",\"range\":[68,69]},{\"color\":\"rgba(158, 255, 0, 0.3)\",\"range\":[69,70]},{\"color\":\"rgba(153, 255, 0, 0.3)\",\"range\":[70,71]},{\"color\":\"rgba(147, 255, 0, 0.3)\",\"range\":[71,72]},{\"color\":\"rgba(142, 255, 0, 0.3)\",\"range\":[72,73]},{\"color\":\"rgba(137, 255, 0, 0.3)\",\"range\":[73,74]},{\"color\":\"rgba(132, 255, 0, 0.3)\",\"range\":[74,75]},{\"color\":\"rgba(127, 255, 0, 0.3)\",\"range\":[75,76]},{\"color\":\"rgba(122, 255, 0, 0.3)\",\"range\":[76,77]},{\"color\":\"rgba(117, 255, 0, 0.3)\",\"range\":[77,78]},{\"color\":\"rgba(112, 255, 0, 0.3)\",\"range\":[78,79]},{\"color\":\"rgba(107, 255, 0, 0.3)\",\"range\":[79,80]},{\"color\":\"rgba(102, 255, 0, 0.3)\",\"range\":[80,81]},{\"color\":\"rgba(96, 255, 0, 0.3)\",\"range\":[81,82]},{\"color\":\"rgba(91, 255, 0, 0.3)\",\"range\":[82,83]},{\"color\":\"rgba(86, 255, 0, 0.3)\",\"range\":[83,84]},{\"color\":\"rgba(81, 255, 0, 0.3)\",\"range\":[84,85]},{\"color\":\"rgba(76, 255, 0, 0.3)\",\"range\":[85,86]},{\"color\":\"rgba(71, 255, 0, 0.3)\",\"range\":[86,87]},{\"color\":\"rgba(66, 255, 0, 0.3)\",\"range\":[87,88]},{\"color\":\"rgba(61, 255, 0, 0.3)\",\"range\":[88,89]},{\"color\":\"rgba(56, 255, 0, 0.3)\",\"range\":[89,90]},{\"color\":\"rgba(50, 255, 0, 0.3)\",\"range\":[90,91]},{\"color\":\"rgba(45, 255, 0, 0.3)\",\"range\":[91,92]},{\"color\":\"rgba(40, 255, 0, 0.3)\",\"range\":[92,93]},{\"color\":\"rgba(35, 255, 0, 0.3)\",\"range\":[93,94]},{\"color\":\"rgba(30, 255, 0, 0.3)\",\"range\":[94,95]},{\"color\":\"rgba(25, 255, 0, 0.3)\",\"range\":[95,96]},{\"color\":\"rgba(20, 255, 0, 0.3)\",\"range\":[96,97]},{\"color\":\"rgba(15, 255, 0, 0.3)\",\"range\":[97,98]},{\"color\":\"rgba(10, 255, 0, 0.3)\",\"range\":[98,99]},{\"color\":\"rgba(5, 255, 0, 0.3)\",\"range\":[99,100]}]},\"mode\":\"gauge+number\",\"title\":{\"text\":\"Overall Percentile\"},\"value\":52.63157894736842,\"type\":\"indicator\"},{\"domain\":{\"x\":[0.6,1],\"y\":[0.5,1]},\"gauge\":{\"axis\":{\"range\":[0,100]},\"bar\":{\"color\":\"rgb(0, 255, 0)\"},\"steps\":[{\"color\":\"rgba(255, 0, 0, 0.3)\",\"range\":[0,1]},{\"color\":\"rgba(255, 5, 0, 0.3)\",\"range\":[1,2]},{\"color\":\"rgba(255, 10, 0, 0.3)\",\"range\":[2,3]},{\"color\":\"rgba(255, 15, 0, 0.3)\",\"range\":[3,4]},{\"color\":\"rgba(255, 20, 0, 0.3)\",\"range\":[4,5]},{\"color\":\"rgba(255, 25, 0, 0.3)\",\"range\":[5,6]},{\"color\":\"rgba(255, 30, 0, 0.3)\",\"range\":[6,7]},{\"color\":\"rgba(255, 35, 0, 0.3)\",\"range\":[7,8]},{\"color\":\"rgba(255, 40, 0, 0.3)\",\"range\":[8,9]},{\"color\":\"rgba(255, 45, 0, 0.3)\",\"range\":[9,10]},{\"color\":\"rgba(255, 51, 0, 0.3)\",\"range\":[10,11]},{\"color\":\"rgba(255, 56, 0, 0.3)\",\"range\":[11,12]},{\"color\":\"rgba(255, 61, 0, 0.3)\",\"range\":[12,13]},{\"color\":\"rgba(255, 66, 0, 0.3)\",\"range\":[13,14]},{\"color\":\"rgba(255, 71, 0, 0.3)\",\"range\":[14,15]},{\"color\":\"rgba(255, 76, 0, 0.3)\",\"range\":[15,16]},{\"color\":\"rgba(255, 81, 0, 0.3)\",\"range\":[16,17]},{\"color\":\"rgba(255, 86, 0, 0.3)\",\"range\":[17,18]},{\"color\":\"rgba(255, 91, 0, 0.3)\",\"range\":[18,19]},{\"color\":\"rgba(255, 96, 0, 0.3)\",\"range\":[19,20]},{\"color\":\"rgba(255, 102, 0, 0.3)\",\"range\":[20,21]},{\"color\":\"rgba(255, 107, 0, 0.3)\",\"range\":[21,22]},{\"color\":\"rgba(255, 112, 0, 0.3)\",\"range\":[22,23]},{\"color\":\"rgba(255, 117, 0, 0.3)\",\"range\":[23,24]},{\"color\":\"rgba(255, 122, 0, 0.3)\",\"range\":[24,25]},{\"color\":\"rgba(255, 127, 0, 0.3)\",\"range\":[25,26]},{\"color\":\"rgba(255, 132, 0, 0.3)\",\"range\":[26,27]},{\"color\":\"rgba(255, 137, 0, 0.3)\",\"range\":[27,28]},{\"color\":\"rgba(255, 142, 0, 0.3)\",\"range\":[28,29]},{\"color\":\"rgba(255, 147, 0, 0.3)\",\"range\":[29,30]},{\"color\":\"rgba(255, 153, 0, 0.3)\",\"range\":[30,31]},{\"color\":\"rgba(255, 158, 0, 0.3)\",\"range\":[31,32]},{\"color\":\"rgba(255, 163, 0, 0.3)\",\"range\":[32,33]},{\"color\":\"rgba(255, 168, 0, 0.3)\",\"range\":[33,34]},{\"color\":\"rgba(255, 173, 0, 0.3)\",\"range\":[34,35]},{\"color\":\"rgba(255, 178, 0, 0.3)\",\"range\":[35,36]},{\"color\":\"rgba(255, 183, 0, 0.3)\",\"range\":[36,37]},{\"color\":\"rgba(255, 188, 0, 0.3)\",\"range\":[37,38]},{\"color\":\"rgba(255, 193, 0, 0.3)\",\"range\":[38,39]},{\"color\":\"rgba(255, 198, 0, 0.3)\",\"range\":[39,40]},{\"color\":\"rgba(255, 204, 0, 0.3)\",\"range\":[40,41]},{\"color\":\"rgba(255, 209, 0, 0.3)\",\"range\":[41,42]},{\"color\":\"rgba(255, 214, 0, 0.3)\",\"range\":[42,43]},{\"color\":\"rgba(255, 219, 0, 0.3)\",\"range\":[43,44]},{\"color\":\"rgba(255, 224, 0, 0.3)\",\"range\":[44,45]},{\"color\":\"rgba(255, 229, 0, 0.3)\",\"range\":[45,46]},{\"color\":\"rgba(255, 234, 0, 0.3)\",\"range\":[46,47]},{\"color\":\"rgba(255, 239, 0, 0.3)\",\"range\":[47,48]},{\"color\":\"rgba(255, 244, 0, 0.3)\",\"range\":[48,49]},{\"color\":\"rgba(255, 249, 0, 0.3)\",\"range\":[49,50]},{\"color\":\"rgba(255, 255, 0, 0.3)\",\"range\":[50,51]},{\"color\":\"rgba(249, 255, 0, 0.3)\",\"range\":[51,52]},{\"color\":\"rgba(244, 255, 0, 0.3)\",\"range\":[52,53]},{\"color\":\"rgba(239, 255, 0, 0.3)\",\"range\":[53,54]},{\"color\":\"rgba(234, 255, 0, 0.3)\",\"range\":[54,55]},{\"color\":\"rgba(229, 255, 0, 0.3)\",\"range\":[55,56]},{\"color\":\"rgba(224, 255, 0, 0.3)\",\"range\":[56,57]},{\"color\":\"rgba(219, 255, 0, 0.3)\",\"range\":[57,58]},{\"color\":\"rgba(214, 255, 0, 0.3)\",\"range\":[58,59]},{\"color\":\"rgba(209, 255, 0, 0.3)\",\"range\":[59,60]},{\"color\":\"rgba(204, 255, 0, 0.3)\",\"range\":[60,61]},{\"color\":\"rgba(198, 255, 0, 0.3)\",\"range\":[61,62]},{\"color\":\"rgba(193, 255, 0, 0.3)\",\"range\":[62,63]},{\"color\":\"rgba(188, 255, 0, 0.3)\",\"range\":[63,64]},{\"color\":\"rgba(183, 255, 0, 0.3)\",\"range\":[64,65]},{\"color\":\"rgba(178, 255, 0, 0.3)\",\"range\":[65,66]},{\"color\":\"rgba(173, 255, 0, 0.3)\",\"range\":[66,67]},{\"color\":\"rgba(168, 255, 0, 0.3)\",\"range\":[67,68]},{\"color\":\"rgba(163, 255, 0, 0.3)\",\"range\":[68,69]},{\"color\":\"rgba(158, 255, 0, 0.3)\",\"range\":[69,70]},{\"color\":\"rgba(153, 255, 0, 0.3)\",\"range\":[70,71]},{\"color\":\"rgba(147, 255, 0, 0.3)\",\"range\":[71,72]},{\"color\":\"rgba(142, 255, 0, 0.3)\",\"range\":[72,73]},{\"color\":\"rgba(137, 255, 0, 0.3)\",\"range\":[73,74]},{\"color\":\"rgba(132, 255, 0, 0.3)\",\"range\":[74,75]},{\"color\":\"rgba(127, 255, 0, 0.3)\",\"range\":[75,76]},{\"color\":\"rgba(122, 255, 0, 0.3)\",\"range\":[76,77]},{\"color\":\"rgba(117, 255, 0, 0.3)\",\"range\":[77,78]},{\"color\":\"rgba(112, 255, 0, 0.3)\",\"range\":[78,79]},{\"color\":\"rgba(107, 255, 0, 0.3)\",\"range\":[79,80]},{\"color\":\"rgba(102, 255, 0, 0.3)\",\"range\":[80,81]},{\"color\":\"rgba(96, 255, 0, 0.3)\",\"range\":[81,82]},{\"color\":\"rgba(91, 255, 0, 0.3)\",\"range\":[82,83]},{\"color\":\"rgba(86, 255, 0, 0.3)\",\"range\":[83,84]},{\"color\":\"rgba(81, 255, 0, 0.3)\",\"range\":[84,85]},{\"color\":\"rgba(76, 255, 0, 0.3)\",\"range\":[85,86]},{\"color\":\"rgba(71, 255, 0, 0.3)\",\"range\":[86,87]},{\"color\":\"rgba(66, 255, 0, 0.3)\",\"range\":[87,88]},{\"color\":\"rgba(61, 255, 0, 0.3)\",\"range\":[88,89]},{\"color\":\"rgba(56, 255, 0, 0.3)\",\"range\":[89,90]},{\"color\":\"rgba(50, 255, 0, 0.3)\",\"range\":[90,91]},{\"color\":\"rgba(45, 255, 0, 0.3)\",\"range\":[91,92]},{\"color\":\"rgba(40, 255, 0, 0.3)\",\"range\":[92,93]},{\"color\":\"rgba(35, 255, 0, 0.3)\",\"range\":[93,94]},{\"color\":\"rgba(30, 255, 0, 0.3)\",\"range\":[94,95]},{\"color\":\"rgba(25, 255, 0, 0.3)\",\"range\":[95,96]},{\"color\":\"rgba(20, 255, 0, 0.3)\",\"range\":[96,97]},{\"color\":\"rgba(15, 255, 0, 0.3)\",\"range\":[97,98]},{\"color\":\"rgba(10, 255, 0, 0.3)\",\"range\":[98,99]},{\"color\":\"rgba(5, 255, 0, 0.3)\",\"range\":[99,100]}]},\"mode\":\"gauge+number\",\"title\":{\"text\":\"Best Attribute: Behavioral Observations\"},\"value\":100,\"type\":\"indicator\"},{\"domain\":{\"x\":[0.3,0.7],\"y\":[0,0.4]},\"gauge\":{\"axis\":{\"range\":[0,100]},\"bar\":{\"color\":\"rgb(255, 51, 0)\"},\"steps\":[{\"color\":\"rgba(255, 0, 0, 0.3)\",\"range\":[0,1]},{\"color\":\"rgba(255, 5, 0, 0.3)\",\"range\":[1,2]},{\"color\":\"rgba(255, 10, 0, 0.3)\",\"range\":[2,3]},{\"color\":\"rgba(255, 15, 0, 0.3)\",\"range\":[3,4]},{\"color\":\"rgba(255, 20, 0, 0.3)\",\"range\":[4,5]},{\"color\":\"rgba(255, 25, 0, 0.3)\",\"range\":[5,6]},{\"color\":\"rgba(255, 30, 0, 0.3)\",\"range\":[6,7]},{\"color\":\"rgba(255, 35, 0, 0.3)\",\"range\":[7,8]},{\"color\":\"rgba(255, 40, 0, 0.3)\",\"range\":[8,9]},{\"color\":\"rgba(255, 45, 0, 0.3)\",\"range\":[9,10]},{\"color\":\"rgba(255, 51, 0, 0.3)\",\"range\":[10,11]},{\"color\":\"rgba(255, 56, 0, 0.3)\",\"range\":[11,12]},{\"color\":\"rgba(255, 61, 0, 0.3)\",\"range\":[12,13]},{\"color\":\"rgba(255, 66, 0, 0.3)\",\"range\":[13,14]},{\"color\":\"rgba(255, 71, 0, 0.3)\",\"range\":[14,15]},{\"color\":\"rgba(255, 76, 0, 0.3)\",\"range\":[15,16]},{\"color\":\"rgba(255, 81, 0, 0.3)\",\"range\":[16,17]},{\"color\":\"rgba(255, 86, 0, 0.3)\",\"range\":[17,18]},{\"color\":\"rgba(255, 91, 0, 0.3)\",\"range\":[18,19]},{\"color\":\"rgba(255, 96, 0, 0.3)\",\"range\":[19,20]},{\"color\":\"rgba(255, 102, 0, 0.3)\",\"range\":[20,21]},{\"color\":\"rgba(255, 107, 0, 0.3)\",\"range\":[21,22]},{\"color\":\"rgba(255, 112, 0, 0.3)\",\"range\":[22,23]},{\"color\":\"rgba(255, 117, 0, 0.3)\",\"range\":[23,24]},{\"color\":\"rgba(255, 122, 0, 0.3)\",\"range\":[24,25]},{\"color\":\"rgba(255, 127, 0, 0.3)\",\"range\":[25,26]},{\"color\":\"rgba(255, 132, 0, 0.3)\",\"range\":[26,27]},{\"color\":\"rgba(255, 137, 0, 0.3)\",\"range\":[27,28]},{\"color\":\"rgba(255, 142, 0, 0.3)\",\"range\":[28,29]},{\"color\":\"rgba(255, 147, 0, 0.3)\",\"range\":[29,30]},{\"color\":\"rgba(255, 153, 0, 0.3)\",\"range\":[30,31]},{\"color\":\"rgba(255, 158, 0, 0.3)\",\"range\":[31,32]},{\"color\":\"rgba(255, 163, 0, 0.3)\",\"range\":[32,33]},{\"color\":\"rgba(255, 168, 0, 0.3)\",\"range\":[33,34]},{\"color\":\"rgba(255, 173, 0, 0.3)\",\"range\":[34,35]},{\"color\":\"rgba(255, 178, 0, 0.3)\",\"range\":[35,36]},{\"color\":\"rgba(255, 183, 0, 0.3)\",\"range\":[36,37]},{\"color\":\"rgba(255, 188, 0, 0.3)\",\"range\":[37,38]},{\"color\":\"rgba(255, 193, 0, 0.3)\",\"range\":[38,39]},{\"color\":\"rgba(255, 198, 0, 0.3)\",\"range\":[39,40]},{\"color\":\"rgba(255, 204, 0, 0.3)\",\"range\":[40,41]},{\"color\":\"rgba(255, 209, 0, 0.3)\",\"range\":[41,42]},{\"color\":\"rgba(255, 214, 0, 0.3)\",\"range\":[42,43]},{\"color\":\"rgba(255, 219, 0, 0.3)\",\"range\":[43,44]},{\"color\":\"rgba(255, 224, 0, 0.3)\",\"range\":[44,45]},{\"color\":\"rgba(255, 229, 0, 0.3)\",\"range\":[45,46]},{\"color\":\"rgba(255, 234, 0, 0.3)\",\"range\":[46,47]},{\"color\":\"rgba(255, 239, 0, 0.3)\",\"range\":[47,48]},{\"color\":\"rgba(255, 244, 0, 0.3)\",\"range\":[48,49]},{\"color\":\"rgba(255, 249, 0, 0.3)\",\"range\":[49,50]},{\"color\":\"rgba(255, 255, 0, 0.3)\",\"range\":[50,51]},{\"color\":\"rgba(249, 255, 0, 0.3)\",\"range\":[51,52]},{\"color\":\"rgba(244, 255, 0, 0.3)\",\"range\":[52,53]},{\"color\":\"rgba(239, 255, 0, 0.3)\",\"range\":[53,54]},{\"color\":\"rgba(234, 255, 0, 0.3)\",\"range\":[54,55]},{\"color\":\"rgba(229, 255, 0, 0.3)\",\"range\":[55,56]},{\"color\":\"rgba(224, 255, 0, 0.3)\",\"range\":[56,57]},{\"color\":\"rgba(219, 255, 0, 0.3)\",\"range\":[57,58]},{\"color\":\"rgba(214, 255, 0, 0.3)\",\"range\":[58,59]},{\"color\":\"rgba(209, 255, 0, 0.3)\",\"range\":[59,60]},{\"color\":\"rgba(204, 255, 0, 0.3)\",\"range\":[60,61]},{\"color\":\"rgba(198, 255, 0, 0.3)\",\"range\":[61,62]},{\"color\":\"rgba(193, 255, 0, 0.3)\",\"range\":[62,63]},{\"color\":\"rgba(188, 255, 0, 0.3)\",\"range\":[63,64]},{\"color\":\"rgba(183, 255, 0, 0.3)\",\"range\":[64,65]},{\"color\":\"rgba(178, 255, 0, 0.3)\",\"range\":[65,66]},{\"color\":\"rgba(173, 255, 0, 0.3)\",\"range\":[66,67]},{\"color\":\"rgba(168, 255, 0, 0.3)\",\"range\":[67,68]},{\"color\":\"rgba(163, 255, 0, 0.3)\",\"range\":[68,69]},{\"color\":\"rgba(158, 255, 0, 0.3)\",\"range\":[69,70]},{\"color\":\"rgba(153, 255, 0, 0.3)\",\"range\":[70,71]},{\"color\":\"rgba(147, 255, 0, 0.3)\",\"range\":[71,72]},{\"color\":\"rgba(142, 255, 0, 0.3)\",\"range\":[72,73]},{\"color\":\"rgba(137, 255, 0, 0.3)\",\"range\":[73,74]},{\"color\":\"rgba(132, 255, 0, 0.3)\",\"range\":[74,75]},{\"color\":\"rgba(127, 255, 0, 0.3)\",\"range\":[75,76]},{\"color\":\"rgba(122, 255, 0, 0.3)\",\"range\":[76,77]},{\"color\":\"rgba(117, 255, 0, 0.3)\",\"range\":[77,78]},{\"color\":\"rgba(112, 255, 0, 0.3)\",\"range\":[78,79]},{\"color\":\"rgba(107, 255, 0, 0.3)\",\"range\":[79,80]},{\"color\":\"rgba(102, 255, 0, 0.3)\",\"range\":[80,81]},{\"color\":\"rgba(96, 255, 0, 0.3)\",\"range\":[81,82]},{\"color\":\"rgba(91, 255, 0, 0.3)\",\"range\":[82,83]},{\"color\":\"rgba(86, 255, 0, 0.3)\",\"range\":[83,84]},{\"color\":\"rgba(81, 255, 0, 0.3)\",\"range\":[84,85]},{\"color\":\"rgba(76, 255, 0, 0.3)\",\"range\":[85,86]},{\"color\":\"rgba(71, 255, 0, 0.3)\",\"range\":[86,87]},{\"color\":\"rgba(66, 255, 0, 0.3)\",\"range\":[87,88]},{\"color\":\"rgba(61, 255, 0, 0.3)\",\"range\":[88,89]},{\"color\":\"rgba(56, 255, 0, 0.3)\",\"range\":[89,90]},{\"color\":\"rgba(50, 255, 0, 0.3)\",\"range\":[90,91]},{\"color\":\"rgba(45, 255, 0, 0.3)\",\"range\":[91,92]},{\"color\":\"rgba(40, 255, 0, 0.3)\",\"range\":[92,93]},{\"color\":\"rgba(35, 255, 0, 0.3)\",\"range\":[93,94]},{\"color\":\"rgba(30, 255, 0, 0.3)\",\"range\":[94,95]},{\"color\":\"rgba(25, 255, 0, 0.3)\",\"range\":[95,96]},{\"color\":\"rgba(20, 255, 0, 0.3)\",\"range\":[96,97]},{\"color\":\"rgba(15, 255, 0, 0.3)\",\"range\":[97,98]},{\"color\":\"rgba(10, 255, 0, 0.3)\",\"range\":[98,99]},{\"color\":\"rgba(5, 255, 0, 0.3)\",\"range\":[99,100]}]},\"mode\":\"gauge+number\",\"title\":{\"text\":\"Worst Attribute: Similarities\"},\"value\":10,\"type\":\"indicator\"}],                        {\"template\":{\"data\":{\"bar\":[{\"error_x\":{\"color\":\"#2a3f5f\"},\"error_y\":{\"color\":\"#2a3f5f\"},\"marker\":{\"line\":{\"color\":\"#E5ECF6\",\"width\":0.5},\"pattern\":{\"fillmode\":\"overlay\",\"size\":10,\"solidity\":0.2}},\"type\":\"bar\"}],\"barpolar\":[{\"marker\":{\"line\":{\"color\":\"#E5ECF6\",\"width\":0.5},\"pattern\":{\"fillmode\":\"overlay\",\"size\":10,\"solidity\":0.2}},\"type\":\"barpolar\"}],\"carpet\":[{\"aaxis\":{\"endlinecolor\":\"#2a3f5f\",\"gridcolor\":\"white\",\"linecolor\":\"white\",\"minorgridcolor\":\"white\",\"startlinecolor\":\"#2a3f5f\"},\"baxis\":{\"endlinecolor\":\"#2a3f5f\",\"gridcolor\":\"white\",\"linecolor\":\"white\",\"minorgridcolor\":\"white\",\"startlinecolor\":\"#2a3f5f\"},\"type\":\"carpet\"}],\"choropleth\":[{\"colorbar\":{\"outlinewidth\":0,\"ticks\":\"\"},\"type\":\"choropleth\"}],\"contour\":[{\"colorbar\":{\"outlinewidth\":0,\"ticks\":\"\"},\"colorscale\":[[0.0,\"#0d0887\"],[0.1111111111111111,\"#46039f\"],[0.2222222222222222,\"#7201a8\"],[0.3333333333333333,\"#9c179e\"],[0.4444444444444444,\"#bd3786\"],[0.5555555555555556,\"#d8576b\"],[0.6666666666666666,\"#ed7953\"],[0.7777777777777778,\"#fb9f3a\"],[0.8888888888888888,\"#fdca26\"],[1.0,\"#f0f921\"]],\"type\":\"contour\"}],\"contourcarpet\":[{\"colorbar\":{\"outlinewidth\":0,\"ticks\":\"\"},\"type\":\"contourcarpet\"}],\"heatmap\":[{\"colorbar\":{\"outlinewidth\":0,\"ticks\":\"\"},\"colorscale\":[[0.0,\"#0d0887\"],[0.1111111111111111,\"#46039f\"],[0.2222222222222222,\"#7201a8\"],[0.3333333333333333,\"#9c179e\"],[0.4444444444444444,\"#bd3786\"],[0.5555555555555556,\"#d8576b\"],[0.6666666666666666,\"#ed7953\"],[0.7777777777777778,\"#fb9f3a\"],[0.8888888888888888,\"#fdca26\"],[1.0,\"#f0f921\"]],\"type\":\"heatmap\"}],\"heatmapgl\":[{\"colorbar\":{\"outlinewidth\":0,\"ticks\":\"\"},\"colorscale\":[[0.0,\"#0d0887\"],[0.1111111111111111,\"#46039f\"],[0.2222222222222222,\"#7201a8\"],[0.3333333333333333,\"#9c179e\"],[0.4444444444444444,\"#bd3786\"],[0.5555555555555556,\"#d8576b\"],[0.6666666666666666,\"#ed7953\"],[0.7777777777777778,\"#fb9f3a\"],[0.8888888888888888,\"#fdca26\"],[1.0,\"#f0f921\"]],\"type\":\"heatmapgl\"}],\"histogram\":[{\"marker\":{\"pattern\":{\"fillmode\":\"overlay\",\"size\":10,\"solidity\":0.2}},\"type\":\"histogram\"}],\"histogram2d\":[{\"colorbar\":{\"outlinewidth\":0,\"ticks\":\"\"},\"colorscale\":[[0.0,\"#0d0887\"],[0.1111111111111111,\"#46039f\"],[0.2222222222222222,\"#7201a8\"],[0.3333333333333333,\"#9c179e\"],[0.4444444444444444,\"#bd3786\"],[0.5555555555555556,\"#d8576b\"],[0.6666666666666666,\"#ed7953\"],[0.7777777777777778,\"#fb9f3a\"],[0.8888888888888888,\"#fdca26\"],[1.0,\"#f0f921\"]],\"type\":\"histogram2d\"}],\"histogram2dcontour\":[{\"colorbar\":{\"outlinewidth\":0,\"ticks\":\"\"},\"colorscale\":[[0.0,\"#0d0887\"],[0.1111111111111111,\"#46039f\"],[0.2222222222222222,\"#7201a8\"],[0.3333333333333333,\"#9c179e\"],[0.4444444444444444,\"#bd3786\"],[0.5555555555555556,\"#d8576b\"],[0.6666666666666666,\"#ed7953\"],[0.7777777777777778,\"#fb9f3a\"],[0.8888888888888888,\"#fdca26\"],[1.0,\"#f0f921\"]],\"type\":\"histogram2dcontour\"}],\"mesh3d\":[{\"colorbar\":{\"outlinewidth\":0,\"ticks\":\"\"},\"type\":\"mesh3d\"}],\"parcoords\":[{\"line\":{\"colorbar\":{\"outlinewidth\":0,\"ticks\":\"\"}},\"type\":\"parcoords\"}],\"pie\":[{\"automargin\":true,\"type\":\"pie\"}],\"scatter\":[{\"marker\":{\"colorbar\":{\"outlinewidth\":0,\"ticks\":\"\"}},\"type\":\"scatter\"}],\"scatter3d\":[{\"line\":{\"colorbar\":{\"outlinewidth\":0,\"ticks\":\"\"}},\"marker\":{\"colorbar\":{\"outlinewidth\":0,\"ticks\":\"\"}},\"type\":\"scatter3d\"}],\"scattercarpet\":[{\"marker\":{\"colorbar\":{\"outlinewidth\":0,\"ticks\":\"\"}},\"type\":\"scattercarpet\"}],\"scattergeo\":[{\"marker\":{\"colorbar\":{\"outlinewidth\":0,\"ticks\":\"\"}},\"type\":\"scattergeo\"}],\"scattergl\":[{\"marker\":{\"colorbar\":{\"outlinewidth\":0,\"ticks\":\"\"}},\"type\":\"scattergl\"}],\"scattermapbox\":[{\"marker\":{\"colorbar\":{\"outlinewidth\":0,\"ticks\":\"\"}},\"type\":\"scattermapbox\"}],\"scatterpolar\":[{\"marker\":{\"colorbar\":{\"outlinewidth\":0,\"ticks\":\"\"}},\"type\":\"scatterpolar\"}],\"scatterpolargl\":[{\"marker\":{\"colorbar\":{\"outlinewidth\":0,\"ticks\":\"\"}},\"type\":\"scatterpolargl\"}],\"scatterternary\":[{\"marker\":{\"colorbar\":{\"outlinewidth\":0,\"ticks\":\"\"}},\"type\":\"scatterternary\"}],\"surface\":[{\"colorbar\":{\"outlinewidth\":0,\"ticks\":\"\"},\"colorscale\":[[0.0,\"#0d0887\"],[0.1111111111111111,\"#46039f\"],[0.2222222222222222,\"#7201a8\"],[0.3333333333333333,\"#9c179e\"],[0.4444444444444444,\"#bd3786\"],[0.5555555555555556,\"#d8576b\"],[0.6666666666666666,\"#ed7953\"],[0.7777777777777778,\"#fb9f3a\"],[0.8888888888888888,\"#fdca26\"],[1.0,\"#f0f921\"]],\"type\":\"surface\"}],\"table\":[{\"cells\":{\"fill\":{\"color\":\"#EBF0F8\"},\"line\":{\"color\":\"white\"}},\"header\":{\"fill\":{\"color\":\"#C8D4E3\"},\"line\":{\"color\":\"white\"}},\"type\":\"table\"}]},\"layout\":{\"annotationdefaults\":{\"arrowcolor\":\"#2a3f5f\",\"arrowhead\":0,\"arrowwidth\":1},\"autotypenumbers\":\"strict\",\"coloraxis\":{\"colorbar\":{\"outlinewidth\":0,\"ticks\":\"\"}},\"colorscale\":{\"diverging\":[[0,\"#8e0152\"],[0.1,\"#c51b7d\"],[0.2,\"#de77ae\"],[0.3,\"#f1b6da\"],[0.4,\"#fde0ef\"],[0.5,\"#f7f7f7\"],[0.6,\"#e6f5d0\"],[0.7,\"#b8e186\"],[0.8,\"#7fbc41\"],[0.9,\"#4d9221\"],[1,\"#276419\"]],\"sequential\":[[0.0,\"#0d0887\"],[0.1111111111111111,\"#46039f\"],[0.2222222222222222,\"#7201a8\"],[0.3333333333333333,\"#9c179e\"],[0.4444444444444444,\"#bd3786\"],[0.5555555555555556,\"#d8576b\"],[0.6666666666666666,\"#ed7953\"],[0.7777777777777778,\"#fb9f3a\"],[0.8888888888888888,\"#fdca26\"],[1.0,\"#f0f921\"]],\"sequentialminus\":[[0.0,\"#0d0887\"],[0.1111111111111111,\"#46039f\"],[0.2222222222222222,\"#7201a8\"],[0.3333333333333333,\"#9c179e\"],[0.4444444444444444,\"#bd3786\"],[0.5555555555555556,\"#d8576b\"],[0.6666666666666666,\"#ed7953\"],[0.7777777777777778,\"#fb9f3a\"],[0.8888888888888888,\"#fdca26\"],[1.0,\"#f0f921\"]]},\"colorway\":[\"#636efa\",\"#EF553B\",\"#00cc96\",\"#ab63fa\",\"#FFA15A\",\"#19d3f3\",\"#FF6692\",\"#B6E880\",\"#FF97FF\",\"#FECB52\"],\"font\":{\"color\":\"#2a3f5f\"},\"geo\":{\"bgcolor\":\"white\",\"lakecolor\":\"white\",\"landcolor\":\"#E5ECF6\",\"showlakes\":true,\"showland\":true,\"subunitcolor\":\"white\"},\"hoverlabel\":{\"align\":\"left\"},\"hovermode\":\"closest\",\"mapbox\":{\"style\":\"light\"},\"paper_bgcolor\":\"white\",\"plot_bgcolor\":\"#E5ECF6\",\"polar\":{\"angularaxis\":{\"gridcolor\":\"white\",\"linecolor\":\"white\",\"ticks\":\"\"},\"bgcolor\":\"#E5ECF6\",\"radialaxis\":{\"gridcolor\":\"white\",\"linecolor\":\"white\",\"ticks\":\"\"}},\"scene\":{\"xaxis\":{\"backgroundcolor\":\"#E5ECF6\",\"gridcolor\":\"white\",\"gridwidth\":2,\"linecolor\":\"white\",\"showbackground\":true,\"ticks\":\"\",\"zerolinecolor\":\"white\"},\"yaxis\":{\"backgroundcolor\":\"#E5ECF6\",\"gridcolor\":\"white\",\"gridwidth\":2,\"linecolor\":\"white\",\"showbackground\":true,\"ticks\":\"\",\"zerolinecolor\":\"white\"},\"zaxis\":{\"backgroundcolor\":\"#E5ECF6\",\"gridcolor\":\"white\",\"gridwidth\":2,\"linecolor\":\"white\",\"showbackground\":true,\"ticks\":\"\",\"zerolinecolor\":\"white\"}},\"shapedefaults\":{\"line\":{\"color\":\"#2a3f5f\"}},\"ternary\":{\"aaxis\":{\"gridcolor\":\"white\",\"linecolor\":\"white\",\"ticks\":\"\"},\"baxis\":{\"gridcolor\":\"white\",\"linecolor\":\"white\",\"ticks\":\"\"},\"bgcolor\":\"#E5ECF6\",\"caxis\":{\"gridcolor\":\"white\",\"linecolor\":\"white\",\"ticks\":\"\"}},\"title\":{\"x\":0.05},\"xaxis\":{\"automargin\":true,\"gridcolor\":\"white\",\"linecolor\":\"white\",\"ticks\":\"\",\"title\":{\"standoff\":15},\"zerolinecolor\":\"white\",\"zerolinewidth\":2},\"yaxis\":{\"automargin\":true,\"gridcolor\":\"white\",\"linecolor\":\"white\",\"ticks\":\"\",\"title\":{\"standoff\":15},\"zerolinecolor\":\"white\",\"zerolinewidth\":2}}},\"annotations\":[{\"align\":\"center\",\"font\":{\"size\":12},\"showarrow\":false,\"text\":\"Positive behavioral observations indicating good behavior and focus.\",\"x\":1.03,\"y\":0.6},{\"align\":\"center\",\"font\":{\"size\":12},\"showarrow\":false,\"text\":\"Challenges in verbal reasoning and forming concepts.\",\"x\":0.5,\"y\":0.03},{\"align\":\"center\",\"bgcolor\":\"lightyellow\",\"bordercolor\":\"black\",\"borderpad\":10,\"borderwidth\":1,\"font\":{\"color\":\"black\",\"size\":14},\"opacity\":0.8,\"showarrow\":false,\"text\":\"<b>Dyslexia Diagnosis:</b> Mild Dyslexia\",\"x\":0.001,\"xref\":\"paper\",\"y\":1.01,\"yref\":\"paper\"}],\"margin\":{\"l\":50,\"r\":50,\"b\":50,\"t\":50},\"title\":{\"text\":\"Student Performance Summary\"},\"autosize\":false,\"width\":1000,\"height\":800},                        {\"responsive\": true}                    ).then(function(){\n",
       "                            \n",
       "var gd = document.getElementById('94a489e5-34ea-4257-993d-64f2a10badaa');\n",
       "var x = new MutationObserver(function (mutations, observer) {{\n",
       "        var display = window.getComputedStyle(gd).display;\n",
       "        if (!display || display === 'none') {{\n",
       "            console.log([gd, 'removed!']);\n",
       "            Plotly.purge(gd);\n",
       "            observer.disconnect();\n",
       "        }}\n",
       "}});\n",
       "\n",
       "// Listen for the removal of the full notebook cells\n",
       "var notebookContainer = gd.closest('#notebook-container');\n",
       "if (notebookContainer) {{\n",
       "    x.observe(notebookContainer, {childList: true});\n",
       "}}\n",
       "\n",
       "// Listen for the clearing of the current output cell\n",
       "var outputEl = gd.closest('.output');\n",
       "if (outputEl) {{\n",
       "    x.observe(outputEl, {childList: true});\n",
       "}}\n",
       "\n",
       "                        })                };                });            </script>        </div>"
      ]
     },
     "metadata": {},
     "output_type": "display_data"
    },
    {
     "name": "stdout",
     "output_type": "stream",
     "text": [
      "Prediction: Mild Dyslexia\n",
      "Overall Percentile: 52.63\n",
      "Best Attribute: Behavioral Observations (Percentile: 100) - Positive behavioral observations indicating good behavior and focus.\n",
      "Worst Attribute: Similarities (Percentile: 10) - Challenges in verbal reasoning and forming concepts.\n"
     ]
    }
   ],
   "source": [
    "# Ensure all data is numeric\n",
    "for column in Data.columns:\n",
    "    Data[column] = pd.to_numeric(Data[column], errors='coerce')\n",
    "\n",
    "# Example new data point for prediction\n",
    "new_student = np.array([[10, 20, 30, 40, 50, 60, 70, 80, 90, 10, 20, 30, 40, 50, 60, 70, 80, 90, 100]])\n",
    "\n",
    "# Predict the class for the new student\n",
    "new_prediction = best_pipeline.predict(new_student)\n",
    "\n",
    "# Mapping of prediction to descriptive labels\n",
    "dyslexia_labels = {0: 'No Dyslexia', 1: 'Mild Dyslexia', 2: 'Severe Dyslexia'}\n",
    "prediction_label = dyslexia_labels[new_prediction[0]]\n",
    "\n",
    "# Calculate the overall percentile (mean of all percentiles for the student)\n",
    "overall_percentile = np.mean(new_student)\n",
    "\n",
    "# Identify the best and worst attributes\n",
    "best_attribute_index = np.argmax(new_student)\n",
    "worst_attribute_index = np.argmin(new_student)\n",
    "\n",
    "# Calculate the percentile rank for the best and worst attributes\n",
    "best_attribute_percentile = new_student[0, best_attribute_index]\n",
    "worst_attribute_percentile = new_student[0, worst_attribute_index]\n",
    "\n",
    "# Attribute names\n",
    "attribute_names = [\n",
    "    'Similarities', 'Vocabulary', 'Comprehension', 'Block Design', 'Visual Puzzles',\n",
    "    'Matrix Reasoning', 'Figure Weights', 'Digit Span', 'Picture Span', 'Coding',\n",
    "    'Symbol Search', 'Phonological Processing', 'Word Decoding', 'Reading Fluency',\n",
    "    'Reading Comprehension', 'Expressive Vocabulary', 'Receptive Vocabulary',\n",
    "    'Teacher Reports', 'Behavioral Observations'\n",
    "]\n",
    "\n",
    "# Define attribute descriptions and their implications\n",
    "attribute_descriptions = {\n",
    "    'Similarities': {\n",
    "        'description': 'Measures verbal reasoning and concept formation.',\n",
    "        'positive': 'Strong skills in verbal reasoning and forming concepts.',\n",
    "        'negative': 'Challenges in verbal reasoning and forming concepts.'\n",
    "    },\n",
    "    'Vocabulary': {\n",
    "        'description': 'Assesses word knowledge and verbal concept formation.',\n",
    "        'positive': 'Rich vocabulary and strong word knowledge.',\n",
    "        'negative': 'Limited vocabulary and struggles with word knowledge.'\n",
    "    },\n",
    "    'Comprehension': {\n",
    "        'description': 'Evaluates understanding of social situations and common sense.',\n",
    "        'positive': 'Good understanding of social situations and common sense.',\n",
    "        'negative': 'Difficulty understanding social situations and common sense.'\n",
    "    },\n",
    "    'Block Design': {\n",
    "        'description': 'Tests spatial visualization and problem-solving skills.',\n",
    "        'positive': 'Strong spatial visualization and problem-solving skills.',\n",
    "        'negative': 'Challenges with spatial visualization and problem-solving.'\n",
    "    },\n",
    "    'Visual Puzzles': {\n",
    "        'description': 'Measures nonverbal reasoning and problem-solving ability.',\n",
    "        'positive': 'Excellent nonverbal reasoning and problem-solving abilities.',\n",
    "        'negative': 'Struggles with nonverbal reasoning and problem-solving.'\n",
    "    },\n",
    "    'Matrix Reasoning': {\n",
    "        'description': 'Assesses visual-spatial reasoning and fluid intelligence.',\n",
    "        'positive': 'Strong visual-spatial reasoning and fluid intelligence.',\n",
    "        'negative': 'Difficulty with visual-spatial reasoning and fluid intelligence.'\n",
    "    },\n",
    "    'Figure Weights': {\n",
    "        'description': 'Tests quantitative reasoning and visual-perceptual skills.',\n",
    "        'positive': 'Good quantitative reasoning and visual-perceptual skills.',\n",
    "        'negative': 'Challenges in quantitative reasoning and visual-perceptual skills.'\n",
    "    },\n",
    "    'Digit Span': {\n",
    "        'description': 'Measures attention, concentration, and mental control.',\n",
    "        'positive': 'Strong attention, concentration, and mental control.',\n",
    "        'negative': 'Difficulty with attention, concentration, and mental control.'\n",
    "    },\n",
    "    'Picture Span': {\n",
    "        'description': 'Evaluates visual working memory.',\n",
    "        'positive': 'Strong visual working memory.',\n",
    "        'negative': 'Weak visual working memory.'\n",
    "    },\n",
    "    'Coding': {\n",
    "        'description': 'Tests processing speed and short-term visual memory.',\n",
    "        'positive': 'Fast processing speed and good short-term visual memory.',\n",
    "        'negative': 'Slow processing speed and poor short-term visual memory.'\n",
    "    },\n",
    "    'Symbol Search': {\n",
    "        'description': 'Measures processing speed and visual-motor coordination.',\n",
    "        'positive': 'Strong processing speed and visual-motor coordination.',\n",
    "        'negative': 'Challenges with processing speed and visual-motor coordination.'\n",
    "    },\n",
    "    'Phonological Processing': {\n",
    "        'description': 'Assesses phonemic awareness, a key skill for reading.',\n",
    "        'positive': 'Good phonemic awareness, aiding in reading skills.',\n",
    "        'negative': 'Weak phonemic awareness, hindering reading skills.'\n",
    "    },\n",
    "    'Word Decoding': {\n",
    "        'description': 'Tests ability to decode written words, essential for reading.',\n",
    "        'positive': 'Strong word decoding skills, essential for reading.',\n",
    "        'negative': 'Poor word decoding skills, affecting reading ability.'\n",
    "    },\n",
    "    'Reading Fluency': {\n",
    "        'description': 'Measures speed and accuracy of reading aloud.',\n",
    "        'positive': 'Fluent and accurate reading aloud.',\n",
    "        'negative': 'Slow and inaccurate reading aloud.'\n",
    "    },\n",
    "    'Reading Comprehension': {\n",
    "        'description': 'Assesses understanding of written text.',\n",
    "        'positive': 'Good understanding of written text.',\n",
    "        'negative': 'Difficulty understanding written text.'\n",
    "    },\n",
    "    'Expressive Vocabulary': {\n",
    "        'description': 'Evaluates ability to use words to convey meaning.',\n",
    "        'positive': 'Strong ability to use words effectively.',\n",
    "        'negative': 'Challenges in using words to convey meaning.'\n",
    "    },\n",
    "    'Receptive Vocabulary': {\n",
    "        'description': 'Measures understanding of spoken words.',\n",
    "        'positive': 'Good understanding of spoken words.',\n",
    "        'negative': 'Poor understanding of spoken words.'\n",
    "    },\n",
    "    'Teacher Reports': {\n",
    "        'description': 'Observations from teachers regarding student behavior and performance.',\n",
    "        'positive': 'Positive teacher reports indicating good behavior and performance.',\n",
    "        'negative': 'Negative teacher reports indicating issues with behavior and performance.'\n",
    "    },\n",
    "    'Behavioral Observations': {\n",
    "        'description': 'General behavioral observations during testing.',\n",
    "        'positive': 'Positive behavioral observations indicating good behavior and focus.',\n",
    "        'negative': 'Negative behavioral observations indicating issues with behavior and focus.'\n",
    "    }\n",
    "}\n",
    "\n",
    "# Best and worst attributes\n",
    "best_attribute = attribute_names[best_attribute_index]\n",
    "worst_attribute = attribute_names[worst_attribute_index]\n",
    "\n",
    "best_attribute_description = attribute_descriptions[best_attribute]['positive']\n",
    "worst_attribute_description = attribute_descriptions[worst_attribute]['negative']\n",
    "\n",
    "import plotly.graph_objects as go\n",
    "\n",
    "# Function to determine the color based on the percentile\n",
    "def get_color(value):\n",
    "    if value < 50:\n",
    "        return f\"rgb({255}, {int((value / 50) * 255)}, 0)\"\n",
    "    else:\n",
    "        return f\"rgb({int((1 - (value - 50) / 50) * 255)}, 255, 0)\"\n",
    "\n",
    "# Data for displaying results\n",
    "result_text = f\"Prediction: {prediction_label}<br>Overall Percentile: {overall_percentile:.2f}\"\n",
    "best_text = f\"Best Attribute: {best_attribute} (Percentile: {best_attribute_percentile:.2f})\"\n",
    "best_desc = best_attribute_description\n",
    "worst_text = f\"Worst Attribute: {worst_attribute} (Percentile: {worst_attribute_percentile:.2f})\"\n",
    "worst_desc = worst_attribute_description\n",
    "\n",
    "# Create a radial gauge for percentiles\n",
    "fig = go.Figure()\n",
    "\n",
    "# Create a continuous color gradient from red to green with less opacity\n",
    "gradient_steps = []\n",
    "for i in range(100):\n",
    "    if i < 50:\n",
    "        color = f\"rgba({255}, {int((i / 50) * 255)}, 0, 0.3)\"  # Adjust opacity to 0.3\n",
    "    else:\n",
    "        color = f\"rgba({int((1 - (i - 50) / 50) * 255)}, 255, 0, 0.3)\"  # Adjust opacity to 0.3\n",
    "    gradient_steps.append({'range': [i, i + 1], 'color': color})\n",
    "\n",
    "# Overall Percentile Gauge\n",
    "fig.add_trace(go.Indicator(\n",
    "    mode=\"gauge+number\",\n",
    "    value=overall_percentile,\n",
    "    title={'text': \"Overall Percentile\"},\n",
    "    gauge={\n",
    "        'axis': {'range': [0, 100]},\n",
    "        'bar': {'color': get_color(overall_percentile)},\n",
    "        'steps': gradient_steps\n",
    "    },\n",
    "    domain={'x': [0, 0.4], 'y': [0.5, 1]}\n",
    "))\n",
    "\n",
    "# Best Attribute Gauge\n",
    "fig.add_trace(go.Indicator(\n",
    "    mode=\"gauge+number\",\n",
    "    value=best_attribute_percentile,\n",
    "    title={'text': f\"Best Attribute: {best_attribute}\"},\n",
    "    gauge={\n",
    "        'axis': {'range': [0, 100]},\n",
    "        'bar': {'color': get_color(best_attribute_percentile)},\n",
    "        'steps': gradient_steps\n",
    "    },\n",
    "    domain={'x': [0.6, 1], 'y': [0.5, 1]}\n",
    "))\n",
    "\n",
    "# Worst Attribute Gauge\n",
    "fig.add_trace(go.Indicator(\n",
    "    mode=\"gauge+number\",\n",
    "    value=worst_attribute_percentile,\n",
    "    title={'text': f\"Worst Attribute: {worst_attribute}\"},\n",
    "    gauge={\n",
    "        'axis': {'range': [0, 100]},\n",
    "        'bar': {'color': get_color(worst_attribute_percentile)},\n",
    "        'steps': gradient_steps\n",
    "    },\n",
    "    domain={'x': [0.3, 0.7], 'y': [0, 0.4]}\n",
    "))\n",
    "\n",
    "fig.add_annotation(\n",
    "    x=1.03, y=0.6,\n",
    "    text=best_desc,\n",
    "    showarrow=False,\n",
    "    font=dict(size=12),\n",
    "    align=\"center\"\n",
    ")\n",
    "\n",
    "fig.add_annotation(\n",
    "    x=0.5, y=0.03,\n",
    "    text=worst_desc,\n",
    "    showarrow=False,\n",
    "    font=dict(size=12),\n",
    "    align=\"center\"\n",
    ")\n",
    "\n",
    "# Update layout\n",
    "fig.update_layout(\n",
    "    title='Student Performance Summary',\n",
    "    autosize=False,\n",
    "    width=1000,\n",
    "    height=800,\n",
    "    margin=dict(l=50, r=50, b=50, t=50),\n",
    ")\n",
    "fig.add_annotation(\n",
    "    x=0.001, y=1.01,\n",
    "    text=f\"<b>Dyslexia Diagnosis:</b> {prediction_label}\",\n",
    "    showarrow=False,\n",
    "    font=dict(size=14, color=\"black\"),\n",
    "    align=\"center\",\n",
    "    xref=\"paper\",\n",
    "    yref=\"paper\",\n",
    "    bordercolor=\"black\",\n",
    "    borderwidth=1,\n",
    "    borderpad=10,\n",
    "    bgcolor=\"lightyellow\",\n",
    "    opacity=0.8\n",
    ")\n",
    "# Show the plot\n",
    "fig.show()\n",
    "print(f\"Prediction: {prediction_label}\")\n",
    "print(f\"Overall Percentile: {overall_percentile:.2f}\")\n",
    "print(f\"Best Attribute: {best_attribute} (Percentile: {best_attribute_percentile}) - {best_attribute_description}\")\n",
    "print(f\"Worst Attribute: {worst_attribute} (Percentile: {worst_attribute_percentile}) - {worst_attribute_description}\")"
   ]
  },
  {
   "cell_type": "code",
   "execution_count": 35,
   "id": "91f042a6",
   "metadata": {},
   "outputs": [
    {
     "data": {
      "application/vnd.plotly.v1+json": {
       "config": {
        "plotlyServerURL": "https://plot.ly"
       },
       "data": [
        {
         "domain": {
          "x": [
           0,
           0.4
          ],
          "y": [
           0.5,
           1
          ]
         },
         "gauge": {
          "axis": {
           "range": [
            0,
            100
           ]
          }
         },
         "mode": "gauge+number",
         "title": {
          "text": "Overall Percentile"
         },
         "type": "indicator",
         "value": 52.63157894736842
        },
        {
         "domain": {
          "x": [
           0.6,
           1
          ],
          "y": [
           0.5,
           1
          ]
         },
         "gauge": {
          "axis": {
           "range": [
            0,
            100
           ]
          }
         },
         "mode": "gauge+number",
         "title": {
          "text": "Best Attribute: Behavioral Observations"
         },
         "type": "indicator",
         "value": 100
        },
        {
         "domain": {
          "x": [
           0.3,
           0.7
          ],
          "y": [
           0,
           0.4
          ]
         },
         "gauge": {
          "axis": {
           "range": [
            0,
            100
           ]
          }
         },
         "mode": "gauge+number",
         "title": {
          "text": "Worst Attribute: Similarities"
         },
         "type": "indicator",
         "value": 10
        }
       ],
       "layout": {
        "annotations": [
         {
          "align": "center",
          "font": {
           "size": 12
          },
          "showarrow": false,
          "text": "Positive behavioral observations indicating good behavior and focus.",
          "x": 1.01,
          "y": 0.6
         },
         {
          "align": "center",
          "font": {
           "size": 12
          },
          "showarrow": false,
          "text": "Challenges in verbal reasoning and forming concepts.",
          "x": 0.5,
          "y": 0.03
         }
        ],
        "autosize": false,
        "height": 800,
        "margin": {
         "b": 50,
         "l": 50,
         "r": 50,
         "t": 50
        },
        "template": {
         "data": {
          "bar": [
           {
            "error_x": {
             "color": "#2a3f5f"
            },
            "error_y": {
             "color": "#2a3f5f"
            },
            "marker": {
             "line": {
              "color": "#E5ECF6",
              "width": 0.5
             },
             "pattern": {
              "fillmode": "overlay",
              "size": 10,
              "solidity": 0.2
             }
            },
            "type": "bar"
           }
          ],
          "barpolar": [
           {
            "marker": {
             "line": {
              "color": "#E5ECF6",
              "width": 0.5
             },
             "pattern": {
              "fillmode": "overlay",
              "size": 10,
              "solidity": 0.2
             }
            },
            "type": "barpolar"
           }
          ],
          "carpet": [
           {
            "aaxis": {
             "endlinecolor": "#2a3f5f",
             "gridcolor": "white",
             "linecolor": "white",
             "minorgridcolor": "white",
             "startlinecolor": "#2a3f5f"
            },
            "baxis": {
             "endlinecolor": "#2a3f5f",
             "gridcolor": "white",
             "linecolor": "white",
             "minorgridcolor": "white",
             "startlinecolor": "#2a3f5f"
            },
            "type": "carpet"
           }
          ],
          "choropleth": [
           {
            "colorbar": {
             "outlinewidth": 0,
             "ticks": ""
            },
            "type": "choropleth"
           }
          ],
          "contour": [
           {
            "colorbar": {
             "outlinewidth": 0,
             "ticks": ""
            },
            "colorscale": [
             [
              0,
              "#0d0887"
             ],
             [
              0.1111111111111111,
              "#46039f"
             ],
             [
              0.2222222222222222,
              "#7201a8"
             ],
             [
              0.3333333333333333,
              "#9c179e"
             ],
             [
              0.4444444444444444,
              "#bd3786"
             ],
             [
              0.5555555555555556,
              "#d8576b"
             ],
             [
              0.6666666666666666,
              "#ed7953"
             ],
             [
              0.7777777777777778,
              "#fb9f3a"
             ],
             [
              0.8888888888888888,
              "#fdca26"
             ],
             [
              1,
              "#f0f921"
             ]
            ],
            "type": "contour"
           }
          ],
          "contourcarpet": [
           {
            "colorbar": {
             "outlinewidth": 0,
             "ticks": ""
            },
            "type": "contourcarpet"
           }
          ],
          "heatmap": [
           {
            "colorbar": {
             "outlinewidth": 0,
             "ticks": ""
            },
            "colorscale": [
             [
              0,
              "#0d0887"
             ],
             [
              0.1111111111111111,
              "#46039f"
             ],
             [
              0.2222222222222222,
              "#7201a8"
             ],
             [
              0.3333333333333333,
              "#9c179e"
             ],
             [
              0.4444444444444444,
              "#bd3786"
             ],
             [
              0.5555555555555556,
              "#d8576b"
             ],
             [
              0.6666666666666666,
              "#ed7953"
             ],
             [
              0.7777777777777778,
              "#fb9f3a"
             ],
             [
              0.8888888888888888,
              "#fdca26"
             ],
             [
              1,
              "#f0f921"
             ]
            ],
            "type": "heatmap"
           }
          ],
          "heatmapgl": [
           {
            "colorbar": {
             "outlinewidth": 0,
             "ticks": ""
            },
            "colorscale": [
             [
              0,
              "#0d0887"
             ],
             [
              0.1111111111111111,
              "#46039f"
             ],
             [
              0.2222222222222222,
              "#7201a8"
             ],
             [
              0.3333333333333333,
              "#9c179e"
             ],
             [
              0.4444444444444444,
              "#bd3786"
             ],
             [
              0.5555555555555556,
              "#d8576b"
             ],
             [
              0.6666666666666666,
              "#ed7953"
             ],
             [
              0.7777777777777778,
              "#fb9f3a"
             ],
             [
              0.8888888888888888,
              "#fdca26"
             ],
             [
              1,
              "#f0f921"
             ]
            ],
            "type": "heatmapgl"
           }
          ],
          "histogram": [
           {
            "marker": {
             "pattern": {
              "fillmode": "overlay",
              "size": 10,
              "solidity": 0.2
             }
            },
            "type": "histogram"
           }
          ],
          "histogram2d": [
           {
            "colorbar": {
             "outlinewidth": 0,
             "ticks": ""
            },
            "colorscale": [
             [
              0,
              "#0d0887"
             ],
             [
              0.1111111111111111,
              "#46039f"
             ],
             [
              0.2222222222222222,
              "#7201a8"
             ],
             [
              0.3333333333333333,
              "#9c179e"
             ],
             [
              0.4444444444444444,
              "#bd3786"
             ],
             [
              0.5555555555555556,
              "#d8576b"
             ],
             [
              0.6666666666666666,
              "#ed7953"
             ],
             [
              0.7777777777777778,
              "#fb9f3a"
             ],
             [
              0.8888888888888888,
              "#fdca26"
             ],
             [
              1,
              "#f0f921"
             ]
            ],
            "type": "histogram2d"
           }
          ],
          "histogram2dcontour": [
           {
            "colorbar": {
             "outlinewidth": 0,
             "ticks": ""
            },
            "colorscale": [
             [
              0,
              "#0d0887"
             ],
             [
              0.1111111111111111,
              "#46039f"
             ],
             [
              0.2222222222222222,
              "#7201a8"
             ],
             [
              0.3333333333333333,
              "#9c179e"
             ],
             [
              0.4444444444444444,
              "#bd3786"
             ],
             [
              0.5555555555555556,
              "#d8576b"
             ],
             [
              0.6666666666666666,
              "#ed7953"
             ],
             [
              0.7777777777777778,
              "#fb9f3a"
             ],
             [
              0.8888888888888888,
              "#fdca26"
             ],
             [
              1,
              "#f0f921"
             ]
            ],
            "type": "histogram2dcontour"
           }
          ],
          "mesh3d": [
           {
            "colorbar": {
             "outlinewidth": 0,
             "ticks": ""
            },
            "type": "mesh3d"
           }
          ],
          "parcoords": [
           {
            "line": {
             "colorbar": {
              "outlinewidth": 0,
              "ticks": ""
             }
            },
            "type": "parcoords"
           }
          ],
          "pie": [
           {
            "automargin": true,
            "type": "pie"
           }
          ],
          "scatter": [
           {
            "marker": {
             "colorbar": {
              "outlinewidth": 0,
              "ticks": ""
             }
            },
            "type": "scatter"
           }
          ],
          "scatter3d": [
           {
            "line": {
             "colorbar": {
              "outlinewidth": 0,
              "ticks": ""
             }
            },
            "marker": {
             "colorbar": {
              "outlinewidth": 0,
              "ticks": ""
             }
            },
            "type": "scatter3d"
           }
          ],
          "scattercarpet": [
           {
            "marker": {
             "colorbar": {
              "outlinewidth": 0,
              "ticks": ""
             }
            },
            "type": "scattercarpet"
           }
          ],
          "scattergeo": [
           {
            "marker": {
             "colorbar": {
              "outlinewidth": 0,
              "ticks": ""
             }
            },
            "type": "scattergeo"
           }
          ],
          "scattergl": [
           {
            "marker": {
             "colorbar": {
              "outlinewidth": 0,
              "ticks": ""
             }
            },
            "type": "scattergl"
           }
          ],
          "scattermapbox": [
           {
            "marker": {
             "colorbar": {
              "outlinewidth": 0,
              "ticks": ""
             }
            },
            "type": "scattermapbox"
           }
          ],
          "scatterpolar": [
           {
            "marker": {
             "colorbar": {
              "outlinewidth": 0,
              "ticks": ""
             }
            },
            "type": "scatterpolar"
           }
          ],
          "scatterpolargl": [
           {
            "marker": {
             "colorbar": {
              "outlinewidth": 0,
              "ticks": ""
             }
            },
            "type": "scatterpolargl"
           }
          ],
          "scatterternary": [
           {
            "marker": {
             "colorbar": {
              "outlinewidth": 0,
              "ticks": ""
             }
            },
            "type": "scatterternary"
           }
          ],
          "surface": [
           {
            "colorbar": {
             "outlinewidth": 0,
             "ticks": ""
            },
            "colorscale": [
             [
              0,
              "#0d0887"
             ],
             [
              0.1111111111111111,
              "#46039f"
             ],
             [
              0.2222222222222222,
              "#7201a8"
             ],
             [
              0.3333333333333333,
              "#9c179e"
             ],
             [
              0.4444444444444444,
              "#bd3786"
             ],
             [
              0.5555555555555556,
              "#d8576b"
             ],
             [
              0.6666666666666666,
              "#ed7953"
             ],
             [
              0.7777777777777778,
              "#fb9f3a"
             ],
             [
              0.8888888888888888,
              "#fdca26"
             ],
             [
              1,
              "#f0f921"
             ]
            ],
            "type": "surface"
           }
          ],
          "table": [
           {
            "cells": {
             "fill": {
              "color": "#EBF0F8"
             },
             "line": {
              "color": "white"
             }
            },
            "header": {
             "fill": {
              "color": "#C8D4E3"
             },
             "line": {
              "color": "white"
             }
            },
            "type": "table"
           }
          ]
         },
         "layout": {
          "annotationdefaults": {
           "arrowcolor": "#2a3f5f",
           "arrowhead": 0,
           "arrowwidth": 1
          },
          "autotypenumbers": "strict",
          "coloraxis": {
           "colorbar": {
            "outlinewidth": 0,
            "ticks": ""
           }
          },
          "colorscale": {
           "diverging": [
            [
             0,
             "#8e0152"
            ],
            [
             0.1,
             "#c51b7d"
            ],
            [
             0.2,
             "#de77ae"
            ],
            [
             0.3,
             "#f1b6da"
            ],
            [
             0.4,
             "#fde0ef"
            ],
            [
             0.5,
             "#f7f7f7"
            ],
            [
             0.6,
             "#e6f5d0"
            ],
            [
             0.7,
             "#b8e186"
            ],
            [
             0.8,
             "#7fbc41"
            ],
            [
             0.9,
             "#4d9221"
            ],
            [
             1,
             "#276419"
            ]
           ],
           "sequential": [
            [
             0,
             "#0d0887"
            ],
            [
             0.1111111111111111,
             "#46039f"
            ],
            [
             0.2222222222222222,
             "#7201a8"
            ],
            [
             0.3333333333333333,
             "#9c179e"
            ],
            [
             0.4444444444444444,
             "#bd3786"
            ],
            [
             0.5555555555555556,
             "#d8576b"
            ],
            [
             0.6666666666666666,
             "#ed7953"
            ],
            [
             0.7777777777777778,
             "#fb9f3a"
            ],
            [
             0.8888888888888888,
             "#fdca26"
            ],
            [
             1,
             "#f0f921"
            ]
           ],
           "sequentialminus": [
            [
             0,
             "#0d0887"
            ],
            [
             0.1111111111111111,
             "#46039f"
            ],
            [
             0.2222222222222222,
             "#7201a8"
            ],
            [
             0.3333333333333333,
             "#9c179e"
            ],
            [
             0.4444444444444444,
             "#bd3786"
            ],
            [
             0.5555555555555556,
             "#d8576b"
            ],
            [
             0.6666666666666666,
             "#ed7953"
            ],
            [
             0.7777777777777778,
             "#fb9f3a"
            ],
            [
             0.8888888888888888,
             "#fdca26"
            ],
            [
             1,
             "#f0f921"
            ]
           ]
          },
          "colorway": [
           "#636efa",
           "#EF553B",
           "#00cc96",
           "#ab63fa",
           "#FFA15A",
           "#19d3f3",
           "#FF6692",
           "#B6E880",
           "#FF97FF",
           "#FECB52"
          ],
          "font": {
           "color": "#2a3f5f"
          },
          "geo": {
           "bgcolor": "white",
           "lakecolor": "white",
           "landcolor": "#E5ECF6",
           "showlakes": true,
           "showland": true,
           "subunitcolor": "white"
          },
          "hoverlabel": {
           "align": "left"
          },
          "hovermode": "closest",
          "mapbox": {
           "style": "light"
          },
          "paper_bgcolor": "white",
          "plot_bgcolor": "#E5ECF6",
          "polar": {
           "angularaxis": {
            "gridcolor": "white",
            "linecolor": "white",
            "ticks": ""
           },
           "bgcolor": "#E5ECF6",
           "radialaxis": {
            "gridcolor": "white",
            "linecolor": "white",
            "ticks": ""
           }
          },
          "scene": {
           "xaxis": {
            "backgroundcolor": "#E5ECF6",
            "gridcolor": "white",
            "gridwidth": 2,
            "linecolor": "white",
            "showbackground": true,
            "ticks": "",
            "zerolinecolor": "white"
           },
           "yaxis": {
            "backgroundcolor": "#E5ECF6",
            "gridcolor": "white",
            "gridwidth": 2,
            "linecolor": "white",
            "showbackground": true,
            "ticks": "",
            "zerolinecolor": "white"
           },
           "zaxis": {
            "backgroundcolor": "#E5ECF6",
            "gridcolor": "white",
            "gridwidth": 2,
            "linecolor": "white",
            "showbackground": true,
            "ticks": "",
            "zerolinecolor": "white"
           }
          },
          "shapedefaults": {
           "line": {
            "color": "#2a3f5f"
           }
          },
          "ternary": {
           "aaxis": {
            "gridcolor": "white",
            "linecolor": "white",
            "ticks": ""
           },
           "baxis": {
            "gridcolor": "white",
            "linecolor": "white",
            "ticks": ""
           },
           "bgcolor": "#E5ECF6",
           "caxis": {
            "gridcolor": "white",
            "linecolor": "white",
            "ticks": ""
           }
          },
          "title": {
           "x": 0.05
          },
          "xaxis": {
           "automargin": true,
           "gridcolor": "white",
           "linecolor": "white",
           "ticks": "",
           "title": {
            "standoff": 15
           },
           "zerolinecolor": "white",
           "zerolinewidth": 2
          },
          "yaxis": {
           "automargin": true,
           "gridcolor": "white",
           "linecolor": "white",
           "ticks": "",
           "title": {
            "standoff": 15
           },
           "zerolinecolor": "white",
           "zerolinewidth": 2
          }
         }
        },
        "title": {
         "text": "Student Performance Summary"
        },
        "width": 1000
       }
      },
      "text/html": [
       "<div>                            <div id=\"c1c1cbab-90c6-4106-86a7-a747d20a862f\" class=\"plotly-graph-div\" style=\"height:800px; width:1000px;\"></div>            <script type=\"text/javascript\">                require([\"plotly\"], function(Plotly) {                    window.PLOTLYENV=window.PLOTLYENV || {};                                    if (document.getElementById(\"c1c1cbab-90c6-4106-86a7-a747d20a862f\")) {                    Plotly.newPlot(                        \"c1c1cbab-90c6-4106-86a7-a747d20a862f\",                        [{\"domain\":{\"x\":[0,0.4],\"y\":[0.5,1]},\"gauge\":{\"axis\":{\"range\":[0,100]}},\"mode\":\"gauge+number\",\"title\":{\"text\":\"Overall Percentile\"},\"value\":52.63157894736842,\"type\":\"indicator\"},{\"domain\":{\"x\":[0.6,1],\"y\":[0.5,1]},\"gauge\":{\"axis\":{\"range\":[0,100]}},\"mode\":\"gauge+number\",\"title\":{\"text\":\"Best Attribute: Behavioral Observations\"},\"value\":100,\"type\":\"indicator\"},{\"domain\":{\"x\":[0.3,0.7],\"y\":[0,0.4]},\"gauge\":{\"axis\":{\"range\":[0,100]}},\"mode\":\"gauge+number\",\"title\":{\"text\":\"Worst Attribute: Similarities\"},\"value\":10,\"type\":\"indicator\"}],                        {\"template\":{\"data\":{\"bar\":[{\"error_x\":{\"color\":\"#2a3f5f\"},\"error_y\":{\"color\":\"#2a3f5f\"},\"marker\":{\"line\":{\"color\":\"#E5ECF6\",\"width\":0.5},\"pattern\":{\"fillmode\":\"overlay\",\"size\":10,\"solidity\":0.2}},\"type\":\"bar\"}],\"barpolar\":[{\"marker\":{\"line\":{\"color\":\"#E5ECF6\",\"width\":0.5},\"pattern\":{\"fillmode\":\"overlay\",\"size\":10,\"solidity\":0.2}},\"type\":\"barpolar\"}],\"carpet\":[{\"aaxis\":{\"endlinecolor\":\"#2a3f5f\",\"gridcolor\":\"white\",\"linecolor\":\"white\",\"minorgridcolor\":\"white\",\"startlinecolor\":\"#2a3f5f\"},\"baxis\":{\"endlinecolor\":\"#2a3f5f\",\"gridcolor\":\"white\",\"linecolor\":\"white\",\"minorgridcolor\":\"white\",\"startlinecolor\":\"#2a3f5f\"},\"type\":\"carpet\"}],\"choropleth\":[{\"colorbar\":{\"outlinewidth\":0,\"ticks\":\"\"},\"type\":\"choropleth\"}],\"contour\":[{\"colorbar\":{\"outlinewidth\":0,\"ticks\":\"\"},\"colorscale\":[[0.0,\"#0d0887\"],[0.1111111111111111,\"#46039f\"],[0.2222222222222222,\"#7201a8\"],[0.3333333333333333,\"#9c179e\"],[0.4444444444444444,\"#bd3786\"],[0.5555555555555556,\"#d8576b\"],[0.6666666666666666,\"#ed7953\"],[0.7777777777777778,\"#fb9f3a\"],[0.8888888888888888,\"#fdca26\"],[1.0,\"#f0f921\"]],\"type\":\"contour\"}],\"contourcarpet\":[{\"colorbar\":{\"outlinewidth\":0,\"ticks\":\"\"},\"type\":\"contourcarpet\"}],\"heatmap\":[{\"colorbar\":{\"outlinewidth\":0,\"ticks\":\"\"},\"colorscale\":[[0.0,\"#0d0887\"],[0.1111111111111111,\"#46039f\"],[0.2222222222222222,\"#7201a8\"],[0.3333333333333333,\"#9c179e\"],[0.4444444444444444,\"#bd3786\"],[0.5555555555555556,\"#d8576b\"],[0.6666666666666666,\"#ed7953\"],[0.7777777777777778,\"#fb9f3a\"],[0.8888888888888888,\"#fdca26\"],[1.0,\"#f0f921\"]],\"type\":\"heatmap\"}],\"heatmapgl\":[{\"colorbar\":{\"outlinewidth\":0,\"ticks\":\"\"},\"colorscale\":[[0.0,\"#0d0887\"],[0.1111111111111111,\"#46039f\"],[0.2222222222222222,\"#7201a8\"],[0.3333333333333333,\"#9c179e\"],[0.4444444444444444,\"#bd3786\"],[0.5555555555555556,\"#d8576b\"],[0.6666666666666666,\"#ed7953\"],[0.7777777777777778,\"#fb9f3a\"],[0.8888888888888888,\"#fdca26\"],[1.0,\"#f0f921\"]],\"type\":\"heatmapgl\"}],\"histogram\":[{\"marker\":{\"pattern\":{\"fillmode\":\"overlay\",\"size\":10,\"solidity\":0.2}},\"type\":\"histogram\"}],\"histogram2d\":[{\"colorbar\":{\"outlinewidth\":0,\"ticks\":\"\"},\"colorscale\":[[0.0,\"#0d0887\"],[0.1111111111111111,\"#46039f\"],[0.2222222222222222,\"#7201a8\"],[0.3333333333333333,\"#9c179e\"],[0.4444444444444444,\"#bd3786\"],[0.5555555555555556,\"#d8576b\"],[0.6666666666666666,\"#ed7953\"],[0.7777777777777778,\"#fb9f3a\"],[0.8888888888888888,\"#fdca26\"],[1.0,\"#f0f921\"]],\"type\":\"histogram2d\"}],\"histogram2dcontour\":[{\"colorbar\":{\"outlinewidth\":0,\"ticks\":\"\"},\"colorscale\":[[0.0,\"#0d0887\"],[0.1111111111111111,\"#46039f\"],[0.2222222222222222,\"#7201a8\"],[0.3333333333333333,\"#9c179e\"],[0.4444444444444444,\"#bd3786\"],[0.5555555555555556,\"#d8576b\"],[0.6666666666666666,\"#ed7953\"],[0.7777777777777778,\"#fb9f3a\"],[0.8888888888888888,\"#fdca26\"],[1.0,\"#f0f921\"]],\"type\":\"histogram2dcontour\"}],\"mesh3d\":[{\"colorbar\":{\"outlinewidth\":0,\"ticks\":\"\"},\"type\":\"mesh3d\"}],\"parcoords\":[{\"line\":{\"colorbar\":{\"outlinewidth\":0,\"ticks\":\"\"}},\"type\":\"parcoords\"}],\"pie\":[{\"automargin\":true,\"type\":\"pie\"}],\"scatter\":[{\"marker\":{\"colorbar\":{\"outlinewidth\":0,\"ticks\":\"\"}},\"type\":\"scatter\"}],\"scatter3d\":[{\"line\":{\"colorbar\":{\"outlinewidth\":0,\"ticks\":\"\"}},\"marker\":{\"colorbar\":{\"outlinewidth\":0,\"ticks\":\"\"}},\"type\":\"scatter3d\"}],\"scattercarpet\":[{\"marker\":{\"colorbar\":{\"outlinewidth\":0,\"ticks\":\"\"}},\"type\":\"scattercarpet\"}],\"scattergeo\":[{\"marker\":{\"colorbar\":{\"outlinewidth\":0,\"ticks\":\"\"}},\"type\":\"scattergeo\"}],\"scattergl\":[{\"marker\":{\"colorbar\":{\"outlinewidth\":0,\"ticks\":\"\"}},\"type\":\"scattergl\"}],\"scattermapbox\":[{\"marker\":{\"colorbar\":{\"outlinewidth\":0,\"ticks\":\"\"}},\"type\":\"scattermapbox\"}],\"scatterpolar\":[{\"marker\":{\"colorbar\":{\"outlinewidth\":0,\"ticks\":\"\"}},\"type\":\"scatterpolar\"}],\"scatterpolargl\":[{\"marker\":{\"colorbar\":{\"outlinewidth\":0,\"ticks\":\"\"}},\"type\":\"scatterpolargl\"}],\"scatterternary\":[{\"marker\":{\"colorbar\":{\"outlinewidth\":0,\"ticks\":\"\"}},\"type\":\"scatterternary\"}],\"surface\":[{\"colorbar\":{\"outlinewidth\":0,\"ticks\":\"\"},\"colorscale\":[[0.0,\"#0d0887\"],[0.1111111111111111,\"#46039f\"],[0.2222222222222222,\"#7201a8\"],[0.3333333333333333,\"#9c179e\"],[0.4444444444444444,\"#bd3786\"],[0.5555555555555556,\"#d8576b\"],[0.6666666666666666,\"#ed7953\"],[0.7777777777777778,\"#fb9f3a\"],[0.8888888888888888,\"#fdca26\"],[1.0,\"#f0f921\"]],\"type\":\"surface\"}],\"table\":[{\"cells\":{\"fill\":{\"color\":\"#EBF0F8\"},\"line\":{\"color\":\"white\"}},\"header\":{\"fill\":{\"color\":\"#C8D4E3\"},\"line\":{\"color\":\"white\"}},\"type\":\"table\"}]},\"layout\":{\"annotationdefaults\":{\"arrowcolor\":\"#2a3f5f\",\"arrowhead\":0,\"arrowwidth\":1},\"autotypenumbers\":\"strict\",\"coloraxis\":{\"colorbar\":{\"outlinewidth\":0,\"ticks\":\"\"}},\"colorscale\":{\"diverging\":[[0,\"#8e0152\"],[0.1,\"#c51b7d\"],[0.2,\"#de77ae\"],[0.3,\"#f1b6da\"],[0.4,\"#fde0ef\"],[0.5,\"#f7f7f7\"],[0.6,\"#e6f5d0\"],[0.7,\"#b8e186\"],[0.8,\"#7fbc41\"],[0.9,\"#4d9221\"],[1,\"#276419\"]],\"sequential\":[[0.0,\"#0d0887\"],[0.1111111111111111,\"#46039f\"],[0.2222222222222222,\"#7201a8\"],[0.3333333333333333,\"#9c179e\"],[0.4444444444444444,\"#bd3786\"],[0.5555555555555556,\"#d8576b\"],[0.6666666666666666,\"#ed7953\"],[0.7777777777777778,\"#fb9f3a\"],[0.8888888888888888,\"#fdca26\"],[1.0,\"#f0f921\"]],\"sequentialminus\":[[0.0,\"#0d0887\"],[0.1111111111111111,\"#46039f\"],[0.2222222222222222,\"#7201a8\"],[0.3333333333333333,\"#9c179e\"],[0.4444444444444444,\"#bd3786\"],[0.5555555555555556,\"#d8576b\"],[0.6666666666666666,\"#ed7953\"],[0.7777777777777778,\"#fb9f3a\"],[0.8888888888888888,\"#fdca26\"],[1.0,\"#f0f921\"]]},\"colorway\":[\"#636efa\",\"#EF553B\",\"#00cc96\",\"#ab63fa\",\"#FFA15A\",\"#19d3f3\",\"#FF6692\",\"#B6E880\",\"#FF97FF\",\"#FECB52\"],\"font\":{\"color\":\"#2a3f5f\"},\"geo\":{\"bgcolor\":\"white\",\"lakecolor\":\"white\",\"landcolor\":\"#E5ECF6\",\"showlakes\":true,\"showland\":true,\"subunitcolor\":\"white\"},\"hoverlabel\":{\"align\":\"left\"},\"hovermode\":\"closest\",\"mapbox\":{\"style\":\"light\"},\"paper_bgcolor\":\"white\",\"plot_bgcolor\":\"#E5ECF6\",\"polar\":{\"angularaxis\":{\"gridcolor\":\"white\",\"linecolor\":\"white\",\"ticks\":\"\"},\"bgcolor\":\"#E5ECF6\",\"radialaxis\":{\"gridcolor\":\"white\",\"linecolor\":\"white\",\"ticks\":\"\"}},\"scene\":{\"xaxis\":{\"backgroundcolor\":\"#E5ECF6\",\"gridcolor\":\"white\",\"gridwidth\":2,\"linecolor\":\"white\",\"showbackground\":true,\"ticks\":\"\",\"zerolinecolor\":\"white\"},\"yaxis\":{\"backgroundcolor\":\"#E5ECF6\",\"gridcolor\":\"white\",\"gridwidth\":2,\"linecolor\":\"white\",\"showbackground\":true,\"ticks\":\"\",\"zerolinecolor\":\"white\"},\"zaxis\":{\"backgroundcolor\":\"#E5ECF6\",\"gridcolor\":\"white\",\"gridwidth\":2,\"linecolor\":\"white\",\"showbackground\":true,\"ticks\":\"\",\"zerolinecolor\":\"white\"}},\"shapedefaults\":{\"line\":{\"color\":\"#2a3f5f\"}},\"ternary\":{\"aaxis\":{\"gridcolor\":\"white\",\"linecolor\":\"white\",\"ticks\":\"\"},\"baxis\":{\"gridcolor\":\"white\",\"linecolor\":\"white\",\"ticks\":\"\"},\"bgcolor\":\"#E5ECF6\",\"caxis\":{\"gridcolor\":\"white\",\"linecolor\":\"white\",\"ticks\":\"\"}},\"title\":{\"x\":0.05},\"xaxis\":{\"automargin\":true,\"gridcolor\":\"white\",\"linecolor\":\"white\",\"ticks\":\"\",\"title\":{\"standoff\":15},\"zerolinecolor\":\"white\",\"zerolinewidth\":2},\"yaxis\":{\"automargin\":true,\"gridcolor\":\"white\",\"linecolor\":\"white\",\"ticks\":\"\",\"title\":{\"standoff\":15},\"zerolinecolor\":\"white\",\"zerolinewidth\":2}}},\"annotations\":[{\"align\":\"center\",\"font\":{\"size\":12},\"showarrow\":false,\"text\":\"Positive behavioral observations indicating good behavior and focus.\",\"x\":1.01,\"y\":0.6},{\"align\":\"center\",\"font\":{\"size\":12},\"showarrow\":false,\"text\":\"Challenges in verbal reasoning and forming concepts.\",\"x\":0.5,\"y\":0.03}],\"margin\":{\"l\":50,\"r\":50,\"b\":50,\"t\":50},\"title\":{\"text\":\"Student Performance Summary\"},\"autosize\":false,\"width\":1000,\"height\":800},                        {\"responsive\": true}                    ).then(function(){\n",
       "                            \n",
       "var gd = document.getElementById('c1c1cbab-90c6-4106-86a7-a747d20a862f');\n",
       "var x = new MutationObserver(function (mutations, observer) {{\n",
       "        var display = window.getComputedStyle(gd).display;\n",
       "        if (!display || display === 'none') {{\n",
       "            console.log([gd, 'removed!']);\n",
       "            Plotly.purge(gd);\n",
       "            observer.disconnect();\n",
       "        }}\n",
       "}});\n",
       "\n",
       "// Listen for the removal of the full notebook cells\n",
       "var notebookContainer = gd.closest('#notebook-container');\n",
       "if (notebookContainer) {{\n",
       "    x.observe(notebookContainer, {childList: true});\n",
       "}}\n",
       "\n",
       "// Listen for the clearing of the current output cell\n",
       "var outputEl = gd.closest('.output');\n",
       "if (outputEl) {{\n",
       "    x.observe(outputEl, {childList: true});\n",
       "}}\n",
       "\n",
       "                        })                };                });            </script>        </div>"
      ]
     },
     "metadata": {},
     "output_type": "display_data"
    }
   ],
   "source": [
    "import plotly.graph_objects as go\n",
    "\n",
    "# Data for displaying results\n",
    "result_text = f\"Prediction: {prediction_label}<br>Overall Percentile: {overall_percentile:.2f}\"\n",
    "best_text = f\"Best Attribute: {best_attribute} (Percentile: {best_attribute_percentile:.2f})\"\n",
    "best_desc = best_attribute_description\n",
    "worst_text = f\"Worst Attribute: {worst_attribute} (Percentile: {worst_attribute_percentile:.2f})\"\n",
    "worst_desc = worst_attribute_description\n",
    "\n",
    "# Create a radial gauge for percentiles\n",
    "fig = go.Figure()\n",
    "\n",
    "# Overall Percentile Gauge\n",
    "fig.add_trace(go.Indicator(\n",
    "    mode=\"gauge+number\",\n",
    "    value=overall_percentile,\n",
    "    title={'text': \"Overall Percentile\"},\n",
    "    gauge={'axis': {'range': [0, 100]}},\n",
    "    domain={'x': [0, 0.4], 'y': [0.5, 1]}\n",
    "))\n",
    "\n",
    "# Best Attribute Gauge\n",
    "fig.add_trace(go.Indicator(\n",
    "    mode=\"gauge+number\",\n",
    "    value=best_attribute_percentile,\n",
    "    title={'text': f\"Best Attribute: {best_attribute}\"},\n",
    "    gauge={'axis': {'range': [0, 100]}},\n",
    "    domain={'x': [0.6, 1], 'y': [0.5, 1]}\n",
    "))\n",
    "\n",
    "# Worst Attribute Gauge\n",
    "fig.add_trace(go.Indicator(\n",
    "    mode=\"gauge+number\",\n",
    "    value=worst_attribute_percentile,\n",
    "    title={'text': f\"Worst Attribute: {worst_attribute}\"},\n",
    "    gauge={'axis': {'range': [0, 100]}},\n",
    "    domain={'x': [0.3, 0.7], 'y': [0, 0.4]}\n",
    "))\n",
    "\n",
    "fig.add_annotation(\n",
    "    x=1.01, y=0.6,\n",
    "    text=best_desc,\n",
    "    showarrow=False,\n",
    "    font=dict(size=12),\n",
    "    align=\"center\"\n",
    ")\n",
    "\n",
    "fig.add_annotation(\n",
    "    x=0.5, y=0.03,\n",
    "    text=worst_desc,\n",
    "    showarrow=False,\n",
    "    font=dict(size=12),\n",
    "    align=\"center\"\n",
    ")\n",
    "\n",
    "# Update layout\n",
    "fig.update_layout(\n",
    "    title='Student Performance Summary',\n",
    "    autosize=False,\n",
    "    width=1000,\n",
    "    height=800,\n",
    "    margin=dict(l=50, r=50, b=50, t=50),\n",
    ")\n",
    "\n",
    "# Show the plot\n",
    "fig.show()"
   ]
  },
  {
   "cell_type": "code",
   "execution_count": 42,
   "id": "f977580a",
   "metadata": {},
   "outputs": [
    {
     "data": {
      "application/vnd.plotly.v1+json": {
       "config": {
        "plotlyServerURL": "https://plot.ly"
       },
       "data": [
        {
         "domain": {
          "x": [
           0,
           0.4
          ],
          "y": [
           0.5,
           1
          ]
         },
         "gauge": {
          "axis": {
           "range": [
            0,
            100
           ]
          },
          "bar": {
           "color": "rgb(241, 255, 0)"
          },
          "steps": [
           {
            "color": "rgba(255, 0, 0, 0.1)",
            "range": [
             0,
             50
            ]
           },
           {
            "color": "rgba(0, 255, 0, 0.1)",
            "range": [
             50,
             100
            ]
           }
          ]
         },
         "mode": "gauge+number",
         "title": {
          "text": "Overall Percentile"
         },
         "type": "indicator",
         "value": 52.63157894736842
        },
        {
         "domain": {
          "x": [
           0.6,
           1
          ],
          "y": [
           0.5,
           1
          ]
         },
         "gauge": {
          "axis": {
           "range": [
            0,
            100
           ]
          },
          "bar": {
           "color": "rgb(0, 255, 0)"
          },
          "steps": [
           {
            "color": "rgba(255, 0, 0, 0.1)",
            "range": [
             0,
             50
            ]
           },
           {
            "color": "rgba(0, 255, 0, 0.1)",
            "range": [
             50,
             100
            ]
           }
          ]
         },
         "mode": "gauge+number",
         "title": {
          "text": "Best Attribute: Behavioral Observations"
         },
         "type": "indicator",
         "value": 100
        },
        {
         "domain": {
          "x": [
           0.3,
           0.7
          ],
          "y": [
           0,
           0.4
          ]
         },
         "gauge": {
          "axis": {
           "range": [
            0,
            100
           ]
          },
          "bar": {
           "color": "rgb(255, 51, 0)"
          },
          "steps": [
           {
            "color": "rgba(255, 0, 0, 0.1)",
            "range": [
             0,
             50
            ]
           },
           {
            "color": "rgba(0, 255, 0, 0.1)",
            "range": [
             50,
             100
            ]
           }
          ]
         },
         "mode": "gauge+number",
         "title": {
          "text": "Worst Attribute: Similarities"
         },
         "type": "indicator",
         "value": 10
        }
       ],
       "layout": {
        "annotations": [
         {
          "align": "center",
          "font": {
           "size": 12
          },
          "showarrow": false,
          "text": "Positive behavioral observations indicating good behavior and focus.",
          "x": 1.01,
          "y": 0.6
         },
         {
          "align": "center",
          "font": {
           "size": 12
          },
          "showarrow": false,
          "text": "Challenges in verbal reasoning and forming concepts.",
          "x": 0.5,
          "y": 0.03
         }
        ],
        "autosize": false,
        "height": 800,
        "margin": {
         "b": 50,
         "l": 50,
         "r": 50,
         "t": 50
        },
        "template": {
         "data": {
          "bar": [
           {
            "error_x": {
             "color": "#2a3f5f"
            },
            "error_y": {
             "color": "#2a3f5f"
            },
            "marker": {
             "line": {
              "color": "#E5ECF6",
              "width": 0.5
             },
             "pattern": {
              "fillmode": "overlay",
              "size": 10,
              "solidity": 0.2
             }
            },
            "type": "bar"
           }
          ],
          "barpolar": [
           {
            "marker": {
             "line": {
              "color": "#E5ECF6",
              "width": 0.5
             },
             "pattern": {
              "fillmode": "overlay",
              "size": 10,
              "solidity": 0.2
             }
            },
            "type": "barpolar"
           }
          ],
          "carpet": [
           {
            "aaxis": {
             "endlinecolor": "#2a3f5f",
             "gridcolor": "white",
             "linecolor": "white",
             "minorgridcolor": "white",
             "startlinecolor": "#2a3f5f"
            },
            "baxis": {
             "endlinecolor": "#2a3f5f",
             "gridcolor": "white",
             "linecolor": "white",
             "minorgridcolor": "white",
             "startlinecolor": "#2a3f5f"
            },
            "type": "carpet"
           }
          ],
          "choropleth": [
           {
            "colorbar": {
             "outlinewidth": 0,
             "ticks": ""
            },
            "type": "choropleth"
           }
          ],
          "contour": [
           {
            "colorbar": {
             "outlinewidth": 0,
             "ticks": ""
            },
            "colorscale": [
             [
              0,
              "#0d0887"
             ],
             [
              0.1111111111111111,
              "#46039f"
             ],
             [
              0.2222222222222222,
              "#7201a8"
             ],
             [
              0.3333333333333333,
              "#9c179e"
             ],
             [
              0.4444444444444444,
              "#bd3786"
             ],
             [
              0.5555555555555556,
              "#d8576b"
             ],
             [
              0.6666666666666666,
              "#ed7953"
             ],
             [
              0.7777777777777778,
              "#fb9f3a"
             ],
             [
              0.8888888888888888,
              "#fdca26"
             ],
             [
              1,
              "#f0f921"
             ]
            ],
            "type": "contour"
           }
          ],
          "contourcarpet": [
           {
            "colorbar": {
             "outlinewidth": 0,
             "ticks": ""
            },
            "type": "contourcarpet"
           }
          ],
          "heatmap": [
           {
            "colorbar": {
             "outlinewidth": 0,
             "ticks": ""
            },
            "colorscale": [
             [
              0,
              "#0d0887"
             ],
             [
              0.1111111111111111,
              "#46039f"
             ],
             [
              0.2222222222222222,
              "#7201a8"
             ],
             [
              0.3333333333333333,
              "#9c179e"
             ],
             [
              0.4444444444444444,
              "#bd3786"
             ],
             [
              0.5555555555555556,
              "#d8576b"
             ],
             [
              0.6666666666666666,
              "#ed7953"
             ],
             [
              0.7777777777777778,
              "#fb9f3a"
             ],
             [
              0.8888888888888888,
              "#fdca26"
             ],
             [
              1,
              "#f0f921"
             ]
            ],
            "type": "heatmap"
           }
          ],
          "heatmapgl": [
           {
            "colorbar": {
             "outlinewidth": 0,
             "ticks": ""
            },
            "colorscale": [
             [
              0,
              "#0d0887"
             ],
             [
              0.1111111111111111,
              "#46039f"
             ],
             [
              0.2222222222222222,
              "#7201a8"
             ],
             [
              0.3333333333333333,
              "#9c179e"
             ],
             [
              0.4444444444444444,
              "#bd3786"
             ],
             [
              0.5555555555555556,
              "#d8576b"
             ],
             [
              0.6666666666666666,
              "#ed7953"
             ],
             [
              0.7777777777777778,
              "#fb9f3a"
             ],
             [
              0.8888888888888888,
              "#fdca26"
             ],
             [
              1,
              "#f0f921"
             ]
            ],
            "type": "heatmapgl"
           }
          ],
          "histogram": [
           {
            "marker": {
             "pattern": {
              "fillmode": "overlay",
              "size": 10,
              "solidity": 0.2
             }
            },
            "type": "histogram"
           }
          ],
          "histogram2d": [
           {
            "colorbar": {
             "outlinewidth": 0,
             "ticks": ""
            },
            "colorscale": [
             [
              0,
              "#0d0887"
             ],
             [
              0.1111111111111111,
              "#46039f"
             ],
             [
              0.2222222222222222,
              "#7201a8"
             ],
             [
              0.3333333333333333,
              "#9c179e"
             ],
             [
              0.4444444444444444,
              "#bd3786"
             ],
             [
              0.5555555555555556,
              "#d8576b"
             ],
             [
              0.6666666666666666,
              "#ed7953"
             ],
             [
              0.7777777777777778,
              "#fb9f3a"
             ],
             [
              0.8888888888888888,
              "#fdca26"
             ],
             [
              1,
              "#f0f921"
             ]
            ],
            "type": "histogram2d"
           }
          ],
          "histogram2dcontour": [
           {
            "colorbar": {
             "outlinewidth": 0,
             "ticks": ""
            },
            "colorscale": [
             [
              0,
              "#0d0887"
             ],
             [
              0.1111111111111111,
              "#46039f"
             ],
             [
              0.2222222222222222,
              "#7201a8"
             ],
             [
              0.3333333333333333,
              "#9c179e"
             ],
             [
              0.4444444444444444,
              "#bd3786"
             ],
             [
              0.5555555555555556,
              "#d8576b"
             ],
             [
              0.6666666666666666,
              "#ed7953"
             ],
             [
              0.7777777777777778,
              "#fb9f3a"
             ],
             [
              0.8888888888888888,
              "#fdca26"
             ],
             [
              1,
              "#f0f921"
             ]
            ],
            "type": "histogram2dcontour"
           }
          ],
          "mesh3d": [
           {
            "colorbar": {
             "outlinewidth": 0,
             "ticks": ""
            },
            "type": "mesh3d"
           }
          ],
          "parcoords": [
           {
            "line": {
             "colorbar": {
              "outlinewidth": 0,
              "ticks": ""
             }
            },
            "type": "parcoords"
           }
          ],
          "pie": [
           {
            "automargin": true,
            "type": "pie"
           }
          ],
          "scatter": [
           {
            "marker": {
             "colorbar": {
              "outlinewidth": 0,
              "ticks": ""
             }
            },
            "type": "scatter"
           }
          ],
          "scatter3d": [
           {
            "line": {
             "colorbar": {
              "outlinewidth": 0,
              "ticks": ""
             }
            },
            "marker": {
             "colorbar": {
              "outlinewidth": 0,
              "ticks": ""
             }
            },
            "type": "scatter3d"
           }
          ],
          "scattercarpet": [
           {
            "marker": {
             "colorbar": {
              "outlinewidth": 0,
              "ticks": ""
             }
            },
            "type": "scattercarpet"
           }
          ],
          "scattergeo": [
           {
            "marker": {
             "colorbar": {
              "outlinewidth": 0,
              "ticks": ""
             }
            },
            "type": "scattergeo"
           }
          ],
          "scattergl": [
           {
            "marker": {
             "colorbar": {
              "outlinewidth": 0,
              "ticks": ""
             }
            },
            "type": "scattergl"
           }
          ],
          "scattermapbox": [
           {
            "marker": {
             "colorbar": {
              "outlinewidth": 0,
              "ticks": ""
             }
            },
            "type": "scattermapbox"
           }
          ],
          "scatterpolar": [
           {
            "marker": {
             "colorbar": {
              "outlinewidth": 0,
              "ticks": ""
             }
            },
            "type": "scatterpolar"
           }
          ],
          "scatterpolargl": [
           {
            "marker": {
             "colorbar": {
              "outlinewidth": 0,
              "ticks": ""
             }
            },
            "type": "scatterpolargl"
           }
          ],
          "scatterternary": [
           {
            "marker": {
             "colorbar": {
              "outlinewidth": 0,
              "ticks": ""
             }
            },
            "type": "scatterternary"
           }
          ],
          "surface": [
           {
            "colorbar": {
             "outlinewidth": 0,
             "ticks": ""
            },
            "colorscale": [
             [
              0,
              "#0d0887"
             ],
             [
              0.1111111111111111,
              "#46039f"
             ],
             [
              0.2222222222222222,
              "#7201a8"
             ],
             [
              0.3333333333333333,
              "#9c179e"
             ],
             [
              0.4444444444444444,
              "#bd3786"
             ],
             [
              0.5555555555555556,
              "#d8576b"
             ],
             [
              0.6666666666666666,
              "#ed7953"
             ],
             [
              0.7777777777777778,
              "#fb9f3a"
             ],
             [
              0.8888888888888888,
              "#fdca26"
             ],
             [
              1,
              "#f0f921"
             ]
            ],
            "type": "surface"
           }
          ],
          "table": [
           {
            "cells": {
             "fill": {
              "color": "#EBF0F8"
             },
             "line": {
              "color": "white"
             }
            },
            "header": {
             "fill": {
              "color": "#C8D4E3"
             },
             "line": {
              "color": "white"
             }
            },
            "type": "table"
           }
          ]
         },
         "layout": {
          "annotationdefaults": {
           "arrowcolor": "#2a3f5f",
           "arrowhead": 0,
           "arrowwidth": 1
          },
          "autotypenumbers": "strict",
          "coloraxis": {
           "colorbar": {
            "outlinewidth": 0,
            "ticks": ""
           }
          },
          "colorscale": {
           "diverging": [
            [
             0,
             "#8e0152"
            ],
            [
             0.1,
             "#c51b7d"
            ],
            [
             0.2,
             "#de77ae"
            ],
            [
             0.3,
             "#f1b6da"
            ],
            [
             0.4,
             "#fde0ef"
            ],
            [
             0.5,
             "#f7f7f7"
            ],
            [
             0.6,
             "#e6f5d0"
            ],
            [
             0.7,
             "#b8e186"
            ],
            [
             0.8,
             "#7fbc41"
            ],
            [
             0.9,
             "#4d9221"
            ],
            [
             1,
             "#276419"
            ]
           ],
           "sequential": [
            [
             0,
             "#0d0887"
            ],
            [
             0.1111111111111111,
             "#46039f"
            ],
            [
             0.2222222222222222,
             "#7201a8"
            ],
            [
             0.3333333333333333,
             "#9c179e"
            ],
            [
             0.4444444444444444,
             "#bd3786"
            ],
            [
             0.5555555555555556,
             "#d8576b"
            ],
            [
             0.6666666666666666,
             "#ed7953"
            ],
            [
             0.7777777777777778,
             "#fb9f3a"
            ],
            [
             0.8888888888888888,
             "#fdca26"
            ],
            [
             1,
             "#f0f921"
            ]
           ],
           "sequentialminus": [
            [
             0,
             "#0d0887"
            ],
            [
             0.1111111111111111,
             "#46039f"
            ],
            [
             0.2222222222222222,
             "#7201a8"
            ],
            [
             0.3333333333333333,
             "#9c179e"
            ],
            [
             0.4444444444444444,
             "#bd3786"
            ],
            [
             0.5555555555555556,
             "#d8576b"
            ],
            [
             0.6666666666666666,
             "#ed7953"
            ],
            [
             0.7777777777777778,
             "#fb9f3a"
            ],
            [
             0.8888888888888888,
             "#fdca26"
            ],
            [
             1,
             "#f0f921"
            ]
           ]
          },
          "colorway": [
           "#636efa",
           "#EF553B",
           "#00cc96",
           "#ab63fa",
           "#FFA15A",
           "#19d3f3",
           "#FF6692",
           "#B6E880",
           "#FF97FF",
           "#FECB52"
          ],
          "font": {
           "color": "#2a3f5f"
          },
          "geo": {
           "bgcolor": "white",
           "lakecolor": "white",
           "landcolor": "#E5ECF6",
           "showlakes": true,
           "showland": true,
           "subunitcolor": "white"
          },
          "hoverlabel": {
           "align": "left"
          },
          "hovermode": "closest",
          "mapbox": {
           "style": "light"
          },
          "paper_bgcolor": "white",
          "plot_bgcolor": "#E5ECF6",
          "polar": {
           "angularaxis": {
            "gridcolor": "white",
            "linecolor": "white",
            "ticks": ""
           },
           "bgcolor": "#E5ECF6",
           "radialaxis": {
            "gridcolor": "white",
            "linecolor": "white",
            "ticks": ""
           }
          },
          "scene": {
           "xaxis": {
            "backgroundcolor": "#E5ECF6",
            "gridcolor": "white",
            "gridwidth": 2,
            "linecolor": "white",
            "showbackground": true,
            "ticks": "",
            "zerolinecolor": "white"
           },
           "yaxis": {
            "backgroundcolor": "#E5ECF6",
            "gridcolor": "white",
            "gridwidth": 2,
            "linecolor": "white",
            "showbackground": true,
            "ticks": "",
            "zerolinecolor": "white"
           },
           "zaxis": {
            "backgroundcolor": "#E5ECF6",
            "gridcolor": "white",
            "gridwidth": 2,
            "linecolor": "white",
            "showbackground": true,
            "ticks": "",
            "zerolinecolor": "white"
           }
          },
          "shapedefaults": {
           "line": {
            "color": "#2a3f5f"
           }
          },
          "ternary": {
           "aaxis": {
            "gridcolor": "white",
            "linecolor": "white",
            "ticks": ""
           },
           "baxis": {
            "gridcolor": "white",
            "linecolor": "white",
            "ticks": ""
           },
           "bgcolor": "#E5ECF6",
           "caxis": {
            "gridcolor": "white",
            "linecolor": "white",
            "ticks": ""
           }
          },
          "title": {
           "x": 0.05
          },
          "xaxis": {
           "automargin": true,
           "gridcolor": "white",
           "linecolor": "white",
           "ticks": "",
           "title": {
            "standoff": 15
           },
           "zerolinecolor": "white",
           "zerolinewidth": 2
          },
          "yaxis": {
           "automargin": true,
           "gridcolor": "white",
           "linecolor": "white",
           "ticks": "",
           "title": {
            "standoff": 15
           },
           "zerolinecolor": "white",
           "zerolinewidth": 2
          }
         }
        },
        "title": {
         "text": "Student Performance Summary"
        },
        "width": 1000
       }
      },
      "text/html": [
       "<div>                            <div id=\"bbeb2580-25f1-431b-a5a6-ca7ec5c61a7a\" class=\"plotly-graph-div\" style=\"height:800px; width:1000px;\"></div>            <script type=\"text/javascript\">                require([\"plotly\"], function(Plotly) {                    window.PLOTLYENV=window.PLOTLYENV || {};                                    if (document.getElementById(\"bbeb2580-25f1-431b-a5a6-ca7ec5c61a7a\")) {                    Plotly.newPlot(                        \"bbeb2580-25f1-431b-a5a6-ca7ec5c61a7a\",                        [{\"domain\":{\"x\":[0,0.4],\"y\":[0.5,1]},\"gauge\":{\"axis\":{\"range\":[0,100]},\"bar\":{\"color\":\"rgb(241, 255, 0)\"},\"steps\":[{\"color\":\"rgba(255, 0, 0, 0.1)\",\"range\":[0,50]},{\"color\":\"rgba(0, 255, 0, 0.1)\",\"range\":[50,100]}]},\"mode\":\"gauge+number\",\"title\":{\"text\":\"Overall Percentile\"},\"value\":52.63157894736842,\"type\":\"indicator\"},{\"domain\":{\"x\":[0.6,1],\"y\":[0.5,1]},\"gauge\":{\"axis\":{\"range\":[0,100]},\"bar\":{\"color\":\"rgb(0, 255, 0)\"},\"steps\":[{\"color\":\"rgba(255, 0, 0, 0.1)\",\"range\":[0,50]},{\"color\":\"rgba(0, 255, 0, 0.1)\",\"range\":[50,100]}]},\"mode\":\"gauge+number\",\"title\":{\"text\":\"Best Attribute: Behavioral Observations\"},\"value\":100,\"type\":\"indicator\"},{\"domain\":{\"x\":[0.3,0.7],\"y\":[0,0.4]},\"gauge\":{\"axis\":{\"range\":[0,100]},\"bar\":{\"color\":\"rgb(255, 51, 0)\"},\"steps\":[{\"color\":\"rgba(255, 0, 0, 0.1)\",\"range\":[0,50]},{\"color\":\"rgba(0, 255, 0, 0.1)\",\"range\":[50,100]}]},\"mode\":\"gauge+number\",\"title\":{\"text\":\"Worst Attribute: Similarities\"},\"value\":10,\"type\":\"indicator\"}],                        {\"template\":{\"data\":{\"bar\":[{\"error_x\":{\"color\":\"#2a3f5f\"},\"error_y\":{\"color\":\"#2a3f5f\"},\"marker\":{\"line\":{\"color\":\"#E5ECF6\",\"width\":0.5},\"pattern\":{\"fillmode\":\"overlay\",\"size\":10,\"solidity\":0.2}},\"type\":\"bar\"}],\"barpolar\":[{\"marker\":{\"line\":{\"color\":\"#E5ECF6\",\"width\":0.5},\"pattern\":{\"fillmode\":\"overlay\",\"size\":10,\"solidity\":0.2}},\"type\":\"barpolar\"}],\"carpet\":[{\"aaxis\":{\"endlinecolor\":\"#2a3f5f\",\"gridcolor\":\"white\",\"linecolor\":\"white\",\"minorgridcolor\":\"white\",\"startlinecolor\":\"#2a3f5f\"},\"baxis\":{\"endlinecolor\":\"#2a3f5f\",\"gridcolor\":\"white\",\"linecolor\":\"white\",\"minorgridcolor\":\"white\",\"startlinecolor\":\"#2a3f5f\"},\"type\":\"carpet\"}],\"choropleth\":[{\"colorbar\":{\"outlinewidth\":0,\"ticks\":\"\"},\"type\":\"choropleth\"}],\"contour\":[{\"colorbar\":{\"outlinewidth\":0,\"ticks\":\"\"},\"colorscale\":[[0.0,\"#0d0887\"],[0.1111111111111111,\"#46039f\"],[0.2222222222222222,\"#7201a8\"],[0.3333333333333333,\"#9c179e\"],[0.4444444444444444,\"#bd3786\"],[0.5555555555555556,\"#d8576b\"],[0.6666666666666666,\"#ed7953\"],[0.7777777777777778,\"#fb9f3a\"],[0.8888888888888888,\"#fdca26\"],[1.0,\"#f0f921\"]],\"type\":\"contour\"}],\"contourcarpet\":[{\"colorbar\":{\"outlinewidth\":0,\"ticks\":\"\"},\"type\":\"contourcarpet\"}],\"heatmap\":[{\"colorbar\":{\"outlinewidth\":0,\"ticks\":\"\"},\"colorscale\":[[0.0,\"#0d0887\"],[0.1111111111111111,\"#46039f\"],[0.2222222222222222,\"#7201a8\"],[0.3333333333333333,\"#9c179e\"],[0.4444444444444444,\"#bd3786\"],[0.5555555555555556,\"#d8576b\"],[0.6666666666666666,\"#ed7953\"],[0.7777777777777778,\"#fb9f3a\"],[0.8888888888888888,\"#fdca26\"],[1.0,\"#f0f921\"]],\"type\":\"heatmap\"}],\"heatmapgl\":[{\"colorbar\":{\"outlinewidth\":0,\"ticks\":\"\"},\"colorscale\":[[0.0,\"#0d0887\"],[0.1111111111111111,\"#46039f\"],[0.2222222222222222,\"#7201a8\"],[0.3333333333333333,\"#9c179e\"],[0.4444444444444444,\"#bd3786\"],[0.5555555555555556,\"#d8576b\"],[0.6666666666666666,\"#ed7953\"],[0.7777777777777778,\"#fb9f3a\"],[0.8888888888888888,\"#fdca26\"],[1.0,\"#f0f921\"]],\"type\":\"heatmapgl\"}],\"histogram\":[{\"marker\":{\"pattern\":{\"fillmode\":\"overlay\",\"size\":10,\"solidity\":0.2}},\"type\":\"histogram\"}],\"histogram2d\":[{\"colorbar\":{\"outlinewidth\":0,\"ticks\":\"\"},\"colorscale\":[[0.0,\"#0d0887\"],[0.1111111111111111,\"#46039f\"],[0.2222222222222222,\"#7201a8\"],[0.3333333333333333,\"#9c179e\"],[0.4444444444444444,\"#bd3786\"],[0.5555555555555556,\"#d8576b\"],[0.6666666666666666,\"#ed7953\"],[0.7777777777777778,\"#fb9f3a\"],[0.8888888888888888,\"#fdca26\"],[1.0,\"#f0f921\"]],\"type\":\"histogram2d\"}],\"histogram2dcontour\":[{\"colorbar\":{\"outlinewidth\":0,\"ticks\":\"\"},\"colorscale\":[[0.0,\"#0d0887\"],[0.1111111111111111,\"#46039f\"],[0.2222222222222222,\"#7201a8\"],[0.3333333333333333,\"#9c179e\"],[0.4444444444444444,\"#bd3786\"],[0.5555555555555556,\"#d8576b\"],[0.6666666666666666,\"#ed7953\"],[0.7777777777777778,\"#fb9f3a\"],[0.8888888888888888,\"#fdca26\"],[1.0,\"#f0f921\"]],\"type\":\"histogram2dcontour\"}],\"mesh3d\":[{\"colorbar\":{\"outlinewidth\":0,\"ticks\":\"\"},\"type\":\"mesh3d\"}],\"parcoords\":[{\"line\":{\"colorbar\":{\"outlinewidth\":0,\"ticks\":\"\"}},\"type\":\"parcoords\"}],\"pie\":[{\"automargin\":true,\"type\":\"pie\"}],\"scatter\":[{\"marker\":{\"colorbar\":{\"outlinewidth\":0,\"ticks\":\"\"}},\"type\":\"scatter\"}],\"scatter3d\":[{\"line\":{\"colorbar\":{\"outlinewidth\":0,\"ticks\":\"\"}},\"marker\":{\"colorbar\":{\"outlinewidth\":0,\"ticks\":\"\"}},\"type\":\"scatter3d\"}],\"scattercarpet\":[{\"marker\":{\"colorbar\":{\"outlinewidth\":0,\"ticks\":\"\"}},\"type\":\"scattercarpet\"}],\"scattergeo\":[{\"marker\":{\"colorbar\":{\"outlinewidth\":0,\"ticks\":\"\"}},\"type\":\"scattergeo\"}],\"scattergl\":[{\"marker\":{\"colorbar\":{\"outlinewidth\":0,\"ticks\":\"\"}},\"type\":\"scattergl\"}],\"scattermapbox\":[{\"marker\":{\"colorbar\":{\"outlinewidth\":0,\"ticks\":\"\"}},\"type\":\"scattermapbox\"}],\"scatterpolar\":[{\"marker\":{\"colorbar\":{\"outlinewidth\":0,\"ticks\":\"\"}},\"type\":\"scatterpolar\"}],\"scatterpolargl\":[{\"marker\":{\"colorbar\":{\"outlinewidth\":0,\"ticks\":\"\"}},\"type\":\"scatterpolargl\"}],\"scatterternary\":[{\"marker\":{\"colorbar\":{\"outlinewidth\":0,\"ticks\":\"\"}},\"type\":\"scatterternary\"}],\"surface\":[{\"colorbar\":{\"outlinewidth\":0,\"ticks\":\"\"},\"colorscale\":[[0.0,\"#0d0887\"],[0.1111111111111111,\"#46039f\"],[0.2222222222222222,\"#7201a8\"],[0.3333333333333333,\"#9c179e\"],[0.4444444444444444,\"#bd3786\"],[0.5555555555555556,\"#d8576b\"],[0.6666666666666666,\"#ed7953\"],[0.7777777777777778,\"#fb9f3a\"],[0.8888888888888888,\"#fdca26\"],[1.0,\"#f0f921\"]],\"type\":\"surface\"}],\"table\":[{\"cells\":{\"fill\":{\"color\":\"#EBF0F8\"},\"line\":{\"color\":\"white\"}},\"header\":{\"fill\":{\"color\":\"#C8D4E3\"},\"line\":{\"color\":\"white\"}},\"type\":\"table\"}]},\"layout\":{\"annotationdefaults\":{\"arrowcolor\":\"#2a3f5f\",\"arrowhead\":0,\"arrowwidth\":1},\"autotypenumbers\":\"strict\",\"coloraxis\":{\"colorbar\":{\"outlinewidth\":0,\"ticks\":\"\"}},\"colorscale\":{\"diverging\":[[0,\"#8e0152\"],[0.1,\"#c51b7d\"],[0.2,\"#de77ae\"],[0.3,\"#f1b6da\"],[0.4,\"#fde0ef\"],[0.5,\"#f7f7f7\"],[0.6,\"#e6f5d0\"],[0.7,\"#b8e186\"],[0.8,\"#7fbc41\"],[0.9,\"#4d9221\"],[1,\"#276419\"]],\"sequential\":[[0.0,\"#0d0887\"],[0.1111111111111111,\"#46039f\"],[0.2222222222222222,\"#7201a8\"],[0.3333333333333333,\"#9c179e\"],[0.4444444444444444,\"#bd3786\"],[0.5555555555555556,\"#d8576b\"],[0.6666666666666666,\"#ed7953\"],[0.7777777777777778,\"#fb9f3a\"],[0.8888888888888888,\"#fdca26\"],[1.0,\"#f0f921\"]],\"sequentialminus\":[[0.0,\"#0d0887\"],[0.1111111111111111,\"#46039f\"],[0.2222222222222222,\"#7201a8\"],[0.3333333333333333,\"#9c179e\"],[0.4444444444444444,\"#bd3786\"],[0.5555555555555556,\"#d8576b\"],[0.6666666666666666,\"#ed7953\"],[0.7777777777777778,\"#fb9f3a\"],[0.8888888888888888,\"#fdca26\"],[1.0,\"#f0f921\"]]},\"colorway\":[\"#636efa\",\"#EF553B\",\"#00cc96\",\"#ab63fa\",\"#FFA15A\",\"#19d3f3\",\"#FF6692\",\"#B6E880\",\"#FF97FF\",\"#FECB52\"],\"font\":{\"color\":\"#2a3f5f\"},\"geo\":{\"bgcolor\":\"white\",\"lakecolor\":\"white\",\"landcolor\":\"#E5ECF6\",\"showlakes\":true,\"showland\":true,\"subunitcolor\":\"white\"},\"hoverlabel\":{\"align\":\"left\"},\"hovermode\":\"closest\",\"mapbox\":{\"style\":\"light\"},\"paper_bgcolor\":\"white\",\"plot_bgcolor\":\"#E5ECF6\",\"polar\":{\"angularaxis\":{\"gridcolor\":\"white\",\"linecolor\":\"white\",\"ticks\":\"\"},\"bgcolor\":\"#E5ECF6\",\"radialaxis\":{\"gridcolor\":\"white\",\"linecolor\":\"white\",\"ticks\":\"\"}},\"scene\":{\"xaxis\":{\"backgroundcolor\":\"#E5ECF6\",\"gridcolor\":\"white\",\"gridwidth\":2,\"linecolor\":\"white\",\"showbackground\":true,\"ticks\":\"\",\"zerolinecolor\":\"white\"},\"yaxis\":{\"backgroundcolor\":\"#E5ECF6\",\"gridcolor\":\"white\",\"gridwidth\":2,\"linecolor\":\"white\",\"showbackground\":true,\"ticks\":\"\",\"zerolinecolor\":\"white\"},\"zaxis\":{\"backgroundcolor\":\"#E5ECF6\",\"gridcolor\":\"white\",\"gridwidth\":2,\"linecolor\":\"white\",\"showbackground\":true,\"ticks\":\"\",\"zerolinecolor\":\"white\"}},\"shapedefaults\":{\"line\":{\"color\":\"#2a3f5f\"}},\"ternary\":{\"aaxis\":{\"gridcolor\":\"white\",\"linecolor\":\"white\",\"ticks\":\"\"},\"baxis\":{\"gridcolor\":\"white\",\"linecolor\":\"white\",\"ticks\":\"\"},\"bgcolor\":\"#E5ECF6\",\"caxis\":{\"gridcolor\":\"white\",\"linecolor\":\"white\",\"ticks\":\"\"}},\"title\":{\"x\":0.05},\"xaxis\":{\"automargin\":true,\"gridcolor\":\"white\",\"linecolor\":\"white\",\"ticks\":\"\",\"title\":{\"standoff\":15},\"zerolinecolor\":\"white\",\"zerolinewidth\":2},\"yaxis\":{\"automargin\":true,\"gridcolor\":\"white\",\"linecolor\":\"white\",\"ticks\":\"\",\"title\":{\"standoff\":15},\"zerolinecolor\":\"white\",\"zerolinewidth\":2}}},\"annotations\":[{\"align\":\"center\",\"font\":{\"size\":12},\"showarrow\":false,\"text\":\"Positive behavioral observations indicating good behavior and focus.\",\"x\":1.01,\"y\":0.6},{\"align\":\"center\",\"font\":{\"size\":12},\"showarrow\":false,\"text\":\"Challenges in verbal reasoning and forming concepts.\",\"x\":0.5,\"y\":0.03}],\"margin\":{\"l\":50,\"r\":50,\"b\":50,\"t\":50},\"title\":{\"text\":\"Student Performance Summary\"},\"autosize\":false,\"width\":1000,\"height\":800},                        {\"responsive\": true}                    ).then(function(){\n",
       "                            \n",
       "var gd = document.getElementById('bbeb2580-25f1-431b-a5a6-ca7ec5c61a7a');\n",
       "var x = new MutationObserver(function (mutations, observer) {{\n",
       "        var display = window.getComputedStyle(gd).display;\n",
       "        if (!display || display === 'none') {{\n",
       "            console.log([gd, 'removed!']);\n",
       "            Plotly.purge(gd);\n",
       "            observer.disconnect();\n",
       "        }}\n",
       "}});\n",
       "\n",
       "// Listen for the removal of the full notebook cells\n",
       "var notebookContainer = gd.closest('#notebook-container');\n",
       "if (notebookContainer) {{\n",
       "    x.observe(notebookContainer, {childList: true});\n",
       "}}\n",
       "\n",
       "// Listen for the clearing of the current output cell\n",
       "var outputEl = gd.closest('.output');\n",
       "if (outputEl) {{\n",
       "    x.observe(outputEl, {childList: true});\n",
       "}}\n",
       "\n",
       "                        })                };                });            </script>        </div>"
      ]
     },
     "metadata": {},
     "output_type": "display_data"
    }
   ],
   "source": [
    "import plotly.graph_objects as go\n",
    "\n",
    "# Function to determine the color based on the percentile\n",
    "def get_color(value):\n",
    "    if value < 50:\n",
    "        return f\"rgb({255}, {int((value / 50) * 255)}, 0)\"\n",
    "    else:\n",
    "        return f\"rgb({int((1 - (value - 50) / 50) * 255)}, 255, 0)\"\n",
    "\n",
    "# Data for displaying results\n",
    "result_text = f\"Prediction: {prediction_label}<br>Overall Percentile: {overall_percentile:.2f}\"\n",
    "best_text = f\"Best Attribute: {best_attribute} (Percentile: {best_attribute_percentile:.2f})\"\n",
    "best_desc = best_attribute_description\n",
    "worst_text = f\"Worst Attribute: {worst_attribute} (Percentile: {worst_attribute_percentile:.2f})\"\n",
    "worst_desc = worst_attribute_description\n",
    "\n",
    "# Create a radial gauge for percentiles\n",
    "fig = go.Figure()\n",
    "\n",
    "# Overall Percentile Gauge\n",
    "fig.add_trace(go.Indicator(\n",
    "    mode=\"gauge+number\",\n",
    "    value=overall_percentile,\n",
    "    title={'text': \"Overall Percentile\"},\n",
    "    gauge={\n",
    "        'axis': {'range': [0, 100]},\n",
    "        'bar': {'color': get_color(overall_percentile)},\n",
    "        'steps': [\n",
    "            {'range': [0, 50], 'color': 'rgba(255, 0, 0, 0.1)'},\n",
    "            {'range': [0, 50], 'color': 'rgba(255, 0, 0, 0.1)'},\n",
    "            {'range': [0, 50], 'color': 'rgba(255, 0, 0, 0.1)'},\n",
    "            {'range': [0, 50], 'color': 'rgba(255, 0, 0, 0.1)'},\n",
    "            {'range': [0, 50], 'color': 'rgba(255, 0, 0, 0.1)'},\n",
    "            {'range': [0, 50], 'color': 'rgba(255, 0, 0, 0.1)'},\n",
    "            {'range': [50, 100], 'color': 'rgba(0, 255, 0, 0.1)'}\n",
    "        ]\n",
    "    },\n",
    "    domain={'x': [0, 0.4], 'y': [0.5, 1]}\n",
    "))\n",
    "\n",
    "# Best Attribute Gauge\n",
    "fig.add_trace(go.Indicator(\n",
    "    mode=\"gauge+number\",\n",
    "    value=best_attribute_percentile,\n",
    "    title={'text': f\"Best Attribute: {best_attribute}\"},\n",
    "    gauge={\n",
    "        'axis': {'range': [0, 100]},\n",
    "        'bar': {'color': get_color(best_attribute_percentile)},\n",
    "        'steps': [\n",
    "            {'range': [0, 50], 'color': 'rgba(255, 0, 0, 0.1)'},\n",
    "            {'range': [50, 100], 'color': 'rgba(0, 255, 0, 0.1)'}\n",
    "        ]\n",
    "    },\n",
    "    domain={'x': [0.6, 1], 'y': [0.5, 1]}\n",
    "))\n",
    "\n",
    "# Worst Attribute Gauge\n",
    "fig.add_trace(go.Indicator(\n",
    "    mode=\"gauge+number\",\n",
    "    value=worst_attribute_percentile,\n",
    "    title={'text': f\"Worst Attribute: {worst_attribute}\"},\n",
    "    gauge={\n",
    "        'axis': {'range': [0, 100]},\n",
    "        'bar': {'color': get_color(worst_attribute_percentile)},\n",
    "        'steps': [\n",
    "            {'range': [0, 50], 'color': 'rgba(255, 0, 0, 0.1)'},\n",
    "            {'range': [50, 100], 'color': 'rgba(0, 255, 0, 0.1)'}\n",
    "        ]\n",
    "    },\n",
    "    domain={'x': [0.3, 0.7], 'y': [0, 0.4]}\n",
    "))\n",
    "\n",
    "fig.add_annotation(\n",
    "    x=1.01, y=0.6,\n",
    "    text=best_desc,\n",
    "    showarrow=False,\n",
    "    font=dict(size=12),\n",
    "    align=\"center\"\n",
    ")\n",
    "\n",
    "fig.add_annotation(\n",
    "    x=0.5, y=0.03,\n",
    "    text=worst_desc,\n",
    "    showarrow=False,\n",
    "    font=dict(size=12),\n",
    "    align=\"center\"\n",
    ")\n",
    "\n",
    "# Update layout\n",
    "fig.update_layout(\n",
    "    title='Student Performance Summary',\n",
    "    autosize=False,\n",
    "    width=1000,\n",
    "    height=800,\n",
    "    margin=dict(l=50, r=50, b=50, t=50),\n",
    ")\n",
    "\n",
    "# Show the plot\n",
    "fig.show()\n"
   ]
  },
  {
   "cell_type": "code",
   "execution_count": 44,
   "id": "1b4b838e",
   "metadata": {},
   "outputs": [
    {
     "data": {
      "application/vnd.plotly.v1+json": {
       "config": {
        "plotlyServerURL": "https://plot.ly"
       },
       "data": [
        {
         "domain": {
          "x": [
           0,
           0.4
          ],
          "y": [
           0.5,
           1
          ]
         },
         "gauge": {
          "axis": {
           "range": [
            0,
            100
           ]
          },
          "bar": {
           "color": "rgb(241, 255, 0)"
          },
          "steps": [
           {
            "color": "rgba(255, 0, 0, 0.1)",
            "range": [
             0,
             20
            ]
           },
           {
            "color": "rgba(255, 165, 0, 0.1)",
            "range": [
             20,
             40
            ]
           },
           {
            "color": "rgba(255, 255, 0, 0.1)",
            "range": [
             40,
             60
            ]
           },
           {
            "color": "rgba(173, 255, 47, 0.1)",
            "range": [
             60,
             80
            ]
           },
           {
            "color": "rgba(0, 255, 0, 0.1)",
            "range": [
             80,
             100
            ]
           }
          ]
         },
         "mode": "gauge+number",
         "title": {
          "text": "Overall Percentile"
         },
         "type": "indicator",
         "value": 52.63157894736842
        },
        {
         "domain": {
          "x": [
           0.6,
           1
          ],
          "y": [
           0.5,
           1
          ]
         },
         "gauge": {
          "axis": {
           "range": [
            0,
            100
           ]
          },
          "bar": {
           "color": "rgb(0, 255, 0)"
          },
          "steps": [
           {
            "color": "rgba(255, 0, 0, 0.1)",
            "range": [
             0,
             20
            ]
           },
           {
            "color": "rgba(255, 165, 0, 0.1)",
            "range": [
             20,
             40
            ]
           },
           {
            "color": "rgba(255, 255, 0, 0.1)",
            "range": [
             40,
             60
            ]
           },
           {
            "color": "rgba(173, 255, 47, 0.1)",
            "range": [
             60,
             80
            ]
           },
           {
            "color": "rgba(0, 255, 0, 0.1)",
            "range": [
             80,
             100
            ]
           }
          ]
         },
         "mode": "gauge+number",
         "title": {
          "text": "Best Attribute: Behavioral Observations"
         },
         "type": "indicator",
         "value": 100
        },
        {
         "domain": {
          "x": [
           0.3,
           0.7
          ],
          "y": [
           0,
           0.4
          ]
         },
         "gauge": {
          "axis": {
           "range": [
            0,
            100
           ]
          },
          "bar": {
           "color": "rgb(255, 51, 0)"
          },
          "steps": [
           {
            "color": "rgba(255, 0, 0, 0.1)",
            "range": [
             0,
             20
            ]
           },
           {
            "color": "rgba(255, 165, 0, 0.1)",
            "range": [
             20,
             40
            ]
           },
           {
            "color": "rgba(255, 255, 0, 0.1)",
            "range": [
             40,
             60
            ]
           },
           {
            "color": "rgba(173, 255, 47, 0.1)",
            "range": [
             60,
             80
            ]
           },
           {
            "color": "rgba(0, 255, 0, 0.1)",
            "range": [
             80,
             100
            ]
           }
          ]
         },
         "mode": "gauge+number",
         "title": {
          "text": "Worst Attribute: Similarities"
         },
         "type": "indicator",
         "value": 10
        }
       ],
       "layout": {
        "annotations": [
         {
          "align": "center",
          "font": {
           "size": 12
          },
          "showarrow": false,
          "text": "Positive behavioral observations indicating good behavior and focus.",
          "x": 1.01,
          "y": 0.6
         },
         {
          "align": "center",
          "font": {
           "size": 12
          },
          "showarrow": false,
          "text": "Challenges in verbal reasoning and forming concepts.",
          "x": 0.5,
          "y": 0.03
         }
        ],
        "autosize": false,
        "height": 800,
        "margin": {
         "b": 50,
         "l": 50,
         "r": 50,
         "t": 50
        },
        "template": {
         "data": {
          "bar": [
           {
            "error_x": {
             "color": "#2a3f5f"
            },
            "error_y": {
             "color": "#2a3f5f"
            },
            "marker": {
             "line": {
              "color": "#E5ECF6",
              "width": 0.5
             },
             "pattern": {
              "fillmode": "overlay",
              "size": 10,
              "solidity": 0.2
             }
            },
            "type": "bar"
           }
          ],
          "barpolar": [
           {
            "marker": {
             "line": {
              "color": "#E5ECF6",
              "width": 0.5
             },
             "pattern": {
              "fillmode": "overlay",
              "size": 10,
              "solidity": 0.2
             }
            },
            "type": "barpolar"
           }
          ],
          "carpet": [
           {
            "aaxis": {
             "endlinecolor": "#2a3f5f",
             "gridcolor": "white",
             "linecolor": "white",
             "minorgridcolor": "white",
             "startlinecolor": "#2a3f5f"
            },
            "baxis": {
             "endlinecolor": "#2a3f5f",
             "gridcolor": "white",
             "linecolor": "white",
             "minorgridcolor": "white",
             "startlinecolor": "#2a3f5f"
            },
            "type": "carpet"
           }
          ],
          "choropleth": [
           {
            "colorbar": {
             "outlinewidth": 0,
             "ticks": ""
            },
            "type": "choropleth"
           }
          ],
          "contour": [
           {
            "colorbar": {
             "outlinewidth": 0,
             "ticks": ""
            },
            "colorscale": [
             [
              0,
              "#0d0887"
             ],
             [
              0.1111111111111111,
              "#46039f"
             ],
             [
              0.2222222222222222,
              "#7201a8"
             ],
             [
              0.3333333333333333,
              "#9c179e"
             ],
             [
              0.4444444444444444,
              "#bd3786"
             ],
             [
              0.5555555555555556,
              "#d8576b"
             ],
             [
              0.6666666666666666,
              "#ed7953"
             ],
             [
              0.7777777777777778,
              "#fb9f3a"
             ],
             [
              0.8888888888888888,
              "#fdca26"
             ],
             [
              1,
              "#f0f921"
             ]
            ],
            "type": "contour"
           }
          ],
          "contourcarpet": [
           {
            "colorbar": {
             "outlinewidth": 0,
             "ticks": ""
            },
            "type": "contourcarpet"
           }
          ],
          "heatmap": [
           {
            "colorbar": {
             "outlinewidth": 0,
             "ticks": ""
            },
            "colorscale": [
             [
              0,
              "#0d0887"
             ],
             [
              0.1111111111111111,
              "#46039f"
             ],
             [
              0.2222222222222222,
              "#7201a8"
             ],
             [
              0.3333333333333333,
              "#9c179e"
             ],
             [
              0.4444444444444444,
              "#bd3786"
             ],
             [
              0.5555555555555556,
              "#d8576b"
             ],
             [
              0.6666666666666666,
              "#ed7953"
             ],
             [
              0.7777777777777778,
              "#fb9f3a"
             ],
             [
              0.8888888888888888,
              "#fdca26"
             ],
             [
              1,
              "#f0f921"
             ]
            ],
            "type": "heatmap"
           }
          ],
          "heatmapgl": [
           {
            "colorbar": {
             "outlinewidth": 0,
             "ticks": ""
            },
            "colorscale": [
             [
              0,
              "#0d0887"
             ],
             [
              0.1111111111111111,
              "#46039f"
             ],
             [
              0.2222222222222222,
              "#7201a8"
             ],
             [
              0.3333333333333333,
              "#9c179e"
             ],
             [
              0.4444444444444444,
              "#bd3786"
             ],
             [
              0.5555555555555556,
              "#d8576b"
             ],
             [
              0.6666666666666666,
              "#ed7953"
             ],
             [
              0.7777777777777778,
              "#fb9f3a"
             ],
             [
              0.8888888888888888,
              "#fdca26"
             ],
             [
              1,
              "#f0f921"
             ]
            ],
            "type": "heatmapgl"
           }
          ],
          "histogram": [
           {
            "marker": {
             "pattern": {
              "fillmode": "overlay",
              "size": 10,
              "solidity": 0.2
             }
            },
            "type": "histogram"
           }
          ],
          "histogram2d": [
           {
            "colorbar": {
             "outlinewidth": 0,
             "ticks": ""
            },
            "colorscale": [
             [
              0,
              "#0d0887"
             ],
             [
              0.1111111111111111,
              "#46039f"
             ],
             [
              0.2222222222222222,
              "#7201a8"
             ],
             [
              0.3333333333333333,
              "#9c179e"
             ],
             [
              0.4444444444444444,
              "#bd3786"
             ],
             [
              0.5555555555555556,
              "#d8576b"
             ],
             [
              0.6666666666666666,
              "#ed7953"
             ],
             [
              0.7777777777777778,
              "#fb9f3a"
             ],
             [
              0.8888888888888888,
              "#fdca26"
             ],
             [
              1,
              "#f0f921"
             ]
            ],
            "type": "histogram2d"
           }
          ],
          "histogram2dcontour": [
           {
            "colorbar": {
             "outlinewidth": 0,
             "ticks": ""
            },
            "colorscale": [
             [
              0,
              "#0d0887"
             ],
             [
              0.1111111111111111,
              "#46039f"
             ],
             [
              0.2222222222222222,
              "#7201a8"
             ],
             [
              0.3333333333333333,
              "#9c179e"
             ],
             [
              0.4444444444444444,
              "#bd3786"
             ],
             [
              0.5555555555555556,
              "#d8576b"
             ],
             [
              0.6666666666666666,
              "#ed7953"
             ],
             [
              0.7777777777777778,
              "#fb9f3a"
             ],
             [
              0.8888888888888888,
              "#fdca26"
             ],
             [
              1,
              "#f0f921"
             ]
            ],
            "type": "histogram2dcontour"
           }
          ],
          "mesh3d": [
           {
            "colorbar": {
             "outlinewidth": 0,
             "ticks": ""
            },
            "type": "mesh3d"
           }
          ],
          "parcoords": [
           {
            "line": {
             "colorbar": {
              "outlinewidth": 0,
              "ticks": ""
             }
            },
            "type": "parcoords"
           }
          ],
          "pie": [
           {
            "automargin": true,
            "type": "pie"
           }
          ],
          "scatter": [
           {
            "marker": {
             "colorbar": {
              "outlinewidth": 0,
              "ticks": ""
             }
            },
            "type": "scatter"
           }
          ],
          "scatter3d": [
           {
            "line": {
             "colorbar": {
              "outlinewidth": 0,
              "ticks": ""
             }
            },
            "marker": {
             "colorbar": {
              "outlinewidth": 0,
              "ticks": ""
             }
            },
            "type": "scatter3d"
           }
          ],
          "scattercarpet": [
           {
            "marker": {
             "colorbar": {
              "outlinewidth": 0,
              "ticks": ""
             }
            },
            "type": "scattercarpet"
           }
          ],
          "scattergeo": [
           {
            "marker": {
             "colorbar": {
              "outlinewidth": 0,
              "ticks": ""
             }
            },
            "type": "scattergeo"
           }
          ],
          "scattergl": [
           {
            "marker": {
             "colorbar": {
              "outlinewidth": 0,
              "ticks": ""
             }
            },
            "type": "scattergl"
           }
          ],
          "scattermapbox": [
           {
            "marker": {
             "colorbar": {
              "outlinewidth": 0,
              "ticks": ""
             }
            },
            "type": "scattermapbox"
           }
          ],
          "scatterpolar": [
           {
            "marker": {
             "colorbar": {
              "outlinewidth": 0,
              "ticks": ""
             }
            },
            "type": "scatterpolar"
           }
          ],
          "scatterpolargl": [
           {
            "marker": {
             "colorbar": {
              "outlinewidth": 0,
              "ticks": ""
             }
            },
            "type": "scatterpolargl"
           }
          ],
          "scatterternary": [
           {
            "marker": {
             "colorbar": {
              "outlinewidth": 0,
              "ticks": ""
             }
            },
            "type": "scatterternary"
           }
          ],
          "surface": [
           {
            "colorbar": {
             "outlinewidth": 0,
             "ticks": ""
            },
            "colorscale": [
             [
              0,
              "#0d0887"
             ],
             [
              0.1111111111111111,
              "#46039f"
             ],
             [
              0.2222222222222222,
              "#7201a8"
             ],
             [
              0.3333333333333333,
              "#9c179e"
             ],
             [
              0.4444444444444444,
              "#bd3786"
             ],
             [
              0.5555555555555556,
              "#d8576b"
             ],
             [
              0.6666666666666666,
              "#ed7953"
             ],
             [
              0.7777777777777778,
              "#fb9f3a"
             ],
             [
              0.8888888888888888,
              "#fdca26"
             ],
             [
              1,
              "#f0f921"
             ]
            ],
            "type": "surface"
           }
          ],
          "table": [
           {
            "cells": {
             "fill": {
              "color": "#EBF0F8"
             },
             "line": {
              "color": "white"
             }
            },
            "header": {
             "fill": {
              "color": "#C8D4E3"
             },
             "line": {
              "color": "white"
             }
            },
            "type": "table"
           }
          ]
         },
         "layout": {
          "annotationdefaults": {
           "arrowcolor": "#2a3f5f",
           "arrowhead": 0,
           "arrowwidth": 1
          },
          "autotypenumbers": "strict",
          "coloraxis": {
           "colorbar": {
            "outlinewidth": 0,
            "ticks": ""
           }
          },
          "colorscale": {
           "diverging": [
            [
             0,
             "#8e0152"
            ],
            [
             0.1,
             "#c51b7d"
            ],
            [
             0.2,
             "#de77ae"
            ],
            [
             0.3,
             "#f1b6da"
            ],
            [
             0.4,
             "#fde0ef"
            ],
            [
             0.5,
             "#f7f7f7"
            ],
            [
             0.6,
             "#e6f5d0"
            ],
            [
             0.7,
             "#b8e186"
            ],
            [
             0.8,
             "#7fbc41"
            ],
            [
             0.9,
             "#4d9221"
            ],
            [
             1,
             "#276419"
            ]
           ],
           "sequential": [
            [
             0,
             "#0d0887"
            ],
            [
             0.1111111111111111,
             "#46039f"
            ],
            [
             0.2222222222222222,
             "#7201a8"
            ],
            [
             0.3333333333333333,
             "#9c179e"
            ],
            [
             0.4444444444444444,
             "#bd3786"
            ],
            [
             0.5555555555555556,
             "#d8576b"
            ],
            [
             0.6666666666666666,
             "#ed7953"
            ],
            [
             0.7777777777777778,
             "#fb9f3a"
            ],
            [
             0.8888888888888888,
             "#fdca26"
            ],
            [
             1,
             "#f0f921"
            ]
           ],
           "sequentialminus": [
            [
             0,
             "#0d0887"
            ],
            [
             0.1111111111111111,
             "#46039f"
            ],
            [
             0.2222222222222222,
             "#7201a8"
            ],
            [
             0.3333333333333333,
             "#9c179e"
            ],
            [
             0.4444444444444444,
             "#bd3786"
            ],
            [
             0.5555555555555556,
             "#d8576b"
            ],
            [
             0.6666666666666666,
             "#ed7953"
            ],
            [
             0.7777777777777778,
             "#fb9f3a"
            ],
            [
             0.8888888888888888,
             "#fdca26"
            ],
            [
             1,
             "#f0f921"
            ]
           ]
          },
          "colorway": [
           "#636efa",
           "#EF553B",
           "#00cc96",
           "#ab63fa",
           "#FFA15A",
           "#19d3f3",
           "#FF6692",
           "#B6E880",
           "#FF97FF",
           "#FECB52"
          ],
          "font": {
           "color": "#2a3f5f"
          },
          "geo": {
           "bgcolor": "white",
           "lakecolor": "white",
           "landcolor": "#E5ECF6",
           "showlakes": true,
           "showland": true,
           "subunitcolor": "white"
          },
          "hoverlabel": {
           "align": "left"
          },
          "hovermode": "closest",
          "mapbox": {
           "style": "light"
          },
          "paper_bgcolor": "white",
          "plot_bgcolor": "#E5ECF6",
          "polar": {
           "angularaxis": {
            "gridcolor": "white",
            "linecolor": "white",
            "ticks": ""
           },
           "bgcolor": "#E5ECF6",
           "radialaxis": {
            "gridcolor": "white",
            "linecolor": "white",
            "ticks": ""
           }
          },
          "scene": {
           "xaxis": {
            "backgroundcolor": "#E5ECF6",
            "gridcolor": "white",
            "gridwidth": 2,
            "linecolor": "white",
            "showbackground": true,
            "ticks": "",
            "zerolinecolor": "white"
           },
           "yaxis": {
            "backgroundcolor": "#E5ECF6",
            "gridcolor": "white",
            "gridwidth": 2,
            "linecolor": "white",
            "showbackground": true,
            "ticks": "",
            "zerolinecolor": "white"
           },
           "zaxis": {
            "backgroundcolor": "#E5ECF6",
            "gridcolor": "white",
            "gridwidth": 2,
            "linecolor": "white",
            "showbackground": true,
            "ticks": "",
            "zerolinecolor": "white"
           }
          },
          "shapedefaults": {
           "line": {
            "color": "#2a3f5f"
           }
          },
          "ternary": {
           "aaxis": {
            "gridcolor": "white",
            "linecolor": "white",
            "ticks": ""
           },
           "baxis": {
            "gridcolor": "white",
            "linecolor": "white",
            "ticks": ""
           },
           "bgcolor": "#E5ECF6",
           "caxis": {
            "gridcolor": "white",
            "linecolor": "white",
            "ticks": ""
           }
          },
          "title": {
           "x": 0.05
          },
          "xaxis": {
           "automargin": true,
           "gridcolor": "white",
           "linecolor": "white",
           "ticks": "",
           "title": {
            "standoff": 15
           },
           "zerolinecolor": "white",
           "zerolinewidth": 2
          },
          "yaxis": {
           "automargin": true,
           "gridcolor": "white",
           "linecolor": "white",
           "ticks": "",
           "title": {
            "standoff": 15
           },
           "zerolinecolor": "white",
           "zerolinewidth": 2
          }
         }
        },
        "title": {
         "text": "Student Performance Summary"
        },
        "width": 1000
       }
      },
      "text/html": [
       "<div>                            <div id=\"e8b0bac9-c17e-4b09-8389-4fcf74fdf10d\" class=\"plotly-graph-div\" style=\"height:800px; width:1000px;\"></div>            <script type=\"text/javascript\">                require([\"plotly\"], function(Plotly) {                    window.PLOTLYENV=window.PLOTLYENV || {};                                    if (document.getElementById(\"e8b0bac9-c17e-4b09-8389-4fcf74fdf10d\")) {                    Plotly.newPlot(                        \"e8b0bac9-c17e-4b09-8389-4fcf74fdf10d\",                        [{\"domain\":{\"x\":[0,0.4],\"y\":[0.5,1]},\"gauge\":{\"axis\":{\"range\":[0,100]},\"bar\":{\"color\":\"rgb(241, 255, 0)\"},\"steps\":[{\"color\":\"rgba(255, 0, 0, 0.1)\",\"range\":[0,20]},{\"color\":\"rgba(255, 165, 0, 0.1)\",\"range\":[20,40]},{\"color\":\"rgba(255, 255, 0, 0.1)\",\"range\":[40,60]},{\"color\":\"rgba(173, 255, 47, 0.1)\",\"range\":[60,80]},{\"color\":\"rgba(0, 255, 0, 0.1)\",\"range\":[80,100]}]},\"mode\":\"gauge+number\",\"title\":{\"text\":\"Overall Percentile\"},\"value\":52.63157894736842,\"type\":\"indicator\"},{\"domain\":{\"x\":[0.6,1],\"y\":[0.5,1]},\"gauge\":{\"axis\":{\"range\":[0,100]},\"bar\":{\"color\":\"rgb(0, 255, 0)\"},\"steps\":[{\"color\":\"rgba(255, 0, 0, 0.1)\",\"range\":[0,20]},{\"color\":\"rgba(255, 165, 0, 0.1)\",\"range\":[20,40]},{\"color\":\"rgba(255, 255, 0, 0.1)\",\"range\":[40,60]},{\"color\":\"rgba(173, 255, 47, 0.1)\",\"range\":[60,80]},{\"color\":\"rgba(0, 255, 0, 0.1)\",\"range\":[80,100]}]},\"mode\":\"gauge+number\",\"title\":{\"text\":\"Best Attribute: Behavioral Observations\"},\"value\":100,\"type\":\"indicator\"},{\"domain\":{\"x\":[0.3,0.7],\"y\":[0,0.4]},\"gauge\":{\"axis\":{\"range\":[0,100]},\"bar\":{\"color\":\"rgb(255, 51, 0)\"},\"steps\":[{\"color\":\"rgba(255, 0, 0, 0.1)\",\"range\":[0,20]},{\"color\":\"rgba(255, 165, 0, 0.1)\",\"range\":[20,40]},{\"color\":\"rgba(255, 255, 0, 0.1)\",\"range\":[40,60]},{\"color\":\"rgba(173, 255, 47, 0.1)\",\"range\":[60,80]},{\"color\":\"rgba(0, 255, 0, 0.1)\",\"range\":[80,100]}]},\"mode\":\"gauge+number\",\"title\":{\"text\":\"Worst Attribute: Similarities\"},\"value\":10,\"type\":\"indicator\"}],                        {\"template\":{\"data\":{\"bar\":[{\"error_x\":{\"color\":\"#2a3f5f\"},\"error_y\":{\"color\":\"#2a3f5f\"},\"marker\":{\"line\":{\"color\":\"#E5ECF6\",\"width\":0.5},\"pattern\":{\"fillmode\":\"overlay\",\"size\":10,\"solidity\":0.2}},\"type\":\"bar\"}],\"barpolar\":[{\"marker\":{\"line\":{\"color\":\"#E5ECF6\",\"width\":0.5},\"pattern\":{\"fillmode\":\"overlay\",\"size\":10,\"solidity\":0.2}},\"type\":\"barpolar\"}],\"carpet\":[{\"aaxis\":{\"endlinecolor\":\"#2a3f5f\",\"gridcolor\":\"white\",\"linecolor\":\"white\",\"minorgridcolor\":\"white\",\"startlinecolor\":\"#2a3f5f\"},\"baxis\":{\"endlinecolor\":\"#2a3f5f\",\"gridcolor\":\"white\",\"linecolor\":\"white\",\"minorgridcolor\":\"white\",\"startlinecolor\":\"#2a3f5f\"},\"type\":\"carpet\"}],\"choropleth\":[{\"colorbar\":{\"outlinewidth\":0,\"ticks\":\"\"},\"type\":\"choropleth\"}],\"contour\":[{\"colorbar\":{\"outlinewidth\":0,\"ticks\":\"\"},\"colorscale\":[[0.0,\"#0d0887\"],[0.1111111111111111,\"#46039f\"],[0.2222222222222222,\"#7201a8\"],[0.3333333333333333,\"#9c179e\"],[0.4444444444444444,\"#bd3786\"],[0.5555555555555556,\"#d8576b\"],[0.6666666666666666,\"#ed7953\"],[0.7777777777777778,\"#fb9f3a\"],[0.8888888888888888,\"#fdca26\"],[1.0,\"#f0f921\"]],\"type\":\"contour\"}],\"contourcarpet\":[{\"colorbar\":{\"outlinewidth\":0,\"ticks\":\"\"},\"type\":\"contourcarpet\"}],\"heatmap\":[{\"colorbar\":{\"outlinewidth\":0,\"ticks\":\"\"},\"colorscale\":[[0.0,\"#0d0887\"],[0.1111111111111111,\"#46039f\"],[0.2222222222222222,\"#7201a8\"],[0.3333333333333333,\"#9c179e\"],[0.4444444444444444,\"#bd3786\"],[0.5555555555555556,\"#d8576b\"],[0.6666666666666666,\"#ed7953\"],[0.7777777777777778,\"#fb9f3a\"],[0.8888888888888888,\"#fdca26\"],[1.0,\"#f0f921\"]],\"type\":\"heatmap\"}],\"heatmapgl\":[{\"colorbar\":{\"outlinewidth\":0,\"ticks\":\"\"},\"colorscale\":[[0.0,\"#0d0887\"],[0.1111111111111111,\"#46039f\"],[0.2222222222222222,\"#7201a8\"],[0.3333333333333333,\"#9c179e\"],[0.4444444444444444,\"#bd3786\"],[0.5555555555555556,\"#d8576b\"],[0.6666666666666666,\"#ed7953\"],[0.7777777777777778,\"#fb9f3a\"],[0.8888888888888888,\"#fdca26\"],[1.0,\"#f0f921\"]],\"type\":\"heatmapgl\"}],\"histogram\":[{\"marker\":{\"pattern\":{\"fillmode\":\"overlay\",\"size\":10,\"solidity\":0.2}},\"type\":\"histogram\"}],\"histogram2d\":[{\"colorbar\":{\"outlinewidth\":0,\"ticks\":\"\"},\"colorscale\":[[0.0,\"#0d0887\"],[0.1111111111111111,\"#46039f\"],[0.2222222222222222,\"#7201a8\"],[0.3333333333333333,\"#9c179e\"],[0.4444444444444444,\"#bd3786\"],[0.5555555555555556,\"#d8576b\"],[0.6666666666666666,\"#ed7953\"],[0.7777777777777778,\"#fb9f3a\"],[0.8888888888888888,\"#fdca26\"],[1.0,\"#f0f921\"]],\"type\":\"histogram2d\"}],\"histogram2dcontour\":[{\"colorbar\":{\"outlinewidth\":0,\"ticks\":\"\"},\"colorscale\":[[0.0,\"#0d0887\"],[0.1111111111111111,\"#46039f\"],[0.2222222222222222,\"#7201a8\"],[0.3333333333333333,\"#9c179e\"],[0.4444444444444444,\"#bd3786\"],[0.5555555555555556,\"#d8576b\"],[0.6666666666666666,\"#ed7953\"],[0.7777777777777778,\"#fb9f3a\"],[0.8888888888888888,\"#fdca26\"],[1.0,\"#f0f921\"]],\"type\":\"histogram2dcontour\"}],\"mesh3d\":[{\"colorbar\":{\"outlinewidth\":0,\"ticks\":\"\"},\"type\":\"mesh3d\"}],\"parcoords\":[{\"line\":{\"colorbar\":{\"outlinewidth\":0,\"ticks\":\"\"}},\"type\":\"parcoords\"}],\"pie\":[{\"automargin\":true,\"type\":\"pie\"}],\"scatter\":[{\"marker\":{\"colorbar\":{\"outlinewidth\":0,\"ticks\":\"\"}},\"type\":\"scatter\"}],\"scatter3d\":[{\"line\":{\"colorbar\":{\"outlinewidth\":0,\"ticks\":\"\"}},\"marker\":{\"colorbar\":{\"outlinewidth\":0,\"ticks\":\"\"}},\"type\":\"scatter3d\"}],\"scattercarpet\":[{\"marker\":{\"colorbar\":{\"outlinewidth\":0,\"ticks\":\"\"}},\"type\":\"scattercarpet\"}],\"scattergeo\":[{\"marker\":{\"colorbar\":{\"outlinewidth\":0,\"ticks\":\"\"}},\"type\":\"scattergeo\"}],\"scattergl\":[{\"marker\":{\"colorbar\":{\"outlinewidth\":0,\"ticks\":\"\"}},\"type\":\"scattergl\"}],\"scattermapbox\":[{\"marker\":{\"colorbar\":{\"outlinewidth\":0,\"ticks\":\"\"}},\"type\":\"scattermapbox\"}],\"scatterpolar\":[{\"marker\":{\"colorbar\":{\"outlinewidth\":0,\"ticks\":\"\"}},\"type\":\"scatterpolar\"}],\"scatterpolargl\":[{\"marker\":{\"colorbar\":{\"outlinewidth\":0,\"ticks\":\"\"}},\"type\":\"scatterpolargl\"}],\"scatterternary\":[{\"marker\":{\"colorbar\":{\"outlinewidth\":0,\"ticks\":\"\"}},\"type\":\"scatterternary\"}],\"surface\":[{\"colorbar\":{\"outlinewidth\":0,\"ticks\":\"\"},\"colorscale\":[[0.0,\"#0d0887\"],[0.1111111111111111,\"#46039f\"],[0.2222222222222222,\"#7201a8\"],[0.3333333333333333,\"#9c179e\"],[0.4444444444444444,\"#bd3786\"],[0.5555555555555556,\"#d8576b\"],[0.6666666666666666,\"#ed7953\"],[0.7777777777777778,\"#fb9f3a\"],[0.8888888888888888,\"#fdca26\"],[1.0,\"#f0f921\"]],\"type\":\"surface\"}],\"table\":[{\"cells\":{\"fill\":{\"color\":\"#EBF0F8\"},\"line\":{\"color\":\"white\"}},\"header\":{\"fill\":{\"color\":\"#C8D4E3\"},\"line\":{\"color\":\"white\"}},\"type\":\"table\"}]},\"layout\":{\"annotationdefaults\":{\"arrowcolor\":\"#2a3f5f\",\"arrowhead\":0,\"arrowwidth\":1},\"autotypenumbers\":\"strict\",\"coloraxis\":{\"colorbar\":{\"outlinewidth\":0,\"ticks\":\"\"}},\"colorscale\":{\"diverging\":[[0,\"#8e0152\"],[0.1,\"#c51b7d\"],[0.2,\"#de77ae\"],[0.3,\"#f1b6da\"],[0.4,\"#fde0ef\"],[0.5,\"#f7f7f7\"],[0.6,\"#e6f5d0\"],[0.7,\"#b8e186\"],[0.8,\"#7fbc41\"],[0.9,\"#4d9221\"],[1,\"#276419\"]],\"sequential\":[[0.0,\"#0d0887\"],[0.1111111111111111,\"#46039f\"],[0.2222222222222222,\"#7201a8\"],[0.3333333333333333,\"#9c179e\"],[0.4444444444444444,\"#bd3786\"],[0.5555555555555556,\"#d8576b\"],[0.6666666666666666,\"#ed7953\"],[0.7777777777777778,\"#fb9f3a\"],[0.8888888888888888,\"#fdca26\"],[1.0,\"#f0f921\"]],\"sequentialminus\":[[0.0,\"#0d0887\"],[0.1111111111111111,\"#46039f\"],[0.2222222222222222,\"#7201a8\"],[0.3333333333333333,\"#9c179e\"],[0.4444444444444444,\"#bd3786\"],[0.5555555555555556,\"#d8576b\"],[0.6666666666666666,\"#ed7953\"],[0.7777777777777778,\"#fb9f3a\"],[0.8888888888888888,\"#fdca26\"],[1.0,\"#f0f921\"]]},\"colorway\":[\"#636efa\",\"#EF553B\",\"#00cc96\",\"#ab63fa\",\"#FFA15A\",\"#19d3f3\",\"#FF6692\",\"#B6E880\",\"#FF97FF\",\"#FECB52\"],\"font\":{\"color\":\"#2a3f5f\"},\"geo\":{\"bgcolor\":\"white\",\"lakecolor\":\"white\",\"landcolor\":\"#E5ECF6\",\"showlakes\":true,\"showland\":true,\"subunitcolor\":\"white\"},\"hoverlabel\":{\"align\":\"left\"},\"hovermode\":\"closest\",\"mapbox\":{\"style\":\"light\"},\"paper_bgcolor\":\"white\",\"plot_bgcolor\":\"#E5ECF6\",\"polar\":{\"angularaxis\":{\"gridcolor\":\"white\",\"linecolor\":\"white\",\"ticks\":\"\"},\"bgcolor\":\"#E5ECF6\",\"radialaxis\":{\"gridcolor\":\"white\",\"linecolor\":\"white\",\"ticks\":\"\"}},\"scene\":{\"xaxis\":{\"backgroundcolor\":\"#E5ECF6\",\"gridcolor\":\"white\",\"gridwidth\":2,\"linecolor\":\"white\",\"showbackground\":true,\"ticks\":\"\",\"zerolinecolor\":\"white\"},\"yaxis\":{\"backgroundcolor\":\"#E5ECF6\",\"gridcolor\":\"white\",\"gridwidth\":2,\"linecolor\":\"white\",\"showbackground\":true,\"ticks\":\"\",\"zerolinecolor\":\"white\"},\"zaxis\":{\"backgroundcolor\":\"#E5ECF6\",\"gridcolor\":\"white\",\"gridwidth\":2,\"linecolor\":\"white\",\"showbackground\":true,\"ticks\":\"\",\"zerolinecolor\":\"white\"}},\"shapedefaults\":{\"line\":{\"color\":\"#2a3f5f\"}},\"ternary\":{\"aaxis\":{\"gridcolor\":\"white\",\"linecolor\":\"white\",\"ticks\":\"\"},\"baxis\":{\"gridcolor\":\"white\",\"linecolor\":\"white\",\"ticks\":\"\"},\"bgcolor\":\"#E5ECF6\",\"caxis\":{\"gridcolor\":\"white\",\"linecolor\":\"white\",\"ticks\":\"\"}},\"title\":{\"x\":0.05},\"xaxis\":{\"automargin\":true,\"gridcolor\":\"white\",\"linecolor\":\"white\",\"ticks\":\"\",\"title\":{\"standoff\":15},\"zerolinecolor\":\"white\",\"zerolinewidth\":2},\"yaxis\":{\"automargin\":true,\"gridcolor\":\"white\",\"linecolor\":\"white\",\"ticks\":\"\",\"title\":{\"standoff\":15},\"zerolinecolor\":\"white\",\"zerolinewidth\":2}}},\"annotations\":[{\"align\":\"center\",\"font\":{\"size\":12},\"showarrow\":false,\"text\":\"Positive behavioral observations indicating good behavior and focus.\",\"x\":1.01,\"y\":0.6},{\"align\":\"center\",\"font\":{\"size\":12},\"showarrow\":false,\"text\":\"Challenges in verbal reasoning and forming concepts.\",\"x\":0.5,\"y\":0.03}],\"margin\":{\"l\":50,\"r\":50,\"b\":50,\"t\":50},\"title\":{\"text\":\"Student Performance Summary\"},\"autosize\":false,\"width\":1000,\"height\":800},                        {\"responsive\": true}                    ).then(function(){\n",
       "                            \n",
       "var gd = document.getElementById('e8b0bac9-c17e-4b09-8389-4fcf74fdf10d');\n",
       "var x = new MutationObserver(function (mutations, observer) {{\n",
       "        var display = window.getComputedStyle(gd).display;\n",
       "        if (!display || display === 'none') {{\n",
       "            console.log([gd, 'removed!']);\n",
       "            Plotly.purge(gd);\n",
       "            observer.disconnect();\n",
       "        }}\n",
       "}});\n",
       "\n",
       "// Listen for the removal of the full notebook cells\n",
       "var notebookContainer = gd.closest('#notebook-container');\n",
       "if (notebookContainer) {{\n",
       "    x.observe(notebookContainer, {childList: true});\n",
       "}}\n",
       "\n",
       "// Listen for the clearing of the current output cell\n",
       "var outputEl = gd.closest('.output');\n",
       "if (outputEl) {{\n",
       "    x.observe(outputEl, {childList: true});\n",
       "}}\n",
       "\n",
       "                        })                };                });            </script>        </div>"
      ]
     },
     "metadata": {},
     "output_type": "display_data"
    }
   ],
   "source": [
    "import plotly.graph_objects as go\n",
    "\n",
    "# Function to determine the color based on the percentile\n",
    "def get_color(value):\n",
    "    if value < 50:\n",
    "        return f\"rgb({255}, {int((value / 50) * 255)}, 0)\"\n",
    "    else:\n",
    "        return f\"rgb({int((1 - (value - 50) / 50) * 255)}, 255, 0)\"\n",
    "\n",
    "# Data for displaying results\n",
    "result_text = f\"Prediction: {prediction_label}<br>Overall Percentile: {overall_percentile:.2f}\"\n",
    "best_text = f\"Best Attribute: {best_attribute} (Percentile: {best_attribute_percentile:.2f})\"\n",
    "best_desc = best_attribute_description\n",
    "worst_text = f\"Worst Attribute: {worst_attribute} (Percentile: {worst_attribute_percentile:.2f})\"\n",
    "worst_desc = worst_attribute_description\n",
    "\n",
    "# Create a radial gauge for percentiles\n",
    "fig = go.Figure()\n",
    "\n",
    "# Overall Percentile Gauge\n",
    "fig.add_trace(go.Indicator(\n",
    "    mode=\"gauge+number\",\n",
    "    value=overall_percentile,\n",
    "    title={'text': \"Overall Percentile\"},\n",
    "    gauge={\n",
    "        'axis': {'range': [0, 100]},\n",
    "        'bar': {'color': get_color(overall_percentile)},\n",
    "        'steps': [\n",
    "            {'range': [0, 20], 'color': 'rgba(255, 0, 0, 0.1)'},\n",
    "            {'range': [20, 40], 'color': 'rgba(255, 165, 0, 0.1)'},\n",
    "            {'range': [40, 60], 'color': 'rgba(255, 255, 0, 0.1)'},\n",
    "            {'range': [60, 80], 'color': 'rgba(173, 255, 47, 0.1)'},\n",
    "            {'range': [80, 100], 'color': 'rgba(0, 255, 0, 0.1)'}\n",
    "        ]\n",
    "    },\n",
    "    domain={'x': [0, 0.4], 'y': [0.5, 1]}\n",
    "))\n",
    "\n",
    "# Best Attribute Gauge\n",
    "fig.add_trace(go.Indicator(\n",
    "    mode=\"gauge+number\",\n",
    "    value=best_attribute_percentile,\n",
    "    title={'text': f\"Best Attribute: {best_attribute}\"},\n",
    "    gauge={\n",
    "        'axis': {'range': [0, 100]},\n",
    "        'bar': {'color': get_color(best_attribute_percentile)},\n",
    "        'steps': [\n",
    "            {'range': [0, 20], 'color': 'rgba(255, 0, 0, 0.1)'},\n",
    "            {'range': [20, 40], 'color': 'rgba(255, 165, 0, 0.1)'},\n",
    "            {'range': [40, 60], 'color': 'rgba(255, 255, 0, 0.1)'},\n",
    "            {'range': [60, 80], 'color': 'rgba(173, 255, 47, 0.1)'},\n",
    "            {'range': [80, 100], 'color': 'rgba(0, 255, 0, 0.1)'}\n",
    "        ]\n",
    "    },\n",
    "    domain={'x': [0.6, 1], 'y': [0.5, 1]}\n",
    "))\n",
    "\n",
    "# Worst Attribute Gauge\n",
    "fig.add_trace(go.Indicator(\n",
    "    mode=\"gauge+number\",\n",
    "    value=worst_attribute_percentile,\n",
    "    title={'text': f\"Worst Attribute: {worst_attribute}\"},\n",
    "    gauge={\n",
    "        'axis': {'range': [0, 100]},\n",
    "        'bar': {'color': get_color(worst_attribute_percentile)},\n",
    "        'steps': [\n",
    "            {'range': [0, 20], 'color': 'rgba(255, 0, 0, 0.1)'},\n",
    "            {'range': [20, 40], 'color': 'rgba(255, 165, 0, 0.1)'},\n",
    "            {'range': [40, 60], 'color': 'rgba(255, 255, 0, 0.1)'},\n",
    "            {'range': [60, 80], 'color': 'rgba(173, 255, 47, 0.1)'},\n",
    "            {'range': [80, 100], 'color': 'rgba(0, 255, 0, 0.1)'}\n",
    "        ]\n",
    "    },\n",
    "    domain={'x': [0.3, 0.7], 'y': [0, 0.4]}\n",
    "))\n",
    "\n",
    "fig.add_annotation(\n",
    "    x=1.01, y=0.6,\n",
    "    text=best_desc,\n",
    "    showarrow=False,\n",
    "    font=dict(size=12),\n",
    "    align=\"center\"\n",
    ")\n",
    "\n",
    "fig.add_annotation(\n",
    "    x=0.5, y=0.03,\n",
    "    text=worst_desc,\n",
    "    showarrow=False,\n",
    "    font=dict(size=12),\n",
    "    align=\"center\"\n",
    ")\n",
    "\n",
    "# Update layout\n",
    "fig.update_layout(\n",
    "    title='Student Performance Summary',\n",
    "    autosize=False,\n",
    "    width=1000,\n",
    "    height=800,\n",
    "    margin=dict(l=50, r=50, b=50, t=50),\n",
    ")\n",
    "\n",
    "# Show the plot\n",
    "fig.show()\n"
   ]
  },
  {
   "cell_type": "code",
   "execution_count": 58,
   "id": "fe8361bc",
   "metadata": {},
   "outputs": [
    {
     "data": {
      "application/vnd.plotly.v1+json": {
       "config": {
        "plotlyServerURL": "https://plot.ly"
       },
       "data": [
        {
         "domain": {
          "x": [
           0,
           0.4
          ],
          "y": [
           0.5,
           1
          ]
         },
         "gauge": {
          "axis": {
           "range": [
            0,
            100
           ]
          },
          "bar": {
           "color": "rgb(241, 255, 0)"
          },
          "steps": [
           {
            "color": "rgba(255, 0, 0, 0.3)",
            "range": [
             0,
             1
            ]
           },
           {
            "color": "rgba(255, 5, 0, 0.3)",
            "range": [
             1,
             2
            ]
           },
           {
            "color": "rgba(255, 10, 0, 0.3)",
            "range": [
             2,
             3
            ]
           },
           {
            "color": "rgba(255, 15, 0, 0.3)",
            "range": [
             3,
             4
            ]
           },
           {
            "color": "rgba(255, 20, 0, 0.3)",
            "range": [
             4,
             5
            ]
           },
           {
            "color": "rgba(255, 25, 0, 0.3)",
            "range": [
             5,
             6
            ]
           },
           {
            "color": "rgba(255, 30, 0, 0.3)",
            "range": [
             6,
             7
            ]
           },
           {
            "color": "rgba(255, 35, 0, 0.3)",
            "range": [
             7,
             8
            ]
           },
           {
            "color": "rgba(255, 40, 0, 0.3)",
            "range": [
             8,
             9
            ]
           },
           {
            "color": "rgba(255, 45, 0, 0.3)",
            "range": [
             9,
             10
            ]
           },
           {
            "color": "rgba(255, 51, 0, 0.3)",
            "range": [
             10,
             11
            ]
           },
           {
            "color": "rgba(255, 56, 0, 0.3)",
            "range": [
             11,
             12
            ]
           },
           {
            "color": "rgba(255, 61, 0, 0.3)",
            "range": [
             12,
             13
            ]
           },
           {
            "color": "rgba(255, 66, 0, 0.3)",
            "range": [
             13,
             14
            ]
           },
           {
            "color": "rgba(255, 71, 0, 0.3)",
            "range": [
             14,
             15
            ]
           },
           {
            "color": "rgba(255, 76, 0, 0.3)",
            "range": [
             15,
             16
            ]
           },
           {
            "color": "rgba(255, 81, 0, 0.3)",
            "range": [
             16,
             17
            ]
           },
           {
            "color": "rgba(255, 86, 0, 0.3)",
            "range": [
             17,
             18
            ]
           },
           {
            "color": "rgba(255, 91, 0, 0.3)",
            "range": [
             18,
             19
            ]
           },
           {
            "color": "rgba(255, 96, 0, 0.3)",
            "range": [
             19,
             20
            ]
           },
           {
            "color": "rgba(255, 102, 0, 0.3)",
            "range": [
             20,
             21
            ]
           },
           {
            "color": "rgba(255, 107, 0, 0.3)",
            "range": [
             21,
             22
            ]
           },
           {
            "color": "rgba(255, 112, 0, 0.3)",
            "range": [
             22,
             23
            ]
           },
           {
            "color": "rgba(255, 117, 0, 0.3)",
            "range": [
             23,
             24
            ]
           },
           {
            "color": "rgba(255, 122, 0, 0.3)",
            "range": [
             24,
             25
            ]
           },
           {
            "color": "rgba(255, 127, 0, 0.3)",
            "range": [
             25,
             26
            ]
           },
           {
            "color": "rgba(255, 132, 0, 0.3)",
            "range": [
             26,
             27
            ]
           },
           {
            "color": "rgba(255, 137, 0, 0.3)",
            "range": [
             27,
             28
            ]
           },
           {
            "color": "rgba(255, 142, 0, 0.3)",
            "range": [
             28,
             29
            ]
           },
           {
            "color": "rgba(255, 147, 0, 0.3)",
            "range": [
             29,
             30
            ]
           },
           {
            "color": "rgba(255, 153, 0, 0.3)",
            "range": [
             30,
             31
            ]
           },
           {
            "color": "rgba(255, 158, 0, 0.3)",
            "range": [
             31,
             32
            ]
           },
           {
            "color": "rgba(255, 163, 0, 0.3)",
            "range": [
             32,
             33
            ]
           },
           {
            "color": "rgba(255, 168, 0, 0.3)",
            "range": [
             33,
             34
            ]
           },
           {
            "color": "rgba(255, 173, 0, 0.3)",
            "range": [
             34,
             35
            ]
           },
           {
            "color": "rgba(255, 178, 0, 0.3)",
            "range": [
             35,
             36
            ]
           },
           {
            "color": "rgba(255, 183, 0, 0.3)",
            "range": [
             36,
             37
            ]
           },
           {
            "color": "rgba(255, 188, 0, 0.3)",
            "range": [
             37,
             38
            ]
           },
           {
            "color": "rgba(255, 193, 0, 0.3)",
            "range": [
             38,
             39
            ]
           },
           {
            "color": "rgba(255, 198, 0, 0.3)",
            "range": [
             39,
             40
            ]
           },
           {
            "color": "rgba(255, 204, 0, 0.3)",
            "range": [
             40,
             41
            ]
           },
           {
            "color": "rgba(255, 209, 0, 0.3)",
            "range": [
             41,
             42
            ]
           },
           {
            "color": "rgba(255, 214, 0, 0.3)",
            "range": [
             42,
             43
            ]
           },
           {
            "color": "rgba(255, 219, 0, 0.3)",
            "range": [
             43,
             44
            ]
           },
           {
            "color": "rgba(255, 224, 0, 0.3)",
            "range": [
             44,
             45
            ]
           },
           {
            "color": "rgba(255, 229, 0, 0.3)",
            "range": [
             45,
             46
            ]
           },
           {
            "color": "rgba(255, 234, 0, 0.3)",
            "range": [
             46,
             47
            ]
           },
           {
            "color": "rgba(255, 239, 0, 0.3)",
            "range": [
             47,
             48
            ]
           },
           {
            "color": "rgba(255, 244, 0, 0.3)",
            "range": [
             48,
             49
            ]
           },
           {
            "color": "rgba(255, 249, 0, 0.3)",
            "range": [
             49,
             50
            ]
           },
           {
            "color": "rgba(255, 255, 0, 0.3)",
            "range": [
             50,
             51
            ]
           },
           {
            "color": "rgba(249, 255, 0, 0.3)",
            "range": [
             51,
             52
            ]
           },
           {
            "color": "rgba(244, 255, 0, 0.3)",
            "range": [
             52,
             53
            ]
           },
           {
            "color": "rgba(239, 255, 0, 0.3)",
            "range": [
             53,
             54
            ]
           },
           {
            "color": "rgba(234, 255, 0, 0.3)",
            "range": [
             54,
             55
            ]
           },
           {
            "color": "rgba(229, 255, 0, 0.3)",
            "range": [
             55,
             56
            ]
           },
           {
            "color": "rgba(224, 255, 0, 0.3)",
            "range": [
             56,
             57
            ]
           },
           {
            "color": "rgba(219, 255, 0, 0.3)",
            "range": [
             57,
             58
            ]
           },
           {
            "color": "rgba(214, 255, 0, 0.3)",
            "range": [
             58,
             59
            ]
           },
           {
            "color": "rgba(209, 255, 0, 0.3)",
            "range": [
             59,
             60
            ]
           },
           {
            "color": "rgba(204, 255, 0, 0.3)",
            "range": [
             60,
             61
            ]
           },
           {
            "color": "rgba(198, 255, 0, 0.3)",
            "range": [
             61,
             62
            ]
           },
           {
            "color": "rgba(193, 255, 0, 0.3)",
            "range": [
             62,
             63
            ]
           },
           {
            "color": "rgba(188, 255, 0, 0.3)",
            "range": [
             63,
             64
            ]
           },
           {
            "color": "rgba(183, 255, 0, 0.3)",
            "range": [
             64,
             65
            ]
           },
           {
            "color": "rgba(178, 255, 0, 0.3)",
            "range": [
             65,
             66
            ]
           },
           {
            "color": "rgba(173, 255, 0, 0.3)",
            "range": [
             66,
             67
            ]
           },
           {
            "color": "rgba(168, 255, 0, 0.3)",
            "range": [
             67,
             68
            ]
           },
           {
            "color": "rgba(163, 255, 0, 0.3)",
            "range": [
             68,
             69
            ]
           },
           {
            "color": "rgba(158, 255, 0, 0.3)",
            "range": [
             69,
             70
            ]
           },
           {
            "color": "rgba(153, 255, 0, 0.3)",
            "range": [
             70,
             71
            ]
           },
           {
            "color": "rgba(147, 255, 0, 0.3)",
            "range": [
             71,
             72
            ]
           },
           {
            "color": "rgba(142, 255, 0, 0.3)",
            "range": [
             72,
             73
            ]
           },
           {
            "color": "rgba(137, 255, 0, 0.3)",
            "range": [
             73,
             74
            ]
           },
           {
            "color": "rgba(132, 255, 0, 0.3)",
            "range": [
             74,
             75
            ]
           },
           {
            "color": "rgba(127, 255, 0, 0.3)",
            "range": [
             75,
             76
            ]
           },
           {
            "color": "rgba(122, 255, 0, 0.3)",
            "range": [
             76,
             77
            ]
           },
           {
            "color": "rgba(117, 255, 0, 0.3)",
            "range": [
             77,
             78
            ]
           },
           {
            "color": "rgba(112, 255, 0, 0.3)",
            "range": [
             78,
             79
            ]
           },
           {
            "color": "rgba(107, 255, 0, 0.3)",
            "range": [
             79,
             80
            ]
           },
           {
            "color": "rgba(102, 255, 0, 0.3)",
            "range": [
             80,
             81
            ]
           },
           {
            "color": "rgba(96, 255, 0, 0.3)",
            "range": [
             81,
             82
            ]
           },
           {
            "color": "rgba(91, 255, 0, 0.3)",
            "range": [
             82,
             83
            ]
           },
           {
            "color": "rgba(86, 255, 0, 0.3)",
            "range": [
             83,
             84
            ]
           },
           {
            "color": "rgba(81, 255, 0, 0.3)",
            "range": [
             84,
             85
            ]
           },
           {
            "color": "rgba(76, 255, 0, 0.3)",
            "range": [
             85,
             86
            ]
           },
           {
            "color": "rgba(71, 255, 0, 0.3)",
            "range": [
             86,
             87
            ]
           },
           {
            "color": "rgba(66, 255, 0, 0.3)",
            "range": [
             87,
             88
            ]
           },
           {
            "color": "rgba(61, 255, 0, 0.3)",
            "range": [
             88,
             89
            ]
           },
           {
            "color": "rgba(56, 255, 0, 0.3)",
            "range": [
             89,
             90
            ]
           },
           {
            "color": "rgba(50, 255, 0, 0.3)",
            "range": [
             90,
             91
            ]
           },
           {
            "color": "rgba(45, 255, 0, 0.3)",
            "range": [
             91,
             92
            ]
           },
           {
            "color": "rgba(40, 255, 0, 0.3)",
            "range": [
             92,
             93
            ]
           },
           {
            "color": "rgba(35, 255, 0, 0.3)",
            "range": [
             93,
             94
            ]
           },
           {
            "color": "rgba(30, 255, 0, 0.3)",
            "range": [
             94,
             95
            ]
           },
           {
            "color": "rgba(25, 255, 0, 0.3)",
            "range": [
             95,
             96
            ]
           },
           {
            "color": "rgba(20, 255, 0, 0.3)",
            "range": [
             96,
             97
            ]
           },
           {
            "color": "rgba(15, 255, 0, 0.3)",
            "range": [
             97,
             98
            ]
           },
           {
            "color": "rgba(10, 255, 0, 0.3)",
            "range": [
             98,
             99
            ]
           },
           {
            "color": "rgba(5, 255, 0, 0.3)",
            "range": [
             99,
             100
            ]
           }
          ]
         },
         "mode": "gauge+number",
         "title": {
          "text": "Overall Percentile"
         },
         "type": "indicator",
         "value": 52.63157894736842
        },
        {
         "domain": {
          "x": [
           0.6,
           1
          ],
          "y": [
           0.5,
           1
          ]
         },
         "gauge": {
          "axis": {
           "range": [
            0,
            100
           ]
          },
          "bar": {
           "color": "rgb(0, 255, 0)"
          },
          "steps": [
           {
            "color": "rgba(255, 0, 0, 0.3)",
            "range": [
             0,
             1
            ]
           },
           {
            "color": "rgba(255, 5, 0, 0.3)",
            "range": [
             1,
             2
            ]
           },
           {
            "color": "rgba(255, 10, 0, 0.3)",
            "range": [
             2,
             3
            ]
           },
           {
            "color": "rgba(255, 15, 0, 0.3)",
            "range": [
             3,
             4
            ]
           },
           {
            "color": "rgba(255, 20, 0, 0.3)",
            "range": [
             4,
             5
            ]
           },
           {
            "color": "rgba(255, 25, 0, 0.3)",
            "range": [
             5,
             6
            ]
           },
           {
            "color": "rgba(255, 30, 0, 0.3)",
            "range": [
             6,
             7
            ]
           },
           {
            "color": "rgba(255, 35, 0, 0.3)",
            "range": [
             7,
             8
            ]
           },
           {
            "color": "rgba(255, 40, 0, 0.3)",
            "range": [
             8,
             9
            ]
           },
           {
            "color": "rgba(255, 45, 0, 0.3)",
            "range": [
             9,
             10
            ]
           },
           {
            "color": "rgba(255, 51, 0, 0.3)",
            "range": [
             10,
             11
            ]
           },
           {
            "color": "rgba(255, 56, 0, 0.3)",
            "range": [
             11,
             12
            ]
           },
           {
            "color": "rgba(255, 61, 0, 0.3)",
            "range": [
             12,
             13
            ]
           },
           {
            "color": "rgba(255, 66, 0, 0.3)",
            "range": [
             13,
             14
            ]
           },
           {
            "color": "rgba(255, 71, 0, 0.3)",
            "range": [
             14,
             15
            ]
           },
           {
            "color": "rgba(255, 76, 0, 0.3)",
            "range": [
             15,
             16
            ]
           },
           {
            "color": "rgba(255, 81, 0, 0.3)",
            "range": [
             16,
             17
            ]
           },
           {
            "color": "rgba(255, 86, 0, 0.3)",
            "range": [
             17,
             18
            ]
           },
           {
            "color": "rgba(255, 91, 0, 0.3)",
            "range": [
             18,
             19
            ]
           },
           {
            "color": "rgba(255, 96, 0, 0.3)",
            "range": [
             19,
             20
            ]
           },
           {
            "color": "rgba(255, 102, 0, 0.3)",
            "range": [
             20,
             21
            ]
           },
           {
            "color": "rgba(255, 107, 0, 0.3)",
            "range": [
             21,
             22
            ]
           },
           {
            "color": "rgba(255, 112, 0, 0.3)",
            "range": [
             22,
             23
            ]
           },
           {
            "color": "rgba(255, 117, 0, 0.3)",
            "range": [
             23,
             24
            ]
           },
           {
            "color": "rgba(255, 122, 0, 0.3)",
            "range": [
             24,
             25
            ]
           },
           {
            "color": "rgba(255, 127, 0, 0.3)",
            "range": [
             25,
             26
            ]
           },
           {
            "color": "rgba(255, 132, 0, 0.3)",
            "range": [
             26,
             27
            ]
           },
           {
            "color": "rgba(255, 137, 0, 0.3)",
            "range": [
             27,
             28
            ]
           },
           {
            "color": "rgba(255, 142, 0, 0.3)",
            "range": [
             28,
             29
            ]
           },
           {
            "color": "rgba(255, 147, 0, 0.3)",
            "range": [
             29,
             30
            ]
           },
           {
            "color": "rgba(255, 153, 0, 0.3)",
            "range": [
             30,
             31
            ]
           },
           {
            "color": "rgba(255, 158, 0, 0.3)",
            "range": [
             31,
             32
            ]
           },
           {
            "color": "rgba(255, 163, 0, 0.3)",
            "range": [
             32,
             33
            ]
           },
           {
            "color": "rgba(255, 168, 0, 0.3)",
            "range": [
             33,
             34
            ]
           },
           {
            "color": "rgba(255, 173, 0, 0.3)",
            "range": [
             34,
             35
            ]
           },
           {
            "color": "rgba(255, 178, 0, 0.3)",
            "range": [
             35,
             36
            ]
           },
           {
            "color": "rgba(255, 183, 0, 0.3)",
            "range": [
             36,
             37
            ]
           },
           {
            "color": "rgba(255, 188, 0, 0.3)",
            "range": [
             37,
             38
            ]
           },
           {
            "color": "rgba(255, 193, 0, 0.3)",
            "range": [
             38,
             39
            ]
           },
           {
            "color": "rgba(255, 198, 0, 0.3)",
            "range": [
             39,
             40
            ]
           },
           {
            "color": "rgba(255, 204, 0, 0.3)",
            "range": [
             40,
             41
            ]
           },
           {
            "color": "rgba(255, 209, 0, 0.3)",
            "range": [
             41,
             42
            ]
           },
           {
            "color": "rgba(255, 214, 0, 0.3)",
            "range": [
             42,
             43
            ]
           },
           {
            "color": "rgba(255, 219, 0, 0.3)",
            "range": [
             43,
             44
            ]
           },
           {
            "color": "rgba(255, 224, 0, 0.3)",
            "range": [
             44,
             45
            ]
           },
           {
            "color": "rgba(255, 229, 0, 0.3)",
            "range": [
             45,
             46
            ]
           },
           {
            "color": "rgba(255, 234, 0, 0.3)",
            "range": [
             46,
             47
            ]
           },
           {
            "color": "rgba(255, 239, 0, 0.3)",
            "range": [
             47,
             48
            ]
           },
           {
            "color": "rgba(255, 244, 0, 0.3)",
            "range": [
             48,
             49
            ]
           },
           {
            "color": "rgba(255, 249, 0, 0.3)",
            "range": [
             49,
             50
            ]
           },
           {
            "color": "rgba(255, 255, 0, 0.3)",
            "range": [
             50,
             51
            ]
           },
           {
            "color": "rgba(249, 255, 0, 0.3)",
            "range": [
             51,
             52
            ]
           },
           {
            "color": "rgba(244, 255, 0, 0.3)",
            "range": [
             52,
             53
            ]
           },
           {
            "color": "rgba(239, 255, 0, 0.3)",
            "range": [
             53,
             54
            ]
           },
           {
            "color": "rgba(234, 255, 0, 0.3)",
            "range": [
             54,
             55
            ]
           },
           {
            "color": "rgba(229, 255, 0, 0.3)",
            "range": [
             55,
             56
            ]
           },
           {
            "color": "rgba(224, 255, 0, 0.3)",
            "range": [
             56,
             57
            ]
           },
           {
            "color": "rgba(219, 255, 0, 0.3)",
            "range": [
             57,
             58
            ]
           },
           {
            "color": "rgba(214, 255, 0, 0.3)",
            "range": [
             58,
             59
            ]
           },
           {
            "color": "rgba(209, 255, 0, 0.3)",
            "range": [
             59,
             60
            ]
           },
           {
            "color": "rgba(204, 255, 0, 0.3)",
            "range": [
             60,
             61
            ]
           },
           {
            "color": "rgba(198, 255, 0, 0.3)",
            "range": [
             61,
             62
            ]
           },
           {
            "color": "rgba(193, 255, 0, 0.3)",
            "range": [
             62,
             63
            ]
           },
           {
            "color": "rgba(188, 255, 0, 0.3)",
            "range": [
             63,
             64
            ]
           },
           {
            "color": "rgba(183, 255, 0, 0.3)",
            "range": [
             64,
             65
            ]
           },
           {
            "color": "rgba(178, 255, 0, 0.3)",
            "range": [
             65,
             66
            ]
           },
           {
            "color": "rgba(173, 255, 0, 0.3)",
            "range": [
             66,
             67
            ]
           },
           {
            "color": "rgba(168, 255, 0, 0.3)",
            "range": [
             67,
             68
            ]
           },
           {
            "color": "rgba(163, 255, 0, 0.3)",
            "range": [
             68,
             69
            ]
           },
           {
            "color": "rgba(158, 255, 0, 0.3)",
            "range": [
             69,
             70
            ]
           },
           {
            "color": "rgba(153, 255, 0, 0.3)",
            "range": [
             70,
             71
            ]
           },
           {
            "color": "rgba(147, 255, 0, 0.3)",
            "range": [
             71,
             72
            ]
           },
           {
            "color": "rgba(142, 255, 0, 0.3)",
            "range": [
             72,
             73
            ]
           },
           {
            "color": "rgba(137, 255, 0, 0.3)",
            "range": [
             73,
             74
            ]
           },
           {
            "color": "rgba(132, 255, 0, 0.3)",
            "range": [
             74,
             75
            ]
           },
           {
            "color": "rgba(127, 255, 0, 0.3)",
            "range": [
             75,
             76
            ]
           },
           {
            "color": "rgba(122, 255, 0, 0.3)",
            "range": [
             76,
             77
            ]
           },
           {
            "color": "rgba(117, 255, 0, 0.3)",
            "range": [
             77,
             78
            ]
           },
           {
            "color": "rgba(112, 255, 0, 0.3)",
            "range": [
             78,
             79
            ]
           },
           {
            "color": "rgba(107, 255, 0, 0.3)",
            "range": [
             79,
             80
            ]
           },
           {
            "color": "rgba(102, 255, 0, 0.3)",
            "range": [
             80,
             81
            ]
           },
           {
            "color": "rgba(96, 255, 0, 0.3)",
            "range": [
             81,
             82
            ]
           },
           {
            "color": "rgba(91, 255, 0, 0.3)",
            "range": [
             82,
             83
            ]
           },
           {
            "color": "rgba(86, 255, 0, 0.3)",
            "range": [
             83,
             84
            ]
           },
           {
            "color": "rgba(81, 255, 0, 0.3)",
            "range": [
             84,
             85
            ]
           },
           {
            "color": "rgba(76, 255, 0, 0.3)",
            "range": [
             85,
             86
            ]
           },
           {
            "color": "rgba(71, 255, 0, 0.3)",
            "range": [
             86,
             87
            ]
           },
           {
            "color": "rgba(66, 255, 0, 0.3)",
            "range": [
             87,
             88
            ]
           },
           {
            "color": "rgba(61, 255, 0, 0.3)",
            "range": [
             88,
             89
            ]
           },
           {
            "color": "rgba(56, 255, 0, 0.3)",
            "range": [
             89,
             90
            ]
           },
           {
            "color": "rgba(50, 255, 0, 0.3)",
            "range": [
             90,
             91
            ]
           },
           {
            "color": "rgba(45, 255, 0, 0.3)",
            "range": [
             91,
             92
            ]
           },
           {
            "color": "rgba(40, 255, 0, 0.3)",
            "range": [
             92,
             93
            ]
           },
           {
            "color": "rgba(35, 255, 0, 0.3)",
            "range": [
             93,
             94
            ]
           },
           {
            "color": "rgba(30, 255, 0, 0.3)",
            "range": [
             94,
             95
            ]
           },
           {
            "color": "rgba(25, 255, 0, 0.3)",
            "range": [
             95,
             96
            ]
           },
           {
            "color": "rgba(20, 255, 0, 0.3)",
            "range": [
             96,
             97
            ]
           },
           {
            "color": "rgba(15, 255, 0, 0.3)",
            "range": [
             97,
             98
            ]
           },
           {
            "color": "rgba(10, 255, 0, 0.3)",
            "range": [
             98,
             99
            ]
           },
           {
            "color": "rgba(5, 255, 0, 0.3)",
            "range": [
             99,
             100
            ]
           }
          ]
         },
         "mode": "gauge+number",
         "title": {
          "text": "Best Attribute: Behavioral Observations"
         },
         "type": "indicator",
         "value": 100
        },
        {
         "domain": {
          "x": [
           0.3,
           0.7
          ],
          "y": [
           0,
           0.4
          ]
         },
         "gauge": {
          "axis": {
           "range": [
            0,
            100
           ]
          },
          "bar": {
           "color": "rgb(255, 51, 0)"
          },
          "steps": [
           {
            "color": "rgba(255, 0, 0, 0.3)",
            "range": [
             0,
             1
            ]
           },
           {
            "color": "rgba(255, 5, 0, 0.3)",
            "range": [
             1,
             2
            ]
           },
           {
            "color": "rgba(255, 10, 0, 0.3)",
            "range": [
             2,
             3
            ]
           },
           {
            "color": "rgba(255, 15, 0, 0.3)",
            "range": [
             3,
             4
            ]
           },
           {
            "color": "rgba(255, 20, 0, 0.3)",
            "range": [
             4,
             5
            ]
           },
           {
            "color": "rgba(255, 25, 0, 0.3)",
            "range": [
             5,
             6
            ]
           },
           {
            "color": "rgba(255, 30, 0, 0.3)",
            "range": [
             6,
             7
            ]
           },
           {
            "color": "rgba(255, 35, 0, 0.3)",
            "range": [
             7,
             8
            ]
           },
           {
            "color": "rgba(255, 40, 0, 0.3)",
            "range": [
             8,
             9
            ]
           },
           {
            "color": "rgba(255, 45, 0, 0.3)",
            "range": [
             9,
             10
            ]
           },
           {
            "color": "rgba(255, 51, 0, 0.3)",
            "range": [
             10,
             11
            ]
           },
           {
            "color": "rgba(255, 56, 0, 0.3)",
            "range": [
             11,
             12
            ]
           },
           {
            "color": "rgba(255, 61, 0, 0.3)",
            "range": [
             12,
             13
            ]
           },
           {
            "color": "rgba(255, 66, 0, 0.3)",
            "range": [
             13,
             14
            ]
           },
           {
            "color": "rgba(255, 71, 0, 0.3)",
            "range": [
             14,
             15
            ]
           },
           {
            "color": "rgba(255, 76, 0, 0.3)",
            "range": [
             15,
             16
            ]
           },
           {
            "color": "rgba(255, 81, 0, 0.3)",
            "range": [
             16,
             17
            ]
           },
           {
            "color": "rgba(255, 86, 0, 0.3)",
            "range": [
             17,
             18
            ]
           },
           {
            "color": "rgba(255, 91, 0, 0.3)",
            "range": [
             18,
             19
            ]
           },
           {
            "color": "rgba(255, 96, 0, 0.3)",
            "range": [
             19,
             20
            ]
           },
           {
            "color": "rgba(255, 102, 0, 0.3)",
            "range": [
             20,
             21
            ]
           },
           {
            "color": "rgba(255, 107, 0, 0.3)",
            "range": [
             21,
             22
            ]
           },
           {
            "color": "rgba(255, 112, 0, 0.3)",
            "range": [
             22,
             23
            ]
           },
           {
            "color": "rgba(255, 117, 0, 0.3)",
            "range": [
             23,
             24
            ]
           },
           {
            "color": "rgba(255, 122, 0, 0.3)",
            "range": [
             24,
             25
            ]
           },
           {
            "color": "rgba(255, 127, 0, 0.3)",
            "range": [
             25,
             26
            ]
           },
           {
            "color": "rgba(255, 132, 0, 0.3)",
            "range": [
             26,
             27
            ]
           },
           {
            "color": "rgba(255, 137, 0, 0.3)",
            "range": [
             27,
             28
            ]
           },
           {
            "color": "rgba(255, 142, 0, 0.3)",
            "range": [
             28,
             29
            ]
           },
           {
            "color": "rgba(255, 147, 0, 0.3)",
            "range": [
             29,
             30
            ]
           },
           {
            "color": "rgba(255, 153, 0, 0.3)",
            "range": [
             30,
             31
            ]
           },
           {
            "color": "rgba(255, 158, 0, 0.3)",
            "range": [
             31,
             32
            ]
           },
           {
            "color": "rgba(255, 163, 0, 0.3)",
            "range": [
             32,
             33
            ]
           },
           {
            "color": "rgba(255, 168, 0, 0.3)",
            "range": [
             33,
             34
            ]
           },
           {
            "color": "rgba(255, 173, 0, 0.3)",
            "range": [
             34,
             35
            ]
           },
           {
            "color": "rgba(255, 178, 0, 0.3)",
            "range": [
             35,
             36
            ]
           },
           {
            "color": "rgba(255, 183, 0, 0.3)",
            "range": [
             36,
             37
            ]
           },
           {
            "color": "rgba(255, 188, 0, 0.3)",
            "range": [
             37,
             38
            ]
           },
           {
            "color": "rgba(255, 193, 0, 0.3)",
            "range": [
             38,
             39
            ]
           },
           {
            "color": "rgba(255, 198, 0, 0.3)",
            "range": [
             39,
             40
            ]
           },
           {
            "color": "rgba(255, 204, 0, 0.3)",
            "range": [
             40,
             41
            ]
           },
           {
            "color": "rgba(255, 209, 0, 0.3)",
            "range": [
             41,
             42
            ]
           },
           {
            "color": "rgba(255, 214, 0, 0.3)",
            "range": [
             42,
             43
            ]
           },
           {
            "color": "rgba(255, 219, 0, 0.3)",
            "range": [
             43,
             44
            ]
           },
           {
            "color": "rgba(255, 224, 0, 0.3)",
            "range": [
             44,
             45
            ]
           },
           {
            "color": "rgba(255, 229, 0, 0.3)",
            "range": [
             45,
             46
            ]
           },
           {
            "color": "rgba(255, 234, 0, 0.3)",
            "range": [
             46,
             47
            ]
           },
           {
            "color": "rgba(255, 239, 0, 0.3)",
            "range": [
             47,
             48
            ]
           },
           {
            "color": "rgba(255, 244, 0, 0.3)",
            "range": [
             48,
             49
            ]
           },
           {
            "color": "rgba(255, 249, 0, 0.3)",
            "range": [
             49,
             50
            ]
           },
           {
            "color": "rgba(255, 255, 0, 0.3)",
            "range": [
             50,
             51
            ]
           },
           {
            "color": "rgba(249, 255, 0, 0.3)",
            "range": [
             51,
             52
            ]
           },
           {
            "color": "rgba(244, 255, 0, 0.3)",
            "range": [
             52,
             53
            ]
           },
           {
            "color": "rgba(239, 255, 0, 0.3)",
            "range": [
             53,
             54
            ]
           },
           {
            "color": "rgba(234, 255, 0, 0.3)",
            "range": [
             54,
             55
            ]
           },
           {
            "color": "rgba(229, 255, 0, 0.3)",
            "range": [
             55,
             56
            ]
           },
           {
            "color": "rgba(224, 255, 0, 0.3)",
            "range": [
             56,
             57
            ]
           },
           {
            "color": "rgba(219, 255, 0, 0.3)",
            "range": [
             57,
             58
            ]
           },
           {
            "color": "rgba(214, 255, 0, 0.3)",
            "range": [
             58,
             59
            ]
           },
           {
            "color": "rgba(209, 255, 0, 0.3)",
            "range": [
             59,
             60
            ]
           },
           {
            "color": "rgba(204, 255, 0, 0.3)",
            "range": [
             60,
             61
            ]
           },
           {
            "color": "rgba(198, 255, 0, 0.3)",
            "range": [
             61,
             62
            ]
           },
           {
            "color": "rgba(193, 255, 0, 0.3)",
            "range": [
             62,
             63
            ]
           },
           {
            "color": "rgba(188, 255, 0, 0.3)",
            "range": [
             63,
             64
            ]
           },
           {
            "color": "rgba(183, 255, 0, 0.3)",
            "range": [
             64,
             65
            ]
           },
           {
            "color": "rgba(178, 255, 0, 0.3)",
            "range": [
             65,
             66
            ]
           },
           {
            "color": "rgba(173, 255, 0, 0.3)",
            "range": [
             66,
             67
            ]
           },
           {
            "color": "rgba(168, 255, 0, 0.3)",
            "range": [
             67,
             68
            ]
           },
           {
            "color": "rgba(163, 255, 0, 0.3)",
            "range": [
             68,
             69
            ]
           },
           {
            "color": "rgba(158, 255, 0, 0.3)",
            "range": [
             69,
             70
            ]
           },
           {
            "color": "rgba(153, 255, 0, 0.3)",
            "range": [
             70,
             71
            ]
           },
           {
            "color": "rgba(147, 255, 0, 0.3)",
            "range": [
             71,
             72
            ]
           },
           {
            "color": "rgba(142, 255, 0, 0.3)",
            "range": [
             72,
             73
            ]
           },
           {
            "color": "rgba(137, 255, 0, 0.3)",
            "range": [
             73,
             74
            ]
           },
           {
            "color": "rgba(132, 255, 0, 0.3)",
            "range": [
             74,
             75
            ]
           },
           {
            "color": "rgba(127, 255, 0, 0.3)",
            "range": [
             75,
             76
            ]
           },
           {
            "color": "rgba(122, 255, 0, 0.3)",
            "range": [
             76,
             77
            ]
           },
           {
            "color": "rgba(117, 255, 0, 0.3)",
            "range": [
             77,
             78
            ]
           },
           {
            "color": "rgba(112, 255, 0, 0.3)",
            "range": [
             78,
             79
            ]
           },
           {
            "color": "rgba(107, 255, 0, 0.3)",
            "range": [
             79,
             80
            ]
           },
           {
            "color": "rgba(102, 255, 0, 0.3)",
            "range": [
             80,
             81
            ]
           },
           {
            "color": "rgba(96, 255, 0, 0.3)",
            "range": [
             81,
             82
            ]
           },
           {
            "color": "rgba(91, 255, 0, 0.3)",
            "range": [
             82,
             83
            ]
           },
           {
            "color": "rgba(86, 255, 0, 0.3)",
            "range": [
             83,
             84
            ]
           },
           {
            "color": "rgba(81, 255, 0, 0.3)",
            "range": [
             84,
             85
            ]
           },
           {
            "color": "rgba(76, 255, 0, 0.3)",
            "range": [
             85,
             86
            ]
           },
           {
            "color": "rgba(71, 255, 0, 0.3)",
            "range": [
             86,
             87
            ]
           },
           {
            "color": "rgba(66, 255, 0, 0.3)",
            "range": [
             87,
             88
            ]
           },
           {
            "color": "rgba(61, 255, 0, 0.3)",
            "range": [
             88,
             89
            ]
           },
           {
            "color": "rgba(56, 255, 0, 0.3)",
            "range": [
             89,
             90
            ]
           },
           {
            "color": "rgba(50, 255, 0, 0.3)",
            "range": [
             90,
             91
            ]
           },
           {
            "color": "rgba(45, 255, 0, 0.3)",
            "range": [
             91,
             92
            ]
           },
           {
            "color": "rgba(40, 255, 0, 0.3)",
            "range": [
             92,
             93
            ]
           },
           {
            "color": "rgba(35, 255, 0, 0.3)",
            "range": [
             93,
             94
            ]
           },
           {
            "color": "rgba(30, 255, 0, 0.3)",
            "range": [
             94,
             95
            ]
           },
           {
            "color": "rgba(25, 255, 0, 0.3)",
            "range": [
             95,
             96
            ]
           },
           {
            "color": "rgba(20, 255, 0, 0.3)",
            "range": [
             96,
             97
            ]
           },
           {
            "color": "rgba(15, 255, 0, 0.3)",
            "range": [
             97,
             98
            ]
           },
           {
            "color": "rgba(10, 255, 0, 0.3)",
            "range": [
             98,
             99
            ]
           },
           {
            "color": "rgba(5, 255, 0, 0.3)",
            "range": [
             99,
             100
            ]
           }
          ]
         },
         "mode": "gauge+number",
         "title": {
          "text": "Worst Attribute: Similarities"
         },
         "type": "indicator",
         "value": 10
        }
       ],
       "layout": {
        "annotations": [
         {
          "align": "center",
          "font": {
           "size": 12
          },
          "showarrow": false,
          "text": "Positive behavioral observations indicating good behavior and focus.",
          "x": 1.01,
          "y": 0.6
         },
         {
          "align": "center",
          "font": {
           "size": 12
          },
          "showarrow": false,
          "text": "Challenges in verbal reasoning and forming concepts.",
          "x": 0.5,
          "y": 0.03
         },
         {
          "align": "center",
          "bgcolor": "lightyellow",
          "bordercolor": "black",
          "borderpad": 10,
          "borderwidth": 1,
          "font": {
           "color": "black",
           "size": 14
          },
          "opacity": 0.8,
          "showarrow": false,
          "text": "<b>Dyslexia Diagnosis:</b> Mild Dyslexia",
          "x": 0.001,
          "xref": "paper",
          "y": 1.01,
          "yref": "paper"
         }
        ],
        "autosize": false,
        "height": 800,
        "margin": {
         "b": 50,
         "l": 50,
         "r": 50,
         "t": 50
        },
        "template": {
         "data": {
          "bar": [
           {
            "error_x": {
             "color": "#2a3f5f"
            },
            "error_y": {
             "color": "#2a3f5f"
            },
            "marker": {
             "line": {
              "color": "#E5ECF6",
              "width": 0.5
             },
             "pattern": {
              "fillmode": "overlay",
              "size": 10,
              "solidity": 0.2
             }
            },
            "type": "bar"
           }
          ],
          "barpolar": [
           {
            "marker": {
             "line": {
              "color": "#E5ECF6",
              "width": 0.5
             },
             "pattern": {
              "fillmode": "overlay",
              "size": 10,
              "solidity": 0.2
             }
            },
            "type": "barpolar"
           }
          ],
          "carpet": [
           {
            "aaxis": {
             "endlinecolor": "#2a3f5f",
             "gridcolor": "white",
             "linecolor": "white",
             "minorgridcolor": "white",
             "startlinecolor": "#2a3f5f"
            },
            "baxis": {
             "endlinecolor": "#2a3f5f",
             "gridcolor": "white",
             "linecolor": "white",
             "minorgridcolor": "white",
             "startlinecolor": "#2a3f5f"
            },
            "type": "carpet"
           }
          ],
          "choropleth": [
           {
            "colorbar": {
             "outlinewidth": 0,
             "ticks": ""
            },
            "type": "choropleth"
           }
          ],
          "contour": [
           {
            "colorbar": {
             "outlinewidth": 0,
             "ticks": ""
            },
            "colorscale": [
             [
              0,
              "#0d0887"
             ],
             [
              0.1111111111111111,
              "#46039f"
             ],
             [
              0.2222222222222222,
              "#7201a8"
             ],
             [
              0.3333333333333333,
              "#9c179e"
             ],
             [
              0.4444444444444444,
              "#bd3786"
             ],
             [
              0.5555555555555556,
              "#d8576b"
             ],
             [
              0.6666666666666666,
              "#ed7953"
             ],
             [
              0.7777777777777778,
              "#fb9f3a"
             ],
             [
              0.8888888888888888,
              "#fdca26"
             ],
             [
              1,
              "#f0f921"
             ]
            ],
            "type": "contour"
           }
          ],
          "contourcarpet": [
           {
            "colorbar": {
             "outlinewidth": 0,
             "ticks": ""
            },
            "type": "contourcarpet"
           }
          ],
          "heatmap": [
           {
            "colorbar": {
             "outlinewidth": 0,
             "ticks": ""
            },
            "colorscale": [
             [
              0,
              "#0d0887"
             ],
             [
              0.1111111111111111,
              "#46039f"
             ],
             [
              0.2222222222222222,
              "#7201a8"
             ],
             [
              0.3333333333333333,
              "#9c179e"
             ],
             [
              0.4444444444444444,
              "#bd3786"
             ],
             [
              0.5555555555555556,
              "#d8576b"
             ],
             [
              0.6666666666666666,
              "#ed7953"
             ],
             [
              0.7777777777777778,
              "#fb9f3a"
             ],
             [
              0.8888888888888888,
              "#fdca26"
             ],
             [
              1,
              "#f0f921"
             ]
            ],
            "type": "heatmap"
           }
          ],
          "heatmapgl": [
           {
            "colorbar": {
             "outlinewidth": 0,
             "ticks": ""
            },
            "colorscale": [
             [
              0,
              "#0d0887"
             ],
             [
              0.1111111111111111,
              "#46039f"
             ],
             [
              0.2222222222222222,
              "#7201a8"
             ],
             [
              0.3333333333333333,
              "#9c179e"
             ],
             [
              0.4444444444444444,
              "#bd3786"
             ],
             [
              0.5555555555555556,
              "#d8576b"
             ],
             [
              0.6666666666666666,
              "#ed7953"
             ],
             [
              0.7777777777777778,
              "#fb9f3a"
             ],
             [
              0.8888888888888888,
              "#fdca26"
             ],
             [
              1,
              "#f0f921"
             ]
            ],
            "type": "heatmapgl"
           }
          ],
          "histogram": [
           {
            "marker": {
             "pattern": {
              "fillmode": "overlay",
              "size": 10,
              "solidity": 0.2
             }
            },
            "type": "histogram"
           }
          ],
          "histogram2d": [
           {
            "colorbar": {
             "outlinewidth": 0,
             "ticks": ""
            },
            "colorscale": [
             [
              0,
              "#0d0887"
             ],
             [
              0.1111111111111111,
              "#46039f"
             ],
             [
              0.2222222222222222,
              "#7201a8"
             ],
             [
              0.3333333333333333,
              "#9c179e"
             ],
             [
              0.4444444444444444,
              "#bd3786"
             ],
             [
              0.5555555555555556,
              "#d8576b"
             ],
             [
              0.6666666666666666,
              "#ed7953"
             ],
             [
              0.7777777777777778,
              "#fb9f3a"
             ],
             [
              0.8888888888888888,
              "#fdca26"
             ],
             [
              1,
              "#f0f921"
             ]
            ],
            "type": "histogram2d"
           }
          ],
          "histogram2dcontour": [
           {
            "colorbar": {
             "outlinewidth": 0,
             "ticks": ""
            },
            "colorscale": [
             [
              0,
              "#0d0887"
             ],
             [
              0.1111111111111111,
              "#46039f"
             ],
             [
              0.2222222222222222,
              "#7201a8"
             ],
             [
              0.3333333333333333,
              "#9c179e"
             ],
             [
              0.4444444444444444,
              "#bd3786"
             ],
             [
              0.5555555555555556,
              "#d8576b"
             ],
             [
              0.6666666666666666,
              "#ed7953"
             ],
             [
              0.7777777777777778,
              "#fb9f3a"
             ],
             [
              0.8888888888888888,
              "#fdca26"
             ],
             [
              1,
              "#f0f921"
             ]
            ],
            "type": "histogram2dcontour"
           }
          ],
          "mesh3d": [
           {
            "colorbar": {
             "outlinewidth": 0,
             "ticks": ""
            },
            "type": "mesh3d"
           }
          ],
          "parcoords": [
           {
            "line": {
             "colorbar": {
              "outlinewidth": 0,
              "ticks": ""
             }
            },
            "type": "parcoords"
           }
          ],
          "pie": [
           {
            "automargin": true,
            "type": "pie"
           }
          ],
          "scatter": [
           {
            "marker": {
             "colorbar": {
              "outlinewidth": 0,
              "ticks": ""
             }
            },
            "type": "scatter"
           }
          ],
          "scatter3d": [
           {
            "line": {
             "colorbar": {
              "outlinewidth": 0,
              "ticks": ""
             }
            },
            "marker": {
             "colorbar": {
              "outlinewidth": 0,
              "ticks": ""
             }
            },
            "type": "scatter3d"
           }
          ],
          "scattercarpet": [
           {
            "marker": {
             "colorbar": {
              "outlinewidth": 0,
              "ticks": ""
             }
            },
            "type": "scattercarpet"
           }
          ],
          "scattergeo": [
           {
            "marker": {
             "colorbar": {
              "outlinewidth": 0,
              "ticks": ""
             }
            },
            "type": "scattergeo"
           }
          ],
          "scattergl": [
           {
            "marker": {
             "colorbar": {
              "outlinewidth": 0,
              "ticks": ""
             }
            },
            "type": "scattergl"
           }
          ],
          "scattermapbox": [
           {
            "marker": {
             "colorbar": {
              "outlinewidth": 0,
              "ticks": ""
             }
            },
            "type": "scattermapbox"
           }
          ],
          "scatterpolar": [
           {
            "marker": {
             "colorbar": {
              "outlinewidth": 0,
              "ticks": ""
             }
            },
            "type": "scatterpolar"
           }
          ],
          "scatterpolargl": [
           {
            "marker": {
             "colorbar": {
              "outlinewidth": 0,
              "ticks": ""
             }
            },
            "type": "scatterpolargl"
           }
          ],
          "scatterternary": [
           {
            "marker": {
             "colorbar": {
              "outlinewidth": 0,
              "ticks": ""
             }
            },
            "type": "scatterternary"
           }
          ],
          "surface": [
           {
            "colorbar": {
             "outlinewidth": 0,
             "ticks": ""
            },
            "colorscale": [
             [
              0,
              "#0d0887"
             ],
             [
              0.1111111111111111,
              "#46039f"
             ],
             [
              0.2222222222222222,
              "#7201a8"
             ],
             [
              0.3333333333333333,
              "#9c179e"
             ],
             [
              0.4444444444444444,
              "#bd3786"
             ],
             [
              0.5555555555555556,
              "#d8576b"
             ],
             [
              0.6666666666666666,
              "#ed7953"
             ],
             [
              0.7777777777777778,
              "#fb9f3a"
             ],
             [
              0.8888888888888888,
              "#fdca26"
             ],
             [
              1,
              "#f0f921"
             ]
            ],
            "type": "surface"
           }
          ],
          "table": [
           {
            "cells": {
             "fill": {
              "color": "#EBF0F8"
             },
             "line": {
              "color": "white"
             }
            },
            "header": {
             "fill": {
              "color": "#C8D4E3"
             },
             "line": {
              "color": "white"
             }
            },
            "type": "table"
           }
          ]
         },
         "layout": {
          "annotationdefaults": {
           "arrowcolor": "#2a3f5f",
           "arrowhead": 0,
           "arrowwidth": 1
          },
          "autotypenumbers": "strict",
          "coloraxis": {
           "colorbar": {
            "outlinewidth": 0,
            "ticks": ""
           }
          },
          "colorscale": {
           "diverging": [
            [
             0,
             "#8e0152"
            ],
            [
             0.1,
             "#c51b7d"
            ],
            [
             0.2,
             "#de77ae"
            ],
            [
             0.3,
             "#f1b6da"
            ],
            [
             0.4,
             "#fde0ef"
            ],
            [
             0.5,
             "#f7f7f7"
            ],
            [
             0.6,
             "#e6f5d0"
            ],
            [
             0.7,
             "#b8e186"
            ],
            [
             0.8,
             "#7fbc41"
            ],
            [
             0.9,
             "#4d9221"
            ],
            [
             1,
             "#276419"
            ]
           ],
           "sequential": [
            [
             0,
             "#0d0887"
            ],
            [
             0.1111111111111111,
             "#46039f"
            ],
            [
             0.2222222222222222,
             "#7201a8"
            ],
            [
             0.3333333333333333,
             "#9c179e"
            ],
            [
             0.4444444444444444,
             "#bd3786"
            ],
            [
             0.5555555555555556,
             "#d8576b"
            ],
            [
             0.6666666666666666,
             "#ed7953"
            ],
            [
             0.7777777777777778,
             "#fb9f3a"
            ],
            [
             0.8888888888888888,
             "#fdca26"
            ],
            [
             1,
             "#f0f921"
            ]
           ],
           "sequentialminus": [
            [
             0,
             "#0d0887"
            ],
            [
             0.1111111111111111,
             "#46039f"
            ],
            [
             0.2222222222222222,
             "#7201a8"
            ],
            [
             0.3333333333333333,
             "#9c179e"
            ],
            [
             0.4444444444444444,
             "#bd3786"
            ],
            [
             0.5555555555555556,
             "#d8576b"
            ],
            [
             0.6666666666666666,
             "#ed7953"
            ],
            [
             0.7777777777777778,
             "#fb9f3a"
            ],
            [
             0.8888888888888888,
             "#fdca26"
            ],
            [
             1,
             "#f0f921"
            ]
           ]
          },
          "colorway": [
           "#636efa",
           "#EF553B",
           "#00cc96",
           "#ab63fa",
           "#FFA15A",
           "#19d3f3",
           "#FF6692",
           "#B6E880",
           "#FF97FF",
           "#FECB52"
          ],
          "font": {
           "color": "#2a3f5f"
          },
          "geo": {
           "bgcolor": "white",
           "lakecolor": "white",
           "landcolor": "#E5ECF6",
           "showlakes": true,
           "showland": true,
           "subunitcolor": "white"
          },
          "hoverlabel": {
           "align": "left"
          },
          "hovermode": "closest",
          "mapbox": {
           "style": "light"
          },
          "paper_bgcolor": "white",
          "plot_bgcolor": "#E5ECF6",
          "polar": {
           "angularaxis": {
            "gridcolor": "white",
            "linecolor": "white",
            "ticks": ""
           },
           "bgcolor": "#E5ECF6",
           "radialaxis": {
            "gridcolor": "white",
            "linecolor": "white",
            "ticks": ""
           }
          },
          "scene": {
           "xaxis": {
            "backgroundcolor": "#E5ECF6",
            "gridcolor": "white",
            "gridwidth": 2,
            "linecolor": "white",
            "showbackground": true,
            "ticks": "",
            "zerolinecolor": "white"
           },
           "yaxis": {
            "backgroundcolor": "#E5ECF6",
            "gridcolor": "white",
            "gridwidth": 2,
            "linecolor": "white",
            "showbackground": true,
            "ticks": "",
            "zerolinecolor": "white"
           },
           "zaxis": {
            "backgroundcolor": "#E5ECF6",
            "gridcolor": "white",
            "gridwidth": 2,
            "linecolor": "white",
            "showbackground": true,
            "ticks": "",
            "zerolinecolor": "white"
           }
          },
          "shapedefaults": {
           "line": {
            "color": "#2a3f5f"
           }
          },
          "ternary": {
           "aaxis": {
            "gridcolor": "white",
            "linecolor": "white",
            "ticks": ""
           },
           "baxis": {
            "gridcolor": "white",
            "linecolor": "white",
            "ticks": ""
           },
           "bgcolor": "#E5ECF6",
           "caxis": {
            "gridcolor": "white",
            "linecolor": "white",
            "ticks": ""
           }
          },
          "title": {
           "x": 0.05
          },
          "xaxis": {
           "automargin": true,
           "gridcolor": "white",
           "linecolor": "white",
           "ticks": "",
           "title": {
            "standoff": 15
           },
           "zerolinecolor": "white",
           "zerolinewidth": 2
          },
          "yaxis": {
           "automargin": true,
           "gridcolor": "white",
           "linecolor": "white",
           "ticks": "",
           "title": {
            "standoff": 15
           },
           "zerolinecolor": "white",
           "zerolinewidth": 2
          }
         }
        },
        "title": {
         "text": "Student Performance Summary"
        },
        "width": 1000
       }
      },
      "text/html": [
       "<div>                            <div id=\"d9c92f89-0e6c-41b9-8128-f0214d06a970\" class=\"plotly-graph-div\" style=\"height:800px; width:1000px;\"></div>            <script type=\"text/javascript\">                require([\"plotly\"], function(Plotly) {                    window.PLOTLYENV=window.PLOTLYENV || {};                                    if (document.getElementById(\"d9c92f89-0e6c-41b9-8128-f0214d06a970\")) {                    Plotly.newPlot(                        \"d9c92f89-0e6c-41b9-8128-f0214d06a970\",                        [{\"domain\":{\"x\":[0,0.4],\"y\":[0.5,1]},\"gauge\":{\"axis\":{\"range\":[0,100]},\"bar\":{\"color\":\"rgb(241, 255, 0)\"},\"steps\":[{\"color\":\"rgba(255, 0, 0, 0.3)\",\"range\":[0,1]},{\"color\":\"rgba(255, 5, 0, 0.3)\",\"range\":[1,2]},{\"color\":\"rgba(255, 10, 0, 0.3)\",\"range\":[2,3]},{\"color\":\"rgba(255, 15, 0, 0.3)\",\"range\":[3,4]},{\"color\":\"rgba(255, 20, 0, 0.3)\",\"range\":[4,5]},{\"color\":\"rgba(255, 25, 0, 0.3)\",\"range\":[5,6]},{\"color\":\"rgba(255, 30, 0, 0.3)\",\"range\":[6,7]},{\"color\":\"rgba(255, 35, 0, 0.3)\",\"range\":[7,8]},{\"color\":\"rgba(255, 40, 0, 0.3)\",\"range\":[8,9]},{\"color\":\"rgba(255, 45, 0, 0.3)\",\"range\":[9,10]},{\"color\":\"rgba(255, 51, 0, 0.3)\",\"range\":[10,11]},{\"color\":\"rgba(255, 56, 0, 0.3)\",\"range\":[11,12]},{\"color\":\"rgba(255, 61, 0, 0.3)\",\"range\":[12,13]},{\"color\":\"rgba(255, 66, 0, 0.3)\",\"range\":[13,14]},{\"color\":\"rgba(255, 71, 0, 0.3)\",\"range\":[14,15]},{\"color\":\"rgba(255, 76, 0, 0.3)\",\"range\":[15,16]},{\"color\":\"rgba(255, 81, 0, 0.3)\",\"range\":[16,17]},{\"color\":\"rgba(255, 86, 0, 0.3)\",\"range\":[17,18]},{\"color\":\"rgba(255, 91, 0, 0.3)\",\"range\":[18,19]},{\"color\":\"rgba(255, 96, 0, 0.3)\",\"range\":[19,20]},{\"color\":\"rgba(255, 102, 0, 0.3)\",\"range\":[20,21]},{\"color\":\"rgba(255, 107, 0, 0.3)\",\"range\":[21,22]},{\"color\":\"rgba(255, 112, 0, 0.3)\",\"range\":[22,23]},{\"color\":\"rgba(255, 117, 0, 0.3)\",\"range\":[23,24]},{\"color\":\"rgba(255, 122, 0, 0.3)\",\"range\":[24,25]},{\"color\":\"rgba(255, 127, 0, 0.3)\",\"range\":[25,26]},{\"color\":\"rgba(255, 132, 0, 0.3)\",\"range\":[26,27]},{\"color\":\"rgba(255, 137, 0, 0.3)\",\"range\":[27,28]},{\"color\":\"rgba(255, 142, 0, 0.3)\",\"range\":[28,29]},{\"color\":\"rgba(255, 147, 0, 0.3)\",\"range\":[29,30]},{\"color\":\"rgba(255, 153, 0, 0.3)\",\"range\":[30,31]},{\"color\":\"rgba(255, 158, 0, 0.3)\",\"range\":[31,32]},{\"color\":\"rgba(255, 163, 0, 0.3)\",\"range\":[32,33]},{\"color\":\"rgba(255, 168, 0, 0.3)\",\"range\":[33,34]},{\"color\":\"rgba(255, 173, 0, 0.3)\",\"range\":[34,35]},{\"color\":\"rgba(255, 178, 0, 0.3)\",\"range\":[35,36]},{\"color\":\"rgba(255, 183, 0, 0.3)\",\"range\":[36,37]},{\"color\":\"rgba(255, 188, 0, 0.3)\",\"range\":[37,38]},{\"color\":\"rgba(255, 193, 0, 0.3)\",\"range\":[38,39]},{\"color\":\"rgba(255, 198, 0, 0.3)\",\"range\":[39,40]},{\"color\":\"rgba(255, 204, 0, 0.3)\",\"range\":[40,41]},{\"color\":\"rgba(255, 209, 0, 0.3)\",\"range\":[41,42]},{\"color\":\"rgba(255, 214, 0, 0.3)\",\"range\":[42,43]},{\"color\":\"rgba(255, 219, 0, 0.3)\",\"range\":[43,44]},{\"color\":\"rgba(255, 224, 0, 0.3)\",\"range\":[44,45]},{\"color\":\"rgba(255, 229, 0, 0.3)\",\"range\":[45,46]},{\"color\":\"rgba(255, 234, 0, 0.3)\",\"range\":[46,47]},{\"color\":\"rgba(255, 239, 0, 0.3)\",\"range\":[47,48]},{\"color\":\"rgba(255, 244, 0, 0.3)\",\"range\":[48,49]},{\"color\":\"rgba(255, 249, 0, 0.3)\",\"range\":[49,50]},{\"color\":\"rgba(255, 255, 0, 0.3)\",\"range\":[50,51]},{\"color\":\"rgba(249, 255, 0, 0.3)\",\"range\":[51,52]},{\"color\":\"rgba(244, 255, 0, 0.3)\",\"range\":[52,53]},{\"color\":\"rgba(239, 255, 0, 0.3)\",\"range\":[53,54]},{\"color\":\"rgba(234, 255, 0, 0.3)\",\"range\":[54,55]},{\"color\":\"rgba(229, 255, 0, 0.3)\",\"range\":[55,56]},{\"color\":\"rgba(224, 255, 0, 0.3)\",\"range\":[56,57]},{\"color\":\"rgba(219, 255, 0, 0.3)\",\"range\":[57,58]},{\"color\":\"rgba(214, 255, 0, 0.3)\",\"range\":[58,59]},{\"color\":\"rgba(209, 255, 0, 0.3)\",\"range\":[59,60]},{\"color\":\"rgba(204, 255, 0, 0.3)\",\"range\":[60,61]},{\"color\":\"rgba(198, 255, 0, 0.3)\",\"range\":[61,62]},{\"color\":\"rgba(193, 255, 0, 0.3)\",\"range\":[62,63]},{\"color\":\"rgba(188, 255, 0, 0.3)\",\"range\":[63,64]},{\"color\":\"rgba(183, 255, 0, 0.3)\",\"range\":[64,65]},{\"color\":\"rgba(178, 255, 0, 0.3)\",\"range\":[65,66]},{\"color\":\"rgba(173, 255, 0, 0.3)\",\"range\":[66,67]},{\"color\":\"rgba(168, 255, 0, 0.3)\",\"range\":[67,68]},{\"color\":\"rgba(163, 255, 0, 0.3)\",\"range\":[68,69]},{\"color\":\"rgba(158, 255, 0, 0.3)\",\"range\":[69,70]},{\"color\":\"rgba(153, 255, 0, 0.3)\",\"range\":[70,71]},{\"color\":\"rgba(147, 255, 0, 0.3)\",\"range\":[71,72]},{\"color\":\"rgba(142, 255, 0, 0.3)\",\"range\":[72,73]},{\"color\":\"rgba(137, 255, 0, 0.3)\",\"range\":[73,74]},{\"color\":\"rgba(132, 255, 0, 0.3)\",\"range\":[74,75]},{\"color\":\"rgba(127, 255, 0, 0.3)\",\"range\":[75,76]},{\"color\":\"rgba(122, 255, 0, 0.3)\",\"range\":[76,77]},{\"color\":\"rgba(117, 255, 0, 0.3)\",\"range\":[77,78]},{\"color\":\"rgba(112, 255, 0, 0.3)\",\"range\":[78,79]},{\"color\":\"rgba(107, 255, 0, 0.3)\",\"range\":[79,80]},{\"color\":\"rgba(102, 255, 0, 0.3)\",\"range\":[80,81]},{\"color\":\"rgba(96, 255, 0, 0.3)\",\"range\":[81,82]},{\"color\":\"rgba(91, 255, 0, 0.3)\",\"range\":[82,83]},{\"color\":\"rgba(86, 255, 0, 0.3)\",\"range\":[83,84]},{\"color\":\"rgba(81, 255, 0, 0.3)\",\"range\":[84,85]},{\"color\":\"rgba(76, 255, 0, 0.3)\",\"range\":[85,86]},{\"color\":\"rgba(71, 255, 0, 0.3)\",\"range\":[86,87]},{\"color\":\"rgba(66, 255, 0, 0.3)\",\"range\":[87,88]},{\"color\":\"rgba(61, 255, 0, 0.3)\",\"range\":[88,89]},{\"color\":\"rgba(56, 255, 0, 0.3)\",\"range\":[89,90]},{\"color\":\"rgba(50, 255, 0, 0.3)\",\"range\":[90,91]},{\"color\":\"rgba(45, 255, 0, 0.3)\",\"range\":[91,92]},{\"color\":\"rgba(40, 255, 0, 0.3)\",\"range\":[92,93]},{\"color\":\"rgba(35, 255, 0, 0.3)\",\"range\":[93,94]},{\"color\":\"rgba(30, 255, 0, 0.3)\",\"range\":[94,95]},{\"color\":\"rgba(25, 255, 0, 0.3)\",\"range\":[95,96]},{\"color\":\"rgba(20, 255, 0, 0.3)\",\"range\":[96,97]},{\"color\":\"rgba(15, 255, 0, 0.3)\",\"range\":[97,98]},{\"color\":\"rgba(10, 255, 0, 0.3)\",\"range\":[98,99]},{\"color\":\"rgba(5, 255, 0, 0.3)\",\"range\":[99,100]}]},\"mode\":\"gauge+number\",\"title\":{\"text\":\"Overall Percentile\"},\"value\":52.63157894736842,\"type\":\"indicator\"},{\"domain\":{\"x\":[0.6,1],\"y\":[0.5,1]},\"gauge\":{\"axis\":{\"range\":[0,100]},\"bar\":{\"color\":\"rgb(0, 255, 0)\"},\"steps\":[{\"color\":\"rgba(255, 0, 0, 0.3)\",\"range\":[0,1]},{\"color\":\"rgba(255, 5, 0, 0.3)\",\"range\":[1,2]},{\"color\":\"rgba(255, 10, 0, 0.3)\",\"range\":[2,3]},{\"color\":\"rgba(255, 15, 0, 0.3)\",\"range\":[3,4]},{\"color\":\"rgba(255, 20, 0, 0.3)\",\"range\":[4,5]},{\"color\":\"rgba(255, 25, 0, 0.3)\",\"range\":[5,6]},{\"color\":\"rgba(255, 30, 0, 0.3)\",\"range\":[6,7]},{\"color\":\"rgba(255, 35, 0, 0.3)\",\"range\":[7,8]},{\"color\":\"rgba(255, 40, 0, 0.3)\",\"range\":[8,9]},{\"color\":\"rgba(255, 45, 0, 0.3)\",\"range\":[9,10]},{\"color\":\"rgba(255, 51, 0, 0.3)\",\"range\":[10,11]},{\"color\":\"rgba(255, 56, 0, 0.3)\",\"range\":[11,12]},{\"color\":\"rgba(255, 61, 0, 0.3)\",\"range\":[12,13]},{\"color\":\"rgba(255, 66, 0, 0.3)\",\"range\":[13,14]},{\"color\":\"rgba(255, 71, 0, 0.3)\",\"range\":[14,15]},{\"color\":\"rgba(255, 76, 0, 0.3)\",\"range\":[15,16]},{\"color\":\"rgba(255, 81, 0, 0.3)\",\"range\":[16,17]},{\"color\":\"rgba(255, 86, 0, 0.3)\",\"range\":[17,18]},{\"color\":\"rgba(255, 91, 0, 0.3)\",\"range\":[18,19]},{\"color\":\"rgba(255, 96, 0, 0.3)\",\"range\":[19,20]},{\"color\":\"rgba(255, 102, 0, 0.3)\",\"range\":[20,21]},{\"color\":\"rgba(255, 107, 0, 0.3)\",\"range\":[21,22]},{\"color\":\"rgba(255, 112, 0, 0.3)\",\"range\":[22,23]},{\"color\":\"rgba(255, 117, 0, 0.3)\",\"range\":[23,24]},{\"color\":\"rgba(255, 122, 0, 0.3)\",\"range\":[24,25]},{\"color\":\"rgba(255, 127, 0, 0.3)\",\"range\":[25,26]},{\"color\":\"rgba(255, 132, 0, 0.3)\",\"range\":[26,27]},{\"color\":\"rgba(255, 137, 0, 0.3)\",\"range\":[27,28]},{\"color\":\"rgba(255, 142, 0, 0.3)\",\"range\":[28,29]},{\"color\":\"rgba(255, 147, 0, 0.3)\",\"range\":[29,30]},{\"color\":\"rgba(255, 153, 0, 0.3)\",\"range\":[30,31]},{\"color\":\"rgba(255, 158, 0, 0.3)\",\"range\":[31,32]},{\"color\":\"rgba(255, 163, 0, 0.3)\",\"range\":[32,33]},{\"color\":\"rgba(255, 168, 0, 0.3)\",\"range\":[33,34]},{\"color\":\"rgba(255, 173, 0, 0.3)\",\"range\":[34,35]},{\"color\":\"rgba(255, 178, 0, 0.3)\",\"range\":[35,36]},{\"color\":\"rgba(255, 183, 0, 0.3)\",\"range\":[36,37]},{\"color\":\"rgba(255, 188, 0, 0.3)\",\"range\":[37,38]},{\"color\":\"rgba(255, 193, 0, 0.3)\",\"range\":[38,39]},{\"color\":\"rgba(255, 198, 0, 0.3)\",\"range\":[39,40]},{\"color\":\"rgba(255, 204, 0, 0.3)\",\"range\":[40,41]},{\"color\":\"rgba(255, 209, 0, 0.3)\",\"range\":[41,42]},{\"color\":\"rgba(255, 214, 0, 0.3)\",\"range\":[42,43]},{\"color\":\"rgba(255, 219, 0, 0.3)\",\"range\":[43,44]},{\"color\":\"rgba(255, 224, 0, 0.3)\",\"range\":[44,45]},{\"color\":\"rgba(255, 229, 0, 0.3)\",\"range\":[45,46]},{\"color\":\"rgba(255, 234, 0, 0.3)\",\"range\":[46,47]},{\"color\":\"rgba(255, 239, 0, 0.3)\",\"range\":[47,48]},{\"color\":\"rgba(255, 244, 0, 0.3)\",\"range\":[48,49]},{\"color\":\"rgba(255, 249, 0, 0.3)\",\"range\":[49,50]},{\"color\":\"rgba(255, 255, 0, 0.3)\",\"range\":[50,51]},{\"color\":\"rgba(249, 255, 0, 0.3)\",\"range\":[51,52]},{\"color\":\"rgba(244, 255, 0, 0.3)\",\"range\":[52,53]},{\"color\":\"rgba(239, 255, 0, 0.3)\",\"range\":[53,54]},{\"color\":\"rgba(234, 255, 0, 0.3)\",\"range\":[54,55]},{\"color\":\"rgba(229, 255, 0, 0.3)\",\"range\":[55,56]},{\"color\":\"rgba(224, 255, 0, 0.3)\",\"range\":[56,57]},{\"color\":\"rgba(219, 255, 0, 0.3)\",\"range\":[57,58]},{\"color\":\"rgba(214, 255, 0, 0.3)\",\"range\":[58,59]},{\"color\":\"rgba(209, 255, 0, 0.3)\",\"range\":[59,60]},{\"color\":\"rgba(204, 255, 0, 0.3)\",\"range\":[60,61]},{\"color\":\"rgba(198, 255, 0, 0.3)\",\"range\":[61,62]},{\"color\":\"rgba(193, 255, 0, 0.3)\",\"range\":[62,63]},{\"color\":\"rgba(188, 255, 0, 0.3)\",\"range\":[63,64]},{\"color\":\"rgba(183, 255, 0, 0.3)\",\"range\":[64,65]},{\"color\":\"rgba(178, 255, 0, 0.3)\",\"range\":[65,66]},{\"color\":\"rgba(173, 255, 0, 0.3)\",\"range\":[66,67]},{\"color\":\"rgba(168, 255, 0, 0.3)\",\"range\":[67,68]},{\"color\":\"rgba(163, 255, 0, 0.3)\",\"range\":[68,69]},{\"color\":\"rgba(158, 255, 0, 0.3)\",\"range\":[69,70]},{\"color\":\"rgba(153, 255, 0, 0.3)\",\"range\":[70,71]},{\"color\":\"rgba(147, 255, 0, 0.3)\",\"range\":[71,72]},{\"color\":\"rgba(142, 255, 0, 0.3)\",\"range\":[72,73]},{\"color\":\"rgba(137, 255, 0, 0.3)\",\"range\":[73,74]},{\"color\":\"rgba(132, 255, 0, 0.3)\",\"range\":[74,75]},{\"color\":\"rgba(127, 255, 0, 0.3)\",\"range\":[75,76]},{\"color\":\"rgba(122, 255, 0, 0.3)\",\"range\":[76,77]},{\"color\":\"rgba(117, 255, 0, 0.3)\",\"range\":[77,78]},{\"color\":\"rgba(112, 255, 0, 0.3)\",\"range\":[78,79]},{\"color\":\"rgba(107, 255, 0, 0.3)\",\"range\":[79,80]},{\"color\":\"rgba(102, 255, 0, 0.3)\",\"range\":[80,81]},{\"color\":\"rgba(96, 255, 0, 0.3)\",\"range\":[81,82]},{\"color\":\"rgba(91, 255, 0, 0.3)\",\"range\":[82,83]},{\"color\":\"rgba(86, 255, 0, 0.3)\",\"range\":[83,84]},{\"color\":\"rgba(81, 255, 0, 0.3)\",\"range\":[84,85]},{\"color\":\"rgba(76, 255, 0, 0.3)\",\"range\":[85,86]},{\"color\":\"rgba(71, 255, 0, 0.3)\",\"range\":[86,87]},{\"color\":\"rgba(66, 255, 0, 0.3)\",\"range\":[87,88]},{\"color\":\"rgba(61, 255, 0, 0.3)\",\"range\":[88,89]},{\"color\":\"rgba(56, 255, 0, 0.3)\",\"range\":[89,90]},{\"color\":\"rgba(50, 255, 0, 0.3)\",\"range\":[90,91]},{\"color\":\"rgba(45, 255, 0, 0.3)\",\"range\":[91,92]},{\"color\":\"rgba(40, 255, 0, 0.3)\",\"range\":[92,93]},{\"color\":\"rgba(35, 255, 0, 0.3)\",\"range\":[93,94]},{\"color\":\"rgba(30, 255, 0, 0.3)\",\"range\":[94,95]},{\"color\":\"rgba(25, 255, 0, 0.3)\",\"range\":[95,96]},{\"color\":\"rgba(20, 255, 0, 0.3)\",\"range\":[96,97]},{\"color\":\"rgba(15, 255, 0, 0.3)\",\"range\":[97,98]},{\"color\":\"rgba(10, 255, 0, 0.3)\",\"range\":[98,99]},{\"color\":\"rgba(5, 255, 0, 0.3)\",\"range\":[99,100]}]},\"mode\":\"gauge+number\",\"title\":{\"text\":\"Best Attribute: Behavioral Observations\"},\"value\":100,\"type\":\"indicator\"},{\"domain\":{\"x\":[0.3,0.7],\"y\":[0,0.4]},\"gauge\":{\"axis\":{\"range\":[0,100]},\"bar\":{\"color\":\"rgb(255, 51, 0)\"},\"steps\":[{\"color\":\"rgba(255, 0, 0, 0.3)\",\"range\":[0,1]},{\"color\":\"rgba(255, 5, 0, 0.3)\",\"range\":[1,2]},{\"color\":\"rgba(255, 10, 0, 0.3)\",\"range\":[2,3]},{\"color\":\"rgba(255, 15, 0, 0.3)\",\"range\":[3,4]},{\"color\":\"rgba(255, 20, 0, 0.3)\",\"range\":[4,5]},{\"color\":\"rgba(255, 25, 0, 0.3)\",\"range\":[5,6]},{\"color\":\"rgba(255, 30, 0, 0.3)\",\"range\":[6,7]},{\"color\":\"rgba(255, 35, 0, 0.3)\",\"range\":[7,8]},{\"color\":\"rgba(255, 40, 0, 0.3)\",\"range\":[8,9]},{\"color\":\"rgba(255, 45, 0, 0.3)\",\"range\":[9,10]},{\"color\":\"rgba(255, 51, 0, 0.3)\",\"range\":[10,11]},{\"color\":\"rgba(255, 56, 0, 0.3)\",\"range\":[11,12]},{\"color\":\"rgba(255, 61, 0, 0.3)\",\"range\":[12,13]},{\"color\":\"rgba(255, 66, 0, 0.3)\",\"range\":[13,14]},{\"color\":\"rgba(255, 71, 0, 0.3)\",\"range\":[14,15]},{\"color\":\"rgba(255, 76, 0, 0.3)\",\"range\":[15,16]},{\"color\":\"rgba(255, 81, 0, 0.3)\",\"range\":[16,17]},{\"color\":\"rgba(255, 86, 0, 0.3)\",\"range\":[17,18]},{\"color\":\"rgba(255, 91, 0, 0.3)\",\"range\":[18,19]},{\"color\":\"rgba(255, 96, 0, 0.3)\",\"range\":[19,20]},{\"color\":\"rgba(255, 102, 0, 0.3)\",\"range\":[20,21]},{\"color\":\"rgba(255, 107, 0, 0.3)\",\"range\":[21,22]},{\"color\":\"rgba(255, 112, 0, 0.3)\",\"range\":[22,23]},{\"color\":\"rgba(255, 117, 0, 0.3)\",\"range\":[23,24]},{\"color\":\"rgba(255, 122, 0, 0.3)\",\"range\":[24,25]},{\"color\":\"rgba(255, 127, 0, 0.3)\",\"range\":[25,26]},{\"color\":\"rgba(255, 132, 0, 0.3)\",\"range\":[26,27]},{\"color\":\"rgba(255, 137, 0, 0.3)\",\"range\":[27,28]},{\"color\":\"rgba(255, 142, 0, 0.3)\",\"range\":[28,29]},{\"color\":\"rgba(255, 147, 0, 0.3)\",\"range\":[29,30]},{\"color\":\"rgba(255, 153, 0, 0.3)\",\"range\":[30,31]},{\"color\":\"rgba(255, 158, 0, 0.3)\",\"range\":[31,32]},{\"color\":\"rgba(255, 163, 0, 0.3)\",\"range\":[32,33]},{\"color\":\"rgba(255, 168, 0, 0.3)\",\"range\":[33,34]},{\"color\":\"rgba(255, 173, 0, 0.3)\",\"range\":[34,35]},{\"color\":\"rgba(255, 178, 0, 0.3)\",\"range\":[35,36]},{\"color\":\"rgba(255, 183, 0, 0.3)\",\"range\":[36,37]},{\"color\":\"rgba(255, 188, 0, 0.3)\",\"range\":[37,38]},{\"color\":\"rgba(255, 193, 0, 0.3)\",\"range\":[38,39]},{\"color\":\"rgba(255, 198, 0, 0.3)\",\"range\":[39,40]},{\"color\":\"rgba(255, 204, 0, 0.3)\",\"range\":[40,41]},{\"color\":\"rgba(255, 209, 0, 0.3)\",\"range\":[41,42]},{\"color\":\"rgba(255, 214, 0, 0.3)\",\"range\":[42,43]},{\"color\":\"rgba(255, 219, 0, 0.3)\",\"range\":[43,44]},{\"color\":\"rgba(255, 224, 0, 0.3)\",\"range\":[44,45]},{\"color\":\"rgba(255, 229, 0, 0.3)\",\"range\":[45,46]},{\"color\":\"rgba(255, 234, 0, 0.3)\",\"range\":[46,47]},{\"color\":\"rgba(255, 239, 0, 0.3)\",\"range\":[47,48]},{\"color\":\"rgba(255, 244, 0, 0.3)\",\"range\":[48,49]},{\"color\":\"rgba(255, 249, 0, 0.3)\",\"range\":[49,50]},{\"color\":\"rgba(255, 255, 0, 0.3)\",\"range\":[50,51]},{\"color\":\"rgba(249, 255, 0, 0.3)\",\"range\":[51,52]},{\"color\":\"rgba(244, 255, 0, 0.3)\",\"range\":[52,53]},{\"color\":\"rgba(239, 255, 0, 0.3)\",\"range\":[53,54]},{\"color\":\"rgba(234, 255, 0, 0.3)\",\"range\":[54,55]},{\"color\":\"rgba(229, 255, 0, 0.3)\",\"range\":[55,56]},{\"color\":\"rgba(224, 255, 0, 0.3)\",\"range\":[56,57]},{\"color\":\"rgba(219, 255, 0, 0.3)\",\"range\":[57,58]},{\"color\":\"rgba(214, 255, 0, 0.3)\",\"range\":[58,59]},{\"color\":\"rgba(209, 255, 0, 0.3)\",\"range\":[59,60]},{\"color\":\"rgba(204, 255, 0, 0.3)\",\"range\":[60,61]},{\"color\":\"rgba(198, 255, 0, 0.3)\",\"range\":[61,62]},{\"color\":\"rgba(193, 255, 0, 0.3)\",\"range\":[62,63]},{\"color\":\"rgba(188, 255, 0, 0.3)\",\"range\":[63,64]},{\"color\":\"rgba(183, 255, 0, 0.3)\",\"range\":[64,65]},{\"color\":\"rgba(178, 255, 0, 0.3)\",\"range\":[65,66]},{\"color\":\"rgba(173, 255, 0, 0.3)\",\"range\":[66,67]},{\"color\":\"rgba(168, 255, 0, 0.3)\",\"range\":[67,68]},{\"color\":\"rgba(163, 255, 0, 0.3)\",\"range\":[68,69]},{\"color\":\"rgba(158, 255, 0, 0.3)\",\"range\":[69,70]},{\"color\":\"rgba(153, 255, 0, 0.3)\",\"range\":[70,71]},{\"color\":\"rgba(147, 255, 0, 0.3)\",\"range\":[71,72]},{\"color\":\"rgba(142, 255, 0, 0.3)\",\"range\":[72,73]},{\"color\":\"rgba(137, 255, 0, 0.3)\",\"range\":[73,74]},{\"color\":\"rgba(132, 255, 0, 0.3)\",\"range\":[74,75]},{\"color\":\"rgba(127, 255, 0, 0.3)\",\"range\":[75,76]},{\"color\":\"rgba(122, 255, 0, 0.3)\",\"range\":[76,77]},{\"color\":\"rgba(117, 255, 0, 0.3)\",\"range\":[77,78]},{\"color\":\"rgba(112, 255, 0, 0.3)\",\"range\":[78,79]},{\"color\":\"rgba(107, 255, 0, 0.3)\",\"range\":[79,80]},{\"color\":\"rgba(102, 255, 0, 0.3)\",\"range\":[80,81]},{\"color\":\"rgba(96, 255, 0, 0.3)\",\"range\":[81,82]},{\"color\":\"rgba(91, 255, 0, 0.3)\",\"range\":[82,83]},{\"color\":\"rgba(86, 255, 0, 0.3)\",\"range\":[83,84]},{\"color\":\"rgba(81, 255, 0, 0.3)\",\"range\":[84,85]},{\"color\":\"rgba(76, 255, 0, 0.3)\",\"range\":[85,86]},{\"color\":\"rgba(71, 255, 0, 0.3)\",\"range\":[86,87]},{\"color\":\"rgba(66, 255, 0, 0.3)\",\"range\":[87,88]},{\"color\":\"rgba(61, 255, 0, 0.3)\",\"range\":[88,89]},{\"color\":\"rgba(56, 255, 0, 0.3)\",\"range\":[89,90]},{\"color\":\"rgba(50, 255, 0, 0.3)\",\"range\":[90,91]},{\"color\":\"rgba(45, 255, 0, 0.3)\",\"range\":[91,92]},{\"color\":\"rgba(40, 255, 0, 0.3)\",\"range\":[92,93]},{\"color\":\"rgba(35, 255, 0, 0.3)\",\"range\":[93,94]},{\"color\":\"rgba(30, 255, 0, 0.3)\",\"range\":[94,95]},{\"color\":\"rgba(25, 255, 0, 0.3)\",\"range\":[95,96]},{\"color\":\"rgba(20, 255, 0, 0.3)\",\"range\":[96,97]},{\"color\":\"rgba(15, 255, 0, 0.3)\",\"range\":[97,98]},{\"color\":\"rgba(10, 255, 0, 0.3)\",\"range\":[98,99]},{\"color\":\"rgba(5, 255, 0, 0.3)\",\"range\":[99,100]}]},\"mode\":\"gauge+number\",\"title\":{\"text\":\"Worst Attribute: Similarities\"},\"value\":10,\"type\":\"indicator\"}],                        {\"template\":{\"data\":{\"bar\":[{\"error_x\":{\"color\":\"#2a3f5f\"},\"error_y\":{\"color\":\"#2a3f5f\"},\"marker\":{\"line\":{\"color\":\"#E5ECF6\",\"width\":0.5},\"pattern\":{\"fillmode\":\"overlay\",\"size\":10,\"solidity\":0.2}},\"type\":\"bar\"}],\"barpolar\":[{\"marker\":{\"line\":{\"color\":\"#E5ECF6\",\"width\":0.5},\"pattern\":{\"fillmode\":\"overlay\",\"size\":10,\"solidity\":0.2}},\"type\":\"barpolar\"}],\"carpet\":[{\"aaxis\":{\"endlinecolor\":\"#2a3f5f\",\"gridcolor\":\"white\",\"linecolor\":\"white\",\"minorgridcolor\":\"white\",\"startlinecolor\":\"#2a3f5f\"},\"baxis\":{\"endlinecolor\":\"#2a3f5f\",\"gridcolor\":\"white\",\"linecolor\":\"white\",\"minorgridcolor\":\"white\",\"startlinecolor\":\"#2a3f5f\"},\"type\":\"carpet\"}],\"choropleth\":[{\"colorbar\":{\"outlinewidth\":0,\"ticks\":\"\"},\"type\":\"choropleth\"}],\"contour\":[{\"colorbar\":{\"outlinewidth\":0,\"ticks\":\"\"},\"colorscale\":[[0.0,\"#0d0887\"],[0.1111111111111111,\"#46039f\"],[0.2222222222222222,\"#7201a8\"],[0.3333333333333333,\"#9c179e\"],[0.4444444444444444,\"#bd3786\"],[0.5555555555555556,\"#d8576b\"],[0.6666666666666666,\"#ed7953\"],[0.7777777777777778,\"#fb9f3a\"],[0.8888888888888888,\"#fdca26\"],[1.0,\"#f0f921\"]],\"type\":\"contour\"}],\"contourcarpet\":[{\"colorbar\":{\"outlinewidth\":0,\"ticks\":\"\"},\"type\":\"contourcarpet\"}],\"heatmap\":[{\"colorbar\":{\"outlinewidth\":0,\"ticks\":\"\"},\"colorscale\":[[0.0,\"#0d0887\"],[0.1111111111111111,\"#46039f\"],[0.2222222222222222,\"#7201a8\"],[0.3333333333333333,\"#9c179e\"],[0.4444444444444444,\"#bd3786\"],[0.5555555555555556,\"#d8576b\"],[0.6666666666666666,\"#ed7953\"],[0.7777777777777778,\"#fb9f3a\"],[0.8888888888888888,\"#fdca26\"],[1.0,\"#f0f921\"]],\"type\":\"heatmap\"}],\"heatmapgl\":[{\"colorbar\":{\"outlinewidth\":0,\"ticks\":\"\"},\"colorscale\":[[0.0,\"#0d0887\"],[0.1111111111111111,\"#46039f\"],[0.2222222222222222,\"#7201a8\"],[0.3333333333333333,\"#9c179e\"],[0.4444444444444444,\"#bd3786\"],[0.5555555555555556,\"#d8576b\"],[0.6666666666666666,\"#ed7953\"],[0.7777777777777778,\"#fb9f3a\"],[0.8888888888888888,\"#fdca26\"],[1.0,\"#f0f921\"]],\"type\":\"heatmapgl\"}],\"histogram\":[{\"marker\":{\"pattern\":{\"fillmode\":\"overlay\",\"size\":10,\"solidity\":0.2}},\"type\":\"histogram\"}],\"histogram2d\":[{\"colorbar\":{\"outlinewidth\":0,\"ticks\":\"\"},\"colorscale\":[[0.0,\"#0d0887\"],[0.1111111111111111,\"#46039f\"],[0.2222222222222222,\"#7201a8\"],[0.3333333333333333,\"#9c179e\"],[0.4444444444444444,\"#bd3786\"],[0.5555555555555556,\"#d8576b\"],[0.6666666666666666,\"#ed7953\"],[0.7777777777777778,\"#fb9f3a\"],[0.8888888888888888,\"#fdca26\"],[1.0,\"#f0f921\"]],\"type\":\"histogram2d\"}],\"histogram2dcontour\":[{\"colorbar\":{\"outlinewidth\":0,\"ticks\":\"\"},\"colorscale\":[[0.0,\"#0d0887\"],[0.1111111111111111,\"#46039f\"],[0.2222222222222222,\"#7201a8\"],[0.3333333333333333,\"#9c179e\"],[0.4444444444444444,\"#bd3786\"],[0.5555555555555556,\"#d8576b\"],[0.6666666666666666,\"#ed7953\"],[0.7777777777777778,\"#fb9f3a\"],[0.8888888888888888,\"#fdca26\"],[1.0,\"#f0f921\"]],\"type\":\"histogram2dcontour\"}],\"mesh3d\":[{\"colorbar\":{\"outlinewidth\":0,\"ticks\":\"\"},\"type\":\"mesh3d\"}],\"parcoords\":[{\"line\":{\"colorbar\":{\"outlinewidth\":0,\"ticks\":\"\"}},\"type\":\"parcoords\"}],\"pie\":[{\"automargin\":true,\"type\":\"pie\"}],\"scatter\":[{\"marker\":{\"colorbar\":{\"outlinewidth\":0,\"ticks\":\"\"}},\"type\":\"scatter\"}],\"scatter3d\":[{\"line\":{\"colorbar\":{\"outlinewidth\":0,\"ticks\":\"\"}},\"marker\":{\"colorbar\":{\"outlinewidth\":0,\"ticks\":\"\"}},\"type\":\"scatter3d\"}],\"scattercarpet\":[{\"marker\":{\"colorbar\":{\"outlinewidth\":0,\"ticks\":\"\"}},\"type\":\"scattercarpet\"}],\"scattergeo\":[{\"marker\":{\"colorbar\":{\"outlinewidth\":0,\"ticks\":\"\"}},\"type\":\"scattergeo\"}],\"scattergl\":[{\"marker\":{\"colorbar\":{\"outlinewidth\":0,\"ticks\":\"\"}},\"type\":\"scattergl\"}],\"scattermapbox\":[{\"marker\":{\"colorbar\":{\"outlinewidth\":0,\"ticks\":\"\"}},\"type\":\"scattermapbox\"}],\"scatterpolar\":[{\"marker\":{\"colorbar\":{\"outlinewidth\":0,\"ticks\":\"\"}},\"type\":\"scatterpolar\"}],\"scatterpolargl\":[{\"marker\":{\"colorbar\":{\"outlinewidth\":0,\"ticks\":\"\"}},\"type\":\"scatterpolargl\"}],\"scatterternary\":[{\"marker\":{\"colorbar\":{\"outlinewidth\":0,\"ticks\":\"\"}},\"type\":\"scatterternary\"}],\"surface\":[{\"colorbar\":{\"outlinewidth\":0,\"ticks\":\"\"},\"colorscale\":[[0.0,\"#0d0887\"],[0.1111111111111111,\"#46039f\"],[0.2222222222222222,\"#7201a8\"],[0.3333333333333333,\"#9c179e\"],[0.4444444444444444,\"#bd3786\"],[0.5555555555555556,\"#d8576b\"],[0.6666666666666666,\"#ed7953\"],[0.7777777777777778,\"#fb9f3a\"],[0.8888888888888888,\"#fdca26\"],[1.0,\"#f0f921\"]],\"type\":\"surface\"}],\"table\":[{\"cells\":{\"fill\":{\"color\":\"#EBF0F8\"},\"line\":{\"color\":\"white\"}},\"header\":{\"fill\":{\"color\":\"#C8D4E3\"},\"line\":{\"color\":\"white\"}},\"type\":\"table\"}]},\"layout\":{\"annotationdefaults\":{\"arrowcolor\":\"#2a3f5f\",\"arrowhead\":0,\"arrowwidth\":1},\"autotypenumbers\":\"strict\",\"coloraxis\":{\"colorbar\":{\"outlinewidth\":0,\"ticks\":\"\"}},\"colorscale\":{\"diverging\":[[0,\"#8e0152\"],[0.1,\"#c51b7d\"],[0.2,\"#de77ae\"],[0.3,\"#f1b6da\"],[0.4,\"#fde0ef\"],[0.5,\"#f7f7f7\"],[0.6,\"#e6f5d0\"],[0.7,\"#b8e186\"],[0.8,\"#7fbc41\"],[0.9,\"#4d9221\"],[1,\"#276419\"]],\"sequential\":[[0.0,\"#0d0887\"],[0.1111111111111111,\"#46039f\"],[0.2222222222222222,\"#7201a8\"],[0.3333333333333333,\"#9c179e\"],[0.4444444444444444,\"#bd3786\"],[0.5555555555555556,\"#d8576b\"],[0.6666666666666666,\"#ed7953\"],[0.7777777777777778,\"#fb9f3a\"],[0.8888888888888888,\"#fdca26\"],[1.0,\"#f0f921\"]],\"sequentialminus\":[[0.0,\"#0d0887\"],[0.1111111111111111,\"#46039f\"],[0.2222222222222222,\"#7201a8\"],[0.3333333333333333,\"#9c179e\"],[0.4444444444444444,\"#bd3786\"],[0.5555555555555556,\"#d8576b\"],[0.6666666666666666,\"#ed7953\"],[0.7777777777777778,\"#fb9f3a\"],[0.8888888888888888,\"#fdca26\"],[1.0,\"#f0f921\"]]},\"colorway\":[\"#636efa\",\"#EF553B\",\"#00cc96\",\"#ab63fa\",\"#FFA15A\",\"#19d3f3\",\"#FF6692\",\"#B6E880\",\"#FF97FF\",\"#FECB52\"],\"font\":{\"color\":\"#2a3f5f\"},\"geo\":{\"bgcolor\":\"white\",\"lakecolor\":\"white\",\"landcolor\":\"#E5ECF6\",\"showlakes\":true,\"showland\":true,\"subunitcolor\":\"white\"},\"hoverlabel\":{\"align\":\"left\"},\"hovermode\":\"closest\",\"mapbox\":{\"style\":\"light\"},\"paper_bgcolor\":\"white\",\"plot_bgcolor\":\"#E5ECF6\",\"polar\":{\"angularaxis\":{\"gridcolor\":\"white\",\"linecolor\":\"white\",\"ticks\":\"\"},\"bgcolor\":\"#E5ECF6\",\"radialaxis\":{\"gridcolor\":\"white\",\"linecolor\":\"white\",\"ticks\":\"\"}},\"scene\":{\"xaxis\":{\"backgroundcolor\":\"#E5ECF6\",\"gridcolor\":\"white\",\"gridwidth\":2,\"linecolor\":\"white\",\"showbackground\":true,\"ticks\":\"\",\"zerolinecolor\":\"white\"},\"yaxis\":{\"backgroundcolor\":\"#E5ECF6\",\"gridcolor\":\"white\",\"gridwidth\":2,\"linecolor\":\"white\",\"showbackground\":true,\"ticks\":\"\",\"zerolinecolor\":\"white\"},\"zaxis\":{\"backgroundcolor\":\"#E5ECF6\",\"gridcolor\":\"white\",\"gridwidth\":2,\"linecolor\":\"white\",\"showbackground\":true,\"ticks\":\"\",\"zerolinecolor\":\"white\"}},\"shapedefaults\":{\"line\":{\"color\":\"#2a3f5f\"}},\"ternary\":{\"aaxis\":{\"gridcolor\":\"white\",\"linecolor\":\"white\",\"ticks\":\"\"},\"baxis\":{\"gridcolor\":\"white\",\"linecolor\":\"white\",\"ticks\":\"\"},\"bgcolor\":\"#E5ECF6\",\"caxis\":{\"gridcolor\":\"white\",\"linecolor\":\"white\",\"ticks\":\"\"}},\"title\":{\"x\":0.05},\"xaxis\":{\"automargin\":true,\"gridcolor\":\"white\",\"linecolor\":\"white\",\"ticks\":\"\",\"title\":{\"standoff\":15},\"zerolinecolor\":\"white\",\"zerolinewidth\":2},\"yaxis\":{\"automargin\":true,\"gridcolor\":\"white\",\"linecolor\":\"white\",\"ticks\":\"\",\"title\":{\"standoff\":15},\"zerolinecolor\":\"white\",\"zerolinewidth\":2}}},\"annotations\":[{\"align\":\"center\",\"font\":{\"size\":12},\"showarrow\":false,\"text\":\"Positive behavioral observations indicating good behavior and focus.\",\"x\":1.01,\"y\":0.6},{\"align\":\"center\",\"font\":{\"size\":12},\"showarrow\":false,\"text\":\"Challenges in verbal reasoning and forming concepts.\",\"x\":0.5,\"y\":0.03},{\"align\":\"center\",\"bgcolor\":\"lightyellow\",\"bordercolor\":\"black\",\"borderpad\":10,\"borderwidth\":1,\"font\":{\"color\":\"black\",\"size\":14},\"opacity\":0.8,\"showarrow\":false,\"text\":\"<b>Dyslexia Diagnosis:</b> Mild Dyslexia\",\"x\":0.001,\"xref\":\"paper\",\"y\":1.01,\"yref\":\"paper\"}],\"margin\":{\"l\":50,\"r\":50,\"b\":50,\"t\":50},\"title\":{\"text\":\"Student Performance Summary\"},\"autosize\":false,\"width\":1000,\"height\":800},                        {\"responsive\": true}                    ).then(function(){\n",
       "                            \n",
       "var gd = document.getElementById('d9c92f89-0e6c-41b9-8128-f0214d06a970');\n",
       "var x = new MutationObserver(function (mutations, observer) {{\n",
       "        var display = window.getComputedStyle(gd).display;\n",
       "        if (!display || display === 'none') {{\n",
       "            console.log([gd, 'removed!']);\n",
       "            Plotly.purge(gd);\n",
       "            observer.disconnect();\n",
       "        }}\n",
       "}});\n",
       "\n",
       "// Listen for the removal of the full notebook cells\n",
       "var notebookContainer = gd.closest('#notebook-container');\n",
       "if (notebookContainer) {{\n",
       "    x.observe(notebookContainer, {childList: true});\n",
       "}}\n",
       "\n",
       "// Listen for the clearing of the current output cell\n",
       "var outputEl = gd.closest('.output');\n",
       "if (outputEl) {{\n",
       "    x.observe(outputEl, {childList: true});\n",
       "}}\n",
       "\n",
       "                        })                };                });            </script>        </div>"
      ]
     },
     "metadata": {},
     "output_type": "display_data"
    }
   ],
   "source": [
    "import plotly.graph_objects as go\n",
    "\n",
    "# Function to determine the color based on the percentile\n",
    "def get_color(value):\n",
    "    if value < 50:\n",
    "        return f\"rgb({255}, {int((value / 50) * 255)}, 0)\"\n",
    "    else:\n",
    "        return f\"rgb({int((1 - (value - 50) / 50) * 255)}, 255, 0)\"\n",
    "\n",
    "# Data for displaying results\n",
    "result_text = f\"Prediction: {prediction_label}<br>Overall Percentile: {overall_percentile:.2f}\"\n",
    "best_text = f\"Best Attribute: {best_attribute} (Percentile: {best_attribute_percentile:.2f})\"\n",
    "best_desc = best_attribute_description\n",
    "worst_text = f\"Worst Attribute: {worst_attribute} (Percentile: {worst_attribute_percentile:.2f})\"\n",
    "worst_desc = worst_attribute_description\n",
    "\n",
    "# Create a radial gauge for percentiles\n",
    "fig = go.Figure()\n",
    "\n",
    "# Create a continuous color gradient from red to green with less opacity\n",
    "gradient_steps = []\n",
    "for i in range(100):\n",
    "    if i < 50:\n",
    "        color = f\"rgba({255}, {int((i / 50) * 255)}, 0, 0.3)\"  # Adjust opacity to 0.3\n",
    "    else:\n",
    "        color = f\"rgba({int((1 - (i - 50) / 50) * 255)}, 255, 0, 0.3)\"  # Adjust opacity to 0.3\n",
    "    gradient_steps.append({'range': [i, i + 1], 'color': color})\n",
    "\n",
    "# Overall Percentile Gauge\n",
    "fig.add_trace(go.Indicator(\n",
    "    mode=\"gauge+number\",\n",
    "    value=overall_percentile,\n",
    "    title={'text': \"Overall Percentile\"},\n",
    "    gauge={\n",
    "        'axis': {'range': [0, 100]},\n",
    "        'bar': {'color': get_color(overall_percentile)},\n",
    "        'steps': gradient_steps\n",
    "    },\n",
    "    domain={'x': [0, 0.4], 'y': [0.5, 1]}\n",
    "))\n",
    "\n",
    "# Best Attribute Gauge\n",
    "fig.add_trace(go.Indicator(\n",
    "    mode=\"gauge+number\",\n",
    "    value=best_attribute_percentile,\n",
    "    title={'text': f\"Best Attribute: {best_attribute}\"},\n",
    "    gauge={\n",
    "        'axis': {'range': [0, 100]},\n",
    "        'bar': {'color': get_color(best_attribute_percentile)},\n",
    "        'steps': gradient_steps\n",
    "    },\n",
    "    domain={'x': [0.6, 1], 'y': [0.5, 1]}\n",
    "))\n",
    "\n",
    "# Worst Attribute Gauge\n",
    "fig.add_trace(go.Indicator(\n",
    "    mode=\"gauge+number\",\n",
    "    value=worst_attribute_percentile,\n",
    "    title={'text': f\"Worst Attribute: {worst_attribute}\"},\n",
    "    gauge={\n",
    "        'axis': {'range': [0, 100]},\n",
    "        'bar': {'color': get_color(worst_attribute_percentile)},\n",
    "        'steps': gradient_steps\n",
    "    },\n",
    "    domain={'x': [0.3, 0.7], 'y': [0, 0.4]}\n",
    "))\n",
    "\n",
    "fig.add_annotation(\n",
    "    x=1.01, y=0.6,\n",
    "    text=best_desc,\n",
    "    showarrow=False,\n",
    "    font=dict(size=12),\n",
    "    align=\"center\"\n",
    ")\n",
    "\n",
    "fig.add_annotation(\n",
    "    x=0.5, y=0.03,\n",
    "    text=worst_desc,\n",
    "    showarrow=False,\n",
    "    font=dict(size=12),\n",
    "    align=\"center\"\n",
    ")\n",
    "\n",
    "# Update layout\n",
    "fig.update_layout(\n",
    "    title='Student Performance Summary',\n",
    "    autosize=False,\n",
    "    width=1000,\n",
    "    height=800,\n",
    "    margin=dict(l=50, r=50, b=50, t=50),\n",
    ")\n",
    "fig.add_annotation(\n",
    "    x=0.001, y=1.01,\n",
    "    text=f\"<b>Dyslexia Diagnosis:</b> {prediction_label}\",\n",
    "    showarrow=False,\n",
    "    font=dict(size=14, color=\"black\"),\n",
    "    align=\"center\",\n",
    "    xref=\"paper\",\n",
    "    yref=\"paper\",\n",
    "    bordercolor=\"black\",\n",
    "    borderwidth=1,\n",
    "    borderpad=10,\n",
    "    bgcolor=\"lightyellow\",\n",
    "    opacity=0.8\n",
    ")\n",
    "# Show the plot\n",
    "fig.show()\n"
   ]
  },
  {
   "cell_type": "code",
   "execution_count": 60,
   "id": "e1a9c88f",
   "metadata": {},
   "outputs": [
    {
     "data": {
      "application/vnd.plotly.v1+json": {
       "config": {
        "plotlyServerURL": "https://plot.ly"
       },
       "data": [
        {
         "domain": {
          "x": [
           0,
           0.4
          ],
          "y": [
           0.5,
           1
          ]
         },
         "gauge": {
          "axis": {
           "range": [
            0,
            100
           ]
          },
          "bar": {
           "color": "rgb(255, 227, 0)"
          },
          "steps": [
           {
            "color": "rgba(255, 0, 0, 0.3)",
            "range": [
             0,
             1
            ]
           },
           {
            "color": "rgba(255, 5, 0, 0.3)",
            "range": [
             1,
             2
            ]
           },
           {
            "color": "rgba(255, 10, 0, 0.3)",
            "range": [
             2,
             3
            ]
           },
           {
            "color": "rgba(255, 15, 0, 0.3)",
            "range": [
             3,
             4
            ]
           },
           {
            "color": "rgba(255, 20, 0, 0.3)",
            "range": [
             4,
             5
            ]
           },
           {
            "color": "rgba(255, 25, 0, 0.3)",
            "range": [
             5,
             6
            ]
           },
           {
            "color": "rgba(255, 30, 0, 0.3)",
            "range": [
             6,
             7
            ]
           },
           {
            "color": "rgba(255, 35, 0, 0.3)",
            "range": [
             7,
             8
            ]
           },
           {
            "color": "rgba(255, 40, 0, 0.3)",
            "range": [
             8,
             9
            ]
           },
           {
            "color": "rgba(255, 45, 0, 0.3)",
            "range": [
             9,
             10
            ]
           },
           {
            "color": "rgba(255, 51, 0, 0.3)",
            "range": [
             10,
             11
            ]
           },
           {
            "color": "rgba(255, 56, 0, 0.3)",
            "range": [
             11,
             12
            ]
           },
           {
            "color": "rgba(255, 61, 0, 0.3)",
            "range": [
             12,
             13
            ]
           },
           {
            "color": "rgba(255, 66, 0, 0.3)",
            "range": [
             13,
             14
            ]
           },
           {
            "color": "rgba(255, 71, 0, 0.3)",
            "range": [
             14,
             15
            ]
           },
           {
            "color": "rgba(255, 76, 0, 0.3)",
            "range": [
             15,
             16
            ]
           },
           {
            "color": "rgba(255, 81, 0, 0.3)",
            "range": [
             16,
             17
            ]
           },
           {
            "color": "rgba(255, 86, 0, 0.3)",
            "range": [
             17,
             18
            ]
           },
           {
            "color": "rgba(255, 91, 0, 0.3)",
            "range": [
             18,
             19
            ]
           },
           {
            "color": "rgba(255, 96, 0, 0.3)",
            "range": [
             19,
             20
            ]
           },
           {
            "color": "rgba(255, 102, 0, 0.3)",
            "range": [
             20,
             21
            ]
           },
           {
            "color": "rgba(255, 107, 0, 0.3)",
            "range": [
             21,
             22
            ]
           },
           {
            "color": "rgba(255, 112, 0, 0.3)",
            "range": [
             22,
             23
            ]
           },
           {
            "color": "rgba(255, 117, 0, 0.3)",
            "range": [
             23,
             24
            ]
           },
           {
            "color": "rgba(255, 122, 0, 0.3)",
            "range": [
             24,
             25
            ]
           },
           {
            "color": "rgba(255, 127, 0, 0.3)",
            "range": [
             25,
             26
            ]
           },
           {
            "color": "rgba(255, 132, 0, 0.3)",
            "range": [
             26,
             27
            ]
           },
           {
            "color": "rgba(255, 137, 0, 0.3)",
            "range": [
             27,
             28
            ]
           },
           {
            "color": "rgba(255, 142, 0, 0.3)",
            "range": [
             28,
             29
            ]
           },
           {
            "color": "rgba(255, 147, 0, 0.3)",
            "range": [
             29,
             30
            ]
           },
           {
            "color": "rgba(255, 153, 0, 0.3)",
            "range": [
             30,
             31
            ]
           },
           {
            "color": "rgba(255, 158, 0, 0.3)",
            "range": [
             31,
             32
            ]
           },
           {
            "color": "rgba(255, 163, 0, 0.3)",
            "range": [
             32,
             33
            ]
           },
           {
            "color": "rgba(255, 168, 0, 0.3)",
            "range": [
             33,
             34
            ]
           },
           {
            "color": "rgba(255, 173, 0, 0.3)",
            "range": [
             34,
             35
            ]
           },
           {
            "color": "rgba(255, 178, 0, 0.3)",
            "range": [
             35,
             36
            ]
           },
           {
            "color": "rgba(255, 183, 0, 0.3)",
            "range": [
             36,
             37
            ]
           },
           {
            "color": "rgba(255, 188, 0, 0.3)",
            "range": [
             37,
             38
            ]
           },
           {
            "color": "rgba(255, 193, 0, 0.3)",
            "range": [
             38,
             39
            ]
           },
           {
            "color": "rgba(255, 198, 0, 0.3)",
            "range": [
             39,
             40
            ]
           },
           {
            "color": "rgba(255, 204, 0, 0.3)",
            "range": [
             40,
             41
            ]
           },
           {
            "color": "rgba(255, 209, 0, 0.3)",
            "range": [
             41,
             42
            ]
           },
           {
            "color": "rgba(255, 214, 0, 0.3)",
            "range": [
             42,
             43
            ]
           },
           {
            "color": "rgba(255, 219, 0, 0.3)",
            "range": [
             43,
             44
            ]
           },
           {
            "color": "rgba(255, 224, 0, 0.3)",
            "range": [
             44,
             45
            ]
           },
           {
            "color": "rgba(255, 229, 0, 0.3)",
            "range": [
             45,
             46
            ]
           },
           {
            "color": "rgba(255, 234, 0, 0.3)",
            "range": [
             46,
             47
            ]
           },
           {
            "color": "rgba(255, 239, 0, 0.3)",
            "range": [
             47,
             48
            ]
           },
           {
            "color": "rgba(255, 244, 0, 0.3)",
            "range": [
             48,
             49
            ]
           },
           {
            "color": "rgba(255, 249, 0, 0.3)",
            "range": [
             49,
             50
            ]
           },
           {
            "color": "rgba(255, 255, 0, 0.3)",
            "range": [
             50,
             51
            ]
           },
           {
            "color": "rgba(249, 255, 0, 0.3)",
            "range": [
             51,
             52
            ]
           },
           {
            "color": "rgba(244, 255, 0, 0.3)",
            "range": [
             52,
             53
            ]
           },
           {
            "color": "rgba(239, 255, 0, 0.3)",
            "range": [
             53,
             54
            ]
           },
           {
            "color": "rgba(234, 255, 0, 0.3)",
            "range": [
             54,
             55
            ]
           },
           {
            "color": "rgba(229, 255, 0, 0.3)",
            "range": [
             55,
             56
            ]
           },
           {
            "color": "rgba(224, 255, 0, 0.3)",
            "range": [
             56,
             57
            ]
           },
           {
            "color": "rgba(219, 255, 0, 0.3)",
            "range": [
             57,
             58
            ]
           },
           {
            "color": "rgba(214, 255, 0, 0.3)",
            "range": [
             58,
             59
            ]
           },
           {
            "color": "rgba(209, 255, 0, 0.3)",
            "range": [
             59,
             60
            ]
           },
           {
            "color": "rgba(204, 255, 0, 0.3)",
            "range": [
             60,
             61
            ]
           },
           {
            "color": "rgba(198, 255, 0, 0.3)",
            "range": [
             61,
             62
            ]
           },
           {
            "color": "rgba(193, 255, 0, 0.3)",
            "range": [
             62,
             63
            ]
           },
           {
            "color": "rgba(188, 255, 0, 0.3)",
            "range": [
             63,
             64
            ]
           },
           {
            "color": "rgba(183, 255, 0, 0.3)",
            "range": [
             64,
             65
            ]
           },
           {
            "color": "rgba(178, 255, 0, 0.3)",
            "range": [
             65,
             66
            ]
           },
           {
            "color": "rgba(173, 255, 0, 0.3)",
            "range": [
             66,
             67
            ]
           },
           {
            "color": "rgba(168, 255, 0, 0.3)",
            "range": [
             67,
             68
            ]
           },
           {
            "color": "rgba(163, 255, 0, 0.3)",
            "range": [
             68,
             69
            ]
           },
           {
            "color": "rgba(158, 255, 0, 0.3)",
            "range": [
             69,
             70
            ]
           },
           {
            "color": "rgba(153, 255, 0, 0.3)",
            "range": [
             70,
             71
            ]
           },
           {
            "color": "rgba(147, 255, 0, 0.3)",
            "range": [
             71,
             72
            ]
           },
           {
            "color": "rgba(142, 255, 0, 0.3)",
            "range": [
             72,
             73
            ]
           },
           {
            "color": "rgba(137, 255, 0, 0.3)",
            "range": [
             73,
             74
            ]
           },
           {
            "color": "rgba(132, 255, 0, 0.3)",
            "range": [
             74,
             75
            ]
           },
           {
            "color": "rgba(127, 255, 0, 0.3)",
            "range": [
             75,
             76
            ]
           },
           {
            "color": "rgba(122, 255, 0, 0.3)",
            "range": [
             76,
             77
            ]
           },
           {
            "color": "rgba(117, 255, 0, 0.3)",
            "range": [
             77,
             78
            ]
           },
           {
            "color": "rgba(112, 255, 0, 0.3)",
            "range": [
             78,
             79
            ]
           },
           {
            "color": "rgba(107, 255, 0, 0.3)",
            "range": [
             79,
             80
            ]
           },
           {
            "color": "rgba(102, 255, 0, 0.3)",
            "range": [
             80,
             81
            ]
           },
           {
            "color": "rgba(96, 255, 0, 0.3)",
            "range": [
             81,
             82
            ]
           },
           {
            "color": "rgba(91, 255, 0, 0.3)",
            "range": [
             82,
             83
            ]
           },
           {
            "color": "rgba(86, 255, 0, 0.3)",
            "range": [
             83,
             84
            ]
           },
           {
            "color": "rgba(81, 255, 0, 0.3)",
            "range": [
             84,
             85
            ]
           },
           {
            "color": "rgba(76, 255, 0, 0.3)",
            "range": [
             85,
             86
            ]
           },
           {
            "color": "rgba(71, 255, 0, 0.3)",
            "range": [
             86,
             87
            ]
           },
           {
            "color": "rgba(66, 255, 0, 0.3)",
            "range": [
             87,
             88
            ]
           },
           {
            "color": "rgba(61, 255, 0, 0.3)",
            "range": [
             88,
             89
            ]
           },
           {
            "color": "rgba(56, 255, 0, 0.3)",
            "range": [
             89,
             90
            ]
           },
           {
            "color": "rgba(50, 255, 0, 0.3)",
            "range": [
             90,
             91
            ]
           },
           {
            "color": "rgba(45, 255, 0, 0.3)",
            "range": [
             91,
             92
            ]
           },
           {
            "color": "rgba(40, 255, 0, 0.3)",
            "range": [
             92,
             93
            ]
           },
           {
            "color": "rgba(35, 255, 0, 0.3)",
            "range": [
             93,
             94
            ]
           },
           {
            "color": "rgba(30, 255, 0, 0.3)",
            "range": [
             94,
             95
            ]
           },
           {
            "color": "rgba(25, 255, 0, 0.3)",
            "range": [
             95,
             96
            ]
           },
           {
            "color": "rgba(20, 255, 0, 0.3)",
            "range": [
             96,
             97
            ]
           },
           {
            "color": "rgba(15, 255, 0, 0.3)",
            "range": [
             97,
             98
            ]
           },
           {
            "color": "rgba(10, 255, 0, 0.3)",
            "range": [
             98,
             99
            ]
           },
           {
            "color": "rgba(5, 255, 0, 0.3)",
            "range": [
             99,
             100
            ]
           }
          ]
         },
         "mode": "gauge+number",
         "title": {
          "text": "Overall Percentile"
         },
         "type": "indicator",
         "value": 44.63157894736842
        },
        {
         "domain": {
          "x": [
           0.6,
           1
          ],
          "y": [
           0.5,
           1
          ]
         },
         "gauge": {
          "axis": {
           "range": [
            0,
            100
           ]
          },
          "bar": {
           "color": "rgb(5, 255, 0)"
          },
          "steps": [
           {
            "color": "rgba(255, 0, 0, 0.3)",
            "range": [
             0,
             1
            ]
           },
           {
            "color": "rgba(255, 5, 0, 0.3)",
            "range": [
             1,
             2
            ]
           },
           {
            "color": "rgba(255, 10, 0, 0.3)",
            "range": [
             2,
             3
            ]
           },
           {
            "color": "rgba(255, 15, 0, 0.3)",
            "range": [
             3,
             4
            ]
           },
           {
            "color": "rgba(255, 20, 0, 0.3)",
            "range": [
             4,
             5
            ]
           },
           {
            "color": "rgba(255, 25, 0, 0.3)",
            "range": [
             5,
             6
            ]
           },
           {
            "color": "rgba(255, 30, 0, 0.3)",
            "range": [
             6,
             7
            ]
           },
           {
            "color": "rgba(255, 35, 0, 0.3)",
            "range": [
             7,
             8
            ]
           },
           {
            "color": "rgba(255, 40, 0, 0.3)",
            "range": [
             8,
             9
            ]
           },
           {
            "color": "rgba(255, 45, 0, 0.3)",
            "range": [
             9,
             10
            ]
           },
           {
            "color": "rgba(255, 51, 0, 0.3)",
            "range": [
             10,
             11
            ]
           },
           {
            "color": "rgba(255, 56, 0, 0.3)",
            "range": [
             11,
             12
            ]
           },
           {
            "color": "rgba(255, 61, 0, 0.3)",
            "range": [
             12,
             13
            ]
           },
           {
            "color": "rgba(255, 66, 0, 0.3)",
            "range": [
             13,
             14
            ]
           },
           {
            "color": "rgba(255, 71, 0, 0.3)",
            "range": [
             14,
             15
            ]
           },
           {
            "color": "rgba(255, 76, 0, 0.3)",
            "range": [
             15,
             16
            ]
           },
           {
            "color": "rgba(255, 81, 0, 0.3)",
            "range": [
             16,
             17
            ]
           },
           {
            "color": "rgba(255, 86, 0, 0.3)",
            "range": [
             17,
             18
            ]
           },
           {
            "color": "rgba(255, 91, 0, 0.3)",
            "range": [
             18,
             19
            ]
           },
           {
            "color": "rgba(255, 96, 0, 0.3)",
            "range": [
             19,
             20
            ]
           },
           {
            "color": "rgba(255, 102, 0, 0.3)",
            "range": [
             20,
             21
            ]
           },
           {
            "color": "rgba(255, 107, 0, 0.3)",
            "range": [
             21,
             22
            ]
           },
           {
            "color": "rgba(255, 112, 0, 0.3)",
            "range": [
             22,
             23
            ]
           },
           {
            "color": "rgba(255, 117, 0, 0.3)",
            "range": [
             23,
             24
            ]
           },
           {
            "color": "rgba(255, 122, 0, 0.3)",
            "range": [
             24,
             25
            ]
           },
           {
            "color": "rgba(255, 127, 0, 0.3)",
            "range": [
             25,
             26
            ]
           },
           {
            "color": "rgba(255, 132, 0, 0.3)",
            "range": [
             26,
             27
            ]
           },
           {
            "color": "rgba(255, 137, 0, 0.3)",
            "range": [
             27,
             28
            ]
           },
           {
            "color": "rgba(255, 142, 0, 0.3)",
            "range": [
             28,
             29
            ]
           },
           {
            "color": "rgba(255, 147, 0, 0.3)",
            "range": [
             29,
             30
            ]
           },
           {
            "color": "rgba(255, 153, 0, 0.3)",
            "range": [
             30,
             31
            ]
           },
           {
            "color": "rgba(255, 158, 0, 0.3)",
            "range": [
             31,
             32
            ]
           },
           {
            "color": "rgba(255, 163, 0, 0.3)",
            "range": [
             32,
             33
            ]
           },
           {
            "color": "rgba(255, 168, 0, 0.3)",
            "range": [
             33,
             34
            ]
           },
           {
            "color": "rgba(255, 173, 0, 0.3)",
            "range": [
             34,
             35
            ]
           },
           {
            "color": "rgba(255, 178, 0, 0.3)",
            "range": [
             35,
             36
            ]
           },
           {
            "color": "rgba(255, 183, 0, 0.3)",
            "range": [
             36,
             37
            ]
           },
           {
            "color": "rgba(255, 188, 0, 0.3)",
            "range": [
             37,
             38
            ]
           },
           {
            "color": "rgba(255, 193, 0, 0.3)",
            "range": [
             38,
             39
            ]
           },
           {
            "color": "rgba(255, 198, 0, 0.3)",
            "range": [
             39,
             40
            ]
           },
           {
            "color": "rgba(255, 204, 0, 0.3)",
            "range": [
             40,
             41
            ]
           },
           {
            "color": "rgba(255, 209, 0, 0.3)",
            "range": [
             41,
             42
            ]
           },
           {
            "color": "rgba(255, 214, 0, 0.3)",
            "range": [
             42,
             43
            ]
           },
           {
            "color": "rgba(255, 219, 0, 0.3)",
            "range": [
             43,
             44
            ]
           },
           {
            "color": "rgba(255, 224, 0, 0.3)",
            "range": [
             44,
             45
            ]
           },
           {
            "color": "rgba(255, 229, 0, 0.3)",
            "range": [
             45,
             46
            ]
           },
           {
            "color": "rgba(255, 234, 0, 0.3)",
            "range": [
             46,
             47
            ]
           },
           {
            "color": "rgba(255, 239, 0, 0.3)",
            "range": [
             47,
             48
            ]
           },
           {
            "color": "rgba(255, 244, 0, 0.3)",
            "range": [
             48,
             49
            ]
           },
           {
            "color": "rgba(255, 249, 0, 0.3)",
            "range": [
             49,
             50
            ]
           },
           {
            "color": "rgba(255, 255, 0, 0.3)",
            "range": [
             50,
             51
            ]
           },
           {
            "color": "rgba(249, 255, 0, 0.3)",
            "range": [
             51,
             52
            ]
           },
           {
            "color": "rgba(244, 255, 0, 0.3)",
            "range": [
             52,
             53
            ]
           },
           {
            "color": "rgba(239, 255, 0, 0.3)",
            "range": [
             53,
             54
            ]
           },
           {
            "color": "rgba(234, 255, 0, 0.3)",
            "range": [
             54,
             55
            ]
           },
           {
            "color": "rgba(229, 255, 0, 0.3)",
            "range": [
             55,
             56
            ]
           },
           {
            "color": "rgba(224, 255, 0, 0.3)",
            "range": [
             56,
             57
            ]
           },
           {
            "color": "rgba(219, 255, 0, 0.3)",
            "range": [
             57,
             58
            ]
           },
           {
            "color": "rgba(214, 255, 0, 0.3)",
            "range": [
             58,
             59
            ]
           },
           {
            "color": "rgba(209, 255, 0, 0.3)",
            "range": [
             59,
             60
            ]
           },
           {
            "color": "rgba(204, 255, 0, 0.3)",
            "range": [
             60,
             61
            ]
           },
           {
            "color": "rgba(198, 255, 0, 0.3)",
            "range": [
             61,
             62
            ]
           },
           {
            "color": "rgba(193, 255, 0, 0.3)",
            "range": [
             62,
             63
            ]
           },
           {
            "color": "rgba(188, 255, 0, 0.3)",
            "range": [
             63,
             64
            ]
           },
           {
            "color": "rgba(183, 255, 0, 0.3)",
            "range": [
             64,
             65
            ]
           },
           {
            "color": "rgba(178, 255, 0, 0.3)",
            "range": [
             65,
             66
            ]
           },
           {
            "color": "rgba(173, 255, 0, 0.3)",
            "range": [
             66,
             67
            ]
           },
           {
            "color": "rgba(168, 255, 0, 0.3)",
            "range": [
             67,
             68
            ]
           },
           {
            "color": "rgba(163, 255, 0, 0.3)",
            "range": [
             68,
             69
            ]
           },
           {
            "color": "rgba(158, 255, 0, 0.3)",
            "range": [
             69,
             70
            ]
           },
           {
            "color": "rgba(153, 255, 0, 0.3)",
            "range": [
             70,
             71
            ]
           },
           {
            "color": "rgba(147, 255, 0, 0.3)",
            "range": [
             71,
             72
            ]
           },
           {
            "color": "rgba(142, 255, 0, 0.3)",
            "range": [
             72,
             73
            ]
           },
           {
            "color": "rgba(137, 255, 0, 0.3)",
            "range": [
             73,
             74
            ]
           },
           {
            "color": "rgba(132, 255, 0, 0.3)",
            "range": [
             74,
             75
            ]
           },
           {
            "color": "rgba(127, 255, 0, 0.3)",
            "range": [
             75,
             76
            ]
           },
           {
            "color": "rgba(122, 255, 0, 0.3)",
            "range": [
             76,
             77
            ]
           },
           {
            "color": "rgba(117, 255, 0, 0.3)",
            "range": [
             77,
             78
            ]
           },
           {
            "color": "rgba(112, 255, 0, 0.3)",
            "range": [
             78,
             79
            ]
           },
           {
            "color": "rgba(107, 255, 0, 0.3)",
            "range": [
             79,
             80
            ]
           },
           {
            "color": "rgba(102, 255, 0, 0.3)",
            "range": [
             80,
             81
            ]
           },
           {
            "color": "rgba(96, 255, 0, 0.3)",
            "range": [
             81,
             82
            ]
           },
           {
            "color": "rgba(91, 255, 0, 0.3)",
            "range": [
             82,
             83
            ]
           },
           {
            "color": "rgba(86, 255, 0, 0.3)",
            "range": [
             83,
             84
            ]
           },
           {
            "color": "rgba(81, 255, 0, 0.3)",
            "range": [
             84,
             85
            ]
           },
           {
            "color": "rgba(76, 255, 0, 0.3)",
            "range": [
             85,
             86
            ]
           },
           {
            "color": "rgba(71, 255, 0, 0.3)",
            "range": [
             86,
             87
            ]
           },
           {
            "color": "rgba(66, 255, 0, 0.3)",
            "range": [
             87,
             88
            ]
           },
           {
            "color": "rgba(61, 255, 0, 0.3)",
            "range": [
             88,
             89
            ]
           },
           {
            "color": "rgba(56, 255, 0, 0.3)",
            "range": [
             89,
             90
            ]
           },
           {
            "color": "rgba(50, 255, 0, 0.3)",
            "range": [
             90,
             91
            ]
           },
           {
            "color": "rgba(45, 255, 0, 0.3)",
            "range": [
             91,
             92
            ]
           },
           {
            "color": "rgba(40, 255, 0, 0.3)",
            "range": [
             92,
             93
            ]
           },
           {
            "color": "rgba(35, 255, 0, 0.3)",
            "range": [
             93,
             94
            ]
           },
           {
            "color": "rgba(30, 255, 0, 0.3)",
            "range": [
             94,
             95
            ]
           },
           {
            "color": "rgba(25, 255, 0, 0.3)",
            "range": [
             95,
             96
            ]
           },
           {
            "color": "rgba(20, 255, 0, 0.3)",
            "range": [
             96,
             97
            ]
           },
           {
            "color": "rgba(15, 255, 0, 0.3)",
            "range": [
             97,
             98
            ]
           },
           {
            "color": "rgba(10, 255, 0, 0.3)",
            "range": [
             98,
             99
            ]
           },
           {
            "color": "rgba(5, 255, 0, 0.3)",
            "range": [
             99,
             100
            ]
           }
          ]
         },
         "mode": "gauge+number",
         "title": {
          "text": "Best Attribute: Similarities"
         },
         "type": "indicator",
         "value": 99
        },
        {
         "domain": {
          "x": [
           0.3,
           0.7
          ],
          "y": [
           0,
           0.4
          ]
         },
         "gauge": {
          "axis": {
           "range": [
            0,
            100
           ]
          },
          "bar": {
           "color": "rgb(255, 5, 0)"
          },
          "steps": [
           {
            "color": "rgba(255, 0, 0, 0.3)",
            "range": [
             0,
             1
            ]
           },
           {
            "color": "rgba(255, 5, 0, 0.3)",
            "range": [
             1,
             2
            ]
           },
           {
            "color": "rgba(255, 10, 0, 0.3)",
            "range": [
             2,
             3
            ]
           },
           {
            "color": "rgba(255, 15, 0, 0.3)",
            "range": [
             3,
             4
            ]
           },
           {
            "color": "rgba(255, 20, 0, 0.3)",
            "range": [
             4,
             5
            ]
           },
           {
            "color": "rgba(255, 25, 0, 0.3)",
            "range": [
             5,
             6
            ]
           },
           {
            "color": "rgba(255, 30, 0, 0.3)",
            "range": [
             6,
             7
            ]
           },
           {
            "color": "rgba(255, 35, 0, 0.3)",
            "range": [
             7,
             8
            ]
           },
           {
            "color": "rgba(255, 40, 0, 0.3)",
            "range": [
             8,
             9
            ]
           },
           {
            "color": "rgba(255, 45, 0, 0.3)",
            "range": [
             9,
             10
            ]
           },
           {
            "color": "rgba(255, 51, 0, 0.3)",
            "range": [
             10,
             11
            ]
           },
           {
            "color": "rgba(255, 56, 0, 0.3)",
            "range": [
             11,
             12
            ]
           },
           {
            "color": "rgba(255, 61, 0, 0.3)",
            "range": [
             12,
             13
            ]
           },
           {
            "color": "rgba(255, 66, 0, 0.3)",
            "range": [
             13,
             14
            ]
           },
           {
            "color": "rgba(255, 71, 0, 0.3)",
            "range": [
             14,
             15
            ]
           },
           {
            "color": "rgba(255, 76, 0, 0.3)",
            "range": [
             15,
             16
            ]
           },
           {
            "color": "rgba(255, 81, 0, 0.3)",
            "range": [
             16,
             17
            ]
           },
           {
            "color": "rgba(255, 86, 0, 0.3)",
            "range": [
             17,
             18
            ]
           },
           {
            "color": "rgba(255, 91, 0, 0.3)",
            "range": [
             18,
             19
            ]
           },
           {
            "color": "rgba(255, 96, 0, 0.3)",
            "range": [
             19,
             20
            ]
           },
           {
            "color": "rgba(255, 102, 0, 0.3)",
            "range": [
             20,
             21
            ]
           },
           {
            "color": "rgba(255, 107, 0, 0.3)",
            "range": [
             21,
             22
            ]
           },
           {
            "color": "rgba(255, 112, 0, 0.3)",
            "range": [
             22,
             23
            ]
           },
           {
            "color": "rgba(255, 117, 0, 0.3)",
            "range": [
             23,
             24
            ]
           },
           {
            "color": "rgba(255, 122, 0, 0.3)",
            "range": [
             24,
             25
            ]
           },
           {
            "color": "rgba(255, 127, 0, 0.3)",
            "range": [
             25,
             26
            ]
           },
           {
            "color": "rgba(255, 132, 0, 0.3)",
            "range": [
             26,
             27
            ]
           },
           {
            "color": "rgba(255, 137, 0, 0.3)",
            "range": [
             27,
             28
            ]
           },
           {
            "color": "rgba(255, 142, 0, 0.3)",
            "range": [
             28,
             29
            ]
           },
           {
            "color": "rgba(255, 147, 0, 0.3)",
            "range": [
             29,
             30
            ]
           },
           {
            "color": "rgba(255, 153, 0, 0.3)",
            "range": [
             30,
             31
            ]
           },
           {
            "color": "rgba(255, 158, 0, 0.3)",
            "range": [
             31,
             32
            ]
           },
           {
            "color": "rgba(255, 163, 0, 0.3)",
            "range": [
             32,
             33
            ]
           },
           {
            "color": "rgba(255, 168, 0, 0.3)",
            "range": [
             33,
             34
            ]
           },
           {
            "color": "rgba(255, 173, 0, 0.3)",
            "range": [
             34,
             35
            ]
           },
           {
            "color": "rgba(255, 178, 0, 0.3)",
            "range": [
             35,
             36
            ]
           },
           {
            "color": "rgba(255, 183, 0, 0.3)",
            "range": [
             36,
             37
            ]
           },
           {
            "color": "rgba(255, 188, 0, 0.3)",
            "range": [
             37,
             38
            ]
           },
           {
            "color": "rgba(255, 193, 0, 0.3)",
            "range": [
             38,
             39
            ]
           },
           {
            "color": "rgba(255, 198, 0, 0.3)",
            "range": [
             39,
             40
            ]
           },
           {
            "color": "rgba(255, 204, 0, 0.3)",
            "range": [
             40,
             41
            ]
           },
           {
            "color": "rgba(255, 209, 0, 0.3)",
            "range": [
             41,
             42
            ]
           },
           {
            "color": "rgba(255, 214, 0, 0.3)",
            "range": [
             42,
             43
            ]
           },
           {
            "color": "rgba(255, 219, 0, 0.3)",
            "range": [
             43,
             44
            ]
           },
           {
            "color": "rgba(255, 224, 0, 0.3)",
            "range": [
             44,
             45
            ]
           },
           {
            "color": "rgba(255, 229, 0, 0.3)",
            "range": [
             45,
             46
            ]
           },
           {
            "color": "rgba(255, 234, 0, 0.3)",
            "range": [
             46,
             47
            ]
           },
           {
            "color": "rgba(255, 239, 0, 0.3)",
            "range": [
             47,
             48
            ]
           },
           {
            "color": "rgba(255, 244, 0, 0.3)",
            "range": [
             48,
             49
            ]
           },
           {
            "color": "rgba(255, 249, 0, 0.3)",
            "range": [
             49,
             50
            ]
           },
           {
            "color": "rgba(255, 255, 0, 0.3)",
            "range": [
             50,
             51
            ]
           },
           {
            "color": "rgba(249, 255, 0, 0.3)",
            "range": [
             51,
             52
            ]
           },
           {
            "color": "rgba(244, 255, 0, 0.3)",
            "range": [
             52,
             53
            ]
           },
           {
            "color": "rgba(239, 255, 0, 0.3)",
            "range": [
             53,
             54
            ]
           },
           {
            "color": "rgba(234, 255, 0, 0.3)",
            "range": [
             54,
             55
            ]
           },
           {
            "color": "rgba(229, 255, 0, 0.3)",
            "range": [
             55,
             56
            ]
           },
           {
            "color": "rgba(224, 255, 0, 0.3)",
            "range": [
             56,
             57
            ]
           },
           {
            "color": "rgba(219, 255, 0, 0.3)",
            "range": [
             57,
             58
            ]
           },
           {
            "color": "rgba(214, 255, 0, 0.3)",
            "range": [
             58,
             59
            ]
           },
           {
            "color": "rgba(209, 255, 0, 0.3)",
            "range": [
             59,
             60
            ]
           },
           {
            "color": "rgba(204, 255, 0, 0.3)",
            "range": [
             60,
             61
            ]
           },
           {
            "color": "rgba(198, 255, 0, 0.3)",
            "range": [
             61,
             62
            ]
           },
           {
            "color": "rgba(193, 255, 0, 0.3)",
            "range": [
             62,
             63
            ]
           },
           {
            "color": "rgba(188, 255, 0, 0.3)",
            "range": [
             63,
             64
            ]
           },
           {
            "color": "rgba(183, 255, 0, 0.3)",
            "range": [
             64,
             65
            ]
           },
           {
            "color": "rgba(178, 255, 0, 0.3)",
            "range": [
             65,
             66
            ]
           },
           {
            "color": "rgba(173, 255, 0, 0.3)",
            "range": [
             66,
             67
            ]
           },
           {
            "color": "rgba(168, 255, 0, 0.3)",
            "range": [
             67,
             68
            ]
           },
           {
            "color": "rgba(163, 255, 0, 0.3)",
            "range": [
             68,
             69
            ]
           },
           {
            "color": "rgba(158, 255, 0, 0.3)",
            "range": [
             69,
             70
            ]
           },
           {
            "color": "rgba(153, 255, 0, 0.3)",
            "range": [
             70,
             71
            ]
           },
           {
            "color": "rgba(147, 255, 0, 0.3)",
            "range": [
             71,
             72
            ]
           },
           {
            "color": "rgba(142, 255, 0, 0.3)",
            "range": [
             72,
             73
            ]
           },
           {
            "color": "rgba(137, 255, 0, 0.3)",
            "range": [
             73,
             74
            ]
           },
           {
            "color": "rgba(132, 255, 0, 0.3)",
            "range": [
             74,
             75
            ]
           },
           {
            "color": "rgba(127, 255, 0, 0.3)",
            "range": [
             75,
             76
            ]
           },
           {
            "color": "rgba(122, 255, 0, 0.3)",
            "range": [
             76,
             77
            ]
           },
           {
            "color": "rgba(117, 255, 0, 0.3)",
            "range": [
             77,
             78
            ]
           },
           {
            "color": "rgba(112, 255, 0, 0.3)",
            "range": [
             78,
             79
            ]
           },
           {
            "color": "rgba(107, 255, 0, 0.3)",
            "range": [
             79,
             80
            ]
           },
           {
            "color": "rgba(102, 255, 0, 0.3)",
            "range": [
             80,
             81
            ]
           },
           {
            "color": "rgba(96, 255, 0, 0.3)",
            "range": [
             81,
             82
            ]
           },
           {
            "color": "rgba(91, 255, 0, 0.3)",
            "range": [
             82,
             83
            ]
           },
           {
            "color": "rgba(86, 255, 0, 0.3)",
            "range": [
             83,
             84
            ]
           },
           {
            "color": "rgba(81, 255, 0, 0.3)",
            "range": [
             84,
             85
            ]
           },
           {
            "color": "rgba(76, 255, 0, 0.3)",
            "range": [
             85,
             86
            ]
           },
           {
            "color": "rgba(71, 255, 0, 0.3)",
            "range": [
             86,
             87
            ]
           },
           {
            "color": "rgba(66, 255, 0, 0.3)",
            "range": [
             87,
             88
            ]
           },
           {
            "color": "rgba(61, 255, 0, 0.3)",
            "range": [
             88,
             89
            ]
           },
           {
            "color": "rgba(56, 255, 0, 0.3)",
            "range": [
             89,
             90
            ]
           },
           {
            "color": "rgba(50, 255, 0, 0.3)",
            "range": [
             90,
             91
            ]
           },
           {
            "color": "rgba(45, 255, 0, 0.3)",
            "range": [
             91,
             92
            ]
           },
           {
            "color": "rgba(40, 255, 0, 0.3)",
            "range": [
             92,
             93
            ]
           },
           {
            "color": "rgba(35, 255, 0, 0.3)",
            "range": [
             93,
             94
            ]
           },
           {
            "color": "rgba(30, 255, 0, 0.3)",
            "range": [
             94,
             95
            ]
           },
           {
            "color": "rgba(25, 255, 0, 0.3)",
            "range": [
             95,
             96
            ]
           },
           {
            "color": "rgba(20, 255, 0, 0.3)",
            "range": [
             96,
             97
            ]
           },
           {
            "color": "rgba(15, 255, 0, 0.3)",
            "range": [
             97,
             98
            ]
           },
           {
            "color": "rgba(10, 255, 0, 0.3)",
            "range": [
             98,
             99
            ]
           },
           {
            "color": "rgba(5, 255, 0, 0.3)",
            "range": [
             99,
             100
            ]
           }
          ]
         },
         "mode": "gauge+number",
         "title": {
          "text": "Worst Attribute: Digit Span"
         },
         "type": "indicator",
         "value": 1
        }
       ],
       "layout": {
        "annotations": [
         {
          "align": "center",
          "font": {
           "size": 12
          },
          "showarrow": false,
          "text": "Strong skills in verbal reasoning and forming concepts.",
          "x": 1.01,
          "y": 0.6
         },
         {
          "align": "center",
          "font": {
           "size": 12
          },
          "showarrow": false,
          "text": "Difficulty with attention, concentration, and mental control.",
          "x": 0.5,
          "y": 0.03
         },
         {
          "align": "center",
          "bgcolor": "lightyellow",
          "bordercolor": "black",
          "borderpad": 10,
          "borderwidth": 1,
          "font": {
           "color": "black",
           "size": 14
          },
          "opacity": 0.8,
          "showarrow": false,
          "text": "<b>Dyslexia Diagnosis:</b> Mild Dyslexia",
          "x": 0.001,
          "xref": "paper",
          "y": 1.01,
          "yref": "paper"
         }
        ],
        "autosize": false,
        "height": 800,
        "margin": {
         "b": 50,
         "l": 50,
         "r": 50,
         "t": 50
        },
        "template": {
         "data": {
          "bar": [
           {
            "error_x": {
             "color": "#2a3f5f"
            },
            "error_y": {
             "color": "#2a3f5f"
            },
            "marker": {
             "line": {
              "color": "#E5ECF6",
              "width": 0.5
             },
             "pattern": {
              "fillmode": "overlay",
              "size": 10,
              "solidity": 0.2
             }
            },
            "type": "bar"
           }
          ],
          "barpolar": [
           {
            "marker": {
             "line": {
              "color": "#E5ECF6",
              "width": 0.5
             },
             "pattern": {
              "fillmode": "overlay",
              "size": 10,
              "solidity": 0.2
             }
            },
            "type": "barpolar"
           }
          ],
          "carpet": [
           {
            "aaxis": {
             "endlinecolor": "#2a3f5f",
             "gridcolor": "white",
             "linecolor": "white",
             "minorgridcolor": "white",
             "startlinecolor": "#2a3f5f"
            },
            "baxis": {
             "endlinecolor": "#2a3f5f",
             "gridcolor": "white",
             "linecolor": "white",
             "minorgridcolor": "white",
             "startlinecolor": "#2a3f5f"
            },
            "type": "carpet"
           }
          ],
          "choropleth": [
           {
            "colorbar": {
             "outlinewidth": 0,
             "ticks": ""
            },
            "type": "choropleth"
           }
          ],
          "contour": [
           {
            "colorbar": {
             "outlinewidth": 0,
             "ticks": ""
            },
            "colorscale": [
             [
              0,
              "#0d0887"
             ],
             [
              0.1111111111111111,
              "#46039f"
             ],
             [
              0.2222222222222222,
              "#7201a8"
             ],
             [
              0.3333333333333333,
              "#9c179e"
             ],
             [
              0.4444444444444444,
              "#bd3786"
             ],
             [
              0.5555555555555556,
              "#d8576b"
             ],
             [
              0.6666666666666666,
              "#ed7953"
             ],
             [
              0.7777777777777778,
              "#fb9f3a"
             ],
             [
              0.8888888888888888,
              "#fdca26"
             ],
             [
              1,
              "#f0f921"
             ]
            ],
            "type": "contour"
           }
          ],
          "contourcarpet": [
           {
            "colorbar": {
             "outlinewidth": 0,
             "ticks": ""
            },
            "type": "contourcarpet"
           }
          ],
          "heatmap": [
           {
            "colorbar": {
             "outlinewidth": 0,
             "ticks": ""
            },
            "colorscale": [
             [
              0,
              "#0d0887"
             ],
             [
              0.1111111111111111,
              "#46039f"
             ],
             [
              0.2222222222222222,
              "#7201a8"
             ],
             [
              0.3333333333333333,
              "#9c179e"
             ],
             [
              0.4444444444444444,
              "#bd3786"
             ],
             [
              0.5555555555555556,
              "#d8576b"
             ],
             [
              0.6666666666666666,
              "#ed7953"
             ],
             [
              0.7777777777777778,
              "#fb9f3a"
             ],
             [
              0.8888888888888888,
              "#fdca26"
             ],
             [
              1,
              "#f0f921"
             ]
            ],
            "type": "heatmap"
           }
          ],
          "heatmapgl": [
           {
            "colorbar": {
             "outlinewidth": 0,
             "ticks": ""
            },
            "colorscale": [
             [
              0,
              "#0d0887"
             ],
             [
              0.1111111111111111,
              "#46039f"
             ],
             [
              0.2222222222222222,
              "#7201a8"
             ],
             [
              0.3333333333333333,
              "#9c179e"
             ],
             [
              0.4444444444444444,
              "#bd3786"
             ],
             [
              0.5555555555555556,
              "#d8576b"
             ],
             [
              0.6666666666666666,
              "#ed7953"
             ],
             [
              0.7777777777777778,
              "#fb9f3a"
             ],
             [
              0.8888888888888888,
              "#fdca26"
             ],
             [
              1,
              "#f0f921"
             ]
            ],
            "type": "heatmapgl"
           }
          ],
          "histogram": [
           {
            "marker": {
             "pattern": {
              "fillmode": "overlay",
              "size": 10,
              "solidity": 0.2
             }
            },
            "type": "histogram"
           }
          ],
          "histogram2d": [
           {
            "colorbar": {
             "outlinewidth": 0,
             "ticks": ""
            },
            "colorscale": [
             [
              0,
              "#0d0887"
             ],
             [
              0.1111111111111111,
              "#46039f"
             ],
             [
              0.2222222222222222,
              "#7201a8"
             ],
             [
              0.3333333333333333,
              "#9c179e"
             ],
             [
              0.4444444444444444,
              "#bd3786"
             ],
             [
              0.5555555555555556,
              "#d8576b"
             ],
             [
              0.6666666666666666,
              "#ed7953"
             ],
             [
              0.7777777777777778,
              "#fb9f3a"
             ],
             [
              0.8888888888888888,
              "#fdca26"
             ],
             [
              1,
              "#f0f921"
             ]
            ],
            "type": "histogram2d"
           }
          ],
          "histogram2dcontour": [
           {
            "colorbar": {
             "outlinewidth": 0,
             "ticks": ""
            },
            "colorscale": [
             [
              0,
              "#0d0887"
             ],
             [
              0.1111111111111111,
              "#46039f"
             ],
             [
              0.2222222222222222,
              "#7201a8"
             ],
             [
              0.3333333333333333,
              "#9c179e"
             ],
             [
              0.4444444444444444,
              "#bd3786"
             ],
             [
              0.5555555555555556,
              "#d8576b"
             ],
             [
              0.6666666666666666,
              "#ed7953"
             ],
             [
              0.7777777777777778,
              "#fb9f3a"
             ],
             [
              0.8888888888888888,
              "#fdca26"
             ],
             [
              1,
              "#f0f921"
             ]
            ],
            "type": "histogram2dcontour"
           }
          ],
          "mesh3d": [
           {
            "colorbar": {
             "outlinewidth": 0,
             "ticks": ""
            },
            "type": "mesh3d"
           }
          ],
          "parcoords": [
           {
            "line": {
             "colorbar": {
              "outlinewidth": 0,
              "ticks": ""
             }
            },
            "type": "parcoords"
           }
          ],
          "pie": [
           {
            "automargin": true,
            "type": "pie"
           }
          ],
          "scatter": [
           {
            "marker": {
             "colorbar": {
              "outlinewidth": 0,
              "ticks": ""
             }
            },
            "type": "scatter"
           }
          ],
          "scatter3d": [
           {
            "line": {
             "colorbar": {
              "outlinewidth": 0,
              "ticks": ""
             }
            },
            "marker": {
             "colorbar": {
              "outlinewidth": 0,
              "ticks": ""
             }
            },
            "type": "scatter3d"
           }
          ],
          "scattercarpet": [
           {
            "marker": {
             "colorbar": {
              "outlinewidth": 0,
              "ticks": ""
             }
            },
            "type": "scattercarpet"
           }
          ],
          "scattergeo": [
           {
            "marker": {
             "colorbar": {
              "outlinewidth": 0,
              "ticks": ""
             }
            },
            "type": "scattergeo"
           }
          ],
          "scattergl": [
           {
            "marker": {
             "colorbar": {
              "outlinewidth": 0,
              "ticks": ""
             }
            },
            "type": "scattergl"
           }
          ],
          "scattermapbox": [
           {
            "marker": {
             "colorbar": {
              "outlinewidth": 0,
              "ticks": ""
             }
            },
            "type": "scattermapbox"
           }
          ],
          "scatterpolar": [
           {
            "marker": {
             "colorbar": {
              "outlinewidth": 0,
              "ticks": ""
             }
            },
            "type": "scatterpolar"
           }
          ],
          "scatterpolargl": [
           {
            "marker": {
             "colorbar": {
              "outlinewidth": 0,
              "ticks": ""
             }
            },
            "type": "scatterpolargl"
           }
          ],
          "scatterternary": [
           {
            "marker": {
             "colorbar": {
              "outlinewidth": 0,
              "ticks": ""
             }
            },
            "type": "scatterternary"
           }
          ],
          "surface": [
           {
            "colorbar": {
             "outlinewidth": 0,
             "ticks": ""
            },
            "colorscale": [
             [
              0,
              "#0d0887"
             ],
             [
              0.1111111111111111,
              "#46039f"
             ],
             [
              0.2222222222222222,
              "#7201a8"
             ],
             [
              0.3333333333333333,
              "#9c179e"
             ],
             [
              0.4444444444444444,
              "#bd3786"
             ],
             [
              0.5555555555555556,
              "#d8576b"
             ],
             [
              0.6666666666666666,
              "#ed7953"
             ],
             [
              0.7777777777777778,
              "#fb9f3a"
             ],
             [
              0.8888888888888888,
              "#fdca26"
             ],
             [
              1,
              "#f0f921"
             ]
            ],
            "type": "surface"
           }
          ],
          "table": [
           {
            "cells": {
             "fill": {
              "color": "#EBF0F8"
             },
             "line": {
              "color": "white"
             }
            },
            "header": {
             "fill": {
              "color": "#C8D4E3"
             },
             "line": {
              "color": "white"
             }
            },
            "type": "table"
           }
          ]
         },
         "layout": {
          "annotationdefaults": {
           "arrowcolor": "#2a3f5f",
           "arrowhead": 0,
           "arrowwidth": 1
          },
          "autotypenumbers": "strict",
          "coloraxis": {
           "colorbar": {
            "outlinewidth": 0,
            "ticks": ""
           }
          },
          "colorscale": {
           "diverging": [
            [
             0,
             "#8e0152"
            ],
            [
             0.1,
             "#c51b7d"
            ],
            [
             0.2,
             "#de77ae"
            ],
            [
             0.3,
             "#f1b6da"
            ],
            [
             0.4,
             "#fde0ef"
            ],
            [
             0.5,
             "#f7f7f7"
            ],
            [
             0.6,
             "#e6f5d0"
            ],
            [
             0.7,
             "#b8e186"
            ],
            [
             0.8,
             "#7fbc41"
            ],
            [
             0.9,
             "#4d9221"
            ],
            [
             1,
             "#276419"
            ]
           ],
           "sequential": [
            [
             0,
             "#0d0887"
            ],
            [
             0.1111111111111111,
             "#46039f"
            ],
            [
             0.2222222222222222,
             "#7201a8"
            ],
            [
             0.3333333333333333,
             "#9c179e"
            ],
            [
             0.4444444444444444,
             "#bd3786"
            ],
            [
             0.5555555555555556,
             "#d8576b"
            ],
            [
             0.6666666666666666,
             "#ed7953"
            ],
            [
             0.7777777777777778,
             "#fb9f3a"
            ],
            [
             0.8888888888888888,
             "#fdca26"
            ],
            [
             1,
             "#f0f921"
            ]
           ],
           "sequentialminus": [
            [
             0,
             "#0d0887"
            ],
            [
             0.1111111111111111,
             "#46039f"
            ],
            [
             0.2222222222222222,
             "#7201a8"
            ],
            [
             0.3333333333333333,
             "#9c179e"
            ],
            [
             0.4444444444444444,
             "#bd3786"
            ],
            [
             0.5555555555555556,
             "#d8576b"
            ],
            [
             0.6666666666666666,
             "#ed7953"
            ],
            [
             0.7777777777777778,
             "#fb9f3a"
            ],
            [
             0.8888888888888888,
             "#fdca26"
            ],
            [
             1,
             "#f0f921"
            ]
           ]
          },
          "colorway": [
           "#636efa",
           "#EF553B",
           "#00cc96",
           "#ab63fa",
           "#FFA15A",
           "#19d3f3",
           "#FF6692",
           "#B6E880",
           "#FF97FF",
           "#FECB52"
          ],
          "font": {
           "color": "#2a3f5f"
          },
          "geo": {
           "bgcolor": "white",
           "lakecolor": "white",
           "landcolor": "#E5ECF6",
           "showlakes": true,
           "showland": true,
           "subunitcolor": "white"
          },
          "hoverlabel": {
           "align": "left"
          },
          "hovermode": "closest",
          "mapbox": {
           "style": "light"
          },
          "paper_bgcolor": "white",
          "plot_bgcolor": "#E5ECF6",
          "polar": {
           "angularaxis": {
            "gridcolor": "white",
            "linecolor": "white",
            "ticks": ""
           },
           "bgcolor": "#E5ECF6",
           "radialaxis": {
            "gridcolor": "white",
            "linecolor": "white",
            "ticks": ""
           }
          },
          "scene": {
           "xaxis": {
            "backgroundcolor": "#E5ECF6",
            "gridcolor": "white",
            "gridwidth": 2,
            "linecolor": "white",
            "showbackground": true,
            "ticks": "",
            "zerolinecolor": "white"
           },
           "yaxis": {
            "backgroundcolor": "#E5ECF6",
            "gridcolor": "white",
            "gridwidth": 2,
            "linecolor": "white",
            "showbackground": true,
            "ticks": "",
            "zerolinecolor": "white"
           },
           "zaxis": {
            "backgroundcolor": "#E5ECF6",
            "gridcolor": "white",
            "gridwidth": 2,
            "linecolor": "white",
            "showbackground": true,
            "ticks": "",
            "zerolinecolor": "white"
           }
          },
          "shapedefaults": {
           "line": {
            "color": "#2a3f5f"
           }
          },
          "ternary": {
           "aaxis": {
            "gridcolor": "white",
            "linecolor": "white",
            "ticks": ""
           },
           "baxis": {
            "gridcolor": "white",
            "linecolor": "white",
            "ticks": ""
           },
           "bgcolor": "#E5ECF6",
           "caxis": {
            "gridcolor": "white",
            "linecolor": "white",
            "ticks": ""
           }
          },
          "title": {
           "x": 0.05
          },
          "xaxis": {
           "automargin": true,
           "gridcolor": "white",
           "linecolor": "white",
           "ticks": "",
           "title": {
            "standoff": 15
           },
           "zerolinecolor": "white",
           "zerolinewidth": 2
          },
          "yaxis": {
           "automargin": true,
           "gridcolor": "white",
           "linecolor": "white",
           "ticks": "",
           "title": {
            "standoff": 15
           },
           "zerolinecolor": "white",
           "zerolinewidth": 2
          }
         }
        },
        "title": {
         "text": "Student Performance Summary"
        },
        "width": 1000
       }
      },
      "text/html": [
       "<div>                            <div id=\"6d76275d-5391-4e88-abcc-b9efd0c588d6\" class=\"plotly-graph-div\" style=\"height:800px; width:1000px;\"></div>            <script type=\"text/javascript\">                require([\"plotly\"], function(Plotly) {                    window.PLOTLYENV=window.PLOTLYENV || {};                                    if (document.getElementById(\"6d76275d-5391-4e88-abcc-b9efd0c588d6\")) {                    Plotly.newPlot(                        \"6d76275d-5391-4e88-abcc-b9efd0c588d6\",                        [{\"domain\":{\"x\":[0,0.4],\"y\":[0.5,1]},\"gauge\":{\"axis\":{\"range\":[0,100]},\"bar\":{\"color\":\"rgb(255, 227, 0)\"},\"steps\":[{\"color\":\"rgba(255, 0, 0, 0.3)\",\"range\":[0,1]},{\"color\":\"rgba(255, 5, 0, 0.3)\",\"range\":[1,2]},{\"color\":\"rgba(255, 10, 0, 0.3)\",\"range\":[2,3]},{\"color\":\"rgba(255, 15, 0, 0.3)\",\"range\":[3,4]},{\"color\":\"rgba(255, 20, 0, 0.3)\",\"range\":[4,5]},{\"color\":\"rgba(255, 25, 0, 0.3)\",\"range\":[5,6]},{\"color\":\"rgba(255, 30, 0, 0.3)\",\"range\":[6,7]},{\"color\":\"rgba(255, 35, 0, 0.3)\",\"range\":[7,8]},{\"color\":\"rgba(255, 40, 0, 0.3)\",\"range\":[8,9]},{\"color\":\"rgba(255, 45, 0, 0.3)\",\"range\":[9,10]},{\"color\":\"rgba(255, 51, 0, 0.3)\",\"range\":[10,11]},{\"color\":\"rgba(255, 56, 0, 0.3)\",\"range\":[11,12]},{\"color\":\"rgba(255, 61, 0, 0.3)\",\"range\":[12,13]},{\"color\":\"rgba(255, 66, 0, 0.3)\",\"range\":[13,14]},{\"color\":\"rgba(255, 71, 0, 0.3)\",\"range\":[14,15]},{\"color\":\"rgba(255, 76, 0, 0.3)\",\"range\":[15,16]},{\"color\":\"rgba(255, 81, 0, 0.3)\",\"range\":[16,17]},{\"color\":\"rgba(255, 86, 0, 0.3)\",\"range\":[17,18]},{\"color\":\"rgba(255, 91, 0, 0.3)\",\"range\":[18,19]},{\"color\":\"rgba(255, 96, 0, 0.3)\",\"range\":[19,20]},{\"color\":\"rgba(255, 102, 0, 0.3)\",\"range\":[20,21]},{\"color\":\"rgba(255, 107, 0, 0.3)\",\"range\":[21,22]},{\"color\":\"rgba(255, 112, 0, 0.3)\",\"range\":[22,23]},{\"color\":\"rgba(255, 117, 0, 0.3)\",\"range\":[23,24]},{\"color\":\"rgba(255, 122, 0, 0.3)\",\"range\":[24,25]},{\"color\":\"rgba(255, 127, 0, 0.3)\",\"range\":[25,26]},{\"color\":\"rgba(255, 132, 0, 0.3)\",\"range\":[26,27]},{\"color\":\"rgba(255, 137, 0, 0.3)\",\"range\":[27,28]},{\"color\":\"rgba(255, 142, 0, 0.3)\",\"range\":[28,29]},{\"color\":\"rgba(255, 147, 0, 0.3)\",\"range\":[29,30]},{\"color\":\"rgba(255, 153, 0, 0.3)\",\"range\":[30,31]},{\"color\":\"rgba(255, 158, 0, 0.3)\",\"range\":[31,32]},{\"color\":\"rgba(255, 163, 0, 0.3)\",\"range\":[32,33]},{\"color\":\"rgba(255, 168, 0, 0.3)\",\"range\":[33,34]},{\"color\":\"rgba(255, 173, 0, 0.3)\",\"range\":[34,35]},{\"color\":\"rgba(255, 178, 0, 0.3)\",\"range\":[35,36]},{\"color\":\"rgba(255, 183, 0, 0.3)\",\"range\":[36,37]},{\"color\":\"rgba(255, 188, 0, 0.3)\",\"range\":[37,38]},{\"color\":\"rgba(255, 193, 0, 0.3)\",\"range\":[38,39]},{\"color\":\"rgba(255, 198, 0, 0.3)\",\"range\":[39,40]},{\"color\":\"rgba(255, 204, 0, 0.3)\",\"range\":[40,41]},{\"color\":\"rgba(255, 209, 0, 0.3)\",\"range\":[41,42]},{\"color\":\"rgba(255, 214, 0, 0.3)\",\"range\":[42,43]},{\"color\":\"rgba(255, 219, 0, 0.3)\",\"range\":[43,44]},{\"color\":\"rgba(255, 224, 0, 0.3)\",\"range\":[44,45]},{\"color\":\"rgba(255, 229, 0, 0.3)\",\"range\":[45,46]},{\"color\":\"rgba(255, 234, 0, 0.3)\",\"range\":[46,47]},{\"color\":\"rgba(255, 239, 0, 0.3)\",\"range\":[47,48]},{\"color\":\"rgba(255, 244, 0, 0.3)\",\"range\":[48,49]},{\"color\":\"rgba(255, 249, 0, 0.3)\",\"range\":[49,50]},{\"color\":\"rgba(255, 255, 0, 0.3)\",\"range\":[50,51]},{\"color\":\"rgba(249, 255, 0, 0.3)\",\"range\":[51,52]},{\"color\":\"rgba(244, 255, 0, 0.3)\",\"range\":[52,53]},{\"color\":\"rgba(239, 255, 0, 0.3)\",\"range\":[53,54]},{\"color\":\"rgba(234, 255, 0, 0.3)\",\"range\":[54,55]},{\"color\":\"rgba(229, 255, 0, 0.3)\",\"range\":[55,56]},{\"color\":\"rgba(224, 255, 0, 0.3)\",\"range\":[56,57]},{\"color\":\"rgba(219, 255, 0, 0.3)\",\"range\":[57,58]},{\"color\":\"rgba(214, 255, 0, 0.3)\",\"range\":[58,59]},{\"color\":\"rgba(209, 255, 0, 0.3)\",\"range\":[59,60]},{\"color\":\"rgba(204, 255, 0, 0.3)\",\"range\":[60,61]},{\"color\":\"rgba(198, 255, 0, 0.3)\",\"range\":[61,62]},{\"color\":\"rgba(193, 255, 0, 0.3)\",\"range\":[62,63]},{\"color\":\"rgba(188, 255, 0, 0.3)\",\"range\":[63,64]},{\"color\":\"rgba(183, 255, 0, 0.3)\",\"range\":[64,65]},{\"color\":\"rgba(178, 255, 0, 0.3)\",\"range\":[65,66]},{\"color\":\"rgba(173, 255, 0, 0.3)\",\"range\":[66,67]},{\"color\":\"rgba(168, 255, 0, 0.3)\",\"range\":[67,68]},{\"color\":\"rgba(163, 255, 0, 0.3)\",\"range\":[68,69]},{\"color\":\"rgba(158, 255, 0, 0.3)\",\"range\":[69,70]},{\"color\":\"rgba(153, 255, 0, 0.3)\",\"range\":[70,71]},{\"color\":\"rgba(147, 255, 0, 0.3)\",\"range\":[71,72]},{\"color\":\"rgba(142, 255, 0, 0.3)\",\"range\":[72,73]},{\"color\":\"rgba(137, 255, 0, 0.3)\",\"range\":[73,74]},{\"color\":\"rgba(132, 255, 0, 0.3)\",\"range\":[74,75]},{\"color\":\"rgba(127, 255, 0, 0.3)\",\"range\":[75,76]},{\"color\":\"rgba(122, 255, 0, 0.3)\",\"range\":[76,77]},{\"color\":\"rgba(117, 255, 0, 0.3)\",\"range\":[77,78]},{\"color\":\"rgba(112, 255, 0, 0.3)\",\"range\":[78,79]},{\"color\":\"rgba(107, 255, 0, 0.3)\",\"range\":[79,80]},{\"color\":\"rgba(102, 255, 0, 0.3)\",\"range\":[80,81]},{\"color\":\"rgba(96, 255, 0, 0.3)\",\"range\":[81,82]},{\"color\":\"rgba(91, 255, 0, 0.3)\",\"range\":[82,83]},{\"color\":\"rgba(86, 255, 0, 0.3)\",\"range\":[83,84]},{\"color\":\"rgba(81, 255, 0, 0.3)\",\"range\":[84,85]},{\"color\":\"rgba(76, 255, 0, 0.3)\",\"range\":[85,86]},{\"color\":\"rgba(71, 255, 0, 0.3)\",\"range\":[86,87]},{\"color\":\"rgba(66, 255, 0, 0.3)\",\"range\":[87,88]},{\"color\":\"rgba(61, 255, 0, 0.3)\",\"range\":[88,89]},{\"color\":\"rgba(56, 255, 0, 0.3)\",\"range\":[89,90]},{\"color\":\"rgba(50, 255, 0, 0.3)\",\"range\":[90,91]},{\"color\":\"rgba(45, 255, 0, 0.3)\",\"range\":[91,92]},{\"color\":\"rgba(40, 255, 0, 0.3)\",\"range\":[92,93]},{\"color\":\"rgba(35, 255, 0, 0.3)\",\"range\":[93,94]},{\"color\":\"rgba(30, 255, 0, 0.3)\",\"range\":[94,95]},{\"color\":\"rgba(25, 255, 0, 0.3)\",\"range\":[95,96]},{\"color\":\"rgba(20, 255, 0, 0.3)\",\"range\":[96,97]},{\"color\":\"rgba(15, 255, 0, 0.3)\",\"range\":[97,98]},{\"color\":\"rgba(10, 255, 0, 0.3)\",\"range\":[98,99]},{\"color\":\"rgba(5, 255, 0, 0.3)\",\"range\":[99,100]}]},\"mode\":\"gauge+number\",\"title\":{\"text\":\"Overall Percentile\"},\"value\":44.63157894736842,\"type\":\"indicator\"},{\"domain\":{\"x\":[0.6,1],\"y\":[0.5,1]},\"gauge\":{\"axis\":{\"range\":[0,100]},\"bar\":{\"color\":\"rgb(5, 255, 0)\"},\"steps\":[{\"color\":\"rgba(255, 0, 0, 0.3)\",\"range\":[0,1]},{\"color\":\"rgba(255, 5, 0, 0.3)\",\"range\":[1,2]},{\"color\":\"rgba(255, 10, 0, 0.3)\",\"range\":[2,3]},{\"color\":\"rgba(255, 15, 0, 0.3)\",\"range\":[3,4]},{\"color\":\"rgba(255, 20, 0, 0.3)\",\"range\":[4,5]},{\"color\":\"rgba(255, 25, 0, 0.3)\",\"range\":[5,6]},{\"color\":\"rgba(255, 30, 0, 0.3)\",\"range\":[6,7]},{\"color\":\"rgba(255, 35, 0, 0.3)\",\"range\":[7,8]},{\"color\":\"rgba(255, 40, 0, 0.3)\",\"range\":[8,9]},{\"color\":\"rgba(255, 45, 0, 0.3)\",\"range\":[9,10]},{\"color\":\"rgba(255, 51, 0, 0.3)\",\"range\":[10,11]},{\"color\":\"rgba(255, 56, 0, 0.3)\",\"range\":[11,12]},{\"color\":\"rgba(255, 61, 0, 0.3)\",\"range\":[12,13]},{\"color\":\"rgba(255, 66, 0, 0.3)\",\"range\":[13,14]},{\"color\":\"rgba(255, 71, 0, 0.3)\",\"range\":[14,15]},{\"color\":\"rgba(255, 76, 0, 0.3)\",\"range\":[15,16]},{\"color\":\"rgba(255, 81, 0, 0.3)\",\"range\":[16,17]},{\"color\":\"rgba(255, 86, 0, 0.3)\",\"range\":[17,18]},{\"color\":\"rgba(255, 91, 0, 0.3)\",\"range\":[18,19]},{\"color\":\"rgba(255, 96, 0, 0.3)\",\"range\":[19,20]},{\"color\":\"rgba(255, 102, 0, 0.3)\",\"range\":[20,21]},{\"color\":\"rgba(255, 107, 0, 0.3)\",\"range\":[21,22]},{\"color\":\"rgba(255, 112, 0, 0.3)\",\"range\":[22,23]},{\"color\":\"rgba(255, 117, 0, 0.3)\",\"range\":[23,24]},{\"color\":\"rgba(255, 122, 0, 0.3)\",\"range\":[24,25]},{\"color\":\"rgba(255, 127, 0, 0.3)\",\"range\":[25,26]},{\"color\":\"rgba(255, 132, 0, 0.3)\",\"range\":[26,27]},{\"color\":\"rgba(255, 137, 0, 0.3)\",\"range\":[27,28]},{\"color\":\"rgba(255, 142, 0, 0.3)\",\"range\":[28,29]},{\"color\":\"rgba(255, 147, 0, 0.3)\",\"range\":[29,30]},{\"color\":\"rgba(255, 153, 0, 0.3)\",\"range\":[30,31]},{\"color\":\"rgba(255, 158, 0, 0.3)\",\"range\":[31,32]},{\"color\":\"rgba(255, 163, 0, 0.3)\",\"range\":[32,33]},{\"color\":\"rgba(255, 168, 0, 0.3)\",\"range\":[33,34]},{\"color\":\"rgba(255, 173, 0, 0.3)\",\"range\":[34,35]},{\"color\":\"rgba(255, 178, 0, 0.3)\",\"range\":[35,36]},{\"color\":\"rgba(255, 183, 0, 0.3)\",\"range\":[36,37]},{\"color\":\"rgba(255, 188, 0, 0.3)\",\"range\":[37,38]},{\"color\":\"rgba(255, 193, 0, 0.3)\",\"range\":[38,39]},{\"color\":\"rgba(255, 198, 0, 0.3)\",\"range\":[39,40]},{\"color\":\"rgba(255, 204, 0, 0.3)\",\"range\":[40,41]},{\"color\":\"rgba(255, 209, 0, 0.3)\",\"range\":[41,42]},{\"color\":\"rgba(255, 214, 0, 0.3)\",\"range\":[42,43]},{\"color\":\"rgba(255, 219, 0, 0.3)\",\"range\":[43,44]},{\"color\":\"rgba(255, 224, 0, 0.3)\",\"range\":[44,45]},{\"color\":\"rgba(255, 229, 0, 0.3)\",\"range\":[45,46]},{\"color\":\"rgba(255, 234, 0, 0.3)\",\"range\":[46,47]},{\"color\":\"rgba(255, 239, 0, 0.3)\",\"range\":[47,48]},{\"color\":\"rgba(255, 244, 0, 0.3)\",\"range\":[48,49]},{\"color\":\"rgba(255, 249, 0, 0.3)\",\"range\":[49,50]},{\"color\":\"rgba(255, 255, 0, 0.3)\",\"range\":[50,51]},{\"color\":\"rgba(249, 255, 0, 0.3)\",\"range\":[51,52]},{\"color\":\"rgba(244, 255, 0, 0.3)\",\"range\":[52,53]},{\"color\":\"rgba(239, 255, 0, 0.3)\",\"range\":[53,54]},{\"color\":\"rgba(234, 255, 0, 0.3)\",\"range\":[54,55]},{\"color\":\"rgba(229, 255, 0, 0.3)\",\"range\":[55,56]},{\"color\":\"rgba(224, 255, 0, 0.3)\",\"range\":[56,57]},{\"color\":\"rgba(219, 255, 0, 0.3)\",\"range\":[57,58]},{\"color\":\"rgba(214, 255, 0, 0.3)\",\"range\":[58,59]},{\"color\":\"rgba(209, 255, 0, 0.3)\",\"range\":[59,60]},{\"color\":\"rgba(204, 255, 0, 0.3)\",\"range\":[60,61]},{\"color\":\"rgba(198, 255, 0, 0.3)\",\"range\":[61,62]},{\"color\":\"rgba(193, 255, 0, 0.3)\",\"range\":[62,63]},{\"color\":\"rgba(188, 255, 0, 0.3)\",\"range\":[63,64]},{\"color\":\"rgba(183, 255, 0, 0.3)\",\"range\":[64,65]},{\"color\":\"rgba(178, 255, 0, 0.3)\",\"range\":[65,66]},{\"color\":\"rgba(173, 255, 0, 0.3)\",\"range\":[66,67]},{\"color\":\"rgba(168, 255, 0, 0.3)\",\"range\":[67,68]},{\"color\":\"rgba(163, 255, 0, 0.3)\",\"range\":[68,69]},{\"color\":\"rgba(158, 255, 0, 0.3)\",\"range\":[69,70]},{\"color\":\"rgba(153, 255, 0, 0.3)\",\"range\":[70,71]},{\"color\":\"rgba(147, 255, 0, 0.3)\",\"range\":[71,72]},{\"color\":\"rgba(142, 255, 0, 0.3)\",\"range\":[72,73]},{\"color\":\"rgba(137, 255, 0, 0.3)\",\"range\":[73,74]},{\"color\":\"rgba(132, 255, 0, 0.3)\",\"range\":[74,75]},{\"color\":\"rgba(127, 255, 0, 0.3)\",\"range\":[75,76]},{\"color\":\"rgba(122, 255, 0, 0.3)\",\"range\":[76,77]},{\"color\":\"rgba(117, 255, 0, 0.3)\",\"range\":[77,78]},{\"color\":\"rgba(112, 255, 0, 0.3)\",\"range\":[78,79]},{\"color\":\"rgba(107, 255, 0, 0.3)\",\"range\":[79,80]},{\"color\":\"rgba(102, 255, 0, 0.3)\",\"range\":[80,81]},{\"color\":\"rgba(96, 255, 0, 0.3)\",\"range\":[81,82]},{\"color\":\"rgba(91, 255, 0, 0.3)\",\"range\":[82,83]},{\"color\":\"rgba(86, 255, 0, 0.3)\",\"range\":[83,84]},{\"color\":\"rgba(81, 255, 0, 0.3)\",\"range\":[84,85]},{\"color\":\"rgba(76, 255, 0, 0.3)\",\"range\":[85,86]},{\"color\":\"rgba(71, 255, 0, 0.3)\",\"range\":[86,87]},{\"color\":\"rgba(66, 255, 0, 0.3)\",\"range\":[87,88]},{\"color\":\"rgba(61, 255, 0, 0.3)\",\"range\":[88,89]},{\"color\":\"rgba(56, 255, 0, 0.3)\",\"range\":[89,90]},{\"color\":\"rgba(50, 255, 0, 0.3)\",\"range\":[90,91]},{\"color\":\"rgba(45, 255, 0, 0.3)\",\"range\":[91,92]},{\"color\":\"rgba(40, 255, 0, 0.3)\",\"range\":[92,93]},{\"color\":\"rgba(35, 255, 0, 0.3)\",\"range\":[93,94]},{\"color\":\"rgba(30, 255, 0, 0.3)\",\"range\":[94,95]},{\"color\":\"rgba(25, 255, 0, 0.3)\",\"range\":[95,96]},{\"color\":\"rgba(20, 255, 0, 0.3)\",\"range\":[96,97]},{\"color\":\"rgba(15, 255, 0, 0.3)\",\"range\":[97,98]},{\"color\":\"rgba(10, 255, 0, 0.3)\",\"range\":[98,99]},{\"color\":\"rgba(5, 255, 0, 0.3)\",\"range\":[99,100]}]},\"mode\":\"gauge+number\",\"title\":{\"text\":\"Best Attribute: Similarities\"},\"value\":99,\"type\":\"indicator\"},{\"domain\":{\"x\":[0.3,0.7],\"y\":[0,0.4]},\"gauge\":{\"axis\":{\"range\":[0,100]},\"bar\":{\"color\":\"rgb(255, 5, 0)\"},\"steps\":[{\"color\":\"rgba(255, 0, 0, 0.3)\",\"range\":[0,1]},{\"color\":\"rgba(255, 5, 0, 0.3)\",\"range\":[1,2]},{\"color\":\"rgba(255, 10, 0, 0.3)\",\"range\":[2,3]},{\"color\":\"rgba(255, 15, 0, 0.3)\",\"range\":[3,4]},{\"color\":\"rgba(255, 20, 0, 0.3)\",\"range\":[4,5]},{\"color\":\"rgba(255, 25, 0, 0.3)\",\"range\":[5,6]},{\"color\":\"rgba(255, 30, 0, 0.3)\",\"range\":[6,7]},{\"color\":\"rgba(255, 35, 0, 0.3)\",\"range\":[7,8]},{\"color\":\"rgba(255, 40, 0, 0.3)\",\"range\":[8,9]},{\"color\":\"rgba(255, 45, 0, 0.3)\",\"range\":[9,10]},{\"color\":\"rgba(255, 51, 0, 0.3)\",\"range\":[10,11]},{\"color\":\"rgba(255, 56, 0, 0.3)\",\"range\":[11,12]},{\"color\":\"rgba(255, 61, 0, 0.3)\",\"range\":[12,13]},{\"color\":\"rgba(255, 66, 0, 0.3)\",\"range\":[13,14]},{\"color\":\"rgba(255, 71, 0, 0.3)\",\"range\":[14,15]},{\"color\":\"rgba(255, 76, 0, 0.3)\",\"range\":[15,16]},{\"color\":\"rgba(255, 81, 0, 0.3)\",\"range\":[16,17]},{\"color\":\"rgba(255, 86, 0, 0.3)\",\"range\":[17,18]},{\"color\":\"rgba(255, 91, 0, 0.3)\",\"range\":[18,19]},{\"color\":\"rgba(255, 96, 0, 0.3)\",\"range\":[19,20]},{\"color\":\"rgba(255, 102, 0, 0.3)\",\"range\":[20,21]},{\"color\":\"rgba(255, 107, 0, 0.3)\",\"range\":[21,22]},{\"color\":\"rgba(255, 112, 0, 0.3)\",\"range\":[22,23]},{\"color\":\"rgba(255, 117, 0, 0.3)\",\"range\":[23,24]},{\"color\":\"rgba(255, 122, 0, 0.3)\",\"range\":[24,25]},{\"color\":\"rgba(255, 127, 0, 0.3)\",\"range\":[25,26]},{\"color\":\"rgba(255, 132, 0, 0.3)\",\"range\":[26,27]},{\"color\":\"rgba(255, 137, 0, 0.3)\",\"range\":[27,28]},{\"color\":\"rgba(255, 142, 0, 0.3)\",\"range\":[28,29]},{\"color\":\"rgba(255, 147, 0, 0.3)\",\"range\":[29,30]},{\"color\":\"rgba(255, 153, 0, 0.3)\",\"range\":[30,31]},{\"color\":\"rgba(255, 158, 0, 0.3)\",\"range\":[31,32]},{\"color\":\"rgba(255, 163, 0, 0.3)\",\"range\":[32,33]},{\"color\":\"rgba(255, 168, 0, 0.3)\",\"range\":[33,34]},{\"color\":\"rgba(255, 173, 0, 0.3)\",\"range\":[34,35]},{\"color\":\"rgba(255, 178, 0, 0.3)\",\"range\":[35,36]},{\"color\":\"rgba(255, 183, 0, 0.3)\",\"range\":[36,37]},{\"color\":\"rgba(255, 188, 0, 0.3)\",\"range\":[37,38]},{\"color\":\"rgba(255, 193, 0, 0.3)\",\"range\":[38,39]},{\"color\":\"rgba(255, 198, 0, 0.3)\",\"range\":[39,40]},{\"color\":\"rgba(255, 204, 0, 0.3)\",\"range\":[40,41]},{\"color\":\"rgba(255, 209, 0, 0.3)\",\"range\":[41,42]},{\"color\":\"rgba(255, 214, 0, 0.3)\",\"range\":[42,43]},{\"color\":\"rgba(255, 219, 0, 0.3)\",\"range\":[43,44]},{\"color\":\"rgba(255, 224, 0, 0.3)\",\"range\":[44,45]},{\"color\":\"rgba(255, 229, 0, 0.3)\",\"range\":[45,46]},{\"color\":\"rgba(255, 234, 0, 0.3)\",\"range\":[46,47]},{\"color\":\"rgba(255, 239, 0, 0.3)\",\"range\":[47,48]},{\"color\":\"rgba(255, 244, 0, 0.3)\",\"range\":[48,49]},{\"color\":\"rgba(255, 249, 0, 0.3)\",\"range\":[49,50]},{\"color\":\"rgba(255, 255, 0, 0.3)\",\"range\":[50,51]},{\"color\":\"rgba(249, 255, 0, 0.3)\",\"range\":[51,52]},{\"color\":\"rgba(244, 255, 0, 0.3)\",\"range\":[52,53]},{\"color\":\"rgba(239, 255, 0, 0.3)\",\"range\":[53,54]},{\"color\":\"rgba(234, 255, 0, 0.3)\",\"range\":[54,55]},{\"color\":\"rgba(229, 255, 0, 0.3)\",\"range\":[55,56]},{\"color\":\"rgba(224, 255, 0, 0.3)\",\"range\":[56,57]},{\"color\":\"rgba(219, 255, 0, 0.3)\",\"range\":[57,58]},{\"color\":\"rgba(214, 255, 0, 0.3)\",\"range\":[58,59]},{\"color\":\"rgba(209, 255, 0, 0.3)\",\"range\":[59,60]},{\"color\":\"rgba(204, 255, 0, 0.3)\",\"range\":[60,61]},{\"color\":\"rgba(198, 255, 0, 0.3)\",\"range\":[61,62]},{\"color\":\"rgba(193, 255, 0, 0.3)\",\"range\":[62,63]},{\"color\":\"rgba(188, 255, 0, 0.3)\",\"range\":[63,64]},{\"color\":\"rgba(183, 255, 0, 0.3)\",\"range\":[64,65]},{\"color\":\"rgba(178, 255, 0, 0.3)\",\"range\":[65,66]},{\"color\":\"rgba(173, 255, 0, 0.3)\",\"range\":[66,67]},{\"color\":\"rgba(168, 255, 0, 0.3)\",\"range\":[67,68]},{\"color\":\"rgba(163, 255, 0, 0.3)\",\"range\":[68,69]},{\"color\":\"rgba(158, 255, 0, 0.3)\",\"range\":[69,70]},{\"color\":\"rgba(153, 255, 0, 0.3)\",\"range\":[70,71]},{\"color\":\"rgba(147, 255, 0, 0.3)\",\"range\":[71,72]},{\"color\":\"rgba(142, 255, 0, 0.3)\",\"range\":[72,73]},{\"color\":\"rgba(137, 255, 0, 0.3)\",\"range\":[73,74]},{\"color\":\"rgba(132, 255, 0, 0.3)\",\"range\":[74,75]},{\"color\":\"rgba(127, 255, 0, 0.3)\",\"range\":[75,76]},{\"color\":\"rgba(122, 255, 0, 0.3)\",\"range\":[76,77]},{\"color\":\"rgba(117, 255, 0, 0.3)\",\"range\":[77,78]},{\"color\":\"rgba(112, 255, 0, 0.3)\",\"range\":[78,79]},{\"color\":\"rgba(107, 255, 0, 0.3)\",\"range\":[79,80]},{\"color\":\"rgba(102, 255, 0, 0.3)\",\"range\":[80,81]},{\"color\":\"rgba(96, 255, 0, 0.3)\",\"range\":[81,82]},{\"color\":\"rgba(91, 255, 0, 0.3)\",\"range\":[82,83]},{\"color\":\"rgba(86, 255, 0, 0.3)\",\"range\":[83,84]},{\"color\":\"rgba(81, 255, 0, 0.3)\",\"range\":[84,85]},{\"color\":\"rgba(76, 255, 0, 0.3)\",\"range\":[85,86]},{\"color\":\"rgba(71, 255, 0, 0.3)\",\"range\":[86,87]},{\"color\":\"rgba(66, 255, 0, 0.3)\",\"range\":[87,88]},{\"color\":\"rgba(61, 255, 0, 0.3)\",\"range\":[88,89]},{\"color\":\"rgba(56, 255, 0, 0.3)\",\"range\":[89,90]},{\"color\":\"rgba(50, 255, 0, 0.3)\",\"range\":[90,91]},{\"color\":\"rgba(45, 255, 0, 0.3)\",\"range\":[91,92]},{\"color\":\"rgba(40, 255, 0, 0.3)\",\"range\":[92,93]},{\"color\":\"rgba(35, 255, 0, 0.3)\",\"range\":[93,94]},{\"color\":\"rgba(30, 255, 0, 0.3)\",\"range\":[94,95]},{\"color\":\"rgba(25, 255, 0, 0.3)\",\"range\":[95,96]},{\"color\":\"rgba(20, 255, 0, 0.3)\",\"range\":[96,97]},{\"color\":\"rgba(15, 255, 0, 0.3)\",\"range\":[97,98]},{\"color\":\"rgba(10, 255, 0, 0.3)\",\"range\":[98,99]},{\"color\":\"rgba(5, 255, 0, 0.3)\",\"range\":[99,100]}]},\"mode\":\"gauge+number\",\"title\":{\"text\":\"Worst Attribute: Digit Span\"},\"value\":1,\"type\":\"indicator\"}],                        {\"template\":{\"data\":{\"bar\":[{\"error_x\":{\"color\":\"#2a3f5f\"},\"error_y\":{\"color\":\"#2a3f5f\"},\"marker\":{\"line\":{\"color\":\"#E5ECF6\",\"width\":0.5},\"pattern\":{\"fillmode\":\"overlay\",\"size\":10,\"solidity\":0.2}},\"type\":\"bar\"}],\"barpolar\":[{\"marker\":{\"line\":{\"color\":\"#E5ECF6\",\"width\":0.5},\"pattern\":{\"fillmode\":\"overlay\",\"size\":10,\"solidity\":0.2}},\"type\":\"barpolar\"}],\"carpet\":[{\"aaxis\":{\"endlinecolor\":\"#2a3f5f\",\"gridcolor\":\"white\",\"linecolor\":\"white\",\"minorgridcolor\":\"white\",\"startlinecolor\":\"#2a3f5f\"},\"baxis\":{\"endlinecolor\":\"#2a3f5f\",\"gridcolor\":\"white\",\"linecolor\":\"white\",\"minorgridcolor\":\"white\",\"startlinecolor\":\"#2a3f5f\"},\"type\":\"carpet\"}],\"choropleth\":[{\"colorbar\":{\"outlinewidth\":0,\"ticks\":\"\"},\"type\":\"choropleth\"}],\"contour\":[{\"colorbar\":{\"outlinewidth\":0,\"ticks\":\"\"},\"colorscale\":[[0.0,\"#0d0887\"],[0.1111111111111111,\"#46039f\"],[0.2222222222222222,\"#7201a8\"],[0.3333333333333333,\"#9c179e\"],[0.4444444444444444,\"#bd3786\"],[0.5555555555555556,\"#d8576b\"],[0.6666666666666666,\"#ed7953\"],[0.7777777777777778,\"#fb9f3a\"],[0.8888888888888888,\"#fdca26\"],[1.0,\"#f0f921\"]],\"type\":\"contour\"}],\"contourcarpet\":[{\"colorbar\":{\"outlinewidth\":0,\"ticks\":\"\"},\"type\":\"contourcarpet\"}],\"heatmap\":[{\"colorbar\":{\"outlinewidth\":0,\"ticks\":\"\"},\"colorscale\":[[0.0,\"#0d0887\"],[0.1111111111111111,\"#46039f\"],[0.2222222222222222,\"#7201a8\"],[0.3333333333333333,\"#9c179e\"],[0.4444444444444444,\"#bd3786\"],[0.5555555555555556,\"#d8576b\"],[0.6666666666666666,\"#ed7953\"],[0.7777777777777778,\"#fb9f3a\"],[0.8888888888888888,\"#fdca26\"],[1.0,\"#f0f921\"]],\"type\":\"heatmap\"}],\"heatmapgl\":[{\"colorbar\":{\"outlinewidth\":0,\"ticks\":\"\"},\"colorscale\":[[0.0,\"#0d0887\"],[0.1111111111111111,\"#46039f\"],[0.2222222222222222,\"#7201a8\"],[0.3333333333333333,\"#9c179e\"],[0.4444444444444444,\"#bd3786\"],[0.5555555555555556,\"#d8576b\"],[0.6666666666666666,\"#ed7953\"],[0.7777777777777778,\"#fb9f3a\"],[0.8888888888888888,\"#fdca26\"],[1.0,\"#f0f921\"]],\"type\":\"heatmapgl\"}],\"histogram\":[{\"marker\":{\"pattern\":{\"fillmode\":\"overlay\",\"size\":10,\"solidity\":0.2}},\"type\":\"histogram\"}],\"histogram2d\":[{\"colorbar\":{\"outlinewidth\":0,\"ticks\":\"\"},\"colorscale\":[[0.0,\"#0d0887\"],[0.1111111111111111,\"#46039f\"],[0.2222222222222222,\"#7201a8\"],[0.3333333333333333,\"#9c179e\"],[0.4444444444444444,\"#bd3786\"],[0.5555555555555556,\"#d8576b\"],[0.6666666666666666,\"#ed7953\"],[0.7777777777777778,\"#fb9f3a\"],[0.8888888888888888,\"#fdca26\"],[1.0,\"#f0f921\"]],\"type\":\"histogram2d\"}],\"histogram2dcontour\":[{\"colorbar\":{\"outlinewidth\":0,\"ticks\":\"\"},\"colorscale\":[[0.0,\"#0d0887\"],[0.1111111111111111,\"#46039f\"],[0.2222222222222222,\"#7201a8\"],[0.3333333333333333,\"#9c179e\"],[0.4444444444444444,\"#bd3786\"],[0.5555555555555556,\"#d8576b\"],[0.6666666666666666,\"#ed7953\"],[0.7777777777777778,\"#fb9f3a\"],[0.8888888888888888,\"#fdca26\"],[1.0,\"#f0f921\"]],\"type\":\"histogram2dcontour\"}],\"mesh3d\":[{\"colorbar\":{\"outlinewidth\":0,\"ticks\":\"\"},\"type\":\"mesh3d\"}],\"parcoords\":[{\"line\":{\"colorbar\":{\"outlinewidth\":0,\"ticks\":\"\"}},\"type\":\"parcoords\"}],\"pie\":[{\"automargin\":true,\"type\":\"pie\"}],\"scatter\":[{\"marker\":{\"colorbar\":{\"outlinewidth\":0,\"ticks\":\"\"}},\"type\":\"scatter\"}],\"scatter3d\":[{\"line\":{\"colorbar\":{\"outlinewidth\":0,\"ticks\":\"\"}},\"marker\":{\"colorbar\":{\"outlinewidth\":0,\"ticks\":\"\"}},\"type\":\"scatter3d\"}],\"scattercarpet\":[{\"marker\":{\"colorbar\":{\"outlinewidth\":0,\"ticks\":\"\"}},\"type\":\"scattercarpet\"}],\"scattergeo\":[{\"marker\":{\"colorbar\":{\"outlinewidth\":0,\"ticks\":\"\"}},\"type\":\"scattergeo\"}],\"scattergl\":[{\"marker\":{\"colorbar\":{\"outlinewidth\":0,\"ticks\":\"\"}},\"type\":\"scattergl\"}],\"scattermapbox\":[{\"marker\":{\"colorbar\":{\"outlinewidth\":0,\"ticks\":\"\"}},\"type\":\"scattermapbox\"}],\"scatterpolar\":[{\"marker\":{\"colorbar\":{\"outlinewidth\":0,\"ticks\":\"\"}},\"type\":\"scatterpolar\"}],\"scatterpolargl\":[{\"marker\":{\"colorbar\":{\"outlinewidth\":0,\"ticks\":\"\"}},\"type\":\"scatterpolargl\"}],\"scatterternary\":[{\"marker\":{\"colorbar\":{\"outlinewidth\":0,\"ticks\":\"\"}},\"type\":\"scatterternary\"}],\"surface\":[{\"colorbar\":{\"outlinewidth\":0,\"ticks\":\"\"},\"colorscale\":[[0.0,\"#0d0887\"],[0.1111111111111111,\"#46039f\"],[0.2222222222222222,\"#7201a8\"],[0.3333333333333333,\"#9c179e\"],[0.4444444444444444,\"#bd3786\"],[0.5555555555555556,\"#d8576b\"],[0.6666666666666666,\"#ed7953\"],[0.7777777777777778,\"#fb9f3a\"],[0.8888888888888888,\"#fdca26\"],[1.0,\"#f0f921\"]],\"type\":\"surface\"}],\"table\":[{\"cells\":{\"fill\":{\"color\":\"#EBF0F8\"},\"line\":{\"color\":\"white\"}},\"header\":{\"fill\":{\"color\":\"#C8D4E3\"},\"line\":{\"color\":\"white\"}},\"type\":\"table\"}]},\"layout\":{\"annotationdefaults\":{\"arrowcolor\":\"#2a3f5f\",\"arrowhead\":0,\"arrowwidth\":1},\"autotypenumbers\":\"strict\",\"coloraxis\":{\"colorbar\":{\"outlinewidth\":0,\"ticks\":\"\"}},\"colorscale\":{\"diverging\":[[0,\"#8e0152\"],[0.1,\"#c51b7d\"],[0.2,\"#de77ae\"],[0.3,\"#f1b6da\"],[0.4,\"#fde0ef\"],[0.5,\"#f7f7f7\"],[0.6,\"#e6f5d0\"],[0.7,\"#b8e186\"],[0.8,\"#7fbc41\"],[0.9,\"#4d9221\"],[1,\"#276419\"]],\"sequential\":[[0.0,\"#0d0887\"],[0.1111111111111111,\"#46039f\"],[0.2222222222222222,\"#7201a8\"],[0.3333333333333333,\"#9c179e\"],[0.4444444444444444,\"#bd3786\"],[0.5555555555555556,\"#d8576b\"],[0.6666666666666666,\"#ed7953\"],[0.7777777777777778,\"#fb9f3a\"],[0.8888888888888888,\"#fdca26\"],[1.0,\"#f0f921\"]],\"sequentialminus\":[[0.0,\"#0d0887\"],[0.1111111111111111,\"#46039f\"],[0.2222222222222222,\"#7201a8\"],[0.3333333333333333,\"#9c179e\"],[0.4444444444444444,\"#bd3786\"],[0.5555555555555556,\"#d8576b\"],[0.6666666666666666,\"#ed7953\"],[0.7777777777777778,\"#fb9f3a\"],[0.8888888888888888,\"#fdca26\"],[1.0,\"#f0f921\"]]},\"colorway\":[\"#636efa\",\"#EF553B\",\"#00cc96\",\"#ab63fa\",\"#FFA15A\",\"#19d3f3\",\"#FF6692\",\"#B6E880\",\"#FF97FF\",\"#FECB52\"],\"font\":{\"color\":\"#2a3f5f\"},\"geo\":{\"bgcolor\":\"white\",\"lakecolor\":\"white\",\"landcolor\":\"#E5ECF6\",\"showlakes\":true,\"showland\":true,\"subunitcolor\":\"white\"},\"hoverlabel\":{\"align\":\"left\"},\"hovermode\":\"closest\",\"mapbox\":{\"style\":\"light\"},\"paper_bgcolor\":\"white\",\"plot_bgcolor\":\"#E5ECF6\",\"polar\":{\"angularaxis\":{\"gridcolor\":\"white\",\"linecolor\":\"white\",\"ticks\":\"\"},\"bgcolor\":\"#E5ECF6\",\"radialaxis\":{\"gridcolor\":\"white\",\"linecolor\":\"white\",\"ticks\":\"\"}},\"scene\":{\"xaxis\":{\"backgroundcolor\":\"#E5ECF6\",\"gridcolor\":\"white\",\"gridwidth\":2,\"linecolor\":\"white\",\"showbackground\":true,\"ticks\":\"\",\"zerolinecolor\":\"white\"},\"yaxis\":{\"backgroundcolor\":\"#E5ECF6\",\"gridcolor\":\"white\",\"gridwidth\":2,\"linecolor\":\"white\",\"showbackground\":true,\"ticks\":\"\",\"zerolinecolor\":\"white\"},\"zaxis\":{\"backgroundcolor\":\"#E5ECF6\",\"gridcolor\":\"white\",\"gridwidth\":2,\"linecolor\":\"white\",\"showbackground\":true,\"ticks\":\"\",\"zerolinecolor\":\"white\"}},\"shapedefaults\":{\"line\":{\"color\":\"#2a3f5f\"}},\"ternary\":{\"aaxis\":{\"gridcolor\":\"white\",\"linecolor\":\"white\",\"ticks\":\"\"},\"baxis\":{\"gridcolor\":\"white\",\"linecolor\":\"white\",\"ticks\":\"\"},\"bgcolor\":\"#E5ECF6\",\"caxis\":{\"gridcolor\":\"white\",\"linecolor\":\"white\",\"ticks\":\"\"}},\"title\":{\"x\":0.05},\"xaxis\":{\"automargin\":true,\"gridcolor\":\"white\",\"linecolor\":\"white\",\"ticks\":\"\",\"title\":{\"standoff\":15},\"zerolinecolor\":\"white\",\"zerolinewidth\":2},\"yaxis\":{\"automargin\":true,\"gridcolor\":\"white\",\"linecolor\":\"white\",\"ticks\":\"\",\"title\":{\"standoff\":15},\"zerolinecolor\":\"white\",\"zerolinewidth\":2}}},\"annotations\":[{\"align\":\"center\",\"font\":{\"size\":12},\"showarrow\":false,\"text\":\"Strong skills in verbal reasoning and forming concepts.\",\"x\":1.01,\"y\":0.6},{\"align\":\"center\",\"font\":{\"size\":12},\"showarrow\":false,\"text\":\"Difficulty with attention, concentration, and mental control.\",\"x\":0.5,\"y\":0.03},{\"align\":\"center\",\"bgcolor\":\"lightyellow\",\"bordercolor\":\"black\",\"borderpad\":10,\"borderwidth\":1,\"font\":{\"color\":\"black\",\"size\":14},\"opacity\":0.8,\"showarrow\":false,\"text\":\"<b>Dyslexia Diagnosis:</b> Mild Dyslexia\",\"x\":0.001,\"xref\":\"paper\",\"y\":1.01,\"yref\":\"paper\"}],\"margin\":{\"l\":50,\"r\":50,\"b\":50,\"t\":50},\"title\":{\"text\":\"Student Performance Summary\"},\"autosize\":false,\"width\":1000,\"height\":800},                        {\"responsive\": true}                    ).then(function(){\n",
       "                            \n",
       "var gd = document.getElementById('6d76275d-5391-4e88-abcc-b9efd0c588d6');\n",
       "var x = new MutationObserver(function (mutations, observer) {{\n",
       "        var display = window.getComputedStyle(gd).display;\n",
       "        if (!display || display === 'none') {{\n",
       "            console.log([gd, 'removed!']);\n",
       "            Plotly.purge(gd);\n",
       "            observer.disconnect();\n",
       "        }}\n",
       "}});\n",
       "\n",
       "// Listen for the removal of the full notebook cells\n",
       "var notebookContainer = gd.closest('#notebook-container');\n",
       "if (notebookContainer) {{\n",
       "    x.observe(notebookContainer, {childList: true});\n",
       "}}\n",
       "\n",
       "// Listen for the clearing of the current output cell\n",
       "var outputEl = gd.closest('.output');\n",
       "if (outputEl) {{\n",
       "    x.observe(outputEl, {childList: true});\n",
       "}}\n",
       "\n",
       "                        })                };                });            </script>        </div>"
      ]
     },
     "metadata": {},
     "output_type": "display_data"
    }
   ],
   "source": [
    "# Ensure all data is numeric\n",
    "for column in Data.columns:\n",
    "    Data[column] = pd.to_numeric(Data[column], errors='coerce')\n",
    "\n",
    "# Example new data point for prediction\n",
    "new_student = np.array([[99, 87, 5, 32, 69, 11, 84, 1, 76, 42, 83, 61, 69, 5, 14, 72, 5, 8, 25]])\n",
    "\n",
    "# Predict the class for the new student\n",
    "new_prediction = best_pipeline.predict(new_student)\n",
    "\n",
    "# Mapping of prediction to descriptive labels\n",
    "dyslexia_labels = {0: 'No Dyslexia', 1: 'Mild Dyslexia', 2: 'Severe Dyslexia'}\n",
    "prediction_label = dyslexia_labels[new_prediction[0]]\n",
    "\n",
    "# Calculate the overall percentile (mean of all percentiles for the student)\n",
    "overall_percentile = np.mean(new_student)\n",
    "\n",
    "# Identify the best and worst attributes\n",
    "best_attribute_index = np.argmax(new_student)\n",
    "worst_attribute_index = np.argmin(new_student)\n",
    "\n",
    "# Calculate the percentile rank for the best and worst attributes\n",
    "best_attribute_percentile = new_student[0, best_attribute_index]\n",
    "worst_attribute_percentile = new_student[0, worst_attribute_index]\n",
    "\n",
    "# Attribute names\n",
    "attribute_names = [\n",
    "    'Similarities', 'Vocabulary', 'Comprehension', 'Block Design', 'Visual Puzzles',\n",
    "    'Matrix Reasoning', 'Figure Weights', 'Digit Span', 'Picture Span', 'Coding',\n",
    "    'Symbol Search', 'Phonological Processing', 'Word Decoding', 'Reading Fluency',\n",
    "    'Reading Comprehension', 'Expressive Vocabulary', 'Receptive Vocabulary',\n",
    "    'Teacher Reports', 'Behavioral Observations'\n",
    "]\n",
    "\n",
    "# Define attribute descriptions and their implications\n",
    "attribute_descriptions = {\n",
    "    'Similarities': {\n",
    "        'description': 'Measures verbal reasoning and concept formation.',\n",
    "        'positive': 'Strong skills in verbal reasoning and forming concepts.',\n",
    "        'negative': 'Challenges in verbal reasoning and forming concepts.'\n",
    "    },\n",
    "    'Vocabulary': {\n",
    "        'description': 'Assesses word knowledge and verbal concept formation.',\n",
    "        'positive': 'Rich vocabulary and strong word knowledge.',\n",
    "        'negative': 'Limited vocabulary and struggles with word knowledge.'\n",
    "    },\n",
    "    'Comprehension': {\n",
    "        'description': 'Evaluates understanding of social situations and common sense.',\n",
    "        'positive': 'Good understanding of social situations and common sense.',\n",
    "        'negative': 'Difficulty understanding social situations and common sense.'\n",
    "    },\n",
    "    'Block Design': {\n",
    "        'description': 'Tests spatial visualization and problem-solving skills.',\n",
    "        'positive': 'Strong spatial visualization and problem-solving skills.',\n",
    "        'negative': 'Challenges with spatial visualization and problem-solving.'\n",
    "    },\n",
    "    'Visual Puzzles': {\n",
    "        'description': 'Measures nonverbal reasoning and problem-solving ability.',\n",
    "        'positive': 'Excellent nonverbal reasoning and problem-solving abilities.',\n",
    "        'negative': 'Struggles with nonverbal reasoning and problem-solving.'\n",
    "    },\n",
    "    'Matrix Reasoning': {\n",
    "        'description': 'Assesses visual-spatial reasoning and fluid intelligence.',\n",
    "        'positive': 'Strong visual-spatial reasoning and fluid intelligence.',\n",
    "        'negative': 'Difficulty with visual-spatial reasoning and fluid intelligence.'\n",
    "    },\n",
    "    'Figure Weights': {\n",
    "        'description': 'Tests quantitative reasoning and visual-perceptual skills.',\n",
    "        'positive': 'Good quantitative reasoning and visual-perceptual skills.',\n",
    "        'negative': 'Challenges in quantitative reasoning and visual-perceptual skills.'\n",
    "    },\n",
    "    'Digit Span': {\n",
    "        'description': 'Measures attention, concentration, and mental control.',\n",
    "        'positive': 'Strong attention, concentration, and mental control.',\n",
    "        'negative': 'Difficulty with attention, concentration, and mental control.'\n",
    "    },\n",
    "    'Picture Span': {\n",
    "        'description': 'Evaluates visual working memory.',\n",
    "        'positive': 'Strong visual working memory.',\n",
    "        'negative': 'Weak visual working memory.'\n",
    "    },\n",
    "    'Coding': {\n",
    "        'description': 'Tests processing speed and short-term visual memory.',\n",
    "        'positive': 'Fast processing speed and good short-term visual memory.',\n",
    "        'negative': 'Slow processing speed and poor short-term visual memory.'\n",
    "    },\n",
    "    'Symbol Search': {\n",
    "        'description': 'Measures processing speed and visual-motor coordination.',\n",
    "        'positive': 'Strong processing speed and visual-motor coordination.',\n",
    "        'negative': 'Challenges with processing speed and visual-motor coordination.'\n",
    "    },\n",
    "    'Phonological Processing': {\n",
    "        'description': 'Assesses phonemic awareness, a key skill for reading.',\n",
    "        'positive': 'Good phonemic awareness, aiding in reading skills.',\n",
    "        'negative': 'Weak phonemic awareness, hindering reading skills.'\n",
    "    },\n",
    "    'Word Decoding': {\n",
    "        'description': 'Tests ability to decode written words, essential for reading.',\n",
    "        'positive': 'Strong word decoding skills, essential for reading.',\n",
    "        'negative': 'Poor word decoding skills, affecting reading ability.'\n",
    "    },\n",
    "    'Reading Fluency': {\n",
    "        'description': 'Measures speed and accuracy of reading aloud.',\n",
    "        'positive': 'Fluent and accurate reading aloud.',\n",
    "        'negative': 'Slow and inaccurate reading aloud.'\n",
    "    },\n",
    "    'Reading Comprehension': {\n",
    "        'description': 'Assesses understanding of written text.',\n",
    "        'positive': 'Good understanding of written text.',\n",
    "        'negative': 'Difficulty understanding written text.'\n",
    "    },\n",
    "    'Expressive Vocabulary': {\n",
    "        'description': 'Evaluates ability to use words to convey meaning.',\n",
    "        'positive': 'Strong ability to use words effectively.',\n",
    "        'negative': 'Challenges in using words to convey meaning.'\n",
    "    },\n",
    "    'Receptive Vocabulary': {\n",
    "        'description': 'Measures understanding of spoken words.',\n",
    "        'positive': 'Good understanding of spoken words.',\n",
    "        'negative': 'Poor understanding of spoken words.'\n",
    "    },\n",
    "    'Teacher Reports': {\n",
    "        'description': 'Observations from teachers regarding student behavior and performance.',\n",
    "        'positive': 'Positive teacher reports indicating good behavior and performance.',\n",
    "        'negative': 'Negative teacher reports indicating issues with behavior and performance.'\n",
    "    },\n",
    "    'Behavioral Observations': {\n",
    "        'description': 'General behavioral observations during testing.',\n",
    "        'positive': 'Positive behavioral observations indicating good behavior and focus.',\n",
    "        'negative': 'Negative behavioral observations indicating issues with behavior and focus.'\n",
    "    }\n",
    "}\n",
    "\n",
    "# Best and worst attributes\n",
    "best_attribute = attribute_names[best_attribute_index]\n",
    "worst_attribute = attribute_names[worst_attribute_index]\n",
    "\n",
    "best_attribute_description = attribute_descriptions[best_attribute]['positive']\n",
    "worst_attribute_description = attribute_descriptions[worst_attribute]['negative']\n",
    "\n",
    "import plotly.graph_objects as go\n",
    "\n",
    "# Function to determine the color based on the percentile\n",
    "def get_color(value):\n",
    "    if value < 50:\n",
    "        return f\"rgb({255}, {int((value / 50) * 255)}, 0)\"\n",
    "    else:\n",
    "        return f\"rgb({int((1 - (value - 50) / 50) * 255)}, 255, 0)\"\n",
    "\n",
    "# Data for displaying results\n",
    "result_text = f\"Prediction: {prediction_label}<br>Overall Percentile: {overall_percentile:.2f}\"\n",
    "best_text = f\"Best Attribute: {best_attribute} (Percentile: {best_attribute_percentile:.2f})\"\n",
    "best_desc = best_attribute_description\n",
    "worst_text = f\"Worst Attribute: {worst_attribute} (Percentile: {worst_attribute_percentile:.2f})\"\n",
    "worst_desc = worst_attribute_description\n",
    "\n",
    "# Create a radial gauge for percentiles\n",
    "fig = go.Figure()\n",
    "\n",
    "# Create a continuous color gradient from red to green with less opacity\n",
    "gradient_steps = []\n",
    "for i in range(100):\n",
    "    if i < 50:\n",
    "        color = f\"rgba({255}, {int((i / 50) * 255)}, 0, 0.3)\"  # Adjust opacity to 0.3\n",
    "    else:\n",
    "        color = f\"rgba({int((1 - (i - 50) / 50) * 255)}, 255, 0, 0.3)\"  # Adjust opacity to 0.3\n",
    "    gradient_steps.append({'range': [i, i + 1], 'color': color})\n",
    "\n",
    "# Overall Percentile Gauge\n",
    "fig.add_trace(go.Indicator(\n",
    "    mode=\"gauge+number\",\n",
    "    value=overall_percentile,\n",
    "    title={'text': \"Overall Percentile\"},\n",
    "    gauge={\n",
    "        'axis': {'range': [0, 100]},\n",
    "        'bar': {'color': get_color(overall_percentile)},\n",
    "        'steps': gradient_steps\n",
    "    },\n",
    "    domain={'x': [0, 0.4], 'y': [0.5, 1]}\n",
    "))\n",
    "\n",
    "# Best Attribute Gauge\n",
    "fig.add_trace(go.Indicator(\n",
    "    mode=\"gauge+number\",\n",
    "    value=best_attribute_percentile,\n",
    "    title={'text': f\"Best Attribute: {best_attribute}\"},\n",
    "    gauge={\n",
    "        'axis': {'range': [0, 100]},\n",
    "        'bar': {'color': get_color(best_attribute_percentile)},\n",
    "        'steps': gradient_steps\n",
    "    },\n",
    "    domain={'x': [0.6, 1], 'y': [0.5, 1]}\n",
    "))\n",
    "\n",
    "# Worst Attribute Gauge\n",
    "fig.add_trace(go.Indicator(\n",
    "    mode=\"gauge+number\",\n",
    "    value=worst_attribute_percentile,\n",
    "    title={'text': f\"Worst Attribute: {worst_attribute}\"},\n",
    "    gauge={\n",
    "        'axis': {'range': [0, 100]},\n",
    "        'bar': {'color': get_color(worst_attribute_percentile)},\n",
    "        'steps': gradient_steps\n",
    "    },\n",
    "    domain={'x': [0.3, 0.7], 'y': [0, 0.4]}\n",
    "))\n",
    "\n",
    "fig.add_annotation(\n",
    "    x=1.01, y=0.6,\n",
    "    text=best_desc,\n",
    "    showarrow=False,\n",
    "    font=dict(size=12),\n",
    "    align=\"center\"\n",
    ")\n",
    "\n",
    "fig.add_annotation(\n",
    "    x=0.5, y=0.03,\n",
    "    text=worst_desc,\n",
    "    showarrow=False,\n",
    "    font=dict(size=12),\n",
    "    align=\"center\"\n",
    ")\n",
    "\n",
    "# Update layout\n",
    "fig.update_layout(\n",
    "    title='Student Performance Summary',\n",
    "    autosize=False,\n",
    "    width=1000,\n",
    "    height=800,\n",
    "    margin=dict(l=50, r=50, b=50, t=50),\n",
    ")\n",
    "fig.add_annotation(\n",
    "    x=0.001, y=1.01,\n",
    "    text=f\"<b>Dyslexia Diagnosis:</b> {prediction_label}\",\n",
    "    showarrow=False,\n",
    "    font=dict(size=14, color=\"black\"),\n",
    "    align=\"center\",\n",
    "    xref=\"paper\",\n",
    "    yref=\"paper\",\n",
    "    bordercolor=\"black\",\n",
    "    borderwidth=1,\n",
    "    borderpad=10,\n",
    "    bgcolor=\"lightyellow\",\n",
    "    opacity=0.8\n",
    ")\n",
    "# Show the plot\n",
    "fig.show()\n"
   ]
  },
  {
   "cell_type": "code",
   "execution_count": null,
   "id": "e3645b64",
   "metadata": {},
   "outputs": [],
   "source": []
  }
 ],
 "metadata": {
  "kernelspec": {
   "display_name": "Python 3 (ipykernel)",
   "language": "python",
   "name": "python3"
  },
  "language_info": {
   "codemirror_mode": {
    "name": "ipython",
    "version": 3
   },
   "file_extension": ".py",
   "mimetype": "text/x-python",
   "name": "python",
   "nbconvert_exporter": "python",
   "pygments_lexer": "ipython3",
   "version": "3.9.12"
  }
 },
 "nbformat": 4,
 "nbformat_minor": 5
}
